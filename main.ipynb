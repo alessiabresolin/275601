{
 "cells": [
  {
   "cell_type": "code",
   "execution_count": 160,
   "id": "83adb170",
   "metadata": {
    "id": "83adb170"
   },
   "outputs": [],
   "source": [
    "import numpy as np\n",
    "import pandas as pd\n",
    "import sklearn\n",
    "import matplotlib.pyplot as plt\n",
    "import seaborn as sns"
   ]
  },
  {
   "cell_type": "markdown",
   "id": "FaBAiL62RgU4",
   "metadata": {
    "id": "FaBAiL62RgU4"
   },
   "source": [
    "# **PROJECT WORK**"
   ]
  },
  {
   "cell_type": "markdown",
   "id": "XsFlcmzcRPlZ",
   "metadata": {
    "id": "XsFlcmzcRPlZ"
   },
   "source": [
    "Our job in order to promote the performance of our company's recommendation sytem begins by studying and analysing all the datasets."
   ]
  },
  {
   "cell_type": "markdown",
   "id": "82af8637",
   "metadata": {
    "id": "82af8637"
   },
   "source": [
    "# CUSTOMERS"
   ]
  },
  {
   "cell_type": "markdown",
   "id": "7f32111d",
   "metadata": {
    "id": "7f32111d"
   },
   "source": [
    "1) First of all, we import our dataset about customers. We have the unique identifier for each customer and their age. Furthermore, we know whether he or she is subscribed to the newsletter (1 if yes, 0 if no) and if he or she is part of the special club member.\n",
    "\n",
    "We have a look to how data are structured, printing the first five items and we get a general idea of the quantity of the data, using the shape function."
   ]
  },
  {
   "cell_type": "code",
   "execution_count": 161,
   "id": "d6de69e7",
   "metadata": {
    "colab": {
     "base_uri": "https://localhost:8080/",
     "height": 268
    },
    "id": "d6de69e7",
    "outputId": "fc96eae8-8b12-499b-b626-d3b7b55115dc"
   },
   "outputs": [
    {
     "data": {
      "text/html": [
       "<div>\n",
       "<style scoped>\n",
       "    .dataframe tbody tr th:only-of-type {\n",
       "        vertical-align: middle;\n",
       "    }\n",
       "\n",
       "    .dataframe tbody tr th {\n",
       "        vertical-align: top;\n",
       "    }\n",
       "\n",
       "    .dataframe thead th {\n",
       "        text-align: right;\n",
       "    }\n",
       "</style>\n",
       "<table border=\"1\" class=\"dataframe\">\n",
       "  <thead>\n",
       "    <tr style=\"text-align: right;\">\n",
       "      <th></th>\n",
       "      <th>customer_id</th>\n",
       "      <th>fashion_news</th>\n",
       "      <th>club_member</th>\n",
       "      <th>age</th>\n",
       "    </tr>\n",
       "  </thead>\n",
       "  <tbody>\n",
       "    <tr>\n",
       "      <th>0</th>\n",
       "      <td>0</td>\n",
       "      <td>1</td>\n",
       "      <td>1</td>\n",
       "      <td>44.0</td>\n",
       "    </tr>\n",
       "    <tr>\n",
       "      <th>1</th>\n",
       "      <td>1</td>\n",
       "      <td>1</td>\n",
       "      <td>1</td>\n",
       "      <td>33.0</td>\n",
       "    </tr>\n",
       "    <tr>\n",
       "      <th>2</th>\n",
       "      <td>2</td>\n",
       "      <td>0</td>\n",
       "      <td>0</td>\n",
       "      <td>29.0</td>\n",
       "    </tr>\n",
       "    <tr>\n",
       "      <th>3</th>\n",
       "      <td>3</td>\n",
       "      <td>0</td>\n",
       "      <td>0</td>\n",
       "      <td>21.0</td>\n",
       "    </tr>\n",
       "    <tr>\n",
       "      <th>4</th>\n",
       "      <td>4</td>\n",
       "      <td>0</td>\n",
       "      <td>0</td>\n",
       "      <td>23.0</td>\n",
       "    </tr>\n",
       "  </tbody>\n",
       "</table>\n",
       "</div>"
      ],
      "text/plain": [
       "   customer_id  fashion_news  club_member   age\n",
       "0            0             1            1  44.0\n",
       "1            1             1            1  33.0\n",
       "2            2             0            0  29.0\n",
       "3            3             0            0  21.0\n",
       "4            4             0            0  23.0"
      ]
     },
     "execution_count": 161,
     "metadata": {},
     "output_type": "execute_result"
    }
   ],
   "source": [
    "customers = pd.read_csv(\"recsys_customers.csv\")\n",
    "customers.head()"
   ]
  },
  {
   "cell_type": "code",
   "execution_count": 162,
   "id": "198bdeb3",
   "metadata": {
    "colab": {
     "base_uri": "https://localhost:8080/"
    },
    "id": "198bdeb3",
    "outputId": "005c930c-b393-45b7-f8a8-21b17df9a7c3"
   },
   "outputs": [
    {
     "data": {
      "text/plain": [
       "(41253, 4)"
      ]
     },
     "execution_count": 162,
     "metadata": {},
     "output_type": "execute_result"
    }
   ],
   "source": [
    "customers.shape"
   ]
  },
  {
   "cell_type": "markdown",
   "id": "4618a7aa",
   "metadata": {
    "id": "4618a7aa"
   },
   "source": [
    "2) We want to find the columns that may have NaN values in order to handle them."
   ]
  },
  {
   "cell_type": "code",
   "execution_count": 163,
   "id": "51d7797d",
   "metadata": {
    "colab": {
     "base_uri": "https://localhost:8080/"
    },
    "id": "51d7797d",
    "outputId": "ace08cea-92f4-41a7-9d6c-b6500fd3733e"
   },
   "outputs": [
    {
     "data": {
      "text/plain": [
       "customer_id       0\n",
       "fashion_news      0\n",
       "club_member       0\n",
       "age             133\n",
       "dtype: int64"
      ]
     },
     "execution_count": 163,
     "metadata": {},
     "output_type": "execute_result"
    }
   ],
   "source": [
    "customers.isnull().sum()"
   ]
  },
  {
   "cell_type": "markdown",
   "id": "78fd67f4",
   "metadata": {
    "id": "78fd67f4"
   },
   "source": [
    "Out of 4 columns, only 1 column has null values, which is age. \n",
    "\n",
    "To understand better the weight of these null values on the whole set, we can calculate their weight relative to the length of the dataset."
   ]
  },
  {
   "cell_type": "code",
   "execution_count": 164,
   "id": "1d0b05d6",
   "metadata": {
    "colab": {
     "base_uri": "https://localhost:8080/"
    },
    "id": "1d0b05d6",
    "outputId": "777e02e4-2d22-4b87-eb60-c0e7d10950d8"
   },
   "outputs": [
    {
     "name": "stdout",
     "output_type": "stream",
     "text": [
      "The null percentage of age is: 0.0032240079509369014\n"
     ]
    }
   ],
   "source": [
    "null_percentage= customers['age'].isnull().sum()/ len(customers)\n",
    "print('The null percentage of age is: ' + str(null_percentage))"
   ]
  },
  {
   "cell_type": "markdown",
   "id": "8a96e827",
   "metadata": {
    "id": "8a96e827"
   },
   "source": [
    "The percentage of missing values is quite low, around 0.32%. \n",
    "At this point we can choose to follow 2 paths:\n",
    "- Delete all the rows that contain a null value for age.\n",
    "- We can fill the null cells with the most common values for age.\n",
    "\n",
    "We decided to proceed by substituting all NaN values with the mode of the values of age, which is 26."
   ]
  },
  {
   "cell_type": "code",
   "execution_count": 165,
   "id": "1a5bcefa",
   "metadata": {
    "colab": {
     "base_uri": "https://localhost:8080/"
    },
    "id": "1a5bcefa",
    "outputId": "25f339f0-0b21-42ab-c2f8-4843db79eeee"
   },
   "outputs": [
    {
     "data": {
      "text/plain": [
       "0    26.0\n",
       "Name: age, dtype: float64"
      ]
     },
     "execution_count": 165,
     "metadata": {},
     "output_type": "execute_result"
    }
   ],
   "source": [
    "customers.age.mode()"
   ]
  },
  {
   "cell_type": "code",
   "execution_count": 166,
   "id": "a62c232e",
   "metadata": {
    "id": "a62c232e"
   },
   "outputs": [],
   "source": [
    "customers['age'] = customers['age'].fillna(customers['age'].mode()[0])"
   ]
  },
  {
   "cell_type": "markdown",
   "id": "3e6926c4",
   "metadata": {
    "id": "3e6926c4"
   },
   "source": [
    "3) As we want our data to be as readable and interpretable as possible, we want to convert the age type from float to integer."
   ]
  },
  {
   "cell_type": "code",
   "execution_count": 167,
   "id": "b9f9df77",
   "metadata": {
    "colab": {
     "base_uri": "https://localhost:8080/",
     "height": 268
    },
    "id": "b9f9df77",
    "outputId": "e795fc8d-f989-45ec-e7b7-83c22da5b9e9"
   },
   "outputs": [
    {
     "data": {
      "text/html": [
       "<div>\n",
       "<style scoped>\n",
       "    .dataframe tbody tr th:only-of-type {\n",
       "        vertical-align: middle;\n",
       "    }\n",
       "\n",
       "    .dataframe tbody tr th {\n",
       "        vertical-align: top;\n",
       "    }\n",
       "\n",
       "    .dataframe thead th {\n",
       "        text-align: right;\n",
       "    }\n",
       "</style>\n",
       "<table border=\"1\" class=\"dataframe\">\n",
       "  <thead>\n",
       "    <tr style=\"text-align: right;\">\n",
       "      <th></th>\n",
       "      <th>customer_id</th>\n",
       "      <th>fashion_news</th>\n",
       "      <th>club_member</th>\n",
       "      <th>age</th>\n",
       "    </tr>\n",
       "  </thead>\n",
       "  <tbody>\n",
       "    <tr>\n",
       "      <th>0</th>\n",
       "      <td>0</td>\n",
       "      <td>1</td>\n",
       "      <td>1</td>\n",
       "      <td>44</td>\n",
       "    </tr>\n",
       "    <tr>\n",
       "      <th>1</th>\n",
       "      <td>1</td>\n",
       "      <td>1</td>\n",
       "      <td>1</td>\n",
       "      <td>33</td>\n",
       "    </tr>\n",
       "    <tr>\n",
       "      <th>2</th>\n",
       "      <td>2</td>\n",
       "      <td>0</td>\n",
       "      <td>0</td>\n",
       "      <td>29</td>\n",
       "    </tr>\n",
       "    <tr>\n",
       "      <th>3</th>\n",
       "      <td>3</td>\n",
       "      <td>0</td>\n",
       "      <td>0</td>\n",
       "      <td>21</td>\n",
       "    </tr>\n",
       "    <tr>\n",
       "      <th>4</th>\n",
       "      <td>4</td>\n",
       "      <td>0</td>\n",
       "      <td>0</td>\n",
       "      <td>23</td>\n",
       "    </tr>\n",
       "  </tbody>\n",
       "</table>\n",
       "</div>"
      ],
      "text/plain": [
       "   customer_id  fashion_news  club_member  age\n",
       "0            0             1            1   44\n",
       "1            1             1            1   33\n",
       "2            2             0            0   29\n",
       "3            3             0            0   21\n",
       "4            4             0            0   23"
      ]
     },
     "execution_count": 167,
     "metadata": {},
     "output_type": "execute_result"
    }
   ],
   "source": [
    "customers[\"age\"] = customers[\"age\"].apply(lambda x: int(x))\n",
    "customers.head()"
   ]
  },
  {
   "cell_type": "markdown",
   "id": "0ce625c2",
   "metadata": {
    "id": "0ce625c2"
   },
   "source": [
    "4) To get a better insight of our data we want to divide customers in 5 categories depending on their age. \n",
    "\n",
    "To simplify things, we calculate the maximum and minimum of the age values and then we create our \"clusters\"."
   ]
  },
  {
   "cell_type": "code",
   "execution_count": 168,
   "id": "7267d2f0",
   "metadata": {
    "colab": {
     "base_uri": "https://localhost:8080/"
    },
    "id": "7267d2f0",
    "outputId": "664fc2c5-3990-4b84-8e31-e1f5ec0db3cb"
   },
   "outputs": [
    {
     "name": "stdout",
     "output_type": "stream",
     "text": [
      "The minimum age recorded is: 16\n",
      "The maximum age recorded is: 91\n"
     ]
    }
   ],
   "source": [
    "print('The minimum age recorded is: ' + str(min(customers[\"age\"])))\n",
    "print('The maximum age recorded is: ' + str(max(customers[\"age\"])))"
   ]
  },
  {
   "cell_type": "markdown",
   "id": "dc7268c1",
   "metadata": {
    "id": "dc7268c1"
   },
   "source": [
    "What are we doing? We assign each customer to the proper age category adding a column to the initial table."
   ]
  },
  {
   "cell_type": "code",
   "execution_count": 169,
   "id": "4481d298",
   "metadata": {
    "colab": {
     "base_uri": "https://localhost:8080/",
     "height": 483
    },
    "id": "4481d298",
    "outputId": "02fee1ad-578f-4f4c-99e4-89d1982603ee"
   },
   "outputs": [
    {
     "data": {
      "text/html": [
       "<div>\n",
       "<style scoped>\n",
       "    .dataframe tbody tr th:only-of-type {\n",
       "        vertical-align: middle;\n",
       "    }\n",
       "\n",
       "    .dataframe tbody tr th {\n",
       "        vertical-align: top;\n",
       "    }\n",
       "\n",
       "    .dataframe thead th {\n",
       "        text-align: right;\n",
       "    }\n",
       "</style>\n",
       "<table border=\"1\" class=\"dataframe\">\n",
       "  <thead>\n",
       "    <tr style=\"text-align: right;\">\n",
       "      <th></th>\n",
       "      <th>customer_id</th>\n",
       "      <th>fashion_news</th>\n",
       "      <th>club_member</th>\n",
       "      <th>age</th>\n",
       "      <th>age_group</th>\n",
       "    </tr>\n",
       "  </thead>\n",
       "  <tbody>\n",
       "    <tr>\n",
       "      <th>0</th>\n",
       "      <td>0</td>\n",
       "      <td>1</td>\n",
       "      <td>1</td>\n",
       "      <td>44</td>\n",
       "      <td>31-50</td>\n",
       "    </tr>\n",
       "    <tr>\n",
       "      <th>1</th>\n",
       "      <td>1</td>\n",
       "      <td>1</td>\n",
       "      <td>1</td>\n",
       "      <td>33</td>\n",
       "      <td>31-50</td>\n",
       "    </tr>\n",
       "    <tr>\n",
       "      <th>2</th>\n",
       "      <td>2</td>\n",
       "      <td>0</td>\n",
       "      <td>0</td>\n",
       "      <td>29</td>\n",
       "      <td>22-30</td>\n",
       "    </tr>\n",
       "    <tr>\n",
       "      <th>3</th>\n",
       "      <td>3</td>\n",
       "      <td>0</td>\n",
       "      <td>0</td>\n",
       "      <td>21</td>\n",
       "      <td>15-21</td>\n",
       "    </tr>\n",
       "    <tr>\n",
       "      <th>4</th>\n",
       "      <td>4</td>\n",
       "      <td>0</td>\n",
       "      <td>0</td>\n",
       "      <td>23</td>\n",
       "      <td>22-30</td>\n",
       "    </tr>\n",
       "    <tr>\n",
       "      <th>...</th>\n",
       "      <td>...</td>\n",
       "      <td>...</td>\n",
       "      <td>...</td>\n",
       "      <td>...</td>\n",
       "      <td>...</td>\n",
       "    </tr>\n",
       "    <tr>\n",
       "      <th>41248</th>\n",
       "      <td>41248</td>\n",
       "      <td>1</td>\n",
       "      <td>1</td>\n",
       "      <td>33</td>\n",
       "      <td>31-50</td>\n",
       "    </tr>\n",
       "    <tr>\n",
       "      <th>41249</th>\n",
       "      <td>41249</td>\n",
       "      <td>0</td>\n",
       "      <td>0</td>\n",
       "      <td>25</td>\n",
       "      <td>22-30</td>\n",
       "    </tr>\n",
       "    <tr>\n",
       "      <th>41250</th>\n",
       "      <td>41250</td>\n",
       "      <td>1</td>\n",
       "      <td>1</td>\n",
       "      <td>20</td>\n",
       "      <td>15-21</td>\n",
       "    </tr>\n",
       "    <tr>\n",
       "      <th>41251</th>\n",
       "      <td>41251</td>\n",
       "      <td>1</td>\n",
       "      <td>1</td>\n",
       "      <td>29</td>\n",
       "      <td>22-30</td>\n",
       "    </tr>\n",
       "    <tr>\n",
       "      <th>41252</th>\n",
       "      <td>41252</td>\n",
       "      <td>0</td>\n",
       "      <td>0</td>\n",
       "      <td>24</td>\n",
       "      <td>22-30</td>\n",
       "    </tr>\n",
       "  </tbody>\n",
       "</table>\n",
       "<p>41253 rows × 5 columns</p>\n",
       "</div>"
      ],
      "text/plain": [
       "       customer_id  fashion_news  club_member  age age_group\n",
       "0                0             1            1   44     31-50\n",
       "1                1             1            1   33     31-50\n",
       "2                2             0            0   29     22-30\n",
       "3                3             0            0   21     15-21\n",
       "4                4             0            0   23     22-30\n",
       "...            ...           ...          ...  ...       ...\n",
       "41248        41248             1            1   33     31-50\n",
       "41249        41249             0            0   25     22-30\n",
       "41250        41250             1            1   20     15-21\n",
       "41251        41251             1            1   29     22-30\n",
       "41252        41252             0            0   24     22-30\n",
       "\n",
       "[41253 rows x 5 columns]"
      ]
     },
     "execution_count": 169,
     "metadata": {},
     "output_type": "execute_result"
    }
   ],
   "source": [
    "bins = [15, 22, 31, 51, 70, 92]\n",
    "groups = ['15-21', '22-30', '31-50','51-69', '70+']\n",
    "\n",
    "customers['age_group'] = pd.cut(customers.age, bins, labels = groups, include_lowest=True)\n",
    "customers"
   ]
  },
  {
   "cell_type": "markdown",
   "id": "bc3fc118",
   "metadata": {
    "id": "bc3fc118"
   },
   "source": [
    "After that we have categorized each customer, we can start to count how many members belong to each category. We do this using the group by function. Obviously, the sum of the number of members in each category is equal to the length of the dataset."
   ]
  },
  {
   "cell_type": "code",
   "execution_count": 170,
   "id": "4852e405",
   "metadata": {
    "colab": {
     "base_uri": "https://localhost:8080/"
    },
    "id": "4852e405",
    "outputId": "74c2b30d-aaf2-475b-90e8-dfe1a02fedc1"
   },
   "outputs": [
    {
     "data": {
      "text/plain": [
       "age_group\n",
       "15-21     4906\n",
       "22-30    16964\n",
       "31-50    13288\n",
       "51-69     5922\n",
       "70+        173\n",
       "dtype: int64"
      ]
     },
     "execution_count": 170,
     "metadata": {},
     "output_type": "execute_result"
    }
   ],
   "source": [
    "age_group_counts = customers.groupby('age_group').size()\n",
    "age_group_counts"
   ]
  },
  {
   "cell_type": "code",
   "execution_count": 171,
   "id": "6ec98555",
   "metadata": {
    "colab": {
     "base_uri": "https://localhost:8080/",
     "height": 1000
    },
    "id": "6ec98555",
    "outputId": "e91d63b6-0fd9-44b5-c47a-c75743b02af2"
   },
   "outputs": [
    {
     "data": {
      "text/plain": [
       "\" same as doing\\nfrom collections import Counter \\nage_group_counts2 = Counter(customers['age_group'])\\nage_group_counts2 \""
      ]
     },
     "execution_count": 171,
     "metadata": {},
     "output_type": "execute_result"
    }
   ],
   "source": [
    "''' same as doing\n",
    "from collections import Counter \n",
    "age_group_counts2 = Counter(customers['age_group'])\n",
    "age_group_counts2 '''"
   ]
  },
  {
   "cell_type": "markdown",
   "id": "e50a616c",
   "metadata": {
    "id": "e50a616c"
   },
   "source": [
    "5) We are know ready to plot our age groups into a barplot to see the hetereogeneity of our dataset. In fact, as we expected, there are much more younger customers with respect to older ones."
   ]
  },
  {
   "cell_type": "code",
   "execution_count": 172,
   "id": "80a6499f",
   "metadata": {
    "colab": {
     "base_uri": "https://localhost:8080/",
     "height": 285
    },
    "id": "80a6499f",
    "outputId": "aecf67ad-ba21-4430-baf3-36bf301fc628"
   },
   "outputs": [
    {
     "data": {
      "text/html": [
       "<div>\n",
       "<style scoped>\n",
       "    .dataframe tbody tr th:only-of-type {\n",
       "        vertical-align: middle;\n",
       "    }\n",
       "\n",
       "    .dataframe tbody tr th {\n",
       "        vertical-align: top;\n",
       "    }\n",
       "\n",
       "    .dataframe thead th {\n",
       "        text-align: right;\n",
       "    }\n",
       "</style>\n",
       "<table border=\"1\" class=\"dataframe\">\n",
       "  <thead>\n",
       "    <tr style=\"text-align: right;\">\n",
       "      <th></th>\n",
       "      <th>Age Group</th>\n",
       "      <th>Count</th>\n",
       "    </tr>\n",
       "  </thead>\n",
       "  <tbody>\n",
       "    <tr>\n",
       "      <th>0</th>\n",
       "      <td>15-21</td>\n",
       "      <td>4906</td>\n",
       "    </tr>\n",
       "    <tr>\n",
       "      <th>1</th>\n",
       "      <td>22-30</td>\n",
       "      <td>16964</td>\n",
       "    </tr>\n",
       "    <tr>\n",
       "      <th>2</th>\n",
       "      <td>31-50</td>\n",
       "      <td>13288</td>\n",
       "    </tr>\n",
       "    <tr>\n",
       "      <th>3</th>\n",
       "      <td>51-69</td>\n",
       "      <td>5922</td>\n",
       "    </tr>\n",
       "    <tr>\n",
       "      <th>4</th>\n",
       "      <td>70+</td>\n",
       "      <td>173</td>\n",
       "    </tr>\n",
       "  </tbody>\n",
       "</table>\n",
       "</div>"
      ],
      "text/plain": [
       "  Age Group  Count\n",
       "0     15-21   4906\n",
       "1     22-30  16964\n",
       "2     31-50  13288\n",
       "3     51-69   5922\n",
       "4       70+    173"
      ]
     },
     "execution_count": 172,
     "metadata": {},
     "output_type": "execute_result"
    }
   ],
   "source": [
    "age_group_counts_df = pd.DataFrame([age_group_counts]).T.reset_index()\n",
    "age_group_counts_df.columns = ['Age Group', 'Count']\n",
    "age_group_counts_df"
   ]
  },
  {
   "cell_type": "markdown",
   "id": "ba871b0c",
   "metadata": {
    "id": "ba871b0c"
   },
   "source": [
    "6) We can plot our results to better capture the age distribution of our data. In our dataset there are much more people under 50 years old with respect to people over 50.\n",
    "The percentage of people below 50 years old is 85.2%!!!"
   ]
  },
  {
   "cell_type": "code",
   "execution_count": 173,
   "id": "8af46854",
   "metadata": {
    "colab": {
     "base_uri": "https://localhost:8080/"
    },
    "id": "8af46854",
    "outputId": "ddb926f3-4dd7-44e0-c5b1-73c6bd14751a"
   },
   "outputs": [
    {
     "name": "stdout",
     "output_type": "stream",
     "text": [
      "The percentage of people under 50 years old is: 0.852253169466463\n"
     ]
    }
   ],
   "source": [
    "people_under_50 = age_group_counts[0]+age_group_counts[1]+age_group_counts[2]\n",
    "people_over_50 = age_group_counts[3]+age_group_counts[4]\n",
    "total_number_customers = people_under_50 + people_over_50\n",
    "print(f'The percentage of people under 50 years old is: {( people_under_50 / total_number_customers) }')"
   ]
  },
  {
   "cell_type": "code",
   "execution_count": 174,
   "id": "176e7bda",
   "metadata": {
    "colab": {
     "base_uri": "https://localhost:8080/",
     "height": 54
    },
    "id": "176e7bda",
    "outputId": "dcd3f433-9a5a-41bf-ca25-f735bffb424b"
   },
   "outputs": [
    {
     "data": {
      "image/png": "[encoded data removed]",
      "text/plain": [
       "<Figure size 1000x500 with 1 Axes>"
      ]
     },
     "metadata": {},
     "output_type": "display_data"
    }
   ],
   "source": [
    "plt.figure(figsize=(10,5))\n",
    "sns.barplot(x='Age Group', y='Count', data=age_group_counts_df)\n",
    "plt.xticks(rotation=90)\n",
    "plt.show()"
   ]
  },
  {
   "cell_type": "markdown",
   "id": "8b2e077b",
   "metadata": {
    "id": "8b2e077b"
   },
   "source": [
    "7) Actually, it would be better for us also to capture how many people inside each age group have agreed to be part in the member club and how many people have activated the fashion news."
   ]
  },
  {
   "cell_type": "markdown",
   "id": "aade4f73",
   "metadata": {
    "id": "aade4f73"
   },
   "source": [
    "We know that both columns of 'club member' and 'fashion news' have two possible values:\n",
    "- 1 if the customer is subscribed to the club member or to fashion news\n",
    "- 0 if the customer is not subscribed"
   ]
  },
  {
   "cell_type": "markdown",
   "id": "b6e1d244",
   "metadata": {
    "id": "b6e1d244"
   },
   "source": [
    "#### **Club membership**"
   ]
  },
  {
   "cell_type": "code",
   "execution_count": 175,
   "id": "043ed9b0",
   "metadata": {
    "colab": {
     "base_uri": "https://localhost:8080/"
    },
    "id": "043ed9b0",
    "outputId": "67c54206-5359-443c-b4de-2a100348fb34"
   },
   "outputs": [
    {
     "data": {
      "text/plain": [
       "Counter({1: 17975, 0: 23278})"
      ]
     },
     "execution_count": 175,
     "metadata": {},
     "output_type": "execute_result"
    }
   ],
   "source": [
    "from collections import Counter\n",
    "\n",
    "club_general = Counter(customers['club_member'])\n",
    "club_general"
   ]
  },
  {
   "cell_type": "markdown",
   "id": "cfb9807f",
   "metadata": {
    "id": "cfb9807f"
   },
   "source": [
    "We create a dataframe that contains the two options (being subscribed or not being subscribed) and we count how many customers there are in each of them."
   ]
  },
  {
   "cell_type": "code",
   "execution_count": 176,
   "id": "23e4c392",
   "metadata": {
    "colab": {
     "base_uri": "https://localhost:8080/",
     "height": 226
    },
    "id": "23e4c392",
    "outputId": "60475b31-c203-487e-9062-8e6900252b59"
   },
   "outputs": [
    {
     "data": {
      "text/html": [
       "<div>\n",
       "<style scoped>\n",
       "    .dataframe tbody tr th:only-of-type {\n",
       "        vertical-align: middle;\n",
       "    }\n",
       "\n",
       "    .dataframe tbody tr th {\n",
       "        vertical-align: top;\n",
       "    }\n",
       "\n",
       "    .dataframe thead th {\n",
       "        text-align: right;\n",
       "    }\n",
       "</style>\n",
       "<table border=\"1\" class=\"dataframe\">\n",
       "  <thead>\n",
       "    <tr style=\"text-align: right;\">\n",
       "      <th></th>\n",
       "      <th>Premium Club (1=yes, 0=no)</th>\n",
       "      <th>Count</th>\n",
       "    </tr>\n",
       "  </thead>\n",
       "  <tbody>\n",
       "    <tr>\n",
       "      <th>0</th>\n",
       "      <td>1</td>\n",
       "      <td>17975</td>\n",
       "    </tr>\n",
       "    <tr>\n",
       "      <th>1</th>\n",
       "      <td>0</td>\n",
       "      <td>23278</td>\n",
       "    </tr>\n",
       "  </tbody>\n",
       "</table>\n",
       "</div>"
      ],
      "text/plain": [
       "   Premium Club (1=yes, 0=no)  Count\n",
       "0                           1  17975\n",
       "1                           0  23278"
      ]
     },
     "execution_count": 176,
     "metadata": {},
     "output_type": "execute_result"
    }
   ],
   "source": [
    "club_general_df = pd.DataFrame([club_general]).T.reset_index()\n",
    "club_general_df.columns = ['Premium Club (1=yes, 0=no)', 'Count']\n",
    "club_general_df"
   ]
  },
  {
   "cell_type": "markdown",
   "id": "1e683cc8",
   "metadata": {
    "id": "1e683cc8"
   },
   "source": [
    "We plot the graph of the dataframe. However it does not tell us a lot because we do not know to which group age each customer belongs. Therefore, we might decide to create a more accurate dataframe which always categorizes customers in two classes (subscribed or not subscribed) but at the same time, clusters the clients also by age group. In this way we can capture more information."
   ]
  },
  {
   "cell_type": "code",
   "execution_count": 177,
   "id": "3c0f1f97",
   "metadata": {
    "colab": {
     "base_uri": "https://localhost:8080/",
     "height": 54
    },
    "id": "3c0f1f97",
    "outputId": "38cf1d02-56c3-49be-ef78-45c8952656c4"
   },
   "outputs": [
    {
     "data": {
      "image/png": "[encoded data removed]",
      "text/plain": [
       "<Figure size 1000x500 with 1 Axes>"
      ]
     },
     "metadata": {},
     "output_type": "display_data"
    }
   ],
   "source": [
    "plt.figure(figsize=(10,5))\n",
    "sns.barplot(x='Premium Club (1=yes, 0=no)', y='Count', data=club_general_df)\n",
    "plt.xticks(rotation=90)\n",
    "plt.show()"
   ]
  },
  {
   "cell_type": "code",
   "execution_count": 178,
   "id": "c1fc4316",
   "metadata": {
    "colab": {
     "base_uri": "https://localhost:8080/",
     "height": 423
    },
    "id": "c1fc4316",
    "outputId": "a0e57cc5-914d-4bd3-ff92-229dcbadd0ab"
   },
   "outputs": [
    {
     "data": {
      "text/html": [
       "<div>\n",
       "<style scoped>\n",
       "    .dataframe tbody tr th:only-of-type {\n",
       "        vertical-align: middle;\n",
       "    }\n",
       "\n",
       "    .dataframe tbody tr th {\n",
       "        vertical-align: top;\n",
       "    }\n",
       "\n",
       "    .dataframe thead th {\n",
       "        text-align: right;\n",
       "    }\n",
       "</style>\n",
       "<table border=\"1\" class=\"dataframe\">\n",
       "  <thead>\n",
       "    <tr style=\"text-align: right;\">\n",
       "      <th></th>\n",
       "      <th>age_group</th>\n",
       "      <th>club_member</th>\n",
       "      <th>count</th>\n",
       "    </tr>\n",
       "  </thead>\n",
       "  <tbody>\n",
       "    <tr>\n",
       "      <th>0</th>\n",
       "      <td>15-21</td>\n",
       "      <td>0</td>\n",
       "      <td>2479</td>\n",
       "    </tr>\n",
       "    <tr>\n",
       "      <th>1</th>\n",
       "      <td>15-21</td>\n",
       "      <td>1</td>\n",
       "      <td>2427</td>\n",
       "    </tr>\n",
       "    <tr>\n",
       "      <th>2</th>\n",
       "      <td>22-30</td>\n",
       "      <td>0</td>\n",
       "      <td>10441</td>\n",
       "    </tr>\n",
       "    <tr>\n",
       "      <th>3</th>\n",
       "      <td>22-30</td>\n",
       "      <td>1</td>\n",
       "      <td>6523</td>\n",
       "    </tr>\n",
       "    <tr>\n",
       "      <th>4</th>\n",
       "      <td>31-50</td>\n",
       "      <td>0</td>\n",
       "      <td>7414</td>\n",
       "    </tr>\n",
       "    <tr>\n",
       "      <th>5</th>\n",
       "      <td>31-50</td>\n",
       "      <td>1</td>\n",
       "      <td>5874</td>\n",
       "    </tr>\n",
       "    <tr>\n",
       "      <th>6</th>\n",
       "      <td>51-69</td>\n",
       "      <td>0</td>\n",
       "      <td>2876</td>\n",
       "    </tr>\n",
       "    <tr>\n",
       "      <th>7</th>\n",
       "      <td>51-69</td>\n",
       "      <td>1</td>\n",
       "      <td>3046</td>\n",
       "    </tr>\n",
       "    <tr>\n",
       "      <th>8</th>\n",
       "      <td>70+</td>\n",
       "      <td>0</td>\n",
       "      <td>68</td>\n",
       "    </tr>\n",
       "    <tr>\n",
       "      <th>9</th>\n",
       "      <td>70+</td>\n",
       "      <td>1</td>\n",
       "      <td>105</td>\n",
       "    </tr>\n",
       "  </tbody>\n",
       "</table>\n",
       "</div>"
      ],
      "text/plain": [
       "  age_group  club_member  count\n",
       "0     15-21            0   2479\n",
       "1     15-21            1   2427\n",
       "2     22-30            0  10441\n",
       "3     22-30            1   6523\n",
       "4     31-50            0   7414\n",
       "5     31-50            1   5874\n",
       "6     51-69            0   2876\n",
       "7     51-69            1   3046\n",
       "8       70+            0     68\n",
       "9       70+            1    105"
      ]
     },
     "execution_count": 178,
     "metadata": {},
     "output_type": "execute_result"
    }
   ],
   "source": [
    "club_member_df = customers.groupby(['age_group', 'club_member']).count().reset_index()\n",
    "club_member_df = club_member_df.drop(columns=['fashion_news', 'age'])\n",
    "club_member_df.columns = ['age_group', 'club_member', 'count']\n",
    "club_member_df"
   ]
  },
  {
   "cell_type": "markdown",
   "id": "91e78484",
   "metadata": {
    "id": "91e78484"
   },
   "source": [
    "On average there are more people which are not subscribed to the premium club. However, most of the people who are subscribed are youngsters. For what concerns elderly people, their percentage of influence in the dataset is very small."
   ]
  },
  {
   "cell_type": "code",
   "execution_count": 179,
   "id": "f9f6abe7",
   "metadata": {
    "colab": {
     "base_uri": "https://localhost:8080/",
     "height": 54
    },
    "id": "f9f6abe7",
    "outputId": "5e5db8c8-5d9a-4dcd-ee37-8a9547f69b27"
   },
   "outputs": [
    {
     "data": {
      "image/png": "[encoded data removed]",
      "text/plain": [
       "<Figure size 1000x500 with 1 Axes>"
      ]
     },
     "metadata": {},
     "output_type": "display_data"
    }
   ],
   "source": [
    "plt.figure(figsize=(10,5))\n",
    "sns.barplot(x='age_group', y='count', hue='club_member', data=club_member_df)\n",
    "plt.xticks(rotation=90)\n",
    "plt.show()"
   ]
  },
  {
   "cell_type": "markdown",
   "id": "cb185585",
   "metadata": {
    "id": "cb185585"
   },
   "source": [
    "#### **Fashion news**"
   ]
  },
  {
   "cell_type": "code",
   "execution_count": 180,
   "id": "de21f5e4",
   "metadata": {
    "colab": {
     "base_uri": "https://localhost:8080/",
     "height": 226
    },
    "id": "de21f5e4",
    "outputId": "a3c14168-6faf-4e72-9bb4-0c507c753391"
   },
   "outputs": [
    {
     "data": {
      "text/html": [
       "<div>\n",
       "<style scoped>\n",
       "    .dataframe tbody tr th:only-of-type {\n",
       "        vertical-align: middle;\n",
       "    }\n",
       "\n",
       "    .dataframe tbody tr th {\n",
       "        vertical-align: top;\n",
       "    }\n",
       "\n",
       "    .dataframe thead th {\n",
       "        text-align: right;\n",
       "    }\n",
       "</style>\n",
       "<table border=\"1\" class=\"dataframe\">\n",
       "  <thead>\n",
       "    <tr style=\"text-align: right;\">\n",
       "      <th></th>\n",
       "      <th>Fashion News (1=yes, 0=no)</th>\n",
       "      <th>Count</th>\n",
       "    </tr>\n",
       "  </thead>\n",
       "  <tbody>\n",
       "    <tr>\n",
       "      <th>0</th>\n",
       "      <td>1</td>\n",
       "      <td>18213</td>\n",
       "    </tr>\n",
       "    <tr>\n",
       "      <th>1</th>\n",
       "      <td>0</td>\n",
       "      <td>23040</td>\n",
       "    </tr>\n",
       "  </tbody>\n",
       "</table>\n",
       "</div>"
      ],
      "text/plain": [
       "   Fashion News (1=yes, 0=no)  Count\n",
       "0                           1  18213\n",
       "1                           0  23040"
      ]
     },
     "execution_count": 180,
     "metadata": {},
     "output_type": "execute_result"
    }
   ],
   "source": [
    "from collections import Counter\n",
    "fashion_general = Counter(customers['fashion_news'])\n",
    "\n",
    "fashion_general_df = pd.DataFrame([fashion_general]).T.reset_index()\n",
    "fashion_general_df.columns = ['Fashion News (1=yes, 0=no)', 'Count']\n",
    "fashion_general_df"
   ]
  },
  {
   "cell_type": "code",
   "execution_count": 181,
   "id": "7da41239",
   "metadata": {
    "colab": {
     "base_uri": "https://localhost:8080/",
     "height": 54
    },
    "id": "7da41239",
    "outputId": "d3ef788e-5630-4f8f-9699-0cbbee1fea68"
   },
   "outputs": [
    {
     "data": {
      "image/png": "[encoded data removed]",
      "text/plain": [
       "<Figure size 1000x500 with 1 Axes>"
      ]
     },
     "metadata": {},
     "output_type": "display_data"
    }
   ],
   "source": [
    "plt.figure(figsize=(10,5))\n",
    "sns.barplot(x='Fashion News (1=yes, 0=no)', y='Count', data=fashion_general_df)\n",
    "plt.xticks(rotation=90)\n",
    "plt.show()"
   ]
  },
  {
   "cell_type": "code",
   "execution_count": 182,
   "id": "f9009e74",
   "metadata": {
    "colab": {
     "base_uri": "https://localhost:8080/",
     "height": 423
    },
    "id": "f9009e74",
    "outputId": "fde7ae90-72d9-41a5-8c9d-38a5bca49646"
   },
   "outputs": [
    {
     "data": {
      "text/html": [
       "<div>\n",
       "<style scoped>\n",
       "    .dataframe tbody tr th:only-of-type {\n",
       "        vertical-align: middle;\n",
       "    }\n",
       "\n",
       "    .dataframe tbody tr th {\n",
       "        vertical-align: top;\n",
       "    }\n",
       "\n",
       "    .dataframe thead th {\n",
       "        text-align: right;\n",
       "    }\n",
       "</style>\n",
       "<table border=\"1\" class=\"dataframe\">\n",
       "  <thead>\n",
       "    <tr style=\"text-align: right;\">\n",
       "      <th></th>\n",
       "      <th>age_group</th>\n",
       "      <th>fashion_news</th>\n",
       "      <th>count</th>\n",
       "    </tr>\n",
       "  </thead>\n",
       "  <tbody>\n",
       "    <tr>\n",
       "      <th>0</th>\n",
       "      <td>15-21</td>\n",
       "      <td>0</td>\n",
       "      <td>2420</td>\n",
       "    </tr>\n",
       "    <tr>\n",
       "      <th>1</th>\n",
       "      <td>15-21</td>\n",
       "      <td>1</td>\n",
       "      <td>2486</td>\n",
       "    </tr>\n",
       "    <tr>\n",
       "      <th>2</th>\n",
       "      <td>22-30</td>\n",
       "      <td>0</td>\n",
       "      <td>10351</td>\n",
       "    </tr>\n",
       "    <tr>\n",
       "      <th>3</th>\n",
       "      <td>22-30</td>\n",
       "      <td>1</td>\n",
       "      <td>6613</td>\n",
       "    </tr>\n",
       "    <tr>\n",
       "      <th>4</th>\n",
       "      <td>31-50</td>\n",
       "      <td>0</td>\n",
       "      <td>7354</td>\n",
       "    </tr>\n",
       "    <tr>\n",
       "      <th>5</th>\n",
       "      <td>31-50</td>\n",
       "      <td>1</td>\n",
       "      <td>5934</td>\n",
       "    </tr>\n",
       "    <tr>\n",
       "      <th>6</th>\n",
       "      <td>51-69</td>\n",
       "      <td>0</td>\n",
       "      <td>2847</td>\n",
       "    </tr>\n",
       "    <tr>\n",
       "      <th>7</th>\n",
       "      <td>51-69</td>\n",
       "      <td>1</td>\n",
       "      <td>3075</td>\n",
       "    </tr>\n",
       "    <tr>\n",
       "      <th>8</th>\n",
       "      <td>70+</td>\n",
       "      <td>0</td>\n",
       "      <td>68</td>\n",
       "    </tr>\n",
       "    <tr>\n",
       "      <th>9</th>\n",
       "      <td>70+</td>\n",
       "      <td>1</td>\n",
       "      <td>105</td>\n",
       "    </tr>\n",
       "  </tbody>\n",
       "</table>\n",
       "</div>"
      ],
      "text/plain": [
       "  age_group  fashion_news  count\n",
       "0     15-21             0   2420\n",
       "1     15-21             1   2486\n",
       "2     22-30             0  10351\n",
       "3     22-30             1   6613\n",
       "4     31-50             0   7354\n",
       "5     31-50             1   5934\n",
       "6     51-69             0   2847\n",
       "7     51-69             1   3075\n",
       "8       70+             0     68\n",
       "9       70+             1    105"
      ]
     },
     "execution_count": 182,
     "metadata": {},
     "output_type": "execute_result"
    }
   ],
   "source": [
    "fashion_news_df = customers.groupby(['age_group', 'fashion_news']).count().reset_index()\n",
    "fashion_news_df = fashion_news_df.drop(columns=['club_member', 'age'])\n",
    "fashion_news_df.columns = ['age_group', 'fashion_news', 'count']\n",
    "fashion_news_df"
   ]
  },
  {
   "cell_type": "markdown",
   "id": "e05834c3",
   "metadata": {
    "id": "e05834c3"
   },
   "source": [
    "From the graph underneath, we can see again that yougsters compose the vast majority of customers who are connected to fashion news. However, the probability that a person over 50 is connected to fashion news is higher to not being connected with respect to younger people."
   ]
  },
  {
   "cell_type": "code",
   "execution_count": 183,
   "id": "3483862b",
   "metadata": {
    "colab": {
     "base_uri": "https://localhost:8080/",
     "height": 54
    },
    "id": "3483862b",
    "outputId": "8a5887d3-6ac5-45d1-a567-341cf99b2e0b"
   },
   "outputs": [
    {
     "data": {
      "image/png": "[encoded data removed]",
      "text/plain": [
       "<Figure size 1000x500 with 1 Axes>"
      ]
     },
     "metadata": {},
     "output_type": "display_data"
    }
   ],
   "source": [
    "plt.figure(figsize=(10,5))\n",
    "sns.barplot(x='age_group', y='count', hue='fashion_news', data=fashion_news_df)\n",
    "plt.xticks(rotation=90)\n",
    "plt.show()"
   ]
  },
  {
   "cell_type": "markdown",
   "id": "cd63dd46",
   "metadata": {
    "id": "cd63dd46"
   },
   "source": [
    "As a conclusion, what useful information can we use for our recommendation system?\n",
    "- Data of customers in the cutomers' dataset is not very homogeneous (85% of the population is below 50 years old);\n",
    "- People over 50 years old have an higher probability to be subscribed to fashion news and member club with respect to people under 50 years old;\n",
    "- In general there are more people who are not into these activities."
   ]
  },
  {
   "cell_type": "markdown",
   "id": "10cc37d7",
   "metadata": {
    "id": "10cc37d7"
   },
   "source": [
    "# ARTICLES"
   ]
  },
  {
   "cell_type": "markdown",
   "id": "731021a8",
   "metadata": {
    "id": "731021a8"
   },
   "source": [
    "In the second part of our data analysis, we will study the different articles that our company sells. The final aim is to be able to understand when different articles are similiar or different and therefore, when to suggest one of them basing on the previous orders. \n",
    "Let's take a look to this dataset:"
   ]
  },
  {
   "cell_type": "code",
   "execution_count": 184,
   "id": "4661126c",
   "metadata": {
    "colab": {
     "base_uri": "https://localhost:8080/",
     "height": 467
    },
    "id": "4661126c",
    "outputId": "58acb25f-a4ae-4efe-ee00-4f52b92db5c2"
   },
   "outputs": [
    {
     "data": {
      "text/html": [
       "<div>\n",
       "<style scoped>\n",
       "    .dataframe tbody tr th:only-of-type {\n",
       "        vertical-align: middle;\n",
       "    }\n",
       "\n",
       "    .dataframe tbody tr th {\n",
       "        vertical-align: top;\n",
       "    }\n",
       "\n",
       "    .dataframe thead th {\n",
       "        text-align: right;\n",
       "    }\n",
       "</style>\n",
       "<table border=\"1\" class=\"dataframe\">\n",
       "  <thead>\n",
       "    <tr style=\"text-align: right;\">\n",
       "      <th></th>\n",
       "      <th>article_id</th>\n",
       "      <th>prod_name</th>\n",
       "      <th>product_type</th>\n",
       "      <th>product_type_name</th>\n",
       "      <th>product_group_name</th>\n",
       "      <th>colour_group</th>\n",
       "      <th>colour_group_name</th>\n",
       "      <th>perceived_colour_value</th>\n",
       "      <th>perceived_colour_value_name</th>\n",
       "      <th>perceived_colour_master</th>\n",
       "      <th>...</th>\n",
       "      <th>department</th>\n",
       "      <th>department_name</th>\n",
       "      <th>index</th>\n",
       "      <th>index_name</th>\n",
       "      <th>index_group</th>\n",
       "      <th>index_group_name</th>\n",
       "      <th>section</th>\n",
       "      <th>section_name</th>\n",
       "      <th>garment_group</th>\n",
       "      <th>garment_group_name</th>\n",
       "    </tr>\n",
       "  </thead>\n",
       "  <tbody>\n",
       "    <tr>\n",
       "      <th>0</th>\n",
       "      <td>0</td>\n",
       "      <td>20 den 1p Stockings</td>\n",
       "      <td>304</td>\n",
       "      <td>Underwear Tights</td>\n",
       "      <td>Socks &amp; Tights</td>\n",
       "      <td>9</td>\n",
       "      <td>Black</td>\n",
       "      <td>4</td>\n",
       "      <td>Dark</td>\n",
       "      <td>5</td>\n",
       "      <td>...</td>\n",
       "      <td>3608</td>\n",
       "      <td>Tights basic</td>\n",
       "      <td>B</td>\n",
       "      <td>Lingeries/Tights</td>\n",
       "      <td>1</td>\n",
       "      <td>Ladieswear</td>\n",
       "      <td>62</td>\n",
       "      <td>Womens Nightwear, Socks &amp; Tigh</td>\n",
       "      <td>1021</td>\n",
       "      <td>Socks and Tights</td>\n",
       "    </tr>\n",
       "    <tr>\n",
       "      <th>1</th>\n",
       "      <td>1</td>\n",
       "      <td>Shape Up 30 den 1p Tights</td>\n",
       "      <td>273</td>\n",
       "      <td>Leggings/Tights</td>\n",
       "      <td>Garment Lower body</td>\n",
       "      <td>9</td>\n",
       "      <td>Black</td>\n",
       "      <td>4</td>\n",
       "      <td>Dark</td>\n",
       "      <td>5</td>\n",
       "      <td>...</td>\n",
       "      <td>3608</td>\n",
       "      <td>Tights basic</td>\n",
       "      <td>B</td>\n",
       "      <td>Lingeries/Tights</td>\n",
       "      <td>1</td>\n",
       "      <td>Ladieswear</td>\n",
       "      <td>62</td>\n",
       "      <td>Womens Nightwear, Socks &amp; Tigh</td>\n",
       "      <td>1021</td>\n",
       "      <td>Socks and Tights</td>\n",
       "    </tr>\n",
       "    <tr>\n",
       "      <th>2</th>\n",
       "      <td>2</td>\n",
       "      <td>Support 40 den 1p Tights</td>\n",
       "      <td>304</td>\n",
       "      <td>Underwear Tights</td>\n",
       "      <td>Socks &amp; Tights</td>\n",
       "      <td>9</td>\n",
       "      <td>Black</td>\n",
       "      <td>4</td>\n",
       "      <td>Dark</td>\n",
       "      <td>5</td>\n",
       "      <td>...</td>\n",
       "      <td>3608</td>\n",
       "      <td>Tights basic</td>\n",
       "      <td>B</td>\n",
       "      <td>Lingeries/Tights</td>\n",
       "      <td>1</td>\n",
       "      <td>Ladieswear</td>\n",
       "      <td>62</td>\n",
       "      <td>Womens Nightwear, Socks &amp; Tigh</td>\n",
       "      <td>1021</td>\n",
       "      <td>Socks and Tights</td>\n",
       "    </tr>\n",
       "    <tr>\n",
       "      <th>3</th>\n",
       "      <td>3</td>\n",
       "      <td>200 den 1p Tights</td>\n",
       "      <td>304</td>\n",
       "      <td>Underwear Tights</td>\n",
       "      <td>Socks &amp; Tights</td>\n",
       "      <td>9</td>\n",
       "      <td>Black</td>\n",
       "      <td>4</td>\n",
       "      <td>Dark</td>\n",
       "      <td>5</td>\n",
       "      <td>...</td>\n",
       "      <td>3608</td>\n",
       "      <td>Tights basic</td>\n",
       "      <td>B</td>\n",
       "      <td>Lingeries/Tights</td>\n",
       "      <td>1</td>\n",
       "      <td>Ladieswear</td>\n",
       "      <td>62</td>\n",
       "      <td>Womens Nightwear, Socks &amp; Tigh</td>\n",
       "      <td>1021</td>\n",
       "      <td>Socks and Tights</td>\n",
       "    </tr>\n",
       "    <tr>\n",
       "      <th>4</th>\n",
       "      <td>4</td>\n",
       "      <td>Control Top 50 den 1p Tights</td>\n",
       "      <td>273</td>\n",
       "      <td>Leggings/Tights</td>\n",
       "      <td>Garment Lower body</td>\n",
       "      <td>9</td>\n",
       "      <td>Black</td>\n",
       "      <td>4</td>\n",
       "      <td>Dark</td>\n",
       "      <td>5</td>\n",
       "      <td>...</td>\n",
       "      <td>3608</td>\n",
       "      <td>Tights basic</td>\n",
       "      <td>B</td>\n",
       "      <td>Lingeries/Tights</td>\n",
       "      <td>1</td>\n",
       "      <td>Ladieswear</td>\n",
       "      <td>62</td>\n",
       "      <td>Womens Nightwear, Socks &amp; Tigh</td>\n",
       "      <td>1021</td>\n",
       "      <td>Socks and Tights</td>\n",
       "    </tr>\n",
       "  </tbody>\n",
       "</table>\n",
       "<p>5 rows × 21 columns</p>\n",
       "</div>"
      ],
      "text/plain": [
       "   article_id                     prod_name  product_type product_type_name  \\\n",
       "0           0           20 den 1p Stockings           304  Underwear Tights   \n",
       "1           1     Shape Up 30 den 1p Tights           273   Leggings/Tights   \n",
       "2           2      Support 40 den 1p Tights           304  Underwear Tights   \n",
       "3           3             200 den 1p Tights           304  Underwear Tights   \n",
       "4           4  Control Top 50 den 1p Tights           273   Leggings/Tights   \n",
       "\n",
       "   product_group_name  colour_group colour_group_name  perceived_colour_value  \\\n",
       "0      Socks & Tights             9             Black                       4   \n",
       "1  Garment Lower body             9             Black                       4   \n",
       "2      Socks & Tights             9             Black                       4   \n",
       "3      Socks & Tights             9             Black                       4   \n",
       "4  Garment Lower body             9             Black                       4   \n",
       "\n",
       "  perceived_colour_value_name  perceived_colour_master  ... department  \\\n",
       "0                        Dark                        5  ...       3608   \n",
       "1                        Dark                        5  ...       3608   \n",
       "2                        Dark                        5  ...       3608   \n",
       "3                        Dark                        5  ...       3608   \n",
       "4                        Dark                        5  ...       3608   \n",
       "\n",
       "   department_name index        index_name index_group  index_group_name  \\\n",
       "0     Tights basic     B  Lingeries/Tights           1        Ladieswear   \n",
       "1     Tights basic     B  Lingeries/Tights           1        Ladieswear   \n",
       "2     Tights basic     B  Lingeries/Tights           1        Ladieswear   \n",
       "3     Tights basic     B  Lingeries/Tights           1        Ladieswear   \n",
       "4     Tights basic     B  Lingeries/Tights           1        Ladieswear   \n",
       "\n",
       "  section                    section_name garment_group  garment_group_name  \n",
       "0      62  Womens Nightwear, Socks & Tigh          1021    Socks and Tights  \n",
       "1      62  Womens Nightwear, Socks & Tigh          1021    Socks and Tights  \n",
       "2      62  Womens Nightwear, Socks & Tigh          1021    Socks and Tights  \n",
       "3      62  Womens Nightwear, Socks & Tigh          1021    Socks and Tights  \n",
       "4      62  Womens Nightwear, Socks & Tigh          1021    Socks and Tights  \n",
       "\n",
       "[5 rows x 21 columns]"
      ]
     },
     "execution_count": 184,
     "metadata": {},
     "output_type": "execute_result"
    }
   ],
   "source": [
    "articles = pd.read_csv(\"recsys_articles.csv\")\n",
    "articles.head()"
   ]
  },
  {
   "cell_type": "markdown",
   "id": "28824bcc",
   "metadata": {
    "id": "28824bcc"
   },
   "source": [
    "As we can easily see, this dataset has a more complex structure than the one analyzed before, but we can for sure ignore some columns.\n",
    "Each category is represented by two columns and for this reason, we can take only one and discard the other.\n",
    "For example, each product has the variable 'product_type' containing its ID code and the variable 'product_type_name' that is the full name of the product.\n",
    "Therefore, we can choose some variables to consider and someother to ignore."
   ]
  },
  {
   "cell_type": "markdown",
   "id": "87bc9cfc",
   "metadata": {
    "id": "87bc9cfc"
   },
   "source": [
    "1) As we did for customers, we want to check how many values are null. Luckily, this time we have zero null values."
   ]
  },
  {
   "cell_type": "code",
   "execution_count": 185,
   "id": "41dbc910",
   "metadata": {
    "colab": {
     "base_uri": "https://localhost:8080/"
    },
    "id": "41dbc910",
    "outputId": "5f24cff8-4a5a-40dd-99f1-842c349c3cdb"
   },
   "outputs": [
    {
     "data": {
      "text/plain": [
       "article_id                      0\n",
       "prod_name                       0\n",
       "product_type                    0\n",
       "product_type_name               0\n",
       "product_group_name              0\n",
       "colour_group                    0\n",
       "colour_group_name               0\n",
       "perceived_colour_value          0\n",
       "perceived_colour_value_name     0\n",
       "perceived_colour_master         0\n",
       "perceived_colour_master_name    0\n",
       "department                      0\n",
       "department_name                 0\n",
       "index                           0\n",
       "index_name                      0\n",
       "index_group                     0\n",
       "index_group_name                0\n",
       "section                         0\n",
       "section_name                    0\n",
       "garment_group                   0\n",
       "garment_group_name              0\n",
       "dtype: int64"
      ]
     },
     "execution_count": 185,
     "metadata": {},
     "output_type": "execute_result"
    }
   ],
   "source": [
    "articles.isnull().sum()"
   ]
  },
  {
   "cell_type": "markdown",
   "id": "HaZBEKMLDFXF",
   "metadata": {
    "id": "HaZBEKMLDFXF"
   },
   "source": [
    "Even though there are no Null values, from the some data manipulation, we can notice that there are some Unknown values, which we want to get rid of."
   ]
  },
  {
   "cell_type": "code",
   "execution_count": 186,
   "id": "risxKV6qE6l1",
   "metadata": {
    "colab": {
     "base_uri": "https://localhost:8080/"
    },
    "id": "risxKV6qE6l1",
    "outputId": "13f4b359-fcbe-42fe-f49c-e60def07cd08"
   },
   "outputs": [
    {
     "name": "stdout",
     "output_type": "stream",
     "text": [
      "The percentage of Unknown items in our dataset is: 1.03%\n"
     ]
    }
   ],
   "source": [
    "unknowns = articles.loc[articles['product_group_name'] == 'Unknown']\n",
    "print(f'The percentage of Unknown items in our dataset is: {round((len(unknowns) / len(articles)*100), 2)}%')"
   ]
  },
  {
   "cell_type": "code",
   "execution_count": 187,
   "id": "8EHPvT7BDNzs",
   "metadata": {
    "id": "8EHPvT7BDNzs"
   },
   "outputs": [],
   "source": [
    "articles2 = articles[articles.product_type != -1] #dataframe with all the articles except unknowns"
   ]
  },
  {
   "cell_type": "markdown",
   "id": "c7edc2ee",
   "metadata": {
    "id": "c7edc2ee"
   },
   "source": [
    "2) Now we can group our articles in different ways, starting from the division in categories."
   ]
  },
  {
   "cell_type": "markdown",
   "id": "b4341afb",
   "metadata": {
    "id": "b4341afb"
   },
   "source": [
    "#### **TYPES**"
   ]
  },
  {
   "cell_type": "markdown",
   "id": "9f994433",
   "metadata": {
    "id": "9f994433"
   },
   "source": [
    "We want to see how our products are partitioned according to their category. We analyze how these categories are structured and we find the number of articles for each of them. We start from types."
   ]
  },
  {
   "cell_type": "code",
   "execution_count": 188,
   "id": "98a9865c",
   "metadata": {
    "colab": {
     "base_uri": "https://localhost:8080/",
     "height": 534
    },
    "id": "98a9865c",
    "outputId": "cafd201a-604b-48f2-aebe-7c17b36b4cb9"
   },
   "outputs": [
    {
     "data": {
      "text/html": [
       "<div>\n",
       "<style scoped>\n",
       "    .dataframe tbody tr th:only-of-type {\n",
       "        vertical-align: middle;\n",
       "    }\n",
       "\n",
       "    .dataframe tbody tr th {\n",
       "        vertical-align: top;\n",
       "    }\n",
       "\n",
       "    .dataframe thead th {\n",
       "        text-align: right;\n",
       "    }\n",
       "</style>\n",
       "<table border=\"1\" class=\"dataframe\">\n",
       "  <thead>\n",
       "    <tr style=\"text-align: right;\">\n",
       "      <th></th>\n",
       "      <th>Type</th>\n",
       "      <th>Count</th>\n",
       "    </tr>\n",
       "  </thead>\n",
       "  <tbody>\n",
       "    <tr>\n",
       "      <th>18</th>\n",
       "      <td>Trousers</td>\n",
       "      <td>972</td>\n",
       "    </tr>\n",
       "    <tr>\n",
       "      <th>3</th>\n",
       "      <td>Sweater</td>\n",
       "      <td>635</td>\n",
       "    </tr>\n",
       "    <tr>\n",
       "      <th>11</th>\n",
       "      <td>Dress</td>\n",
       "      <td>578</td>\n",
       "    </tr>\n",
       "    <tr>\n",
       "      <th>21</th>\n",
       "      <td>Top</td>\n",
       "      <td>422</td>\n",
       "    </tr>\n",
       "    <tr>\n",
       "      <th>17</th>\n",
       "      <td>T-shirt</td>\n",
       "      <td>382</td>\n",
       "    </tr>\n",
       "    <tr>\n",
       "      <th>...</th>\n",
       "      <td>...</td>\n",
       "      <td>...</td>\n",
       "    </tr>\n",
       "    <tr>\n",
       "      <th>30</th>\n",
       "      <td>Braces</td>\n",
       "      <td>1</td>\n",
       "    </tr>\n",
       "    <tr>\n",
       "      <th>78</th>\n",
       "      <td>Hairband</td>\n",
       "      <td>1</td>\n",
       "    </tr>\n",
       "    <tr>\n",
       "      <th>79</th>\n",
       "      <td>Flat shoes</td>\n",
       "      <td>1</td>\n",
       "    </tr>\n",
       "    <tr>\n",
       "      <th>31</th>\n",
       "      <td>Nipple covers</td>\n",
       "      <td>1</td>\n",
       "    </tr>\n",
       "    <tr>\n",
       "      <th>33</th>\n",
       "      <td>Bra extender</td>\n",
       "      <td>1</td>\n",
       "    </tr>\n",
       "  </tbody>\n",
       "</table>\n",
       "<p>82 rows × 2 columns</p>\n",
       "</div>"
      ],
      "text/plain": [
       "             Type  Count\n",
       "18       Trousers    972\n",
       "3         Sweater    635\n",
       "11          Dress    578\n",
       "21            Top    422\n",
       "17        T-shirt    382\n",
       "..            ...    ...\n",
       "30         Braces      1\n",
       "78       Hairband      1\n",
       "79     Flat shoes      1\n",
       "31  Nipple covers      1\n",
       "33   Bra extender      1\n",
       "\n",
       "[82 rows x 2 columns]"
      ]
     },
     "execution_count": 188,
     "metadata": {},
     "output_type": "execute_result"
    }
   ],
   "source": [
    "type_article_count = Counter(articles['product_type_name'])\n",
    "type_article_count_df = pd.DataFrame([type_article_count]).T.reset_index()\n",
    "type_article_count_df.columns = ['Type', 'Count']\n",
    "type_article_count_df = type_article_count_df.sort_values(by='Count', ascending=False) #We sort the dataframe in order to see the biggest types without any code\n",
    "type_article_count_df"
   ]
  },
  {
   "cell_type": "markdown",
   "id": "648710c1",
   "metadata": {
    "id": "648710c1"
   },
   "source": [
    "Let's see a visual representation:"
   ]
  },
  {
   "cell_type": "markdown",
   "id": "dbc25d66",
   "metadata": {
    "id": "dbc25d66"
   },
   "source": [
    "From the dataframe, we see that the product type with more articles is 'Trousers', with exactly 972 models."
   ]
  },
  {
   "cell_type": "code",
   "execution_count": 189,
   "id": "8a548b81",
   "metadata": {
    "colab": {
     "base_uri": "https://localhost:8080/",
     "height": 54
    },
    "id": "8a548b81",
    "outputId": "096c8f86-a42a-45db-f87b-1d51c477824e",
    "scrolled": true
   },
   "outputs": [
    {
     "data": {
      "image/png": "[encoded data removed]",
      "text/plain": [
       "<Figure size 2000x1500 with 1 Axes>"
      ]
     },
     "metadata": {},
     "output_type": "display_data"
    }
   ],
   "source": [
    "plt.figure(figsize=(20,15))\n",
    "sns.barplot(x='Type', y='Count', data=type_article_count_df)\n",
    "plt.xticks(rotation=90)\n",
    "plt.show()"
   ]
  },
  {
   "cell_type": "markdown",
   "id": "5e56c764",
   "metadata": {
    "id": "5e56c764"
   },
   "source": [
    "The plot underneath is useful, but also too caothic (82 categories are too many). A great solution is to regroup our categories (types) in some larger categories, represented by groups."
   ]
  },
  {
   "cell_type": "markdown",
   "id": "e8751104",
   "metadata": {
    "id": "e8751104"
   },
   "source": [
    "#### **GROUPS**"
   ]
  },
  {
   "cell_type": "code",
   "execution_count": 190,
   "id": "a36fa928",
   "metadata": {
    "colab": {
     "base_uri": "https://localhost:8080/",
     "height": 553
    },
    "id": "a36fa928",
    "outputId": "5fdef46b-d711-4c8e-f9a6-b6a20c21a488"
   },
   "outputs": [
    {
     "data": {
      "text/html": [
       "<div>\n",
       "<style scoped>\n",
       "    .dataframe tbody tr th:only-of-type {\n",
       "        vertical-align: middle;\n",
       "    }\n",
       "\n",
       "    .dataframe tbody tr th {\n",
       "        vertical-align: top;\n",
       "    }\n",
       "\n",
       "    .dataframe thead th {\n",
       "        text-align: right;\n",
       "    }\n",
       "</style>\n",
       "<table border=\"1\" class=\"dataframe\">\n",
       "  <thead>\n",
       "    <tr style=\"text-align: right;\">\n",
       "      <th></th>\n",
       "      <th>Group</th>\n",
       "      <th>Count</th>\n",
       "    </tr>\n",
       "  </thead>\n",
       "  <tbody>\n",
       "    <tr>\n",
       "      <th>3</th>\n",
       "      <td>Garment Upper body</td>\n",
       "      <td>2799</td>\n",
       "    </tr>\n",
       "    <tr>\n",
       "      <th>1</th>\n",
       "      <td>Garment Lower body</td>\n",
       "      <td>1428</td>\n",
       "    </tr>\n",
       "    <tr>\n",
       "      <th>7</th>\n",
       "      <td>Garment Full body</td>\n",
       "      <td>632</td>\n",
       "    </tr>\n",
       "    <tr>\n",
       "      <th>4</th>\n",
       "      <td>Underwear</td>\n",
       "      <td>547</td>\n",
       "    </tr>\n",
       "    <tr>\n",
       "      <th>6</th>\n",
       "      <td>Accessories</td>\n",
       "      <td>378</td>\n",
       "    </tr>\n",
       "    <tr>\n",
       "      <th>0</th>\n",
       "      <td>Socks &amp; Tights</td>\n",
       "      <td>245</td>\n",
       "    </tr>\n",
       "    <tr>\n",
       "      <th>9</th>\n",
       "      <td>Swimwear</td>\n",
       "      <td>233</td>\n",
       "    </tr>\n",
       "    <tr>\n",
       "      <th>8</th>\n",
       "      <td>Shoes</td>\n",
       "      <td>135</td>\n",
       "    </tr>\n",
       "    <tr>\n",
       "      <th>5</th>\n",
       "      <td>Unknown</td>\n",
       "      <td>67</td>\n",
       "    </tr>\n",
       "    <tr>\n",
       "      <th>10</th>\n",
       "      <td>Nightwear</td>\n",
       "      <td>60</td>\n",
       "    </tr>\n",
       "    <tr>\n",
       "      <th>2</th>\n",
       "      <td>Items</td>\n",
       "      <td>10</td>\n",
       "    </tr>\n",
       "    <tr>\n",
       "      <th>11</th>\n",
       "      <td>Bags</td>\n",
       "      <td>2</td>\n",
       "    </tr>\n",
       "  </tbody>\n",
       "</table>\n",
       "</div>"
      ],
      "text/plain": [
       "                 Group  Count\n",
       "3   Garment Upper body   2799\n",
       "1   Garment Lower body   1428\n",
       "7    Garment Full body    632\n",
       "4            Underwear    547\n",
       "6          Accessories    378\n",
       "0       Socks & Tights    245\n",
       "9             Swimwear    233\n",
       "8                Shoes    135\n",
       "5              Unknown     67\n",
       "10           Nightwear     60\n",
       "2                Items     10\n",
       "11                Bags      2"
      ]
     },
     "execution_count": 190,
     "metadata": {},
     "output_type": "execute_result"
    }
   ],
   "source": [
    "group_article_count = Counter(articles['product_group_name'])\n",
    "group_article_count_df = pd.DataFrame([group_article_count]).T.reset_index()\n",
    "group_article_count_df.columns = ['Group', 'Count']\n",
    "group_article_count_df = group_article_count_df.sort_values(by='Count', ascending=False)\n",
    "group_article_count_df"
   ]
  },
  {
   "cell_type": "markdown",
   "id": "8e2440cb",
   "metadata": {
    "id": "8e2440cb"
   },
   "source": [
    "This time, we directly see all the classification for groups, where the top item is Garment Upper body, with 2799 different articles. Here we have a simpler plot where we can immediately see all the categories. In this way, the data is more interpretable and even more useful for our aims. Once more, we plot our results:"
   ]
  },
  {
   "cell_type": "code",
   "execution_count": 191,
   "id": "e0f90cd8",
   "metadata": {
    "colab": {
     "base_uri": "https://localhost:8080/",
     "height": 54
    },
    "id": "e0f90cd8",
    "outputId": "5a23c404-4f70-4545-dc76-0393d5d5a079"
   },
   "outputs": [
    {
     "data": {
      "image/png": "[encoded data removed]",
      "text/plain": [
       "<Figure size 1000x500 with 1 Axes>"
      ]
     },
     "metadata": {},
     "output_type": "display_data"
    }
   ],
   "source": [
    "plt.figure(figsize=(10,5))\n",
    "sns.barplot(x='Group', y='Count', data=group_article_count_df)\n",
    "plt.xticks(rotation=90)\n",
    "plt.show()"
   ]
  },
  {
   "cell_type": "markdown",
   "id": "ZRFhhgEaU9vu",
   "metadata": {
    "id": "ZRFhhgEaU9vu"
   },
   "source": [
    "Underneath, we have just created the dataframe for each type of categorization for articles in our company, in order to check their level of specificity and decide which to take into account for our reccomendation system."
   ]
  },
  {
   "cell_type": "code",
   "execution_count": 192,
   "id": "8310282e",
   "metadata": {
    "id": "8310282e"
   },
   "outputs": [],
   "source": [
    "#type_article_count_df\n",
    "#81 rows"
   ]
  },
  {
   "cell_type": "code",
   "execution_count": 193,
   "id": "5287d609",
   "metadata": {
    "id": "5287d609"
   },
   "outputs": [],
   "source": [
    "#group_article_count_df\n",
    "#11 rows"
   ]
  },
  {
   "cell_type": "code",
   "execution_count": 194,
   "id": "1299b656",
   "metadata": {
    "id": "1299b656"
   },
   "outputs": [],
   "source": [
    "department_count = Counter(articles['department_name'])\n",
    "department_count_df = pd.DataFrame([department_count]).T.reset_index()\n",
    "department_count_df.columns = ['Department', 'Count']\n",
    "department_count_df = department_count_df.sort_values(by='Count', ascending=False)\n",
    "#department_count_df\n",
    "#144 rows"
   ]
  },
  {
   "cell_type": "code",
   "execution_count": 195,
   "id": "95cd839d",
   "metadata": {
    "id": "95cd839d"
   },
   "outputs": [],
   "source": [
    "index_group = Counter(articles['index_group_name'])\n",
    "index_group_df = pd.DataFrame([index_group]).T.reset_index()\n",
    "index_group_df.columns = ['Index Group', 'Count']\n",
    "index_group_df = index_group_df.sort_values(by='Count', ascending=False)\n",
    "#index_group_df\n",
    "#5 rows"
   ]
  },
  {
   "cell_type": "code",
   "execution_count": 196,
   "id": "41ee6f6e",
   "metadata": {
    "id": "41ee6f6e"
   },
   "outputs": [],
   "source": [
    "section_count = Counter(articles['section_name'])\n",
    "section_count_df = pd.DataFrame([section_count]).T.reset_index()\n",
    "section_count_df.columns = ['Section', 'Count']\n",
    "section_count_df = section_count_df.sort_values(by='Count', ascending=False)\n",
    "#section_count_df.shape\n",
    "#43 rows"
   ]
  },
  {
   "cell_type": "code",
   "execution_count": 197,
   "id": "0d19b6a0",
   "metadata": {
    "id": "0d19b6a0"
   },
   "outputs": [],
   "source": [
    "garment_group = Counter(articles['garment_group'])\n",
    "garment_group_df = pd.DataFrame([garment_group]).T.reset_index()\n",
    "garment_group_df.columns = ['Garment Group', 'Count']\n",
    "garment_group_df = garment_group_df.sort_values(by='Count', ascending=False)\n",
    "#garment_group_df.shape\n",
    "#21 rows"
   ]
  },
  {
   "cell_type": "markdown",
   "id": "8d7c7212",
   "metadata": {
    "id": "8d7c7212"
   },
   "source": [
    "#### **COLOURS**"
   ]
  },
  {
   "cell_type": "markdown",
   "id": "a3d12646",
   "metadata": {
    "id": "a3d12646"
   },
   "source": [
    "To evaluate the colour of the articles there are several measures: colour_group, perceived_colour_value and perceived_colour_master. For our analysis we are going to consider just the perceived_colour_master because it is a good compromise between making a model having too large scale and doing overfitting. In fact, perceived_colour_value has not enough values (only 7) and colour_group has too many of them making the model too precise."
   ]
  },
  {
   "cell_type": "code",
   "execution_count": 198,
   "id": "03968ddf",
   "metadata": {
    "colab": {
     "base_uri": "https://localhost:8080/",
     "height": 643
    },
    "id": "03968ddf",
    "outputId": "d363fa71-c60e-46b3-cb9b-88c21e301a02"
   },
   "outputs": [
    {
     "data": {
      "text/html": [
       "<div>\n",
       "<style scoped>\n",
       "    .dataframe tbody tr th:only-of-type {\n",
       "        vertical-align: middle;\n",
       "    }\n",
       "\n",
       "    .dataframe tbody tr th {\n",
       "        vertical-align: top;\n",
       "    }\n",
       "\n",
       "    .dataframe thead th {\n",
       "        text-align: right;\n",
       "    }\n",
       "</style>\n",
       "<table border=\"1\" class=\"dataframe\">\n",
       "  <thead>\n",
       "    <tr style=\"text-align: right;\">\n",
       "      <th></th>\n",
       "      <th>Colour</th>\n",
       "      <th>Count</th>\n",
       "    </tr>\n",
       "  </thead>\n",
       "  <tbody>\n",
       "    <tr>\n",
       "      <th>3</th>\n",
       "      <td>Beige</td>\n",
       "      <td>547</td>\n",
       "    </tr>\n",
       "    <tr>\n",
       "      <th>0</th>\n",
       "      <td>Black</td>\n",
       "      <td>2134</td>\n",
       "    </tr>\n",
       "    <tr>\n",
       "      <th>1</th>\n",
       "      <td>Blue</td>\n",
       "      <td>726</td>\n",
       "    </tr>\n",
       "    <tr>\n",
       "      <th>5</th>\n",
       "      <td>Brown</td>\n",
       "      <td>156</td>\n",
       "    </tr>\n",
       "    <tr>\n",
       "      <th>13</th>\n",
       "      <td>Green</td>\n",
       "      <td>176</td>\n",
       "    </tr>\n",
       "    <tr>\n",
       "      <th>2</th>\n",
       "      <td>Grey</td>\n",
       "      <td>526</td>\n",
       "    </tr>\n",
       "    <tr>\n",
       "      <th>7</th>\n",
       "      <td>Khaki green</td>\n",
       "      <td>218</td>\n",
       "    </tr>\n",
       "    <tr>\n",
       "      <th>10</th>\n",
       "      <td>Lilac Purple</td>\n",
       "      <td>108</td>\n",
       "    </tr>\n",
       "    <tr>\n",
       "      <th>9</th>\n",
       "      <td>Metal</td>\n",
       "      <td>116</td>\n",
       "    </tr>\n",
       "    <tr>\n",
       "      <th>6</th>\n",
       "      <td>Mole</td>\n",
       "      <td>177</td>\n",
       "    </tr>\n",
       "    <tr>\n",
       "      <th>14</th>\n",
       "      <td>Orange</td>\n",
       "      <td>163</td>\n",
       "    </tr>\n",
       "    <tr>\n",
       "      <th>12</th>\n",
       "      <td>Pink</td>\n",
       "      <td>368</td>\n",
       "    </tr>\n",
       "    <tr>\n",
       "      <th>8</th>\n",
       "      <td>Red</td>\n",
       "      <td>125</td>\n",
       "    </tr>\n",
       "    <tr>\n",
       "      <th>15</th>\n",
       "      <td>Turquoise</td>\n",
       "      <td>48</td>\n",
       "    </tr>\n",
       "    <tr>\n",
       "      <th>4</th>\n",
       "      <td>White</td>\n",
       "      <td>807</td>\n",
       "    </tr>\n",
       "    <tr>\n",
       "      <th>11</th>\n",
       "      <td>Yellow</td>\n",
       "      <td>76</td>\n",
       "    </tr>\n",
       "  </tbody>\n",
       "</table>\n",
       "</div>"
      ],
      "text/plain": [
       "          Colour  Count\n",
       "3          Beige    547\n",
       "0          Black   2134\n",
       "1           Blue    726\n",
       "5          Brown    156\n",
       "13         Green    176\n",
       "2           Grey    526\n",
       "7    Khaki green    218\n",
       "10  Lilac Purple    108\n",
       "9          Metal    116\n",
       "6           Mole    177\n",
       "14        Orange    163\n",
       "12          Pink    368\n",
       "8            Red    125\n",
       "15     Turquoise     48\n",
       "4          White    807\n",
       "11        Yellow     76"
      ]
     },
     "execution_count": 198,
     "metadata": {},
     "output_type": "execute_result"
    }
   ],
   "source": [
    "from collections import Counter\n",
    "article_colour = Counter(articles['perceived_colour_master_name'])\n",
    "del article_colour['Unknown']\n",
    "del article_colour['undefined']\n",
    "\n",
    "article_colour_df = pd.DataFrame([article_colour]).T.reset_index()\n",
    "article_colour_df.columns = ['Colour', 'Count']\n",
    "article_colour_df = article_colour_df.sort_values(by='Colour')\n",
    "article_colour_df"
   ]
  },
  {
   "cell_type": "code",
   "execution_count": 199,
   "id": "d36e3ef0",
   "metadata": {
    "id": "d36e3ef0"
   },
   "outputs": [],
   "source": [
    "#create dataframe and check for its size\n",
    "from collections import Counter\n",
    "article_colour2 = Counter(articles['colour_group'])\n",
    "\n",
    "article_colour2_df = pd.DataFrame([article_colour2]).T.reset_index()\n",
    "article_colour2_df.columns = ['Colour', 'Count']\n",
    "article_colour2_df = article_colour2_df.sort_values(by='Colour')"
   ]
  },
  {
   "cell_type": "code",
   "execution_count": 200,
   "id": "558ffa78",
   "metadata": {
    "id": "558ffa78"
   },
   "outputs": [],
   "source": [
    "#create dataframe and check for its size\n",
    "from collections import Counter\n",
    "article_colour3 = Counter(articles['perceived_colour_value'])\n",
    "\n",
    "article_colour3_df = pd.DataFrame([article_colour3]).T.reset_index()\n",
    "article_colour3_df.columns = ['Colour', 'Count']\n",
    "article_colour3_df = article_colour3_df.sort_values(by='Colour')"
   ]
  },
  {
   "cell_type": "markdown",
   "id": "ba504d90",
   "metadata": {
    "id": "ba504d90"
   },
   "source": [
    "# TRANSACTIONS"
   ]
  },
  {
   "cell_type": "markdown",
   "id": "cfaec978",
   "metadata": {
    "id": "cfaec978"
   },
   "source": [
    "The last dataset we are going to study is \"recsys_transactions.csv\". The information about transactions that is recorded in the table is: the date of purchase, the customer id and the product id. The same customer can purchase more articles. Let's get a more detailed understanding of the dataset."
   ]
  },
  {
   "cell_type": "code",
   "execution_count": 201,
   "id": "5a0afd04",
   "metadata": {
    "colab": {
     "base_uri": "https://localhost:8080/",
     "height": 353
    },
    "id": "5a0afd04",
    "outputId": "1b8364e5-4373-4f4b-972e-d7b8f375fc72"
   },
   "outputs": [
    {
     "data": {
      "text/html": [
       "<div>\n",
       "<style scoped>\n",
       "    .dataframe tbody tr th:only-of-type {\n",
       "        vertical-align: middle;\n",
       "    }\n",
       "\n",
       "    .dataframe tbody tr th {\n",
       "        vertical-align: top;\n",
       "    }\n",
       "\n",
       "    .dataframe thead th {\n",
       "        text-align: right;\n",
       "    }\n",
       "</style>\n",
       "<table border=\"1\" class=\"dataframe\">\n",
       "  <thead>\n",
       "    <tr style=\"text-align: right;\">\n",
       "      <th></th>\n",
       "      <th>t_dat</th>\n",
       "      <th>customer_id</th>\n",
       "      <th>article_id</th>\n",
       "    </tr>\n",
       "  </thead>\n",
       "  <tbody>\n",
       "    <tr>\n",
       "      <th>0</th>\n",
       "      <td>2020-09-02</td>\n",
       "      <td>7</td>\n",
       "      <td>599</td>\n",
       "    </tr>\n",
       "    <tr>\n",
       "      <th>1</th>\n",
       "      <td>2020-09-02</td>\n",
       "      <td>7</td>\n",
       "      <td>2600</td>\n",
       "    </tr>\n",
       "    <tr>\n",
       "      <th>2</th>\n",
       "      <td>2020-09-02</td>\n",
       "      <td>7</td>\n",
       "      <td>2063</td>\n",
       "    </tr>\n",
       "    <tr>\n",
       "      <th>3</th>\n",
       "      <td>2020-09-02</td>\n",
       "      <td>7</td>\n",
       "      <td>5188</td>\n",
       "    </tr>\n",
       "    <tr>\n",
       "      <th>4</th>\n",
       "      <td>2020-09-02</td>\n",
       "      <td>17</td>\n",
       "      <td>5111</td>\n",
       "    </tr>\n",
       "  </tbody>\n",
       "</table>\n",
       "</div>"
      ],
      "text/plain": [
       "        t_dat  customer_id  article_id\n",
       "0  2020-09-02            7         599\n",
       "1  2020-09-02            7        2600\n",
       "2  2020-09-02            7        2063\n",
       "3  2020-09-02            7        5188\n",
       "4  2020-09-02           17        5111"
      ]
     },
     "execution_count": 201,
     "metadata": {},
     "output_type": "execute_result"
    }
   ],
   "source": [
    "raw_transactions = pd.read_csv(\"recsys_transactions.csv\")\n",
    "raw_transactions.head()"
   ]
  },
  {
   "cell_type": "markdown",
   "id": "7x1RpGU8V8RX",
   "metadata": {
    "id": "7x1RpGU8V8RX"
   },
   "source": [
    "1) We want to extrapolate some information which might be useful for the interpretation of our data and results."
   ]
  },
  {
   "cell_type": "code",
   "execution_count": 202,
   "id": "b0fbb67c",
   "metadata": {
    "colab": {
     "base_uri": "https://localhost:8080/"
    },
    "id": "b0fbb67c",
    "outputId": "85d769bb-a08f-4a13-da1a-d5284e753b61"
   },
   "outputs": [
    {
     "name": "stdout",
     "output_type": "stream",
     "text": [
      "The number of transactions is: 369113\n",
      "The number of unique articles is: 6536\n",
      "The number of unique customers is: 41253\n",
      "The average number of transactions per user is approximately: 9\n",
      "The average number of transactions per article is approximately: 56\n"
     ]
    }
   ],
   "source": [
    "n_transactions = len(raw_transactions)\n",
    "n_articles = raw_transactions['article_id'].nunique()\n",
    "n_customers = raw_transactions['customer_id'].nunique()\n",
    "\n",
    "print(f\"The number of transactions is: {n_transactions}\")\n",
    "print(f\"The number of unique articles is: {n_articles}\")\n",
    "print(f\"The number of unique customers is: {n_customers}\")\n",
    "print(f\"The average number of transactions per user is approximately: {round(n_transactions/n_customers)}\")\n",
    "print(f\"The average number of transactions per article is approximately: {round(n_transactions/n_articles)}\")"
   ]
  },
  {
   "cell_type": "markdown",
   "id": "fc2a88aa",
   "metadata": {
    "id": "fc2a88aa"
   },
   "source": [
    "2) To be in no doubt, we check if there are Null values that might interfere with our analysis."
   ]
  },
  {
   "cell_type": "code",
   "execution_count": 203,
   "id": "613d6e5f",
   "metadata": {
    "colab": {
     "base_uri": "https://localhost:8080/"
    },
    "id": "613d6e5f",
    "outputId": "07d17a4b-cde1-4938-8f2c-e5474a251795"
   },
   "outputs": [
    {
     "data": {
      "text/plain": [
       "t_dat          0\n",
       "customer_id    0\n",
       "article_id     0\n",
       "dtype: int64"
      ]
     },
     "execution_count": 203,
     "metadata": {},
     "output_type": "execute_result"
    }
   ],
   "source": [
    "raw_transactions.isnull().sum()"
   ]
  },
  {
   "cell_type": "markdown",
   "id": "681b4f33",
   "metadata": {
    "id": "681b4f33"
   },
   "source": [
    "This result was not hard to predict.\n",
    "Indeed, looking to this dataset, we observe that it is based on a relationship between the other 2 datasets. As a consequence, all the rows are composed by the IDs of an article and the IDs of a costumer.\n",
    "Without one of these 2 values, the row will give us zero relevant information, being useless to process it."
   ]
  },
  {
   "cell_type": "markdown",
   "id": "917338f8",
   "metadata": {
    "id": "917338f8"
   },
   "source": [
    "Another fundamental thing that we have to do is to remove all the transactions made with unknown products because we have deleted them. It can be hard to give an accurate recommendation if we don't have enough information."
   ]
  },
  {
   "cell_type": "code",
   "execution_count": 204,
   "id": "de9b7b2b",
   "metadata": {
    "id": "de9b7b2b"
   },
   "outputs": [],
   "source": [
    "articles_list = list(articles2['article_id'])"
   ]
  },
  {
   "cell_type": "markdown",
   "id": "zR-FFZPZu8ut",
   "metadata": {
    "id": "zR-FFZPZu8ut"
   },
   "source": [
    "We want now to use the transaction dataframe without all the unknown values, which are around 5 thousands."
   ]
  },
  {
   "cell_type": "code",
   "execution_count": 205,
   "id": "74b3204e",
   "metadata": {
    "id": "74b3204e"
   },
   "outputs": [],
   "source": [
    "transactions = raw_transactions.query('article_id in @articles_list') "
   ]
  },
  {
   "cell_type": "markdown",
   "id": "a65fd6d0",
   "metadata": {
    "id": "a65fd6d0"
   },
   "source": [
    "#### **Date** <br>\n",
    "As an extra information, we can also see which is the day with the highest number of transactions. <br>\n",
    "The day with the biggest number of transactions is the 13th of september 2020, which was a Sunday."
   ]
  },
  {
   "cell_type": "code",
   "execution_count": 206,
   "id": "d9f21840",
   "metadata": {
    "colab": {
     "base_uri": "https://localhost:8080/",
     "height": 1000
    },
    "id": "d9f21840",
    "outputId": "4a2441c8-6e95-4395-94b2-a4562ff9db76"
   },
   "outputs": [
    {
     "data": {
      "text/html": [
       "<div>\n",
       "<style scoped>\n",
       "    .dataframe tbody tr th:only-of-type {\n",
       "        vertical-align: middle;\n",
       "    }\n",
       "\n",
       "    .dataframe tbody tr th {\n",
       "        vertical-align: top;\n",
       "    }\n",
       "\n",
       "    .dataframe thead th {\n",
       "        text-align: right;\n",
       "    }\n",
       "</style>\n",
       "<table border=\"1\" class=\"dataframe\">\n",
       "  <thead>\n",
       "    <tr style=\"text-align: right;\">\n",
       "      <th></th>\n",
       "      <th>Day</th>\n",
       "      <th>Count</th>\n",
       "    </tr>\n",
       "  </thead>\n",
       "  <tbody>\n",
       "    <tr>\n",
       "      <th>7</th>\n",
       "      <td>2020-09-09</td>\n",
       "      <td>20910</td>\n",
       "    </tr>\n",
       "    <tr>\n",
       "      <th>11</th>\n",
       "      <td>2020-09-13</td>\n",
       "      <td>20809</td>\n",
       "    </tr>\n",
       "    <tr>\n",
       "      <th>15</th>\n",
       "      <td>2020-09-17</td>\n",
       "      <td>20135</td>\n",
       "    </tr>\n",
       "    <tr>\n",
       "      <th>8</th>\n",
       "      <td>2020-09-10</td>\n",
       "      <td>19341</td>\n",
       "    </tr>\n",
       "    <tr>\n",
       "      <th>5</th>\n",
       "      <td>2020-09-07</td>\n",
       "      <td>19168</td>\n",
       "    </tr>\n",
       "    <tr>\n",
       "      <th>16</th>\n",
       "      <td>2020-09-18</td>\n",
       "      <td>18777</td>\n",
       "    </tr>\n",
       "    <tr>\n",
       "      <th>3</th>\n",
       "      <td>2020-09-05</td>\n",
       "      <td>18754</td>\n",
       "    </tr>\n",
       "    <tr>\n",
       "      <th>10</th>\n",
       "      <td>2020-09-12</td>\n",
       "      <td>18618</td>\n",
       "    </tr>\n",
       "    <tr>\n",
       "      <th>6</th>\n",
       "      <td>2020-09-08</td>\n",
       "      <td>18279</td>\n",
       "    </tr>\n",
       "    <tr>\n",
       "      <th>1</th>\n",
       "      <td>2020-09-03</td>\n",
       "      <td>18233</td>\n",
       "    </tr>\n",
       "    <tr>\n",
       "      <th>9</th>\n",
       "      <td>2020-09-11</td>\n",
       "      <td>17883</td>\n",
       "    </tr>\n",
       "    <tr>\n",
       "      <th>17</th>\n",
       "      <td>2020-09-19</td>\n",
       "      <td>16848</td>\n",
       "    </tr>\n",
       "    <tr>\n",
       "      <th>4</th>\n",
       "      <td>2020-09-06</td>\n",
       "      <td>16620</td>\n",
       "    </tr>\n",
       "    <tr>\n",
       "      <th>2</th>\n",
       "      <td>2020-09-04</td>\n",
       "      <td>16501</td>\n",
       "    </tr>\n",
       "    <tr>\n",
       "      <th>18</th>\n",
       "      <td>2020-09-20</td>\n",
       "      <td>15863</td>\n",
       "    </tr>\n",
       "    <tr>\n",
       "      <th>19</th>\n",
       "      <td>2020-09-21</td>\n",
       "      <td>15788</td>\n",
       "    </tr>\n",
       "    <tr>\n",
       "      <th>20</th>\n",
       "      <td>2020-09-22</td>\n",
       "      <td>15648</td>\n",
       "    </tr>\n",
       "    <tr>\n",
       "      <th>12</th>\n",
       "      <td>2020-09-14</td>\n",
       "      <td>15337</td>\n",
       "    </tr>\n",
       "    <tr>\n",
       "      <th>0</th>\n",
       "      <td>2020-09-02</td>\n",
       "      <td>13664</td>\n",
       "    </tr>\n",
       "    <tr>\n",
       "      <th>14</th>\n",
       "      <td>2020-09-16</td>\n",
       "      <td>13108</td>\n",
       "    </tr>\n",
       "    <tr>\n",
       "      <th>13</th>\n",
       "      <td>2020-09-15</td>\n",
       "      <td>12982</td>\n",
       "    </tr>\n",
       "  </tbody>\n",
       "</table>\n",
       "</div>"
      ],
      "text/plain": [
       "           Day  Count\n",
       "7   2020-09-09  20910\n",
       "11  2020-09-13  20809\n",
       "15  2020-09-17  20135\n",
       "8   2020-09-10  19341\n",
       "5   2020-09-07  19168\n",
       "16  2020-09-18  18777\n",
       "3   2020-09-05  18754\n",
       "10  2020-09-12  18618\n",
       "6   2020-09-08  18279\n",
       "1   2020-09-03  18233\n",
       "9   2020-09-11  17883\n",
       "17  2020-09-19  16848\n",
       "4   2020-09-06  16620\n",
       "2   2020-09-04  16501\n",
       "18  2020-09-20  15863\n",
       "19  2020-09-21  15788\n",
       "20  2020-09-22  15648\n",
       "12  2020-09-14  15337\n",
       "0   2020-09-02  13664\n",
       "14  2020-09-16  13108\n",
       "13  2020-09-15  12982"
      ]
     },
     "execution_count": 206,
     "metadata": {},
     "output_type": "execute_result"
    }
   ],
   "source": [
    "day_count = Counter(transactions['t_dat'])\n",
    "day_count_df = pd.DataFrame([day_count]).T.reset_index()\n",
    "day_count_df.columns = ['Day', 'Count']\n",
    "day_count_df = day_count_df.sort_values(by='Count', ascending=False)\n",
    "day_count_df"
   ]
  },
  {
   "cell_type": "markdown",
   "id": "aa2e5976",
   "metadata": {
    "id": "aa2e5976"
   },
   "source": [
    "We plot the trend of transactions over the entire month to have a more handsome representation of our data."
   ]
  },
  {
   "cell_type": "code",
   "execution_count": 207,
   "id": "b48bbf5a",
   "metadata": {
    "colab": {
     "base_uri": "https://localhost:8080/",
     "height": 54
    },
    "id": "b48bbf5a",
    "outputId": "1240e1d1-59f3-4b04-dfde-f7d31eb68b4c"
   },
   "outputs": [
    {
     "data": {
      "image/png": "[encoded data removed]",
      "text/plain": [
       "<Figure size 5000x500 with 1 Axes>"
      ]
     },
     "metadata": {},
     "output_type": "display_data"
    }
   ],
   "source": [
    "sns.set_style(\"whitegrid\")\n",
    "plt.figure(figsize=(50,5))\n",
    "plt.subplot(1,3,1)\n",
    "plt.xticks(rotation=45)\n",
    "ax = sns.countplot(x=\"t_dat\", data=transactions, palette=\"inferno\")\n",
    "plt.title(\"Distribution of transactions\");"
   ]
  },
  {
   "cell_type": "markdown",
   "id": "89db478f",
   "metadata": {
    "id": "89db478f"
   },
   "source": [
    "#### **Number of transactions per customer**"
   ]
  },
  {
   "cell_type": "markdown",
   "id": "122f716d",
   "metadata": {
    "id": "122f716d"
   },
   "source": [
    "We would like to see how many purchases has done each customer. We create a dataframe with 2 columns: on one side the customer ID and on the other the number of purchases each customer has made."
   ]
  },
  {
   "cell_type": "code",
   "execution_count": 208,
   "id": "0afd41fb",
   "metadata": {
    "id": "0afd41fb"
   },
   "outputs": [],
   "source": [
    "from collections import Counter\n",
    "customer_transactions_count = Counter(transactions['customer_id'])\n",
    "#transactions.groupby('customer_id').size()\n",
    "#outputs a long dictionary with key the id of the customer and value the number of purchases he or she has made"
   ]
  },
  {
   "cell_type": "code",
   "execution_count": 209,
   "id": "b9c34bb4",
   "metadata": {
    "colab": {
     "base_uri": "https://localhost:8080/",
     "height": 500
    },
    "id": "b9c34bb4",
    "outputId": "fbf03011-feee-42f1-ceee-11bcfba57184",
    "scrolled": true
   },
   "outputs": [
    {
     "data": {
      "text/html": [
       "<div>\n",
       "<style scoped>\n",
       "    .dataframe tbody tr th:only-of-type {\n",
       "        vertical-align: middle;\n",
       "    }\n",
       "\n",
       "    .dataframe tbody tr th {\n",
       "        vertical-align: top;\n",
       "    }\n",
       "\n",
       "    .dataframe thead th {\n",
       "        text-align: right;\n",
       "    }\n",
       "</style>\n",
       "<table border=\"1\" class=\"dataframe\">\n",
       "  <thead>\n",
       "    <tr style=\"text-align: right;\">\n",
       "      <th></th>\n",
       "      <th>index</th>\n",
       "      <th>Customer ID</th>\n",
       "      <th>Number of Transactions</th>\n",
       "    </tr>\n",
       "  </thead>\n",
       "  <tbody>\n",
       "    <tr>\n",
       "      <th>0</th>\n",
       "      <td>38279</td>\n",
       "      <td>9197</td>\n",
       "      <td>104</td>\n",
       "    </tr>\n",
       "    <tr>\n",
       "      <th>1</th>\n",
       "      <td>35256</td>\n",
       "      <td>36953</td>\n",
       "      <td>95</td>\n",
       "    </tr>\n",
       "    <tr>\n",
       "      <th>2</th>\n",
       "      <td>4430</td>\n",
       "      <td>16472</td>\n",
       "      <td>92</td>\n",
       "    </tr>\n",
       "    <tr>\n",
       "      <th>3</th>\n",
       "      <td>27061</td>\n",
       "      <td>13753</td>\n",
       "      <td>88</td>\n",
       "    </tr>\n",
       "    <tr>\n",
       "      <th>4</th>\n",
       "      <td>5937</td>\n",
       "      <td>33914</td>\n",
       "      <td>85</td>\n",
       "    </tr>\n",
       "    <tr>\n",
       "      <th>...</th>\n",
       "      <td>...</td>\n",
       "      <td>...</td>\n",
       "      <td>...</td>\n",
       "    </tr>\n",
       "    <tr>\n",
       "      <th>41241</th>\n",
       "      <td>29010</td>\n",
       "      <td>14366</td>\n",
       "      <td>1</td>\n",
       "    </tr>\n",
       "    <tr>\n",
       "      <th>41242</th>\n",
       "      <td>396</td>\n",
       "      <td>4845</td>\n",
       "      <td>1</td>\n",
       "    </tr>\n",
       "    <tr>\n",
       "      <th>41243</th>\n",
       "      <td>931</td>\n",
       "      <td>12354</td>\n",
       "      <td>1</td>\n",
       "    </tr>\n",
       "    <tr>\n",
       "      <th>41244</th>\n",
       "      <td>28533</td>\n",
       "      <td>4486</td>\n",
       "      <td>1</td>\n",
       "    </tr>\n",
       "    <tr>\n",
       "      <th>41245</th>\n",
       "      <td>25173</td>\n",
       "      <td>14991</td>\n",
       "      <td>1</td>\n",
       "    </tr>\n",
       "  </tbody>\n",
       "</table>\n",
       "<p>41246 rows × 3 columns</p>\n",
       "</div>"
      ],
      "text/plain": [
       "       index  Customer ID  Number of Transactions\n",
       "0      38279         9197                     104\n",
       "1      35256        36953                      95\n",
       "2       4430        16472                      92\n",
       "3      27061        13753                      88\n",
       "4       5937        33914                      85\n",
       "...      ...          ...                     ...\n",
       "41241  29010        14366                       1\n",
       "41242    396         4845                       1\n",
       "41243    931        12354                       1\n",
       "41244  28533         4486                       1\n",
       "41245  25173        14991                       1\n",
       "\n",
       "[41246 rows x 3 columns]"
      ]
     },
     "execution_count": 209,
     "metadata": {},
     "output_type": "execute_result"
    }
   ],
   "source": [
    "customer_transactions_count_df = pd.DataFrame([customer_transactions_count]).T.reset_index()\n",
    "customer_transactions_count_df.columns = ['Customer ID', 'Number of Transactions']\n",
    "customer_transactions_count_df.sort_values(by='Number of Transactions', ascending=False).reset_index()"
   ]
  },
  {
   "cell_type": "markdown",
   "id": "31e82bf6",
   "metadata": {
    "id": "31e82bf6"
   },
   "source": [
    "The customer who has ultimated the highest amount of purchases is the customer '9197' with exactly 104 transactions. Sorting in descending order, we are able to see also a ranking based on transactions for users."
   ]
  },
  {
   "cell_type": "markdown",
   "id": "8d523b55",
   "metadata": {
    "id": "8d523b55"
   },
   "source": [
    "Since we are going to reccommend some items in order to users similiarities, we have to catch all of them.\n",
    "A thing we surely know about people, is that the more you buy, the more you're going to buy.\n",
    "So we can regroup customers  by the number of transactions, in order to take into account the tendency to buy new products."
   ]
  },
  {
   "cell_type": "markdown",
   "id": "qJgqgaF0X3rv",
   "metadata": {
    "id": "qJgqgaF0X3rv"
   },
   "source": [
    "As a further step, we can group all the customers according to their amount of transactions to see the distribution of these data with respect to the entire dataset."
   ]
  },
  {
   "cell_type": "code",
   "execution_count": 210,
   "id": "966eecd1",
   "metadata": {
    "colab": {
     "base_uri": "https://localhost:8080/",
     "height": 500
    },
    "id": "966eecd1",
    "outputId": "1ab1e759-1b18-4a79-8ecf-f2820759c36b"
   },
   "outputs": [
    {
     "data": {
      "text/html": [
       "<div>\n",
       "<style scoped>\n",
       "    .dataframe tbody tr th:only-of-type {\n",
       "        vertical-align: middle;\n",
       "    }\n",
       "\n",
       "    .dataframe tbody tr th {\n",
       "        vertical-align: top;\n",
       "    }\n",
       "\n",
       "    .dataframe thead th {\n",
       "        text-align: right;\n",
       "    }\n",
       "</style>\n",
       "<table border=\"1\" class=\"dataframe\">\n",
       "  <thead>\n",
       "    <tr style=\"text-align: right;\">\n",
       "      <th></th>\n",
       "      <th>customer_id</th>\n",
       "      <th>Number of transactions</th>\n",
       "      <th>transaction_group</th>\n",
       "    </tr>\n",
       "  </thead>\n",
       "  <tbody>\n",
       "    <tr>\n",
       "      <th>0</th>\n",
       "      <td>0</td>\n",
       "      <td>20.0</td>\n",
       "      <td>11-20</td>\n",
       "    </tr>\n",
       "    <tr>\n",
       "      <th>1</th>\n",
       "      <td>1</td>\n",
       "      <td>7.0</td>\n",
       "      <td>4-6</td>\n",
       "    </tr>\n",
       "    <tr>\n",
       "      <th>2</th>\n",
       "      <td>2</td>\n",
       "      <td>8.0</td>\n",
       "      <td>7-10</td>\n",
       "    </tr>\n",
       "    <tr>\n",
       "      <th>3</th>\n",
       "      <td>3</td>\n",
       "      <td>10.0</td>\n",
       "      <td>7-10</td>\n",
       "    </tr>\n",
       "    <tr>\n",
       "      <th>4</th>\n",
       "      <td>4</td>\n",
       "      <td>11.0</td>\n",
       "      <td>7-10</td>\n",
       "    </tr>\n",
       "    <tr>\n",
       "      <th>...</th>\n",
       "      <td>...</td>\n",
       "      <td>...</td>\n",
       "      <td>...</td>\n",
       "    </tr>\n",
       "    <tr>\n",
       "      <th>41248</th>\n",
       "      <td>41248</td>\n",
       "      <td>NaN</td>\n",
       "      <td>NaN</td>\n",
       "    </tr>\n",
       "    <tr>\n",
       "      <th>41249</th>\n",
       "      <td>41249</td>\n",
       "      <td>NaN</td>\n",
       "      <td>NaN</td>\n",
       "    </tr>\n",
       "    <tr>\n",
       "      <th>41250</th>\n",
       "      <td>41250</td>\n",
       "      <td>NaN</td>\n",
       "      <td>NaN</td>\n",
       "    </tr>\n",
       "    <tr>\n",
       "      <th>41251</th>\n",
       "      <td>41251</td>\n",
       "      <td>NaN</td>\n",
       "      <td>NaN</td>\n",
       "    </tr>\n",
       "    <tr>\n",
       "      <th>41252</th>\n",
       "      <td>41252</td>\n",
       "      <td>NaN</td>\n",
       "      <td>NaN</td>\n",
       "    </tr>\n",
       "  </tbody>\n",
       "</table>\n",
       "<p>41253 rows × 3 columns</p>\n",
       "</div>"
      ],
      "text/plain": [
       "       customer_id  Number of transactions transaction_group\n",
       "0                0                    20.0             11-20\n",
       "1                1                     7.0               4-6\n",
       "2                2                     8.0              7-10\n",
       "3                3                    10.0              7-10\n",
       "4                4                    11.0              7-10\n",
       "...            ...                     ...               ...\n",
       "41248        41248                     NaN               NaN\n",
       "41249        41249                     NaN               NaN\n",
       "41250        41250                     NaN               NaN\n",
       "41251        41251                     NaN               NaN\n",
       "41252        41252                     NaN               NaN\n",
       "\n",
       "[41253 rows x 3 columns]"
      ]
     },
     "execution_count": 210,
     "metadata": {},
     "output_type": "execute_result"
    }
   ],
   "source": [
    "bins = [0, 4, 7, 11, 21, 31, 105]\n",
    "groups = ['1-3','4-6','7-10','11-20', '21-30', '30+']\n",
    "customers['Number of transactions'] = customer_transactions_count_df['Number of Transactions']\n",
    "customers['transaction_group'] = pd.cut(customers['Number of transactions'], bins, labels = groups, include_lowest=True)\n",
    "customers.drop(columns=['club_member', 'age', 'fashion_news', 'age_group'])"
   ]
  },
  {
   "cell_type": "markdown",
   "id": "18671252",
   "metadata": {
    "id": "18671252"
   },
   "source": [
    "We can create a dataframe with these results in order to plot them."
   ]
  },
  {
   "cell_type": "code",
   "execution_count": 211,
   "id": "5a67d89a",
   "metadata": {
    "id": "5a67d89a"
   },
   "outputs": [],
   "source": [
    "trans_group_counts = customers.groupby('transaction_group').size()"
   ]
  },
  {
   "cell_type": "code",
   "execution_count": 212,
   "id": "0e8f67e1",
   "metadata": {
    "colab": {
     "base_uri": "https://localhost:8080/",
     "height": 316
    },
    "id": "0e8f67e1",
    "outputId": "9e08ec45-6b07-430b-f2cb-ff4c35cb705e"
   },
   "outputs": [
    {
     "data": {
      "text/html": [
       "<div>\n",
       "<style scoped>\n",
       "    .dataframe tbody tr th:only-of-type {\n",
       "        vertical-align: middle;\n",
       "    }\n",
       "\n",
       "    .dataframe tbody tr th {\n",
       "        vertical-align: top;\n",
       "    }\n",
       "\n",
       "    .dataframe thead th {\n",
       "        text-align: right;\n",
       "    }\n",
       "</style>\n",
       "<table border=\"1\" class=\"dataframe\">\n",
       "  <thead>\n",
       "    <tr style=\"text-align: right;\">\n",
       "      <th></th>\n",
       "      <th>Transaction Group</th>\n",
       "      <th>Number of customers</th>\n",
       "    </tr>\n",
       "  </thead>\n",
       "  <tbody>\n",
       "    <tr>\n",
       "      <th>0</th>\n",
       "      <td>1-3</td>\n",
       "      <td>3631</td>\n",
       "    </tr>\n",
       "    <tr>\n",
       "      <th>1</th>\n",
       "      <td>4-6</td>\n",
       "      <td>18058</td>\n",
       "    </tr>\n",
       "    <tr>\n",
       "      <th>2</th>\n",
       "      <td>7-10</td>\n",
       "      <td>11764</td>\n",
       "    </tr>\n",
       "    <tr>\n",
       "      <th>3</th>\n",
       "      <td>11-20</td>\n",
       "      <td>6553</td>\n",
       "    </tr>\n",
       "    <tr>\n",
       "      <th>4</th>\n",
       "      <td>21-30</td>\n",
       "      <td>923</td>\n",
       "    </tr>\n",
       "    <tr>\n",
       "      <th>5</th>\n",
       "      <td>30+</td>\n",
       "      <td>317</td>\n",
       "    </tr>\n",
       "  </tbody>\n",
       "</table>\n",
       "</div>"
      ],
      "text/plain": [
       "  Transaction Group  Number of customers\n",
       "0               1-3                 3631\n",
       "1               4-6                18058\n",
       "2              7-10                11764\n",
       "3             11-20                 6553\n",
       "4             21-30                  923\n",
       "5               30+                  317"
      ]
     },
     "execution_count": 212,
     "metadata": {},
     "output_type": "execute_result"
    }
   ],
   "source": [
    "trans_group_counts_df = pd.DataFrame([trans_group_counts]).T.reset_index()\n",
    "trans_group_counts_df.columns = ['Transaction Group', 'Number of customers']\n",
    "trans_group_counts_df"
   ]
  },
  {
   "cell_type": "code",
   "execution_count": 213,
   "id": "6d877f20",
   "metadata": {
    "colab": {
     "base_uri": "https://localhost:8080/",
     "height": 54
    },
    "id": "6d877f20",
    "outputId": "2c0e9911-d2e4-4ffb-d2ee-90eaf78ca1e0"
   },
   "outputs": [
    {
     "data": {
      "image/png": "[encoded data removed]",
      "text/plain": [
       "<Figure size 1000x500 with 1 Axes>"
      ]
     },
     "metadata": {},
     "output_type": "display_data"
    }
   ],
   "source": [
    "plt.figure(figsize=(10,5))\n",
    "sns.barplot(x='Transaction Group', y='Number of customers', data=trans_group_counts_df)\n",
    "plt.xticks(rotation=90)\n",
    "plt.show()"
   ]
  },
  {
   "cell_type": "markdown",
   "id": "00334d5f",
   "metadata": {
    "id": "00334d5f"
   },
   "source": [
    "#### **Number of customers that has bought each product**"
   ]
  },
  {
   "cell_type": "markdown",
   "id": "050ad075",
   "metadata": {
    "id": "050ad075"
   },
   "source": [
    "It is also interesting to see everything on the other way around, so how many times each item has been bought by customers."
   ]
  },
  {
   "cell_type": "code",
   "execution_count": 214,
   "id": "975b0274",
   "metadata": {
    "id": "975b0274"
   },
   "outputs": [],
   "source": [
    "article_transactions_count = Counter(transactions['article_id'])"
   ]
  },
  {
   "cell_type": "code",
   "execution_count": 215,
   "id": "03d78b82",
   "metadata": {
    "colab": {
     "base_uri": "https://localhost:8080/",
     "height": 500
    },
    "id": "03d78b82",
    "outputId": "8a8a6b80-c8b4-47e8-a7b7-2c62bd16f477"
   },
   "outputs": [
    {
     "data": {
      "text/html": [
       "<div>\n",
       "<style scoped>\n",
       "    .dataframe tbody tr th:only-of-type {\n",
       "        vertical-align: middle;\n",
       "    }\n",
       "\n",
       "    .dataframe tbody tr th {\n",
       "        vertical-align: top;\n",
       "    }\n",
       "\n",
       "    .dataframe thead th {\n",
       "        text-align: right;\n",
       "    }\n",
       "</style>\n",
       "<table border=\"1\" class=\"dataframe\">\n",
       "  <thead>\n",
       "    <tr style=\"text-align: right;\">\n",
       "      <th></th>\n",
       "      <th>Article ID</th>\n",
       "      <th>Number of Transactions</th>\n",
       "    </tr>\n",
       "  </thead>\n",
       "  <tbody>\n",
       "    <tr>\n",
       "      <th>3557</th>\n",
       "      <td>2049</td>\n",
       "      <td>11</td>\n",
       "    </tr>\n",
       "    <tr>\n",
       "      <th>3305</th>\n",
       "      <td>3353</td>\n",
       "      <td>11</td>\n",
       "    </tr>\n",
       "    <tr>\n",
       "      <th>1643</th>\n",
       "      <td>1758</td>\n",
       "      <td>11</td>\n",
       "    </tr>\n",
       "    <tr>\n",
       "      <th>4063</th>\n",
       "      <td>3603</td>\n",
       "      <td>11</td>\n",
       "    </tr>\n",
       "    <tr>\n",
       "      <th>5518</th>\n",
       "      <td>47</td>\n",
       "      <td>11</td>\n",
       "    </tr>\n",
       "    <tr>\n",
       "      <th>...</th>\n",
       "      <td>...</td>\n",
       "      <td>...</td>\n",
       "    </tr>\n",
       "    <tr>\n",
       "      <th>314</th>\n",
       "      <td>1429</td>\n",
       "      <td>815</td>\n",
       "    </tr>\n",
       "    <tr>\n",
       "      <th>1339</th>\n",
       "      <td>6166</td>\n",
       "      <td>858</td>\n",
       "    </tr>\n",
       "    <tr>\n",
       "      <th>63</th>\n",
       "      <td>5831</td>\n",
       "      <td>889</td>\n",
       "    </tr>\n",
       "    <tr>\n",
       "      <th>917</th>\n",
       "      <td>168</td>\n",
       "      <td>896</td>\n",
       "    </tr>\n",
       "    <tr>\n",
       "      <th>48</th>\n",
       "      <td>1419</td>\n",
       "      <td>1045</td>\n",
       "    </tr>\n",
       "  </tbody>\n",
       "</table>\n",
       "<p>6469 rows × 2 columns</p>\n",
       "</div>"
      ],
      "text/plain": [
       "      Article ID  Number of Transactions\n",
       "3557        2049                      11\n",
       "3305        3353                      11\n",
       "1643        1758                      11\n",
       "4063        3603                      11\n",
       "5518          47                      11\n",
       "...          ...                     ...\n",
       "314         1429                     815\n",
       "1339        6166                     858\n",
       "63          5831                     889\n",
       "917          168                     896\n",
       "48          1419                    1045\n",
       "\n",
       "[6469 rows x 2 columns]"
      ]
     },
     "execution_count": 215,
     "metadata": {},
     "output_type": "execute_result"
    }
   ],
   "source": [
    "article_transactions_count_df = pd.DataFrame([article_transactions_count]).T.reset_index()\n",
    "article_transactions_count_df.columns = ['Article ID', 'Number of Transactions']\n",
    "article_transactions_count_df.sort_values(by='Number of Transactions', ascending=True)"
   ]
  },
  {
   "cell_type": "markdown",
   "id": "fd371d6f",
   "metadata": {
    "id": "fd371d6f"
   },
   "source": [
    "#### **ANALYSIS**"
   ]
  },
  {
   "cell_type": "markdown",
   "id": "PzDEu6KLadIk",
   "metadata": {
    "id": "PzDEu6KLadIk"
   },
   "source": [
    "*Rather than analysing singularly each dataset, we want to exploit all the information that we can retrieve from each of them, together.*"
   ]
  },
  {
   "cell_type": "markdown",
   "id": "b330912a",
   "metadata": {
    "id": "b330912a"
   },
   "source": [
    "From the above dataframe we are able to get which is the most requested article.\n",
    "By looking for its id in the articles dataset, we can access to a wider range of information with respect to the customer case we studied before because we cannot access to sensitive information we we would need to make a more in-dept analysis. Whereas, for products we can obtain more information useful for market strategies.\n",
    "So, let'see what is this 'id 1419':"
   ]
  },
  {
   "cell_type": "code",
   "execution_count": 216,
   "id": "0899208c",
   "metadata": {
    "colab": {
     "base_uri": "https://localhost:8080/",
     "height": 207
    },
    "id": "0899208c",
    "outputId": "c177254b-f4c2-437b-d062-fed39abd19b1",
    "scrolled": true
   },
   "outputs": [
    {
     "data": {
      "text/html": [
       "<div>\n",
       "<style scoped>\n",
       "    .dataframe tbody tr th:only-of-type {\n",
       "        vertical-align: middle;\n",
       "    }\n",
       "\n",
       "    .dataframe tbody tr th {\n",
       "        vertical-align: top;\n",
       "    }\n",
       "\n",
       "    .dataframe thead th {\n",
       "        text-align: right;\n",
       "    }\n",
       "</style>\n",
       "<table border=\"1\" class=\"dataframe\">\n",
       "  <thead>\n",
       "    <tr style=\"text-align: right;\">\n",
       "      <th></th>\n",
       "      <th>article_id</th>\n",
       "      <th>prod_name</th>\n",
       "      <th>product_type</th>\n",
       "      <th>product_type_name</th>\n",
       "      <th>product_group_name</th>\n",
       "      <th>colour_group</th>\n",
       "      <th>colour_group_name</th>\n",
       "      <th>perceived_colour_value</th>\n",
       "      <th>perceived_colour_value_name</th>\n",
       "      <th>perceived_colour_master</th>\n",
       "      <th>...</th>\n",
       "      <th>department</th>\n",
       "      <th>department_name</th>\n",
       "      <th>index</th>\n",
       "      <th>index_name</th>\n",
       "      <th>index_group</th>\n",
       "      <th>index_group_name</th>\n",
       "      <th>section</th>\n",
       "      <th>section_name</th>\n",
       "      <th>garment_group</th>\n",
       "      <th>garment_group_name</th>\n",
       "    </tr>\n",
       "  </thead>\n",
       "  <tbody>\n",
       "    <tr>\n",
       "      <th>1419</th>\n",
       "      <td>1419</td>\n",
       "      <td>Pluto RW slacks (1)</td>\n",
       "      <td>272</td>\n",
       "      <td>Trousers</td>\n",
       "      <td>Garment Lower body</td>\n",
       "      <td>9</td>\n",
       "      <td>Black</td>\n",
       "      <td>4</td>\n",
       "      <td>Dark</td>\n",
       "      <td>5</td>\n",
       "      <td>...</td>\n",
       "      <td>1722</td>\n",
       "      <td>Trouser</td>\n",
       "      <td>A</td>\n",
       "      <td>Ladieswear</td>\n",
       "      <td>1</td>\n",
       "      <td>Ladieswear</td>\n",
       "      <td>15</td>\n",
       "      <td>Womens Everyday Collection</td>\n",
       "      <td>1009</td>\n",
       "      <td>Trousers</td>\n",
       "    </tr>\n",
       "  </tbody>\n",
       "</table>\n",
       "<p>1 rows × 21 columns</p>\n",
       "</div>"
      ],
      "text/plain": [
       "      article_id            prod_name  product_type product_type_name  \\\n",
       "1419        1419  Pluto RW slacks (1)           272          Trousers   \n",
       "\n",
       "      product_group_name  colour_group colour_group_name  \\\n",
       "1419  Garment Lower body             9             Black   \n",
       "\n",
       "      perceived_colour_value perceived_colour_value_name  \\\n",
       "1419                       4                        Dark   \n",
       "\n",
       "      perceived_colour_master  ... department  department_name index  \\\n",
       "1419                        5  ...       1722          Trouser     A   \n",
       "\n",
       "      index_name index_group  index_group_name section  \\\n",
       "1419  Ladieswear           1        Ladieswear      15   \n",
       "\n",
       "                    section_name garment_group  garment_group_name  \n",
       "1419  Womens Everyday Collection          1009            Trousers  \n",
       "\n",
       "[1 rows x 21 columns]"
      ]
     },
     "execution_count": 216,
     "metadata": {},
     "output_type": "execute_result"
    }
   ],
   "source": [
    "articles.loc[articles['article_id'] == 1419]"
   ]
  },
  {
   "cell_type": "markdown",
   "id": "21409998",
   "metadata": {
    "id": "21409998"
   },
   "source": [
    "This row gives us a lot of information. In our opinion, rather than focusing on single products, it is better to focus on a category, because we can have a more accurate analysis basing on a bigger radius of articles, avoiding in this way some outliers."
   ]
  },
  {
   "cell_type": "code",
   "execution_count": 217,
   "id": "ff0caee8",
   "metadata": {
    "id": "ff0caee8"
   },
   "outputs": [],
   "source": [
    "article_type_dict = {}\n",
    "article_group_dict = {}\n",
    "article_section_dict = {}\n",
    "\n",
    "for i,row in articles.iterrows():\n",
    "    article_type_dict[row['article_id']] = row['product_type_name']\n",
    "    article_group_dict[row['article_id']] = row['product_group_name']\n",
    "    article_section_dict[row['article_id']] = row['section_name']"
   ]
  },
  {
   "cell_type": "code",
   "execution_count": 218,
   "id": "04f656a4",
   "metadata": {
    "colab": {
     "base_uri": "https://localhost:8080/",
     "height": 517
    },
    "id": "04f656a4",
    "outputId": "9e6a6f09-e6e3-4c9c-8574-8e9804a53321"
   },
   "outputs": [
    {
     "data": {
      "text/html": [
       "<div>\n",
       "<style scoped>\n",
       "    .dataframe tbody tr th:only-of-type {\n",
       "        vertical-align: middle;\n",
       "    }\n",
       "\n",
       "    .dataframe tbody tr th {\n",
       "        vertical-align: top;\n",
       "    }\n",
       "\n",
       "    .dataframe thead th {\n",
       "        text-align: right;\n",
       "    }\n",
       "</style>\n",
       "<table border=\"1\" class=\"dataframe\">\n",
       "  <thead>\n",
       "    <tr style=\"text-align: right;\">\n",
       "      <th></th>\n",
       "      <th>Type of products</th>\n",
       "      <th>Number of Transactions</th>\n",
       "    </tr>\n",
       "  </thead>\n",
       "  <tbody>\n",
       "    <tr>\n",
       "      <th>5</th>\n",
       "      <td>Trousers</td>\n",
       "      <td>65295</td>\n",
       "    </tr>\n",
       "    <tr>\n",
       "      <th>11</th>\n",
       "      <td>Sweater</td>\n",
       "      <td>49602</td>\n",
       "    </tr>\n",
       "    <tr>\n",
       "      <th>2</th>\n",
       "      <td>Top</td>\n",
       "      <td>28308</td>\n",
       "    </tr>\n",
       "    <tr>\n",
       "      <th>3</th>\n",
       "      <td>Dress</td>\n",
       "      <td>26333</td>\n",
       "    </tr>\n",
       "    <tr>\n",
       "      <th>23</th>\n",
       "      <td>T-shirt</td>\n",
       "      <td>21010</td>\n",
       "    </tr>\n",
       "    <tr>\n",
       "      <th>...</th>\n",
       "      <td>...</td>\n",
       "      <td>...</td>\n",
       "    </tr>\n",
       "    <tr>\n",
       "      <th>68</th>\n",
       "      <td>Swimwear set</td>\n",
       "      <td>16</td>\n",
       "    </tr>\n",
       "    <tr>\n",
       "      <th>70</th>\n",
       "      <td>Braces</td>\n",
       "      <td>15</td>\n",
       "    </tr>\n",
       "    <tr>\n",
       "      <th>74</th>\n",
       "      <td>Flip flop</td>\n",
       "      <td>14</td>\n",
       "    </tr>\n",
       "    <tr>\n",
       "      <th>77</th>\n",
       "      <td>Heels</td>\n",
       "      <td>13</td>\n",
       "    </tr>\n",
       "    <tr>\n",
       "      <th>69</th>\n",
       "      <td>Hairband</td>\n",
       "      <td>13</td>\n",
       "    </tr>\n",
       "  </tbody>\n",
       "</table>\n",
       "<p>81 rows × 2 columns</p>\n",
       "</div>"
      ],
      "text/plain": [
       "   Type of products  Number of Transactions\n",
       "5          Trousers                   65295\n",
       "11          Sweater                   49602\n",
       "2               Top                   28308\n",
       "3             Dress                   26333\n",
       "23          T-shirt                   21010\n",
       "..              ...                     ...\n",
       "68     Swimwear set                      16\n",
       "70           Braces                      15\n",
       "74        Flip flop                      14\n",
       "77            Heels                      13\n",
       "69         Hairband                      13\n",
       "\n",
       "[81 rows x 2 columns]"
      ]
     },
     "execution_count": 218,
     "metadata": {},
     "output_type": "execute_result"
    }
   ],
   "source": [
    "type_transactions = {}\n",
    "for i,row in transactions.iterrows():\n",
    "  if article_type_dict[row['article_id']] in type_transactions.keys():\n",
    "    type_transactions[article_type_dict[row['article_id']]] += 1\n",
    "  else:\n",
    "    type_transactions[article_type_dict[row['article_id']]] = 1\n",
    "        \n",
    "type_transactions_df = pd.DataFrame({'Type of products':list(type_transactions.keys()),'Number of Transactions':list(type_transactions.values())})\n",
    "type_transactions_df = type_transactions_df.sort_values(by='Number of Transactions', ascending = False)\n",
    "type_transactions_df"
   ]
  },
  {
   "cell_type": "markdown",
   "id": "da6412c0",
   "metadata": {
    "id": "da6412c0"
   },
   "source": [
    "Thanks to this frame we can see that the most sold type of product is 'Trousers', with a huge gap from the second one. This is probably caused by the fact that trousers are also the type of product with a wider range of articles inside."
   ]
  },
  {
   "cell_type": "code",
   "execution_count": 219,
   "id": "44b9419c",
   "metadata": {
    "colab": {
     "base_uri": "https://localhost:8080/",
     "height": 54
    },
    "id": "44b9419c",
    "outputId": "627e292e-dd4f-4509-c5c8-34dd5fae9962"
   },
   "outputs": [
    {
     "data": {
      "image/png": "[encoded data removed]",
      "text/plain": [
       "<Figure size 2000x500 with 1 Axes>"
      ]
     },
     "metadata": {},
     "output_type": "display_data"
    }
   ],
   "source": [
    "plt.figure(figsize=(20,5))\n",
    "sns.barplot(x='Type of products', y='Number of Transactions', data=type_transactions_df)\n",
    "plt.xticks(rotation=90)\n",
    "plt.show()"
   ]
  },
  {
   "cell_type": "markdown",
   "id": "8fff096c",
   "metadata": {
    "id": "8fff096c"
   },
   "source": [
    "Now let's do the same analysis but, this time, focusing on the section of articles."
   ]
  },
  {
   "cell_type": "code",
   "execution_count": 220,
   "id": "iWU2pWake-4W",
   "metadata": {
    "id": "iWU2pWake-4W"
   },
   "outputs": [],
   "source": [
    "section_transactions = {}\n",
    "for i,row in transactions.iterrows():\n",
    "      if article_section_dict[row['article_id']] in section_transactions.keys():\n",
    "        section_transactions[article_section_dict[row['article_id']]] += 1\n",
    "      else:\n",
    "        section_transactions[article_section_dict[row['article_id']]] = 1\n",
    "        \n",
    "section_transactions_df = pd.DataFrame({'Section of products':list(section_transactions.keys()),'Number of Transactions':list(section_transactions.values())})\n",
    "section_transactions_df = section_transactions_df.sort_values(by='Number of Transactions', ascending = False)"
   ]
  },
  {
   "cell_type": "markdown",
   "id": "46d5cdc8",
   "metadata": {
    "id": "46d5cdc8"
   },
   "source": [
    "And one more time, we got the same expexted result.\n",
    "In this case, the distance between the top section and the others is incredibly huge (approximately the double of the second ranked section)."
   ]
  },
  {
   "cell_type": "code",
   "execution_count": 221,
   "id": "jiheHv5tfer9",
   "metadata": {
    "colab": {
     "base_uri": "https://localhost:8080/",
     "height": 54
    },
    "id": "jiheHv5tfer9",
    "outputId": "38569ab7-542b-4b3e-ba94-014c96a5c1e2"
   },
   "outputs": [
    {
     "data": {
      "image/png": "[encoded data removed]",
      "text/plain": [
       "<Figure size 1000x500 with 1 Axes>"
      ]
     },
     "metadata": {},
     "output_type": "display_data"
    }
   ],
   "source": [
    "plt.figure(figsize=(10,5))\n",
    "sns.barplot(x='Section of products', y='Number of Transactions', data=section_transactions_df)\n",
    "plt.xticks(rotation=90)\n",
    "plt.show()"
   ]
  },
  {
   "cell_type": "markdown",
   "id": "FA69me7dB9l5",
   "metadata": {
    "id": "FA69me7dB9l5"
   },
   "source": [
    "We could decide to select just a smaller proportion of data because the tails of our graphs are really closed to 0."
   ]
  },
  {
   "cell_type": "code",
   "execution_count": 222,
   "id": "OL-Hp3JpBQ6e",
   "metadata": {
    "id": "OL-Hp3JpBQ6e"
   },
   "outputs": [],
   "source": [
    "section_transactions_df_over5000 = section_transactions_df[section_transactions_df['Number of Transactions']>5000]"
   ]
  },
  {
   "cell_type": "code",
   "execution_count": 223,
   "id": "XKZ3CjKW1k90",
   "metadata": {
    "id": "XKZ3CjKW1k90"
   },
   "outputs": [],
   "source": [
    "type_transactions_df_over5000 = type_transactions_df[type_transactions_df['Number of Transactions']>5000]"
   ]
  },
  {
   "cell_type": "code",
   "execution_count": 224,
   "id": "ZSVFOks9BcdG",
   "metadata": {
    "colab": {
     "base_uri": "https://localhost:8080/",
     "height": 54
    },
    "id": "ZSVFOks9BcdG",
    "outputId": "369fc234-07b0-4d82-bd2c-95d63bb89184"
   },
   "outputs": [
    {
     "data": {
      "image/png": "[encoded data removed]",
      "text/plain": [
       "<Figure size 1000x500 with 1 Axes>"
      ]
     },
     "metadata": {},
     "output_type": "display_data"
    }
   ],
   "source": [
    "plt.figure(figsize=(10,5))\n",
    "sns.barplot(x='Section of products', y='Number of Transactions', data=section_transactions_df_over5000)\n",
    "plt.xticks(rotation=90)\n",
    "plt.show()"
   ]
  },
  {
   "cell_type": "code",
   "execution_count": 225,
   "id": "0OJlDhjw1plL",
   "metadata": {
    "colab": {
     "base_uri": "https://localhost:8080/",
     "height": 54
    },
    "id": "0OJlDhjw1plL",
    "outputId": "8889ae56-9584-4bbc-8730-7b3bc59f201d"
   },
   "outputs": [
    {
     "data": {
      "image/png": "[encoded data removed]",
      "text/plain": [
       "<Figure size 2000x500 with 1 Axes>"
      ]
     },
     "metadata": {},
     "output_type": "display_data"
    }
   ],
   "source": [
    "plt.figure(figsize=(20,5))\n",
    "sns.barplot(x='Type of products', y='Number of Transactions', data=type_transactions_df_over5000)\n",
    "plt.xticks(rotation=45)\n",
    "plt.show()"
   ]
  },
  {
   "cell_type": "markdown",
   "id": "9b1fe1bd",
   "metadata": {
    "id": "9b1fe1bd"
   },
   "source": [
    "# CONTENT-BASED FILTERING RECOMMENDER"
   ]
  },
  {
   "cell_type": "markdown",
   "id": "aaf10176",
   "metadata": {
    "id": "aaf10176"
   },
   "source": [
    "We can now start to build the content-based filtering recommender. We begin by setting up our dataset in such a way that rows represent all the articles and columns represent the features we are interested in.\n",
    "\n",
    "1) First, we create a table whose columns are all the values present in the column 'perceived_colour_master_name' and the rows are all the articles. The values inside the table are '1' if the cloth in the corresponding row has the colour of the respective column, else it has a '0'."
   ]
  },
  {
   "cell_type": "code",
   "execution_count": 226,
   "id": "9ef6005b",
   "metadata": {
    "colab": {
     "base_uri": "https://localhost:8080/",
     "height": 500
    },
    "id": "9ef6005b",
    "outputId": "da759b85-5682-4724-f216-b04632ba1f34"
   },
   "outputs": [
    {
     "data": {
      "text/html": [
       "<div>\n",
       "<style scoped>\n",
       "    .dataframe tbody tr th:only-of-type {\n",
       "        vertical-align: middle;\n",
       "    }\n",
       "\n",
       "    .dataframe tbody tr th {\n",
       "        vertical-align: top;\n",
       "    }\n",
       "\n",
       "    .dataframe thead th {\n",
       "        text-align: right;\n",
       "    }\n",
       "</style>\n",
       "<table border=\"1\" class=\"dataframe\">\n",
       "  <thead>\n",
       "    <tr style=\"text-align: right;\">\n",
       "      <th></th>\n",
       "      <th>Black</th>\n",
       "      <th>Blue</th>\n",
       "      <th>Grey</th>\n",
       "      <th>Beige</th>\n",
       "      <th>White</th>\n",
       "      <th>Brown</th>\n",
       "      <th>Mole</th>\n",
       "      <th>Khaki green</th>\n",
       "      <th>Red</th>\n",
       "      <th>Metal</th>\n",
       "      <th>Lilac Purple</th>\n",
       "      <th>Yellow</th>\n",
       "      <th>Pink</th>\n",
       "      <th>Green</th>\n",
       "      <th>Orange</th>\n",
       "      <th>Turquoise</th>\n",
       "    </tr>\n",
       "  </thead>\n",
       "  <tbody>\n",
       "    <tr>\n",
       "      <th>0</th>\n",
       "      <td>1</td>\n",
       "      <td>0</td>\n",
       "      <td>0</td>\n",
       "      <td>0</td>\n",
       "      <td>0</td>\n",
       "      <td>0</td>\n",
       "      <td>0</td>\n",
       "      <td>0</td>\n",
       "      <td>0</td>\n",
       "      <td>0</td>\n",
       "      <td>0</td>\n",
       "      <td>0</td>\n",
       "      <td>0</td>\n",
       "      <td>0</td>\n",
       "      <td>0</td>\n",
       "      <td>0</td>\n",
       "    </tr>\n",
       "    <tr>\n",
       "      <th>1</th>\n",
       "      <td>1</td>\n",
       "      <td>0</td>\n",
       "      <td>0</td>\n",
       "      <td>0</td>\n",
       "      <td>0</td>\n",
       "      <td>0</td>\n",
       "      <td>0</td>\n",
       "      <td>0</td>\n",
       "      <td>0</td>\n",
       "      <td>0</td>\n",
       "      <td>0</td>\n",
       "      <td>0</td>\n",
       "      <td>0</td>\n",
       "      <td>0</td>\n",
       "      <td>0</td>\n",
       "      <td>0</td>\n",
       "    </tr>\n",
       "    <tr>\n",
       "      <th>2</th>\n",
       "      <td>1</td>\n",
       "      <td>0</td>\n",
       "      <td>0</td>\n",
       "      <td>0</td>\n",
       "      <td>0</td>\n",
       "      <td>0</td>\n",
       "      <td>0</td>\n",
       "      <td>0</td>\n",
       "      <td>0</td>\n",
       "      <td>0</td>\n",
       "      <td>0</td>\n",
       "      <td>0</td>\n",
       "      <td>0</td>\n",
       "      <td>0</td>\n",
       "      <td>0</td>\n",
       "      <td>0</td>\n",
       "    </tr>\n",
       "    <tr>\n",
       "      <th>3</th>\n",
       "      <td>1</td>\n",
       "      <td>0</td>\n",
       "      <td>0</td>\n",
       "      <td>0</td>\n",
       "      <td>0</td>\n",
       "      <td>0</td>\n",
       "      <td>0</td>\n",
       "      <td>0</td>\n",
       "      <td>0</td>\n",
       "      <td>0</td>\n",
       "      <td>0</td>\n",
       "      <td>0</td>\n",
       "      <td>0</td>\n",
       "      <td>0</td>\n",
       "      <td>0</td>\n",
       "      <td>0</td>\n",
       "    </tr>\n",
       "    <tr>\n",
       "      <th>4</th>\n",
       "      <td>1</td>\n",
       "      <td>0</td>\n",
       "      <td>0</td>\n",
       "      <td>0</td>\n",
       "      <td>0</td>\n",
       "      <td>0</td>\n",
       "      <td>0</td>\n",
       "      <td>0</td>\n",
       "      <td>0</td>\n",
       "      <td>0</td>\n",
       "      <td>0</td>\n",
       "      <td>0</td>\n",
       "      <td>0</td>\n",
       "      <td>0</td>\n",
       "      <td>0</td>\n",
       "      <td>0</td>\n",
       "    </tr>\n",
       "    <tr>\n",
       "      <th>...</th>\n",
       "      <td>...</td>\n",
       "      <td>...</td>\n",
       "      <td>...</td>\n",
       "      <td>...</td>\n",
       "      <td>...</td>\n",
       "      <td>...</td>\n",
       "      <td>...</td>\n",
       "      <td>...</td>\n",
       "      <td>...</td>\n",
       "      <td>...</td>\n",
       "      <td>...</td>\n",
       "      <td>...</td>\n",
       "      <td>...</td>\n",
       "      <td>...</td>\n",
       "      <td>...</td>\n",
       "      <td>...</td>\n",
       "    </tr>\n",
       "    <tr>\n",
       "      <th>6531</th>\n",
       "      <td>1</td>\n",
       "      <td>0</td>\n",
       "      <td>0</td>\n",
       "      <td>0</td>\n",
       "      <td>0</td>\n",
       "      <td>0</td>\n",
       "      <td>0</td>\n",
       "      <td>0</td>\n",
       "      <td>0</td>\n",
       "      <td>0</td>\n",
       "      <td>0</td>\n",
       "      <td>0</td>\n",
       "      <td>0</td>\n",
       "      <td>0</td>\n",
       "      <td>0</td>\n",
       "      <td>0</td>\n",
       "    </tr>\n",
       "    <tr>\n",
       "      <th>6532</th>\n",
       "      <td>0</td>\n",
       "      <td>0</td>\n",
       "      <td>0</td>\n",
       "      <td>0</td>\n",
       "      <td>0</td>\n",
       "      <td>0</td>\n",
       "      <td>0</td>\n",
       "      <td>0</td>\n",
       "      <td>0</td>\n",
       "      <td>0</td>\n",
       "      <td>0</td>\n",
       "      <td>0</td>\n",
       "      <td>1</td>\n",
       "      <td>0</td>\n",
       "      <td>0</td>\n",
       "      <td>0</td>\n",
       "    </tr>\n",
       "    <tr>\n",
       "      <th>6533</th>\n",
       "      <td>1</td>\n",
       "      <td>0</td>\n",
       "      <td>0</td>\n",
       "      <td>0</td>\n",
       "      <td>0</td>\n",
       "      <td>0</td>\n",
       "      <td>0</td>\n",
       "      <td>0</td>\n",
       "      <td>0</td>\n",
       "      <td>0</td>\n",
       "      <td>0</td>\n",
       "      <td>0</td>\n",
       "      <td>0</td>\n",
       "      <td>0</td>\n",
       "      <td>0</td>\n",
       "      <td>0</td>\n",
       "    </tr>\n",
       "    <tr>\n",
       "      <th>6534</th>\n",
       "      <td>1</td>\n",
       "      <td>0</td>\n",
       "      <td>0</td>\n",
       "      <td>0</td>\n",
       "      <td>0</td>\n",
       "      <td>0</td>\n",
       "      <td>0</td>\n",
       "      <td>0</td>\n",
       "      <td>0</td>\n",
       "      <td>0</td>\n",
       "      <td>0</td>\n",
       "      <td>0</td>\n",
       "      <td>0</td>\n",
       "      <td>0</td>\n",
       "      <td>0</td>\n",
       "      <td>0</td>\n",
       "    </tr>\n",
       "    <tr>\n",
       "      <th>6535</th>\n",
       "      <td>1</td>\n",
       "      <td>0</td>\n",
       "      <td>0</td>\n",
       "      <td>0</td>\n",
       "      <td>0</td>\n",
       "      <td>0</td>\n",
       "      <td>0</td>\n",
       "      <td>0</td>\n",
       "      <td>0</td>\n",
       "      <td>0</td>\n",
       "      <td>0</td>\n",
       "      <td>0</td>\n",
       "      <td>0</td>\n",
       "      <td>0</td>\n",
       "      <td>0</td>\n",
       "      <td>0</td>\n",
       "    </tr>\n",
       "  </tbody>\n",
       "</table>\n",
       "<p>6536 rows × 16 columns</p>\n",
       "</div>"
      ],
      "text/plain": [
       "      Black  Blue  Grey  Beige  White  Brown  Mole  Khaki green  Red  Metal  \\\n",
       "0         1     0     0      0      0      0     0            0    0      0   \n",
       "1         1     0     0      0      0      0     0            0    0      0   \n",
       "2         1     0     0      0      0      0     0            0    0      0   \n",
       "3         1     0     0      0      0      0     0            0    0      0   \n",
       "4         1     0     0      0      0      0     0            0    0      0   \n",
       "...     ...   ...   ...    ...    ...    ...   ...          ...  ...    ...   \n",
       "6531      1     0     0      0      0      0     0            0    0      0   \n",
       "6532      0     0     0      0      0      0     0            0    0      0   \n",
       "6533      1     0     0      0      0      0     0            0    0      0   \n",
       "6534      1     0     0      0      0      0     0            0    0      0   \n",
       "6535      1     0     0      0      0      0     0            0    0      0   \n",
       "\n",
       "      Lilac Purple  Yellow  Pink  Green  Orange  Turquoise  \n",
       "0                0       0     0      0       0          0  \n",
       "1                0       0     0      0       0          0  \n",
       "2                0       0     0      0       0          0  \n",
       "3                0       0     0      0       0          0  \n",
       "4                0       0     0      0       0          0  \n",
       "...            ...     ...   ...    ...     ...        ...  \n",
       "6531             0       0     0      0       0          0  \n",
       "6532             0       0     1      0       0          0  \n",
       "6533             0       0     0      0       0          0  \n",
       "6534             0       0     0      0       0          0  \n",
       "6535             0       0     0      0       0          0  \n",
       "\n",
       "[6536 rows x 16 columns]"
      ]
     },
     "execution_count": 226,
     "metadata": {},
     "output_type": "execute_result"
    }
   ],
   "source": [
    "#create a one hot encoding\n",
    "colours = list(article_colour.keys())\n",
    "for c in colours:\n",
    "    articles[c] = articles['perceived_colour_master_name'].transform(lambda x: int(c in x))\n",
    "articles[colours]"
   ]
  },
  {
   "cell_type": "markdown",
   "id": "9ba0de26",
   "metadata": {
    "id": "9ba0de26"
   },
   "source": [
    "We do the same for 'section name' and 'product_type_name'."
   ]
  },
  {
   "cell_type": "code",
   "execution_count": 227,
   "id": "416f8957",
   "metadata": {
    "colab": {
     "base_uri": "https://localhost:8080/",
     "height": 534
    },
    "id": "416f8957",
    "outputId": "b4cdaff9-e745-4f66-83fd-f62c64b11c5d"
   },
   "outputs": [
    {
     "data": {
      "text/html": [
       "<div>\n",
       "<style scoped>\n",
       "    .dataframe tbody tr th:only-of-type {\n",
       "        vertical-align: middle;\n",
       "    }\n",
       "\n",
       "    .dataframe tbody tr th {\n",
       "        vertical-align: top;\n",
       "    }\n",
       "\n",
       "    .dataframe thead th {\n",
       "        text-align: right;\n",
       "    }\n",
       "</style>\n",
       "<table border=\"1\" class=\"dataframe\">\n",
       "  <thead>\n",
       "    <tr style=\"text-align: right;\">\n",
       "      <th></th>\n",
       "      <th>Womens Nightwear, Socks &amp; Tigh</th>\n",
       "      <th>Womens Small accessories</th>\n",
       "      <th>Men H&amp;M Sport</th>\n",
       "      <th>Womens Lingerie</th>\n",
       "      <th>Womens Everyday Basics</th>\n",
       "      <th>Womens Big accessories</th>\n",
       "      <th>Divided Basics</th>\n",
       "      <th>Girls Underwear &amp; Basics</th>\n",
       "      <th>H&amp;M+</th>\n",
       "      <th>Mama</th>\n",
       "      <th>...</th>\n",
       "      <th>Denim Men</th>\n",
       "      <th>Divided Asia keys</th>\n",
       "      <th>Divided Projects</th>\n",
       "      <th>Divided Accessories</th>\n",
       "      <th>Kids Girl</th>\n",
       "      <th>Young Girl</th>\n",
       "      <th>Baby Boy</th>\n",
       "      <th>Divided Complements Other</th>\n",
       "      <th>Kids Sports</th>\n",
       "      <th>Baby Girl</th>\n",
       "    </tr>\n",
       "  </thead>\n",
       "  <tbody>\n",
       "    <tr>\n",
       "      <th>0</th>\n",
       "      <td>1</td>\n",
       "      <td>0</td>\n",
       "      <td>0</td>\n",
       "      <td>0</td>\n",
       "      <td>0</td>\n",
       "      <td>0</td>\n",
       "      <td>0</td>\n",
       "      <td>0</td>\n",
       "      <td>0</td>\n",
       "      <td>0</td>\n",
       "      <td>...</td>\n",
       "      <td>0</td>\n",
       "      <td>0</td>\n",
       "      <td>0</td>\n",
       "      <td>0</td>\n",
       "      <td>0</td>\n",
       "      <td>0</td>\n",
       "      <td>0</td>\n",
       "      <td>0</td>\n",
       "      <td>0</td>\n",
       "      <td>0</td>\n",
       "    </tr>\n",
       "    <tr>\n",
       "      <th>1</th>\n",
       "      <td>1</td>\n",
       "      <td>0</td>\n",
       "      <td>0</td>\n",
       "      <td>0</td>\n",
       "      <td>0</td>\n",
       "      <td>0</td>\n",
       "      <td>0</td>\n",
       "      <td>0</td>\n",
       "      <td>0</td>\n",
       "      <td>0</td>\n",
       "      <td>...</td>\n",
       "      <td>0</td>\n",
       "      <td>0</td>\n",
       "      <td>0</td>\n",
       "      <td>0</td>\n",
       "      <td>0</td>\n",
       "      <td>0</td>\n",
       "      <td>0</td>\n",
       "      <td>0</td>\n",
       "      <td>0</td>\n",
       "      <td>0</td>\n",
       "    </tr>\n",
       "    <tr>\n",
       "      <th>2</th>\n",
       "      <td>1</td>\n",
       "      <td>0</td>\n",
       "      <td>0</td>\n",
       "      <td>0</td>\n",
       "      <td>0</td>\n",
       "      <td>0</td>\n",
       "      <td>0</td>\n",
       "      <td>0</td>\n",
       "      <td>0</td>\n",
       "      <td>0</td>\n",
       "      <td>...</td>\n",
       "      <td>0</td>\n",
       "      <td>0</td>\n",
       "      <td>0</td>\n",
       "      <td>0</td>\n",
       "      <td>0</td>\n",
       "      <td>0</td>\n",
       "      <td>0</td>\n",
       "      <td>0</td>\n",
       "      <td>0</td>\n",
       "      <td>0</td>\n",
       "    </tr>\n",
       "    <tr>\n",
       "      <th>3</th>\n",
       "      <td>1</td>\n",
       "      <td>0</td>\n",
       "      <td>0</td>\n",
       "      <td>0</td>\n",
       "      <td>0</td>\n",
       "      <td>0</td>\n",
       "      <td>0</td>\n",
       "      <td>0</td>\n",
       "      <td>0</td>\n",
       "      <td>0</td>\n",
       "      <td>...</td>\n",
       "      <td>0</td>\n",
       "      <td>0</td>\n",
       "      <td>0</td>\n",
       "      <td>0</td>\n",
       "      <td>0</td>\n",
       "      <td>0</td>\n",
       "      <td>0</td>\n",
       "      <td>0</td>\n",
       "      <td>0</td>\n",
       "      <td>0</td>\n",
       "    </tr>\n",
       "    <tr>\n",
       "      <th>4</th>\n",
       "      <td>1</td>\n",
       "      <td>0</td>\n",
       "      <td>0</td>\n",
       "      <td>0</td>\n",
       "      <td>0</td>\n",
       "      <td>0</td>\n",
       "      <td>0</td>\n",
       "      <td>0</td>\n",
       "      <td>0</td>\n",
       "      <td>0</td>\n",
       "      <td>...</td>\n",
       "      <td>0</td>\n",
       "      <td>0</td>\n",
       "      <td>0</td>\n",
       "      <td>0</td>\n",
       "      <td>0</td>\n",
       "      <td>0</td>\n",
       "      <td>0</td>\n",
       "      <td>0</td>\n",
       "      <td>0</td>\n",
       "      <td>0</td>\n",
       "    </tr>\n",
       "    <tr>\n",
       "      <th>...</th>\n",
       "      <td>...</td>\n",
       "      <td>...</td>\n",
       "      <td>...</td>\n",
       "      <td>...</td>\n",
       "      <td>...</td>\n",
       "      <td>...</td>\n",
       "      <td>...</td>\n",
       "      <td>...</td>\n",
       "      <td>...</td>\n",
       "      <td>...</td>\n",
       "      <td>...</td>\n",
       "      <td>...</td>\n",
       "      <td>...</td>\n",
       "      <td>...</td>\n",
       "      <td>...</td>\n",
       "      <td>...</td>\n",
       "      <td>...</td>\n",
       "      <td>...</td>\n",
       "      <td>...</td>\n",
       "      <td>...</td>\n",
       "      <td>...</td>\n",
       "    </tr>\n",
       "    <tr>\n",
       "      <th>6531</th>\n",
       "      <td>0</td>\n",
       "      <td>0</td>\n",
       "      <td>0</td>\n",
       "      <td>0</td>\n",
       "      <td>0</td>\n",
       "      <td>0</td>\n",
       "      <td>0</td>\n",
       "      <td>0</td>\n",
       "      <td>0</td>\n",
       "      <td>0</td>\n",
       "      <td>...</td>\n",
       "      <td>0</td>\n",
       "      <td>0</td>\n",
       "      <td>0</td>\n",
       "      <td>0</td>\n",
       "      <td>0</td>\n",
       "      <td>0</td>\n",
       "      <td>0</td>\n",
       "      <td>0</td>\n",
       "      <td>0</td>\n",
       "      <td>0</td>\n",
       "    </tr>\n",
       "    <tr>\n",
       "      <th>6532</th>\n",
       "      <td>0</td>\n",
       "      <td>0</td>\n",
       "      <td>0</td>\n",
       "      <td>0</td>\n",
       "      <td>0</td>\n",
       "      <td>0</td>\n",
       "      <td>0</td>\n",
       "      <td>0</td>\n",
       "      <td>0</td>\n",
       "      <td>0</td>\n",
       "      <td>...</td>\n",
       "      <td>0</td>\n",
       "      <td>0</td>\n",
       "      <td>0</td>\n",
       "      <td>0</td>\n",
       "      <td>0</td>\n",
       "      <td>0</td>\n",
       "      <td>0</td>\n",
       "      <td>0</td>\n",
       "      <td>0</td>\n",
       "      <td>0</td>\n",
       "    </tr>\n",
       "    <tr>\n",
       "      <th>6533</th>\n",
       "      <td>1</td>\n",
       "      <td>0</td>\n",
       "      <td>0</td>\n",
       "      <td>0</td>\n",
       "      <td>0</td>\n",
       "      <td>0</td>\n",
       "      <td>0</td>\n",
       "      <td>0</td>\n",
       "      <td>0</td>\n",
       "      <td>0</td>\n",
       "      <td>...</td>\n",
       "      <td>0</td>\n",
       "      <td>0</td>\n",
       "      <td>0</td>\n",
       "      <td>0</td>\n",
       "      <td>0</td>\n",
       "      <td>0</td>\n",
       "      <td>0</td>\n",
       "      <td>0</td>\n",
       "      <td>0</td>\n",
       "      <td>0</td>\n",
       "    </tr>\n",
       "    <tr>\n",
       "      <th>6534</th>\n",
       "      <td>0</td>\n",
       "      <td>0</td>\n",
       "      <td>0</td>\n",
       "      <td>0</td>\n",
       "      <td>0</td>\n",
       "      <td>0</td>\n",
       "      <td>0</td>\n",
       "      <td>0</td>\n",
       "      <td>1</td>\n",
       "      <td>0</td>\n",
       "      <td>...</td>\n",
       "      <td>0</td>\n",
       "      <td>0</td>\n",
       "      <td>0</td>\n",
       "      <td>0</td>\n",
       "      <td>0</td>\n",
       "      <td>0</td>\n",
       "      <td>0</td>\n",
       "      <td>0</td>\n",
       "      <td>0</td>\n",
       "      <td>0</td>\n",
       "    </tr>\n",
       "    <tr>\n",
       "      <th>6535</th>\n",
       "      <td>0</td>\n",
       "      <td>0</td>\n",
       "      <td>0</td>\n",
       "      <td>0</td>\n",
       "      <td>0</td>\n",
       "      <td>0</td>\n",
       "      <td>0</td>\n",
       "      <td>0</td>\n",
       "      <td>0</td>\n",
       "      <td>0</td>\n",
       "      <td>...</td>\n",
       "      <td>0</td>\n",
       "      <td>0</td>\n",
       "      <td>0</td>\n",
       "      <td>0</td>\n",
       "      <td>0</td>\n",
       "      <td>0</td>\n",
       "      <td>0</td>\n",
       "      <td>0</td>\n",
       "      <td>0</td>\n",
       "      <td>0</td>\n",
       "    </tr>\n",
       "  </tbody>\n",
       "</table>\n",
       "<p>6536 rows × 43 columns</p>\n",
       "</div>"
      ],
      "text/plain": [
       "      Womens Nightwear, Socks & Tigh  Womens Small accessories  Men H&M Sport  \\\n",
       "0                                  1                         0              0   \n",
       "1                                  1                         0              0   \n",
       "2                                  1                         0              0   \n",
       "3                                  1                         0              0   \n",
       "4                                  1                         0              0   \n",
       "...                              ...                       ...            ...   \n",
       "6531                               0                         0              0   \n",
       "6532                               0                         0              0   \n",
       "6533                               1                         0              0   \n",
       "6534                               0                         0              0   \n",
       "6535                               0                         0              0   \n",
       "\n",
       "      Womens Lingerie  Womens Everyday Basics  Womens Big accessories  \\\n",
       "0                   0                       0                       0   \n",
       "1                   0                       0                       0   \n",
       "2                   0                       0                       0   \n",
       "3                   0                       0                       0   \n",
       "4                   0                       0                       0   \n",
       "...               ...                     ...                     ...   \n",
       "6531                0                       0                       0   \n",
       "6532                0                       0                       0   \n",
       "6533                0                       0                       0   \n",
       "6534                0                       0                       0   \n",
       "6535                0                       0                       0   \n",
       "\n",
       "      Divided Basics  Girls Underwear & Basics  H&M+  Mama  ...  Denim Men  \\\n",
       "0                  0                         0     0     0  ...          0   \n",
       "1                  0                         0     0     0  ...          0   \n",
       "2                  0                         0     0     0  ...          0   \n",
       "3                  0                         0     0     0  ...          0   \n",
       "4                  0                         0     0     0  ...          0   \n",
       "...              ...                       ...   ...   ...  ...        ...   \n",
       "6531               0                         0     0     0  ...          0   \n",
       "6532               0                         0     0     0  ...          0   \n",
       "6533               0                         0     0     0  ...          0   \n",
       "6534               0                         0     1     0  ...          0   \n",
       "6535               0                         0     0     0  ...          0   \n",
       "\n",
       "      Divided Asia keys  Divided Projects  Divided Accessories  Kids Girl  \\\n",
       "0                     0                 0                    0          0   \n",
       "1                     0                 0                    0          0   \n",
       "2                     0                 0                    0          0   \n",
       "3                     0                 0                    0          0   \n",
       "4                     0                 0                    0          0   \n",
       "...                 ...               ...                  ...        ...   \n",
       "6531                  0                 0                    0          0   \n",
       "6532                  0                 0                    0          0   \n",
       "6533                  0                 0                    0          0   \n",
       "6534                  0                 0                    0          0   \n",
       "6535                  0                 0                    0          0   \n",
       "\n",
       "      Young Girl  Baby Boy  Divided Complements Other  Kids Sports  Baby Girl  \n",
       "0              0         0                          0            0          0  \n",
       "1              0         0                          0            0          0  \n",
       "2              0         0                          0            0          0  \n",
       "3              0         0                          0            0          0  \n",
       "4              0         0                          0            0          0  \n",
       "...          ...       ...                        ...          ...        ...  \n",
       "6531           0         0                          0            0          0  \n",
       "6532           0         0                          0            0          0  \n",
       "6533           0         0                          0            0          0  \n",
       "6534           0         0                          0            0          0  \n",
       "6535           0         0                          0            0          0  \n",
       "\n",
       "[6536 rows x 43 columns]"
      ]
     },
     "execution_count": 227,
     "metadata": {},
     "output_type": "execute_result"
    }
   ],
   "source": [
    "section_count = Counter(articles['section_name'])\n",
    "sections = list(section_count.keys())\n",
    "for s in sections:\n",
    "    articles[s] = articles['section_name'].transform(lambda x: int(s in x))\n",
    "articles[sections]"
   ]
  },
  {
   "cell_type": "code",
   "execution_count": 228,
   "id": "df5e9b6a",
   "metadata": {
    "colab": {
     "base_uri": "https://localhost:8080/",
     "height": 500
    },
    "id": "df5e9b6a",
    "outputId": "735dff1f-a8cf-4f5c-e0ed-8a122ac6c84b"
   },
   "outputs": [
    {
     "data": {
      "text/html": [
       "<div>\n",
       "<style scoped>\n",
       "    .dataframe tbody tr th:only-of-type {\n",
       "        vertical-align: middle;\n",
       "    }\n",
       "\n",
       "    .dataframe tbody tr th {\n",
       "        vertical-align: top;\n",
       "    }\n",
       "\n",
       "    .dataframe thead th {\n",
       "        text-align: right;\n",
       "    }\n",
       "</style>\n",
       "<table border=\"1\" class=\"dataframe\">\n",
       "  <thead>\n",
       "    <tr style=\"text-align: right;\">\n",
       "      <th></th>\n",
       "      <th>Underwear Tights</th>\n",
       "      <th>Leggings/Tights</th>\n",
       "      <th>Umbrella</th>\n",
       "      <th>Sweater</th>\n",
       "      <th>Bra</th>\n",
       "      <th>Socks</th>\n",
       "      <th>Unknown</th>\n",
       "      <th>Belt</th>\n",
       "      <th>Hair clip</th>\n",
       "      <th>Hair string</th>\n",
       "      <th>...</th>\n",
       "      <th>Wallet</th>\n",
       "      <th>Sandals</th>\n",
       "      <th>Garment Set</th>\n",
       "      <th>Outdoor Waistcoat</th>\n",
       "      <th>Heels</th>\n",
       "      <th>Other shoe</th>\n",
       "      <th>Hairband</th>\n",
       "      <th>Flat shoes</th>\n",
       "      <th>Dog wear</th>\n",
       "      <th>Bracelet</th>\n",
       "    </tr>\n",
       "  </thead>\n",
       "  <tbody>\n",
       "    <tr>\n",
       "      <th>0</th>\n",
       "      <td>1</td>\n",
       "      <td>0</td>\n",
       "      <td>0</td>\n",
       "      <td>0</td>\n",
       "      <td>0</td>\n",
       "      <td>0</td>\n",
       "      <td>0</td>\n",
       "      <td>0</td>\n",
       "      <td>0</td>\n",
       "      <td>0</td>\n",
       "      <td>...</td>\n",
       "      <td>0</td>\n",
       "      <td>0</td>\n",
       "      <td>0</td>\n",
       "      <td>0</td>\n",
       "      <td>0</td>\n",
       "      <td>0</td>\n",
       "      <td>0</td>\n",
       "      <td>0</td>\n",
       "      <td>0</td>\n",
       "      <td>0</td>\n",
       "    </tr>\n",
       "    <tr>\n",
       "      <th>1</th>\n",
       "      <td>0</td>\n",
       "      <td>1</td>\n",
       "      <td>0</td>\n",
       "      <td>0</td>\n",
       "      <td>0</td>\n",
       "      <td>0</td>\n",
       "      <td>0</td>\n",
       "      <td>0</td>\n",
       "      <td>0</td>\n",
       "      <td>0</td>\n",
       "      <td>...</td>\n",
       "      <td>0</td>\n",
       "      <td>0</td>\n",
       "      <td>0</td>\n",
       "      <td>0</td>\n",
       "      <td>0</td>\n",
       "      <td>0</td>\n",
       "      <td>0</td>\n",
       "      <td>0</td>\n",
       "      <td>0</td>\n",
       "      <td>0</td>\n",
       "    </tr>\n",
       "    <tr>\n",
       "      <th>2</th>\n",
       "      <td>1</td>\n",
       "      <td>0</td>\n",
       "      <td>0</td>\n",
       "      <td>0</td>\n",
       "      <td>0</td>\n",
       "      <td>0</td>\n",
       "      <td>0</td>\n",
       "      <td>0</td>\n",
       "      <td>0</td>\n",
       "      <td>0</td>\n",
       "      <td>...</td>\n",
       "      <td>0</td>\n",
       "      <td>0</td>\n",
       "      <td>0</td>\n",
       "      <td>0</td>\n",
       "      <td>0</td>\n",
       "      <td>0</td>\n",
       "      <td>0</td>\n",
       "      <td>0</td>\n",
       "      <td>0</td>\n",
       "      <td>0</td>\n",
       "    </tr>\n",
       "    <tr>\n",
       "      <th>3</th>\n",
       "      <td>1</td>\n",
       "      <td>0</td>\n",
       "      <td>0</td>\n",
       "      <td>0</td>\n",
       "      <td>0</td>\n",
       "      <td>0</td>\n",
       "      <td>0</td>\n",
       "      <td>0</td>\n",
       "      <td>0</td>\n",
       "      <td>0</td>\n",
       "      <td>...</td>\n",
       "      <td>0</td>\n",
       "      <td>0</td>\n",
       "      <td>0</td>\n",
       "      <td>0</td>\n",
       "      <td>0</td>\n",
       "      <td>0</td>\n",
       "      <td>0</td>\n",
       "      <td>0</td>\n",
       "      <td>0</td>\n",
       "      <td>0</td>\n",
       "    </tr>\n",
       "    <tr>\n",
       "      <th>4</th>\n",
       "      <td>0</td>\n",
       "      <td>1</td>\n",
       "      <td>0</td>\n",
       "      <td>0</td>\n",
       "      <td>0</td>\n",
       "      <td>0</td>\n",
       "      <td>0</td>\n",
       "      <td>0</td>\n",
       "      <td>0</td>\n",
       "      <td>0</td>\n",
       "      <td>...</td>\n",
       "      <td>0</td>\n",
       "      <td>0</td>\n",
       "      <td>0</td>\n",
       "      <td>0</td>\n",
       "      <td>0</td>\n",
       "      <td>0</td>\n",
       "      <td>0</td>\n",
       "      <td>0</td>\n",
       "      <td>0</td>\n",
       "      <td>0</td>\n",
       "    </tr>\n",
       "    <tr>\n",
       "      <th>...</th>\n",
       "      <td>...</td>\n",
       "      <td>...</td>\n",
       "      <td>...</td>\n",
       "      <td>...</td>\n",
       "      <td>...</td>\n",
       "      <td>...</td>\n",
       "      <td>...</td>\n",
       "      <td>...</td>\n",
       "      <td>...</td>\n",
       "      <td>...</td>\n",
       "      <td>...</td>\n",
       "      <td>...</td>\n",
       "      <td>...</td>\n",
       "      <td>...</td>\n",
       "      <td>...</td>\n",
       "      <td>...</td>\n",
       "      <td>...</td>\n",
       "      <td>...</td>\n",
       "      <td>...</td>\n",
       "      <td>...</td>\n",
       "      <td>...</td>\n",
       "    </tr>\n",
       "    <tr>\n",
       "      <th>6531</th>\n",
       "      <td>0</td>\n",
       "      <td>0</td>\n",
       "      <td>0</td>\n",
       "      <td>1</td>\n",
       "      <td>0</td>\n",
       "      <td>0</td>\n",
       "      <td>0</td>\n",
       "      <td>0</td>\n",
       "      <td>0</td>\n",
       "      <td>0</td>\n",
       "      <td>...</td>\n",
       "      <td>0</td>\n",
       "      <td>0</td>\n",
       "      <td>0</td>\n",
       "      <td>0</td>\n",
       "      <td>0</td>\n",
       "      <td>0</td>\n",
       "      <td>0</td>\n",
       "      <td>0</td>\n",
       "      <td>0</td>\n",
       "      <td>0</td>\n",
       "    </tr>\n",
       "    <tr>\n",
       "      <th>6532</th>\n",
       "      <td>0</td>\n",
       "      <td>0</td>\n",
       "      <td>0</td>\n",
       "      <td>1</td>\n",
       "      <td>0</td>\n",
       "      <td>0</td>\n",
       "      <td>0</td>\n",
       "      <td>0</td>\n",
       "      <td>0</td>\n",
       "      <td>0</td>\n",
       "      <td>...</td>\n",
       "      <td>0</td>\n",
       "      <td>0</td>\n",
       "      <td>0</td>\n",
       "      <td>0</td>\n",
       "      <td>0</td>\n",
       "      <td>0</td>\n",
       "      <td>0</td>\n",
       "      <td>0</td>\n",
       "      <td>0</td>\n",
       "      <td>0</td>\n",
       "    </tr>\n",
       "    <tr>\n",
       "      <th>6533</th>\n",
       "      <td>1</td>\n",
       "      <td>0</td>\n",
       "      <td>0</td>\n",
       "      <td>0</td>\n",
       "      <td>0</td>\n",
       "      <td>0</td>\n",
       "      <td>0</td>\n",
       "      <td>0</td>\n",
       "      <td>0</td>\n",
       "      <td>0</td>\n",
       "      <td>...</td>\n",
       "      <td>0</td>\n",
       "      <td>0</td>\n",
       "      <td>0</td>\n",
       "      <td>0</td>\n",
       "      <td>0</td>\n",
       "      <td>0</td>\n",
       "      <td>0</td>\n",
       "      <td>0</td>\n",
       "      <td>0</td>\n",
       "      <td>0</td>\n",
       "    </tr>\n",
       "    <tr>\n",
       "      <th>6534</th>\n",
       "      <td>0</td>\n",
       "      <td>0</td>\n",
       "      <td>0</td>\n",
       "      <td>0</td>\n",
       "      <td>0</td>\n",
       "      <td>0</td>\n",
       "      <td>0</td>\n",
       "      <td>0</td>\n",
       "      <td>0</td>\n",
       "      <td>0</td>\n",
       "      <td>...</td>\n",
       "      <td>0</td>\n",
       "      <td>0</td>\n",
       "      <td>0</td>\n",
       "      <td>0</td>\n",
       "      <td>0</td>\n",
       "      <td>0</td>\n",
       "      <td>0</td>\n",
       "      <td>0</td>\n",
       "      <td>0</td>\n",
       "      <td>0</td>\n",
       "    </tr>\n",
       "    <tr>\n",
       "      <th>6535</th>\n",
       "      <td>0</td>\n",
       "      <td>0</td>\n",
       "      <td>0</td>\n",
       "      <td>0</td>\n",
       "      <td>0</td>\n",
       "      <td>0</td>\n",
       "      <td>0</td>\n",
       "      <td>0</td>\n",
       "      <td>0</td>\n",
       "      <td>0</td>\n",
       "      <td>...</td>\n",
       "      <td>0</td>\n",
       "      <td>0</td>\n",
       "      <td>0</td>\n",
       "      <td>0</td>\n",
       "      <td>0</td>\n",
       "      <td>0</td>\n",
       "      <td>0</td>\n",
       "      <td>0</td>\n",
       "      <td>0</td>\n",
       "      <td>0</td>\n",
       "    </tr>\n",
       "  </tbody>\n",
       "</table>\n",
       "<p>6536 rows × 82 columns</p>\n",
       "</div>"
      ],
      "text/plain": [
       "      Underwear Tights  Leggings/Tights  Umbrella  Sweater  Bra  Socks  \\\n",
       "0                    1                0         0        0    0      0   \n",
       "1                    0                1         0        0    0      0   \n",
       "2                    1                0         0        0    0      0   \n",
       "3                    1                0         0        0    0      0   \n",
       "4                    0                1         0        0    0      0   \n",
       "...                ...              ...       ...      ...  ...    ...   \n",
       "6531                 0                0         0        1    0      0   \n",
       "6532                 0                0         0        1    0      0   \n",
       "6533                 1                0         0        0    0      0   \n",
       "6534                 0                0         0        0    0      0   \n",
       "6535                 0                0         0        0    0      0   \n",
       "\n",
       "      Unknown  Belt  Hair clip  Hair string  ...  Wallet  Sandals  \\\n",
       "0           0     0          0            0  ...       0        0   \n",
       "1           0     0          0            0  ...       0        0   \n",
       "2           0     0          0            0  ...       0        0   \n",
       "3           0     0          0            0  ...       0        0   \n",
       "4           0     0          0            0  ...       0        0   \n",
       "...       ...   ...        ...          ...  ...     ...      ...   \n",
       "6531        0     0          0            0  ...       0        0   \n",
       "6532        0     0          0            0  ...       0        0   \n",
       "6533        0     0          0            0  ...       0        0   \n",
       "6534        0     0          0            0  ...       0        0   \n",
       "6535        0     0          0            0  ...       0        0   \n",
       "\n",
       "      Garment Set  Outdoor Waistcoat  Heels  Other shoe  Hairband  Flat shoes  \\\n",
       "0               0                  0      0           0         0           0   \n",
       "1               0                  0      0           0         0           0   \n",
       "2               0                  0      0           0         0           0   \n",
       "3               0                  0      0           0         0           0   \n",
       "4               0                  0      0           0         0           0   \n",
       "...           ...                ...    ...         ...       ...         ...   \n",
       "6531            0                  0      0           0         0           0   \n",
       "6532            0                  0      0           0         0           0   \n",
       "6533            0                  0      0           0         0           0   \n",
       "6534            0                  0      0           0         0           0   \n",
       "6535            0                  0      0           0         0           0   \n",
       "\n",
       "      Dog wear  Bracelet  \n",
       "0            0         0  \n",
       "1            0         0  \n",
       "2            0         0  \n",
       "3            0         0  \n",
       "4            0         0  \n",
       "...        ...       ...  \n",
       "6531         0         0  \n",
       "6532         0         0  \n",
       "6533         0         0  \n",
       "6534         0         0  \n",
       "6535         0         0  \n",
       "\n",
       "[6536 rows x 82 columns]"
      ]
     },
     "execution_count": 228,
     "metadata": {},
     "output_type": "execute_result"
    }
   ],
   "source": [
    "type_article_count = Counter(articles['product_type_name'])\n",
    "types = list(type_article_count.keys())\n",
    "for t in types:\n",
    "    articles[t] = articles['product_type_name'].transform(lambda x: int(t in x))\n",
    "articles[types]"
   ]
  },
  {
   "cell_type": "markdown",
   "id": "02051123",
   "metadata": {
    "id": "02051123"
   },
   "source": [
    "In the following passage, we merge all the information into a unique dataframe."
   ]
  },
  {
   "cell_type": "code",
   "execution_count": 229,
   "id": "c214caf1",
   "metadata": {
    "colab": {
     "base_uri": "https://localhost:8080/",
     "height": 314
    },
    "id": "c214caf1",
    "outputId": "3b84063a-305e-41ba-a877-f384b5cb19cf"
   },
   "outputs": [
    {
     "data": {
      "text/html": [
       "<div>\n",
       "<style scoped>\n",
       "    .dataframe tbody tr th:only-of-type {\n",
       "        vertical-align: middle;\n",
       "    }\n",
       "\n",
       "    .dataframe tbody tr th {\n",
       "        vertical-align: top;\n",
       "    }\n",
       "\n",
       "    .dataframe thead th {\n",
       "        text-align: right;\n",
       "    }\n",
       "</style>\n",
       "<table border=\"1\" class=\"dataframe\">\n",
       "  <thead>\n",
       "    <tr style=\"text-align: right;\">\n",
       "      <th></th>\n",
       "      <th>Black</th>\n",
       "      <th>Blue</th>\n",
       "      <th>Grey</th>\n",
       "      <th>Beige</th>\n",
       "      <th>White</th>\n",
       "      <th>Brown</th>\n",
       "      <th>Mole</th>\n",
       "      <th>Khaki green</th>\n",
       "      <th>Red</th>\n",
       "      <th>Metal</th>\n",
       "      <th>...</th>\n",
       "      <th>Wallet</th>\n",
       "      <th>Sandals</th>\n",
       "      <th>Garment Set</th>\n",
       "      <th>Outdoor Waistcoat</th>\n",
       "      <th>Heels</th>\n",
       "      <th>Other shoe</th>\n",
       "      <th>Hairband</th>\n",
       "      <th>Flat shoes</th>\n",
       "      <th>Dog wear</th>\n",
       "      <th>Bracelet</th>\n",
       "    </tr>\n",
       "  </thead>\n",
       "  <tbody>\n",
       "    <tr>\n",
       "      <th>0</th>\n",
       "      <td>1</td>\n",
       "      <td>0</td>\n",
       "      <td>0</td>\n",
       "      <td>0</td>\n",
       "      <td>0</td>\n",
       "      <td>0</td>\n",
       "      <td>0</td>\n",
       "      <td>0</td>\n",
       "      <td>0</td>\n",
       "      <td>0</td>\n",
       "      <td>...</td>\n",
       "      <td>0</td>\n",
       "      <td>0</td>\n",
       "      <td>0</td>\n",
       "      <td>0</td>\n",
       "      <td>0</td>\n",
       "      <td>0</td>\n",
       "      <td>0</td>\n",
       "      <td>0</td>\n",
       "      <td>0</td>\n",
       "      <td>0</td>\n",
       "    </tr>\n",
       "    <tr>\n",
       "      <th>1</th>\n",
       "      <td>1</td>\n",
       "      <td>0</td>\n",
       "      <td>0</td>\n",
       "      <td>0</td>\n",
       "      <td>0</td>\n",
       "      <td>0</td>\n",
       "      <td>0</td>\n",
       "      <td>0</td>\n",
       "      <td>0</td>\n",
       "      <td>0</td>\n",
       "      <td>...</td>\n",
       "      <td>0</td>\n",
       "      <td>0</td>\n",
       "      <td>0</td>\n",
       "      <td>0</td>\n",
       "      <td>0</td>\n",
       "      <td>0</td>\n",
       "      <td>0</td>\n",
       "      <td>0</td>\n",
       "      <td>0</td>\n",
       "      <td>0</td>\n",
       "    </tr>\n",
       "    <tr>\n",
       "      <th>2</th>\n",
       "      <td>1</td>\n",
       "      <td>0</td>\n",
       "      <td>0</td>\n",
       "      <td>0</td>\n",
       "      <td>0</td>\n",
       "      <td>0</td>\n",
       "      <td>0</td>\n",
       "      <td>0</td>\n",
       "      <td>0</td>\n",
       "      <td>0</td>\n",
       "      <td>...</td>\n",
       "      <td>0</td>\n",
       "      <td>0</td>\n",
       "      <td>0</td>\n",
       "      <td>0</td>\n",
       "      <td>0</td>\n",
       "      <td>0</td>\n",
       "      <td>0</td>\n",
       "      <td>0</td>\n",
       "      <td>0</td>\n",
       "      <td>0</td>\n",
       "    </tr>\n",
       "    <tr>\n",
       "      <th>3</th>\n",
       "      <td>1</td>\n",
       "      <td>0</td>\n",
       "      <td>0</td>\n",
       "      <td>0</td>\n",
       "      <td>0</td>\n",
       "      <td>0</td>\n",
       "      <td>0</td>\n",
       "      <td>0</td>\n",
       "      <td>0</td>\n",
       "      <td>0</td>\n",
       "      <td>...</td>\n",
       "      <td>0</td>\n",
       "      <td>0</td>\n",
       "      <td>0</td>\n",
       "      <td>0</td>\n",
       "      <td>0</td>\n",
       "      <td>0</td>\n",
       "      <td>0</td>\n",
       "      <td>0</td>\n",
       "      <td>0</td>\n",
       "      <td>0</td>\n",
       "    </tr>\n",
       "    <tr>\n",
       "      <th>4</th>\n",
       "      <td>1</td>\n",
       "      <td>0</td>\n",
       "      <td>0</td>\n",
       "      <td>0</td>\n",
       "      <td>0</td>\n",
       "      <td>0</td>\n",
       "      <td>0</td>\n",
       "      <td>0</td>\n",
       "      <td>0</td>\n",
       "      <td>0</td>\n",
       "      <td>...</td>\n",
       "      <td>0</td>\n",
       "      <td>0</td>\n",
       "      <td>0</td>\n",
       "      <td>0</td>\n",
       "      <td>0</td>\n",
       "      <td>0</td>\n",
       "      <td>0</td>\n",
       "      <td>0</td>\n",
       "      <td>0</td>\n",
       "      <td>0</td>\n",
       "    </tr>\n",
       "  </tbody>\n",
       "</table>\n",
       "<p>5 rows × 141 columns</p>\n",
       "</div>"
      ],
      "text/plain": [
       "   Black  Blue  Grey  Beige  White  Brown  Mole  Khaki green  Red  Metal  ...  \\\n",
       "0      1     0     0      0      0      0     0            0    0      0  ...   \n",
       "1      1     0     0      0      0      0     0            0    0      0  ...   \n",
       "2      1     0     0      0      0      0     0            0    0      0  ...   \n",
       "3      1     0     0      0      0      0     0            0    0      0  ...   \n",
       "4      1     0     0      0      0      0     0            0    0      0  ...   \n",
       "\n",
       "   Wallet  Sandals  Garment Set  Outdoor Waistcoat  Heels  Other shoe  \\\n",
       "0       0        0            0                  0      0           0   \n",
       "1       0        0            0                  0      0           0   \n",
       "2       0        0            0                  0      0           0   \n",
       "3       0        0            0                  0      0           0   \n",
       "4       0        0            0                  0      0           0   \n",
       "\n",
       "   Hairband  Flat shoes  Dog wear  Bracelet  \n",
       "0         0           0         0         0  \n",
       "1         0           0         0         0  \n",
       "2         0           0         0         0  \n",
       "3         0           0         0         0  \n",
       "4         0           0         0         0  \n",
       "\n",
       "[5 rows x 141 columns]"
      ]
     },
     "execution_count": 229,
     "metadata": {},
     "output_type": "execute_result"
    }
   ],
   "source": [
    "article_features = pd.concat([articles[colours], articles[sections], articles[types]], axis=1)\n",
    "article_features.head()"
   ]
  },
  {
   "cell_type": "markdown",
   "id": "494900c1",
   "metadata": {
    "id": "494900c1"
   },
   "source": [
    "2) In order to make the collaborative reccomender system, we can use the cosine similarity, which is a similarity metric.\n",
    "\n",
    "To give a very quick explanation of the functionality of cosine similarity, it simply looks at the cosine angle between two vectors and the smaller it is, the higher the degree of similarity will be.\n",
    "The cosine similarity matrix has shape 6536 x 6536, which correspond to the total number of articles.\n",
    "\n",
    "With the cosine similarity matrix we are able to identify the articles that are more similar to the article of interest."
   ]
  },
  {
   "cell_type": "code",
   "execution_count": 230,
   "id": "6cef8b72",
   "metadata": {
    "colab": {
     "base_uri": "https://localhost:8080/"
    },
    "id": "6cef8b72",
    "outputId": "13b703ba-c042-4e0a-f8b3-4ddb8d1a7b44"
   },
   "outputs": [
    {
     "name": "stdout",
     "output_type": "stream",
     "text": [
      "Dimensions of our movie features cosine similarity matrix: (6536, 6536)\n"
     ]
    }
   ],
   "source": [
    "from sklearn.metrics.pairwise import cosine_similarity\n",
    "cosine_sim = cosine_similarity(article_features, article_features)\n",
    "print(f\"Dimensions of our movie features cosine similarity matrix: {cosine_sim.shape}\")"
   ]
  },
  {
   "cell_type": "markdown",
   "id": "11e11528",
   "metadata": {
    "id": "11e11528"
   },
   "source": [
    "3) Since we need to have some informations of the product we reccommend, the id of the product is not enough, so we need to create a dictionary that will map for each id the name of the article (in order to be more clear)."
   ]
  },
  {
   "cell_type": "code",
   "execution_count": 231,
   "id": "c82f20e8",
   "metadata": {
    "id": "c82f20e8"
   },
   "outputs": [],
   "source": [
    "product_dict = {}\n",
    "for i,row in articles.iterrows():\n",
    "    product_dict[row['article_id']] = {'Name': row['prod_name'], 'Color': row['colour_group_name']}"
   ]
  },
  {
   "cell_type": "markdown",
   "id": "5d1623b4",
   "metadata": {
    "id": "5d1623b4"
   },
   "source": [
    "4) The following function retrieves the 10 most similar articles to the one that we give as input. The input is the article ID, which is unique.\n",
    "The function takes the row of the similarity matrix associated to the article ID and we sort the elements in decreasing order. Finally we can take just the items we are interested into."
   ]
  },
  {
   "cell_type": "code",
   "execution_count": 321,
   "id": "87eb7cc8",
   "metadata": {
    "id": "87eb7cc8"
   },
   "outputs": [],
   "source": [
    "def get_content_based_recommendations(prod_id, n:int):\n",
    "    id = articles[articles['article_id'] == prod_id].index\n",
    "    sim_scores = np.argsort(cosine_sim[id])[0] #returns ID sorted by the values\n",
    "    sim_scores_out = list(sim_scores[::-1][1:n+1])\n",
    "\n",
    "    if prod_id in sim_scores_out:\n",
    "        sim_scores_out = list(sim_scores[::-1][1:n+2])\n",
    "        sim_scores_out.remove(prod_id)\n",
    "         #flip the output to get the IDs in descending order\n",
    "    \n",
    "    if n < 1:\n",
    "        print(f\"The number of articles to be suggested '{n}' you asked is meaningless, you have to ask for at least 1 similar product.\")\n",
    "        return\n",
    "    \n",
    "    if n == 1:\n",
    "        print(f\"The main recommendation for {product_dict[prod_id]['Color']} {product_dict[prod_id]['Name']} (Id: {prod_id}) is:\\n\")\n",
    "    \n",
    "    if n > 1:\n",
    "        print(f\"Here we can see the top {n} recommendations for {product_dict[prod_id]['Color']} {product_dict[prod_id]['Name']} (Id: {prod_id}):\\n\")\n",
    "    \n",
    "    for i in sim_scores_out:\n",
    "        print(f\"\\n{product_dict[i]['Color']} {product_dict[i]['Name']} (Id: {i})\")\n",
    "    "
   ]
  },
  {
   "cell_type": "code",
   "execution_count": 320,
   "id": "528dc7dd",
   "metadata": {
    "colab": {
     "base_uri": "https://localhost:8080/"
    },
    "id": "528dc7dd",
    "outputId": "712cbe89-9c2c-4bba-8bfa-dfc6f8f2b6d8"
   },
   "outputs": [
    {
     "name": "stdout",
     "output_type": "stream",
     "text": [
      "Here we can see the top 10 recommendations for White 3p Sneaker Socks (Id: 20):\n",
      "\n",
      "\n",
      "White Quickdry 5p shaftless (Id: 703)\n",
      "\n",
      "White Short 5p Socks(1) (Id: 4673)\n",
      "\n",
      "White 7p Basic Shaftless (Id: 116)\n",
      "\n",
      "White 1p Fun Socks (Id: 2243)\n",
      "\n",
      "White 1p Short Socks (Id: 2251)\n",
      "\n",
      "White 1p Short Socks (Id: 2252)\n",
      "\n",
      "White Mini Trainer 5p Socks (Id: 661)\n",
      "\n",
      "White Sportsneaker 3p socks (Id: 69)\n",
      "\n",
      "White 1p Shaftless (Id: 4135)\n",
      "\n",
      "White 1p lurex socks (Id: 6506)\n"
     ]
    }
   ],
   "source": [
    "prod_id = 20\n",
    "get_content_based_recommendations(prod_id,10)"
   ]
  },
  {
   "cell_type": "code",
   "execution_count": 234,
   "id": "381f8831",
   "metadata": {
    "colab": {
     "base_uri": "https://localhost:8080/"
    },
    "id": "381f8831",
    "outputId": "4f982e01-d629-4732-9bf6-ba5c8a47f8ec"
   },
   "outputs": [
    {
     "name": "stdout",
     "output_type": "stream",
     "text": [
      "Recommendations for Black Support 40 den 1p Tights (Id: 2):\n",
      "\n",
      "\n",
      "Black PLUS Support 40 Den 1 p Tights (Id: 362)\n",
      "\n",
      "Black Control Lt 40 den 2p Tights (Id: 288)\n",
      "\n",
      "Black Mama Support 100 den (Id: 267)\n",
      "\n",
      "Black Control Top 15 den 1p Tights (Id: 191)\n"
     ]
    }
   ],
   "source": [
    "prod_id = 2\n",
    "get_content_based_recommendations(prod_id,4)"
   ]
  },
  {
   "cell_type": "markdown",
   "id": "aa21e1f4",
   "metadata": {
    "id": "aa21e1f4"
   },
   "source": [
    "# USER-BASED FILTERING RECOMMENDER"
   ]
  },
  {
   "cell_type": "markdown",
   "id": "7bb07524",
   "metadata": {
    "id": "7bb07524"
   },
   "source": [
    "The second recommender we're going to use is the user-based.\n",
    "An important feature in markets is the users similiarity, that can lead us to suggest articles basing on possible links between users.\n",
    "\n",
    "1) Here we create a new dataframe where we have all the purchases made by each customer."
   ]
  },
  {
   "cell_type": "code",
   "execution_count": 235,
   "id": "e0b178f8",
   "metadata": {
    "colab": {
     "base_uri": "https://localhost:8080/",
     "height": 419
    },
    "id": "e0b178f8",
    "outputId": "b49663d1-2e86-4a65-dd46-9d9fc2a85d3c"
   },
   "outputs": [
    {
     "data": {
      "text/html": [
       "<div>\n",
       "<style scoped>\n",
       "    .dataframe tbody tr th:only-of-type {\n",
       "        vertical-align: middle;\n",
       "    }\n",
       "\n",
       "    .dataframe tbody tr th {\n",
       "        vertical-align: top;\n",
       "    }\n",
       "\n",
       "    .dataframe thead th {\n",
       "        text-align: right;\n",
       "    }\n",
       "</style>\n",
       "<table border=\"1\" class=\"dataframe\">\n",
       "  <thead>\n",
       "    <tr style=\"text-align: right;\">\n",
       "      <th></th>\n",
       "      <th>customer_id</th>\n",
       "      <th>article_id</th>\n",
       "      <th>transactions</th>\n",
       "    </tr>\n",
       "  </thead>\n",
       "  <tbody>\n",
       "    <tr>\n",
       "      <th>0</th>\n",
       "      <td>0</td>\n",
       "      <td>463</td>\n",
       "      <td>1</td>\n",
       "    </tr>\n",
       "    <tr>\n",
       "      <th>1</th>\n",
       "      <td>0</td>\n",
       "      <td>5571</td>\n",
       "      <td>1</td>\n",
       "    </tr>\n",
       "    <tr>\n",
       "      <th>2</th>\n",
       "      <td>0</td>\n",
       "      <td>6120</td>\n",
       "      <td>1</td>\n",
       "    </tr>\n",
       "    <tr>\n",
       "      <th>3</th>\n",
       "      <td>0</td>\n",
       "      <td>6440</td>\n",
       "      <td>1</td>\n",
       "    </tr>\n",
       "    <tr>\n",
       "      <th>4</th>\n",
       "      <td>1</td>\n",
       "      <td>617</td>\n",
       "      <td>1</td>\n",
       "    </tr>\n",
       "    <tr>\n",
       "      <th>...</th>\n",
       "      <td>...</td>\n",
       "      <td>...</td>\n",
       "      <td>...</td>\n",
       "    </tr>\n",
       "    <tr>\n",
       "      <th>301932</th>\n",
       "      <td>41252</td>\n",
       "      <td>350</td>\n",
       "      <td>1</td>\n",
       "    </tr>\n",
       "    <tr>\n",
       "      <th>301933</th>\n",
       "      <td>41252</td>\n",
       "      <td>1184</td>\n",
       "      <td>1</td>\n",
       "    </tr>\n",
       "    <tr>\n",
       "      <th>301934</th>\n",
       "      <td>41252</td>\n",
       "      <td>1340</td>\n",
       "      <td>1</td>\n",
       "    </tr>\n",
       "    <tr>\n",
       "      <th>301935</th>\n",
       "      <td>41252</td>\n",
       "      <td>1974</td>\n",
       "      <td>1</td>\n",
       "    </tr>\n",
       "    <tr>\n",
       "      <th>301936</th>\n",
       "      <td>41252</td>\n",
       "      <td>2166</td>\n",
       "      <td>1</td>\n",
       "    </tr>\n",
       "  </tbody>\n",
       "</table>\n",
       "<p>301937 rows × 3 columns</p>\n",
       "</div>"
      ],
      "text/plain": [
       "        customer_id  article_id  transactions\n",
       "0                 0         463             1\n",
       "1                 0        5571             1\n",
       "2                 0        6120             1\n",
       "3                 0        6440             1\n",
       "4                 1         617             1\n",
       "...             ...         ...           ...\n",
       "301932        41252         350             1\n",
       "301933        41252        1184             1\n",
       "301934        41252        1340             1\n",
       "301935        41252        1974             1\n",
       "301936        41252        2166             1\n",
       "\n",
       "[301937 rows x 3 columns]"
      ]
     },
     "execution_count": 235,
     "metadata": {},
     "output_type": "execute_result"
    }
   ],
   "source": [
    "ua_transactions = transactions.groupby(['customer_id', 'article_id']).count().reset_index()\n",
    "ua_transactions.columns = ['customer_id', 'article_id', 'transactions']\n",
    "ua_transactions"
   ]
  },
  {
   "cell_type": "markdown",
   "id": "6ddfe139",
   "metadata": {
    "id": "6ddfe139"
   },
   "source": [
    "2) Now we are going to build a 'utility' matrix with customer_id as column index and article_id as row index.\n",
    "\n",
    "The values inside the 'utility' matrix represent how many times a specific customer bought a specific article.\n",
    "This matrix will have many unobserved entries because each user purchases only a limited amount of products."
   ]
  },
  {
   "cell_type": "code",
   "execution_count": 236,
   "id": "5829433b",
   "metadata": {
    "id": "5829433b"
   },
   "outputs": [],
   "source": [
    "N = ua_transactions['customer_id'].nunique() #41246\n",
    "M = ua_transactions['article_id'].nunique() #6469"
   ]
  },
  {
   "cell_type": "markdown",
   "id": "64281932",
   "metadata": {
    "id": "64281932"
   },
   "source": [
    "In the following code, we use dictionaries in order to map each row and column of the utility matrix to its correspondent article ID. For instance, article mapper maps the article ID to its index and article_inv_mapper does the same in the other way around."
   ]
  },
  {
   "cell_type": "code",
   "execution_count": 237,
   "id": "96d08a51",
   "metadata": {
    "id": "96d08a51"
   },
   "outputs": [],
   "source": [
    "article_mapper = dict(zip(np.unique(ua_transactions[\"article_id\"]), list(range(M))))\n",
    "article_inv_mapper = dict(zip(list(range(M)), np.unique(ua_transactions[\"article_id\"])))\n",
    "\n",
    "article_index = [article_mapper[i] for i in ua_transactions['article_id']] #301937"
   ]
  },
  {
   "cell_type": "code",
   "execution_count": 238,
   "id": "BALYHOPRu-nO",
   "metadata": {
    "id": "BALYHOPRu-nO"
   },
   "outputs": [],
   "source": [
    "customer_mapper = dict(zip(np.unique(ua_transactions[\"customer_id\"]), list(range(N))))\n",
    "customer_inv_mapper = dict(zip(list(range(N)), np.unique(ua_transactions[\"customer_id\"])))\n",
    "\n",
    "customer_index = [customer_mapper[i] for i in ua_transactions['customer_id']]"
   ]
  },
  {
   "cell_type": "markdown",
   "id": "e759b19a",
   "metadata": {
    "id": "e759b19a"
   },
   "source": [
    "The function we will use is: 'crs_matrix', which stands for compressed row storage."
   ]
  },
  {
   "cell_type": "code",
   "execution_count": 239,
   "id": "7fd9ae87",
   "metadata": {
    "id": "7fd9ae87"
   },
   "outputs": [],
   "source": [
    "from scipy.sparse import csr_matrix\n",
    "\n",
    "X = csr_matrix((ua_transactions[\"transactions\"], (article_index, customer_index)), shape=(M, N))"
   ]
  },
  {
   "cell_type": "code",
   "execution_count": 240,
   "id": "10bbd542",
   "metadata": {
    "colab": {
     "base_uri": "https://localhost:8080/"
    },
    "id": "10bbd542",
    "outputId": "30a8baf7-9e7c-466b-fc07-b4c0ced6850e"
   },
   "outputs": [
    {
     "data": {
      "text/plain": [
       "<6469x41246 sparse matrix of type '<class 'numpy.int64'>'\n",
       "\twith 301937 stored elements in Compressed Sparse Row format>"
      ]
     },
     "execution_count": 240,
     "metadata": {},
     "output_type": "execute_result"
    }
   ],
   "source": [
    "X"
   ]
  },
  {
   "cell_type": "markdown",
   "id": "542b5be5",
   "metadata": {
    "id": "542b5be5"
   },
   "source": [
    "3) In order to check the integrity of our matrix, we have to compute the sparsity.\n",
    "We know that user-item matrices are usually sparse."
   ]
  },
  {
   "cell_type": "code",
   "execution_count": 241,
   "id": "4a89f823",
   "metadata": {
    "colab": {
     "base_uri": "https://localhost:8080/"
    },
    "id": "4a89f823",
    "outputId": "e986b0cc-0fc1-4489-f089-b488c54644a6"
   },
   "outputs": [
    {
     "name": "stdout",
     "output_type": "stream",
     "text": [
      "Matrix sparsity: 0.1132%\n"
     ]
    }
   ],
   "source": [
    "sparsity = X.count_nonzero()/(X.shape[0]*X.shape[1])\n",
    "print(f\"Matrix sparsity: {round(sparsity*100,4)}%\")"
   ]
  },
  {
   "cell_type": "markdown",
   "id": "de6bc5fe",
   "metadata": {
    "id": "de6bc5fe"
   },
   "source": [
    "The value of sparsity of our matrix is low, but this result was expected. Usually, it is good for the value of the percentage to be not lower than 0.5%.\n",
    "\n",
    "4) To try to increase the sparsity of our matrix and in order to improve our model, we are going to ignore part of the customers, namely the ones that have bought a low amount of articles. This is beacuse the columns of these customers will have many zero elements. \n",
    "Furthermore, another reason for this fact, is that people who buy less articles are not incentivated to buy more products. "
   ]
  },
  {
   "cell_type": "markdown",
   "id": "4e149afc",
   "metadata": {
    "id": "4e149afc"
   },
   "source": [
    "We start by creating a new dataframe in which we keep only the transactions for the customers who have accomplished more than an amount q of transactions. Obviously, playing with this value q, the resulting sparsity of the matrix will be influenced!"
   ]
  },
  {
   "cell_type": "markdown",
   "id": "20de0e36",
   "metadata": {
    "id": "20de0e36"
   },
   "source": [
    "**ATTENTION!** <br> By reducing the number of customers, we will lose a large amount of information which might lead to possible wrong interpretations. We have therefore to find an equilibrium between having a higher value for sparsity and not eliminating too much information."
   ]
  },
  {
   "cell_type": "code",
   "execution_count": 242,
   "id": "dec848a0",
   "metadata": {
    "id": "dec848a0"
   },
   "outputs": [],
   "source": [
    "customer_transactions_count_df2 = customer_transactions_count_df[customer_transactions_count_df['Number of Transactions'] > 27]"
   ]
  },
  {
   "cell_type": "code",
   "execution_count": 243,
   "id": "2ab2b043",
   "metadata": {
    "id": "2ab2b043"
   },
   "outputs": [],
   "source": [
    "cust_list = list(customer_transactions_count_df2['Customer ID']) #outputs a list with all the IDs of the customers with more than q transactions"
   ]
  },
  {
   "cell_type": "code",
   "execution_count": 244,
   "id": "b27faffb",
   "metadata": {
    "id": "b27faffb"
   },
   "outputs": [],
   "source": [
    "ua_transactions_overq = ua_transactions.query('customer_id in @cust_list') #dataframe that contains customer_id, article_id and number \n",
    "                                                                            #of transactions of the people who have done more than q transactions"
   ]
  },
  {
   "cell_type": "markdown",
   "id": "9b31e91a",
   "metadata": {
    "id": "9b31e91a"
   },
   "source": [
    "As before, we can now start building the main elements of our new matrix."
   ]
  },
  {
   "cell_type": "code",
   "execution_count": 245,
   "id": "c8016dbd",
   "metadata": {
    "id": "c8016dbd"
   },
   "outputs": [],
   "source": [
    "N2 = ua_transactions_overq['customer_id'].nunique() #number of unique customers in the new dataframe\n",
    "M2 = ua_transactions_overq['article_id'].nunique() #number of unique articles in the new dataframe"
   ]
  },
  {
   "cell_type": "markdown",
   "id": "cfe41cff",
   "metadata": {
    "id": "cfe41cff"
   },
   "source": [
    "A further passage to be done before creating our matrix is to rescale all the indexes of both the articles and the customers. Differently from before, we lose some customers and at the same time also some articles (even though just a small amount of them). For this reason, there is the necessity to rescale all the indexes using a new mapper."
   ]
  },
  {
   "cell_type": "code",
   "execution_count": 246,
   "id": "73164b76",
   "metadata": {
    "id": "73164b76"
   },
   "outputs": [],
   "source": [
    "article_mapper2 = dict(zip(np.unique(ua_transactions_overq['article_id']), list(range(M2))))\n",
    "article_inv_mapper2 = dict(zip(list(range(M2)), np.unique(ua_transactions_overq['article_id'])))\n",
    "\n",
    "article_index2 = [article_mapper2[i] for i in ua_transactions_overq['article_id']] #new indexes for all the articles"
   ]
  },
  {
   "cell_type": "code",
   "execution_count": 247,
   "id": "606b13bb",
   "metadata": {
    "id": "606b13bb"
   },
   "outputs": [],
   "source": [
    "customer_mapper2 = dict(zip(np.unique(ua_transactions_overq['customer_id']), list(range(N2))))\n",
    "customer_inv_mapper2 = dict(zip(list(range(N2)), np.unique(ua_transactions_overq['customer_id'])))\n",
    "\n",
    "customer_index2 = [customer_mapper2[i] for i in ua_transactions_overq['customer_id']] #new indexes for all the customers"
   ]
  },
  {
   "cell_type": "markdown",
   "id": "a7dfc255",
   "metadata": {
    "id": "a7dfc255"
   },
   "source": [
    "We are now ready to create the new matrix X2, which will have all the customers that carry out more than q transactions as columns and articles as rows. The values inside the matrix will obviously match a transaction made by a customer to buy a respective product."
   ]
  },
  {
   "cell_type": "code",
   "execution_count": 248,
   "id": "069e7c16",
   "metadata": {
    "id": "069e7c16"
   },
   "outputs": [],
   "source": [
    "X2 = csr_matrix((ua_transactions_overq[\"transactions\"], (article_index2, customer_index2)), shape=(M2, N2))"
   ]
  },
  {
   "cell_type": "code",
   "execution_count": 249,
   "id": "1185c8de",
   "metadata": {
    "colab": {
     "base_uri": "https://localhost:8080/"
    },
    "id": "1185c8de",
    "outputId": "2c7b8876-4bab-4739-d639-f9eec420f7e0"
   },
   "outputs": [
    {
     "name": "stdout",
     "output_type": "stream",
     "text": [
      "Matrix sparsity: 0.5977%\n"
     ]
    }
   ],
   "source": [
    "sparsity2 = X2.count_nonzero()/(X2.shape[0]*X2.shape[1])\n",
    "print(f\"Matrix sparsity: {round(sparsity2*100,4)}%\")"
   ]
  },
  {
   "cell_type": "markdown",
   "id": "96aa1d7d",
   "metadata": {
    "id": "96aa1d7d"
   },
   "source": [
    "The latter value is the best we can achieve. We have decided to stop to reduce our matrix because reducing it more would lead to a biased recommendation system. We are aware of the fact that this is not the best algorithm in our case because the matrix is really too sparse. We discard all the customers that have the number of transactions lower than 27. Increasing this number would lead to a too small dataset."
   ]
  },
  {
   "cell_type": "markdown",
   "id": "27762eec",
   "metadata": {
    "id": "27762eec"
   },
   "source": [
    "5) Now we can start building our reccommender algorithm. We use KNN algorithm.\n",
    "We are working in a M-dimensional space where M is the amount of articles in our X matrix."
   ]
  },
  {
   "cell_type": "markdown",
   "id": "33e50666",
   "metadata": {
    "id": "33e50666"
   },
   "source": [
    "The function finds the k-nearest neighbours for a given article id and returns a list of k similar article ID's.\n",
    "- The input is the article_id of the article of interest;\n",
    "- X is the user-item utility matrix we have built above;\n",
    "- k is the number of similar articles to be retrieved;\n",
    "- metric is the distance metric for kNN calculations (in our case is cosine similarity)."
   ]
  },
  {
   "cell_type": "code",
   "execution_count": 301,
   "id": "6332f64a",
   "metadata": {
    "id": "6332f64a"
   },
   "outputs": [],
   "source": [
    "from sklearn.neighbors import NearestNeighbors\n",
    "\n",
    "def find_similar_articles(article_id, X, k:int, metric):\n",
    "    neighbour_ids = []\n",
    "    article_ind = article_mapper[article_id]\n",
    "    article_vec = X[article_ind]\n",
    "    kNN = NearestNeighbors(n_neighbors=k+1, algorithm=\"brute\", metric=metric)\n",
    "    kNN.fit(X)\n",
    "    neighbour = kNN.kneighbors(article_vec, return_distance=False)[0]\n",
    "    neighbour_ids = [article_inv_mapper[n] for n in neighbour[1:]]\n",
    "    \n",
    "    if k < 1:\n",
    "        print(f\"The number of articles to be suggested '{k}' you asked is meaningless, you have to ask for at least 1 similar product.\")\n",
    "        return\n",
    "    \n",
    "    if k == 1:\n",
    "        print(f\"\\nSince you bought '{product_dict[article_id]['Color']} {product_dict[article_id]['Name']}' (Id: {article_id}), a product that you could like is:\\n\")\n",
    "    \n",
    "    if k > 1:\n",
    "        print(f\"\\nSince you bought '{product_dict[article_id]['Color']} {product_dict[article_id]['Name']}' (Id: {article_id}), the {k} products that you could like are:\\n\")\n",
    "    \n",
    "    for i in neighbour_ids:\n",
    "        print(f\"{product_dict[i]['Color']} {product_dict[i]['Name']} (Id: {i})\\n\")\n",
    "    \n",
    "    return"
   ]
  },
  {
   "cell_type": "code",
   "execution_count": 303,
   "id": "fbec0468",
   "metadata": {
    "colab": {
     "base_uri": "https://localhost:8080/"
    },
    "id": "fbec0468",
    "outputId": "1bb1e8a1-6c0b-4338-9873-7de96a631369"
   },
   "outputs": [
    {
     "name": "stdout",
     "output_type": "stream",
     "text": [
      "The number of articles to be suggested '0' you asked is meaningless, you have to ask for at least 1 similar product.\n"
     ]
    }
   ],
   "source": [
    "article_id = 10\n",
    "\n",
    "similar_ids = find_similar_articles(article_id, X2, 0, metric='cosine')"
   ]
  },
  {
   "cell_type": "code",
   "execution_count": 296,
   "id": "67fb82aa",
   "metadata": {
    "colab": {
     "base_uri": "https://localhost:8080/"
    },
    "id": "67fb82aa",
    "outputId": "e115a76c-72e8-40ff-d1ab-173abbf86579"
   },
   "outputs": [
    {
     "name": "stdout",
     "output_type": "stream",
     "text": [
      "\n",
      "Since you bought 'Black OP Strapless^' (Id: 10), the 10 products that you could like are:\n",
      "\n",
      "White Strong seamless v-neck bralett (Id: 3750)\n",
      "\n",
      "Dark Blue Tiffanie (Id: 3675)\n",
      "\n",
      "White Pingu spring (Id: 2725)\n",
      "\n",
      "Black KLINT tanktop (Id: 2638)\n",
      "\n",
      "White Brittany LS (Id: 915)\n",
      "\n",
      "Greenish Khaki Staffy short jacket (Id: 2835)\n",
      "\n",
      "Black Burmilla blazer (Id: 2939)\n",
      "\n",
      "Light Pink Sporty Spice PRICE Swimsuit (Id: 3059)\n",
      "\n",
      "Greenish Khaki Apollo seamless HW tights (Id: 2314)\n",
      "\n",
      "Pink Taylor shopper (Id: 1637)\n",
      "\n"
     ]
    }
   ],
   "source": [
    "similar_ids2 = find_similar_articles(article_id, X2, k=10, metric='euclidean')"
   ]
  },
  {
   "cell_type": "markdown",
   "id": "38243611",
   "metadata": {
    "id": "38243611"
   },
   "source": [
    "Even if we were able to reach a sparsity of almost 0,6%, our model is probably a little bit unreliable because our sparsity is not very high.\n",
    "Anyway, we can immediately see the differences from the results in this system, which is user-based and the the previous one, which cas content-based. Now, the color is not so much important, in fact we see that many clothes that are suggested are not of the same color of the initial product."
   ]
  },
  {
   "cell_type": "markdown",
   "id": "943252d7",
   "metadata": {
    "id": "943252d7"
   },
   "source": [
    "# NEURAL NETWORK"
   ]
  },
  {
   "cell_type": "markdown",
   "id": "fa0ec961",
   "metadata": {
    "id": "fa0ec961"
   },
   "source": [
    "To build a further user-recommendation system, we decided to avail ourselves of neural networks and matrix factorization. "
   ]
  },
  {
   "cell_type": "markdown",
   "id": "ec58ddb9",
   "metadata": {
    "id": "ec58ddb9"
   },
   "source": [
    "What is matrix factorization? This method aims at factorizing the transaction matrix $A$ into the product of a customer embedding matrix $C$ and article embedding matrix $V$, such that $A \\approx CV^\\top$ with\n",
    "$C = \\begin{bmatrix} c_{1} \\\\  \\vdots \\\\ c_{N} \\end{bmatrix}$ and\n",
    "$V = \\begin{bmatrix} v_{1} \\\\  \\vdots \\\\ v_{M} \\end{bmatrix}$.\n",
    "\n",
    "Here:\n",
    "- $N3$ is the number of customers,\n",
    "- $M3$ is the number of articles,\n",
    "- $A_{ij}$ is the transaction in which $j$th article is bought by the $i$th customer,\n",
    "- each row $C_i$ is a $d$-dimensional vector (embedding) representing customer $i$,\n",
    "- each row $V_j$ is a $d$-dimensional vector (embedding) representing article $j$,\n",
    "- the prediction of the model for the $(i, j)$ pair is the dot product $\\langle C_i, V_j \\rangle$."
   ]
  },
  {
   "cell_type": "code",
   "execution_count": 253,
   "id": "2562eae7",
   "metadata": {
    "id": "2562eae7"
   },
   "outputs": [],
   "source": [
    "import tensorflow as tf"
   ]
  },
  {
   "cell_type": "code",
   "execution_count": 254,
   "id": "7d920776",
   "metadata": {
    "colab": {
     "base_uri": "https://localhost:8080/"
    },
    "id": "7d920776",
    "outputId": "19dd7229-5e31-4756-bd32-6bac4612f9f1",
    "pycharm": {
     "is_executing": true
    }
   },
   "outputs": [
    {
     "name": "stderr",
     "output_type": "stream",
     "text": [
      "/var/folders/t8/61078r7109g1jrj2c5zc9ymw0000gn/T/ipykernel_1924/3033439719.py:3: SettingWithCopyWarning: \n",
      "A value is trying to be set on a copy of a slice from a DataFrame.\n",
      "Try using .loc[row_indexer,col_indexer] = value instead\n",
      "\n",
      "See the caveats in the documentation: https://pandas.pydata.org/pandas-docs/stable/user_guide/indexing.html#returning-a-view-versus-a-copy\n",
      "  articles2['article_id'] = articles2['article_id'].map(article_mapper).astype(int)\n"
     ]
    }
   ],
   "source": [
    "ua_transactions['customer_id'] = ua_transactions['customer_id'].map(customer_mapper).astype(int)\n",
    "ua_transactions['article_id'] = ua_transactions['article_id'].map(article_mapper).astype(int)\n",
    "articles2['article_id'] = articles2['article_id'].map(article_mapper).astype(int)\n",
    "\n",
    "indices = ua_transactions[['customer_id', 'article_id']].values\n",
    "values = ua_transactions['transactions'].values\n",
    "\n",
    "A = tf.SparseTensor(\n",
    "        indices=indices,\n",
    "        values=values,\n",
    "        dense_shape=[N, M])"
   ]
  },
  {
   "cell_type": "markdown",
   "id": "eb10da09",
   "metadata": {
    "id": "eb10da09"
   },
   "source": [
    "### LOSS FUNCTION"
   ]
  },
  {
   "cell_type": "markdown",
   "id": "9f31d666",
   "metadata": {
    "id": "9f31d666"
   },
   "source": [
    "The loss function takes as input:\n",
    "- sparse_transactions: SparseTensor transaction matrix of dense_shape [N, M]\n",
    "- C customer_embeddings: dense Tensor C of shape [N, k] where k is the embedding dimension, such that $C_i$ is the embedding of customer i.\n",
    "- V article_embeddings: dense Tensor V of shape [M, k] where k is the embedding dimension, such that $V_j$ is the embedding of article j.\n",
    "- lambdar: regularization coefficient for l2 term.\n",
    "- lambdag: regularization coefficient for gravity term.\n",
    "    \n",
    "The loss fucntion outputs:\n",
    "- A scalar Tensor representing the MSE between the true transactions and the model's predictions plus the regularization."
   ]
  },
  {
   "cell_type": "markdown",
   "id": "01ec74e5",
   "metadata": {
    "id": "01ec74e5"
   },
   "source": [
    "The model does not exaclty match the transaction matrix $A$, but we need to approximate it with a low-rank product $CV^\\top$. We will use the MSE of observed entries to measure the approximation error. \n",
    "\n",
    "From lecture we know that the Mean Square Error is particularly troublesome for recommender systems for the problem of folding, meaning the model cannot learn how to place the embeddings of irrelevant transactions. That is why we have to use regularization in. We will use two types of regularization:\n",
    "- Regularization of the model parameters (l2 term).\n",
    "- Add the gravity term in order to push the prediction of any pair towards zero.\n",
    "\n",
    "$\\lambda_r$ and $\\lambda_g$ are two regularization coefficients in the total loss function which are useful hyper-parameters."
   ]
  },
  {
   "cell_type": "code",
   "execution_count": 255,
   "id": "3049cec5",
   "metadata": {
    "id": "3049cec5"
   },
   "outputs": [],
   "source": [
    "def loss_fn(sparse_transactions, C, V, lambdar, lambdag):\n",
    "    predictions = tf.reduce_sum(\n",
    "    tf.gather(C, sparse_transactions.indices[:, 0]) *\n",
    "    tf.gather(V, sparse_transactions.indices[:, 1]),\n",
    "    axis=1)\n",
    "    \n",
    "    mse = tf.losses.mean_squared_error(sparse_transactions.values, predictions)\n",
    "\n",
    "\n",
    "    ltwo = (tf.reduce_sum(C*C)/C.shape[0] + \n",
    "                            tf.reduce_sum(V*V)/V.shape[0])\n",
    "    \n",
    "    gravity =  1. / (C.shape[0]*V.shape[0]) * tf.reduce_sum(\n",
    "        tf.matmul(C, C, transpose_a=True) * tf.matmul(V, V, transpose_a=True))\n",
    "\n",
    "\n",
    "    return mse + lambdar * ltwo + lambdag * gravity\n"
   ]
  },
  {
   "cell_type": "markdown",
   "id": "78445798",
   "metadata": {
    "id": "78445798"
   },
   "source": [
    "The following function splits the data into training and test sets. "
   ]
  },
  {
   "cell_type": "code",
   "execution_count": 266,
   "id": "2525e38d",
   "metadata": {
    "id": "2525e38d"
   },
   "outputs": [],
   "source": [
    "def split_dataframe(df, holdout_fraction=0.25):\n",
    "    test = df.sample(frac=holdout_fraction, replace=False)\n",
    "    train = df[~df.index.isin(test.index)]\n",
    "    return train, test"
   ]
  },
  {
   "cell_type": "markdown",
   "id": "42890c46",
   "metadata": {
    "id": "42890c46"
   },
   "source": [
    "Wherease, this function 'tf.SparseTensor' builds a matrix with the transactions."
   ]
  },
  {
   "cell_type": "code",
   "execution_count": 267,
   "id": "cb0b8b19",
   "metadata": {
    "id": "cb0b8b19"
   },
   "outputs": [],
   "source": [
    "def build_rating_sparse_tensor(t):\n",
    "    N = t['customer_id'].max() + 1\n",
    "    M = t['article_id'].max() + 1\n",
    "    indices = t[['customer_id', 'article_id']].values\n",
    "    values = t['transactions'].values\n",
    "    return tf.SparseTensor(\n",
    "        indices=indices,\n",
    "        values=values,\n",
    "        dense_shape=[N, M])"
   ]
  },
  {
   "cell_type": "markdown",
   "id": "cadd1e15",
   "metadata": {
    "id": "cadd1e15"
   },
   "source": [
    "We are now ready to effectively split the transactions dataframe into train and test and we initialize the embeddings using a normal distribution."
   ]
  },
  {
   "cell_type": "code",
   "execution_count": 268,
   "id": "51062689",
   "metadata": {
    "id": "51062689"
   },
   "outputs": [],
   "source": [
    "train_transaction, test_transaction = split_dataframe(ua_transactions)\n",
    "\n",
    "A_train = build_rating_sparse_tensor(train_transaction)\n",
    "A_test = build_rating_sparse_tensor(test_transaction)\n",
    "\n",
    "C = tf.Variable(tf.random.normal(\n",
    "    [A_train.dense_shape[0], 10], stddev=.1))\n",
    "V = tf.Variable(tf.random.normal(\n",
    "    [A_train.dense_shape[1], 10], stddev=.1))"
   ]
  },
  {
   "cell_type": "code",
   "execution_count": 269,
   "id": "91856151",
   "metadata": {
    "id": "91856151"
   },
   "outputs": [],
   "source": [
    "trainable_weights = [C, V]\n",
    "optimizer = tf.optimizers.Adam(learning_rate=0.5)"
   ]
  },
  {
   "cell_type": "code",
   "execution_count": 270,
   "id": "e70f16b1",
   "metadata": {
    "colab": {
     "base_uri": "https://localhost:8080/",
     "height": 284
    },
    "id": "e70f16b1",
    "outputId": "1e3fb3a1-922b-4104-c2a8-3b40e8108a54"
   },
   "outputs": [
    {
     "data": {
      "text/plain": [
       "[<matplotlib.lines.Line2D at 0x7f9e3b322580>]"
      ]
     },
     "execution_count": 270,
     "metadata": {},
     "output_type": "execute_result"
    },
    {
     "data": {
      "image/png": "[encoded data removed]",
      "text/plain": [
       "<Figure size 640x480 with 1 Axes>"
      ]
     },
     "metadata": {},
     "output_type": "display_data"
    }
   ],
   "source": [
    "tr_losses = []\n",
    "te_losses = []\n",
    "for step in range(100):\n",
    "    with tf.GradientTape() as tape:\n",
    "        loss = loss_fn(A_train, C, V, lambdar=0.1, lambdag=0.001)\n",
    "    grads = tape.gradient(loss, trainable_weights)\n",
    "    optimizer.apply_gradients(zip(grads, trainable_weights))\n",
    "    tr_losses.append(loss)\n",
    "    te_losses.append(loss_fn(A_test, C, V, lambdar=0.1, lambdag=0.001))\n",
    "    #lambda r is the coefficient that regulates the l2 regularization\n",
    "    #lambda g is the coefficient that mangaes the gravity term\n",
    "    \n",
    "plt.plot(tr_losses)\n",
    "plt.plot(te_losses) "
   ]
  },
  {
   "cell_type": "markdown",
   "id": "ce2bad2a",
   "metadata": {
    "id": "ce2bad2a"
   },
   "source": [
    "We can now measure the scores, for which we have different options of similarity measures:\n",
    "We will use the following:\n",
    "- dot product: the score of item j is $\\langle c, V_j \\rangle$.\n",
    "- cosine: the score of item j is $\\frac{\\langle c, V_j \\rangle}{\\|c\\|\\|V_j\\|}$."
   ]
  },
  {
   "cell_type": "markdown",
   "id": "a656ce29",
   "metadata": {
    "id": "a656ce29"
   },
   "source": [
    "The following function computes the scores of the candidates given a query.\n",
    "The inputs of the function are:\n",
    "- query_embedding: a vector of shape [k], representing the query embedding.\n",
    "- item_embeddings: a matrix of shape [N, k], such that row i is the embedding of item i.\n",
    "- measure: a string specifying the similarity measure to be used (dot,cosine)\n",
    "\n",
    "The function outputs the a vector of shape N, such that scores[i] is the score of item i."
   ]
  },
  {
   "cell_type": "code",
   "execution_count": 271,
   "id": "f235ec23",
   "metadata": {
    "id": "f235ec23"
   },
   "outputs": [],
   "source": [
    "def compute_scores(query_embedding, item_embeddings, measure='dot'):\n",
    "    c = query_embedding\n",
    "    V = item_embeddings\n",
    "    if measure == 'cosine':\n",
    "        V = V / np.linalg.norm(V, axis=1, keepdims=True)\n",
    "        c = c / np.linalg.norm(c)\n",
    "    scores = tf.experimental.numpy.dot(c, V.numpy().transpose())\n",
    "    return scores"
   ]
  },
  {
   "cell_type": "code",
   "execution_count": 304,
   "id": "564e27bb",
   "metadata": {
    "id": "564e27bb"
   },
   "outputs": [],
   "source": [
    "def customer_recommendations(C,V,id, measure, k: int, exclude_rated=True):\n",
    "    scores = compute_scores(C[id], V, measure)\n",
    "    score_key = measure + 'score'\n",
    "    df = pd.DataFrame({\n",
    "        score_key: list(scores.numpy()),\n",
    "        'article_id': articles2['article_id'],\n",
    "        'prod_name': articles2['prod_name'],\n",
    "    })\n",
    "    if exclude_rated:       # here we remove articles that are already bought\n",
    "      bought_articles = ua_transactions[ua_transactions.customer_id == id][\"article_id\"].values\n",
    "      df = df[df.article_id.apply(lambda article_id: article_id not in bought_articles)]\n",
    "    final_result = df.sort_values([score_key], ascending=False).head(k)  \n",
    "    \n",
    "    already_bought = ua_transactions[ua_transactions['customer_id'] == id]\n",
    "    already_bought_list = list(already_bought['article_id'])\n",
    "    \n",
    "    print(f\"Recommendations for customer: {id}:\\n\")\n",
    "    print(f\"The user {id} already bought:\")\n",
    "    \n",
    "    for i in already_bought_list:\n",
    "        print(f\"\\n{product_dict[i]['Color']} {product_dict[i]['Name']} (Id: {i})\")\n",
    "    print(\"\\n\\n\")\n",
    "    \n",
    "    final_result_list = list(final_result['article_id'])\n",
    "    \n",
    "    if k<1:\n",
    "        print(f\"The number of articles to be suggested '{k}' you asked is meaningless, you have to ask for at least 1 similar product.\")\n",
    "        return\n",
    "    if k == 1:\n",
    "        print(\"The more recommended article for the user is:\")\n",
    "    else:\n",
    "        print(f\"The more recommended {k} articles for the user are:\")\n",
    "    \n",
    "    for i in final_result_list:\n",
    "        print(f\"\\n{product_dict[i]['Color']} {product_dict[i]['Name']} (Id: {i})\")\n",
    "    \n",
    "    return "
   ]
  },
  {
   "cell_type": "code",
   "execution_count": 305,
   "id": "d60b9179",
   "metadata": {
    "colab": {
     "base_uri": "https://localhost:8080/"
    },
    "id": "d60b9179",
    "outputId": "9ec45d9e-b610-4d4e-a3fa-6af96aa3d037"
   },
   "outputs": [
    {
     "name": "stdout",
     "output_type": "stream",
     "text": [
      "Recommendations for customer: 20:\n",
      "\n",
      "The user 20 already bought:\n",
      "\n",
      "Dark Beige Hat Frank Fedora(1) (Id: 126)\n",
      "\n",
      "Black KATE PQ ballerina (Id: 492)\n",
      "\n",
      "Black Charlotte Unpadded Wire (Id: 989)\n",
      "\n",
      "Black Evie padded softbra 2p (Id: 1327)\n",
      "\n",
      "Dark Green Manchester dress (Id: 3376)\n",
      "\n",
      "Beige Calypso brazilian V-shape (Id: 4348)\n",
      "\n",
      "Black Great Dane slim trouser (Id: 4523)\n",
      "\n",
      "Black Nancy rib LS (Id: 6293)\n",
      "\n",
      "\n",
      "\n",
      "The more recommended 5 articles for the user are:\n",
      "\n",
      "Beige Box 4p Tights (Id: 17)\n",
      "\n",
      "Black Nick super skinny trs (Id: 1086)\n",
      "\n",
      "Grey Betsy V Neck Sweater (Id: 5491)\n",
      "\n",
      "Black Perrie Slim Mom Denim TRS (Id: 167)\n",
      "\n",
      "Black Big Ringo hip belt (Id: 1401)\n"
     ]
    }
   ],
   "source": [
    "n_products = 5\n",
    "customer_recommendations(C,V,20, measure = 'dot', k = n_products)"
   ]
  },
  {
   "cell_type": "code",
   "execution_count": 291,
   "id": "7fd7d78b",
   "metadata": {
    "colab": {
     "base_uri": "https://localhost:8080/"
    },
    "id": "7fd7d78b",
    "outputId": "dd53c03c-bb73-4491-8993-26f4ea5f1c22",
    "scrolled": true
   },
   "outputs": [
    {
     "name": "stdout",
     "output_type": "stream",
     "text": [
      "Recommendations for customer: 20:\n",
      "\n",
      "The user 20 already bought:\n",
      "\n",
      "Dark Beige Hat Frank Fedora(1) (Id: 126)\n",
      "\n",
      "Black KATE PQ ballerina (Id: 492)\n",
      "\n",
      "Black Charlotte Unpadded Wire (Id: 989)\n",
      "\n",
      "Black Evie padded softbra 2p (Id: 1327)\n",
      "\n",
      "Dark Green Manchester dress (Id: 3376)\n",
      "\n",
      "Beige Calypso brazilian V-shape (Id: 4348)\n",
      "\n",
      "Black Great Dane slim trouser (Id: 4523)\n",
      "\n",
      "Black Nancy rib LS (Id: 6293)\n",
      "\n",
      "\n",
      "\n",
      "The more recommended 5 articles for the user are:\n",
      "\n",
      "Dark Purple Bradley. (Id: 2151)\n",
      "\n",
      "Light Blue Skinny L.W Elite (Id: 333)\n",
      "\n",
      "Dark Blue Boyfriend (D) (Id: 4087)\n",
      "\n",
      "White Betsy V Neck Sweater (Id: 5492)\n",
      "\n",
      "Off White Petra 2p bandana (Id: 1996)\n"
     ]
    }
   ],
   "source": [
    "n_products = 5\n",
    "customer_recommendations(C,V,20,measure = 'cosine',k = n_products)"
   ]
  },
  {
   "cell_type": "code",
   "execution_count": null,
   "id": "cdff20d9",
   "metadata": {
    "id": "cdff20d9"
   },
   "outputs": [],
   "source": []
  }
 ],
 "metadata": {
  "colab": {
   "provenance": []
  },
  "kernelspec": {
   "display_name": "Python 3 (ipykernel)",
   "language": "python",
   "name": "python3"
  },
  "language_info": {
   "codemirror_mode": {
    "name": "ipython",
    "version": 3
   },
   "file_extension": ".py",
   "mimetype": "text/x-python",
   "name": "python",
   "nbconvert_exporter": "python",
   "pygments_lexer": "ipython3",
   "version": "3.9.12"
  },
  "vscode": {
   "interpreter": {
    "hash": "aee8b7b246df8f9039afb4144a1f6fd8d2ca17a180786b69acc140d282b71a49"
   }
  }
 },
 "nbformat": 4,
 "nbformat_minor": 5
}
