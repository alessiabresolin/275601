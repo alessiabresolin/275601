{
  "cells": [
    {
      "cell_type": "code",
      "execution_count": 605,
      "id": "83adb170",
      "metadata": {
        "id": "83adb170"
      },
      "outputs": [],
      "source": [
        "import numpy as np\n",
        "import pandas as pd\n",
        "import sklearn\n",
        "import matplotlib.pyplot as plt\n",
        "import seaborn as sns"
      ]
    },
    {
      "cell_type": "markdown",
      "source": [
        "# **PROJECT WORK**"
      ],
      "metadata": {
        "id": "FaBAiL62RgU4"
      },
      "id": "FaBAiL62RgU4"
    },
    {
      "cell_type": "markdown",
      "source": [
        "Our job in order to promote the performance of our company's recommendation sytem begins by studying and analysing all the datasets."
      ],
      "metadata": {
        "id": "XsFlcmzcRPlZ"
      },
      "id": "XsFlcmzcRPlZ"
    },
    {
      "cell_type": "markdown",
      "id": "82af8637",
      "metadata": {
        "id": "82af8637"
      },
      "source": [
        "# CUSTOMERS"
      ]
    },
    {
      "cell_type": "markdown",
      "id": "7f32111d",
      "metadata": {
        "id": "7f32111d"
      },
      "source": [
        "1) First of all, we import our dataset about customers. We have the unique identifier for each customer and their age. Furthermore, we know whether he or she is subscribed to the newsletter (1 if yes, 0 if no) and if he or she is part of the special club member.\n",
        "\n",
        "We have a look to how data are structured, printing the first five items and we get a general idea of the quantity of the data, using the shape function."
      ]
    },
    {
      "cell_type": "code",
      "execution_count": 606,
      "id": "d6de69e7",
      "metadata": {
        "colab": {
          "base_uri": "https://localhost:8080/",
          "height": 204
        },
        "id": "d6de69e7",
        "outputId": "0255cc23-43dd-441b-823a-a5d1bbf40dc6"
      },
      "outputs": [
        {
          "output_type": "execute_result",
          "data": {
            "text/plain": [
              "   customer_id  fashion_news  club_member   age\n",
              "0            0             1            1  44.0\n",
              "1            1             1            1  33.0\n",
              "2            2             0            0  29.0\n",
              "3            3             0            0  21.0\n",
              "4            4             0            0  23.0"
            ],
            "text/html": [
              "\n",
              "  <div id=\"df-84738017-aa40-4263-82c5-e2eedd986ceb\">\n",
              "    <div class=\"colab-df-container\">\n",
              "      <div>\n",
              "<style scoped>\n",
              "    .dataframe tbody tr th:only-of-type {\n",
              "        vertical-align: middle;\n",
              "    }\n",
              "\n",
              "    .dataframe tbody tr th {\n",
              "        vertical-align: top;\n",
              "    }\n",
              "\n",
              "    .dataframe thead th {\n",
              "        text-align: right;\n",
              "    }\n",
              "</style>\n",
              "<table border=\"1\" class=\"dataframe\">\n",
              "  <thead>\n",
              "    <tr style=\"text-align: right;\">\n",
              "      <th></th>\n",
              "      <th>customer_id</th>\n",
              "      <th>fashion_news</th>\n",
              "      <th>club_member</th>\n",
              "      <th>age</th>\n",
              "    </tr>\n",
              "  </thead>\n",
              "  <tbody>\n",
              "    <tr>\n",
              "      <th>0</th>\n",
              "      <td>0</td>\n",
              "      <td>1</td>\n",
              "      <td>1</td>\n",
              "      <td>44.0</td>\n",
              "    </tr>\n",
              "    <tr>\n",
              "      <th>1</th>\n",
              "      <td>1</td>\n",
              "      <td>1</td>\n",
              "      <td>1</td>\n",
              "      <td>33.0</td>\n",
              "    </tr>\n",
              "    <tr>\n",
              "      <th>2</th>\n",
              "      <td>2</td>\n",
              "      <td>0</td>\n",
              "      <td>0</td>\n",
              "      <td>29.0</td>\n",
              "    </tr>\n",
              "    <tr>\n",
              "      <th>3</th>\n",
              "      <td>3</td>\n",
              "      <td>0</td>\n",
              "      <td>0</td>\n",
              "      <td>21.0</td>\n",
              "    </tr>\n",
              "    <tr>\n",
              "      <th>4</th>\n",
              "      <td>4</td>\n",
              "      <td>0</td>\n",
              "      <td>0</td>\n",
              "      <td>23.0</td>\n",
              "    </tr>\n",
              "  </tbody>\n",
              "</table>\n",
              "</div>\n",
              "      <button class=\"colab-df-convert\" onclick=\"convertToInteractive('df-84738017-aa40-4263-82c5-e2eedd986ceb')\"\n",
              "              title=\"Convert this dataframe to an interactive table.\"\n",
              "              style=\"display:none;\">\n",
              "        \n",
              "  <svg xmlns=\"http://www.w3.org/2000/svg\" height=\"24px\"viewBox=\"0 0 24 24\"\n",
              "       width=\"24px\">\n",
              "    <path d=\"M0 0h24v24H0V0z\" fill=\"none\"/>\n",
              "    <path d=\"M18.56 5.44l.94 2.06.94-2.06 2.06-.94-2.06-.94-.94-2.06-.94 2.06-2.06.94zm-11 1L8.5 8.5l.94-2.06 2.06-.94-2.06-.94L8.5 2.5l-.94 2.06-2.06.94zm10 10l.94 2.06.94-2.06 2.06-.94-2.06-.94-.94-2.06-.94 2.06-2.06.94z\"/><path d=\"M17.41 7.96l-1.37-1.37c-.4-.4-.92-.59-1.43-.59-.52 0-1.04.2-1.43.59L10.3 9.45l-7.72 7.72c-.78.78-.78 2.05 0 2.83L4 21.41c.39.39.9.59 1.41.59.51 0 1.02-.2 1.41-.59l7.78-7.78 2.81-2.81c.8-.78.8-2.07 0-2.86zM5.41 20L4 18.59l7.72-7.72 1.47 1.35L5.41 20z\"/>\n",
              "  </svg>\n",
              "      </button>\n",
              "      \n",
              "  <style>\n",
              "    .colab-df-container {\n",
              "      display:flex;\n",
              "      flex-wrap:wrap;\n",
              "      gap: 12px;\n",
              "    }\n",
              "\n",
              "    .colab-df-convert {\n",
              "      background-color: #E8F0FE;\n",
              "      border: none;\n",
              "      border-radius: 50%;\n",
              "      cursor: pointer;\n",
              "      display: none;\n",
              "      fill: #1967D2;\n",
              "      height: 32px;\n",
              "      padding: 0 0 0 0;\n",
              "      width: 32px;\n",
              "    }\n",
              "\n",
              "    .colab-df-convert:hover {\n",
              "      background-color: #E2EBFA;\n",
              "      box-shadow: 0px 1px 2px rgba(60, 64, 67, 0.3), 0px 1px 3px 1px rgba(60, 64, 67, 0.15);\n",
              "      fill: #174EA6;\n",
              "    }\n",
              "\n",
              "    [theme=dark] .colab-df-convert {\n",
              "      background-color: #3B4455;\n",
              "      fill: #D2E3FC;\n",
              "    }\n",
              "\n",
              "    [theme=dark] .colab-df-convert:hover {\n",
              "      background-color: #434B5C;\n",
              "      box-shadow: 0px 1px 3px 1px rgba(0, 0, 0, 0.15);\n",
              "      filter: drop-shadow(0px 1px 2px rgba(0, 0, 0, 0.3));\n",
              "      fill: #FFFFFF;\n",
              "    }\n",
              "  </style>\n",
              "\n",
              "      <script>\n",
              "        const buttonEl =\n",
              "          document.querySelector('#df-84738017-aa40-4263-82c5-e2eedd986ceb button.colab-df-convert');\n",
              "        buttonEl.style.display =\n",
              "          google.colab.kernel.accessAllowed ? 'block' : 'none';\n",
              "\n",
              "        async function convertToInteractive(key) {\n",
              "          const element = document.querySelector('#df-84738017-aa40-4263-82c5-e2eedd986ceb');\n",
              "          const dataTable =\n",
              "            await google.colab.kernel.invokeFunction('convertToInteractive',\n",
              "                                                     [key], {});\n",
              "          if (!dataTable) return;\n",
              "\n",
              "          const docLinkHtml = 'Like what you see? Visit the ' +\n",
              "            '<a target=\"_blank\" href=https://colab.research.google.com/notebooks/data_table.ipynb>data table notebook</a>'\n",
              "            + ' to learn more about interactive tables.';\n",
              "          element.innerHTML = '';\n",
              "          dataTable['output_type'] = 'display_data';\n",
              "          await google.colab.output.renderOutput(dataTable, element);\n",
              "          const docLink = document.createElement('div');\n",
              "          docLink.innerHTML = docLinkHtml;\n",
              "          element.appendChild(docLink);\n",
              "        }\n",
              "      </script>\n",
              "    </div>\n",
              "  </div>\n",
              "  "
            ]
          },
          "metadata": {},
          "execution_count": 606
        }
      ],
      "source": [
        "customers = pd.read_csv(\"recsys_customers.csv\")\n",
        "customers.head()"
      ]
    },
    {
      "cell_type": "code",
      "execution_count": 607,
      "id": "198bdeb3",
      "metadata": {
        "colab": {
          "base_uri": "https://localhost:8080/"
        },
        "id": "198bdeb3",
        "outputId": "b4b76ab2-b719-49e3-dd1a-8e044b38641a"
      },
      "outputs": [
        {
          "output_type": "execute_result",
          "data": {
            "text/plain": [
              "(41253, 4)"
            ]
          },
          "metadata": {},
          "execution_count": 607
        }
      ],
      "source": [
        "customers.shape"
      ]
    },
    {
      "cell_type": "markdown",
      "id": "4618a7aa",
      "metadata": {
        "id": "4618a7aa"
      },
      "source": [
        "2) We want to find the columns that may have NaN values in order to handle them."
      ]
    },
    {
      "cell_type": "code",
      "execution_count": 608,
      "id": "51d7797d",
      "metadata": {
        "colab": {
          "base_uri": "https://localhost:8080/"
        },
        "id": "51d7797d",
        "outputId": "bd176ac7-7617-494c-f609-1ca3a5a97c91"
      },
      "outputs": [
        {
          "output_type": "execute_result",
          "data": {
            "text/plain": [
              "customer_id       0\n",
              "fashion_news      0\n",
              "club_member       0\n",
              "age             133\n",
              "dtype: int64"
            ]
          },
          "metadata": {},
          "execution_count": 608
        }
      ],
      "source": [
        "customers.isnull().sum()"
      ]
    },
    {
      "cell_type": "markdown",
      "id": "78fd67f4",
      "metadata": {
        "id": "78fd67f4"
      },
      "source": [
        "Out of 4 columns, only 1 column has null values, which is age. \n",
        "\n",
        "To understand better the weight of these null values on the whole set, we can calculate their weight relative to the length of the dataset."
      ]
    },
    {
      "cell_type": "code",
      "execution_count": 609,
      "id": "1d0b05d6",
      "metadata": {
        "colab": {
          "base_uri": "https://localhost:8080/"
        },
        "id": "1d0b05d6",
        "outputId": "848d0cd6-91af-49cb-86c2-80adffbe01b0"
      },
      "outputs": [
        {
          "output_type": "stream",
          "name": "stdout",
          "text": [
            "The null percentage of age is: 0.0032240079509369014\n"
          ]
        }
      ],
      "source": [
        "null_percentage= customers['age'].isnull().sum()/ len(customers)\n",
        "print('The null percentage of age is: ' + str(null_percentage))"
      ]
    },
    {
      "cell_type": "markdown",
      "id": "8a96e827",
      "metadata": {
        "id": "8a96e827"
      },
      "source": [
        "The percentage of missing values is quite low, around 0.32%. \n",
        "At this point we can choose to follow 2 paths:\n",
        "- Delete all the rows that contain a null value for age.\n",
        "- We can fill the null cells with the most common values for age.\n",
        "\n",
        "We decided to proceed by substituting all NaN values with the mode of the values of age, which is 26."
      ]
    },
    {
      "cell_type": "code",
      "execution_count": 610,
      "id": "1a5bcefa",
      "metadata": {
        "colab": {
          "base_uri": "https://localhost:8080/"
        },
        "id": "1a5bcefa",
        "outputId": "27e3453b-1cf6-444b-a44c-31b39b5beca9"
      },
      "outputs": [
        {
          "output_type": "execute_result",
          "data": {
            "text/plain": [
              "0    26.0\n",
              "dtype: float64"
            ]
          },
          "metadata": {},
          "execution_count": 610
        }
      ],
      "source": [
        "customers.age.mode()"
      ]
    },
    {
      "cell_type": "code",
      "execution_count": 611,
      "id": "a62c232e",
      "metadata": {
        "id": "a62c232e"
      },
      "outputs": [],
      "source": [
        "customers['age'] = customers['age'].fillna(customers['age'].mode()[0])"
      ]
    },
    {
      "cell_type": "markdown",
      "id": "3e6926c4",
      "metadata": {
        "id": "3e6926c4"
      },
      "source": [
        "3) As we want our data to be as readable and interpretable as possible, we want to convert the age type from float to integer."
      ]
    },
    {
      "cell_type": "code",
      "execution_count": 612,
      "id": "b9f9df77",
      "metadata": {
        "colab": {
          "base_uri": "https://localhost:8080/",
          "height": 204
        },
        "id": "b9f9df77",
        "outputId": "570d9d37-1842-44cd-8ecc-685094bf6013"
      },
      "outputs": [
        {
          "output_type": "execute_result",
          "data": {
            "text/plain": [
              "   customer_id  fashion_news  club_member  age\n",
              "0            0             1            1   44\n",
              "1            1             1            1   33\n",
              "2            2             0            0   29\n",
              "3            3             0            0   21\n",
              "4            4             0            0   23"
            ],
            "text/html": [
              "\n",
              "  <div id=\"df-1cb69228-c571-4d2a-abf8-f9325a2cd9e2\">\n",
              "    <div class=\"colab-df-container\">\n",
              "      <div>\n",
              "<style scoped>\n",
              "    .dataframe tbody tr th:only-of-type {\n",
              "        vertical-align: middle;\n",
              "    }\n",
              "\n",
              "    .dataframe tbody tr th {\n",
              "        vertical-align: top;\n",
              "    }\n",
              "\n",
              "    .dataframe thead th {\n",
              "        text-align: right;\n",
              "    }\n",
              "</style>\n",
              "<table border=\"1\" class=\"dataframe\">\n",
              "  <thead>\n",
              "    <tr style=\"text-align: right;\">\n",
              "      <th></th>\n",
              "      <th>customer_id</th>\n",
              "      <th>fashion_news</th>\n",
              "      <th>club_member</th>\n",
              "      <th>age</th>\n",
              "    </tr>\n",
              "  </thead>\n",
              "  <tbody>\n",
              "    <tr>\n",
              "      <th>0</th>\n",
              "      <td>0</td>\n",
              "      <td>1</td>\n",
              "      <td>1</td>\n",
              "      <td>44</td>\n",
              "    </tr>\n",
              "    <tr>\n",
              "      <th>1</th>\n",
              "      <td>1</td>\n",
              "      <td>1</td>\n",
              "      <td>1</td>\n",
              "      <td>33</td>\n",
              "    </tr>\n",
              "    <tr>\n",
              "      <th>2</th>\n",
              "      <td>2</td>\n",
              "      <td>0</td>\n",
              "      <td>0</td>\n",
              "      <td>29</td>\n",
              "    </tr>\n",
              "    <tr>\n",
              "      <th>3</th>\n",
              "      <td>3</td>\n",
              "      <td>0</td>\n",
              "      <td>0</td>\n",
              "      <td>21</td>\n",
              "    </tr>\n",
              "    <tr>\n",
              "      <th>4</th>\n",
              "      <td>4</td>\n",
              "      <td>0</td>\n",
              "      <td>0</td>\n",
              "      <td>23</td>\n",
              "    </tr>\n",
              "  </tbody>\n",
              "</table>\n",
              "</div>\n",
              "      <button class=\"colab-df-convert\" onclick=\"convertToInteractive('df-1cb69228-c571-4d2a-abf8-f9325a2cd9e2')\"\n",
              "              title=\"Convert this dataframe to an interactive table.\"\n",
              "              style=\"display:none;\">\n",
              "        \n",
              "  <svg xmlns=\"http://www.w3.org/2000/svg\" height=\"24px\"viewBox=\"0 0 24 24\"\n",
              "       width=\"24px\">\n",
              "    <path d=\"M0 0h24v24H0V0z\" fill=\"none\"/>\n",
              "    <path d=\"M18.56 5.44l.94 2.06.94-2.06 2.06-.94-2.06-.94-.94-2.06-.94 2.06-2.06.94zm-11 1L8.5 8.5l.94-2.06 2.06-.94-2.06-.94L8.5 2.5l-.94 2.06-2.06.94zm10 10l.94 2.06.94-2.06 2.06-.94-2.06-.94-.94-2.06-.94 2.06-2.06.94z\"/><path d=\"M17.41 7.96l-1.37-1.37c-.4-.4-.92-.59-1.43-.59-.52 0-1.04.2-1.43.59L10.3 9.45l-7.72 7.72c-.78.78-.78 2.05 0 2.83L4 21.41c.39.39.9.59 1.41.59.51 0 1.02-.2 1.41-.59l7.78-7.78 2.81-2.81c.8-.78.8-2.07 0-2.86zM5.41 20L4 18.59l7.72-7.72 1.47 1.35L5.41 20z\"/>\n",
              "  </svg>\n",
              "      </button>\n",
              "      \n",
              "  <style>\n",
              "    .colab-df-container {\n",
              "      display:flex;\n",
              "      flex-wrap:wrap;\n",
              "      gap: 12px;\n",
              "    }\n",
              "\n",
              "    .colab-df-convert {\n",
              "      background-color: #E8F0FE;\n",
              "      border: none;\n",
              "      border-radius: 50%;\n",
              "      cursor: pointer;\n",
              "      display: none;\n",
              "      fill: #1967D2;\n",
              "      height: 32px;\n",
              "      padding: 0 0 0 0;\n",
              "      width: 32px;\n",
              "    }\n",
              "\n",
              "    .colab-df-convert:hover {\n",
              "      background-color: #E2EBFA;\n",
              "      box-shadow: 0px 1px 2px rgba(60, 64, 67, 0.3), 0px 1px 3px 1px rgba(60, 64, 67, 0.15);\n",
              "      fill: #174EA6;\n",
              "    }\n",
              "\n",
              "    [theme=dark] .colab-df-convert {\n",
              "      background-color: #3B4455;\n",
              "      fill: #D2E3FC;\n",
              "    }\n",
              "\n",
              "    [theme=dark] .colab-df-convert:hover {\n",
              "      background-color: #434B5C;\n",
              "      box-shadow: 0px 1px 3px 1px rgba(0, 0, 0, 0.15);\n",
              "      filter: drop-shadow(0px 1px 2px rgba(0, 0, 0, 0.3));\n",
              "      fill: #FFFFFF;\n",
              "    }\n",
              "  </style>\n",
              "\n",
              "      <script>\n",
              "        const buttonEl =\n",
              "          document.querySelector('#df-1cb69228-c571-4d2a-abf8-f9325a2cd9e2 button.colab-df-convert');\n",
              "        buttonEl.style.display =\n",
              "          google.colab.kernel.accessAllowed ? 'block' : 'none';\n",
              "\n",
              "        async function convertToInteractive(key) {\n",
              "          const element = document.querySelector('#df-1cb69228-c571-4d2a-abf8-f9325a2cd9e2');\n",
              "          const dataTable =\n",
              "            await google.colab.kernel.invokeFunction('convertToInteractive',\n",
              "                                                     [key], {});\n",
              "          if (!dataTable) return;\n",
              "\n",
              "          const docLinkHtml = 'Like what you see? Visit the ' +\n",
              "            '<a target=\"_blank\" href=https://colab.research.google.com/notebooks/data_table.ipynb>data table notebook</a>'\n",
              "            + ' to learn more about interactive tables.';\n",
              "          element.innerHTML = '';\n",
              "          dataTable['output_type'] = 'display_data';\n",
              "          await google.colab.output.renderOutput(dataTable, element);\n",
              "          const docLink = document.createElement('div');\n",
              "          docLink.innerHTML = docLinkHtml;\n",
              "          element.appendChild(docLink);\n",
              "        }\n",
              "      </script>\n",
              "    </div>\n",
              "  </div>\n",
              "  "
            ]
          },
          "metadata": {},
          "execution_count": 612
        }
      ],
      "source": [
        "customers[\"age\"] = customers[\"age\"].apply(lambda x: int(x))\n",
        "customers.head()"
      ]
    },
    {
      "cell_type": "markdown",
      "id": "0ce625c2",
      "metadata": {
        "id": "0ce625c2"
      },
      "source": [
        "4) To get a better insight of our data we want to divide customers in 5 categories depending on their age. \n",
        "\n",
        "To simplify things, we calculate the maximum and minimum of the age values and then we create our \"clusters\"."
      ]
    },
    {
      "cell_type": "code",
      "execution_count": 613,
      "id": "7267d2f0",
      "metadata": {
        "colab": {
          "base_uri": "https://localhost:8080/"
        },
        "id": "7267d2f0",
        "outputId": "5ee84f81-b0df-4883-add6-68e3f17a9570"
      },
      "outputs": [
        {
          "output_type": "stream",
          "name": "stdout",
          "text": [
            "The minimum age recorded is: 16\n",
            "The maximum age recorded is: 91\n"
          ]
        }
      ],
      "source": [
        "print('The minimum age recorded is: ' + str(min(customers[\"age\"])))\n",
        "print('The maximum age recorded is: ' + str(max(customers[\"age\"])))"
      ]
    },
    {
      "cell_type": "markdown",
      "id": "dc7268c1",
      "metadata": {
        "id": "dc7268c1"
      },
      "source": [
        "What are we doing? We assign each customer to the proper age category adding a column to the initial table."
      ]
    },
    {
      "cell_type": "code",
      "execution_count": 614,
      "id": "4481d298",
      "metadata": {
        "colab": {
          "base_uri": "https://localhost:8080/",
          "height": 419
        },
        "id": "4481d298",
        "outputId": "0e6a031a-5419-4450-bdc4-17fbcca23d22"
      },
      "outputs": [
        {
          "output_type": "execute_result",
          "data": {
            "text/plain": [
              "       customer_id  fashion_news  club_member  age age_group\n",
              "0                0             1            1   44     31-50\n",
              "1                1             1            1   33     31-50\n",
              "2                2             0            0   29     22-30\n",
              "3                3             0            0   21     15-21\n",
              "4                4             0            0   23     22-30\n",
              "...            ...           ...          ...  ...       ...\n",
              "41248        41248             1            1   33     31-50\n",
              "41249        41249             0            0   25     22-30\n",
              "41250        41250             1            1   20     15-21\n",
              "41251        41251             1            1   29     22-30\n",
              "41252        41252             0            0   24     22-30\n",
              "\n",
              "[41253 rows x 5 columns]"
            ],
            "text/html": [
              "\n",
              "  <div id=\"df-8d7fba02-9b8b-45bc-bf8e-506e9e64594f\">\n",
              "    <div class=\"colab-df-container\">\n",
              "      <div>\n",
              "<style scoped>\n",
              "    .dataframe tbody tr th:only-of-type {\n",
              "        vertical-align: middle;\n",
              "    }\n",
              "\n",
              "    .dataframe tbody tr th {\n",
              "        vertical-align: top;\n",
              "    }\n",
              "\n",
              "    .dataframe thead th {\n",
              "        text-align: right;\n",
              "    }\n",
              "</style>\n",
              "<table border=\"1\" class=\"dataframe\">\n",
              "  <thead>\n",
              "    <tr style=\"text-align: right;\">\n",
              "      <th></th>\n",
              "      <th>customer_id</th>\n",
              "      <th>fashion_news</th>\n",
              "      <th>club_member</th>\n",
              "      <th>age</th>\n",
              "      <th>age_group</th>\n",
              "    </tr>\n",
              "  </thead>\n",
              "  <tbody>\n",
              "    <tr>\n",
              "      <th>0</th>\n",
              "      <td>0</td>\n",
              "      <td>1</td>\n",
              "      <td>1</td>\n",
              "      <td>44</td>\n",
              "      <td>31-50</td>\n",
              "    </tr>\n",
              "    <tr>\n",
              "      <th>1</th>\n",
              "      <td>1</td>\n",
              "      <td>1</td>\n",
              "      <td>1</td>\n",
              "      <td>33</td>\n",
              "      <td>31-50</td>\n",
              "    </tr>\n",
              "    <tr>\n",
              "      <th>2</th>\n",
              "      <td>2</td>\n",
              "      <td>0</td>\n",
              "      <td>0</td>\n",
              "      <td>29</td>\n",
              "      <td>22-30</td>\n",
              "    </tr>\n",
              "    <tr>\n",
              "      <th>3</th>\n",
              "      <td>3</td>\n",
              "      <td>0</td>\n",
              "      <td>0</td>\n",
              "      <td>21</td>\n",
              "      <td>15-21</td>\n",
              "    </tr>\n",
              "    <tr>\n",
              "      <th>4</th>\n",
              "      <td>4</td>\n",
              "      <td>0</td>\n",
              "      <td>0</td>\n",
              "      <td>23</td>\n",
              "      <td>22-30</td>\n",
              "    </tr>\n",
              "    <tr>\n",
              "      <th>...</th>\n",
              "      <td>...</td>\n",
              "      <td>...</td>\n",
              "      <td>...</td>\n",
              "      <td>...</td>\n",
              "      <td>...</td>\n",
              "    </tr>\n",
              "    <tr>\n",
              "      <th>41248</th>\n",
              "      <td>41248</td>\n",
              "      <td>1</td>\n",
              "      <td>1</td>\n",
              "      <td>33</td>\n",
              "      <td>31-50</td>\n",
              "    </tr>\n",
              "    <tr>\n",
              "      <th>41249</th>\n",
              "      <td>41249</td>\n",
              "      <td>0</td>\n",
              "      <td>0</td>\n",
              "      <td>25</td>\n",
              "      <td>22-30</td>\n",
              "    </tr>\n",
              "    <tr>\n",
              "      <th>41250</th>\n",
              "      <td>41250</td>\n",
              "      <td>1</td>\n",
              "      <td>1</td>\n",
              "      <td>20</td>\n",
              "      <td>15-21</td>\n",
              "    </tr>\n",
              "    <tr>\n",
              "      <th>41251</th>\n",
              "      <td>41251</td>\n",
              "      <td>1</td>\n",
              "      <td>1</td>\n",
              "      <td>29</td>\n",
              "      <td>22-30</td>\n",
              "    </tr>\n",
              "    <tr>\n",
              "      <th>41252</th>\n",
              "      <td>41252</td>\n",
              "      <td>0</td>\n",
              "      <td>0</td>\n",
              "      <td>24</td>\n",
              "      <td>22-30</td>\n",
              "    </tr>\n",
              "  </tbody>\n",
              "</table>\n",
              "<p>41253 rows × 5 columns</p>\n",
              "</div>\n",
              "      <button class=\"colab-df-convert\" onclick=\"convertToInteractive('df-8d7fba02-9b8b-45bc-bf8e-506e9e64594f')\"\n",
              "              title=\"Convert this dataframe to an interactive table.\"\n",
              "              style=\"display:none;\">\n",
              "        \n",
              "  <svg xmlns=\"http://www.w3.org/2000/svg\" height=\"24px\"viewBox=\"0 0 24 24\"\n",
              "       width=\"24px\">\n",
              "    <path d=\"M0 0h24v24H0V0z\" fill=\"none\"/>\n",
              "    <path d=\"M18.56 5.44l.94 2.06.94-2.06 2.06-.94-2.06-.94-.94-2.06-.94 2.06-2.06.94zm-11 1L8.5 8.5l.94-2.06 2.06-.94-2.06-.94L8.5 2.5l-.94 2.06-2.06.94zm10 10l.94 2.06.94-2.06 2.06-.94-2.06-.94-.94-2.06-.94 2.06-2.06.94z\"/><path d=\"M17.41 7.96l-1.37-1.37c-.4-.4-.92-.59-1.43-.59-.52 0-1.04.2-1.43.59L10.3 9.45l-7.72 7.72c-.78.78-.78 2.05 0 2.83L4 21.41c.39.39.9.59 1.41.59.51 0 1.02-.2 1.41-.59l7.78-7.78 2.81-2.81c.8-.78.8-2.07 0-2.86zM5.41 20L4 18.59l7.72-7.72 1.47 1.35L5.41 20z\"/>\n",
              "  </svg>\n",
              "      </button>\n",
              "      \n",
              "  <style>\n",
              "    .colab-df-container {\n",
              "      display:flex;\n",
              "      flex-wrap:wrap;\n",
              "      gap: 12px;\n",
              "    }\n",
              "\n",
              "    .colab-df-convert {\n",
              "      background-color: #E8F0FE;\n",
              "      border: none;\n",
              "      border-radius: 50%;\n",
              "      cursor: pointer;\n",
              "      display: none;\n",
              "      fill: #1967D2;\n",
              "      height: 32px;\n",
              "      padding: 0 0 0 0;\n",
              "      width: 32px;\n",
              "    }\n",
              "\n",
              "    .colab-df-convert:hover {\n",
              "      background-color: #E2EBFA;\n",
              "      box-shadow: 0px 1px 2px rgba(60, 64, 67, 0.3), 0px 1px 3px 1px rgba(60, 64, 67, 0.15);\n",
              "      fill: #174EA6;\n",
              "    }\n",
              "\n",
              "    [theme=dark] .colab-df-convert {\n",
              "      background-color: #3B4455;\n",
              "      fill: #D2E3FC;\n",
              "    }\n",
              "\n",
              "    [theme=dark] .colab-df-convert:hover {\n",
              "      background-color: #434B5C;\n",
              "      box-shadow: 0px 1px 3px 1px rgba(0, 0, 0, 0.15);\n",
              "      filter: drop-shadow(0px 1px 2px rgba(0, 0, 0, 0.3));\n",
              "      fill: #FFFFFF;\n",
              "    }\n",
              "  </style>\n",
              "\n",
              "      <script>\n",
              "        const buttonEl =\n",
              "          document.querySelector('#df-8d7fba02-9b8b-45bc-bf8e-506e9e64594f button.colab-df-convert');\n",
              "        buttonEl.style.display =\n",
              "          google.colab.kernel.accessAllowed ? 'block' : 'none';\n",
              "\n",
              "        async function convertToInteractive(key) {\n",
              "          const element = document.querySelector('#df-8d7fba02-9b8b-45bc-bf8e-506e9e64594f');\n",
              "          const dataTable =\n",
              "            await google.colab.kernel.invokeFunction('convertToInteractive',\n",
              "                                                     [key], {});\n",
              "          if (!dataTable) return;\n",
              "\n",
              "          const docLinkHtml = 'Like what you see? Visit the ' +\n",
              "            '<a target=\"_blank\" href=https://colab.research.google.com/notebooks/data_table.ipynb>data table notebook</a>'\n",
              "            + ' to learn more about interactive tables.';\n",
              "          element.innerHTML = '';\n",
              "          dataTable['output_type'] = 'display_data';\n",
              "          await google.colab.output.renderOutput(dataTable, element);\n",
              "          const docLink = document.createElement('div');\n",
              "          docLink.innerHTML = docLinkHtml;\n",
              "          element.appendChild(docLink);\n",
              "        }\n",
              "      </script>\n",
              "    </div>\n",
              "  </div>\n",
              "  "
            ]
          },
          "metadata": {},
          "execution_count": 614
        }
      ],
      "source": [
        "bins = [15, 22, 31, 51, 70, 92]\n",
        "groups = ['15-21', '22-30', '31-50','51-69', '70+']\n",
        "\n",
        "customers['age_group'] = pd.cut(customers.age, bins, labels = groups, include_lowest=True)\n",
        "customers"
      ]
    },
    {
      "cell_type": "markdown",
      "id": "bc3fc118",
      "metadata": {
        "id": "bc3fc118"
      },
      "source": [
        "After that we have categorized each customer, we can start to count how many members belong to each category. We do this using the group by function. Obviously, the sum of the number of members in each category is equal to the length of the dataset."
      ]
    },
    {
      "cell_type": "code",
      "execution_count": 615,
      "id": "4852e405",
      "metadata": {
        "colab": {
          "base_uri": "https://localhost:8080/"
        },
        "id": "4852e405",
        "outputId": "092aa183-d581-4898-b9aa-5a47ce38b1ec"
      },
      "outputs": [
        {
          "output_type": "execute_result",
          "data": {
            "text/plain": [
              "age_group\n",
              "15-21     4906\n",
              "22-30    16964\n",
              "31-50    13288\n",
              "51-69     5922\n",
              "70+        173\n",
              "dtype: int64"
            ]
          },
          "metadata": {},
          "execution_count": 615
        }
      ],
      "source": [
        "age_group_counts = customers.groupby('age_group').size()\n",
        "age_group_counts"
      ]
    },
    {
      "cell_type": "code",
      "execution_count": 616,
      "id": "6ec98555",
      "metadata": {
        "colab": {
          "base_uri": "https://localhost:8080/",
          "height": 54
        },
        "id": "6ec98555",
        "outputId": "46c14be8-010a-4ba3-a5e3-48b18c4c56ab"
      },
      "outputs": [
        {
          "output_type": "execute_result",
          "data": {
            "text/plain": [
              "\" same as doing\\nfrom collections import Counter \\nage_group_counts2 = Counter(customers['age_group'])\\nage_group_counts2 \""
            ],
            "application/vnd.google.colaboratory.intrinsic+json": {
              "type": "string"
            }
          },
          "metadata": {},
          "execution_count": 616
        }
      ],
      "source": [
        "''' same as doing\n",
        "from collections import Counter \n",
        "age_group_counts2 = Counter(customers['age_group'])\n",
        "age_group_counts2 '''"
      ]
    },
    {
      "cell_type": "markdown",
      "id": "e50a616c",
      "metadata": {
        "id": "e50a616c"
      },
      "source": [
        "5) We are know ready to plot our age groups into a barplot to see the hetereogeneity of our dataset. In fact, as we expected, there are much more younger customers with respect to older ones."
      ]
    },
    {
      "cell_type": "code",
      "execution_count": 617,
      "id": "80a6499f",
      "metadata": {
        "colab": {
          "base_uri": "https://localhost:8080/",
          "height": 204
        },
        "id": "80a6499f",
        "outputId": "c1bb1ded-af8a-423c-d919-d8bc85b296d2"
      },
      "outputs": [
        {
          "output_type": "execute_result",
          "data": {
            "text/plain": [
              "  Age Group  Count\n",
              "0     15-21   4906\n",
              "1     22-30  16964\n",
              "2     31-50  13288\n",
              "3     51-69   5922\n",
              "4       70+    173"
            ],
            "text/html": [
              "\n",
              "  <div id=\"df-324de223-fc6b-4b23-92a8-87e6b4ab83d8\">\n",
              "    <div class=\"colab-df-container\">\n",
              "      <div>\n",
              "<style scoped>\n",
              "    .dataframe tbody tr th:only-of-type {\n",
              "        vertical-align: middle;\n",
              "    }\n",
              "\n",
              "    .dataframe tbody tr th {\n",
              "        vertical-align: top;\n",
              "    }\n",
              "\n",
              "    .dataframe thead th {\n",
              "        text-align: right;\n",
              "    }\n",
              "</style>\n",
              "<table border=\"1\" class=\"dataframe\">\n",
              "  <thead>\n",
              "    <tr style=\"text-align: right;\">\n",
              "      <th></th>\n",
              "      <th>Age Group</th>\n",
              "      <th>Count</th>\n",
              "    </tr>\n",
              "  </thead>\n",
              "  <tbody>\n",
              "    <tr>\n",
              "      <th>0</th>\n",
              "      <td>15-21</td>\n",
              "      <td>4906</td>\n",
              "    </tr>\n",
              "    <tr>\n",
              "      <th>1</th>\n",
              "      <td>22-30</td>\n",
              "      <td>16964</td>\n",
              "    </tr>\n",
              "    <tr>\n",
              "      <th>2</th>\n",
              "      <td>31-50</td>\n",
              "      <td>13288</td>\n",
              "    </tr>\n",
              "    <tr>\n",
              "      <th>3</th>\n",
              "      <td>51-69</td>\n",
              "      <td>5922</td>\n",
              "    </tr>\n",
              "    <tr>\n",
              "      <th>4</th>\n",
              "      <td>70+</td>\n",
              "      <td>173</td>\n",
              "    </tr>\n",
              "  </tbody>\n",
              "</table>\n",
              "</div>\n",
              "      <button class=\"colab-df-convert\" onclick=\"convertToInteractive('df-324de223-fc6b-4b23-92a8-87e6b4ab83d8')\"\n",
              "              title=\"Convert this dataframe to an interactive table.\"\n",
              "              style=\"display:none;\">\n",
              "        \n",
              "  <svg xmlns=\"http://www.w3.org/2000/svg\" height=\"24px\"viewBox=\"0 0 24 24\"\n",
              "       width=\"24px\">\n",
              "    <path d=\"M0 0h24v24H0V0z\" fill=\"none\"/>\n",
              "    <path d=\"M18.56 5.44l.94 2.06.94-2.06 2.06-.94-2.06-.94-.94-2.06-.94 2.06-2.06.94zm-11 1L8.5 8.5l.94-2.06 2.06-.94-2.06-.94L8.5 2.5l-.94 2.06-2.06.94zm10 10l.94 2.06.94-2.06 2.06-.94-2.06-.94-.94-2.06-.94 2.06-2.06.94z\"/><path d=\"M17.41 7.96l-1.37-1.37c-.4-.4-.92-.59-1.43-.59-.52 0-1.04.2-1.43.59L10.3 9.45l-7.72 7.72c-.78.78-.78 2.05 0 2.83L4 21.41c.39.39.9.59 1.41.59.51 0 1.02-.2 1.41-.59l7.78-7.78 2.81-2.81c.8-.78.8-2.07 0-2.86zM5.41 20L4 18.59l7.72-7.72 1.47 1.35L5.41 20z\"/>\n",
              "  </svg>\n",
              "      </button>\n",
              "      \n",
              "  <style>\n",
              "    .colab-df-container {\n",
              "      display:flex;\n",
              "      flex-wrap:wrap;\n",
              "      gap: 12px;\n",
              "    }\n",
              "\n",
              "    .colab-df-convert {\n",
              "      background-color: #E8F0FE;\n",
              "      border: none;\n",
              "      border-radius: 50%;\n",
              "      cursor: pointer;\n",
              "      display: none;\n",
              "      fill: #1967D2;\n",
              "      height: 32px;\n",
              "      padding: 0 0 0 0;\n",
              "      width: 32px;\n",
              "    }\n",
              "\n",
              "    .colab-df-convert:hover {\n",
              "      background-color: #E2EBFA;\n",
              "      box-shadow: 0px 1px 2px rgba(60, 64, 67, 0.3), 0px 1px 3px 1px rgba(60, 64, 67, 0.15);\n",
              "      fill: #174EA6;\n",
              "    }\n",
              "\n",
              "    [theme=dark] .colab-df-convert {\n",
              "      background-color: #3B4455;\n",
              "      fill: #D2E3FC;\n",
              "    }\n",
              "\n",
              "    [theme=dark] .colab-df-convert:hover {\n",
              "      background-color: #434B5C;\n",
              "      box-shadow: 0px 1px 3px 1px rgba(0, 0, 0, 0.15);\n",
              "      filter: drop-shadow(0px 1px 2px rgba(0, 0, 0, 0.3));\n",
              "      fill: #FFFFFF;\n",
              "    }\n",
              "  </style>\n",
              "\n",
              "      <script>\n",
              "        const buttonEl =\n",
              "          document.querySelector('#df-324de223-fc6b-4b23-92a8-87e6b4ab83d8 button.colab-df-convert');\n",
              "        buttonEl.style.display =\n",
              "          google.colab.kernel.accessAllowed ? 'block' : 'none';\n",
              "\n",
              "        async function convertToInteractive(key) {\n",
              "          const element = document.querySelector('#df-324de223-fc6b-4b23-92a8-87e6b4ab83d8');\n",
              "          const dataTable =\n",
              "            await google.colab.kernel.invokeFunction('convertToInteractive',\n",
              "                                                     [key], {});\n",
              "          if (!dataTable) return;\n",
              "\n",
              "          const docLinkHtml = 'Like what you see? Visit the ' +\n",
              "            '<a target=\"_blank\" href=https://colab.research.google.com/notebooks/data_table.ipynb>data table notebook</a>'\n",
              "            + ' to learn more about interactive tables.';\n",
              "          element.innerHTML = '';\n",
              "          dataTable['output_type'] = 'display_data';\n",
              "          await google.colab.output.renderOutput(dataTable, element);\n",
              "          const docLink = document.createElement('div');\n",
              "          docLink.innerHTML = docLinkHtml;\n",
              "          element.appendChild(docLink);\n",
              "        }\n",
              "      </script>\n",
              "    </div>\n",
              "  </div>\n",
              "  "
            ]
          },
          "metadata": {},
          "execution_count": 617
        }
      ],
      "source": [
        "age_group_counts_df = pd.DataFrame([age_group_counts]).T.reset_index()\n",
        "age_group_counts_df.columns = ['Age Group', 'Count']\n",
        "age_group_counts_df"
      ]
    },
    {
      "cell_type": "markdown",
      "id": "ba871b0c",
      "metadata": {
        "id": "ba871b0c"
      },
      "source": [
        "6) We can plot our results to better capture the age distribution of our data. In our dataset there are much more people under 50 years old with respect to people over 50.\n",
        "The percentage of people below 50 years old is 85.2%!!!"
      ]
    },
    {
      "cell_type": "code",
      "execution_count": 618,
      "id": "8af46854",
      "metadata": {
        "colab": {
          "base_uri": "https://localhost:8080/"
        },
        "id": "8af46854",
        "outputId": "98d5112f-62d5-4212-e0b4-7ca6f6f89be9"
      },
      "outputs": [
        {
          "output_type": "stream",
          "name": "stdout",
          "text": [
            "The percentage of people under 50 years old is: 0.852253169466463\n"
          ]
        }
      ],
      "source": [
        "people_under_50 = age_group_counts[0]+age_group_counts[1]+age_group_counts[2]\n",
        "people_over_50 = age_group_counts[3]+age_group_counts[4]\n",
        "total_number_customers = people_under_50 + people_over_50\n",
        "print(f'The percentage of people under 50 years old is: {( people_under_50 / total_number_customers) }')"
      ]
    },
    {
      "cell_type": "code",
      "execution_count": 619,
      "id": "176e7bda",
      "metadata": {
        "colab": {
          "base_uri": "https://localhost:8080/",
          "height": 353
        },
        "id": "176e7bda",
        "outputId": "211d6918-6bfa-4d5a-96fc-1a9af993d335"
      },
      "outputs": [
        {
          "output_type": "display_data",
          "data": {
            "text/plain": [
              "<Figure size 720x360 with 1 Axes>"
            ],
            "image/png": "[encoded data removed]"
          },
          "metadata": {}
        }
      ],
      "source": [
        "plt.figure(figsize=(10,5))\n",
        "sns.barplot(x='Age Group', y='Count', data=age_group_counts_df)\n",
        "plt.xticks(rotation=90)\n",
        "plt.show()"
      ]
    },
    {
      "cell_type": "markdown",
      "id": "8b2e077b",
      "metadata": {
        "id": "8b2e077b"
      },
      "source": [
        "7) Actually, it would be better for us also to capture how many people inside each age group have agreed to be part in the member club and how many people have activated the fashion news."
      ]
    },
    {
      "cell_type": "markdown",
      "id": "aade4f73",
      "metadata": {
        "id": "aade4f73"
      },
      "source": [
        "We know that both columns of 'club member' and 'fashion news' have two possible values:\n",
        "- 1 if the customer is subscribed to the club member or to fashion news\n",
        "- 0 if the customer is not subscribed"
      ]
    },
    {
      "cell_type": "markdown",
      "id": "b6e1d244",
      "metadata": {
        "id": "b6e1d244"
      },
      "source": [
        "#### **Club membership**"
      ]
    },
    {
      "cell_type": "code",
      "execution_count": 620,
      "id": "043ed9b0",
      "metadata": {
        "colab": {
          "base_uri": "https://localhost:8080/"
        },
        "id": "043ed9b0",
        "outputId": "8ab13124-ab14-4fe4-9d8a-e96949daf70a"
      },
      "outputs": [
        {
          "output_type": "execute_result",
          "data": {
            "text/plain": [
              "Counter({1: 17975, 0: 23278})"
            ]
          },
          "metadata": {},
          "execution_count": 620
        }
      ],
      "source": [
        "from collections import Counter\n",
        "\n",
        "club_general = Counter(customers['club_member'])\n",
        "club_general"
      ]
    },
    {
      "cell_type": "markdown",
      "id": "cfb9807f",
      "metadata": {
        "id": "cfb9807f"
      },
      "source": [
        "We create a dataframe that contains the two options (being subscribed or not being subscribed) and we count how many customers there are in each of them."
      ]
    },
    {
      "cell_type": "code",
      "execution_count": 621,
      "id": "23e4c392",
      "metadata": {
        "colab": {
          "base_uri": "https://localhost:8080/",
          "height": 111
        },
        "id": "23e4c392",
        "outputId": "f7520f2f-5629-4d6c-a822-66ad9a2199fb"
      },
      "outputs": [
        {
          "output_type": "execute_result",
          "data": {
            "text/plain": [
              "   Premium Club (1=yes, 0=no)  Count\n",
              "0                           1  17975\n",
              "1                           0  23278"
            ],
            "text/html": [
              "\n",
              "  <div id=\"df-18feb784-2a4f-42e4-85be-4e9bdaa9757e\">\n",
              "    <div class=\"colab-df-container\">\n",
              "      <div>\n",
              "<style scoped>\n",
              "    .dataframe tbody tr th:only-of-type {\n",
              "        vertical-align: middle;\n",
              "    }\n",
              "\n",
              "    .dataframe tbody tr th {\n",
              "        vertical-align: top;\n",
              "    }\n",
              "\n",
              "    .dataframe thead th {\n",
              "        text-align: right;\n",
              "    }\n",
              "</style>\n",
              "<table border=\"1\" class=\"dataframe\">\n",
              "  <thead>\n",
              "    <tr style=\"text-align: right;\">\n",
              "      <th></th>\n",
              "      <th>Premium Club (1=yes, 0=no)</th>\n",
              "      <th>Count</th>\n",
              "    </tr>\n",
              "  </thead>\n",
              "  <tbody>\n",
              "    <tr>\n",
              "      <th>0</th>\n",
              "      <td>1</td>\n",
              "      <td>17975</td>\n",
              "    </tr>\n",
              "    <tr>\n",
              "      <th>1</th>\n",
              "      <td>0</td>\n",
              "      <td>23278</td>\n",
              "    </tr>\n",
              "  </tbody>\n",
              "</table>\n",
              "</div>\n",
              "      <button class=\"colab-df-convert\" onclick=\"convertToInteractive('df-18feb784-2a4f-42e4-85be-4e9bdaa9757e')\"\n",
              "              title=\"Convert this dataframe to an interactive table.\"\n",
              "              style=\"display:none;\">\n",
              "        \n",
              "  <svg xmlns=\"http://www.w3.org/2000/svg\" height=\"24px\"viewBox=\"0 0 24 24\"\n",
              "       width=\"24px\">\n",
              "    <path d=\"M0 0h24v24H0V0z\" fill=\"none\"/>\n",
              "    <path d=\"M18.56 5.44l.94 2.06.94-2.06 2.06-.94-2.06-.94-.94-2.06-.94 2.06-2.06.94zm-11 1L8.5 8.5l.94-2.06 2.06-.94-2.06-.94L8.5 2.5l-.94 2.06-2.06.94zm10 10l.94 2.06.94-2.06 2.06-.94-2.06-.94-.94-2.06-.94 2.06-2.06.94z\"/><path d=\"M17.41 7.96l-1.37-1.37c-.4-.4-.92-.59-1.43-.59-.52 0-1.04.2-1.43.59L10.3 9.45l-7.72 7.72c-.78.78-.78 2.05 0 2.83L4 21.41c.39.39.9.59 1.41.59.51 0 1.02-.2 1.41-.59l7.78-7.78 2.81-2.81c.8-.78.8-2.07 0-2.86zM5.41 20L4 18.59l7.72-7.72 1.47 1.35L5.41 20z\"/>\n",
              "  </svg>\n",
              "      </button>\n",
              "      \n",
              "  <style>\n",
              "    .colab-df-container {\n",
              "      display:flex;\n",
              "      flex-wrap:wrap;\n",
              "      gap: 12px;\n",
              "    }\n",
              "\n",
              "    .colab-df-convert {\n",
              "      background-color: #E8F0FE;\n",
              "      border: none;\n",
              "      border-radius: 50%;\n",
              "      cursor: pointer;\n",
              "      display: none;\n",
              "      fill: #1967D2;\n",
              "      height: 32px;\n",
              "      padding: 0 0 0 0;\n",
              "      width: 32px;\n",
              "    }\n",
              "\n",
              "    .colab-df-convert:hover {\n",
              "      background-color: #E2EBFA;\n",
              "      box-shadow: 0px 1px 2px rgba(60, 64, 67, 0.3), 0px 1px 3px 1px rgba(60, 64, 67, 0.15);\n",
              "      fill: #174EA6;\n",
              "    }\n",
              "\n",
              "    [theme=dark] .colab-df-convert {\n",
              "      background-color: #3B4455;\n",
              "      fill: #D2E3FC;\n",
              "    }\n",
              "\n",
              "    [theme=dark] .colab-df-convert:hover {\n",
              "      background-color: #434B5C;\n",
              "      box-shadow: 0px 1px 3px 1px rgba(0, 0, 0, 0.15);\n",
              "      filter: drop-shadow(0px 1px 2px rgba(0, 0, 0, 0.3));\n",
              "      fill: #FFFFFF;\n",
              "    }\n",
              "  </style>\n",
              "\n",
              "      <script>\n",
              "        const buttonEl =\n",
              "          document.querySelector('#df-18feb784-2a4f-42e4-85be-4e9bdaa9757e button.colab-df-convert');\n",
              "        buttonEl.style.display =\n",
              "          google.colab.kernel.accessAllowed ? 'block' : 'none';\n",
              "\n",
              "        async function convertToInteractive(key) {\n",
              "          const element = document.querySelector('#df-18feb784-2a4f-42e4-85be-4e9bdaa9757e');\n",
              "          const dataTable =\n",
              "            await google.colab.kernel.invokeFunction('convertToInteractive',\n",
              "                                                     [key], {});\n",
              "          if (!dataTable) return;\n",
              "\n",
              "          const docLinkHtml = 'Like what you see? Visit the ' +\n",
              "            '<a target=\"_blank\" href=https://colab.research.google.com/notebooks/data_table.ipynb>data table notebook</a>'\n",
              "            + ' to learn more about interactive tables.';\n",
              "          element.innerHTML = '';\n",
              "          dataTable['output_type'] = 'display_data';\n",
              "          await google.colab.output.renderOutput(dataTable, element);\n",
              "          const docLink = document.createElement('div');\n",
              "          docLink.innerHTML = docLinkHtml;\n",
              "          element.appendChild(docLink);\n",
              "        }\n",
              "      </script>\n",
              "    </div>\n",
              "  </div>\n",
              "  "
            ]
          },
          "metadata": {},
          "execution_count": 621
        }
      ],
      "source": [
        "club_general_df = pd.DataFrame([club_general]).T.reset_index()\n",
        "club_general_df.columns = ['Premium Club (1=yes, 0=no)', 'Count']\n",
        "club_general_df"
      ]
    },
    {
      "cell_type": "markdown",
      "id": "1e683cc8",
      "metadata": {
        "id": "1e683cc8"
      },
      "source": [
        "We plot the graph of the dataframe. However it does not tell us a lot because we do not know to which group age each customer belongs. Therefore, we might decide to create a more accurate dataframe which always categorizes customers in two classes (subscribed or not subscribed) but at the same time, clusters the clients also by age group. In this way we can capture more information."
      ]
    },
    {
      "cell_type": "code",
      "execution_count": 622,
      "id": "3c0f1f97",
      "metadata": {
        "colab": {
          "base_uri": "https://localhost:8080/",
          "height": 330
        },
        "id": "3c0f1f97",
        "outputId": "69e0d530-63f0-470a-88d1-b55631d8f851"
      },
      "outputs": [
        {
          "output_type": "display_data",
          "data": {
            "text/plain": [
              "<Figure size 720x360 with 1 Axes>"
            ],
            "image/png": "[encoded data removed]"
          },
          "metadata": {}
        }
      ],
      "source": [
        "plt.figure(figsize=(10,5))\n",
        "sns.barplot(x='Premium Club (1=yes, 0=no)', y='Count', data=club_general_df)\n",
        "plt.xticks(rotation=90)\n",
        "plt.show()"
      ]
    },
    {
      "cell_type": "code",
      "execution_count": 623,
      "id": "c1fc4316",
      "metadata": {
        "colab": {
          "base_uri": "https://localhost:8080/",
          "height": 359
        },
        "id": "c1fc4316",
        "outputId": "dcb48021-21cb-4ad3-a0b6-d5e4e8e4499e"
      },
      "outputs": [
        {
          "output_type": "execute_result",
          "data": {
            "text/plain": [
              "  age_group  club_member  count\n",
              "0     15-21            0   2479\n",
              "1     15-21            1   2427\n",
              "2     22-30            0  10441\n",
              "3     22-30            1   6523\n",
              "4     31-50            0   7414\n",
              "5     31-50            1   5874\n",
              "6     51-69            0   2876\n",
              "7     51-69            1   3046\n",
              "8       70+            0     68\n",
              "9       70+            1    105"
            ],
            "text/html": [
              "\n",
              "  <div id=\"df-c111cbd3-89cf-4117-a458-14eec1bd4e68\">\n",
              "    <div class=\"colab-df-container\">\n",
              "      <div>\n",
              "<style scoped>\n",
              "    .dataframe tbody tr th:only-of-type {\n",
              "        vertical-align: middle;\n",
              "    }\n",
              "\n",
              "    .dataframe tbody tr th {\n",
              "        vertical-align: top;\n",
              "    }\n",
              "\n",
              "    .dataframe thead th {\n",
              "        text-align: right;\n",
              "    }\n",
              "</style>\n",
              "<table border=\"1\" class=\"dataframe\">\n",
              "  <thead>\n",
              "    <tr style=\"text-align: right;\">\n",
              "      <th></th>\n",
              "      <th>age_group</th>\n",
              "      <th>club_member</th>\n",
              "      <th>count</th>\n",
              "    </tr>\n",
              "  </thead>\n",
              "  <tbody>\n",
              "    <tr>\n",
              "      <th>0</th>\n",
              "      <td>15-21</td>\n",
              "      <td>0</td>\n",
              "      <td>2479</td>\n",
              "    </tr>\n",
              "    <tr>\n",
              "      <th>1</th>\n",
              "      <td>15-21</td>\n",
              "      <td>1</td>\n",
              "      <td>2427</td>\n",
              "    </tr>\n",
              "    <tr>\n",
              "      <th>2</th>\n",
              "      <td>22-30</td>\n",
              "      <td>0</td>\n",
              "      <td>10441</td>\n",
              "    </tr>\n",
              "    <tr>\n",
              "      <th>3</th>\n",
              "      <td>22-30</td>\n",
              "      <td>1</td>\n",
              "      <td>6523</td>\n",
              "    </tr>\n",
              "    <tr>\n",
              "      <th>4</th>\n",
              "      <td>31-50</td>\n",
              "      <td>0</td>\n",
              "      <td>7414</td>\n",
              "    </tr>\n",
              "    <tr>\n",
              "      <th>5</th>\n",
              "      <td>31-50</td>\n",
              "      <td>1</td>\n",
              "      <td>5874</td>\n",
              "    </tr>\n",
              "    <tr>\n",
              "      <th>6</th>\n",
              "      <td>51-69</td>\n",
              "      <td>0</td>\n",
              "      <td>2876</td>\n",
              "    </tr>\n",
              "    <tr>\n",
              "      <th>7</th>\n",
              "      <td>51-69</td>\n",
              "      <td>1</td>\n",
              "      <td>3046</td>\n",
              "    </tr>\n",
              "    <tr>\n",
              "      <th>8</th>\n",
              "      <td>70+</td>\n",
              "      <td>0</td>\n",
              "      <td>68</td>\n",
              "    </tr>\n",
              "    <tr>\n",
              "      <th>9</th>\n",
              "      <td>70+</td>\n",
              "      <td>1</td>\n",
              "      <td>105</td>\n",
              "    </tr>\n",
              "  </tbody>\n",
              "</table>\n",
              "</div>\n",
              "      <button class=\"colab-df-convert\" onclick=\"convertToInteractive('df-c111cbd3-89cf-4117-a458-14eec1bd4e68')\"\n",
              "              title=\"Convert this dataframe to an interactive table.\"\n",
              "              style=\"display:none;\">\n",
              "        \n",
              "  <svg xmlns=\"http://www.w3.org/2000/svg\" height=\"24px\"viewBox=\"0 0 24 24\"\n",
              "       width=\"24px\">\n",
              "    <path d=\"M0 0h24v24H0V0z\" fill=\"none\"/>\n",
              "    <path d=\"M18.56 5.44l.94 2.06.94-2.06 2.06-.94-2.06-.94-.94-2.06-.94 2.06-2.06.94zm-11 1L8.5 8.5l.94-2.06 2.06-.94-2.06-.94L8.5 2.5l-.94 2.06-2.06.94zm10 10l.94 2.06.94-2.06 2.06-.94-2.06-.94-.94-2.06-.94 2.06-2.06.94z\"/><path d=\"M17.41 7.96l-1.37-1.37c-.4-.4-.92-.59-1.43-.59-.52 0-1.04.2-1.43.59L10.3 9.45l-7.72 7.72c-.78.78-.78 2.05 0 2.83L4 21.41c.39.39.9.59 1.41.59.51 0 1.02-.2 1.41-.59l7.78-7.78 2.81-2.81c.8-.78.8-2.07 0-2.86zM5.41 20L4 18.59l7.72-7.72 1.47 1.35L5.41 20z\"/>\n",
              "  </svg>\n",
              "      </button>\n",
              "      \n",
              "  <style>\n",
              "    .colab-df-container {\n",
              "      display:flex;\n",
              "      flex-wrap:wrap;\n",
              "      gap: 12px;\n",
              "    }\n",
              "\n",
              "    .colab-df-convert {\n",
              "      background-color: #E8F0FE;\n",
              "      border: none;\n",
              "      border-radius: 50%;\n",
              "      cursor: pointer;\n",
              "      display: none;\n",
              "      fill: #1967D2;\n",
              "      height: 32px;\n",
              "      padding: 0 0 0 0;\n",
              "      width: 32px;\n",
              "    }\n",
              "\n",
              "    .colab-df-convert:hover {\n",
              "      background-color: #E2EBFA;\n",
              "      box-shadow: 0px 1px 2px rgba(60, 64, 67, 0.3), 0px 1px 3px 1px rgba(60, 64, 67, 0.15);\n",
              "      fill: #174EA6;\n",
              "    }\n",
              "\n",
              "    [theme=dark] .colab-df-convert {\n",
              "      background-color: #3B4455;\n",
              "      fill: #D2E3FC;\n",
              "    }\n",
              "\n",
              "    [theme=dark] .colab-df-convert:hover {\n",
              "      background-color: #434B5C;\n",
              "      box-shadow: 0px 1px 3px 1px rgba(0, 0, 0, 0.15);\n",
              "      filter: drop-shadow(0px 1px 2px rgba(0, 0, 0, 0.3));\n",
              "      fill: #FFFFFF;\n",
              "    }\n",
              "  </style>\n",
              "\n",
              "      <script>\n",
              "        const buttonEl =\n",
              "          document.querySelector('#df-c111cbd3-89cf-4117-a458-14eec1bd4e68 button.colab-df-convert');\n",
              "        buttonEl.style.display =\n",
              "          google.colab.kernel.accessAllowed ? 'block' : 'none';\n",
              "\n",
              "        async function convertToInteractive(key) {\n",
              "          const element = document.querySelector('#df-c111cbd3-89cf-4117-a458-14eec1bd4e68');\n",
              "          const dataTable =\n",
              "            await google.colab.kernel.invokeFunction('convertToInteractive',\n",
              "                                                     [key], {});\n",
              "          if (!dataTable) return;\n",
              "\n",
              "          const docLinkHtml = 'Like what you see? Visit the ' +\n",
              "            '<a target=\"_blank\" href=https://colab.research.google.com/notebooks/data_table.ipynb>data table notebook</a>'\n",
              "            + ' to learn more about interactive tables.';\n",
              "          element.innerHTML = '';\n",
              "          dataTable['output_type'] = 'display_data';\n",
              "          await google.colab.output.renderOutput(dataTable, element);\n",
              "          const docLink = document.createElement('div');\n",
              "          docLink.innerHTML = docLinkHtml;\n",
              "          element.appendChild(docLink);\n",
              "        }\n",
              "      </script>\n",
              "    </div>\n",
              "  </div>\n",
              "  "
            ]
          },
          "metadata": {},
          "execution_count": 623
        }
      ],
      "source": [
        "club_member_df = customers.groupby(['age_group', 'club_member']).count().reset_index()\n",
        "club_member_df = club_member_df.drop(columns=['fashion_news', 'age'])\n",
        "club_member_df.columns = ['age_group', 'club_member', 'count']\n",
        "club_member_df"
      ]
    },
    {
      "cell_type": "markdown",
      "id": "91e78484",
      "metadata": {
        "id": "91e78484"
      },
      "source": [
        "On average there are more people which are not subscribed to the premium club. However, most of the people who are subscribed are youngsters. For what concerns elderly people, their percentage of influence in the dataset is very small."
      ]
    },
    {
      "cell_type": "code",
      "execution_count": 624,
      "id": "f9f6abe7",
      "metadata": {
        "colab": {
          "base_uri": "https://localhost:8080/",
          "height": 353
        },
        "id": "f9f6abe7",
        "outputId": "9ba0fceb-342f-4606-c109-01115727d4f1"
      },
      "outputs": [
        {
          "output_type": "display_data",
          "data": {
            "text/plain": [
              "<Figure size 720x360 with 1 Axes>"
            ],
            "image/png": "[encoded data removed]"
          },
          "metadata": {}
        }
      ],
      "source": [
        "plt.figure(figsize=(10,5))\n",
        "sns.barplot(x='age_group', y='count', hue='club_member', data=club_member_df)\n",
        "plt.xticks(rotation=90)\n",
        "plt.show()"
      ]
    },
    {
      "cell_type": "markdown",
      "id": "cb185585",
      "metadata": {
        "id": "cb185585"
      },
      "source": [
        "#### **Fashion news**"
      ]
    },
    {
      "cell_type": "code",
      "execution_count": 625,
      "id": "de21f5e4",
      "metadata": {
        "colab": {
          "base_uri": "https://localhost:8080/",
          "height": 111
        },
        "id": "de21f5e4",
        "outputId": "5fe1365a-1e44-4c2c-9486-4b22b79debce"
      },
      "outputs": [
        {
          "output_type": "execute_result",
          "data": {
            "text/plain": [
              "   Fashion News (1=yes, 0=no)  Count\n",
              "0                           1  18213\n",
              "1                           0  23040"
            ],
            "text/html": [
              "\n",
              "  <div id=\"df-bdc3fbd6-db73-455e-8d2c-676aed2f6627\">\n",
              "    <div class=\"colab-df-container\">\n",
              "      <div>\n",
              "<style scoped>\n",
              "    .dataframe tbody tr th:only-of-type {\n",
              "        vertical-align: middle;\n",
              "    }\n",
              "\n",
              "    .dataframe tbody tr th {\n",
              "        vertical-align: top;\n",
              "    }\n",
              "\n",
              "    .dataframe thead th {\n",
              "        text-align: right;\n",
              "    }\n",
              "</style>\n",
              "<table border=\"1\" class=\"dataframe\">\n",
              "  <thead>\n",
              "    <tr style=\"text-align: right;\">\n",
              "      <th></th>\n",
              "      <th>Fashion News (1=yes, 0=no)</th>\n",
              "      <th>Count</th>\n",
              "    </tr>\n",
              "  </thead>\n",
              "  <tbody>\n",
              "    <tr>\n",
              "      <th>0</th>\n",
              "      <td>1</td>\n",
              "      <td>18213</td>\n",
              "    </tr>\n",
              "    <tr>\n",
              "      <th>1</th>\n",
              "      <td>0</td>\n",
              "      <td>23040</td>\n",
              "    </tr>\n",
              "  </tbody>\n",
              "</table>\n",
              "</div>\n",
              "      <button class=\"colab-df-convert\" onclick=\"convertToInteractive('df-bdc3fbd6-db73-455e-8d2c-676aed2f6627')\"\n",
              "              title=\"Convert this dataframe to an interactive table.\"\n",
              "              style=\"display:none;\">\n",
              "        \n",
              "  <svg xmlns=\"http://www.w3.org/2000/svg\" height=\"24px\"viewBox=\"0 0 24 24\"\n",
              "       width=\"24px\">\n",
              "    <path d=\"M0 0h24v24H0V0z\" fill=\"none\"/>\n",
              "    <path d=\"M18.56 5.44l.94 2.06.94-2.06 2.06-.94-2.06-.94-.94-2.06-.94 2.06-2.06.94zm-11 1L8.5 8.5l.94-2.06 2.06-.94-2.06-.94L8.5 2.5l-.94 2.06-2.06.94zm10 10l.94 2.06.94-2.06 2.06-.94-2.06-.94-.94-2.06-.94 2.06-2.06.94z\"/><path d=\"M17.41 7.96l-1.37-1.37c-.4-.4-.92-.59-1.43-.59-.52 0-1.04.2-1.43.59L10.3 9.45l-7.72 7.72c-.78.78-.78 2.05 0 2.83L4 21.41c.39.39.9.59 1.41.59.51 0 1.02-.2 1.41-.59l7.78-7.78 2.81-2.81c.8-.78.8-2.07 0-2.86zM5.41 20L4 18.59l7.72-7.72 1.47 1.35L5.41 20z\"/>\n",
              "  </svg>\n",
              "      </button>\n",
              "      \n",
              "  <style>\n",
              "    .colab-df-container {\n",
              "      display:flex;\n",
              "      flex-wrap:wrap;\n",
              "      gap: 12px;\n",
              "    }\n",
              "\n",
              "    .colab-df-convert {\n",
              "      background-color: #E8F0FE;\n",
              "      border: none;\n",
              "      border-radius: 50%;\n",
              "      cursor: pointer;\n",
              "      display: none;\n",
              "      fill: #1967D2;\n",
              "      height: 32px;\n",
              "      padding: 0 0 0 0;\n",
              "      width: 32px;\n",
              "    }\n",
              "\n",
              "    .colab-df-convert:hover {\n",
              "      background-color: #E2EBFA;\n",
              "      box-shadow: 0px 1px 2px rgba(60, 64, 67, 0.3), 0px 1px 3px 1px rgba(60, 64, 67, 0.15);\n",
              "      fill: #174EA6;\n",
              "    }\n",
              "\n",
              "    [theme=dark] .colab-df-convert {\n",
              "      background-color: #3B4455;\n",
              "      fill: #D2E3FC;\n",
              "    }\n",
              "\n",
              "    [theme=dark] .colab-df-convert:hover {\n",
              "      background-color: #434B5C;\n",
              "      box-shadow: 0px 1px 3px 1px rgba(0, 0, 0, 0.15);\n",
              "      filter: drop-shadow(0px 1px 2px rgba(0, 0, 0, 0.3));\n",
              "      fill: #FFFFFF;\n",
              "    }\n",
              "  </style>\n",
              "\n",
              "      <script>\n",
              "        const buttonEl =\n",
              "          document.querySelector('#df-bdc3fbd6-db73-455e-8d2c-676aed2f6627 button.colab-df-convert');\n",
              "        buttonEl.style.display =\n",
              "          google.colab.kernel.accessAllowed ? 'block' : 'none';\n",
              "\n",
              "        async function convertToInteractive(key) {\n",
              "          const element = document.querySelector('#df-bdc3fbd6-db73-455e-8d2c-676aed2f6627');\n",
              "          const dataTable =\n",
              "            await google.colab.kernel.invokeFunction('convertToInteractive',\n",
              "                                                     [key], {});\n",
              "          if (!dataTable) return;\n",
              "\n",
              "          const docLinkHtml = 'Like what you see? Visit the ' +\n",
              "            '<a target=\"_blank\" href=https://colab.research.google.com/notebooks/data_table.ipynb>data table notebook</a>'\n",
              "            + ' to learn more about interactive tables.';\n",
              "          element.innerHTML = '';\n",
              "          dataTable['output_type'] = 'display_data';\n",
              "          await google.colab.output.renderOutput(dataTable, element);\n",
              "          const docLink = document.createElement('div');\n",
              "          docLink.innerHTML = docLinkHtml;\n",
              "          element.appendChild(docLink);\n",
              "        }\n",
              "      </script>\n",
              "    </div>\n",
              "  </div>\n",
              "  "
            ]
          },
          "metadata": {},
          "execution_count": 625
        }
      ],
      "source": [
        "from collections import Counter\n",
        "fashion_general = Counter(customers['fashion_news'])\n",
        "\n",
        "fashion_general_df = pd.DataFrame([fashion_general]).T.reset_index()\n",
        "fashion_general_df.columns = ['Fashion News (1=yes, 0=no)', 'Count']\n",
        "fashion_general_df"
      ]
    },
    {
      "cell_type": "code",
      "execution_count": 626,
      "id": "7da41239",
      "metadata": {
        "colab": {
          "base_uri": "https://localhost:8080/",
          "height": 330
        },
        "id": "7da41239",
        "outputId": "99efed65-3a01-46be-f80f-13bcf511e0fb"
      },
      "outputs": [
        {
          "output_type": "display_data",
          "data": {
            "text/plain": [
              "<Figure size 720x360 with 1 Axes>"
            ],
            "image/png": "[encoded data removed]"
          },
          "metadata": {}
        }
      ],
      "source": [
        "plt.figure(figsize=(10,5))\n",
        "sns.barplot(x='Fashion News (1=yes, 0=no)', y='Count', data=fashion_general_df)\n",
        "plt.xticks(rotation=90)\n",
        "plt.show()"
      ]
    },
    {
      "cell_type": "code",
      "execution_count": 627,
      "id": "f9009e74",
      "metadata": {
        "colab": {
          "base_uri": "https://localhost:8080/",
          "height": 359
        },
        "id": "f9009e74",
        "outputId": "ace48834-2967-45b0-be7c-31d65725ee5c"
      },
      "outputs": [
        {
          "output_type": "execute_result",
          "data": {
            "text/plain": [
              "  age_group  fashion_news  count\n",
              "0     15-21             0   2420\n",
              "1     15-21             1   2486\n",
              "2     22-30             0  10351\n",
              "3     22-30             1   6613\n",
              "4     31-50             0   7354\n",
              "5     31-50             1   5934\n",
              "6     51-69             0   2847\n",
              "7     51-69             1   3075\n",
              "8       70+             0     68\n",
              "9       70+             1    105"
            ],
            "text/html": [
              "\n",
              "  <div id=\"df-bf249485-677c-4148-8c96-827c19dddd19\">\n",
              "    <div class=\"colab-df-container\">\n",
              "      <div>\n",
              "<style scoped>\n",
              "    .dataframe tbody tr th:only-of-type {\n",
              "        vertical-align: middle;\n",
              "    }\n",
              "\n",
              "    .dataframe tbody tr th {\n",
              "        vertical-align: top;\n",
              "    }\n",
              "\n",
              "    .dataframe thead th {\n",
              "        text-align: right;\n",
              "    }\n",
              "</style>\n",
              "<table border=\"1\" class=\"dataframe\">\n",
              "  <thead>\n",
              "    <tr style=\"text-align: right;\">\n",
              "      <th></th>\n",
              "      <th>age_group</th>\n",
              "      <th>fashion_news</th>\n",
              "      <th>count</th>\n",
              "    </tr>\n",
              "  </thead>\n",
              "  <tbody>\n",
              "    <tr>\n",
              "      <th>0</th>\n",
              "      <td>15-21</td>\n",
              "      <td>0</td>\n",
              "      <td>2420</td>\n",
              "    </tr>\n",
              "    <tr>\n",
              "      <th>1</th>\n",
              "      <td>15-21</td>\n",
              "      <td>1</td>\n",
              "      <td>2486</td>\n",
              "    </tr>\n",
              "    <tr>\n",
              "      <th>2</th>\n",
              "      <td>22-30</td>\n",
              "      <td>0</td>\n",
              "      <td>10351</td>\n",
              "    </tr>\n",
              "    <tr>\n",
              "      <th>3</th>\n",
              "      <td>22-30</td>\n",
              "      <td>1</td>\n",
              "      <td>6613</td>\n",
              "    </tr>\n",
              "    <tr>\n",
              "      <th>4</th>\n",
              "      <td>31-50</td>\n",
              "      <td>0</td>\n",
              "      <td>7354</td>\n",
              "    </tr>\n",
              "    <tr>\n",
              "      <th>5</th>\n",
              "      <td>31-50</td>\n",
              "      <td>1</td>\n",
              "      <td>5934</td>\n",
              "    </tr>\n",
              "    <tr>\n",
              "      <th>6</th>\n",
              "      <td>51-69</td>\n",
              "      <td>0</td>\n",
              "      <td>2847</td>\n",
              "    </tr>\n",
              "    <tr>\n",
              "      <th>7</th>\n",
              "      <td>51-69</td>\n",
              "      <td>1</td>\n",
              "      <td>3075</td>\n",
              "    </tr>\n",
              "    <tr>\n",
              "      <th>8</th>\n",
              "      <td>70+</td>\n",
              "      <td>0</td>\n",
              "      <td>68</td>\n",
              "    </tr>\n",
              "    <tr>\n",
              "      <th>9</th>\n",
              "      <td>70+</td>\n",
              "      <td>1</td>\n",
              "      <td>105</td>\n",
              "    </tr>\n",
              "  </tbody>\n",
              "</table>\n",
              "</div>\n",
              "      <button class=\"colab-df-convert\" onclick=\"convertToInteractive('df-bf249485-677c-4148-8c96-827c19dddd19')\"\n",
              "              title=\"Convert this dataframe to an interactive table.\"\n",
              "              style=\"display:none;\">\n",
              "        \n",
              "  <svg xmlns=\"http://www.w3.org/2000/svg\" height=\"24px\"viewBox=\"0 0 24 24\"\n",
              "       width=\"24px\">\n",
              "    <path d=\"M0 0h24v24H0V0z\" fill=\"none\"/>\n",
              "    <path d=\"M18.56 5.44l.94 2.06.94-2.06 2.06-.94-2.06-.94-.94-2.06-.94 2.06-2.06.94zm-11 1L8.5 8.5l.94-2.06 2.06-.94-2.06-.94L8.5 2.5l-.94 2.06-2.06.94zm10 10l.94 2.06.94-2.06 2.06-.94-2.06-.94-.94-2.06-.94 2.06-2.06.94z\"/><path d=\"M17.41 7.96l-1.37-1.37c-.4-.4-.92-.59-1.43-.59-.52 0-1.04.2-1.43.59L10.3 9.45l-7.72 7.72c-.78.78-.78 2.05 0 2.83L4 21.41c.39.39.9.59 1.41.59.51 0 1.02-.2 1.41-.59l7.78-7.78 2.81-2.81c.8-.78.8-2.07 0-2.86zM5.41 20L4 18.59l7.72-7.72 1.47 1.35L5.41 20z\"/>\n",
              "  </svg>\n",
              "      </button>\n",
              "      \n",
              "  <style>\n",
              "    .colab-df-container {\n",
              "      display:flex;\n",
              "      flex-wrap:wrap;\n",
              "      gap: 12px;\n",
              "    }\n",
              "\n",
              "    .colab-df-convert {\n",
              "      background-color: #E8F0FE;\n",
              "      border: none;\n",
              "      border-radius: 50%;\n",
              "      cursor: pointer;\n",
              "      display: none;\n",
              "      fill: #1967D2;\n",
              "      height: 32px;\n",
              "      padding: 0 0 0 0;\n",
              "      width: 32px;\n",
              "    }\n",
              "\n",
              "    .colab-df-convert:hover {\n",
              "      background-color: #E2EBFA;\n",
              "      box-shadow: 0px 1px 2px rgba(60, 64, 67, 0.3), 0px 1px 3px 1px rgba(60, 64, 67, 0.15);\n",
              "      fill: #174EA6;\n",
              "    }\n",
              "\n",
              "    [theme=dark] .colab-df-convert {\n",
              "      background-color: #3B4455;\n",
              "      fill: #D2E3FC;\n",
              "    }\n",
              "\n",
              "    [theme=dark] .colab-df-convert:hover {\n",
              "      background-color: #434B5C;\n",
              "      box-shadow: 0px 1px 3px 1px rgba(0, 0, 0, 0.15);\n",
              "      filter: drop-shadow(0px 1px 2px rgba(0, 0, 0, 0.3));\n",
              "      fill: #FFFFFF;\n",
              "    }\n",
              "  </style>\n",
              "\n",
              "      <script>\n",
              "        const buttonEl =\n",
              "          document.querySelector('#df-bf249485-677c-4148-8c96-827c19dddd19 button.colab-df-convert');\n",
              "        buttonEl.style.display =\n",
              "          google.colab.kernel.accessAllowed ? 'block' : 'none';\n",
              "\n",
              "        async function convertToInteractive(key) {\n",
              "          const element = document.querySelector('#df-bf249485-677c-4148-8c96-827c19dddd19');\n",
              "          const dataTable =\n",
              "            await google.colab.kernel.invokeFunction('convertToInteractive',\n",
              "                                                     [key], {});\n",
              "          if (!dataTable) return;\n",
              "\n",
              "          const docLinkHtml = 'Like what you see? Visit the ' +\n",
              "            '<a target=\"_blank\" href=https://colab.research.google.com/notebooks/data_table.ipynb>data table notebook</a>'\n",
              "            + ' to learn more about interactive tables.';\n",
              "          element.innerHTML = '';\n",
              "          dataTable['output_type'] = 'display_data';\n",
              "          await google.colab.output.renderOutput(dataTable, element);\n",
              "          const docLink = document.createElement('div');\n",
              "          docLink.innerHTML = docLinkHtml;\n",
              "          element.appendChild(docLink);\n",
              "        }\n",
              "      </script>\n",
              "    </div>\n",
              "  </div>\n",
              "  "
            ]
          },
          "metadata": {},
          "execution_count": 627
        }
      ],
      "source": [
        "fashion_news_df = customers.groupby(['age_group', 'fashion_news']).count().reset_index()\n",
        "fashion_news_df = fashion_news_df.drop(columns=['club_member', 'age'])\n",
        "fashion_news_df.columns = ['age_group', 'fashion_news', 'count']\n",
        "fashion_news_df"
      ]
    },
    {
      "cell_type": "markdown",
      "id": "e05834c3",
      "metadata": {
        "id": "e05834c3"
      },
      "source": [
        "From the graph underneath, we can see again that yougsters compose the vast majority of customers who are connected to fashion news. However, the probability that a person over 50 is connected to fashion news is higher to not being connected with respect to younger people."
      ]
    },
    {
      "cell_type": "code",
      "execution_count": 628,
      "id": "3483862b",
      "metadata": {
        "colab": {
          "base_uri": "https://localhost:8080/",
          "height": 353
        },
        "id": "3483862b",
        "outputId": "b77f4577-b5c2-4afc-cc3c-30ab462f10cd"
      },
      "outputs": [
        {
          "output_type": "display_data",
          "data": {
            "text/plain": [
              "<Figure size 720x360 with 1 Axes>"
            ],
            "image/png": "[encoded data removed]"
          },
          "metadata": {}
        }
      ],
      "source": [
        "plt.figure(figsize=(10,5))\n",
        "sns.barplot(x='age_group', y='count', hue='fashion_news', data=fashion_news_df)\n",
        "plt.xticks(rotation=90)\n",
        "plt.show()"
      ]
    },
    {
      "cell_type": "markdown",
      "id": "cd63dd46",
      "metadata": {
        "id": "cd63dd46"
      },
      "source": [
        "As a conclusion, what useful information can we use for our recommendation system?\n",
        "- Data of customers in the cutomers' dataset is not very homogeneous (85% of the population is below 50 years old);\n",
        "- People over 50 years old have an higher probability to be subscribed to fashion news and member club with respect to people under 50 years old;\n",
        "- In general there are more people who are not into these activities."
      ]
    },
    {
      "cell_type": "markdown",
      "id": "10cc37d7",
      "metadata": {
        "id": "10cc37d7"
      },
      "source": [
        "# ARTICLES"
      ]
    },
    {
      "cell_type": "markdown",
      "id": "731021a8",
      "metadata": {
        "id": "731021a8"
      },
      "source": [
        "In the second part of our data analysis, we will study the different articles that our company sells. The final aim is to be able to understand when different articles are similiar or different and therefore, when to suggest one of them basing on the previous orders. \n",
        "Let's take a look to this dataset:"
      ]
    },
    {
      "cell_type": "code",
      "execution_count": 629,
      "id": "4661126c",
      "metadata": {
        "colab": {
          "base_uri": "https://localhost:8080/",
          "height": 467
        },
        "id": "4661126c",
        "outputId": "49b8613c-112b-49e8-fe4a-1826d1e33572"
      },
      "outputs": [
        {
          "output_type": "execute_result",
          "data": {
            "text/plain": [
              "   article_id                     prod_name  product_type product_type_name  \\\n",
              "0           0           20 den 1p Stockings           304  Underwear Tights   \n",
              "1           1     Shape Up 30 den 1p Tights           273   Leggings/Tights   \n",
              "2           2      Support 40 den 1p Tights           304  Underwear Tights   \n",
              "3           3             200 den 1p Tights           304  Underwear Tights   \n",
              "4           4  Control Top 50 den 1p Tights           273   Leggings/Tights   \n",
              "\n",
              "   product_group_name  colour_group colour_group_name  perceived_colour_value  \\\n",
              "0      Socks & Tights             9             Black                       4   \n",
              "1  Garment Lower body             9             Black                       4   \n",
              "2      Socks & Tights             9             Black                       4   \n",
              "3      Socks & Tights             9             Black                       4   \n",
              "4  Garment Lower body             9             Black                       4   \n",
              "\n",
              "  perceived_colour_value_name  perceived_colour_master  ... department  \\\n",
              "0                        Dark                        5  ...       3608   \n",
              "1                        Dark                        5  ...       3608   \n",
              "2                        Dark                        5  ...       3608   \n",
              "3                        Dark                        5  ...       3608   \n",
              "4                        Dark                        5  ...       3608   \n",
              "\n",
              "   department_name index        index_name index_group  index_group_name  \\\n",
              "0     Tights basic     B  Lingeries/Tights           1        Ladieswear   \n",
              "1     Tights basic     B  Lingeries/Tights           1        Ladieswear   \n",
              "2     Tights basic     B  Lingeries/Tights           1        Ladieswear   \n",
              "3     Tights basic     B  Lingeries/Tights           1        Ladieswear   \n",
              "4     Tights basic     B  Lingeries/Tights           1        Ladieswear   \n",
              "\n",
              "  section                    section_name garment_group  garment_group_name  \n",
              "0      62  Womens Nightwear, Socks & Tigh          1021    Socks and Tights  \n",
              "1      62  Womens Nightwear, Socks & Tigh          1021    Socks and Tights  \n",
              "2      62  Womens Nightwear, Socks & Tigh          1021    Socks and Tights  \n",
              "3      62  Womens Nightwear, Socks & Tigh          1021    Socks and Tights  \n",
              "4      62  Womens Nightwear, Socks & Tigh          1021    Socks and Tights  \n",
              "\n",
              "[5 rows x 21 columns]"
            ],
            "text/html": [
              "\n",
              "  <div id=\"df-d63eccfc-a6aa-4c6e-9a22-ecebc80d6171\">\n",
              "    <div class=\"colab-df-container\">\n",
              "      <div>\n",
              "<style scoped>\n",
              "    .dataframe tbody tr th:only-of-type {\n",
              "        vertical-align: middle;\n",
              "    }\n",
              "\n",
              "    .dataframe tbody tr th {\n",
              "        vertical-align: top;\n",
              "    }\n",
              "\n",
              "    .dataframe thead th {\n",
              "        text-align: right;\n",
              "    }\n",
              "</style>\n",
              "<table border=\"1\" class=\"dataframe\">\n",
              "  <thead>\n",
              "    <tr style=\"text-align: right;\">\n",
              "      <th></th>\n",
              "      <th>article_id</th>\n",
              "      <th>prod_name</th>\n",
              "      <th>product_type</th>\n",
              "      <th>product_type_name</th>\n",
              "      <th>product_group_name</th>\n",
              "      <th>colour_group</th>\n",
              "      <th>colour_group_name</th>\n",
              "      <th>perceived_colour_value</th>\n",
              "      <th>perceived_colour_value_name</th>\n",
              "      <th>perceived_colour_master</th>\n",
              "      <th>...</th>\n",
              "      <th>department</th>\n",
              "      <th>department_name</th>\n",
              "      <th>index</th>\n",
              "      <th>index_name</th>\n",
              "      <th>index_group</th>\n",
              "      <th>index_group_name</th>\n",
              "      <th>section</th>\n",
              "      <th>section_name</th>\n",
              "      <th>garment_group</th>\n",
              "      <th>garment_group_name</th>\n",
              "    </tr>\n",
              "  </thead>\n",
              "  <tbody>\n",
              "    <tr>\n",
              "      <th>0</th>\n",
              "      <td>0</td>\n",
              "      <td>20 den 1p Stockings</td>\n",
              "      <td>304</td>\n",
              "      <td>Underwear Tights</td>\n",
              "      <td>Socks &amp; Tights</td>\n",
              "      <td>9</td>\n",
              "      <td>Black</td>\n",
              "      <td>4</td>\n",
              "      <td>Dark</td>\n",
              "      <td>5</td>\n",
              "      <td>...</td>\n",
              "      <td>3608</td>\n",
              "      <td>Tights basic</td>\n",
              "      <td>B</td>\n",
              "      <td>Lingeries/Tights</td>\n",
              "      <td>1</td>\n",
              "      <td>Ladieswear</td>\n",
              "      <td>62</td>\n",
              "      <td>Womens Nightwear, Socks &amp; Tigh</td>\n",
              "      <td>1021</td>\n",
              "      <td>Socks and Tights</td>\n",
              "    </tr>\n",
              "    <tr>\n",
              "      <th>1</th>\n",
              "      <td>1</td>\n",
              "      <td>Shape Up 30 den 1p Tights</td>\n",
              "      <td>273</td>\n",
              "      <td>Leggings/Tights</td>\n",
              "      <td>Garment Lower body</td>\n",
              "      <td>9</td>\n",
              "      <td>Black</td>\n",
              "      <td>4</td>\n",
              "      <td>Dark</td>\n",
              "      <td>5</td>\n",
              "      <td>...</td>\n",
              "      <td>3608</td>\n",
              "      <td>Tights basic</td>\n",
              "      <td>B</td>\n",
              "      <td>Lingeries/Tights</td>\n",
              "      <td>1</td>\n",
              "      <td>Ladieswear</td>\n",
              "      <td>62</td>\n",
              "      <td>Womens Nightwear, Socks &amp; Tigh</td>\n",
              "      <td>1021</td>\n",
              "      <td>Socks and Tights</td>\n",
              "    </tr>\n",
              "    <tr>\n",
              "      <th>2</th>\n",
              "      <td>2</td>\n",
              "      <td>Support 40 den 1p Tights</td>\n",
              "      <td>304</td>\n",
              "      <td>Underwear Tights</td>\n",
              "      <td>Socks &amp; Tights</td>\n",
              "      <td>9</td>\n",
              "      <td>Black</td>\n",
              "      <td>4</td>\n",
              "      <td>Dark</td>\n",
              "      <td>5</td>\n",
              "      <td>...</td>\n",
              "      <td>3608</td>\n",
              "      <td>Tights basic</td>\n",
              "      <td>B</td>\n",
              "      <td>Lingeries/Tights</td>\n",
              "      <td>1</td>\n",
              "      <td>Ladieswear</td>\n",
              "      <td>62</td>\n",
              "      <td>Womens Nightwear, Socks &amp; Tigh</td>\n",
              "      <td>1021</td>\n",
              "      <td>Socks and Tights</td>\n",
              "    </tr>\n",
              "    <tr>\n",
              "      <th>3</th>\n",
              "      <td>3</td>\n",
              "      <td>200 den 1p Tights</td>\n",
              "      <td>304</td>\n",
              "      <td>Underwear Tights</td>\n",
              "      <td>Socks &amp; Tights</td>\n",
              "      <td>9</td>\n",
              "      <td>Black</td>\n",
              "      <td>4</td>\n",
              "      <td>Dark</td>\n",
              "      <td>5</td>\n",
              "      <td>...</td>\n",
              "      <td>3608</td>\n",
              "      <td>Tights basic</td>\n",
              "      <td>B</td>\n",
              "      <td>Lingeries/Tights</td>\n",
              "      <td>1</td>\n",
              "      <td>Ladieswear</td>\n",
              "      <td>62</td>\n",
              "      <td>Womens Nightwear, Socks &amp; Tigh</td>\n",
              "      <td>1021</td>\n",
              "      <td>Socks and Tights</td>\n",
              "    </tr>\n",
              "    <tr>\n",
              "      <th>4</th>\n",
              "      <td>4</td>\n",
              "      <td>Control Top 50 den 1p Tights</td>\n",
              "      <td>273</td>\n",
              "      <td>Leggings/Tights</td>\n",
              "      <td>Garment Lower body</td>\n",
              "      <td>9</td>\n",
              "      <td>Black</td>\n",
              "      <td>4</td>\n",
              "      <td>Dark</td>\n",
              "      <td>5</td>\n",
              "      <td>...</td>\n",
              "      <td>3608</td>\n",
              "      <td>Tights basic</td>\n",
              "      <td>B</td>\n",
              "      <td>Lingeries/Tights</td>\n",
              "      <td>1</td>\n",
              "      <td>Ladieswear</td>\n",
              "      <td>62</td>\n",
              "      <td>Womens Nightwear, Socks &amp; Tigh</td>\n",
              "      <td>1021</td>\n",
              "      <td>Socks and Tights</td>\n",
              "    </tr>\n",
              "  </tbody>\n",
              "</table>\n",
              "<p>5 rows × 21 columns</p>\n",
              "</div>\n",
              "      <button class=\"colab-df-convert\" onclick=\"convertToInteractive('df-d63eccfc-a6aa-4c6e-9a22-ecebc80d6171')\"\n",
              "              title=\"Convert this dataframe to an interactive table.\"\n",
              "              style=\"display:none;\">\n",
              "        \n",
              "  <svg xmlns=\"http://www.w3.org/2000/svg\" height=\"24px\"viewBox=\"0 0 24 24\"\n",
              "       width=\"24px\">\n",
              "    <path d=\"M0 0h24v24H0V0z\" fill=\"none\"/>\n",
              "    <path d=\"M18.56 5.44l.94 2.06.94-2.06 2.06-.94-2.06-.94-.94-2.06-.94 2.06-2.06.94zm-11 1L8.5 8.5l.94-2.06 2.06-.94-2.06-.94L8.5 2.5l-.94 2.06-2.06.94zm10 10l.94 2.06.94-2.06 2.06-.94-2.06-.94-.94-2.06-.94 2.06-2.06.94z\"/><path d=\"M17.41 7.96l-1.37-1.37c-.4-.4-.92-.59-1.43-.59-.52 0-1.04.2-1.43.59L10.3 9.45l-7.72 7.72c-.78.78-.78 2.05 0 2.83L4 21.41c.39.39.9.59 1.41.59.51 0 1.02-.2 1.41-.59l7.78-7.78 2.81-2.81c.8-.78.8-2.07 0-2.86zM5.41 20L4 18.59l7.72-7.72 1.47 1.35L5.41 20z\"/>\n",
              "  </svg>\n",
              "      </button>\n",
              "      \n",
              "  <style>\n",
              "    .colab-df-container {\n",
              "      display:flex;\n",
              "      flex-wrap:wrap;\n",
              "      gap: 12px;\n",
              "    }\n",
              "\n",
              "    .colab-df-convert {\n",
              "      background-color: #E8F0FE;\n",
              "      border: none;\n",
              "      border-radius: 50%;\n",
              "      cursor: pointer;\n",
              "      display: none;\n",
              "      fill: #1967D2;\n",
              "      height: 32px;\n",
              "      padding: 0 0 0 0;\n",
              "      width: 32px;\n",
              "    }\n",
              "\n",
              "    .colab-df-convert:hover {\n",
              "      background-color: #E2EBFA;\n",
              "      box-shadow: 0px 1px 2px rgba(60, 64, 67, 0.3), 0px 1px 3px 1px rgba(60, 64, 67, 0.15);\n",
              "      fill: #174EA6;\n",
              "    }\n",
              "\n",
              "    [theme=dark] .colab-df-convert {\n",
              "      background-color: #3B4455;\n",
              "      fill: #D2E3FC;\n",
              "    }\n",
              "\n",
              "    [theme=dark] .colab-df-convert:hover {\n",
              "      background-color: #434B5C;\n",
              "      box-shadow: 0px 1px 3px 1px rgba(0, 0, 0, 0.15);\n",
              "      filter: drop-shadow(0px 1px 2px rgba(0, 0, 0, 0.3));\n",
              "      fill: #FFFFFF;\n",
              "    }\n",
              "  </style>\n",
              "\n",
              "      <script>\n",
              "        const buttonEl =\n",
              "          document.querySelector('#df-d63eccfc-a6aa-4c6e-9a22-ecebc80d6171 button.colab-df-convert');\n",
              "        buttonEl.style.display =\n",
              "          google.colab.kernel.accessAllowed ? 'block' : 'none';\n",
              "\n",
              "        async function convertToInteractive(key) {\n",
              "          const element = document.querySelector('#df-d63eccfc-a6aa-4c6e-9a22-ecebc80d6171');\n",
              "          const dataTable =\n",
              "            await google.colab.kernel.invokeFunction('convertToInteractive',\n",
              "                                                     [key], {});\n",
              "          if (!dataTable) return;\n",
              "\n",
              "          const docLinkHtml = 'Like what you see? Visit the ' +\n",
              "            '<a target=\"_blank\" href=https://colab.research.google.com/notebooks/data_table.ipynb>data table notebook</a>'\n",
              "            + ' to learn more about interactive tables.';\n",
              "          element.innerHTML = '';\n",
              "          dataTable['output_type'] = 'display_data';\n",
              "          await google.colab.output.renderOutput(dataTable, element);\n",
              "          const docLink = document.createElement('div');\n",
              "          docLink.innerHTML = docLinkHtml;\n",
              "          element.appendChild(docLink);\n",
              "        }\n",
              "      </script>\n",
              "    </div>\n",
              "  </div>\n",
              "  "
            ]
          },
          "metadata": {},
          "execution_count": 629
        }
      ],
      "source": [
        "articles = pd.read_csv(\"recsys_articles.csv\")\n",
        "articles.head()"
      ]
    },
    {
      "cell_type": "markdown",
      "id": "28824bcc",
      "metadata": {
        "id": "28824bcc"
      },
      "source": [
        "As we can easily see, this dataset has a more complex structure than the one analyzed before, but we can for sure ignore some columns.\n",
        "Each category is represented by two columns and for this reason, we can take only one and discard the other.\n",
        "For example, each product has the variable 'product_type' containing its ID code and the variable 'product_type_name' that is the full name of the product.\n",
        "Therefore, we can choose some variables to consider and someother to ignore."
      ]
    },
    {
      "cell_type": "markdown",
      "id": "87bc9cfc",
      "metadata": {
        "id": "87bc9cfc"
      },
      "source": [
        "1) As we did for customers, we want to check how many values are null. Luckily, this time we have zero null values."
      ]
    },
    {
      "cell_type": "code",
      "execution_count": 630,
      "id": "41dbc910",
      "metadata": {
        "colab": {
          "base_uri": "https://localhost:8080/"
        },
        "id": "41dbc910",
        "outputId": "3ac6c3d2-e6c3-48ef-ec0e-a412109dd160"
      },
      "outputs": [
        {
          "output_type": "execute_result",
          "data": {
            "text/plain": [
              "article_id                      0\n",
              "prod_name                       0\n",
              "product_type                    0\n",
              "product_type_name               0\n",
              "product_group_name              0\n",
              "colour_group                    0\n",
              "colour_group_name               0\n",
              "perceived_colour_value          0\n",
              "perceived_colour_value_name     0\n",
              "perceived_colour_master         0\n",
              "perceived_colour_master_name    0\n",
              "department                      0\n",
              "department_name                 0\n",
              "index                           0\n",
              "index_name                      0\n",
              "index_group                     0\n",
              "index_group_name                0\n",
              "section                         0\n",
              "section_name                    0\n",
              "garment_group                   0\n",
              "garment_group_name              0\n",
              "dtype: int64"
            ]
          },
          "metadata": {},
          "execution_count": 630
        }
      ],
      "source": [
        "articles.isnull().sum()"
      ]
    },
    {
      "cell_type": "markdown",
      "source": [
        "Even though there are no Null values, from the some data manipulation, we can notice that there are some Unknown values, which we want to get rid of."
      ],
      "metadata": {
        "id": "HaZBEKMLDFXF"
      },
      "id": "HaZBEKMLDFXF"
    },
    {
      "cell_type": "code",
      "source": [
        "unknowns = articles.loc[articles['product_group_name'] == 'Unknown']\n",
        "print(f'The percentage of Unknown items in our dataset is: {round((len(unknowns) / len(articles)*100), 2)}%')"
      ],
      "metadata": {
        "colab": {
          "base_uri": "https://localhost:8080/"
        },
        "id": "risxKV6qE6l1",
        "outputId": "87dd1c31-6eef-4206-fa09-461ff05dad3c"
      },
      "id": "risxKV6qE6l1",
      "execution_count": 631,
      "outputs": [
        {
          "output_type": "stream",
          "name": "stdout",
          "text": [
            "The percentage of Unknown items in our dataset is: 1.03%\n"
          ]
        }
      ]
    },
    {
      "cell_type": "code",
      "source": [
        "articles2 = articles[articles.product_type != -1]"
      ],
      "metadata": {
        "id": "8EHPvT7BDNzs"
      },
      "id": "8EHPvT7BDNzs",
      "execution_count": 632,
      "outputs": []
    },
    {
      "cell_type": "markdown",
      "id": "c7edc2ee",
      "metadata": {
        "id": "c7edc2ee"
      },
      "source": [
        "2) Now we can group our articles in different ways, starting from the division in categories."
      ]
    },
    {
      "cell_type": "markdown",
      "id": "b4341afb",
      "metadata": {
        "id": "b4341afb"
      },
      "source": [
        "#### **TYPES**"
      ]
    },
    {
      "cell_type": "markdown",
      "id": "9f994433",
      "metadata": {
        "id": "9f994433"
      },
      "source": [
        "We want to see how our products are partitioned according to their category. We analyze how these categories are structured and we find the number of articles for each of them. We start from types."
      ]
    },
    {
      "cell_type": "code",
      "execution_count": 635,
      "id": "98a9865c",
      "metadata": {
        "colab": {
          "base_uri": "https://localhost:8080/",
          "height": 419
        },
        "id": "98a9865c",
        "outputId": "c3b48aa6-0876-4976-fbde-a5cd234d8f70"
      },
      "outputs": [
        {
          "output_type": "execute_result",
          "data": {
            "text/plain": [
              "             Type  Count\n",
              "18       Trousers    972\n",
              "3         Sweater    635\n",
              "11          Dress    578\n",
              "21            Top    422\n",
              "17        T-shirt    382\n",
              "..            ...    ...\n",
              "30         Braces      1\n",
              "78       Hairband      1\n",
              "79     Flat shoes      1\n",
              "31  Nipple covers      1\n",
              "33   Bra extender      1\n",
              "\n",
              "[82 rows x 2 columns]"
            ],
            "text/html": [
              "\n",
              "  <div id=\"df-2e81f762-a285-4f99-9278-3a17bc5593ad\">\n",
              "    <div class=\"colab-df-container\">\n",
              "      <div>\n",
              "<style scoped>\n",
              "    .dataframe tbody tr th:only-of-type {\n",
              "        vertical-align: middle;\n",
              "    }\n",
              "\n",
              "    .dataframe tbody tr th {\n",
              "        vertical-align: top;\n",
              "    }\n",
              "\n",
              "    .dataframe thead th {\n",
              "        text-align: right;\n",
              "    }\n",
              "</style>\n",
              "<table border=\"1\" class=\"dataframe\">\n",
              "  <thead>\n",
              "    <tr style=\"text-align: right;\">\n",
              "      <th></th>\n",
              "      <th>Type</th>\n",
              "      <th>Count</th>\n",
              "    </tr>\n",
              "  </thead>\n",
              "  <tbody>\n",
              "    <tr>\n",
              "      <th>18</th>\n",
              "      <td>Trousers</td>\n",
              "      <td>972</td>\n",
              "    </tr>\n",
              "    <tr>\n",
              "      <th>3</th>\n",
              "      <td>Sweater</td>\n",
              "      <td>635</td>\n",
              "    </tr>\n",
              "    <tr>\n",
              "      <th>11</th>\n",
              "      <td>Dress</td>\n",
              "      <td>578</td>\n",
              "    </tr>\n",
              "    <tr>\n",
              "      <th>21</th>\n",
              "      <td>Top</td>\n",
              "      <td>422</td>\n",
              "    </tr>\n",
              "    <tr>\n",
              "      <th>17</th>\n",
              "      <td>T-shirt</td>\n",
              "      <td>382</td>\n",
              "    </tr>\n",
              "    <tr>\n",
              "      <th>...</th>\n",
              "      <td>...</td>\n",
              "      <td>...</td>\n",
              "    </tr>\n",
              "    <tr>\n",
              "      <th>30</th>\n",
              "      <td>Braces</td>\n",
              "      <td>1</td>\n",
              "    </tr>\n",
              "    <tr>\n",
              "      <th>78</th>\n",
              "      <td>Hairband</td>\n",
              "      <td>1</td>\n",
              "    </tr>\n",
              "    <tr>\n",
              "      <th>79</th>\n",
              "      <td>Flat shoes</td>\n",
              "      <td>1</td>\n",
              "    </tr>\n",
              "    <tr>\n",
              "      <th>31</th>\n",
              "      <td>Nipple covers</td>\n",
              "      <td>1</td>\n",
              "    </tr>\n",
              "    <tr>\n",
              "      <th>33</th>\n",
              "      <td>Bra extender</td>\n",
              "      <td>1</td>\n",
              "    </tr>\n",
              "  </tbody>\n",
              "</table>\n",
              "<p>82 rows × 2 columns</p>\n",
              "</div>\n",
              "      <button class=\"colab-df-convert\" onclick=\"convertToInteractive('df-2e81f762-a285-4f99-9278-3a17bc5593ad')\"\n",
              "              title=\"Convert this dataframe to an interactive table.\"\n",
              "              style=\"display:none;\">\n",
              "        \n",
              "  <svg xmlns=\"http://www.w3.org/2000/svg\" height=\"24px\"viewBox=\"0 0 24 24\"\n",
              "       width=\"24px\">\n",
              "    <path d=\"M0 0h24v24H0V0z\" fill=\"none\"/>\n",
              "    <path d=\"M18.56 5.44l.94 2.06.94-2.06 2.06-.94-2.06-.94-.94-2.06-.94 2.06-2.06.94zm-11 1L8.5 8.5l.94-2.06 2.06-.94-2.06-.94L8.5 2.5l-.94 2.06-2.06.94zm10 10l.94 2.06.94-2.06 2.06-.94-2.06-.94-.94-2.06-.94 2.06-2.06.94z\"/><path d=\"M17.41 7.96l-1.37-1.37c-.4-.4-.92-.59-1.43-.59-.52 0-1.04.2-1.43.59L10.3 9.45l-7.72 7.72c-.78.78-.78 2.05 0 2.83L4 21.41c.39.39.9.59 1.41.59.51 0 1.02-.2 1.41-.59l7.78-7.78 2.81-2.81c.8-.78.8-2.07 0-2.86zM5.41 20L4 18.59l7.72-7.72 1.47 1.35L5.41 20z\"/>\n",
              "  </svg>\n",
              "      </button>\n",
              "      \n",
              "  <style>\n",
              "    .colab-df-container {\n",
              "      display:flex;\n",
              "      flex-wrap:wrap;\n",
              "      gap: 12px;\n",
              "    }\n",
              "\n",
              "    .colab-df-convert {\n",
              "      background-color: #E8F0FE;\n",
              "      border: none;\n",
              "      border-radius: 50%;\n",
              "      cursor: pointer;\n",
              "      display: none;\n",
              "      fill: #1967D2;\n",
              "      height: 32px;\n",
              "      padding: 0 0 0 0;\n",
              "      width: 32px;\n",
              "    }\n",
              "\n",
              "    .colab-df-convert:hover {\n",
              "      background-color: #E2EBFA;\n",
              "      box-shadow: 0px 1px 2px rgba(60, 64, 67, 0.3), 0px 1px 3px 1px rgba(60, 64, 67, 0.15);\n",
              "      fill: #174EA6;\n",
              "    }\n",
              "\n",
              "    [theme=dark] .colab-df-convert {\n",
              "      background-color: #3B4455;\n",
              "      fill: #D2E3FC;\n",
              "    }\n",
              "\n",
              "    [theme=dark] .colab-df-convert:hover {\n",
              "      background-color: #434B5C;\n",
              "      box-shadow: 0px 1px 3px 1px rgba(0, 0, 0, 0.15);\n",
              "      filter: drop-shadow(0px 1px 2px rgba(0, 0, 0, 0.3));\n",
              "      fill: #FFFFFF;\n",
              "    }\n",
              "  </style>\n",
              "\n",
              "      <script>\n",
              "        const buttonEl =\n",
              "          document.querySelector('#df-2e81f762-a285-4f99-9278-3a17bc5593ad button.colab-df-convert');\n",
              "        buttonEl.style.display =\n",
              "          google.colab.kernel.accessAllowed ? 'block' : 'none';\n",
              "\n",
              "        async function convertToInteractive(key) {\n",
              "          const element = document.querySelector('#df-2e81f762-a285-4f99-9278-3a17bc5593ad');\n",
              "          const dataTable =\n",
              "            await google.colab.kernel.invokeFunction('convertToInteractive',\n",
              "                                                     [key], {});\n",
              "          if (!dataTable) return;\n",
              "\n",
              "          const docLinkHtml = 'Like what you see? Visit the ' +\n",
              "            '<a target=\"_blank\" href=https://colab.research.google.com/notebooks/data_table.ipynb>data table notebook</a>'\n",
              "            + ' to learn more about interactive tables.';\n",
              "          element.innerHTML = '';\n",
              "          dataTable['output_type'] = 'display_data';\n",
              "          await google.colab.output.renderOutput(dataTable, element);\n",
              "          const docLink = document.createElement('div');\n",
              "          docLink.innerHTML = docLinkHtml;\n",
              "          element.appendChild(docLink);\n",
              "        }\n",
              "      </script>\n",
              "    </div>\n",
              "  </div>\n",
              "  "
            ]
          },
          "metadata": {},
          "execution_count": 635
        }
      ],
      "source": [
        "type_article_count = Counter(articles['product_type_name'])\n",
        "type_article_count_df = pd.DataFrame([type_article_count]).T.reset_index()\n",
        "type_article_count_df.columns = ['Type', 'Count']\n",
        "type_article_count_df = type_article_count_df.sort_values(by='Count', ascending=False) #We sort the dataframe in order to see the biggest types without any code\n",
        "type_article_count_df"
      ]
    },
    {
      "cell_type": "markdown",
      "id": "648710c1",
      "metadata": {
        "id": "648710c1"
      },
      "source": [
        "Let's see a visual representation:"
      ]
    },
    {
      "cell_type": "markdown",
      "id": "dbc25d66",
      "metadata": {
        "id": "dbc25d66"
      },
      "source": [
        "From the dataframe, we see that the product type with more articles is 'Trousers', with exactly 972 models."
      ]
    },
    {
      "cell_type": "code",
      "execution_count": 636,
      "id": "8a548b81",
      "metadata": {
        "scrolled": true,
        "colab": {
          "base_uri": "https://localhost:8080/",
          "height": 855
        },
        "id": "8a548b81",
        "outputId": "13b5756d-50d8-482e-a169-72081528b0a6"
      },
      "outputs": [
        {
          "output_type": "display_data",
          "data": {
            "text/plain": [
              "<Figure size 1440x1080 with 1 Axes>"
            ],
            "image/png": "[encoded data removed]"
          },
          "metadata": {}
        }
      ],
      "source": [
        "plt.figure(figsize=(20,15))\n",
        "sns.barplot(x='Type', y='Count', data=type_article_count_df)\n",
        "plt.xticks(rotation=90)\n",
        "plt.show()"
      ]
    },
    {
      "cell_type": "markdown",
      "id": "5e56c764",
      "metadata": {
        "id": "5e56c764"
      },
      "source": [
        "The plot underneath is useful, but also too caothic (82 categories are too many). A great solution is to regroup our categories (types) in some larger categories, represented by groups."
      ]
    },
    {
      "cell_type": "markdown",
      "id": "e8751104",
      "metadata": {
        "id": "e8751104"
      },
      "source": [
        "#### **GROUPS**"
      ]
    },
    {
      "cell_type": "code",
      "execution_count": 637,
      "id": "a36fa928",
      "metadata": {
        "colab": {
          "base_uri": "https://localhost:8080/",
          "height": 421
        },
        "id": "a36fa928",
        "outputId": "8a4b0305-3d92-4f66-a657-909804613a9a"
      },
      "outputs": [
        {
          "output_type": "execute_result",
          "data": {
            "text/plain": [
              "                 Group  Count\n",
              "3   Garment Upper body   2799\n",
              "1   Garment Lower body   1428\n",
              "7    Garment Full body    632\n",
              "4            Underwear    547\n",
              "6          Accessories    378\n",
              "0       Socks & Tights    245\n",
              "9             Swimwear    233\n",
              "8                Shoes    135\n",
              "5              Unknown     67\n",
              "10           Nightwear     60\n",
              "2                Items     10\n",
              "11                Bags      2"
            ],
            "text/html": [
              "\n",
              "  <div id=\"df-e8d87c94-3a9c-44f0-86fa-0c8677a095a1\">\n",
              "    <div class=\"colab-df-container\">\n",
              "      <div>\n",
              "<style scoped>\n",
              "    .dataframe tbody tr th:only-of-type {\n",
              "        vertical-align: middle;\n",
              "    }\n",
              "\n",
              "    .dataframe tbody tr th {\n",
              "        vertical-align: top;\n",
              "    }\n",
              "\n",
              "    .dataframe thead th {\n",
              "        text-align: right;\n",
              "    }\n",
              "</style>\n",
              "<table border=\"1\" class=\"dataframe\">\n",
              "  <thead>\n",
              "    <tr style=\"text-align: right;\">\n",
              "      <th></th>\n",
              "      <th>Group</th>\n",
              "      <th>Count</th>\n",
              "    </tr>\n",
              "  </thead>\n",
              "  <tbody>\n",
              "    <tr>\n",
              "      <th>3</th>\n",
              "      <td>Garment Upper body</td>\n",
              "      <td>2799</td>\n",
              "    </tr>\n",
              "    <tr>\n",
              "      <th>1</th>\n",
              "      <td>Garment Lower body</td>\n",
              "      <td>1428</td>\n",
              "    </tr>\n",
              "    <tr>\n",
              "      <th>7</th>\n",
              "      <td>Garment Full body</td>\n",
              "      <td>632</td>\n",
              "    </tr>\n",
              "    <tr>\n",
              "      <th>4</th>\n",
              "      <td>Underwear</td>\n",
              "      <td>547</td>\n",
              "    </tr>\n",
              "    <tr>\n",
              "      <th>6</th>\n",
              "      <td>Accessories</td>\n",
              "      <td>378</td>\n",
              "    </tr>\n",
              "    <tr>\n",
              "      <th>0</th>\n",
              "      <td>Socks &amp; Tights</td>\n",
              "      <td>245</td>\n",
              "    </tr>\n",
              "    <tr>\n",
              "      <th>9</th>\n",
              "      <td>Swimwear</td>\n",
              "      <td>233</td>\n",
              "    </tr>\n",
              "    <tr>\n",
              "      <th>8</th>\n",
              "      <td>Shoes</td>\n",
              "      <td>135</td>\n",
              "    </tr>\n",
              "    <tr>\n",
              "      <th>5</th>\n",
              "      <td>Unknown</td>\n",
              "      <td>67</td>\n",
              "    </tr>\n",
              "    <tr>\n",
              "      <th>10</th>\n",
              "      <td>Nightwear</td>\n",
              "      <td>60</td>\n",
              "    </tr>\n",
              "    <tr>\n",
              "      <th>2</th>\n",
              "      <td>Items</td>\n",
              "      <td>10</td>\n",
              "    </tr>\n",
              "    <tr>\n",
              "      <th>11</th>\n",
              "      <td>Bags</td>\n",
              "      <td>2</td>\n",
              "    </tr>\n",
              "  </tbody>\n",
              "</table>\n",
              "</div>\n",
              "      <button class=\"colab-df-convert\" onclick=\"convertToInteractive('df-e8d87c94-3a9c-44f0-86fa-0c8677a095a1')\"\n",
              "              title=\"Convert this dataframe to an interactive table.\"\n",
              "              style=\"display:none;\">\n",
              "        \n",
              "  <svg xmlns=\"http://www.w3.org/2000/svg\" height=\"24px\"viewBox=\"0 0 24 24\"\n",
              "       width=\"24px\">\n",
              "    <path d=\"M0 0h24v24H0V0z\" fill=\"none\"/>\n",
              "    <path d=\"M18.56 5.44l.94 2.06.94-2.06 2.06-.94-2.06-.94-.94-2.06-.94 2.06-2.06.94zm-11 1L8.5 8.5l.94-2.06 2.06-.94-2.06-.94L8.5 2.5l-.94 2.06-2.06.94zm10 10l.94 2.06.94-2.06 2.06-.94-2.06-.94-.94-2.06-.94 2.06-2.06.94z\"/><path d=\"M17.41 7.96l-1.37-1.37c-.4-.4-.92-.59-1.43-.59-.52 0-1.04.2-1.43.59L10.3 9.45l-7.72 7.72c-.78.78-.78 2.05 0 2.83L4 21.41c.39.39.9.59 1.41.59.51 0 1.02-.2 1.41-.59l7.78-7.78 2.81-2.81c.8-.78.8-2.07 0-2.86zM5.41 20L4 18.59l7.72-7.72 1.47 1.35L5.41 20z\"/>\n",
              "  </svg>\n",
              "      </button>\n",
              "      \n",
              "  <style>\n",
              "    .colab-df-container {\n",
              "      display:flex;\n",
              "      flex-wrap:wrap;\n",
              "      gap: 12px;\n",
              "    }\n",
              "\n",
              "    .colab-df-convert {\n",
              "      background-color: #E8F0FE;\n",
              "      border: none;\n",
              "      border-radius: 50%;\n",
              "      cursor: pointer;\n",
              "      display: none;\n",
              "      fill: #1967D2;\n",
              "      height: 32px;\n",
              "      padding: 0 0 0 0;\n",
              "      width: 32px;\n",
              "    }\n",
              "\n",
              "    .colab-df-convert:hover {\n",
              "      background-color: #E2EBFA;\n",
              "      box-shadow: 0px 1px 2px rgba(60, 64, 67, 0.3), 0px 1px 3px 1px rgba(60, 64, 67, 0.15);\n",
              "      fill: #174EA6;\n",
              "    }\n",
              "\n",
              "    [theme=dark] .colab-df-convert {\n",
              "      background-color: #3B4455;\n",
              "      fill: #D2E3FC;\n",
              "    }\n",
              "\n",
              "    [theme=dark] .colab-df-convert:hover {\n",
              "      background-color: #434B5C;\n",
              "      box-shadow: 0px 1px 3px 1px rgba(0, 0, 0, 0.15);\n",
              "      filter: drop-shadow(0px 1px 2px rgba(0, 0, 0, 0.3));\n",
              "      fill: #FFFFFF;\n",
              "    }\n",
              "  </style>\n",
              "\n",
              "      <script>\n",
              "        const buttonEl =\n",
              "          document.querySelector('#df-e8d87c94-3a9c-44f0-86fa-0c8677a095a1 button.colab-df-convert');\n",
              "        buttonEl.style.display =\n",
              "          google.colab.kernel.accessAllowed ? 'block' : 'none';\n",
              "\n",
              "        async function convertToInteractive(key) {\n",
              "          const element = document.querySelector('#df-e8d87c94-3a9c-44f0-86fa-0c8677a095a1');\n",
              "          const dataTable =\n",
              "            await google.colab.kernel.invokeFunction('convertToInteractive',\n",
              "                                                     [key], {});\n",
              "          if (!dataTable) return;\n",
              "\n",
              "          const docLinkHtml = 'Like what you see? Visit the ' +\n",
              "            '<a target=\"_blank\" href=https://colab.research.google.com/notebooks/data_table.ipynb>data table notebook</a>'\n",
              "            + ' to learn more about interactive tables.';\n",
              "          element.innerHTML = '';\n",
              "          dataTable['output_type'] = 'display_data';\n",
              "          await google.colab.output.renderOutput(dataTable, element);\n",
              "          const docLink = document.createElement('div');\n",
              "          docLink.innerHTML = docLinkHtml;\n",
              "          element.appendChild(docLink);\n",
              "        }\n",
              "      </script>\n",
              "    </div>\n",
              "  </div>\n",
              "  "
            ]
          },
          "metadata": {},
          "execution_count": 637
        }
      ],
      "source": [
        "group_article_count = Counter(articles['product_group_name'])\n",
        "group_article_count_df = pd.DataFrame([group_article_count]).T.reset_index()\n",
        "group_article_count_df.columns = ['Group', 'Count']\n",
        "group_article_count_df = group_article_count_df.sort_values(by='Count', ascending=False)\n",
        "group_article_count_df"
      ]
    },
    {
      "cell_type": "markdown",
      "id": "8e2440cb",
      "metadata": {
        "id": "8e2440cb"
      },
      "source": [
        "This time, we directly see all the classification for groups, where the top item is Garment Upper body, with 2799 different articles. Here we have a simpler plot where we can immediately see all the categories. In this way, the data is more interpretable and even more useful for our aims. Once more, we plot our results:"
      ]
    },
    {
      "cell_type": "code",
      "execution_count": 638,
      "id": "e0f90cd8",
      "metadata": {
        "colab": {
          "base_uri": "https://localhost:8080/",
          "height": 428
        },
        "id": "e0f90cd8",
        "outputId": "5c5f8d57-254a-4de3-b3ae-dfe3efc186ca"
      },
      "outputs": [
        {
          "output_type": "display_data",
          "data": {
            "text/plain": [
              "<Figure size 720x360 with 1 Axes>"
            ],
            "image/png": "[encoded data removed]"
          },
          "metadata": {}
        }
      ],
      "source": [
        "plt.figure(figsize=(10,5))\n",
        "sns.barplot(x='Group', y='Count', data=group_article_count_df)\n",
        "plt.xticks(rotation=90)\n",
        "plt.show()"
      ]
    },
    {
      "cell_type": "markdown",
      "source": [
        "Underneath, we have just created the dataframe for each type of categorization for articles in our company, in order to check their level of specificity and decide which to take into account for our reccomendation system."
      ],
      "metadata": {
        "id": "ZRFhhgEaU9vu"
      },
      "id": "ZRFhhgEaU9vu"
    },
    {
      "cell_type": "code",
      "execution_count": 639,
      "id": "8310282e",
      "metadata": {
        "id": "8310282e"
      },
      "outputs": [],
      "source": [
        "#type_article_count_df\n",
        "#81 rows"
      ]
    },
    {
      "cell_type": "code",
      "execution_count": 640,
      "id": "5287d609",
      "metadata": {
        "id": "5287d609"
      },
      "outputs": [],
      "source": [
        "#group_article_count_df\n",
        "#11 rows"
      ]
    },
    {
      "cell_type": "code",
      "execution_count": 641,
      "id": "1299b656",
      "metadata": {
        "id": "1299b656"
      },
      "outputs": [],
      "source": [
        "department_count = Counter(articles['department_name'])\n",
        "department_count_df = pd.DataFrame([department_count]).T.reset_index()\n",
        "department_count_df.columns = ['Department', 'Count']\n",
        "department_count_df = department_count_df.sort_values(by='Count', ascending=False)\n",
        "#department_count_df\n",
        "#144 rows"
      ]
    },
    {
      "cell_type": "code",
      "execution_count": 642,
      "id": "95cd839d",
      "metadata": {
        "id": "95cd839d"
      },
      "outputs": [],
      "source": [
        "index_group = Counter(articles['index_group_name'])\n",
        "index_group_df = pd.DataFrame([index_group]).T.reset_index()\n",
        "index_group_df.columns = ['Index Group', 'Count']\n",
        "index_group_df = index_group_df.sort_values(by='Count', ascending=False)\n",
        "#index_group_df\n",
        "#5 rows"
      ]
    },
    {
      "cell_type": "code",
      "execution_count": 643,
      "id": "41ee6f6e",
      "metadata": {
        "id": "41ee6f6e"
      },
      "outputs": [],
      "source": [
        "section_count = Counter(articles['section_name'])\n",
        "section_count_df = pd.DataFrame([section_count]).T.reset_index()\n",
        "section_count_df.columns = ['Section', 'Count']\n",
        "section_count_df = section_count_df.sort_values(by='Count', ascending=False)\n",
        "#section_count_df.shape\n",
        "#43 rows"
      ]
    },
    {
      "cell_type": "code",
      "execution_count": 644,
      "id": "0d19b6a0",
      "metadata": {
        "id": "0d19b6a0"
      },
      "outputs": [],
      "source": [
        "garment_group = Counter(articles['garment_group'])\n",
        "garment_group_df = pd.DataFrame([garment_group]).T.reset_index()\n",
        "garment_group_df.columns = ['Garment Group', 'Count']\n",
        "garment_group_df = garment_group_df.sort_values(by='Count', ascending=False)\n",
        "#garment_group_df.shape\n",
        "#21 rows"
      ]
    },
    {
      "cell_type": "markdown",
      "id": "8d7c7212",
      "metadata": {
        "id": "8d7c7212"
      },
      "source": [
        "#### **COLOURS**"
      ]
    },
    {
      "cell_type": "markdown",
      "id": "a3d12646",
      "metadata": {
        "id": "a3d12646"
      },
      "source": [
        "To evaluate the colour of the articles there are several measures: colour_group, perceived_colour_value and perceived_colour_master. For our analysis we are going to consider just the perceived_colour_master because it is a good compromise between making a model having too large scale and doing overfitting. In fact, perceived_colour_value has not enough values (only 7) and colour_group has too many of them making the model too precise."
      ]
    },
    {
      "cell_type": "code",
      "execution_count": 645,
      "id": "03968ddf",
      "metadata": {
        "colab": {
          "base_uri": "https://localhost:8080/",
          "height": 545
        },
        "id": "03968ddf",
        "outputId": "ce5cd912-a815-4ce9-d581-bf8ad8f23717"
      },
      "outputs": [
        {
          "output_type": "execute_result",
          "data": {
            "text/plain": [
              "          Colour  Count\n",
              "3          Beige    547\n",
              "0          Black   2134\n",
              "1           Blue    726\n",
              "5          Brown    156\n",
              "13         Green    176\n",
              "2           Grey    526\n",
              "7    Khaki green    218\n",
              "10  Lilac Purple    108\n",
              "9          Metal    116\n",
              "6           Mole    177\n",
              "14        Orange    163\n",
              "12          Pink    368\n",
              "8            Red    125\n",
              "15     Turquoise     48\n",
              "4          White    807\n",
              "11        Yellow     76"
            ],
            "text/html": [
              "\n",
              "  <div id=\"df-83575ed4-adf8-4646-b50a-fdff7ad46e3e\">\n",
              "    <div class=\"colab-df-container\">\n",
              "      <div>\n",
              "<style scoped>\n",
              "    .dataframe tbody tr th:only-of-type {\n",
              "        vertical-align: middle;\n",
              "    }\n",
              "\n",
              "    .dataframe tbody tr th {\n",
              "        vertical-align: top;\n",
              "    }\n",
              "\n",
              "    .dataframe thead th {\n",
              "        text-align: right;\n",
              "    }\n",
              "</style>\n",
              "<table border=\"1\" class=\"dataframe\">\n",
              "  <thead>\n",
              "    <tr style=\"text-align: right;\">\n",
              "      <th></th>\n",
              "      <th>Colour</th>\n",
              "      <th>Count</th>\n",
              "    </tr>\n",
              "  </thead>\n",
              "  <tbody>\n",
              "    <tr>\n",
              "      <th>3</th>\n",
              "      <td>Beige</td>\n",
              "      <td>547</td>\n",
              "    </tr>\n",
              "    <tr>\n",
              "      <th>0</th>\n",
              "      <td>Black</td>\n",
              "      <td>2134</td>\n",
              "    </tr>\n",
              "    <tr>\n",
              "      <th>1</th>\n",
              "      <td>Blue</td>\n",
              "      <td>726</td>\n",
              "    </tr>\n",
              "    <tr>\n",
              "      <th>5</th>\n",
              "      <td>Brown</td>\n",
              "      <td>156</td>\n",
              "    </tr>\n",
              "    <tr>\n",
              "      <th>13</th>\n",
              "      <td>Green</td>\n",
              "      <td>176</td>\n",
              "    </tr>\n",
              "    <tr>\n",
              "      <th>2</th>\n",
              "      <td>Grey</td>\n",
              "      <td>526</td>\n",
              "    </tr>\n",
              "    <tr>\n",
              "      <th>7</th>\n",
              "      <td>Khaki green</td>\n",
              "      <td>218</td>\n",
              "    </tr>\n",
              "    <tr>\n",
              "      <th>10</th>\n",
              "      <td>Lilac Purple</td>\n",
              "      <td>108</td>\n",
              "    </tr>\n",
              "    <tr>\n",
              "      <th>9</th>\n",
              "      <td>Metal</td>\n",
              "      <td>116</td>\n",
              "    </tr>\n",
              "    <tr>\n",
              "      <th>6</th>\n",
              "      <td>Mole</td>\n",
              "      <td>177</td>\n",
              "    </tr>\n",
              "    <tr>\n",
              "      <th>14</th>\n",
              "      <td>Orange</td>\n",
              "      <td>163</td>\n",
              "    </tr>\n",
              "    <tr>\n",
              "      <th>12</th>\n",
              "      <td>Pink</td>\n",
              "      <td>368</td>\n",
              "    </tr>\n",
              "    <tr>\n",
              "      <th>8</th>\n",
              "      <td>Red</td>\n",
              "      <td>125</td>\n",
              "    </tr>\n",
              "    <tr>\n",
              "      <th>15</th>\n",
              "      <td>Turquoise</td>\n",
              "      <td>48</td>\n",
              "    </tr>\n",
              "    <tr>\n",
              "      <th>4</th>\n",
              "      <td>White</td>\n",
              "      <td>807</td>\n",
              "    </tr>\n",
              "    <tr>\n",
              "      <th>11</th>\n",
              "      <td>Yellow</td>\n",
              "      <td>76</td>\n",
              "    </tr>\n",
              "  </tbody>\n",
              "</table>\n",
              "</div>\n",
              "      <button class=\"colab-df-convert\" onclick=\"convertToInteractive('df-83575ed4-adf8-4646-b50a-fdff7ad46e3e')\"\n",
              "              title=\"Convert this dataframe to an interactive table.\"\n",
              "              style=\"display:none;\">\n",
              "        \n",
              "  <svg xmlns=\"http://www.w3.org/2000/svg\" height=\"24px\"viewBox=\"0 0 24 24\"\n",
              "       width=\"24px\">\n",
              "    <path d=\"M0 0h24v24H0V0z\" fill=\"none\"/>\n",
              "    <path d=\"M18.56 5.44l.94 2.06.94-2.06 2.06-.94-2.06-.94-.94-2.06-.94 2.06-2.06.94zm-11 1L8.5 8.5l.94-2.06 2.06-.94-2.06-.94L8.5 2.5l-.94 2.06-2.06.94zm10 10l.94 2.06.94-2.06 2.06-.94-2.06-.94-.94-2.06-.94 2.06-2.06.94z\"/><path d=\"M17.41 7.96l-1.37-1.37c-.4-.4-.92-.59-1.43-.59-.52 0-1.04.2-1.43.59L10.3 9.45l-7.72 7.72c-.78.78-.78 2.05 0 2.83L4 21.41c.39.39.9.59 1.41.59.51 0 1.02-.2 1.41-.59l7.78-7.78 2.81-2.81c.8-.78.8-2.07 0-2.86zM5.41 20L4 18.59l7.72-7.72 1.47 1.35L5.41 20z\"/>\n",
              "  </svg>\n",
              "      </button>\n",
              "      \n",
              "  <style>\n",
              "    .colab-df-container {\n",
              "      display:flex;\n",
              "      flex-wrap:wrap;\n",
              "      gap: 12px;\n",
              "    }\n",
              "\n",
              "    .colab-df-convert {\n",
              "      background-color: #E8F0FE;\n",
              "      border: none;\n",
              "      border-radius: 50%;\n",
              "      cursor: pointer;\n",
              "      display: none;\n",
              "      fill: #1967D2;\n",
              "      height: 32px;\n",
              "      padding: 0 0 0 0;\n",
              "      width: 32px;\n",
              "    }\n",
              "\n",
              "    .colab-df-convert:hover {\n",
              "      background-color: #E2EBFA;\n",
              "      box-shadow: 0px 1px 2px rgba(60, 64, 67, 0.3), 0px 1px 3px 1px rgba(60, 64, 67, 0.15);\n",
              "      fill: #174EA6;\n",
              "    }\n",
              "\n",
              "    [theme=dark] .colab-df-convert {\n",
              "      background-color: #3B4455;\n",
              "      fill: #D2E3FC;\n",
              "    }\n",
              "\n",
              "    [theme=dark] .colab-df-convert:hover {\n",
              "      background-color: #434B5C;\n",
              "      box-shadow: 0px 1px 3px 1px rgba(0, 0, 0, 0.15);\n",
              "      filter: drop-shadow(0px 1px 2px rgba(0, 0, 0, 0.3));\n",
              "      fill: #FFFFFF;\n",
              "    }\n",
              "  </style>\n",
              "\n",
              "      <script>\n",
              "        const buttonEl =\n",
              "          document.querySelector('#df-83575ed4-adf8-4646-b50a-fdff7ad46e3e button.colab-df-convert');\n",
              "        buttonEl.style.display =\n",
              "          google.colab.kernel.accessAllowed ? 'block' : 'none';\n",
              "\n",
              "        async function convertToInteractive(key) {\n",
              "          const element = document.querySelector('#df-83575ed4-adf8-4646-b50a-fdff7ad46e3e');\n",
              "          const dataTable =\n",
              "            await google.colab.kernel.invokeFunction('convertToInteractive',\n",
              "                                                     [key], {});\n",
              "          if (!dataTable) return;\n",
              "\n",
              "          const docLinkHtml = 'Like what you see? Visit the ' +\n",
              "            '<a target=\"_blank\" href=https://colab.research.google.com/notebooks/data_table.ipynb>data table notebook</a>'\n",
              "            + ' to learn more about interactive tables.';\n",
              "          element.innerHTML = '';\n",
              "          dataTable['output_type'] = 'display_data';\n",
              "          await google.colab.output.renderOutput(dataTable, element);\n",
              "          const docLink = document.createElement('div');\n",
              "          docLink.innerHTML = docLinkHtml;\n",
              "          element.appendChild(docLink);\n",
              "        }\n",
              "      </script>\n",
              "    </div>\n",
              "  </div>\n",
              "  "
            ]
          },
          "metadata": {},
          "execution_count": 645
        }
      ],
      "source": [
        "from collections import Counter\n",
        "article_colour = Counter(articles['perceived_colour_master_name'])\n",
        "del article_colour['Unknown']\n",
        "del article_colour['undefined']\n",
        "\n",
        "article_colour_df = pd.DataFrame([article_colour]).T.reset_index()\n",
        "article_colour_df.columns = ['Colour', 'Count']\n",
        "article_colour_df = article_colour_df.sort_values(by='Colour')\n",
        "article_colour_df"
      ]
    },
    {
      "cell_type": "code",
      "execution_count": 646,
      "id": "d36e3ef0",
      "metadata": {
        "id": "d36e3ef0"
      },
      "outputs": [],
      "source": [
        "#create dataframe and check for its size\n",
        "from collections import Counter\n",
        "article_colour2 = Counter(articles['colour_group'])\n",
        "\n",
        "article_colour2_df = pd.DataFrame([article_colour2]).T.reset_index()\n",
        "article_colour2_df.columns = ['Colour', 'Count']\n",
        "article_colour2_df = article_colour2_df.sort_values(by='Colour')"
      ]
    },
    {
      "cell_type": "code",
      "execution_count": 647,
      "id": "558ffa78",
      "metadata": {
        "id": "558ffa78"
      },
      "outputs": [],
      "source": [
        "#create dataframe and check for its size\n",
        "from collections import Counter\n",
        "article_colour3 = Counter(articles['perceived_colour_value'])\n",
        "\n",
        "article_colour3_df = pd.DataFrame([article_colour3]).T.reset_index()\n",
        "article_colour3_df.columns = ['Colour', 'Count']\n",
        "article_colour3_df = article_colour3_df.sort_values(by='Colour')"
      ]
    },
    {
      "cell_type": "markdown",
      "id": "ba504d90",
      "metadata": {
        "id": "ba504d90"
      },
      "source": [
        "# TRANSACTIONS"
      ]
    },
    {
      "cell_type": "markdown",
      "id": "cfaec978",
      "metadata": {
        "id": "cfaec978"
      },
      "source": [
        "The last dataset we are going to study is \"recsys_transactions.csv\". The information about transactions that is recorded in the table is: the date of purchase, the customer id and the product id. The same customer can purchase more articles. Let's get a more detailed understanding of the dataset."
      ]
    },
    {
      "cell_type": "code",
      "execution_count": 648,
      "id": "5a0afd04",
      "metadata": {
        "colab": {
          "base_uri": "https://localhost:8080/",
          "height": 204
        },
        "id": "5a0afd04",
        "outputId": "44bcba6e-7f47-46f7-82a8-5d564a7fc36a"
      },
      "outputs": [
        {
          "output_type": "execute_result",
          "data": {
            "text/plain": [
              "        t_dat  customer_id  article_id\n",
              "0  2020-09-02            7         599\n",
              "1  2020-09-02            7        2600\n",
              "2  2020-09-02            7        2063\n",
              "3  2020-09-02            7        5188\n",
              "4  2020-09-02           17        5111"
            ],
            "text/html": [
              "\n",
              "  <div id=\"df-12b0df7d-9acb-44f1-be8f-fcb96f354ab3\">\n",
              "    <div class=\"colab-df-container\">\n",
              "      <div>\n",
              "<style scoped>\n",
              "    .dataframe tbody tr th:only-of-type {\n",
              "        vertical-align: middle;\n",
              "    }\n",
              "\n",
              "    .dataframe tbody tr th {\n",
              "        vertical-align: top;\n",
              "    }\n",
              "\n",
              "    .dataframe thead th {\n",
              "        text-align: right;\n",
              "    }\n",
              "</style>\n",
              "<table border=\"1\" class=\"dataframe\">\n",
              "  <thead>\n",
              "    <tr style=\"text-align: right;\">\n",
              "      <th></th>\n",
              "      <th>t_dat</th>\n",
              "      <th>customer_id</th>\n",
              "      <th>article_id</th>\n",
              "    </tr>\n",
              "  </thead>\n",
              "  <tbody>\n",
              "    <tr>\n",
              "      <th>0</th>\n",
              "      <td>2020-09-02</td>\n",
              "      <td>7</td>\n",
              "      <td>599</td>\n",
              "    </tr>\n",
              "    <tr>\n",
              "      <th>1</th>\n",
              "      <td>2020-09-02</td>\n",
              "      <td>7</td>\n",
              "      <td>2600</td>\n",
              "    </tr>\n",
              "    <tr>\n",
              "      <th>2</th>\n",
              "      <td>2020-09-02</td>\n",
              "      <td>7</td>\n",
              "      <td>2063</td>\n",
              "    </tr>\n",
              "    <tr>\n",
              "      <th>3</th>\n",
              "      <td>2020-09-02</td>\n",
              "      <td>7</td>\n",
              "      <td>5188</td>\n",
              "    </tr>\n",
              "    <tr>\n",
              "      <th>4</th>\n",
              "      <td>2020-09-02</td>\n",
              "      <td>17</td>\n",
              "      <td>5111</td>\n",
              "    </tr>\n",
              "  </tbody>\n",
              "</table>\n",
              "</div>\n",
              "      <button class=\"colab-df-convert\" onclick=\"convertToInteractive('df-12b0df7d-9acb-44f1-be8f-fcb96f354ab3')\"\n",
              "              title=\"Convert this dataframe to an interactive table.\"\n",
              "              style=\"display:none;\">\n",
              "        \n",
              "  <svg xmlns=\"http://www.w3.org/2000/svg\" height=\"24px\"viewBox=\"0 0 24 24\"\n",
              "       width=\"24px\">\n",
              "    <path d=\"M0 0h24v24H0V0z\" fill=\"none\"/>\n",
              "    <path d=\"M18.56 5.44l.94 2.06.94-2.06 2.06-.94-2.06-.94-.94-2.06-.94 2.06-2.06.94zm-11 1L8.5 8.5l.94-2.06 2.06-.94-2.06-.94L8.5 2.5l-.94 2.06-2.06.94zm10 10l.94 2.06.94-2.06 2.06-.94-2.06-.94-.94-2.06-.94 2.06-2.06.94z\"/><path d=\"M17.41 7.96l-1.37-1.37c-.4-.4-.92-.59-1.43-.59-.52 0-1.04.2-1.43.59L10.3 9.45l-7.72 7.72c-.78.78-.78 2.05 0 2.83L4 21.41c.39.39.9.59 1.41.59.51 0 1.02-.2 1.41-.59l7.78-7.78 2.81-2.81c.8-.78.8-2.07 0-2.86zM5.41 20L4 18.59l7.72-7.72 1.47 1.35L5.41 20z\"/>\n",
              "  </svg>\n",
              "      </button>\n",
              "      \n",
              "  <style>\n",
              "    .colab-df-container {\n",
              "      display:flex;\n",
              "      flex-wrap:wrap;\n",
              "      gap: 12px;\n",
              "    }\n",
              "\n",
              "    .colab-df-convert {\n",
              "      background-color: #E8F0FE;\n",
              "      border: none;\n",
              "      border-radius: 50%;\n",
              "      cursor: pointer;\n",
              "      display: none;\n",
              "      fill: #1967D2;\n",
              "      height: 32px;\n",
              "      padding: 0 0 0 0;\n",
              "      width: 32px;\n",
              "    }\n",
              "\n",
              "    .colab-df-convert:hover {\n",
              "      background-color: #E2EBFA;\n",
              "      box-shadow: 0px 1px 2px rgba(60, 64, 67, 0.3), 0px 1px 3px 1px rgba(60, 64, 67, 0.15);\n",
              "      fill: #174EA6;\n",
              "    }\n",
              "\n",
              "    [theme=dark] .colab-df-convert {\n",
              "      background-color: #3B4455;\n",
              "      fill: #D2E3FC;\n",
              "    }\n",
              "\n",
              "    [theme=dark] .colab-df-convert:hover {\n",
              "      background-color: #434B5C;\n",
              "      box-shadow: 0px 1px 3px 1px rgba(0, 0, 0, 0.15);\n",
              "      filter: drop-shadow(0px 1px 2px rgba(0, 0, 0, 0.3));\n",
              "      fill: #FFFFFF;\n",
              "    }\n",
              "  </style>\n",
              "\n",
              "      <script>\n",
              "        const buttonEl =\n",
              "          document.querySelector('#df-12b0df7d-9acb-44f1-be8f-fcb96f354ab3 button.colab-df-convert');\n",
              "        buttonEl.style.display =\n",
              "          google.colab.kernel.accessAllowed ? 'block' : 'none';\n",
              "\n",
              "        async function convertToInteractive(key) {\n",
              "          const element = document.querySelector('#df-12b0df7d-9acb-44f1-be8f-fcb96f354ab3');\n",
              "          const dataTable =\n",
              "            await google.colab.kernel.invokeFunction('convertToInteractive',\n",
              "                                                     [key], {});\n",
              "          if (!dataTable) return;\n",
              "\n",
              "          const docLinkHtml = 'Like what you see? Visit the ' +\n",
              "            '<a target=\"_blank\" href=https://colab.research.google.com/notebooks/data_table.ipynb>data table notebook</a>'\n",
              "            + ' to learn more about interactive tables.';\n",
              "          element.innerHTML = '';\n",
              "          dataTable['output_type'] = 'display_data';\n",
              "          await google.colab.output.renderOutput(dataTable, element);\n",
              "          const docLink = document.createElement('div');\n",
              "          docLink.innerHTML = docLinkHtml;\n",
              "          element.appendChild(docLink);\n",
              "        }\n",
              "      </script>\n",
              "    </div>\n",
              "  </div>\n",
              "  "
            ]
          },
          "metadata": {},
          "execution_count": 648
        }
      ],
      "source": [
        "transactions = pd.read_csv(\"recsys_transactions.csv\")\n",
        "transactions.head()"
      ]
    },
    {
      "cell_type": "markdown",
      "source": [
        "1) We want to extrapolate some information which might be useful for the interpretation of our data and results."
      ],
      "metadata": {
        "id": "7x1RpGU8V8RX"
      },
      "id": "7x1RpGU8V8RX"
    },
    {
      "cell_type": "code",
      "execution_count": 652,
      "id": "b0fbb67c",
      "metadata": {
        "colab": {
          "base_uri": "https://localhost:8080/"
        },
        "id": "b0fbb67c",
        "outputId": "f6f90d7d-c45d-43a3-e043-633e116b33fd"
      },
      "outputs": [
        {
          "output_type": "stream",
          "name": "stdout",
          "text": [
            "The number of transactions is: 369113\n",
            "The number of unique articles is: 6536\n",
            "The number of unique customers is: 41253\n",
            "The average number of transactions per user is approximately: 9\n",
            "The average number of transactions per article is approximately: 56\n"
          ]
        }
      ],
      "source": [
        "n_transactions = len(transactions)\n",
        "n_articles = transactions['article_id'].nunique()\n",
        "n_customers = transactions['customer_id'].nunique()\n",
        "\n",
        "print(f\"The number of transactions is: {n_transactions}\")\n",
        "print(f\"The number of unique articles is: {n_articles}\")\n",
        "print(f\"The number of unique customers is: {n_customers}\")\n",
        "print(f\"The average number of transactions per user is approximately: {round(n_transactions/n_customers)}\")\n",
        "print(f\"The average number of transactions per article is approximately: {round(n_transactions/n_articles)}\")"
      ]
    },
    {
      "cell_type": "markdown",
      "id": "fc2a88aa",
      "metadata": {
        "id": "fc2a88aa"
      },
      "source": [
        "2) To be in no doubt, we check if there are Null values that might interfere with our analysis."
      ]
    },
    {
      "cell_type": "code",
      "execution_count": 653,
      "id": "613d6e5f",
      "metadata": {
        "colab": {
          "base_uri": "https://localhost:8080/"
        },
        "id": "613d6e5f",
        "outputId": "a43a62c7-2b79-40f4-cbf2-e10e9da3b315"
      },
      "outputs": [
        {
          "output_type": "execute_result",
          "data": {
            "text/plain": [
              "t_dat          0\n",
              "customer_id    0\n",
              "article_id     0\n",
              "dtype: int64"
            ]
          },
          "metadata": {},
          "execution_count": 653
        }
      ],
      "source": [
        "transactions.isnull().sum()"
      ]
    },
    {
      "cell_type": "markdown",
      "id": "681b4f33",
      "metadata": {
        "id": "681b4f33"
      },
      "source": [
        "This result was not hard to predict.\n",
        "Indeed, looking to this dataset, we observe that it is based on a relationship between the other 2 datasets. As a consequence, all the rows are composed by the IDs of an article and the IDs of a costumer.\n",
        "Without one of these 2 values, the row will give us zero relevant information, being useless to process it."
      ]
    },
    {
      "cell_type": "markdown",
      "id": "a65fd6d0",
      "metadata": {
        "id": "a65fd6d0"
      },
      "source": [
        "3) As an extra information, we can also see which is the day with the highest number of transactions. <br>\n",
        "The day with the biggest number of transactions is the 13th of september 2020, which was a Sunday."
      ]
    },
    {
      "cell_type": "code",
      "execution_count": 654,
      "id": "d9f21840",
      "metadata": {
        "colab": {
          "base_uri": "https://localhost:8080/",
          "height": 700
        },
        "id": "d9f21840",
        "outputId": "f41bac59-af88-440b-9897-61123a617464"
      },
      "outputs": [
        {
          "output_type": "execute_result",
          "data": {
            "text/plain": [
              "           Day  Count\n",
              "11  2020-09-13  21209\n",
              "7   2020-09-09  21155\n",
              "15  2020-09-17  20458\n",
              "8   2020-09-10  19531\n",
              "5   2020-09-07  19473\n",
              "16  2020-09-18  19129\n",
              "3   2020-09-05  18990\n",
              "10  2020-09-12  18926\n",
              "1   2020-09-03  18557\n",
              "6   2020-09-08  18535\n",
              "9   2020-09-11  18141\n",
              "17  2020-09-19  17125\n",
              "4   2020-09-06  16859\n",
              "2   2020-09-04  16736\n",
              "18  2020-09-20  16110\n",
              "19  2020-09-21  16067\n",
              "20  2020-09-22  15872\n",
              "12  2020-09-14  15660\n",
              "0   2020-09-02  13947\n",
              "14  2020-09-16  13388\n",
              "13  2020-09-15  13245"
            ],
            "text/html": [
              "\n",
              "  <div id=\"df-e8805541-d452-4f39-aec6-dd95f14e154e\">\n",
              "    <div class=\"colab-df-container\">\n",
              "      <div>\n",
              "<style scoped>\n",
              "    .dataframe tbody tr th:only-of-type {\n",
              "        vertical-align: middle;\n",
              "    }\n",
              "\n",
              "    .dataframe tbody tr th {\n",
              "        vertical-align: top;\n",
              "    }\n",
              "\n",
              "    .dataframe thead th {\n",
              "        text-align: right;\n",
              "    }\n",
              "</style>\n",
              "<table border=\"1\" class=\"dataframe\">\n",
              "  <thead>\n",
              "    <tr style=\"text-align: right;\">\n",
              "      <th></th>\n",
              "      <th>Day</th>\n",
              "      <th>Count</th>\n",
              "    </tr>\n",
              "  </thead>\n",
              "  <tbody>\n",
              "    <tr>\n",
              "      <th>11</th>\n",
              "      <td>2020-09-13</td>\n",
              "      <td>21209</td>\n",
              "    </tr>\n",
              "    <tr>\n",
              "      <th>7</th>\n",
              "      <td>2020-09-09</td>\n",
              "      <td>21155</td>\n",
              "    </tr>\n",
              "    <tr>\n",
              "      <th>15</th>\n",
              "      <td>2020-09-17</td>\n",
              "      <td>20458</td>\n",
              "    </tr>\n",
              "    <tr>\n",
              "      <th>8</th>\n",
              "      <td>2020-09-10</td>\n",
              "      <td>19531</td>\n",
              "    </tr>\n",
              "    <tr>\n",
              "      <th>5</th>\n",
              "      <td>2020-09-07</td>\n",
              "      <td>19473</td>\n",
              "    </tr>\n",
              "    <tr>\n",
              "      <th>16</th>\n",
              "      <td>2020-09-18</td>\n",
              "      <td>19129</td>\n",
              "    </tr>\n",
              "    <tr>\n",
              "      <th>3</th>\n",
              "      <td>2020-09-05</td>\n",
              "      <td>18990</td>\n",
              "    </tr>\n",
              "    <tr>\n",
              "      <th>10</th>\n",
              "      <td>2020-09-12</td>\n",
              "      <td>18926</td>\n",
              "    </tr>\n",
              "    <tr>\n",
              "      <th>1</th>\n",
              "      <td>2020-09-03</td>\n",
              "      <td>18557</td>\n",
              "    </tr>\n",
              "    <tr>\n",
              "      <th>6</th>\n",
              "      <td>2020-09-08</td>\n",
              "      <td>18535</td>\n",
              "    </tr>\n",
              "    <tr>\n",
              "      <th>9</th>\n",
              "      <td>2020-09-11</td>\n",
              "      <td>18141</td>\n",
              "    </tr>\n",
              "    <tr>\n",
              "      <th>17</th>\n",
              "      <td>2020-09-19</td>\n",
              "      <td>17125</td>\n",
              "    </tr>\n",
              "    <tr>\n",
              "      <th>4</th>\n",
              "      <td>2020-09-06</td>\n",
              "      <td>16859</td>\n",
              "    </tr>\n",
              "    <tr>\n",
              "      <th>2</th>\n",
              "      <td>2020-09-04</td>\n",
              "      <td>16736</td>\n",
              "    </tr>\n",
              "    <tr>\n",
              "      <th>18</th>\n",
              "      <td>2020-09-20</td>\n",
              "      <td>16110</td>\n",
              "    </tr>\n",
              "    <tr>\n",
              "      <th>19</th>\n",
              "      <td>2020-09-21</td>\n",
              "      <td>16067</td>\n",
              "    </tr>\n",
              "    <tr>\n",
              "      <th>20</th>\n",
              "      <td>2020-09-22</td>\n",
              "      <td>15872</td>\n",
              "    </tr>\n",
              "    <tr>\n",
              "      <th>12</th>\n",
              "      <td>2020-09-14</td>\n",
              "      <td>15660</td>\n",
              "    </tr>\n",
              "    <tr>\n",
              "      <th>0</th>\n",
              "      <td>2020-09-02</td>\n",
              "      <td>13947</td>\n",
              "    </tr>\n",
              "    <tr>\n",
              "      <th>14</th>\n",
              "      <td>2020-09-16</td>\n",
              "      <td>13388</td>\n",
              "    </tr>\n",
              "    <tr>\n",
              "      <th>13</th>\n",
              "      <td>2020-09-15</td>\n",
              "      <td>13245</td>\n",
              "    </tr>\n",
              "  </tbody>\n",
              "</table>\n",
              "</div>\n",
              "      <button class=\"colab-df-convert\" onclick=\"convertToInteractive('df-e8805541-d452-4f39-aec6-dd95f14e154e')\"\n",
              "              title=\"Convert this dataframe to an interactive table.\"\n",
              "              style=\"display:none;\">\n",
              "        \n",
              "  <svg xmlns=\"http://www.w3.org/2000/svg\" height=\"24px\"viewBox=\"0 0 24 24\"\n",
              "       width=\"24px\">\n",
              "    <path d=\"M0 0h24v24H0V0z\" fill=\"none\"/>\n",
              "    <path d=\"M18.56 5.44l.94 2.06.94-2.06 2.06-.94-2.06-.94-.94-2.06-.94 2.06-2.06.94zm-11 1L8.5 8.5l.94-2.06 2.06-.94-2.06-.94L8.5 2.5l-.94 2.06-2.06.94zm10 10l.94 2.06.94-2.06 2.06-.94-2.06-.94-.94-2.06-.94 2.06-2.06.94z\"/><path d=\"M17.41 7.96l-1.37-1.37c-.4-.4-.92-.59-1.43-.59-.52 0-1.04.2-1.43.59L10.3 9.45l-7.72 7.72c-.78.78-.78 2.05 0 2.83L4 21.41c.39.39.9.59 1.41.59.51 0 1.02-.2 1.41-.59l7.78-7.78 2.81-2.81c.8-.78.8-2.07 0-2.86zM5.41 20L4 18.59l7.72-7.72 1.47 1.35L5.41 20z\"/>\n",
              "  </svg>\n",
              "      </button>\n",
              "      \n",
              "  <style>\n",
              "    .colab-df-container {\n",
              "      display:flex;\n",
              "      flex-wrap:wrap;\n",
              "      gap: 12px;\n",
              "    }\n",
              "\n",
              "    .colab-df-convert {\n",
              "      background-color: #E8F0FE;\n",
              "      border: none;\n",
              "      border-radius: 50%;\n",
              "      cursor: pointer;\n",
              "      display: none;\n",
              "      fill: #1967D2;\n",
              "      height: 32px;\n",
              "      padding: 0 0 0 0;\n",
              "      width: 32px;\n",
              "    }\n",
              "\n",
              "    .colab-df-convert:hover {\n",
              "      background-color: #E2EBFA;\n",
              "      box-shadow: 0px 1px 2px rgba(60, 64, 67, 0.3), 0px 1px 3px 1px rgba(60, 64, 67, 0.15);\n",
              "      fill: #174EA6;\n",
              "    }\n",
              "\n",
              "    [theme=dark] .colab-df-convert {\n",
              "      background-color: #3B4455;\n",
              "      fill: #D2E3FC;\n",
              "    }\n",
              "\n",
              "    [theme=dark] .colab-df-convert:hover {\n",
              "      background-color: #434B5C;\n",
              "      box-shadow: 0px 1px 3px 1px rgba(0, 0, 0, 0.15);\n",
              "      filter: drop-shadow(0px 1px 2px rgba(0, 0, 0, 0.3));\n",
              "      fill: #FFFFFF;\n",
              "    }\n",
              "  </style>\n",
              "\n",
              "      <script>\n",
              "        const buttonEl =\n",
              "          document.querySelector('#df-e8805541-d452-4f39-aec6-dd95f14e154e button.colab-df-convert');\n",
              "        buttonEl.style.display =\n",
              "          google.colab.kernel.accessAllowed ? 'block' : 'none';\n",
              "\n",
              "        async function convertToInteractive(key) {\n",
              "          const element = document.querySelector('#df-e8805541-d452-4f39-aec6-dd95f14e154e');\n",
              "          const dataTable =\n",
              "            await google.colab.kernel.invokeFunction('convertToInteractive',\n",
              "                                                     [key], {});\n",
              "          if (!dataTable) return;\n",
              "\n",
              "          const docLinkHtml = 'Like what you see? Visit the ' +\n",
              "            '<a target=\"_blank\" href=https://colab.research.google.com/notebooks/data_table.ipynb>data table notebook</a>'\n",
              "            + ' to learn more about interactive tables.';\n",
              "          element.innerHTML = '';\n",
              "          dataTable['output_type'] = 'display_data';\n",
              "          await google.colab.output.renderOutput(dataTable, element);\n",
              "          const docLink = document.createElement('div');\n",
              "          docLink.innerHTML = docLinkHtml;\n",
              "          element.appendChild(docLink);\n",
              "        }\n",
              "      </script>\n",
              "    </div>\n",
              "  </div>\n",
              "  "
            ]
          },
          "metadata": {},
          "execution_count": 654
        }
      ],
      "source": [
        "day_count = Counter(transactions['t_dat'])\n",
        "day_count_df = pd.DataFrame([day_count]).T.reset_index()\n",
        "day_count_df.columns = ['Day', 'Count']\n",
        "day_count_df = day_count_df.sort_values(by='Count', ascending=False)\n",
        "day_count_df"
      ]
    },
    {
      "cell_type": "markdown",
      "id": "aa2e5976",
      "metadata": {
        "id": "aa2e5976"
      },
      "source": [
        "We plot the trend of transactions over the entire month to have a more handsome representation of our data."
      ]
    },
    {
      "cell_type": "code",
      "execution_count": 655,
      "id": "b48bbf5a",
      "metadata": {
        "colab": {
          "base_uri": "https://localhost:8080/",
          "height": 389
        },
        "id": "b48bbf5a",
        "outputId": "34463609-14bc-4dca-89a2-3740fac2a78d"
      },
      "outputs": [
        {
          "output_type": "display_data",
          "data": {
            "text/plain": [
              "<Figure size 3600x360 with 1 Axes>"
            ],
            "image/png": "[encoded data removed]"
          },
          "metadata": {}
        }
      ],
      "source": [
        "sns.set_style(\"whitegrid\")\n",
        "plt.figure(figsize=(50,5))\n",
        "plt.subplot(1,3,1)\n",
        "plt.xticks(rotation=45)\n",
        "ax = sns.countplot(x=\"t_dat\", data=transactions, palette=\"inferno\")\n",
        "plt.title(\"Distribution of transactions\");"
      ]
    },
    {
      "cell_type": "markdown",
      "id": "89db478f",
      "metadata": {
        "id": "89db478f"
      },
      "source": [
        "#### **Number of transactions per customer**"
      ]
    },
    {
      "cell_type": "markdown",
      "id": "122f716d",
      "metadata": {
        "id": "122f716d"
      },
      "source": [
        "We would like to see how many purchases has done each customer. We create a dataframe with 2 columns: on one side the customer ID and on the other the number of purchases each customer has made."
      ]
    },
    {
      "cell_type": "code",
      "execution_count": 656,
      "id": "0afd41fb",
      "metadata": {
        "id": "0afd41fb"
      },
      "outputs": [],
      "source": [
        "from collections import Counter\n",
        "customer_transactions_count = Counter(transactions['customer_id'])\n",
        "#transactions.groupby('customer_id').size()\n",
        "#outputs a long dictionary with key the id of the customer and value the number of purchases he or she has made"
      ]
    },
    {
      "cell_type": "code",
      "execution_count": 657,
      "id": "b9c34bb4",
      "metadata": {
        "scrolled": true,
        "colab": {
          "base_uri": "https://localhost:8080/",
          "height": 419
        },
        "id": "b9c34bb4",
        "outputId": "7b949515-407c-4399-d5c7-12a77523e8ed"
      },
      "outputs": [
        {
          "output_type": "execute_result",
          "data": {
            "text/plain": [
              "       index  Customer ID  Number of Transactions\n",
              "0      38291         9197                     104\n",
              "1      35275        36953                      95\n",
              "2       4445        16472                      92\n",
              "3      27086        13753                      88\n",
              "4       5953        33914                      85\n",
              "...      ...          ...                     ...\n",
              "41248  31161        24874                       1\n",
              "41249   4048        11884                       1\n",
              "41250  12285        36144                       1\n",
              "41251  12292        36223                       1\n",
              "41252  40624        15652                       1\n",
              "\n",
              "[41253 rows x 3 columns]"
            ],
            "text/html": [
              "\n",
              "  <div id=\"df-de43de3f-6389-48a9-84c6-8cff162cfa47\">\n",
              "    <div class=\"colab-df-container\">\n",
              "      <div>\n",
              "<style scoped>\n",
              "    .dataframe tbody tr th:only-of-type {\n",
              "        vertical-align: middle;\n",
              "    }\n",
              "\n",
              "    .dataframe tbody tr th {\n",
              "        vertical-align: top;\n",
              "    }\n",
              "\n",
              "    .dataframe thead th {\n",
              "        text-align: right;\n",
              "    }\n",
              "</style>\n",
              "<table border=\"1\" class=\"dataframe\">\n",
              "  <thead>\n",
              "    <tr style=\"text-align: right;\">\n",
              "      <th></th>\n",
              "      <th>index</th>\n",
              "      <th>Customer ID</th>\n",
              "      <th>Number of Transactions</th>\n",
              "    </tr>\n",
              "  </thead>\n",
              "  <tbody>\n",
              "    <tr>\n",
              "      <th>0</th>\n",
              "      <td>38291</td>\n",
              "      <td>9197</td>\n",
              "      <td>104</td>\n",
              "    </tr>\n",
              "    <tr>\n",
              "      <th>1</th>\n",
              "      <td>35275</td>\n",
              "      <td>36953</td>\n",
              "      <td>95</td>\n",
              "    </tr>\n",
              "    <tr>\n",
              "      <th>2</th>\n",
              "      <td>4445</td>\n",
              "      <td>16472</td>\n",
              "      <td>92</td>\n",
              "    </tr>\n",
              "    <tr>\n",
              "      <th>3</th>\n",
              "      <td>27086</td>\n",
              "      <td>13753</td>\n",
              "      <td>88</td>\n",
              "    </tr>\n",
              "    <tr>\n",
              "      <th>4</th>\n",
              "      <td>5953</td>\n",
              "      <td>33914</td>\n",
              "      <td>85</td>\n",
              "    </tr>\n",
              "    <tr>\n",
              "      <th>...</th>\n",
              "      <td>...</td>\n",
              "      <td>...</td>\n",
              "      <td>...</td>\n",
              "    </tr>\n",
              "    <tr>\n",
              "      <th>41248</th>\n",
              "      <td>31161</td>\n",
              "      <td>24874</td>\n",
              "      <td>1</td>\n",
              "    </tr>\n",
              "    <tr>\n",
              "      <th>41249</th>\n",
              "      <td>4048</td>\n",
              "      <td>11884</td>\n",
              "      <td>1</td>\n",
              "    </tr>\n",
              "    <tr>\n",
              "      <th>41250</th>\n",
              "      <td>12285</td>\n",
              "      <td>36144</td>\n",
              "      <td>1</td>\n",
              "    </tr>\n",
              "    <tr>\n",
              "      <th>41251</th>\n",
              "      <td>12292</td>\n",
              "      <td>36223</td>\n",
              "      <td>1</td>\n",
              "    </tr>\n",
              "    <tr>\n",
              "      <th>41252</th>\n",
              "      <td>40624</td>\n",
              "      <td>15652</td>\n",
              "      <td>1</td>\n",
              "    </tr>\n",
              "  </tbody>\n",
              "</table>\n",
              "<p>41253 rows × 3 columns</p>\n",
              "</div>\n",
              "      <button class=\"colab-df-convert\" onclick=\"convertToInteractive('df-de43de3f-6389-48a9-84c6-8cff162cfa47')\"\n",
              "              title=\"Convert this dataframe to an interactive table.\"\n",
              "              style=\"display:none;\">\n",
              "        \n",
              "  <svg xmlns=\"http://www.w3.org/2000/svg\" height=\"24px\"viewBox=\"0 0 24 24\"\n",
              "       width=\"24px\">\n",
              "    <path d=\"M0 0h24v24H0V0z\" fill=\"none\"/>\n",
              "    <path d=\"M18.56 5.44l.94 2.06.94-2.06 2.06-.94-2.06-.94-.94-2.06-.94 2.06-2.06.94zm-11 1L8.5 8.5l.94-2.06 2.06-.94-2.06-.94L8.5 2.5l-.94 2.06-2.06.94zm10 10l.94 2.06.94-2.06 2.06-.94-2.06-.94-.94-2.06-.94 2.06-2.06.94z\"/><path d=\"M17.41 7.96l-1.37-1.37c-.4-.4-.92-.59-1.43-.59-.52 0-1.04.2-1.43.59L10.3 9.45l-7.72 7.72c-.78.78-.78 2.05 0 2.83L4 21.41c.39.39.9.59 1.41.59.51 0 1.02-.2 1.41-.59l7.78-7.78 2.81-2.81c.8-.78.8-2.07 0-2.86zM5.41 20L4 18.59l7.72-7.72 1.47 1.35L5.41 20z\"/>\n",
              "  </svg>\n",
              "      </button>\n",
              "      \n",
              "  <style>\n",
              "    .colab-df-container {\n",
              "      display:flex;\n",
              "      flex-wrap:wrap;\n",
              "      gap: 12px;\n",
              "    }\n",
              "\n",
              "    .colab-df-convert {\n",
              "      background-color: #E8F0FE;\n",
              "      border: none;\n",
              "      border-radius: 50%;\n",
              "      cursor: pointer;\n",
              "      display: none;\n",
              "      fill: #1967D2;\n",
              "      height: 32px;\n",
              "      padding: 0 0 0 0;\n",
              "      width: 32px;\n",
              "    }\n",
              "\n",
              "    .colab-df-convert:hover {\n",
              "      background-color: #E2EBFA;\n",
              "      box-shadow: 0px 1px 2px rgba(60, 64, 67, 0.3), 0px 1px 3px 1px rgba(60, 64, 67, 0.15);\n",
              "      fill: #174EA6;\n",
              "    }\n",
              "\n",
              "    [theme=dark] .colab-df-convert {\n",
              "      background-color: #3B4455;\n",
              "      fill: #D2E3FC;\n",
              "    }\n",
              "\n",
              "    [theme=dark] .colab-df-convert:hover {\n",
              "      background-color: #434B5C;\n",
              "      box-shadow: 0px 1px 3px 1px rgba(0, 0, 0, 0.15);\n",
              "      filter: drop-shadow(0px 1px 2px rgba(0, 0, 0, 0.3));\n",
              "      fill: #FFFFFF;\n",
              "    }\n",
              "  </style>\n",
              "\n",
              "      <script>\n",
              "        const buttonEl =\n",
              "          document.querySelector('#df-de43de3f-6389-48a9-84c6-8cff162cfa47 button.colab-df-convert');\n",
              "        buttonEl.style.display =\n",
              "          google.colab.kernel.accessAllowed ? 'block' : 'none';\n",
              "\n",
              "        async function convertToInteractive(key) {\n",
              "          const element = document.querySelector('#df-de43de3f-6389-48a9-84c6-8cff162cfa47');\n",
              "          const dataTable =\n",
              "            await google.colab.kernel.invokeFunction('convertToInteractive',\n",
              "                                                     [key], {});\n",
              "          if (!dataTable) return;\n",
              "\n",
              "          const docLinkHtml = 'Like what you see? Visit the ' +\n",
              "            '<a target=\"_blank\" href=https://colab.research.google.com/notebooks/data_table.ipynb>data table notebook</a>'\n",
              "            + ' to learn more about interactive tables.';\n",
              "          element.innerHTML = '';\n",
              "          dataTable['output_type'] = 'display_data';\n",
              "          await google.colab.output.renderOutput(dataTable, element);\n",
              "          const docLink = document.createElement('div');\n",
              "          docLink.innerHTML = docLinkHtml;\n",
              "          element.appendChild(docLink);\n",
              "        }\n",
              "      </script>\n",
              "    </div>\n",
              "  </div>\n",
              "  "
            ]
          },
          "metadata": {},
          "execution_count": 657
        }
      ],
      "source": [
        "customer_transactions_count_df = pd.DataFrame([customer_transactions_count]).T.reset_index()\n",
        "customer_transactions_count_df.columns = ['Customer ID', 'Number of Transactions']\n",
        "customer_transactions_count_df.sort_values(by='Number of Transactions', ascending=False).reset_index()"
      ]
    },
    {
      "cell_type": "markdown",
      "id": "31e82bf6",
      "metadata": {
        "id": "31e82bf6"
      },
      "source": [
        "The customer who has ultimated the highest amount of purchases is the customer '9197' with exactly 104 transactions. Sorting in descending order, we are able to see also a ranking based on transactions for users."
      ]
    },
    {
      "cell_type": "markdown",
      "id": "8d523b55",
      "metadata": {
        "id": "8d523b55"
      },
      "source": [
        "Since we are going to reccommend some items in order to users similiarities, we have to catch all of them.\n",
        "A thing we surely know about people, is that the more you buy, the more you're going to buy.\n",
        "So we can regroup customers  by the number of transactions, in order to take into account the tendency to buy new products."
      ]
    },
    {
      "cell_type": "markdown",
      "source": [
        "As a further step, we can group all the customers according to their amount of transactions to see the distribution of these data with respect to the entire dataset."
      ],
      "metadata": {
        "id": "qJgqgaF0X3rv"
      },
      "id": "qJgqgaF0X3rv"
    },
    {
      "cell_type": "code",
      "execution_count": 658,
      "id": "966eecd1",
      "metadata": {
        "colab": {
          "base_uri": "https://localhost:8080/",
          "height": 419
        },
        "id": "966eecd1",
        "outputId": "8a40d952-21ed-46df-a937-c1af1d5e7872"
      },
      "outputs": [
        {
          "output_type": "execute_result",
          "data": {
            "text/plain": [
              "       customer_id  Number of transactions transaction_group\n",
              "0                0                      20             11-20\n",
              "1                1                       7               4-6\n",
              "2                2                       8              7-10\n",
              "3                3                      10              7-10\n",
              "4                4                      12             11-20\n",
              "...            ...                     ...               ...\n",
              "41248        41248                       6               4-6\n",
              "41249        41249                       6               4-6\n",
              "41250        41250                       6               4-6\n",
              "41251        41251                       8              7-10\n",
              "41252        41252                       2               1-3\n",
              "\n",
              "[41253 rows x 3 columns]"
            ],
            "text/html": [
              "\n",
              "  <div id=\"df-ffa12b28-dfd4-4e75-8e69-9e82049dacd0\">\n",
              "    <div class=\"colab-df-container\">\n",
              "      <div>\n",
              "<style scoped>\n",
              "    .dataframe tbody tr th:only-of-type {\n",
              "        vertical-align: middle;\n",
              "    }\n",
              "\n",
              "    .dataframe tbody tr th {\n",
              "        vertical-align: top;\n",
              "    }\n",
              "\n",
              "    .dataframe thead th {\n",
              "        text-align: right;\n",
              "    }\n",
              "</style>\n",
              "<table border=\"1\" class=\"dataframe\">\n",
              "  <thead>\n",
              "    <tr style=\"text-align: right;\">\n",
              "      <th></th>\n",
              "      <th>customer_id</th>\n",
              "      <th>Number of transactions</th>\n",
              "      <th>transaction_group</th>\n",
              "    </tr>\n",
              "  </thead>\n",
              "  <tbody>\n",
              "    <tr>\n",
              "      <th>0</th>\n",
              "      <td>0</td>\n",
              "      <td>20</td>\n",
              "      <td>11-20</td>\n",
              "    </tr>\n",
              "    <tr>\n",
              "      <th>1</th>\n",
              "      <td>1</td>\n",
              "      <td>7</td>\n",
              "      <td>4-6</td>\n",
              "    </tr>\n",
              "    <tr>\n",
              "      <th>2</th>\n",
              "      <td>2</td>\n",
              "      <td>8</td>\n",
              "      <td>7-10</td>\n",
              "    </tr>\n",
              "    <tr>\n",
              "      <th>3</th>\n",
              "      <td>3</td>\n",
              "      <td>10</td>\n",
              "      <td>7-10</td>\n",
              "    </tr>\n",
              "    <tr>\n",
              "      <th>4</th>\n",
              "      <td>4</td>\n",
              "      <td>12</td>\n",
              "      <td>11-20</td>\n",
              "    </tr>\n",
              "    <tr>\n",
              "      <th>...</th>\n",
              "      <td>...</td>\n",
              "      <td>...</td>\n",
              "      <td>...</td>\n",
              "    </tr>\n",
              "    <tr>\n",
              "      <th>41248</th>\n",
              "      <td>41248</td>\n",
              "      <td>6</td>\n",
              "      <td>4-6</td>\n",
              "    </tr>\n",
              "    <tr>\n",
              "      <th>41249</th>\n",
              "      <td>41249</td>\n",
              "      <td>6</td>\n",
              "      <td>4-6</td>\n",
              "    </tr>\n",
              "    <tr>\n",
              "      <th>41250</th>\n",
              "      <td>41250</td>\n",
              "      <td>6</td>\n",
              "      <td>4-6</td>\n",
              "    </tr>\n",
              "    <tr>\n",
              "      <th>41251</th>\n",
              "      <td>41251</td>\n",
              "      <td>8</td>\n",
              "      <td>7-10</td>\n",
              "    </tr>\n",
              "    <tr>\n",
              "      <th>41252</th>\n",
              "      <td>41252</td>\n",
              "      <td>2</td>\n",
              "      <td>1-3</td>\n",
              "    </tr>\n",
              "  </tbody>\n",
              "</table>\n",
              "<p>41253 rows × 3 columns</p>\n",
              "</div>\n",
              "      <button class=\"colab-df-convert\" onclick=\"convertToInteractive('df-ffa12b28-dfd4-4e75-8e69-9e82049dacd0')\"\n",
              "              title=\"Convert this dataframe to an interactive table.\"\n",
              "              style=\"display:none;\">\n",
              "        \n",
              "  <svg xmlns=\"http://www.w3.org/2000/svg\" height=\"24px\"viewBox=\"0 0 24 24\"\n",
              "       width=\"24px\">\n",
              "    <path d=\"M0 0h24v24H0V0z\" fill=\"none\"/>\n",
              "    <path d=\"M18.56 5.44l.94 2.06.94-2.06 2.06-.94-2.06-.94-.94-2.06-.94 2.06-2.06.94zm-11 1L8.5 8.5l.94-2.06 2.06-.94-2.06-.94L8.5 2.5l-.94 2.06-2.06.94zm10 10l.94 2.06.94-2.06 2.06-.94-2.06-.94-.94-2.06-.94 2.06-2.06.94z\"/><path d=\"M17.41 7.96l-1.37-1.37c-.4-.4-.92-.59-1.43-.59-.52 0-1.04.2-1.43.59L10.3 9.45l-7.72 7.72c-.78.78-.78 2.05 0 2.83L4 21.41c.39.39.9.59 1.41.59.51 0 1.02-.2 1.41-.59l7.78-7.78 2.81-2.81c.8-.78.8-2.07 0-2.86zM5.41 20L4 18.59l7.72-7.72 1.47 1.35L5.41 20z\"/>\n",
              "  </svg>\n",
              "      </button>\n",
              "      \n",
              "  <style>\n",
              "    .colab-df-container {\n",
              "      display:flex;\n",
              "      flex-wrap:wrap;\n",
              "      gap: 12px;\n",
              "    }\n",
              "\n",
              "    .colab-df-convert {\n",
              "      background-color: #E8F0FE;\n",
              "      border: none;\n",
              "      border-radius: 50%;\n",
              "      cursor: pointer;\n",
              "      display: none;\n",
              "      fill: #1967D2;\n",
              "      height: 32px;\n",
              "      padding: 0 0 0 0;\n",
              "      width: 32px;\n",
              "    }\n",
              "\n",
              "    .colab-df-convert:hover {\n",
              "      background-color: #E2EBFA;\n",
              "      box-shadow: 0px 1px 2px rgba(60, 64, 67, 0.3), 0px 1px 3px 1px rgba(60, 64, 67, 0.15);\n",
              "      fill: #174EA6;\n",
              "    }\n",
              "\n",
              "    [theme=dark] .colab-df-convert {\n",
              "      background-color: #3B4455;\n",
              "      fill: #D2E3FC;\n",
              "    }\n",
              "\n",
              "    [theme=dark] .colab-df-convert:hover {\n",
              "      background-color: #434B5C;\n",
              "      box-shadow: 0px 1px 3px 1px rgba(0, 0, 0, 0.15);\n",
              "      filter: drop-shadow(0px 1px 2px rgba(0, 0, 0, 0.3));\n",
              "      fill: #FFFFFF;\n",
              "    }\n",
              "  </style>\n",
              "\n",
              "      <script>\n",
              "        const buttonEl =\n",
              "          document.querySelector('#df-ffa12b28-dfd4-4e75-8e69-9e82049dacd0 button.colab-df-convert');\n",
              "        buttonEl.style.display =\n",
              "          google.colab.kernel.accessAllowed ? 'block' : 'none';\n",
              "\n",
              "        async function convertToInteractive(key) {\n",
              "          const element = document.querySelector('#df-ffa12b28-dfd4-4e75-8e69-9e82049dacd0');\n",
              "          const dataTable =\n",
              "            await google.colab.kernel.invokeFunction('convertToInteractive',\n",
              "                                                     [key], {});\n",
              "          if (!dataTable) return;\n",
              "\n",
              "          const docLinkHtml = 'Like what you see? Visit the ' +\n",
              "            '<a target=\"_blank\" href=https://colab.research.google.com/notebooks/data_table.ipynb>data table notebook</a>'\n",
              "            + ' to learn more about interactive tables.';\n",
              "          element.innerHTML = '';\n",
              "          dataTable['output_type'] = 'display_data';\n",
              "          await google.colab.output.renderOutput(dataTable, element);\n",
              "          const docLink = document.createElement('div');\n",
              "          docLink.innerHTML = docLinkHtml;\n",
              "          element.appendChild(docLink);\n",
              "        }\n",
              "      </script>\n",
              "    </div>\n",
              "  </div>\n",
              "  "
            ]
          },
          "metadata": {},
          "execution_count": 658
        }
      ],
      "source": [
        "bins = [0, 4, 7, 11, 21, 31, 105]\n",
        "groups = ['1-3','4-6','7-10','11-20', '21-30', '30+']\n",
        "customers['Number of transactions'] = customer_transactions_count_df['Number of Transactions']\n",
        "customers['transaction_group'] = pd.cut(customers['Number of transactions'], bins, labels = groups, include_lowest=True)\n",
        "customers.drop(columns=['club_member', 'age', 'fashion_news', 'age_group'])"
      ]
    },
    {
      "cell_type": "markdown",
      "id": "18671252",
      "metadata": {
        "id": "18671252"
      },
      "source": [
        "We can create a dataframe with these results in order to plot them."
      ]
    },
    {
      "cell_type": "code",
      "execution_count": 659,
      "id": "5a67d89a",
      "metadata": {
        "id": "5a67d89a"
      },
      "outputs": [],
      "source": [
        "trans_group_counts = customers.groupby('transaction_group').size()"
      ]
    },
    {
      "cell_type": "code",
      "execution_count": 660,
      "id": "0e8f67e1",
      "metadata": {
        "colab": {
          "base_uri": "https://localhost:8080/",
          "height": 235
        },
        "id": "0e8f67e1",
        "outputId": "fee4ed1a-3c4c-41a1-b3aa-d4a065815226"
      },
      "outputs": [
        {
          "output_type": "execute_result",
          "data": {
            "text/plain": [
              "  Transaction Group  Number of customers\n",
              "0               1-3                 3214\n",
              "1               4-6                17935\n",
              "2              7-10                12016\n",
              "3             11-20                 6792\n",
              "4             21-30                  959\n",
              "5               30+                  337"
            ],
            "text/html": [
              "\n",
              "  <div id=\"df-661e1c83-ead4-4af6-8341-713298674d51\">\n",
              "    <div class=\"colab-df-container\">\n",
              "      <div>\n",
              "<style scoped>\n",
              "    .dataframe tbody tr th:only-of-type {\n",
              "        vertical-align: middle;\n",
              "    }\n",
              "\n",
              "    .dataframe tbody tr th {\n",
              "        vertical-align: top;\n",
              "    }\n",
              "\n",
              "    .dataframe thead th {\n",
              "        text-align: right;\n",
              "    }\n",
              "</style>\n",
              "<table border=\"1\" class=\"dataframe\">\n",
              "  <thead>\n",
              "    <tr style=\"text-align: right;\">\n",
              "      <th></th>\n",
              "      <th>Transaction Group</th>\n",
              "      <th>Number of customers</th>\n",
              "    </tr>\n",
              "  </thead>\n",
              "  <tbody>\n",
              "    <tr>\n",
              "      <th>0</th>\n",
              "      <td>1-3</td>\n",
              "      <td>3214</td>\n",
              "    </tr>\n",
              "    <tr>\n",
              "      <th>1</th>\n",
              "      <td>4-6</td>\n",
              "      <td>17935</td>\n",
              "    </tr>\n",
              "    <tr>\n",
              "      <th>2</th>\n",
              "      <td>7-10</td>\n",
              "      <td>12016</td>\n",
              "    </tr>\n",
              "    <tr>\n",
              "      <th>3</th>\n",
              "      <td>11-20</td>\n",
              "      <td>6792</td>\n",
              "    </tr>\n",
              "    <tr>\n",
              "      <th>4</th>\n",
              "      <td>21-30</td>\n",
              "      <td>959</td>\n",
              "    </tr>\n",
              "    <tr>\n",
              "      <th>5</th>\n",
              "      <td>30+</td>\n",
              "      <td>337</td>\n",
              "    </tr>\n",
              "  </tbody>\n",
              "</table>\n",
              "</div>\n",
              "      <button class=\"colab-df-convert\" onclick=\"convertToInteractive('df-661e1c83-ead4-4af6-8341-713298674d51')\"\n",
              "              title=\"Convert this dataframe to an interactive table.\"\n",
              "              style=\"display:none;\">\n",
              "        \n",
              "  <svg xmlns=\"http://www.w3.org/2000/svg\" height=\"24px\"viewBox=\"0 0 24 24\"\n",
              "       width=\"24px\">\n",
              "    <path d=\"M0 0h24v24H0V0z\" fill=\"none\"/>\n",
              "    <path d=\"M18.56 5.44l.94 2.06.94-2.06 2.06-.94-2.06-.94-.94-2.06-.94 2.06-2.06.94zm-11 1L8.5 8.5l.94-2.06 2.06-.94-2.06-.94L8.5 2.5l-.94 2.06-2.06.94zm10 10l.94 2.06.94-2.06 2.06-.94-2.06-.94-.94-2.06-.94 2.06-2.06.94z\"/><path d=\"M17.41 7.96l-1.37-1.37c-.4-.4-.92-.59-1.43-.59-.52 0-1.04.2-1.43.59L10.3 9.45l-7.72 7.72c-.78.78-.78 2.05 0 2.83L4 21.41c.39.39.9.59 1.41.59.51 0 1.02-.2 1.41-.59l7.78-7.78 2.81-2.81c.8-.78.8-2.07 0-2.86zM5.41 20L4 18.59l7.72-7.72 1.47 1.35L5.41 20z\"/>\n",
              "  </svg>\n",
              "      </button>\n",
              "      \n",
              "  <style>\n",
              "    .colab-df-container {\n",
              "      display:flex;\n",
              "      flex-wrap:wrap;\n",
              "      gap: 12px;\n",
              "    }\n",
              "\n",
              "    .colab-df-convert {\n",
              "      background-color: #E8F0FE;\n",
              "      border: none;\n",
              "      border-radius: 50%;\n",
              "      cursor: pointer;\n",
              "      display: none;\n",
              "      fill: #1967D2;\n",
              "      height: 32px;\n",
              "      padding: 0 0 0 0;\n",
              "      width: 32px;\n",
              "    }\n",
              "\n",
              "    .colab-df-convert:hover {\n",
              "      background-color: #E2EBFA;\n",
              "      box-shadow: 0px 1px 2px rgba(60, 64, 67, 0.3), 0px 1px 3px 1px rgba(60, 64, 67, 0.15);\n",
              "      fill: #174EA6;\n",
              "    }\n",
              "\n",
              "    [theme=dark] .colab-df-convert {\n",
              "      background-color: #3B4455;\n",
              "      fill: #D2E3FC;\n",
              "    }\n",
              "\n",
              "    [theme=dark] .colab-df-convert:hover {\n",
              "      background-color: #434B5C;\n",
              "      box-shadow: 0px 1px 3px 1px rgba(0, 0, 0, 0.15);\n",
              "      filter: drop-shadow(0px 1px 2px rgba(0, 0, 0, 0.3));\n",
              "      fill: #FFFFFF;\n",
              "    }\n",
              "  </style>\n",
              "\n",
              "      <script>\n",
              "        const buttonEl =\n",
              "          document.querySelector('#df-661e1c83-ead4-4af6-8341-713298674d51 button.colab-df-convert');\n",
              "        buttonEl.style.display =\n",
              "          google.colab.kernel.accessAllowed ? 'block' : 'none';\n",
              "\n",
              "        async function convertToInteractive(key) {\n",
              "          const element = document.querySelector('#df-661e1c83-ead4-4af6-8341-713298674d51');\n",
              "          const dataTable =\n",
              "            await google.colab.kernel.invokeFunction('convertToInteractive',\n",
              "                                                     [key], {});\n",
              "          if (!dataTable) return;\n",
              "\n",
              "          const docLinkHtml = 'Like what you see? Visit the ' +\n",
              "            '<a target=\"_blank\" href=https://colab.research.google.com/notebooks/data_table.ipynb>data table notebook</a>'\n",
              "            + ' to learn more about interactive tables.';\n",
              "          element.innerHTML = '';\n",
              "          dataTable['output_type'] = 'display_data';\n",
              "          await google.colab.output.renderOutput(dataTable, element);\n",
              "          const docLink = document.createElement('div');\n",
              "          docLink.innerHTML = docLinkHtml;\n",
              "          element.appendChild(docLink);\n",
              "        }\n",
              "      </script>\n",
              "    </div>\n",
              "  </div>\n",
              "  "
            ]
          },
          "metadata": {},
          "execution_count": 660
        }
      ],
      "source": [
        "trans_group_counts_df = pd.DataFrame([trans_group_counts]).T.reset_index()\n",
        "trans_group_counts_df.columns = ['Transaction Group', 'Number of customers']\n",
        "trans_group_counts_df"
      ]
    },
    {
      "cell_type": "code",
      "execution_count": 661,
      "id": "6d877f20",
      "metadata": {
        "colab": {
          "base_uri": "https://localhost:8080/",
          "height": 353
        },
        "id": "6d877f20",
        "outputId": "68a04b2f-4ac5-46e3-925e-e0417dac8d4b"
      },
      "outputs": [
        {
          "output_type": "display_data",
          "data": {
            "text/plain": [
              "<Figure size 720x360 with 1 Axes>"
            ],
            "image/png": "[encoded data removed]"
          },
          "metadata": {}
        }
      ],
      "source": [
        "plt.figure(figsize=(10,5))\n",
        "sns.barplot(x='Transaction Group', y='Number of customers', data=trans_group_counts_df)\n",
        "plt.xticks(rotation=90)\n",
        "plt.show()"
      ]
    },
    {
      "cell_type": "markdown",
      "id": "00334d5f",
      "metadata": {
        "id": "00334d5f"
      },
      "source": [
        "#### **Number of customers that has bought each product**"
      ]
    },
    {
      "cell_type": "markdown",
      "id": "050ad075",
      "metadata": {
        "id": "050ad075"
      },
      "source": [
        "It is also interesting to see everything on the other way around, so how many times each item has been bought by customers."
      ]
    },
    {
      "cell_type": "code",
      "execution_count": 662,
      "id": "975b0274",
      "metadata": {
        "id": "975b0274"
      },
      "outputs": [],
      "source": [
        "article_transactions_count = Counter(transactions['article_id'])"
      ]
    },
    {
      "cell_type": "code",
      "execution_count": 663,
      "id": "03d78b82",
      "metadata": {
        "colab": {
          "base_uri": "https://localhost:8080/",
          "height": 419
        },
        "id": "03d78b82",
        "outputId": "2c289ec6-9ec1-40a4-e562-e2d3b30698ad"
      },
      "outputs": [
        {
          "output_type": "execute_result",
          "data": {
            "text/plain": [
              "      Article ID  Number of Transactions\n",
              "5577        5250                      11\n",
              "5532          12                      11\n",
              "4393         479                      11\n",
              "3285        3814                      11\n",
              "4388        4474                      11\n",
              "...          ...                     ...\n",
              "318         1429                     815\n",
              "1359        6166                     858\n",
              "63          5831                     889\n",
              "927          168                     896\n",
              "48          1419                    1045\n",
              "\n",
              "[6536 rows x 2 columns]"
            ],
            "text/html": [
              "\n",
              "  <div id=\"df-c3142437-53ff-4fb3-b2f5-f6915f9580cf\">\n",
              "    <div class=\"colab-df-container\">\n",
              "      <div>\n",
              "<style scoped>\n",
              "    .dataframe tbody tr th:only-of-type {\n",
              "        vertical-align: middle;\n",
              "    }\n",
              "\n",
              "    .dataframe tbody tr th {\n",
              "        vertical-align: top;\n",
              "    }\n",
              "\n",
              "    .dataframe thead th {\n",
              "        text-align: right;\n",
              "    }\n",
              "</style>\n",
              "<table border=\"1\" class=\"dataframe\">\n",
              "  <thead>\n",
              "    <tr style=\"text-align: right;\">\n",
              "      <th></th>\n",
              "      <th>Article ID</th>\n",
              "      <th>Number of Transactions</th>\n",
              "    </tr>\n",
              "  </thead>\n",
              "  <tbody>\n",
              "    <tr>\n",
              "      <th>5577</th>\n",
              "      <td>5250</td>\n",
              "      <td>11</td>\n",
              "    </tr>\n",
              "    <tr>\n",
              "      <th>5532</th>\n",
              "      <td>12</td>\n",
              "      <td>11</td>\n",
              "    </tr>\n",
              "    <tr>\n",
              "      <th>4393</th>\n",
              "      <td>479</td>\n",
              "      <td>11</td>\n",
              "    </tr>\n",
              "    <tr>\n",
              "      <th>3285</th>\n",
              "      <td>3814</td>\n",
              "      <td>11</td>\n",
              "    </tr>\n",
              "    <tr>\n",
              "      <th>4388</th>\n",
              "      <td>4474</td>\n",
              "      <td>11</td>\n",
              "    </tr>\n",
              "    <tr>\n",
              "      <th>...</th>\n",
              "      <td>...</td>\n",
              "      <td>...</td>\n",
              "    </tr>\n",
              "    <tr>\n",
              "      <th>318</th>\n",
              "      <td>1429</td>\n",
              "      <td>815</td>\n",
              "    </tr>\n",
              "    <tr>\n",
              "      <th>1359</th>\n",
              "      <td>6166</td>\n",
              "      <td>858</td>\n",
              "    </tr>\n",
              "    <tr>\n",
              "      <th>63</th>\n",
              "      <td>5831</td>\n",
              "      <td>889</td>\n",
              "    </tr>\n",
              "    <tr>\n",
              "      <th>927</th>\n",
              "      <td>168</td>\n",
              "      <td>896</td>\n",
              "    </tr>\n",
              "    <tr>\n",
              "      <th>48</th>\n",
              "      <td>1419</td>\n",
              "      <td>1045</td>\n",
              "    </tr>\n",
              "  </tbody>\n",
              "</table>\n",
              "<p>6536 rows × 2 columns</p>\n",
              "</div>\n",
              "      <button class=\"colab-df-convert\" onclick=\"convertToInteractive('df-c3142437-53ff-4fb3-b2f5-f6915f9580cf')\"\n",
              "              title=\"Convert this dataframe to an interactive table.\"\n",
              "              style=\"display:none;\">\n",
              "        \n",
              "  <svg xmlns=\"http://www.w3.org/2000/svg\" height=\"24px\"viewBox=\"0 0 24 24\"\n",
              "       width=\"24px\">\n",
              "    <path d=\"M0 0h24v24H0V0z\" fill=\"none\"/>\n",
              "    <path d=\"M18.56 5.44l.94 2.06.94-2.06 2.06-.94-2.06-.94-.94-2.06-.94 2.06-2.06.94zm-11 1L8.5 8.5l.94-2.06 2.06-.94-2.06-.94L8.5 2.5l-.94 2.06-2.06.94zm10 10l.94 2.06.94-2.06 2.06-.94-2.06-.94-.94-2.06-.94 2.06-2.06.94z\"/><path d=\"M17.41 7.96l-1.37-1.37c-.4-.4-.92-.59-1.43-.59-.52 0-1.04.2-1.43.59L10.3 9.45l-7.72 7.72c-.78.78-.78 2.05 0 2.83L4 21.41c.39.39.9.59 1.41.59.51 0 1.02-.2 1.41-.59l7.78-7.78 2.81-2.81c.8-.78.8-2.07 0-2.86zM5.41 20L4 18.59l7.72-7.72 1.47 1.35L5.41 20z\"/>\n",
              "  </svg>\n",
              "      </button>\n",
              "      \n",
              "  <style>\n",
              "    .colab-df-container {\n",
              "      display:flex;\n",
              "      flex-wrap:wrap;\n",
              "      gap: 12px;\n",
              "    }\n",
              "\n",
              "    .colab-df-convert {\n",
              "      background-color: #E8F0FE;\n",
              "      border: none;\n",
              "      border-radius: 50%;\n",
              "      cursor: pointer;\n",
              "      display: none;\n",
              "      fill: #1967D2;\n",
              "      height: 32px;\n",
              "      padding: 0 0 0 0;\n",
              "      width: 32px;\n",
              "    }\n",
              "\n",
              "    .colab-df-convert:hover {\n",
              "      background-color: #E2EBFA;\n",
              "      box-shadow: 0px 1px 2px rgba(60, 64, 67, 0.3), 0px 1px 3px 1px rgba(60, 64, 67, 0.15);\n",
              "      fill: #174EA6;\n",
              "    }\n",
              "\n",
              "    [theme=dark] .colab-df-convert {\n",
              "      background-color: #3B4455;\n",
              "      fill: #D2E3FC;\n",
              "    }\n",
              "\n",
              "    [theme=dark] .colab-df-convert:hover {\n",
              "      background-color: #434B5C;\n",
              "      box-shadow: 0px 1px 3px 1px rgba(0, 0, 0, 0.15);\n",
              "      filter: drop-shadow(0px 1px 2px rgba(0, 0, 0, 0.3));\n",
              "      fill: #FFFFFF;\n",
              "    }\n",
              "  </style>\n",
              "\n",
              "      <script>\n",
              "        const buttonEl =\n",
              "          document.querySelector('#df-c3142437-53ff-4fb3-b2f5-f6915f9580cf button.colab-df-convert');\n",
              "        buttonEl.style.display =\n",
              "          google.colab.kernel.accessAllowed ? 'block' : 'none';\n",
              "\n",
              "        async function convertToInteractive(key) {\n",
              "          const element = document.querySelector('#df-c3142437-53ff-4fb3-b2f5-f6915f9580cf');\n",
              "          const dataTable =\n",
              "            await google.colab.kernel.invokeFunction('convertToInteractive',\n",
              "                                                     [key], {});\n",
              "          if (!dataTable) return;\n",
              "\n",
              "          const docLinkHtml = 'Like what you see? Visit the ' +\n",
              "            '<a target=\"_blank\" href=https://colab.research.google.com/notebooks/data_table.ipynb>data table notebook</a>'\n",
              "            + ' to learn more about interactive tables.';\n",
              "          element.innerHTML = '';\n",
              "          dataTable['output_type'] = 'display_data';\n",
              "          await google.colab.output.renderOutput(dataTable, element);\n",
              "          const docLink = document.createElement('div');\n",
              "          docLink.innerHTML = docLinkHtml;\n",
              "          element.appendChild(docLink);\n",
              "        }\n",
              "      </script>\n",
              "    </div>\n",
              "  </div>\n",
              "  "
            ]
          },
          "metadata": {},
          "execution_count": 663
        }
      ],
      "source": [
        "article_transactions_count_df = pd.DataFrame([article_transactions_count]).T.reset_index()\n",
        "article_transactions_count_df.columns = ['Article ID', 'Number of Transactions']\n",
        "article_transactions_count_df.sort_values(by='Number of Transactions', ascending=True)"
      ]
    },
    {
      "cell_type": "markdown",
      "id": "fd371d6f",
      "metadata": {
        "id": "fd371d6f"
      },
      "source": [
        "#### **ANALYSIS**"
      ]
    },
    {
      "cell_type": "markdown",
      "source": [
        "*Rather than analysing singularly each dataset, we want to exploit all the information that we can retrieve from each of them, together.*"
      ],
      "metadata": {
        "id": "PzDEu6KLadIk"
      },
      "id": "PzDEu6KLadIk"
    },
    {
      "cell_type": "markdown",
      "id": "b330912a",
      "metadata": {
        "id": "b330912a"
      },
      "source": [
        "From the above dataframe we are able to get which is the most requested article.\n",
        "By looking for its id in the articles dataset, we can access to a wider range of information with respect to the customer case we studied before because we cannot access to sensitive information we we would need to make a more in-dept analysis. Whereas, for products we can obtain more information useful for market strategies.\n",
        "So, let'see what is this 'id 1419':"
      ]
    },
    {
      "cell_type": "code",
      "execution_count": 664,
      "id": "0899208c",
      "metadata": {
        "scrolled": true,
        "colab": {
          "base_uri": "https://localhost:8080/",
          "height": 207
        },
        "id": "0899208c",
        "outputId": "05262727-2549-4c8c-97a4-b9673a77946e"
      },
      "outputs": [
        {
          "output_type": "execute_result",
          "data": {
            "text/plain": [
              "      level_0  article_id            prod_name  product_type  \\\n",
              "1419     1419        1419  Pluto RW slacks (1)           272   \n",
              "\n",
              "     product_type_name  product_group_name  colour_group colour_group_name  \\\n",
              "1419          Trousers  Garment Lower body             9             Black   \n",
              "\n",
              "      perceived_colour_value perceived_colour_value_name  ...  department  \\\n",
              "1419                       4                        Dark  ...        1722   \n",
              "\n",
              "     department_name  index  index_name index_group index_group_name  section  \\\n",
              "1419         Trouser      A  Ladieswear           1       Ladieswear       15   \n",
              "\n",
              "                    section_name  garment_group garment_group_name  \n",
              "1419  Womens Everyday Collection           1009           Trousers  \n",
              "\n",
              "[1 rows x 22 columns]"
            ],
            "text/html": [
              "\n",
              "  <div id=\"df-b809436b-f78c-4395-8183-5dfe5cf2e94c\">\n",
              "    <div class=\"colab-df-container\">\n",
              "      <div>\n",
              "<style scoped>\n",
              "    .dataframe tbody tr th:only-of-type {\n",
              "        vertical-align: middle;\n",
              "    }\n",
              "\n",
              "    .dataframe tbody tr th {\n",
              "        vertical-align: top;\n",
              "    }\n",
              "\n",
              "    .dataframe thead th {\n",
              "        text-align: right;\n",
              "    }\n",
              "</style>\n",
              "<table border=\"1\" class=\"dataframe\">\n",
              "  <thead>\n",
              "    <tr style=\"text-align: right;\">\n",
              "      <th></th>\n",
              "      <th>level_0</th>\n",
              "      <th>article_id</th>\n",
              "      <th>prod_name</th>\n",
              "      <th>product_type</th>\n",
              "      <th>product_type_name</th>\n",
              "      <th>product_group_name</th>\n",
              "      <th>colour_group</th>\n",
              "      <th>colour_group_name</th>\n",
              "      <th>perceived_colour_value</th>\n",
              "      <th>perceived_colour_value_name</th>\n",
              "      <th>...</th>\n",
              "      <th>department</th>\n",
              "      <th>department_name</th>\n",
              "      <th>index</th>\n",
              "      <th>index_name</th>\n",
              "      <th>index_group</th>\n",
              "      <th>index_group_name</th>\n",
              "      <th>section</th>\n",
              "      <th>section_name</th>\n",
              "      <th>garment_group</th>\n",
              "      <th>garment_group_name</th>\n",
              "    </tr>\n",
              "  </thead>\n",
              "  <tbody>\n",
              "    <tr>\n",
              "      <th>1419</th>\n",
              "      <td>1419</td>\n",
              "      <td>1419</td>\n",
              "      <td>Pluto RW slacks (1)</td>\n",
              "      <td>272</td>\n",
              "      <td>Trousers</td>\n",
              "      <td>Garment Lower body</td>\n",
              "      <td>9</td>\n",
              "      <td>Black</td>\n",
              "      <td>4</td>\n",
              "      <td>Dark</td>\n",
              "      <td>...</td>\n",
              "      <td>1722</td>\n",
              "      <td>Trouser</td>\n",
              "      <td>A</td>\n",
              "      <td>Ladieswear</td>\n",
              "      <td>1</td>\n",
              "      <td>Ladieswear</td>\n",
              "      <td>15</td>\n",
              "      <td>Womens Everyday Collection</td>\n",
              "      <td>1009</td>\n",
              "      <td>Trousers</td>\n",
              "    </tr>\n",
              "  </tbody>\n",
              "</table>\n",
              "<p>1 rows × 22 columns</p>\n",
              "</div>\n",
              "      <button class=\"colab-df-convert\" onclick=\"convertToInteractive('df-b809436b-f78c-4395-8183-5dfe5cf2e94c')\"\n",
              "              title=\"Convert this dataframe to an interactive table.\"\n",
              "              style=\"display:none;\">\n",
              "        \n",
              "  <svg xmlns=\"http://www.w3.org/2000/svg\" height=\"24px\"viewBox=\"0 0 24 24\"\n",
              "       width=\"24px\">\n",
              "    <path d=\"M0 0h24v24H0V0z\" fill=\"none\"/>\n",
              "    <path d=\"M18.56 5.44l.94 2.06.94-2.06 2.06-.94-2.06-.94-.94-2.06-.94 2.06-2.06.94zm-11 1L8.5 8.5l.94-2.06 2.06-.94-2.06-.94L8.5 2.5l-.94 2.06-2.06.94zm10 10l.94 2.06.94-2.06 2.06-.94-2.06-.94-.94-2.06-.94 2.06-2.06.94z\"/><path d=\"M17.41 7.96l-1.37-1.37c-.4-.4-.92-.59-1.43-.59-.52 0-1.04.2-1.43.59L10.3 9.45l-7.72 7.72c-.78.78-.78 2.05 0 2.83L4 21.41c.39.39.9.59 1.41.59.51 0 1.02-.2 1.41-.59l7.78-7.78 2.81-2.81c.8-.78.8-2.07 0-2.86zM5.41 20L4 18.59l7.72-7.72 1.47 1.35L5.41 20z\"/>\n",
              "  </svg>\n",
              "      </button>\n",
              "      \n",
              "  <style>\n",
              "    .colab-df-container {\n",
              "      display:flex;\n",
              "      flex-wrap:wrap;\n",
              "      gap: 12px;\n",
              "    }\n",
              "\n",
              "    .colab-df-convert {\n",
              "      background-color: #E8F0FE;\n",
              "      border: none;\n",
              "      border-radius: 50%;\n",
              "      cursor: pointer;\n",
              "      display: none;\n",
              "      fill: #1967D2;\n",
              "      height: 32px;\n",
              "      padding: 0 0 0 0;\n",
              "      width: 32px;\n",
              "    }\n",
              "\n",
              "    .colab-df-convert:hover {\n",
              "      background-color: #E2EBFA;\n",
              "      box-shadow: 0px 1px 2px rgba(60, 64, 67, 0.3), 0px 1px 3px 1px rgba(60, 64, 67, 0.15);\n",
              "      fill: #174EA6;\n",
              "    }\n",
              "\n",
              "    [theme=dark] .colab-df-convert {\n",
              "      background-color: #3B4455;\n",
              "      fill: #D2E3FC;\n",
              "    }\n",
              "\n",
              "    [theme=dark] .colab-df-convert:hover {\n",
              "      background-color: #434B5C;\n",
              "      box-shadow: 0px 1px 3px 1px rgba(0, 0, 0, 0.15);\n",
              "      filter: drop-shadow(0px 1px 2px rgba(0, 0, 0, 0.3));\n",
              "      fill: #FFFFFF;\n",
              "    }\n",
              "  </style>\n",
              "\n",
              "      <script>\n",
              "        const buttonEl =\n",
              "          document.querySelector('#df-b809436b-f78c-4395-8183-5dfe5cf2e94c button.colab-df-convert');\n",
              "        buttonEl.style.display =\n",
              "          google.colab.kernel.accessAllowed ? 'block' : 'none';\n",
              "\n",
              "        async function convertToInteractive(key) {\n",
              "          const element = document.querySelector('#df-b809436b-f78c-4395-8183-5dfe5cf2e94c');\n",
              "          const dataTable =\n",
              "            await google.colab.kernel.invokeFunction('convertToInteractive',\n",
              "                                                     [key], {});\n",
              "          if (!dataTable) return;\n",
              "\n",
              "          const docLinkHtml = 'Like what you see? Visit the ' +\n",
              "            '<a target=\"_blank\" href=https://colab.research.google.com/notebooks/data_table.ipynb>data table notebook</a>'\n",
              "            + ' to learn more about interactive tables.';\n",
              "          element.innerHTML = '';\n",
              "          dataTable['output_type'] = 'display_data';\n",
              "          await google.colab.output.renderOutput(dataTable, element);\n",
              "          const docLink = document.createElement('div');\n",
              "          docLink.innerHTML = docLinkHtml;\n",
              "          element.appendChild(docLink);\n",
              "        }\n",
              "      </script>\n",
              "    </div>\n",
              "  </div>\n",
              "  "
            ]
          },
          "metadata": {},
          "execution_count": 664
        }
      ],
      "source": [
        "articles.loc[articles['article_id'] == 1419]"
      ]
    },
    {
      "cell_type": "markdown",
      "id": "21409998",
      "metadata": {
        "id": "21409998"
      },
      "source": [
        "This row gives us a lot of information. In our opinion, rather than focusing on single products, it is better to focus on a category, because we can have a more accurate analysis basing on a bigger radius of articles, avoiding in this way some outliers."
      ]
    },
    {
      "cell_type": "code",
      "execution_count": 665,
      "id": "ff0caee8",
      "metadata": {
        "id": "ff0caee8"
      },
      "outputs": [],
      "source": [
        "article_type_dict = {}\n",
        "article_group_dict = {}\n",
        "article_section_dict = {}\n",
        "\n",
        "for i,row in articles.iterrows():\n",
        "    article_type_dict[row['article_id']] = row['product_type_name']\n",
        "    article_group_dict[row['article_id']] = row['product_group_name']\n",
        "    article_section_dict[row['article_id']] = row['section_name']"
      ]
    },
    {
      "cell_type": "code",
      "execution_count": 666,
      "id": "04f656a4",
      "metadata": {
        "colab": {
          "base_uri": "https://localhost:8080/",
          "height": 419
        },
        "id": "04f656a4",
        "outputId": "97dca7a6-571e-45c8-da75-3e669d0e476c"
      },
      "outputs": [
        {
          "output_type": "execute_result",
          "data": {
            "text/plain": [
              "   Type of products  Number of Transactions\n",
              "5          Trousers                   65295\n",
              "11          Sweater                   49602\n",
              "2               Top                   28308\n",
              "3             Dress                   26333\n",
              "23          T-shirt                   21010\n",
              "..              ...                     ...\n",
              "69     Swimwear set                      16\n",
              "71           Braces                      15\n",
              "75        Flip flop                      14\n",
              "78            Heels                      13\n",
              "70         Hairband                      13\n",
              "\n",
              "[82 rows x 2 columns]"
            ],
            "text/html": [
              "\n",
              "  <div id=\"df-fce244c0-382f-42be-bb68-6004ff034859\">\n",
              "    <div class=\"colab-df-container\">\n",
              "      <div>\n",
              "<style scoped>\n",
              "    .dataframe tbody tr th:only-of-type {\n",
              "        vertical-align: middle;\n",
              "    }\n",
              "\n",
              "    .dataframe tbody tr th {\n",
              "        vertical-align: top;\n",
              "    }\n",
              "\n",
              "    .dataframe thead th {\n",
              "        text-align: right;\n",
              "    }\n",
              "</style>\n",
              "<table border=\"1\" class=\"dataframe\">\n",
              "  <thead>\n",
              "    <tr style=\"text-align: right;\">\n",
              "      <th></th>\n",
              "      <th>Type of products</th>\n",
              "      <th>Number of Transactions</th>\n",
              "    </tr>\n",
              "  </thead>\n",
              "  <tbody>\n",
              "    <tr>\n",
              "      <th>5</th>\n",
              "      <td>Trousers</td>\n",
              "      <td>65295</td>\n",
              "    </tr>\n",
              "    <tr>\n",
              "      <th>11</th>\n",
              "      <td>Sweater</td>\n",
              "      <td>49602</td>\n",
              "    </tr>\n",
              "    <tr>\n",
              "      <th>2</th>\n",
              "      <td>Top</td>\n",
              "      <td>28308</td>\n",
              "    </tr>\n",
              "    <tr>\n",
              "      <th>3</th>\n",
              "      <td>Dress</td>\n",
              "      <td>26333</td>\n",
              "    </tr>\n",
              "    <tr>\n",
              "      <th>23</th>\n",
              "      <td>T-shirt</td>\n",
              "      <td>21010</td>\n",
              "    </tr>\n",
              "    <tr>\n",
              "      <th>...</th>\n",
              "      <td>...</td>\n",
              "      <td>...</td>\n",
              "    </tr>\n",
              "    <tr>\n",
              "      <th>69</th>\n",
              "      <td>Swimwear set</td>\n",
              "      <td>16</td>\n",
              "    </tr>\n",
              "    <tr>\n",
              "      <th>71</th>\n",
              "      <td>Braces</td>\n",
              "      <td>15</td>\n",
              "    </tr>\n",
              "    <tr>\n",
              "      <th>75</th>\n",
              "      <td>Flip flop</td>\n",
              "      <td>14</td>\n",
              "    </tr>\n",
              "    <tr>\n",
              "      <th>78</th>\n",
              "      <td>Heels</td>\n",
              "      <td>13</td>\n",
              "    </tr>\n",
              "    <tr>\n",
              "      <th>70</th>\n",
              "      <td>Hairband</td>\n",
              "      <td>13</td>\n",
              "    </tr>\n",
              "  </tbody>\n",
              "</table>\n",
              "<p>82 rows × 2 columns</p>\n",
              "</div>\n",
              "      <button class=\"colab-df-convert\" onclick=\"convertToInteractive('df-fce244c0-382f-42be-bb68-6004ff034859')\"\n",
              "              title=\"Convert this dataframe to an interactive table.\"\n",
              "              style=\"display:none;\">\n",
              "        \n",
              "  <svg xmlns=\"http://www.w3.org/2000/svg\" height=\"24px\"viewBox=\"0 0 24 24\"\n",
              "       width=\"24px\">\n",
              "    <path d=\"M0 0h24v24H0V0z\" fill=\"none\"/>\n",
              "    <path d=\"M18.56 5.44l.94 2.06.94-2.06 2.06-.94-2.06-.94-.94-2.06-.94 2.06-2.06.94zm-11 1L8.5 8.5l.94-2.06 2.06-.94-2.06-.94L8.5 2.5l-.94 2.06-2.06.94zm10 10l.94 2.06.94-2.06 2.06-.94-2.06-.94-.94-2.06-.94 2.06-2.06.94z\"/><path d=\"M17.41 7.96l-1.37-1.37c-.4-.4-.92-.59-1.43-.59-.52 0-1.04.2-1.43.59L10.3 9.45l-7.72 7.72c-.78.78-.78 2.05 0 2.83L4 21.41c.39.39.9.59 1.41.59.51 0 1.02-.2 1.41-.59l7.78-7.78 2.81-2.81c.8-.78.8-2.07 0-2.86zM5.41 20L4 18.59l7.72-7.72 1.47 1.35L5.41 20z\"/>\n",
              "  </svg>\n",
              "      </button>\n",
              "      \n",
              "  <style>\n",
              "    .colab-df-container {\n",
              "      display:flex;\n",
              "      flex-wrap:wrap;\n",
              "      gap: 12px;\n",
              "    }\n",
              "\n",
              "    .colab-df-convert {\n",
              "      background-color: #E8F0FE;\n",
              "      border: none;\n",
              "      border-radius: 50%;\n",
              "      cursor: pointer;\n",
              "      display: none;\n",
              "      fill: #1967D2;\n",
              "      height: 32px;\n",
              "      padding: 0 0 0 0;\n",
              "      width: 32px;\n",
              "    }\n",
              "\n",
              "    .colab-df-convert:hover {\n",
              "      background-color: #E2EBFA;\n",
              "      box-shadow: 0px 1px 2px rgba(60, 64, 67, 0.3), 0px 1px 3px 1px rgba(60, 64, 67, 0.15);\n",
              "      fill: #174EA6;\n",
              "    }\n",
              "\n",
              "    [theme=dark] .colab-df-convert {\n",
              "      background-color: #3B4455;\n",
              "      fill: #D2E3FC;\n",
              "    }\n",
              "\n",
              "    [theme=dark] .colab-df-convert:hover {\n",
              "      background-color: #434B5C;\n",
              "      box-shadow: 0px 1px 3px 1px rgba(0, 0, 0, 0.15);\n",
              "      filter: drop-shadow(0px 1px 2px rgba(0, 0, 0, 0.3));\n",
              "      fill: #FFFFFF;\n",
              "    }\n",
              "  </style>\n",
              "\n",
              "      <script>\n",
              "        const buttonEl =\n",
              "          document.querySelector('#df-fce244c0-382f-42be-bb68-6004ff034859 button.colab-df-convert');\n",
              "        buttonEl.style.display =\n",
              "          google.colab.kernel.accessAllowed ? 'block' : 'none';\n",
              "\n",
              "        async function convertToInteractive(key) {\n",
              "          const element = document.querySelector('#df-fce244c0-382f-42be-bb68-6004ff034859');\n",
              "          const dataTable =\n",
              "            await google.colab.kernel.invokeFunction('convertToInteractive',\n",
              "                                                     [key], {});\n",
              "          if (!dataTable) return;\n",
              "\n",
              "          const docLinkHtml = 'Like what you see? Visit the ' +\n",
              "            '<a target=\"_blank\" href=https://colab.research.google.com/notebooks/data_table.ipynb>data table notebook</a>'\n",
              "            + ' to learn more about interactive tables.';\n",
              "          element.innerHTML = '';\n",
              "          dataTable['output_type'] = 'display_data';\n",
              "          await google.colab.output.renderOutput(dataTable, element);\n",
              "          const docLink = document.createElement('div');\n",
              "          docLink.innerHTML = docLinkHtml;\n",
              "          element.appendChild(docLink);\n",
              "        }\n",
              "      </script>\n",
              "    </div>\n",
              "  </div>\n",
              "  "
            ]
          },
          "metadata": {},
          "execution_count": 666
        }
      ],
      "source": [
        "type_transactions = {}\n",
        "for i,row in transactions.iterrows():\n",
        "  if article_type_dict[row['article_id']] in type_transactions.keys():\n",
        "    type_transactions[article_type_dict[row['article_id']]] += 1\n",
        "  else:\n",
        "    type_transactions[article_type_dict[row['article_id']]] = 1\n",
        "        \n",
        "type_transactions_df = pd.DataFrame({'Type of products':list(type_transactions.keys()),'Number of Transactions':list(type_transactions.values())})\n",
        "type_transactions_df = type_transactions_df.sort_values(by='Number of Transactions', ascending = False)\n",
        "type_transactions_df"
      ]
    },
    {
      "cell_type": "markdown",
      "id": "da6412c0",
      "metadata": {
        "id": "da6412c0"
      },
      "source": [
        "Thanks to this frame we can see that the most sold type of product is 'Trousers', with a huge gap from the second one. This is probably caused by the fact that trousers are also the type of product with a wider range of articles inside."
      ]
    },
    {
      "cell_type": "code",
      "execution_count": 667,
      "id": "44b9419c",
      "metadata": {
        "colab": {
          "base_uri": "https://localhost:8080/",
          "height": 370
        },
        "id": "44b9419c",
        "outputId": "a68ef87e-6d30-4ae2-b5e2-0aa36c6ce6a0"
      },
      "outputs": [
        {
          "output_type": "display_data",
          "data": {
            "text/plain": [
              "<Figure size 1440x360 with 1 Axes>"
            ],
            "image/png": "[encoded data removed]"
          },
          "metadata": {}
        }
      ],
      "source": [
        "plt.figure(figsize=(20,5))\n",
        "sns.barplot(x='Type of products', y='Number of Transactions', data=type_transactions_df)\n",
        "plt.xticks(rotation=90)\n",
        "plt.show()"
      ]
    },
    {
      "cell_type": "code",
      "source": [
        "type_transactions_df_over5000 = type_transactions_df[type_transactions_df['Number of Transactions']>5000]"
      ],
      "metadata": {
        "id": "UogHnU-ycQGc"
      },
      "id": "UogHnU-ycQGc",
      "execution_count": 668,
      "outputs": []
    },
    {
      "cell_type": "code",
      "source": [
        "plt.figure(figsize=(20,5))\n",
        "sns.barplot(x='Type of products', y='Number of Transactions', data=type_transactions_df_over5000)\n",
        "plt.xticks(rotation=45)\n",
        "plt.show()"
      ],
      "metadata": {
        "colab": {
          "base_uri": "https://localhost:8080/",
          "height": 353
        },
        "id": "JJqlmJEGdZRl",
        "outputId": "f5e15b75-9477-4ac5-98bc-48909fe7cb18"
      },
      "id": "JJqlmJEGdZRl",
      "execution_count": 669,
      "outputs": [
        {
          "output_type": "display_data",
          "data": {
            "text/plain": [
              "<Figure size 1440x360 with 1 Axes>"
            ],
            "image/png": "[encoded data removed]"
          },
          "metadata": {}
        }
      ]
    },
    {
      "cell_type": "markdown",
      "id": "8fff096c",
      "metadata": {
        "id": "8fff096c"
      },
      "source": [
        "Now let's do the same analysis but, this time, focusing on the section of articles."
      ]
    },
    {
      "cell_type": "code",
      "source": [
        "section_transactions = {}\n",
        "for i,row in transactions.iterrows():\n",
        "      if article_section_dict[row['article_id']] in section_transactions.keys():\n",
        "        section_transactions[article_section_dict[row['article_id']]] += 1\n",
        "      else:\n",
        "        section_transactions[article_section_dict[row['article_id']]] = 1\n",
        "        \n",
        "section_transactions_df = pd.DataFrame({'Section of products':list(section_transactions.keys()),'Number of Transactions':list(section_transactions.values())})\n",
        "section_transactions_df = section_transactions_df.sort_values(by='Number of Transactions', ascending = False)"
      ],
      "metadata": {
        "id": "iWU2pWake-4W"
      },
      "id": "iWU2pWake-4W",
      "execution_count": 670,
      "outputs": []
    },
    {
      "cell_type": "markdown",
      "id": "46d5cdc8",
      "metadata": {
        "id": "46d5cdc8"
      },
      "source": [
        "And one more time, we got the same expexted result.\n",
        "In this case, the distance between the top section and the others is incredibly huge (approximately the double of the second ranked section)."
      ]
    },
    {
      "cell_type": "code",
      "source": [
        "plt.figure(figsize=(10,5))\n",
        "sns.barplot(x='Section of products', y='Number of Transactions', data=section_transactions_df)\n",
        "plt.xticks(rotation=90)\n",
        "plt.show()"
      ],
      "metadata": {
        "colab": {
          "base_uri": "https://localhost:8080/",
          "height": 491
        },
        "id": "jiheHv5tfer9",
        "outputId": "c3bb2252-835c-4ad6-b806-5c46dd1ed1df"
      },
      "id": "jiheHv5tfer9",
      "execution_count": 671,
      "outputs": [
        {
          "output_type": "display_data",
          "data": {
            "text/plain": [
              "<Figure size 720x360 with 1 Axes>"
            ],
            "image/png": "[encoded data removed]"
          },
          "metadata": {}
        }
      ]
    },
    {
      "cell_type": "markdown",
      "source": [
        "We could decide to select just a smaller proportion of data because the tail of our graph is really minimum."
      ],
      "metadata": {
        "id": "FA69me7dB9l5"
      },
      "id": "FA69me7dB9l5"
    },
    {
      "cell_type": "code",
      "source": [
        "section_transactions_df_over5000 = section_transactions_df[section_transactions_df['Number of Transactions']>5000]"
      ],
      "metadata": {
        "id": "OL-Hp3JpBQ6e"
      },
      "id": "OL-Hp3JpBQ6e",
      "execution_count": 672,
      "outputs": []
    },
    {
      "cell_type": "code",
      "source": [
        "plt.figure(figsize=(10,5))\n",
        "sns.barplot(x='Section of products', y='Number of Transactions', data=section_transactions_df_over5000)\n",
        "plt.xticks(rotation=90)\n",
        "plt.show()"
      ],
      "metadata": {
        "colab": {
          "base_uri": "https://localhost:8080/",
          "height": 491
        },
        "id": "ZSVFOks9BcdG",
        "outputId": "a9dc3d3d-13a9-4a6d-d0cd-e40654988cdc"
      },
      "id": "ZSVFOks9BcdG",
      "execution_count": 673,
      "outputs": [
        {
          "output_type": "display_data",
          "data": {
            "text/plain": [
              "<Figure size 720x360 with 1 Axes>"
            ],
            "image/png": "[encoded data removed]"
          },
          "metadata": {}
        }
      ]
    },
    {
      "cell_type": "markdown",
      "id": "c24615ed",
      "metadata": {
        "id": "c24615ed"
      },
      "source": []
    },
    {
      "cell_type": "markdown",
      "id": "9b1fe1bd",
      "metadata": {
        "id": "9b1fe1bd"
      },
      "source": [
        "# CONTENT-BASED FILTERING RECOMMENDER"
      ]
    },
    {
      "cell_type": "markdown",
      "id": "aaf10176",
      "metadata": {
        "id": "aaf10176"
      },
      "source": [
        "We can now start to build the content-based filtering recommender. We begin by setting up our dataset in such a way that rows represent all the articles and columns represent the features we are interested in.\n",
        "\n",
        "1) First, we create a table whose columns are all the values present in the column 'perceived_colour_master_name' and the rows are all the articles. The values inside the table are '1' if the cloth in the corresponding row has the colour of the respective column, else it has a '0'."
      ]
    },
    {
      "cell_type": "code",
      "execution_count": 674,
      "id": "9ef6005b",
      "metadata": {
        "colab": {
          "base_uri": "https://localhost:8080/",
          "height": 480
        },
        "id": "9ef6005b",
        "outputId": "51ef304b-3375-47e9-a34e-0c0bb62c3c2e"
      },
      "outputs": [
        {
          "output_type": "execute_result",
          "data": {
            "text/plain": [
              "      Black  Blue  Grey  Beige  White  Brown  Mole  Khaki green  Red  Metal  \\\n",
              "0         1     0     0      0      0      0     0            0    0      0   \n",
              "1         1     0     0      0      0      0     0            0    0      0   \n",
              "2         1     0     0      0      0      0     0            0    0      0   \n",
              "3         1     0     0      0      0      0     0            0    0      0   \n",
              "4         1     0     0      0      0      0     0            0    0      0   \n",
              "...     ...   ...   ...    ...    ...    ...   ...          ...  ...    ...   \n",
              "6531      1     0     0      0      0      0     0            0    0      0   \n",
              "6532      0     0     0      0      0      0     0            0    0      0   \n",
              "6533      1     0     0      0      0      0     0            0    0      0   \n",
              "6534      1     0     0      0      0      0     0            0    0      0   \n",
              "6535      1     0     0      0      0      0     0            0    0      0   \n",
              "\n",
              "      Lilac Purple  Yellow  Pink  Green  Orange  Turquoise  \n",
              "0                0       0     0      0       0          0  \n",
              "1                0       0     0      0       0          0  \n",
              "2                0       0     0      0       0          0  \n",
              "3                0       0     0      0       0          0  \n",
              "4                0       0     0      0       0          0  \n",
              "...            ...     ...   ...    ...     ...        ...  \n",
              "6531             0       0     0      0       0          0  \n",
              "6532             0       0     1      0       0          0  \n",
              "6533             0       0     0      0       0          0  \n",
              "6534             0       0     0      0       0          0  \n",
              "6535             0       0     0      0       0          0  \n",
              "\n",
              "[6536 rows x 16 columns]"
            ],
            "text/html": [
              "\n",
              "  <div id=\"df-903770ea-048b-4cce-b703-53de6e68b922\">\n",
              "    <div class=\"colab-df-container\">\n",
              "      <div>\n",
              "<style scoped>\n",
              "    .dataframe tbody tr th:only-of-type {\n",
              "        vertical-align: middle;\n",
              "    }\n",
              "\n",
              "    .dataframe tbody tr th {\n",
              "        vertical-align: top;\n",
              "    }\n",
              "\n",
              "    .dataframe thead th {\n",
              "        text-align: right;\n",
              "    }\n",
              "</style>\n",
              "<table border=\"1\" class=\"dataframe\">\n",
              "  <thead>\n",
              "    <tr style=\"text-align: right;\">\n",
              "      <th></th>\n",
              "      <th>Black</th>\n",
              "      <th>Blue</th>\n",
              "      <th>Grey</th>\n",
              "      <th>Beige</th>\n",
              "      <th>White</th>\n",
              "      <th>Brown</th>\n",
              "      <th>Mole</th>\n",
              "      <th>Khaki green</th>\n",
              "      <th>Red</th>\n",
              "      <th>Metal</th>\n",
              "      <th>Lilac Purple</th>\n",
              "      <th>Yellow</th>\n",
              "      <th>Pink</th>\n",
              "      <th>Green</th>\n",
              "      <th>Orange</th>\n",
              "      <th>Turquoise</th>\n",
              "    </tr>\n",
              "  </thead>\n",
              "  <tbody>\n",
              "    <tr>\n",
              "      <th>0</th>\n",
              "      <td>1</td>\n",
              "      <td>0</td>\n",
              "      <td>0</td>\n",
              "      <td>0</td>\n",
              "      <td>0</td>\n",
              "      <td>0</td>\n",
              "      <td>0</td>\n",
              "      <td>0</td>\n",
              "      <td>0</td>\n",
              "      <td>0</td>\n",
              "      <td>0</td>\n",
              "      <td>0</td>\n",
              "      <td>0</td>\n",
              "      <td>0</td>\n",
              "      <td>0</td>\n",
              "      <td>0</td>\n",
              "    </tr>\n",
              "    <tr>\n",
              "      <th>1</th>\n",
              "      <td>1</td>\n",
              "      <td>0</td>\n",
              "      <td>0</td>\n",
              "      <td>0</td>\n",
              "      <td>0</td>\n",
              "      <td>0</td>\n",
              "      <td>0</td>\n",
              "      <td>0</td>\n",
              "      <td>0</td>\n",
              "      <td>0</td>\n",
              "      <td>0</td>\n",
              "      <td>0</td>\n",
              "      <td>0</td>\n",
              "      <td>0</td>\n",
              "      <td>0</td>\n",
              "      <td>0</td>\n",
              "    </tr>\n",
              "    <tr>\n",
              "      <th>2</th>\n",
              "      <td>1</td>\n",
              "      <td>0</td>\n",
              "      <td>0</td>\n",
              "      <td>0</td>\n",
              "      <td>0</td>\n",
              "      <td>0</td>\n",
              "      <td>0</td>\n",
              "      <td>0</td>\n",
              "      <td>0</td>\n",
              "      <td>0</td>\n",
              "      <td>0</td>\n",
              "      <td>0</td>\n",
              "      <td>0</td>\n",
              "      <td>0</td>\n",
              "      <td>0</td>\n",
              "      <td>0</td>\n",
              "    </tr>\n",
              "    <tr>\n",
              "      <th>3</th>\n",
              "      <td>1</td>\n",
              "      <td>0</td>\n",
              "      <td>0</td>\n",
              "      <td>0</td>\n",
              "      <td>0</td>\n",
              "      <td>0</td>\n",
              "      <td>0</td>\n",
              "      <td>0</td>\n",
              "      <td>0</td>\n",
              "      <td>0</td>\n",
              "      <td>0</td>\n",
              "      <td>0</td>\n",
              "      <td>0</td>\n",
              "      <td>0</td>\n",
              "      <td>0</td>\n",
              "      <td>0</td>\n",
              "    </tr>\n",
              "    <tr>\n",
              "      <th>4</th>\n",
              "      <td>1</td>\n",
              "      <td>0</td>\n",
              "      <td>0</td>\n",
              "      <td>0</td>\n",
              "      <td>0</td>\n",
              "      <td>0</td>\n",
              "      <td>0</td>\n",
              "      <td>0</td>\n",
              "      <td>0</td>\n",
              "      <td>0</td>\n",
              "      <td>0</td>\n",
              "      <td>0</td>\n",
              "      <td>0</td>\n",
              "      <td>0</td>\n",
              "      <td>0</td>\n",
              "      <td>0</td>\n",
              "    </tr>\n",
              "    <tr>\n",
              "      <th>...</th>\n",
              "      <td>...</td>\n",
              "      <td>...</td>\n",
              "      <td>...</td>\n",
              "      <td>...</td>\n",
              "      <td>...</td>\n",
              "      <td>...</td>\n",
              "      <td>...</td>\n",
              "      <td>...</td>\n",
              "      <td>...</td>\n",
              "      <td>...</td>\n",
              "      <td>...</td>\n",
              "      <td>...</td>\n",
              "      <td>...</td>\n",
              "      <td>...</td>\n",
              "      <td>...</td>\n",
              "      <td>...</td>\n",
              "    </tr>\n",
              "    <tr>\n",
              "      <th>6531</th>\n",
              "      <td>1</td>\n",
              "      <td>0</td>\n",
              "      <td>0</td>\n",
              "      <td>0</td>\n",
              "      <td>0</td>\n",
              "      <td>0</td>\n",
              "      <td>0</td>\n",
              "      <td>0</td>\n",
              "      <td>0</td>\n",
              "      <td>0</td>\n",
              "      <td>0</td>\n",
              "      <td>0</td>\n",
              "      <td>0</td>\n",
              "      <td>0</td>\n",
              "      <td>0</td>\n",
              "      <td>0</td>\n",
              "    </tr>\n",
              "    <tr>\n",
              "      <th>6532</th>\n",
              "      <td>0</td>\n",
              "      <td>0</td>\n",
              "      <td>0</td>\n",
              "      <td>0</td>\n",
              "      <td>0</td>\n",
              "      <td>0</td>\n",
              "      <td>0</td>\n",
              "      <td>0</td>\n",
              "      <td>0</td>\n",
              "      <td>0</td>\n",
              "      <td>0</td>\n",
              "      <td>0</td>\n",
              "      <td>1</td>\n",
              "      <td>0</td>\n",
              "      <td>0</td>\n",
              "      <td>0</td>\n",
              "    </tr>\n",
              "    <tr>\n",
              "      <th>6533</th>\n",
              "      <td>1</td>\n",
              "      <td>0</td>\n",
              "      <td>0</td>\n",
              "      <td>0</td>\n",
              "      <td>0</td>\n",
              "      <td>0</td>\n",
              "      <td>0</td>\n",
              "      <td>0</td>\n",
              "      <td>0</td>\n",
              "      <td>0</td>\n",
              "      <td>0</td>\n",
              "      <td>0</td>\n",
              "      <td>0</td>\n",
              "      <td>0</td>\n",
              "      <td>0</td>\n",
              "      <td>0</td>\n",
              "    </tr>\n",
              "    <tr>\n",
              "      <th>6534</th>\n",
              "      <td>1</td>\n",
              "      <td>0</td>\n",
              "      <td>0</td>\n",
              "      <td>0</td>\n",
              "      <td>0</td>\n",
              "      <td>0</td>\n",
              "      <td>0</td>\n",
              "      <td>0</td>\n",
              "      <td>0</td>\n",
              "      <td>0</td>\n",
              "      <td>0</td>\n",
              "      <td>0</td>\n",
              "      <td>0</td>\n",
              "      <td>0</td>\n",
              "      <td>0</td>\n",
              "      <td>0</td>\n",
              "    </tr>\n",
              "    <tr>\n",
              "      <th>6535</th>\n",
              "      <td>1</td>\n",
              "      <td>0</td>\n",
              "      <td>0</td>\n",
              "      <td>0</td>\n",
              "      <td>0</td>\n",
              "      <td>0</td>\n",
              "      <td>0</td>\n",
              "      <td>0</td>\n",
              "      <td>0</td>\n",
              "      <td>0</td>\n",
              "      <td>0</td>\n",
              "      <td>0</td>\n",
              "      <td>0</td>\n",
              "      <td>0</td>\n",
              "      <td>0</td>\n",
              "      <td>0</td>\n",
              "    </tr>\n",
              "  </tbody>\n",
              "</table>\n",
              "<p>6536 rows × 16 columns</p>\n",
              "</div>\n",
              "      <button class=\"colab-df-convert\" onclick=\"convertToInteractive('df-903770ea-048b-4cce-b703-53de6e68b922')\"\n",
              "              title=\"Convert this dataframe to an interactive table.\"\n",
              "              style=\"display:none;\">\n",
              "        \n",
              "  <svg xmlns=\"http://www.w3.org/2000/svg\" height=\"24px\"viewBox=\"0 0 24 24\"\n",
              "       width=\"24px\">\n",
              "    <path d=\"M0 0h24v24H0V0z\" fill=\"none\"/>\n",
              "    <path d=\"M18.56 5.44l.94 2.06.94-2.06 2.06-.94-2.06-.94-.94-2.06-.94 2.06-2.06.94zm-11 1L8.5 8.5l.94-2.06 2.06-.94-2.06-.94L8.5 2.5l-.94 2.06-2.06.94zm10 10l.94 2.06.94-2.06 2.06-.94-2.06-.94-.94-2.06-.94 2.06-2.06.94z\"/><path d=\"M17.41 7.96l-1.37-1.37c-.4-.4-.92-.59-1.43-.59-.52 0-1.04.2-1.43.59L10.3 9.45l-7.72 7.72c-.78.78-.78 2.05 0 2.83L4 21.41c.39.39.9.59 1.41.59.51 0 1.02-.2 1.41-.59l7.78-7.78 2.81-2.81c.8-.78.8-2.07 0-2.86zM5.41 20L4 18.59l7.72-7.72 1.47 1.35L5.41 20z\"/>\n",
              "  </svg>\n",
              "      </button>\n",
              "      \n",
              "  <style>\n",
              "    .colab-df-container {\n",
              "      display:flex;\n",
              "      flex-wrap:wrap;\n",
              "      gap: 12px;\n",
              "    }\n",
              "\n",
              "    .colab-df-convert {\n",
              "      background-color: #E8F0FE;\n",
              "      border: none;\n",
              "      border-radius: 50%;\n",
              "      cursor: pointer;\n",
              "      display: none;\n",
              "      fill: #1967D2;\n",
              "      height: 32px;\n",
              "      padding: 0 0 0 0;\n",
              "      width: 32px;\n",
              "    }\n",
              "\n",
              "    .colab-df-convert:hover {\n",
              "      background-color: #E2EBFA;\n",
              "      box-shadow: 0px 1px 2px rgba(60, 64, 67, 0.3), 0px 1px 3px 1px rgba(60, 64, 67, 0.15);\n",
              "      fill: #174EA6;\n",
              "    }\n",
              "\n",
              "    [theme=dark] .colab-df-convert {\n",
              "      background-color: #3B4455;\n",
              "      fill: #D2E3FC;\n",
              "    }\n",
              "\n",
              "    [theme=dark] .colab-df-convert:hover {\n",
              "      background-color: #434B5C;\n",
              "      box-shadow: 0px 1px 3px 1px rgba(0, 0, 0, 0.15);\n",
              "      filter: drop-shadow(0px 1px 2px rgba(0, 0, 0, 0.3));\n",
              "      fill: #FFFFFF;\n",
              "    }\n",
              "  </style>\n",
              "\n",
              "      <script>\n",
              "        const buttonEl =\n",
              "          document.querySelector('#df-903770ea-048b-4cce-b703-53de6e68b922 button.colab-df-convert');\n",
              "        buttonEl.style.display =\n",
              "          google.colab.kernel.accessAllowed ? 'block' : 'none';\n",
              "\n",
              "        async function convertToInteractive(key) {\n",
              "          const element = document.querySelector('#df-903770ea-048b-4cce-b703-53de6e68b922');\n",
              "          const dataTable =\n",
              "            await google.colab.kernel.invokeFunction('convertToInteractive',\n",
              "                                                     [key], {});\n",
              "          if (!dataTable) return;\n",
              "\n",
              "          const docLinkHtml = 'Like what you see? Visit the ' +\n",
              "            '<a target=\"_blank\" href=https://colab.research.google.com/notebooks/data_table.ipynb>data table notebook</a>'\n",
              "            + ' to learn more about interactive tables.';\n",
              "          element.innerHTML = '';\n",
              "          dataTable['output_type'] = 'display_data';\n",
              "          await google.colab.output.renderOutput(dataTable, element);\n",
              "          const docLink = document.createElement('div');\n",
              "          docLink.innerHTML = docLinkHtml;\n",
              "          element.appendChild(docLink);\n",
              "        }\n",
              "      </script>\n",
              "    </div>\n",
              "  </div>\n",
              "  "
            ]
          },
          "metadata": {},
          "execution_count": 674
        }
      ],
      "source": [
        "#create a one hot encoding\n",
        "colours = list(article_colour.keys())\n",
        "for c in colours:\n",
        "    articles[c] = articles['perceived_colour_master_name'].transform(lambda x: int(c in x))\n",
        "articles[colours]"
      ]
    },
    {
      "cell_type": "markdown",
      "id": "9ba0de26",
      "metadata": {
        "id": "9ba0de26"
      },
      "source": [
        "We do the same for 'section name' and 'product_type_name'."
      ]
    },
    {
      "cell_type": "code",
      "execution_count": 675,
      "id": "416f8957",
      "metadata": {
        "colab": {
          "base_uri": "https://localhost:8080/",
          "height": 534
        },
        "id": "416f8957",
        "outputId": "9fc59e7b-bf20-40b9-9b7b-11b40163850f"
      },
      "outputs": [
        {
          "output_type": "execute_result",
          "data": {
            "text/plain": [
              "      Womens Nightwear, Socks & Tigh  Womens Small accessories  Men H&M Sport  \\\n",
              "0                                  1                         0              0   \n",
              "1                                  1                         0              0   \n",
              "2                                  1                         0              0   \n",
              "3                                  1                         0              0   \n",
              "4                                  1                         0              0   \n",
              "...                              ...                       ...            ...   \n",
              "6531                               0                         0              0   \n",
              "6532                               0                         0              0   \n",
              "6533                               1                         0              0   \n",
              "6534                               0                         0              0   \n",
              "6535                               0                         0              0   \n",
              "\n",
              "      Womens Lingerie  Womens Everyday Basics  Womens Big accessories  \\\n",
              "0                   0                       0                       0   \n",
              "1                   0                       0                       0   \n",
              "2                   0                       0                       0   \n",
              "3                   0                       0                       0   \n",
              "4                   0                       0                       0   \n",
              "...               ...                     ...                     ...   \n",
              "6531                0                       0                       0   \n",
              "6532                0                       0                       0   \n",
              "6533                0                       0                       0   \n",
              "6534                0                       0                       0   \n",
              "6535                0                       0                       0   \n",
              "\n",
              "      Divided Basics  Girls Underwear & Basics  H&M+  Mama  ...  Denim Men  \\\n",
              "0                  0                         0     0     0  ...          0   \n",
              "1                  0                         0     0     0  ...          0   \n",
              "2                  0                         0     0     0  ...          0   \n",
              "3                  0                         0     0     0  ...          0   \n",
              "4                  0                         0     0     0  ...          0   \n",
              "...              ...                       ...   ...   ...  ...        ...   \n",
              "6531               0                         0     0     0  ...          0   \n",
              "6532               0                         0     0     0  ...          0   \n",
              "6533               0                         0     0     0  ...          0   \n",
              "6534               0                         0     1     0  ...          0   \n",
              "6535               0                         0     0     0  ...          0   \n",
              "\n",
              "      Divided Asia keys  Divided Projects  Divided Accessories  Kids Girl  \\\n",
              "0                     0                 0                    0          0   \n",
              "1                     0                 0                    0          0   \n",
              "2                     0                 0                    0          0   \n",
              "3                     0                 0                    0          0   \n",
              "4                     0                 0                    0          0   \n",
              "...                 ...               ...                  ...        ...   \n",
              "6531                  0                 0                    0          0   \n",
              "6532                  0                 0                    0          0   \n",
              "6533                  0                 0                    0          0   \n",
              "6534                  0                 0                    0          0   \n",
              "6535                  0                 0                    0          0   \n",
              "\n",
              "      Young Girl  Baby Boy  Divided Complements Other  Kids Sports  Baby Girl  \n",
              "0              0         0                          0            0          0  \n",
              "1              0         0                          0            0          0  \n",
              "2              0         0                          0            0          0  \n",
              "3              0         0                          0            0          0  \n",
              "4              0         0                          0            0          0  \n",
              "...          ...       ...                        ...          ...        ...  \n",
              "6531           0         0                          0            0          0  \n",
              "6532           0         0                          0            0          0  \n",
              "6533           0         0                          0            0          0  \n",
              "6534           0         0                          0            0          0  \n",
              "6535           0         0                          0            0          0  \n",
              "\n",
              "[6536 rows x 43 columns]"
            ],
            "text/html": [
              "\n",
              "  <div id=\"df-53978a52-5fd1-4df5-b38e-bd6370a7e4c9\">\n",
              "    <div class=\"colab-df-container\">\n",
              "      <div>\n",
              "<style scoped>\n",
              "    .dataframe tbody tr th:only-of-type {\n",
              "        vertical-align: middle;\n",
              "    }\n",
              "\n",
              "    .dataframe tbody tr th {\n",
              "        vertical-align: top;\n",
              "    }\n",
              "\n",
              "    .dataframe thead th {\n",
              "        text-align: right;\n",
              "    }\n",
              "</style>\n",
              "<table border=\"1\" class=\"dataframe\">\n",
              "  <thead>\n",
              "    <tr style=\"text-align: right;\">\n",
              "      <th></th>\n",
              "      <th>Womens Nightwear, Socks &amp; Tigh</th>\n",
              "      <th>Womens Small accessories</th>\n",
              "      <th>Men H&amp;M Sport</th>\n",
              "      <th>Womens Lingerie</th>\n",
              "      <th>Womens Everyday Basics</th>\n",
              "      <th>Womens Big accessories</th>\n",
              "      <th>Divided Basics</th>\n",
              "      <th>Girls Underwear &amp; Basics</th>\n",
              "      <th>H&amp;M+</th>\n",
              "      <th>Mama</th>\n",
              "      <th>...</th>\n",
              "      <th>Denim Men</th>\n",
              "      <th>Divided Asia keys</th>\n",
              "      <th>Divided Projects</th>\n",
              "      <th>Divided Accessories</th>\n",
              "      <th>Kids Girl</th>\n",
              "      <th>Young Girl</th>\n",
              "      <th>Baby Boy</th>\n",
              "      <th>Divided Complements Other</th>\n",
              "      <th>Kids Sports</th>\n",
              "      <th>Baby Girl</th>\n",
              "    </tr>\n",
              "  </thead>\n",
              "  <tbody>\n",
              "    <tr>\n",
              "      <th>0</th>\n",
              "      <td>1</td>\n",
              "      <td>0</td>\n",
              "      <td>0</td>\n",
              "      <td>0</td>\n",
              "      <td>0</td>\n",
              "      <td>0</td>\n",
              "      <td>0</td>\n",
              "      <td>0</td>\n",
              "      <td>0</td>\n",
              "      <td>0</td>\n",
              "      <td>...</td>\n",
              "      <td>0</td>\n",
              "      <td>0</td>\n",
              "      <td>0</td>\n",
              "      <td>0</td>\n",
              "      <td>0</td>\n",
              "      <td>0</td>\n",
              "      <td>0</td>\n",
              "      <td>0</td>\n",
              "      <td>0</td>\n",
              "      <td>0</td>\n",
              "    </tr>\n",
              "    <tr>\n",
              "      <th>1</th>\n",
              "      <td>1</td>\n",
              "      <td>0</td>\n",
              "      <td>0</td>\n",
              "      <td>0</td>\n",
              "      <td>0</td>\n",
              "      <td>0</td>\n",
              "      <td>0</td>\n",
              "      <td>0</td>\n",
              "      <td>0</td>\n",
              "      <td>0</td>\n",
              "      <td>...</td>\n",
              "      <td>0</td>\n",
              "      <td>0</td>\n",
              "      <td>0</td>\n",
              "      <td>0</td>\n",
              "      <td>0</td>\n",
              "      <td>0</td>\n",
              "      <td>0</td>\n",
              "      <td>0</td>\n",
              "      <td>0</td>\n",
              "      <td>0</td>\n",
              "    </tr>\n",
              "    <tr>\n",
              "      <th>2</th>\n",
              "      <td>1</td>\n",
              "      <td>0</td>\n",
              "      <td>0</td>\n",
              "      <td>0</td>\n",
              "      <td>0</td>\n",
              "      <td>0</td>\n",
              "      <td>0</td>\n",
              "      <td>0</td>\n",
              "      <td>0</td>\n",
              "      <td>0</td>\n",
              "      <td>...</td>\n",
              "      <td>0</td>\n",
              "      <td>0</td>\n",
              "      <td>0</td>\n",
              "      <td>0</td>\n",
              "      <td>0</td>\n",
              "      <td>0</td>\n",
              "      <td>0</td>\n",
              "      <td>0</td>\n",
              "      <td>0</td>\n",
              "      <td>0</td>\n",
              "    </tr>\n",
              "    <tr>\n",
              "      <th>3</th>\n",
              "      <td>1</td>\n",
              "      <td>0</td>\n",
              "      <td>0</td>\n",
              "      <td>0</td>\n",
              "      <td>0</td>\n",
              "      <td>0</td>\n",
              "      <td>0</td>\n",
              "      <td>0</td>\n",
              "      <td>0</td>\n",
              "      <td>0</td>\n",
              "      <td>...</td>\n",
              "      <td>0</td>\n",
              "      <td>0</td>\n",
              "      <td>0</td>\n",
              "      <td>0</td>\n",
              "      <td>0</td>\n",
              "      <td>0</td>\n",
              "      <td>0</td>\n",
              "      <td>0</td>\n",
              "      <td>0</td>\n",
              "      <td>0</td>\n",
              "    </tr>\n",
              "    <tr>\n",
              "      <th>4</th>\n",
              "      <td>1</td>\n",
              "      <td>0</td>\n",
              "      <td>0</td>\n",
              "      <td>0</td>\n",
              "      <td>0</td>\n",
              "      <td>0</td>\n",
              "      <td>0</td>\n",
              "      <td>0</td>\n",
              "      <td>0</td>\n",
              "      <td>0</td>\n",
              "      <td>...</td>\n",
              "      <td>0</td>\n",
              "      <td>0</td>\n",
              "      <td>0</td>\n",
              "      <td>0</td>\n",
              "      <td>0</td>\n",
              "      <td>0</td>\n",
              "      <td>0</td>\n",
              "      <td>0</td>\n",
              "      <td>0</td>\n",
              "      <td>0</td>\n",
              "    </tr>\n",
              "    <tr>\n",
              "      <th>...</th>\n",
              "      <td>...</td>\n",
              "      <td>...</td>\n",
              "      <td>...</td>\n",
              "      <td>...</td>\n",
              "      <td>...</td>\n",
              "      <td>...</td>\n",
              "      <td>...</td>\n",
              "      <td>...</td>\n",
              "      <td>...</td>\n",
              "      <td>...</td>\n",
              "      <td>...</td>\n",
              "      <td>...</td>\n",
              "      <td>...</td>\n",
              "      <td>...</td>\n",
              "      <td>...</td>\n",
              "      <td>...</td>\n",
              "      <td>...</td>\n",
              "      <td>...</td>\n",
              "      <td>...</td>\n",
              "      <td>...</td>\n",
              "      <td>...</td>\n",
              "    </tr>\n",
              "    <tr>\n",
              "      <th>6531</th>\n",
              "      <td>0</td>\n",
              "      <td>0</td>\n",
              "      <td>0</td>\n",
              "      <td>0</td>\n",
              "      <td>0</td>\n",
              "      <td>0</td>\n",
              "      <td>0</td>\n",
              "      <td>0</td>\n",
              "      <td>0</td>\n",
              "      <td>0</td>\n",
              "      <td>...</td>\n",
              "      <td>0</td>\n",
              "      <td>0</td>\n",
              "      <td>0</td>\n",
              "      <td>0</td>\n",
              "      <td>0</td>\n",
              "      <td>0</td>\n",
              "      <td>0</td>\n",
              "      <td>0</td>\n",
              "      <td>0</td>\n",
              "      <td>0</td>\n",
              "    </tr>\n",
              "    <tr>\n",
              "      <th>6532</th>\n",
              "      <td>0</td>\n",
              "      <td>0</td>\n",
              "      <td>0</td>\n",
              "      <td>0</td>\n",
              "      <td>0</td>\n",
              "      <td>0</td>\n",
              "      <td>0</td>\n",
              "      <td>0</td>\n",
              "      <td>0</td>\n",
              "      <td>0</td>\n",
              "      <td>...</td>\n",
              "      <td>0</td>\n",
              "      <td>0</td>\n",
              "      <td>0</td>\n",
              "      <td>0</td>\n",
              "      <td>0</td>\n",
              "      <td>0</td>\n",
              "      <td>0</td>\n",
              "      <td>0</td>\n",
              "      <td>0</td>\n",
              "      <td>0</td>\n",
              "    </tr>\n",
              "    <tr>\n",
              "      <th>6533</th>\n",
              "      <td>1</td>\n",
              "      <td>0</td>\n",
              "      <td>0</td>\n",
              "      <td>0</td>\n",
              "      <td>0</td>\n",
              "      <td>0</td>\n",
              "      <td>0</td>\n",
              "      <td>0</td>\n",
              "      <td>0</td>\n",
              "      <td>0</td>\n",
              "      <td>...</td>\n",
              "      <td>0</td>\n",
              "      <td>0</td>\n",
              "      <td>0</td>\n",
              "      <td>0</td>\n",
              "      <td>0</td>\n",
              "      <td>0</td>\n",
              "      <td>0</td>\n",
              "      <td>0</td>\n",
              "      <td>0</td>\n",
              "      <td>0</td>\n",
              "    </tr>\n",
              "    <tr>\n",
              "      <th>6534</th>\n",
              "      <td>0</td>\n",
              "      <td>0</td>\n",
              "      <td>0</td>\n",
              "      <td>0</td>\n",
              "      <td>0</td>\n",
              "      <td>0</td>\n",
              "      <td>0</td>\n",
              "      <td>0</td>\n",
              "      <td>1</td>\n",
              "      <td>0</td>\n",
              "      <td>...</td>\n",
              "      <td>0</td>\n",
              "      <td>0</td>\n",
              "      <td>0</td>\n",
              "      <td>0</td>\n",
              "      <td>0</td>\n",
              "      <td>0</td>\n",
              "      <td>0</td>\n",
              "      <td>0</td>\n",
              "      <td>0</td>\n",
              "      <td>0</td>\n",
              "    </tr>\n",
              "    <tr>\n",
              "      <th>6535</th>\n",
              "      <td>0</td>\n",
              "      <td>0</td>\n",
              "      <td>0</td>\n",
              "      <td>0</td>\n",
              "      <td>0</td>\n",
              "      <td>0</td>\n",
              "      <td>0</td>\n",
              "      <td>0</td>\n",
              "      <td>0</td>\n",
              "      <td>0</td>\n",
              "      <td>...</td>\n",
              "      <td>0</td>\n",
              "      <td>0</td>\n",
              "      <td>0</td>\n",
              "      <td>0</td>\n",
              "      <td>0</td>\n",
              "      <td>0</td>\n",
              "      <td>0</td>\n",
              "      <td>0</td>\n",
              "      <td>0</td>\n",
              "      <td>0</td>\n",
              "    </tr>\n",
              "  </tbody>\n",
              "</table>\n",
              "<p>6536 rows × 43 columns</p>\n",
              "</div>\n",
              "      <button class=\"colab-df-convert\" onclick=\"convertToInteractive('df-53978a52-5fd1-4df5-b38e-bd6370a7e4c9')\"\n",
              "              title=\"Convert this dataframe to an interactive table.\"\n",
              "              style=\"display:none;\">\n",
              "        \n",
              "  <svg xmlns=\"http://www.w3.org/2000/svg\" height=\"24px\"viewBox=\"0 0 24 24\"\n",
              "       width=\"24px\">\n",
              "    <path d=\"M0 0h24v24H0V0z\" fill=\"none\"/>\n",
              "    <path d=\"M18.56 5.44l.94 2.06.94-2.06 2.06-.94-2.06-.94-.94-2.06-.94 2.06-2.06.94zm-11 1L8.5 8.5l.94-2.06 2.06-.94-2.06-.94L8.5 2.5l-.94 2.06-2.06.94zm10 10l.94 2.06.94-2.06 2.06-.94-2.06-.94-.94-2.06-.94 2.06-2.06.94z\"/><path d=\"M17.41 7.96l-1.37-1.37c-.4-.4-.92-.59-1.43-.59-.52 0-1.04.2-1.43.59L10.3 9.45l-7.72 7.72c-.78.78-.78 2.05 0 2.83L4 21.41c.39.39.9.59 1.41.59.51 0 1.02-.2 1.41-.59l7.78-7.78 2.81-2.81c.8-.78.8-2.07 0-2.86zM5.41 20L4 18.59l7.72-7.72 1.47 1.35L5.41 20z\"/>\n",
              "  </svg>\n",
              "      </button>\n",
              "      \n",
              "  <style>\n",
              "    .colab-df-container {\n",
              "      display:flex;\n",
              "      flex-wrap:wrap;\n",
              "      gap: 12px;\n",
              "    }\n",
              "\n",
              "    .colab-df-convert {\n",
              "      background-color: #E8F0FE;\n",
              "      border: none;\n",
              "      border-radius: 50%;\n",
              "      cursor: pointer;\n",
              "      display: none;\n",
              "      fill: #1967D2;\n",
              "      height: 32px;\n",
              "      padding: 0 0 0 0;\n",
              "      width: 32px;\n",
              "    }\n",
              "\n",
              "    .colab-df-convert:hover {\n",
              "      background-color: #E2EBFA;\n",
              "      box-shadow: 0px 1px 2px rgba(60, 64, 67, 0.3), 0px 1px 3px 1px rgba(60, 64, 67, 0.15);\n",
              "      fill: #174EA6;\n",
              "    }\n",
              "\n",
              "    [theme=dark] .colab-df-convert {\n",
              "      background-color: #3B4455;\n",
              "      fill: #D2E3FC;\n",
              "    }\n",
              "\n",
              "    [theme=dark] .colab-df-convert:hover {\n",
              "      background-color: #434B5C;\n",
              "      box-shadow: 0px 1px 3px 1px rgba(0, 0, 0, 0.15);\n",
              "      filter: drop-shadow(0px 1px 2px rgba(0, 0, 0, 0.3));\n",
              "      fill: #FFFFFF;\n",
              "    }\n",
              "  </style>\n",
              "\n",
              "      <script>\n",
              "        const buttonEl =\n",
              "          document.querySelector('#df-53978a52-5fd1-4df5-b38e-bd6370a7e4c9 button.colab-df-convert');\n",
              "        buttonEl.style.display =\n",
              "          google.colab.kernel.accessAllowed ? 'block' : 'none';\n",
              "\n",
              "        async function convertToInteractive(key) {\n",
              "          const element = document.querySelector('#df-53978a52-5fd1-4df5-b38e-bd6370a7e4c9');\n",
              "          const dataTable =\n",
              "            await google.colab.kernel.invokeFunction('convertToInteractive',\n",
              "                                                     [key], {});\n",
              "          if (!dataTable) return;\n",
              "\n",
              "          const docLinkHtml = 'Like what you see? Visit the ' +\n",
              "            '<a target=\"_blank\" href=https://colab.research.google.com/notebooks/data_table.ipynb>data table notebook</a>'\n",
              "            + ' to learn more about interactive tables.';\n",
              "          element.innerHTML = '';\n",
              "          dataTable['output_type'] = 'display_data';\n",
              "          await google.colab.output.renderOutput(dataTable, element);\n",
              "          const docLink = document.createElement('div');\n",
              "          docLink.innerHTML = docLinkHtml;\n",
              "          element.appendChild(docLink);\n",
              "        }\n",
              "      </script>\n",
              "    </div>\n",
              "  </div>\n",
              "  "
            ]
          },
          "metadata": {},
          "execution_count": 675
        }
      ],
      "source": [
        "section_count = Counter(articles['section_name'])\n",
        "sections = list(section_count.keys())\n",
        "for s in sections:\n",
        "    articles[s] = articles['section_name'].transform(lambda x: int(s in x))\n",
        "articles[sections]"
      ]
    },
    {
      "cell_type": "code",
      "execution_count": 676,
      "id": "df5e9b6a",
      "metadata": {
        "colab": {
          "base_uri": "https://localhost:8080/",
          "height": 500
        },
        "id": "df5e9b6a",
        "outputId": "06a94e1f-04f2-4452-d87e-5e0c842f170d"
      },
      "outputs": [
        {
          "output_type": "execute_result",
          "data": {
            "text/plain": [
              "      Underwear Tights  Leggings/Tights  Umbrella  Sweater  Bra  Socks  \\\n",
              "0                    1                0         0        0    0      0   \n",
              "1                    0                1         0        0    0      0   \n",
              "2                    1                0         0        0    0      0   \n",
              "3                    1                0         0        0    0      0   \n",
              "4                    0                1         0        0    0      0   \n",
              "...                ...              ...       ...      ...  ...    ...   \n",
              "6531                 0                0         0        1    0      0   \n",
              "6532                 0                0         0        1    0      0   \n",
              "6533                 1                0         0        0    0      0   \n",
              "6534                 0                0         0        0    0      0   \n",
              "6535                 0                0         0        0    0      0   \n",
              "\n",
              "      Unknown  Belt  Hair clip  Hair string  ...  Wallet  Sandals  \\\n",
              "0           0     0          0            0  ...       0        0   \n",
              "1           0     0          0            0  ...       0        0   \n",
              "2           0     0          0            0  ...       0        0   \n",
              "3           0     0          0            0  ...       0        0   \n",
              "4           0     0          0            0  ...       0        0   \n",
              "...       ...   ...        ...          ...  ...     ...      ...   \n",
              "6531        0     0          0            0  ...       0        0   \n",
              "6532        0     0          0            0  ...       0        0   \n",
              "6533        0     0          0            0  ...       0        0   \n",
              "6534        0     0          0            0  ...       0        0   \n",
              "6535        0     0          0            0  ...       0        0   \n",
              "\n",
              "      Garment Set  Outdoor Waistcoat  Heels  Other shoe  Hairband  Flat shoes  \\\n",
              "0               0                  0      0           0         0           0   \n",
              "1               0                  0      0           0         0           0   \n",
              "2               0                  0      0           0         0           0   \n",
              "3               0                  0      0           0         0           0   \n",
              "4               0                  0      0           0         0           0   \n",
              "...           ...                ...    ...         ...       ...         ...   \n",
              "6531            0                  0      0           0         0           0   \n",
              "6532            0                  0      0           0         0           0   \n",
              "6533            0                  0      0           0         0           0   \n",
              "6534            0                  0      0           0         0           0   \n",
              "6535            0                  0      0           0         0           0   \n",
              "\n",
              "      Dog wear  Bracelet  \n",
              "0            0         0  \n",
              "1            0         0  \n",
              "2            0         0  \n",
              "3            0         0  \n",
              "4            0         0  \n",
              "...        ...       ...  \n",
              "6531         0         0  \n",
              "6532         0         0  \n",
              "6533         0         0  \n",
              "6534         0         0  \n",
              "6535         0         0  \n",
              "\n",
              "[6536 rows x 82 columns]"
            ],
            "text/html": [
              "\n",
              "  <div id=\"df-e296d02b-faa3-4171-abd7-aec527b92f26\">\n",
              "    <div class=\"colab-df-container\">\n",
              "      <div>\n",
              "<style scoped>\n",
              "    .dataframe tbody tr th:only-of-type {\n",
              "        vertical-align: middle;\n",
              "    }\n",
              "\n",
              "    .dataframe tbody tr th {\n",
              "        vertical-align: top;\n",
              "    }\n",
              "\n",
              "    .dataframe thead th {\n",
              "        text-align: right;\n",
              "    }\n",
              "</style>\n",
              "<table border=\"1\" class=\"dataframe\">\n",
              "  <thead>\n",
              "    <tr style=\"text-align: right;\">\n",
              "      <th></th>\n",
              "      <th>Underwear Tights</th>\n",
              "      <th>Leggings/Tights</th>\n",
              "      <th>Umbrella</th>\n",
              "      <th>Sweater</th>\n",
              "      <th>Bra</th>\n",
              "      <th>Socks</th>\n",
              "      <th>Unknown</th>\n",
              "      <th>Belt</th>\n",
              "      <th>Hair clip</th>\n",
              "      <th>Hair string</th>\n",
              "      <th>...</th>\n",
              "      <th>Wallet</th>\n",
              "      <th>Sandals</th>\n",
              "      <th>Garment Set</th>\n",
              "      <th>Outdoor Waistcoat</th>\n",
              "      <th>Heels</th>\n",
              "      <th>Other shoe</th>\n",
              "      <th>Hairband</th>\n",
              "      <th>Flat shoes</th>\n",
              "      <th>Dog wear</th>\n",
              "      <th>Bracelet</th>\n",
              "    </tr>\n",
              "  </thead>\n",
              "  <tbody>\n",
              "    <tr>\n",
              "      <th>0</th>\n",
              "      <td>1</td>\n",
              "      <td>0</td>\n",
              "      <td>0</td>\n",
              "      <td>0</td>\n",
              "      <td>0</td>\n",
              "      <td>0</td>\n",
              "      <td>0</td>\n",
              "      <td>0</td>\n",
              "      <td>0</td>\n",
              "      <td>0</td>\n",
              "      <td>...</td>\n",
              "      <td>0</td>\n",
              "      <td>0</td>\n",
              "      <td>0</td>\n",
              "      <td>0</td>\n",
              "      <td>0</td>\n",
              "      <td>0</td>\n",
              "      <td>0</td>\n",
              "      <td>0</td>\n",
              "      <td>0</td>\n",
              "      <td>0</td>\n",
              "    </tr>\n",
              "    <tr>\n",
              "      <th>1</th>\n",
              "      <td>0</td>\n",
              "      <td>1</td>\n",
              "      <td>0</td>\n",
              "      <td>0</td>\n",
              "      <td>0</td>\n",
              "      <td>0</td>\n",
              "      <td>0</td>\n",
              "      <td>0</td>\n",
              "      <td>0</td>\n",
              "      <td>0</td>\n",
              "      <td>...</td>\n",
              "      <td>0</td>\n",
              "      <td>0</td>\n",
              "      <td>0</td>\n",
              "      <td>0</td>\n",
              "      <td>0</td>\n",
              "      <td>0</td>\n",
              "      <td>0</td>\n",
              "      <td>0</td>\n",
              "      <td>0</td>\n",
              "      <td>0</td>\n",
              "    </tr>\n",
              "    <tr>\n",
              "      <th>2</th>\n",
              "      <td>1</td>\n",
              "      <td>0</td>\n",
              "      <td>0</td>\n",
              "      <td>0</td>\n",
              "      <td>0</td>\n",
              "      <td>0</td>\n",
              "      <td>0</td>\n",
              "      <td>0</td>\n",
              "      <td>0</td>\n",
              "      <td>0</td>\n",
              "      <td>...</td>\n",
              "      <td>0</td>\n",
              "      <td>0</td>\n",
              "      <td>0</td>\n",
              "      <td>0</td>\n",
              "      <td>0</td>\n",
              "      <td>0</td>\n",
              "      <td>0</td>\n",
              "      <td>0</td>\n",
              "      <td>0</td>\n",
              "      <td>0</td>\n",
              "    </tr>\n",
              "    <tr>\n",
              "      <th>3</th>\n",
              "      <td>1</td>\n",
              "      <td>0</td>\n",
              "      <td>0</td>\n",
              "      <td>0</td>\n",
              "      <td>0</td>\n",
              "      <td>0</td>\n",
              "      <td>0</td>\n",
              "      <td>0</td>\n",
              "      <td>0</td>\n",
              "      <td>0</td>\n",
              "      <td>...</td>\n",
              "      <td>0</td>\n",
              "      <td>0</td>\n",
              "      <td>0</td>\n",
              "      <td>0</td>\n",
              "      <td>0</td>\n",
              "      <td>0</td>\n",
              "      <td>0</td>\n",
              "      <td>0</td>\n",
              "      <td>0</td>\n",
              "      <td>0</td>\n",
              "    </tr>\n",
              "    <tr>\n",
              "      <th>4</th>\n",
              "      <td>0</td>\n",
              "      <td>1</td>\n",
              "      <td>0</td>\n",
              "      <td>0</td>\n",
              "      <td>0</td>\n",
              "      <td>0</td>\n",
              "      <td>0</td>\n",
              "      <td>0</td>\n",
              "      <td>0</td>\n",
              "      <td>0</td>\n",
              "      <td>...</td>\n",
              "      <td>0</td>\n",
              "      <td>0</td>\n",
              "      <td>0</td>\n",
              "      <td>0</td>\n",
              "      <td>0</td>\n",
              "      <td>0</td>\n",
              "      <td>0</td>\n",
              "      <td>0</td>\n",
              "      <td>0</td>\n",
              "      <td>0</td>\n",
              "    </tr>\n",
              "    <tr>\n",
              "      <th>...</th>\n",
              "      <td>...</td>\n",
              "      <td>...</td>\n",
              "      <td>...</td>\n",
              "      <td>...</td>\n",
              "      <td>...</td>\n",
              "      <td>...</td>\n",
              "      <td>...</td>\n",
              "      <td>...</td>\n",
              "      <td>...</td>\n",
              "      <td>...</td>\n",
              "      <td>...</td>\n",
              "      <td>...</td>\n",
              "      <td>...</td>\n",
              "      <td>...</td>\n",
              "      <td>...</td>\n",
              "      <td>...</td>\n",
              "      <td>...</td>\n",
              "      <td>...</td>\n",
              "      <td>...</td>\n",
              "      <td>...</td>\n",
              "      <td>...</td>\n",
              "    </tr>\n",
              "    <tr>\n",
              "      <th>6531</th>\n",
              "      <td>0</td>\n",
              "      <td>0</td>\n",
              "      <td>0</td>\n",
              "      <td>1</td>\n",
              "      <td>0</td>\n",
              "      <td>0</td>\n",
              "      <td>0</td>\n",
              "      <td>0</td>\n",
              "      <td>0</td>\n",
              "      <td>0</td>\n",
              "      <td>...</td>\n",
              "      <td>0</td>\n",
              "      <td>0</td>\n",
              "      <td>0</td>\n",
              "      <td>0</td>\n",
              "      <td>0</td>\n",
              "      <td>0</td>\n",
              "      <td>0</td>\n",
              "      <td>0</td>\n",
              "      <td>0</td>\n",
              "      <td>0</td>\n",
              "    </tr>\n",
              "    <tr>\n",
              "      <th>6532</th>\n",
              "      <td>0</td>\n",
              "      <td>0</td>\n",
              "      <td>0</td>\n",
              "      <td>1</td>\n",
              "      <td>0</td>\n",
              "      <td>0</td>\n",
              "      <td>0</td>\n",
              "      <td>0</td>\n",
              "      <td>0</td>\n",
              "      <td>0</td>\n",
              "      <td>...</td>\n",
              "      <td>0</td>\n",
              "      <td>0</td>\n",
              "      <td>0</td>\n",
              "      <td>0</td>\n",
              "      <td>0</td>\n",
              "      <td>0</td>\n",
              "      <td>0</td>\n",
              "      <td>0</td>\n",
              "      <td>0</td>\n",
              "      <td>0</td>\n",
              "    </tr>\n",
              "    <tr>\n",
              "      <th>6533</th>\n",
              "      <td>1</td>\n",
              "      <td>0</td>\n",
              "      <td>0</td>\n",
              "      <td>0</td>\n",
              "      <td>0</td>\n",
              "      <td>0</td>\n",
              "      <td>0</td>\n",
              "      <td>0</td>\n",
              "      <td>0</td>\n",
              "      <td>0</td>\n",
              "      <td>...</td>\n",
              "      <td>0</td>\n",
              "      <td>0</td>\n",
              "      <td>0</td>\n",
              "      <td>0</td>\n",
              "      <td>0</td>\n",
              "      <td>0</td>\n",
              "      <td>0</td>\n",
              "      <td>0</td>\n",
              "      <td>0</td>\n",
              "      <td>0</td>\n",
              "    </tr>\n",
              "    <tr>\n",
              "      <th>6534</th>\n",
              "      <td>0</td>\n",
              "      <td>0</td>\n",
              "      <td>0</td>\n",
              "      <td>0</td>\n",
              "      <td>0</td>\n",
              "      <td>0</td>\n",
              "      <td>0</td>\n",
              "      <td>0</td>\n",
              "      <td>0</td>\n",
              "      <td>0</td>\n",
              "      <td>...</td>\n",
              "      <td>0</td>\n",
              "      <td>0</td>\n",
              "      <td>0</td>\n",
              "      <td>0</td>\n",
              "      <td>0</td>\n",
              "      <td>0</td>\n",
              "      <td>0</td>\n",
              "      <td>0</td>\n",
              "      <td>0</td>\n",
              "      <td>0</td>\n",
              "    </tr>\n",
              "    <tr>\n",
              "      <th>6535</th>\n",
              "      <td>0</td>\n",
              "      <td>0</td>\n",
              "      <td>0</td>\n",
              "      <td>0</td>\n",
              "      <td>0</td>\n",
              "      <td>0</td>\n",
              "      <td>0</td>\n",
              "      <td>0</td>\n",
              "      <td>0</td>\n",
              "      <td>0</td>\n",
              "      <td>...</td>\n",
              "      <td>0</td>\n",
              "      <td>0</td>\n",
              "      <td>0</td>\n",
              "      <td>0</td>\n",
              "      <td>0</td>\n",
              "      <td>0</td>\n",
              "      <td>0</td>\n",
              "      <td>0</td>\n",
              "      <td>0</td>\n",
              "      <td>0</td>\n",
              "    </tr>\n",
              "  </tbody>\n",
              "</table>\n",
              "<p>6536 rows × 82 columns</p>\n",
              "</div>\n",
              "      <button class=\"colab-df-convert\" onclick=\"convertToInteractive('df-e296d02b-faa3-4171-abd7-aec527b92f26')\"\n",
              "              title=\"Convert this dataframe to an interactive table.\"\n",
              "              style=\"display:none;\">\n",
              "        \n",
              "  <svg xmlns=\"http://www.w3.org/2000/svg\" height=\"24px\"viewBox=\"0 0 24 24\"\n",
              "       width=\"24px\">\n",
              "    <path d=\"M0 0h24v24H0V0z\" fill=\"none\"/>\n",
              "    <path d=\"M18.56 5.44l.94 2.06.94-2.06 2.06-.94-2.06-.94-.94-2.06-.94 2.06-2.06.94zm-11 1L8.5 8.5l.94-2.06 2.06-.94-2.06-.94L8.5 2.5l-.94 2.06-2.06.94zm10 10l.94 2.06.94-2.06 2.06-.94-2.06-.94-.94-2.06-.94 2.06-2.06.94z\"/><path d=\"M17.41 7.96l-1.37-1.37c-.4-.4-.92-.59-1.43-.59-.52 0-1.04.2-1.43.59L10.3 9.45l-7.72 7.72c-.78.78-.78 2.05 0 2.83L4 21.41c.39.39.9.59 1.41.59.51 0 1.02-.2 1.41-.59l7.78-7.78 2.81-2.81c.8-.78.8-2.07 0-2.86zM5.41 20L4 18.59l7.72-7.72 1.47 1.35L5.41 20z\"/>\n",
              "  </svg>\n",
              "      </button>\n",
              "      \n",
              "  <style>\n",
              "    .colab-df-container {\n",
              "      display:flex;\n",
              "      flex-wrap:wrap;\n",
              "      gap: 12px;\n",
              "    }\n",
              "\n",
              "    .colab-df-convert {\n",
              "      background-color: #E8F0FE;\n",
              "      border: none;\n",
              "      border-radius: 50%;\n",
              "      cursor: pointer;\n",
              "      display: none;\n",
              "      fill: #1967D2;\n",
              "      height: 32px;\n",
              "      padding: 0 0 0 0;\n",
              "      width: 32px;\n",
              "    }\n",
              "\n",
              "    .colab-df-convert:hover {\n",
              "      background-color: #E2EBFA;\n",
              "      box-shadow: 0px 1px 2px rgba(60, 64, 67, 0.3), 0px 1px 3px 1px rgba(60, 64, 67, 0.15);\n",
              "      fill: #174EA6;\n",
              "    }\n",
              "\n",
              "    [theme=dark] .colab-df-convert {\n",
              "      background-color: #3B4455;\n",
              "      fill: #D2E3FC;\n",
              "    }\n",
              "\n",
              "    [theme=dark] .colab-df-convert:hover {\n",
              "      background-color: #434B5C;\n",
              "      box-shadow: 0px 1px 3px 1px rgba(0, 0, 0, 0.15);\n",
              "      filter: drop-shadow(0px 1px 2px rgba(0, 0, 0, 0.3));\n",
              "      fill: #FFFFFF;\n",
              "    }\n",
              "  </style>\n",
              "\n",
              "      <script>\n",
              "        const buttonEl =\n",
              "          document.querySelector('#df-e296d02b-faa3-4171-abd7-aec527b92f26 button.colab-df-convert');\n",
              "        buttonEl.style.display =\n",
              "          google.colab.kernel.accessAllowed ? 'block' : 'none';\n",
              "\n",
              "        async function convertToInteractive(key) {\n",
              "          const element = document.querySelector('#df-e296d02b-faa3-4171-abd7-aec527b92f26');\n",
              "          const dataTable =\n",
              "            await google.colab.kernel.invokeFunction('convertToInteractive',\n",
              "                                                     [key], {});\n",
              "          if (!dataTable) return;\n",
              "\n",
              "          const docLinkHtml = 'Like what you see? Visit the ' +\n",
              "            '<a target=\"_blank\" href=https://colab.research.google.com/notebooks/data_table.ipynb>data table notebook</a>'\n",
              "            + ' to learn more about interactive tables.';\n",
              "          element.innerHTML = '';\n",
              "          dataTable['output_type'] = 'display_data';\n",
              "          await google.colab.output.renderOutput(dataTable, element);\n",
              "          const docLink = document.createElement('div');\n",
              "          docLink.innerHTML = docLinkHtml;\n",
              "          element.appendChild(docLink);\n",
              "        }\n",
              "      </script>\n",
              "    </div>\n",
              "  </div>\n",
              "  "
            ]
          },
          "metadata": {},
          "execution_count": 676
        }
      ],
      "source": [
        "type_article_count = Counter(articles['product_type_name'])\n",
        "types = list(type_article_count.keys())\n",
        "for t in types:\n",
        "    articles[t] = articles['product_type_name'].transform(lambda x: int(t in x))\n",
        "articles[types]"
      ]
    },
    {
      "cell_type": "markdown",
      "id": "02051123",
      "metadata": {
        "id": "02051123"
      },
      "source": [
        "In the following passage, we merge all the information into a unique dataframe."
      ]
    },
    {
      "cell_type": "code",
      "execution_count": 677,
      "id": "c214caf1",
      "metadata": {
        "colab": {
          "base_uri": "https://localhost:8080/",
          "height": 314
        },
        "id": "c214caf1",
        "outputId": "6500c664-69a3-49fe-9d3f-2c7e1c4f7bfc"
      },
      "outputs": [
        {
          "output_type": "execute_result",
          "data": {
            "text/plain": [
              "   Black  Blue  Grey  Beige  White  Brown  Mole  Khaki green  Red  Metal  ...  \\\n",
              "0      1     0     0      0      0      0     0            0    0      0  ...   \n",
              "1      1     0     0      0      0      0     0            0    0      0  ...   \n",
              "2      1     0     0      0      0      0     0            0    0      0  ...   \n",
              "3      1     0     0      0      0      0     0            0    0      0  ...   \n",
              "4      1     0     0      0      0      0     0            0    0      0  ...   \n",
              "\n",
              "   Wallet  Sandals  Garment Set  Outdoor Waistcoat  Heels  Other shoe  \\\n",
              "0       0        0            0                  0      0           0   \n",
              "1       0        0            0                  0      0           0   \n",
              "2       0        0            0                  0      0           0   \n",
              "3       0        0            0                  0      0           0   \n",
              "4       0        0            0                  0      0           0   \n",
              "\n",
              "   Hairband  Flat shoes  Dog wear  Bracelet  \n",
              "0         0           0         0         0  \n",
              "1         0           0         0         0  \n",
              "2         0           0         0         0  \n",
              "3         0           0         0         0  \n",
              "4         0           0         0         0  \n",
              "\n",
              "[5 rows x 141 columns]"
            ],
            "text/html": [
              "\n",
              "  <div id=\"df-e78755c8-c17c-4919-a3fc-3c8ead450d99\">\n",
              "    <div class=\"colab-df-container\">\n",
              "      <div>\n",
              "<style scoped>\n",
              "    .dataframe tbody tr th:only-of-type {\n",
              "        vertical-align: middle;\n",
              "    }\n",
              "\n",
              "    .dataframe tbody tr th {\n",
              "        vertical-align: top;\n",
              "    }\n",
              "\n",
              "    .dataframe thead th {\n",
              "        text-align: right;\n",
              "    }\n",
              "</style>\n",
              "<table border=\"1\" class=\"dataframe\">\n",
              "  <thead>\n",
              "    <tr style=\"text-align: right;\">\n",
              "      <th></th>\n",
              "      <th>Black</th>\n",
              "      <th>Blue</th>\n",
              "      <th>Grey</th>\n",
              "      <th>Beige</th>\n",
              "      <th>White</th>\n",
              "      <th>Brown</th>\n",
              "      <th>Mole</th>\n",
              "      <th>Khaki green</th>\n",
              "      <th>Red</th>\n",
              "      <th>Metal</th>\n",
              "      <th>...</th>\n",
              "      <th>Wallet</th>\n",
              "      <th>Sandals</th>\n",
              "      <th>Garment Set</th>\n",
              "      <th>Outdoor Waistcoat</th>\n",
              "      <th>Heels</th>\n",
              "      <th>Other shoe</th>\n",
              "      <th>Hairband</th>\n",
              "      <th>Flat shoes</th>\n",
              "      <th>Dog wear</th>\n",
              "      <th>Bracelet</th>\n",
              "    </tr>\n",
              "  </thead>\n",
              "  <tbody>\n",
              "    <tr>\n",
              "      <th>0</th>\n",
              "      <td>1</td>\n",
              "      <td>0</td>\n",
              "      <td>0</td>\n",
              "      <td>0</td>\n",
              "      <td>0</td>\n",
              "      <td>0</td>\n",
              "      <td>0</td>\n",
              "      <td>0</td>\n",
              "      <td>0</td>\n",
              "      <td>0</td>\n",
              "      <td>...</td>\n",
              "      <td>0</td>\n",
              "      <td>0</td>\n",
              "      <td>0</td>\n",
              "      <td>0</td>\n",
              "      <td>0</td>\n",
              "      <td>0</td>\n",
              "      <td>0</td>\n",
              "      <td>0</td>\n",
              "      <td>0</td>\n",
              "      <td>0</td>\n",
              "    </tr>\n",
              "    <tr>\n",
              "      <th>1</th>\n",
              "      <td>1</td>\n",
              "      <td>0</td>\n",
              "      <td>0</td>\n",
              "      <td>0</td>\n",
              "      <td>0</td>\n",
              "      <td>0</td>\n",
              "      <td>0</td>\n",
              "      <td>0</td>\n",
              "      <td>0</td>\n",
              "      <td>0</td>\n",
              "      <td>...</td>\n",
              "      <td>0</td>\n",
              "      <td>0</td>\n",
              "      <td>0</td>\n",
              "      <td>0</td>\n",
              "      <td>0</td>\n",
              "      <td>0</td>\n",
              "      <td>0</td>\n",
              "      <td>0</td>\n",
              "      <td>0</td>\n",
              "      <td>0</td>\n",
              "    </tr>\n",
              "    <tr>\n",
              "      <th>2</th>\n",
              "      <td>1</td>\n",
              "      <td>0</td>\n",
              "      <td>0</td>\n",
              "      <td>0</td>\n",
              "      <td>0</td>\n",
              "      <td>0</td>\n",
              "      <td>0</td>\n",
              "      <td>0</td>\n",
              "      <td>0</td>\n",
              "      <td>0</td>\n",
              "      <td>...</td>\n",
              "      <td>0</td>\n",
              "      <td>0</td>\n",
              "      <td>0</td>\n",
              "      <td>0</td>\n",
              "      <td>0</td>\n",
              "      <td>0</td>\n",
              "      <td>0</td>\n",
              "      <td>0</td>\n",
              "      <td>0</td>\n",
              "      <td>0</td>\n",
              "    </tr>\n",
              "    <tr>\n",
              "      <th>3</th>\n",
              "      <td>1</td>\n",
              "      <td>0</td>\n",
              "      <td>0</td>\n",
              "      <td>0</td>\n",
              "      <td>0</td>\n",
              "      <td>0</td>\n",
              "      <td>0</td>\n",
              "      <td>0</td>\n",
              "      <td>0</td>\n",
              "      <td>0</td>\n",
              "      <td>...</td>\n",
              "      <td>0</td>\n",
              "      <td>0</td>\n",
              "      <td>0</td>\n",
              "      <td>0</td>\n",
              "      <td>0</td>\n",
              "      <td>0</td>\n",
              "      <td>0</td>\n",
              "      <td>0</td>\n",
              "      <td>0</td>\n",
              "      <td>0</td>\n",
              "    </tr>\n",
              "    <tr>\n",
              "      <th>4</th>\n",
              "      <td>1</td>\n",
              "      <td>0</td>\n",
              "      <td>0</td>\n",
              "      <td>0</td>\n",
              "      <td>0</td>\n",
              "      <td>0</td>\n",
              "      <td>0</td>\n",
              "      <td>0</td>\n",
              "      <td>0</td>\n",
              "      <td>0</td>\n",
              "      <td>...</td>\n",
              "      <td>0</td>\n",
              "      <td>0</td>\n",
              "      <td>0</td>\n",
              "      <td>0</td>\n",
              "      <td>0</td>\n",
              "      <td>0</td>\n",
              "      <td>0</td>\n",
              "      <td>0</td>\n",
              "      <td>0</td>\n",
              "      <td>0</td>\n",
              "    </tr>\n",
              "  </tbody>\n",
              "</table>\n",
              "<p>5 rows × 141 columns</p>\n",
              "</div>\n",
              "      <button class=\"colab-df-convert\" onclick=\"convertToInteractive('df-e78755c8-c17c-4919-a3fc-3c8ead450d99')\"\n",
              "              title=\"Convert this dataframe to an interactive table.\"\n",
              "              style=\"display:none;\">\n",
              "        \n",
              "  <svg xmlns=\"http://www.w3.org/2000/svg\" height=\"24px\"viewBox=\"0 0 24 24\"\n",
              "       width=\"24px\">\n",
              "    <path d=\"M0 0h24v24H0V0z\" fill=\"none\"/>\n",
              "    <path d=\"M18.56 5.44l.94 2.06.94-2.06 2.06-.94-2.06-.94-.94-2.06-.94 2.06-2.06.94zm-11 1L8.5 8.5l.94-2.06 2.06-.94-2.06-.94L8.5 2.5l-.94 2.06-2.06.94zm10 10l.94 2.06.94-2.06 2.06-.94-2.06-.94-.94-2.06-.94 2.06-2.06.94z\"/><path d=\"M17.41 7.96l-1.37-1.37c-.4-.4-.92-.59-1.43-.59-.52 0-1.04.2-1.43.59L10.3 9.45l-7.72 7.72c-.78.78-.78 2.05 0 2.83L4 21.41c.39.39.9.59 1.41.59.51 0 1.02-.2 1.41-.59l7.78-7.78 2.81-2.81c.8-.78.8-2.07 0-2.86zM5.41 20L4 18.59l7.72-7.72 1.47 1.35L5.41 20z\"/>\n",
              "  </svg>\n",
              "      </button>\n",
              "      \n",
              "  <style>\n",
              "    .colab-df-container {\n",
              "      display:flex;\n",
              "      flex-wrap:wrap;\n",
              "      gap: 12px;\n",
              "    }\n",
              "\n",
              "    .colab-df-convert {\n",
              "      background-color: #E8F0FE;\n",
              "      border: none;\n",
              "      border-radius: 50%;\n",
              "      cursor: pointer;\n",
              "      display: none;\n",
              "      fill: #1967D2;\n",
              "      height: 32px;\n",
              "      padding: 0 0 0 0;\n",
              "      width: 32px;\n",
              "    }\n",
              "\n",
              "    .colab-df-convert:hover {\n",
              "      background-color: #E2EBFA;\n",
              "      box-shadow: 0px 1px 2px rgba(60, 64, 67, 0.3), 0px 1px 3px 1px rgba(60, 64, 67, 0.15);\n",
              "      fill: #174EA6;\n",
              "    }\n",
              "\n",
              "    [theme=dark] .colab-df-convert {\n",
              "      background-color: #3B4455;\n",
              "      fill: #D2E3FC;\n",
              "    }\n",
              "\n",
              "    [theme=dark] .colab-df-convert:hover {\n",
              "      background-color: #434B5C;\n",
              "      box-shadow: 0px 1px 3px 1px rgba(0, 0, 0, 0.15);\n",
              "      filter: drop-shadow(0px 1px 2px rgba(0, 0, 0, 0.3));\n",
              "      fill: #FFFFFF;\n",
              "    }\n",
              "  </style>\n",
              "\n",
              "      <script>\n",
              "        const buttonEl =\n",
              "          document.querySelector('#df-e78755c8-c17c-4919-a3fc-3c8ead450d99 button.colab-df-convert');\n",
              "        buttonEl.style.display =\n",
              "          google.colab.kernel.accessAllowed ? 'block' : 'none';\n",
              "\n",
              "        async function convertToInteractive(key) {\n",
              "          const element = document.querySelector('#df-e78755c8-c17c-4919-a3fc-3c8ead450d99');\n",
              "          const dataTable =\n",
              "            await google.colab.kernel.invokeFunction('convertToInteractive',\n",
              "                                                     [key], {});\n",
              "          if (!dataTable) return;\n",
              "\n",
              "          const docLinkHtml = 'Like what you see? Visit the ' +\n",
              "            '<a target=\"_blank\" href=https://colab.research.google.com/notebooks/data_table.ipynb>data table notebook</a>'\n",
              "            + ' to learn more about interactive tables.';\n",
              "          element.innerHTML = '';\n",
              "          dataTable['output_type'] = 'display_data';\n",
              "          await google.colab.output.renderOutput(dataTable, element);\n",
              "          const docLink = document.createElement('div');\n",
              "          docLink.innerHTML = docLinkHtml;\n",
              "          element.appendChild(docLink);\n",
              "        }\n",
              "      </script>\n",
              "    </div>\n",
              "  </div>\n",
              "  "
            ]
          },
          "metadata": {},
          "execution_count": 677
        }
      ],
      "source": [
        "article_features = pd.concat([articles[colours], articles[sections], articles[types]], axis=1)\n",
        "article_features.head()"
      ]
    },
    {
      "cell_type": "markdown",
      "id": "494900c1",
      "metadata": {
        "id": "494900c1"
      },
      "source": [
        "2) In order to make the collaborative reccomender system, we can use the cosine similarity, which is a similarity metric.\n",
        "\n",
        "To give a very quick explanation of the functionality of cosine similarity, it simply looks at the cosine angle between two vectors and the smaller it is, the higher the degree of similarity will be.\n",
        "The cosine similarity matrix has shape 6536 x 6536, which correspond to the total number of articles.\n",
        "\n",
        "With the cosine similarity matrix we are able to identify the articles that are more similar to the article of interest."
      ]
    },
    {
      "cell_type": "code",
      "execution_count": 678,
      "id": "6cef8b72",
      "metadata": {
        "colab": {
          "base_uri": "https://localhost:8080/"
        },
        "id": "6cef8b72",
        "outputId": "ea2e6e0b-b635-47db-8c20-b11f5cd5b7f9"
      },
      "outputs": [
        {
          "output_type": "stream",
          "name": "stdout",
          "text": [
            "Dimensions of our movie features cosine similarity matrix: (6536, 6536)\n"
          ]
        }
      ],
      "source": [
        "from sklearn.metrics.pairwise import cosine_similarity\n",
        "cosine_sim = cosine_similarity(article_features, article_features)\n",
        "print(f\"Dimensions of our movie features cosine similarity matrix: {cosine_sim.shape}\")"
      ]
    },
    {
      "cell_type": "markdown",
      "id": "11e11528",
      "metadata": {
        "id": "11e11528"
      },
      "source": [
        "3) Since we need to have some informations of the product we reccommend, the id of the product is not enough, so we need to create a dictionary that will map for each id the name of the article (in order to be more clear)."
      ]
    },
    {
      "cell_type": "code",
      "execution_count": 679,
      "id": "c82f20e8",
      "metadata": {
        "id": "c82f20e8"
      },
      "outputs": [],
      "source": [
        "product_dict = {}\n",
        "for i,row in articles.iterrows():\n",
        "    product_dict[row['article_id']] = {'Name': row['prod_name'], 'Color': row['colour_group_name']}"
      ]
    },
    {
      "cell_type": "markdown",
      "id": "5d1623b4",
      "metadata": {
        "id": "5d1623b4"
      },
      "source": [
        "4) The following function that retrieves the 10 most similar articles to the one that we give as input. The input is the article ID, which is unique.\n",
        "The function takes the row of the similarity matrix associated to the article ID and we sort the elements in decreasing order. Finally we can take just the items we are interested into."
      ]
    },
    {
      "cell_type": "code",
      "execution_count": 680,
      "id": "87eb7cc8",
      "metadata": {
        "id": "87eb7cc8"
      },
      "outputs": [],
      "source": [
        "def get_content_based_recommendations(prod_id, n=10):\n",
        "    id = articles[articles['article_id'] == prod_id].index\n",
        "    sim_scores = np.argsort(cosine_sim[id])[0] #returns ID sorted by the values\n",
        "    sim_scores_out = list(sim_scores[::-1][1:n+1])\n",
        "\n",
        "    if prod_id in sim_scores_out:\n",
        "        sim_scores_out = list(sim_scores[::-1][1:n+2])\n",
        "        sim_scores_out.remove(prod_id)\n",
        "         #flip the output to get the IDs in descending order\n",
        "    \n",
        "    print(f\"Recommendations for {product_dict[prod_id]['Color']} {product_dict[prod_id]['Name']} (Id: {prod_id}):\\n\")\n",
        "    for i in sim_scores_out:\n",
        "        print(f\"\\n{product_dict[i]['Color']} {product_dict[i]['Name']} (Id: {i})\")\n",
        "    "
      ]
    },
    {
      "cell_type": "code",
      "execution_count": 681,
      "id": "528dc7dd",
      "metadata": {
        "colab": {
          "base_uri": "https://localhost:8080/"
        },
        "id": "528dc7dd",
        "outputId": "071c3797-223f-417b-f5e1-e3b0fad09128"
      },
      "outputs": [
        {
          "output_type": "stream",
          "name": "stdout",
          "text": [
            "Recommendations for White 3p Sneaker Socks (Id: 20):\n",
            "\n",
            "\n",
            "White Quickdry 5p shaftless (Id: 703)\n",
            "\n",
            "White Short 5p Socks(1) (Id: 4673)\n",
            "\n",
            "White 7p Basic Shaftless (Id: 116)\n",
            "\n",
            "White 1p Fun Socks (Id: 2243)\n",
            "\n",
            "White 1p Short Socks (Id: 2251)\n",
            "\n",
            "White 1p Short Socks (Id: 2252)\n",
            "\n",
            "White Mini Trainer 5p Socks (Id: 661)\n",
            "\n",
            "White Sportsneaker 3p socks (Id: 69)\n",
            "\n",
            "White 1p Shaftless (Id: 4135)\n",
            "\n",
            "White 1p lurex socks (Id: 6506)\n"
          ]
        }
      ],
      "source": [
        "prod_name = 20\n",
        "get_content_based_recommendations(prod_name,10)"
      ]
    },
    {
      "cell_type": "markdown",
      "id": "5b4e51d2",
      "metadata": {
        "id": "5b4e51d2"
      },
      "source": [
        "We have noticed that there is the possibility for the input product to appear in the list of suggested articles. We have decided to solve this issue in this way:"
      ]
    },
    {
      "cell_type": "code",
      "execution_count": 682,
      "id": "381f8831",
      "metadata": {
        "colab": {
          "base_uri": "https://localhost:8080/"
        },
        "id": "381f8831",
        "outputId": "2d09b12b-aa1c-4af3-95b2-269756a98425"
      },
      "outputs": [
        {
          "output_type": "stream",
          "name": "stdout",
          "text": [
            "Recommendations for Beige Box 4p Kneehighs (Id: 15):\n",
            "\n",
            "\n",
            "Beige Support 20 den 1p tights (Id: 158)\n",
            "\n",
            "Beige Control Top 15 den 1p Tights (Id: 190)\n",
            "\n",
            "Beige Bare legs Support (Id: 104)\n",
            "\n",
            "Beige Mama Support 30 den 1p Tights (Id: 113)\n",
            "\n",
            "Beige 20 den 2p Tights (Id: 51)\n",
            "\n",
            "Black Geo flower 1p tights (Id: 3384)\n",
            "\n",
            "Black High waist 100den 1p (Id: 1988)\n",
            "\n",
            "Black Julie Seam At Back 1p tights (Id: 763)\n",
            "\n",
            "Beige LW (J) VERONIKA Consc Trs (Id: 5735)\n",
            "\n",
            "Black Mama 40 Den 2p Tights Consciou (Id: 5629)\n"
          ]
        }
      ],
      "source": [
        "prod_name = 15\n",
        "get_content_based_recommendations(prod_name,10)"
      ]
    },
    {
      "cell_type": "markdown",
      "id": "aa21e1f4",
      "metadata": {
        "id": "aa21e1f4"
      },
      "source": [
        "# USER-BASED FILTERING RECOMMENDER"
      ]
    },
    {
      "cell_type": "markdown",
      "id": "7bb07524",
      "metadata": {
        "id": "7bb07524"
      },
      "source": [
        "The second recommender we're going to use is the user-based.\n",
        "An important feature in markets is the users similiarity, that can lead us to suggest articles basing on possible links between users.\n",
        "\n",
        "1) Here we create a new dataframe where we have all the purchases made by each customer."
      ]
    },
    {
      "cell_type": "code",
      "execution_count": 683,
      "id": "e0b178f8",
      "metadata": {
        "colab": {
          "base_uri": "https://localhost:8080/",
          "height": 419
        },
        "id": "e0b178f8",
        "outputId": "b6e6fc63-5577-462a-cbdf-e615b7435129"
      },
      "outputs": [
        {
          "output_type": "execute_result",
          "data": {
            "text/plain": [
              "        customer_id  article_id  transactions\n",
              "0                 0         463             1\n",
              "1                 0        5571             1\n",
              "2                 0        6120             1\n",
              "3                 0        6440             1\n",
              "4                 1         617             1\n",
              "...             ...         ...           ...\n",
              "306632        41252         350             1\n",
              "306633        41252        1184             1\n",
              "306634        41252        1340             1\n",
              "306635        41252        1974             1\n",
              "306636        41252        2166             1\n",
              "\n",
              "[306637 rows x 3 columns]"
            ],
            "text/html": [
              "\n",
              "  <div id=\"df-645c01f4-8366-41c7-9763-c7162731ba99\">\n",
              "    <div class=\"colab-df-container\">\n",
              "      <div>\n",
              "<style scoped>\n",
              "    .dataframe tbody tr th:only-of-type {\n",
              "        vertical-align: middle;\n",
              "    }\n",
              "\n",
              "    .dataframe tbody tr th {\n",
              "        vertical-align: top;\n",
              "    }\n",
              "\n",
              "    .dataframe thead th {\n",
              "        text-align: right;\n",
              "    }\n",
              "</style>\n",
              "<table border=\"1\" class=\"dataframe\">\n",
              "  <thead>\n",
              "    <tr style=\"text-align: right;\">\n",
              "      <th></th>\n",
              "      <th>customer_id</th>\n",
              "      <th>article_id</th>\n",
              "      <th>transactions</th>\n",
              "    </tr>\n",
              "  </thead>\n",
              "  <tbody>\n",
              "    <tr>\n",
              "      <th>0</th>\n",
              "      <td>0</td>\n",
              "      <td>463</td>\n",
              "      <td>1</td>\n",
              "    </tr>\n",
              "    <tr>\n",
              "      <th>1</th>\n",
              "      <td>0</td>\n",
              "      <td>5571</td>\n",
              "      <td>1</td>\n",
              "    </tr>\n",
              "    <tr>\n",
              "      <th>2</th>\n",
              "      <td>0</td>\n",
              "      <td>6120</td>\n",
              "      <td>1</td>\n",
              "    </tr>\n",
              "    <tr>\n",
              "      <th>3</th>\n",
              "      <td>0</td>\n",
              "      <td>6440</td>\n",
              "      <td>1</td>\n",
              "    </tr>\n",
              "    <tr>\n",
              "      <th>4</th>\n",
              "      <td>1</td>\n",
              "      <td>617</td>\n",
              "      <td>1</td>\n",
              "    </tr>\n",
              "    <tr>\n",
              "      <th>...</th>\n",
              "      <td>...</td>\n",
              "      <td>...</td>\n",
              "      <td>...</td>\n",
              "    </tr>\n",
              "    <tr>\n",
              "      <th>306632</th>\n",
              "      <td>41252</td>\n",
              "      <td>350</td>\n",
              "      <td>1</td>\n",
              "    </tr>\n",
              "    <tr>\n",
              "      <th>306633</th>\n",
              "      <td>41252</td>\n",
              "      <td>1184</td>\n",
              "      <td>1</td>\n",
              "    </tr>\n",
              "    <tr>\n",
              "      <th>306634</th>\n",
              "      <td>41252</td>\n",
              "      <td>1340</td>\n",
              "      <td>1</td>\n",
              "    </tr>\n",
              "    <tr>\n",
              "      <th>306635</th>\n",
              "      <td>41252</td>\n",
              "      <td>1974</td>\n",
              "      <td>1</td>\n",
              "    </tr>\n",
              "    <tr>\n",
              "      <th>306636</th>\n",
              "      <td>41252</td>\n",
              "      <td>2166</td>\n",
              "      <td>1</td>\n",
              "    </tr>\n",
              "  </tbody>\n",
              "</table>\n",
              "<p>306637 rows × 3 columns</p>\n",
              "</div>\n",
              "      <button class=\"colab-df-convert\" onclick=\"convertToInteractive('df-645c01f4-8366-41c7-9763-c7162731ba99')\"\n",
              "              title=\"Convert this dataframe to an interactive table.\"\n",
              "              style=\"display:none;\">\n",
              "        \n",
              "  <svg xmlns=\"http://www.w3.org/2000/svg\" height=\"24px\"viewBox=\"0 0 24 24\"\n",
              "       width=\"24px\">\n",
              "    <path d=\"M0 0h24v24H0V0z\" fill=\"none\"/>\n",
              "    <path d=\"M18.56 5.44l.94 2.06.94-2.06 2.06-.94-2.06-.94-.94-2.06-.94 2.06-2.06.94zm-11 1L8.5 8.5l.94-2.06 2.06-.94-2.06-.94L8.5 2.5l-.94 2.06-2.06.94zm10 10l.94 2.06.94-2.06 2.06-.94-2.06-.94-.94-2.06-.94 2.06-2.06.94z\"/><path d=\"M17.41 7.96l-1.37-1.37c-.4-.4-.92-.59-1.43-.59-.52 0-1.04.2-1.43.59L10.3 9.45l-7.72 7.72c-.78.78-.78 2.05 0 2.83L4 21.41c.39.39.9.59 1.41.59.51 0 1.02-.2 1.41-.59l7.78-7.78 2.81-2.81c.8-.78.8-2.07 0-2.86zM5.41 20L4 18.59l7.72-7.72 1.47 1.35L5.41 20z\"/>\n",
              "  </svg>\n",
              "      </button>\n",
              "      \n",
              "  <style>\n",
              "    .colab-df-container {\n",
              "      display:flex;\n",
              "      flex-wrap:wrap;\n",
              "      gap: 12px;\n",
              "    }\n",
              "\n",
              "    .colab-df-convert {\n",
              "      background-color: #E8F0FE;\n",
              "      border: none;\n",
              "      border-radius: 50%;\n",
              "      cursor: pointer;\n",
              "      display: none;\n",
              "      fill: #1967D2;\n",
              "      height: 32px;\n",
              "      padding: 0 0 0 0;\n",
              "      width: 32px;\n",
              "    }\n",
              "\n",
              "    .colab-df-convert:hover {\n",
              "      background-color: #E2EBFA;\n",
              "      box-shadow: 0px 1px 2px rgba(60, 64, 67, 0.3), 0px 1px 3px 1px rgba(60, 64, 67, 0.15);\n",
              "      fill: #174EA6;\n",
              "    }\n",
              "\n",
              "    [theme=dark] .colab-df-convert {\n",
              "      background-color: #3B4455;\n",
              "      fill: #D2E3FC;\n",
              "    }\n",
              "\n",
              "    [theme=dark] .colab-df-convert:hover {\n",
              "      background-color: #434B5C;\n",
              "      box-shadow: 0px 1px 3px 1px rgba(0, 0, 0, 0.15);\n",
              "      filter: drop-shadow(0px 1px 2px rgba(0, 0, 0, 0.3));\n",
              "      fill: #FFFFFF;\n",
              "    }\n",
              "  </style>\n",
              "\n",
              "      <script>\n",
              "        const buttonEl =\n",
              "          document.querySelector('#df-645c01f4-8366-41c7-9763-c7162731ba99 button.colab-df-convert');\n",
              "        buttonEl.style.display =\n",
              "          google.colab.kernel.accessAllowed ? 'block' : 'none';\n",
              "\n",
              "        async function convertToInteractive(key) {\n",
              "          const element = document.querySelector('#df-645c01f4-8366-41c7-9763-c7162731ba99');\n",
              "          const dataTable =\n",
              "            await google.colab.kernel.invokeFunction('convertToInteractive',\n",
              "                                                     [key], {});\n",
              "          if (!dataTable) return;\n",
              "\n",
              "          const docLinkHtml = 'Like what you see? Visit the ' +\n",
              "            '<a target=\"_blank\" href=https://colab.research.google.com/notebooks/data_table.ipynb>data table notebook</a>'\n",
              "            + ' to learn more about interactive tables.';\n",
              "          element.innerHTML = '';\n",
              "          dataTable['output_type'] = 'display_data';\n",
              "          await google.colab.output.renderOutput(dataTable, element);\n",
              "          const docLink = document.createElement('div');\n",
              "          docLink.innerHTML = docLinkHtml;\n",
              "          element.appendChild(docLink);\n",
              "        }\n",
              "      </script>\n",
              "    </div>\n",
              "  </div>\n",
              "  "
            ]
          },
          "metadata": {},
          "execution_count": 683
        }
      ],
      "source": [
        "ua_transactions = transactions.groupby(['customer_id', 'article_id']).count().reset_index()\n",
        "ua_transactions.columns = ['customer_id', 'article_id', 'transactions']\n",
        "ua_transactions"
      ]
    },
    {
      "cell_type": "markdown",
      "id": "6ddfe139",
      "metadata": {
        "id": "6ddfe139"
      },
      "source": [
        "2) Now we are going to build a 'utility' matrix with customer_id as column index and article_id as row index.\n",
        "\n",
        "The values inside the 'utility' matrix represent how many times a specific customer bought a specific article.\n",
        "This matrix will have many unobserved entries because each user purchases only a limited amount of products."
      ]
    },
    {
      "cell_type": "code",
      "execution_count": 684,
      "id": "5829433b",
      "metadata": {
        "id": "5829433b"
      },
      "outputs": [],
      "source": [
        "N = ua_transactions['customer_id'].nunique()\n",
        "M = ua_transactions['article_id'].nunique()"
      ]
    },
    {
      "cell_type": "markdown",
      "id": "64281932",
      "metadata": {
        "id": "64281932"
      },
      "source": [
        "In the following code, we use dictionaries in order to map each row and column of the utility matrix to its correspondent article ID. For instance, article mapper maps the article ID to its index and article_inv_mapper does the same in the other way around."
      ]
    },
    {
      "cell_type": "code",
      "execution_count": 685,
      "id": "96d08a51",
      "metadata": {
        "id": "96d08a51"
      },
      "outputs": [],
      "source": [
        "article_mapper = dict(zip(np.unique(ua_transactions[\"article_id\"]), list(range(M))))\n",
        "article_inv_mapper = dict(zip(list(range(M)), np.unique(ua_transactions[\"article_id\"])))\n",
        "\n",
        "article_index = [article_mapper[i] for i in ua_transactions['article_id']]"
      ]
    },
    {
      "cell_type": "code",
      "source": [
        "customer_mapper = dict(zip(np.unique(ua_transactions[\"customer_id\"]), list(range(N))))\n",
        "customer_inv_mapper = dict(zip(list(range(N)), np.unique(ua_transactions[\"customer_id\"])))\n",
        "\n",
        "customer_index = [customer_mapper[i] for i in ua_transactions['customer_id']]"
      ],
      "metadata": {
        "id": "BALYHOPRu-nO"
      },
      "id": "BALYHOPRu-nO",
      "execution_count": 686,
      "outputs": []
    },
    {
      "cell_type": "markdown",
      "id": "e759b19a",
      "metadata": {
        "id": "e759b19a"
      },
      "source": [
        "The function we will use is: 'crs_matrix', which stands for compressed row storage."
      ]
    },
    {
      "cell_type": "code",
      "execution_count": 687,
      "id": "7fd9ae87",
      "metadata": {
        "id": "7fd9ae87"
      },
      "outputs": [],
      "source": [
        "from scipy.sparse import csr_matrix\n",
        "\n",
        "X = csr_matrix((ua_transactions[\"transactions\"], (article_index, ua_transactions['customer_id'])), shape=(M, N))"
      ]
    },
    {
      "cell_type": "code",
      "execution_count": 688,
      "id": "10bbd542",
      "metadata": {
        "colab": {
          "base_uri": "https://localhost:8080/"
        },
        "id": "10bbd542",
        "outputId": "93500c3e-3bbb-40ca-9bf4-4f8d8f4f5291"
      },
      "outputs": [
        {
          "output_type": "execute_result",
          "data": {
            "text/plain": [
              "<6536x41253 sparse matrix of type '<class 'numpy.int64'>'\n",
              "\twith 306637 stored elements in Compressed Sparse Row format>"
            ]
          },
          "metadata": {},
          "execution_count": 688
        }
      ],
      "source": [
        "X"
      ]
    },
    {
      "cell_type": "markdown",
      "id": "542b5be5",
      "metadata": {
        "id": "542b5be5"
      },
      "source": [
        "3) In order to check the integrity of our matrix, we have to compute the sparsity.\n",
        "We know that user-item matrices are usually sparse."
      ]
    },
    {
      "cell_type": "code",
      "execution_count": 689,
      "id": "4a89f823",
      "metadata": {
        "colab": {
          "base_uri": "https://localhost:8080/"
        },
        "id": "4a89f823",
        "outputId": "457136bd-3e38-49c7-df1c-2afb57d74f9f"
      },
      "outputs": [
        {
          "output_type": "stream",
          "name": "stdout",
          "text": [
            "Matrix sparsity: 0.1137%\n"
          ]
        }
      ],
      "source": [
        "sparsity = X.count_nonzero()/(X.shape[0]*X.shape[1])\n",
        "print(f\"Matrix sparsity: {round(sparsity*100,4)}%\")"
      ]
    },
    {
      "cell_type": "markdown",
      "id": "de6bc5fe",
      "metadata": {
        "id": "de6bc5fe"
      },
      "source": [
        "The value of sparsity of our matrix is low, but this result was expected. Usually, it is good for the value of the percentage to be not lower than 0.5%.\n",
        "\n",
        "4) To try to increase the sparsity of our matrix and in order to improve our model, we are going to ignore part of the customers, namely the ones that have bought a low amount of articles. This is beacuse the columns of these customers will have many zero elements. \n",
        "Furthermore, another reason for this fact, is that people who buy less articles are not incentivated to buy more products. "
      ]
    },
    {
      "cell_type": "markdown",
      "id": "4e149afc",
      "metadata": {
        "id": "4e149afc"
      },
      "source": [
        "We start by creating a new dataframe in which we keep only the transactions for the customers who have accomplished more than an amount q of transactions. Obviously, playing with this value q, the resulting sparsity of the matrix will be influenced!"
      ]
    },
    {
      "cell_type": "markdown",
      "id": "20de0e36",
      "metadata": {
        "id": "20de0e36"
      },
      "source": [
        "**ATTENTION!** <br> By reducing the number of customers, we will lose a large amount of information which might lead to possible wrong interpretations. We have therefore to find an equilibrium between having a higher value for sparsity and not eliminating too much information."
      ]
    },
    {
      "cell_type": "code",
      "execution_count": 690,
      "id": "dec848a0",
      "metadata": {
        "id": "dec848a0"
      },
      "outputs": [],
      "source": [
        "customer_transactions_count_df2 = customer_transactions_count_df[customer_transactions_count_df['Number of Transactions'] > 27]"
      ]
    },
    {
      "cell_type": "code",
      "execution_count": 691,
      "id": "2ab2b043",
      "metadata": {
        "id": "2ab2b043"
      },
      "outputs": [],
      "source": [
        "cust_list = list(customer_transactions_count_df2['Customer ID']) #outputs a list with all the IDs of the customers with more than q transactions"
      ]
    },
    {
      "cell_type": "code",
      "execution_count": 692,
      "id": "b27faffb",
      "metadata": {
        "id": "b27faffb"
      },
      "outputs": [],
      "source": [
        "ua_transactions_overq = ua_transactions.query('customer_id in @cust_list') #dataframe that contains customer_id, article_id and number \n",
        "                                                                            #of transactions of the people who have done more than q transactions"
      ]
    },
    {
      "cell_type": "markdown",
      "id": "9b31e91a",
      "metadata": {
        "id": "9b31e91a"
      },
      "source": [
        "As before, we can now start building the main elements of our new matrix."
      ]
    },
    {
      "cell_type": "code",
      "execution_count": 693,
      "id": "c8016dbd",
      "metadata": {
        "id": "c8016dbd"
      },
      "outputs": [],
      "source": [
        "N2 = ua_transactions_overq['customer_id'].nunique() #number of unique customers in the new dataframe\n",
        "M2 = ua_transactions_overq['article_id'].nunique() #number of unique articles in the new dataframe"
      ]
    },
    {
      "cell_type": "markdown",
      "id": "cfe41cff",
      "metadata": {
        "id": "cfe41cff"
      },
      "source": [
        "A further passage to be done before creating our matrix is to rescale all the indexes of both the articles and the customers. Differently from before, we lose some customers and at the same time also some articles (even though just a small amount of them). For this reason, there is the necessity to rescale all the indexes using a new mapper."
      ]
    },
    {
      "cell_type": "code",
      "execution_count": 694,
      "id": "73164b76",
      "metadata": {
        "id": "73164b76"
      },
      "outputs": [],
      "source": [
        "article_mapper2 = dict(zip(np.unique(ua_transactions_overq['article_id']), list(range(M2))))\n",
        "article_inv_mapper2 = dict(zip(list(range(M2)), np.unique(ua_transactions_overq['article_id'])))\n",
        "\n",
        "article_index2 = [article_mapper2[i] for i in ua_transactions_overq['article_id']] #new indexes for all the articles"
      ]
    },
    {
      "cell_type": "code",
      "execution_count": 695,
      "id": "606b13bb",
      "metadata": {
        "id": "606b13bb"
      },
      "outputs": [],
      "source": [
        "customer_mapper2 = dict(zip(np.unique(ua_transactions_overq['customer_id']), list(range(N2))))\n",
        "customer_inv_mapper2 = dict(zip(list(range(N2)), np.unique(ua_transactions_overq['customer_id'])))\n",
        "\n",
        "customer_index2 = [customer_mapper2[i] for i in ua_transactions_overq['customer_id']] #new indexes for all the customers"
      ]
    },
    {
      "cell_type": "markdown",
      "id": "a7dfc255",
      "metadata": {
        "id": "a7dfc255"
      },
      "source": [
        "We are now ready to create the new matrix X2, which will have all the customers that carry out more than q transactions as columns and articles as rows. The values inside the matrix will obviously match a transaction made by a customer to buy a respective product."
      ]
    },
    {
      "cell_type": "code",
      "execution_count": 696,
      "id": "069e7c16",
      "metadata": {
        "id": "069e7c16"
      },
      "outputs": [],
      "source": [
        "X2 = csr_matrix((ua_transactions_overq[\"transactions\"], (article_index2, customer_index2)), shape=(M2, N2))"
      ]
    },
    {
      "cell_type": "code",
      "execution_count": 697,
      "id": "1185c8de",
      "metadata": {
        "colab": {
          "base_uri": "https://localhost:8080/"
        },
        "id": "1185c8de",
        "outputId": "771fe95b-f094-488a-a9df-0cfc527e3213"
      },
      "outputs": [
        {
          "output_type": "stream",
          "name": "stdout",
          "text": [
            "Matrix sparsity: 0.5816%\n"
          ]
        }
      ],
      "source": [
        "sparsity2 = X2.count_nonzero()/(X2.shape[0]*X2.shape[1])\n",
        "print(f\"Matrix sparsity: {round(sparsity2*100,4)}%\")"
      ]
    },
    {
      "cell_type": "markdown",
      "id": "96aa1d7d",
      "metadata": {
        "id": "96aa1d7d"
      },
      "source": [
        "The latter value is the best we can achieve. We have decided to stop to reduce our matrix because reducing it more would lead to a biased recommendation system. We are aware of the fact that this is not the best algorithm in our case because the matrix is really too sparse. We discard all the customers that have the number of transactions lower than 27. Increasing this number would lead to a too small dataset."
      ]
    },
    {
      "cell_type": "markdown",
      "id": "27762eec",
      "metadata": {
        "id": "27762eec"
      },
      "source": [
        "5) Now we can start building our reccommender algorithm. We use KNN algorithm.\n",
        "We are working in a M-dimensional space where M is the amount of articles in our X matrix."
      ]
    },
    {
      "cell_type": "markdown",
      "id": "33e50666",
      "metadata": {
        "id": "33e50666"
      },
      "source": [
        "The function finds the k-nearest neighbours for a given article id and returns a list of k similar article ID's.\n",
        "- The input is the article_id of the article of interest;\n",
        "- X is the user-item utility matrix we have built above;\n",
        "- k is the number of similar articles to be retrieved;\n",
        "- metric is the distance metric for kNN calculations (in our case is cosine similarity)."
      ]
    },
    {
      "cell_type": "code",
      "execution_count": 698,
      "id": "6332f64a",
      "metadata": {
        "id": "6332f64a"
      },
      "outputs": [],
      "source": [
        "from sklearn.neighbors import NearestNeighbors\n",
        "\n",
        "def find_similar_articles(article_id, X, k, metric='cosine'):\n",
        "    neighbour_ids = []\n",
        "    article_ind = article_mapper[article_id]\n",
        "    article_vec = X[article_ind]\n",
        "    kNN = NearestNeighbors(n_neighbors=k+1, algorithm=\"brute\", metric=metric)\n",
        "    kNN.fit(X)\n",
        "    neighbour = kNN.kneighbors(article_vec, return_distance=False)[0]\n",
        "    neighbour_ids = [article_inv_mapper[n] for n in neighbour[1:]]\n",
        "    return neighbour_ids"
      ]
    },
    {
      "cell_type": "code",
      "execution_count": 699,
      "id": "fbec0468",
      "metadata": {
        "colab": {
          "base_uri": "https://localhost:8080/"
        },
        "id": "fbec0468",
        "outputId": "5aea4584-08c4-495c-8552-f87d9e6f320f"
      },
      "outputs": [
        {
          "output_type": "stream",
          "name": "stdout",
          "text": [
            "\n",
            "Since you bought 'Black OP Strapless^' (Id: 10), the products that you could like are:\n",
            "\n",
            "Light Grey Skinny Cheapo 89 (Id: 90)\n",
            "\n",
            "Black OP Strapless^ (Id: 10)\n",
            "\n",
            "Pink Richmond smock Dress (Id: 3559)\n",
            "\n",
            "Black TWISTER SLIM ROLLNECK (Id: 823)\n",
            "\n",
            "Black Chubba Chubb Highwaist brazili (Id: 2667)\n",
            "\n",
            "White Bueno (Id: 3111)\n",
            "\n",
            "Dark Grey Stephanie (Id: 2519)\n",
            "\n",
            "Black Izzy loose tee (Id: 2167)\n",
            "\n",
            "Dark Orange Kanye Vest Mid Brief (Id: 2088)\n",
            "\n",
            "Black Mary Scarf (Id: 820)\n",
            "\n"
          ]
        }
      ],
      "source": [
        "article_name = dict(zip(articles['article_id'], articles['prod_name']))\n",
        "\n",
        "article_id = 10\n",
        "\n",
        "similar_ids = find_similar_articles(article_id, X2, 10, metric='cosine')\n",
        "\n",
        "prod_name = product_dict[article_id]\n",
        "\n",
        "print(f\"\\nSince you bought '{product_dict[article_id]['Color']} {product_dict[article_id]['Name']}' (Id: {article_id}), the products that you could like are:\\n\")\n",
        "for i in similar_ids:\n",
        "    print(f\"{product_dict[i]['Color']} {product_dict[i]['Name']} (Id: {i})\\n\")"
      ]
    },
    {
      "cell_type": "code",
      "execution_count": 700,
      "id": "67fb82aa",
      "metadata": {
        "colab": {
          "base_uri": "https://localhost:8080/"
        },
        "id": "67fb82aa",
        "outputId": "670bd78a-5f56-4b82-9872-8b1274ec65a8"
      },
      "outputs": [
        {
          "output_type": "stream",
          "name": "stdout",
          "text": [
            "\n",
            "Since you bought 'Black OP Strapless^' (Id: 10), the products that you could like are:\n",
            "\n",
            "Black Glamping (Id: 132)\n",
            "\n",
            "Black OP Strapless^ (Id: 10)\n",
            "\n",
            "Black TWISTER SLIM ROLLNECK (Id: 823)\n",
            "\n",
            "Blue Slim 5pkt Midprice (Id: 1435)\n",
            "\n",
            "White Boxer (Id: 1433)\n",
            "\n",
            "Light Blue Slim 5pkt Midprice (Id: 1434)\n",
            "\n",
            "White Astrid shirt (Id: 1430)\n",
            "\n",
            "Blue Slim 5pkt Midprice (Id: 1437)\n",
            "\n",
            "White Venice SP bralette (Id: 3341)\n",
            "\n",
            "Yellowish Brown Soller RW wide cropped (Id: 1443)\n",
            "\n"
          ]
        }
      ],
      "source": [
        "similar_ids2 = find_similar_articles(article_id, X2, k=10, metric='euclidean')\n",
        "prod_name = product_dict[article_id]\n",
        "\n",
        "print(f\"\\nSince you bought '{product_dict[article_id]['Color']} {product_dict[article_id]['Name']}' (Id: {article_id}), the products that you could like are:\\n\")\n",
        "for i in similar_ids2:\n",
        "    print(f\"{product_dict[i]['Color']} {product_dict[i]['Name']} (Id: {i})\\n\")"
      ]
    },
    {
      "cell_type": "markdown",
      "id": "38243611",
      "metadata": {
        "id": "38243611"
      },
      "source": [
        "Even if we were able to reach a sparsity of almost 0,6%, our model is still very untrustable because there are still many 0 values."
      ]
    },
    {
      "cell_type": "markdown",
      "id": "943252d7",
      "metadata": {
        "id": "943252d7"
      },
      "source": [
        "# NEURAL NETWORK"
      ]
    },
    {
      "cell_type": "markdown",
      "id": "fa0ec961",
      "metadata": {
        "id": "fa0ec961"
      },
      "source": [
        "To build a further user-recommendation system, we decided to avail ourselves of neural networks and matrix factorization. "
      ]
    },
    {
      "cell_type": "markdown",
      "id": "ec58ddb9",
      "metadata": {
        "id": "ec58ddb9"
      },
      "source": [
        "What is matrix factorization? This method aims at factorizing the transaction matrix $A$ into the product of a customer embedding matrix $C$ and article embedding matrix $V$, such that $A \\approx CV^\\top$ with\n",
        "$C = \\begin{bmatrix} c_{1} \\\\  \\vdots \\\\ c_{N} \\end{bmatrix}$ and\n",
        "$V = \\begin{bmatrix} v_{1} \\\\  \\vdots \\\\ v_{M} \\end{bmatrix}$.\n",
        "\n",
        "Here:\n",
        "- $N3$ is the number of customers,\n",
        "- $M3$ is the number of articles,\n",
        "- $A_{ij}$ is the transaction in which $j$th article is bought by the $i$th customer,\n",
        "- each row $C_i$ is a $d$-dimensional vector (embedding) representing customer $i$,\n",
        "- each row $V_j$ is a $d$-dimensional vector (embedding) representing article $j$,\n",
        "- the prediction of the model for the $(i, j)$ pair is the dot product $\\langle C_i, V_j \\rangle$."
      ]
    },
    {
      "cell_type": "code",
      "execution_count": 701,
      "id": "2562eae7",
      "metadata": {
        "id": "2562eae7"
      },
      "outputs": [],
      "source": [
        "import tensorflow as tf"
      ]
    },
    {
      "cell_type": "code",
      "execution_count": 737,
      "id": "7d920776",
      "metadata": {
        "pycharm": {
          "is_executing": true
        },
        "colab": {
          "base_uri": "https://localhost:8080/"
        },
        "id": "7d920776",
        "outputId": "c1e89669-af68-4468-c271-ff25eafe13a4"
      },
      "outputs": [
        {
          "output_type": "stream",
          "name": "stderr",
          "text": [
            "<ipython-input-737-06b63eb85884>:7: SettingWithCopyWarning: \n",
            "A value is trying to be set on a copy of a slice from a DataFrame.\n",
            "Try using .loc[row_indexer,col_indexer] = value instead\n",
            "\n",
            "See the caveats in the documentation: https://pandas.pydata.org/pandas-docs/stable/user_guide/indexing.html#returning-a-view-versus-a-copy\n",
            "  ua_transactions_overq['customer_id'] = ua_transactions_overq['customer_id'].map(customer_mapper3).astype(int)\n"
          ]
        }
      ],
      "source": [
        "N3 = ua_transactions_overq['customer_id'].nunique()\n",
        "M3 = ua_transactions['article_id'].nunique()\n",
        "\n",
        "customer_mapper3 = dict(zip(np.unique(ua_transactions_overq['customer_id']), list(range(N3))))\n",
        "article_mapper3 = dict(zip(np.unique(ua_transactions[\"article_id\"]), list(range(M3))))\n",
        "\n",
        "ua_transactions_overq['customer_id'] = ua_transactions_overq['customer_id'].map(customer_mapper3).astype(int)\n",
        "ua_transactions['article_id'] = ua_transactions['article_id'].map(article_mapper3).astype(int)\n",
        "articles['article_id'] = articles['article_id'].map(article_mapper3).astype(int)\n",
        "\n",
        "indices = ua_transactions[['customer_id', 'article_id']].values\n",
        "values = ua_transactions['transactions'].values\n",
        "\n",
        "\n",
        "A = tf.SparseTensor(\n",
        "        indices=indices,\n",
        "        values=values,\n",
        "        dense_shape=[N3, M3])"
      ]
    },
    {
      "cell_type": "markdown",
      "id": "eb10da09",
      "metadata": {
        "id": "eb10da09"
      },
      "source": [
        "### LOSS FUNCTION"
      ]
    },
    {
      "cell_type": "markdown",
      "id": "9f31d666",
      "metadata": {
        "id": "9f31d666"
      },
      "source": [
        "The loss function takes as input:\n",
        "- sparse_transactions: SparseTensor transaction matrix of dense_shape [N, M]\n",
        "- C customer_embeddings: dense Tensor C of shape [N, k] where k is the embedding dimension, such that $C_i$ is the embedding of customer i.\n",
        "- V article_embeddings: dense Tensor V of shape [M, k] where k is the embedding dimension, such that $V_j$ is the embedding of article j.\n",
        "- lambdar: regularization coefficient for l2 term.\n",
        "- lambdag: regularization coefficient for gravity term.\n",
        "    \n",
        "The loss fucntion outputs:\n",
        "- A scalar Tensor representing the MSE between the true transactions and the model's predictions plus the regularization."
      ]
    },
    {
      "cell_type": "markdown",
      "id": "01ec74e5",
      "metadata": {
        "id": "01ec74e5"
      },
      "source": [
        "The model does not exaclty match the transaction matrix $A$, but we need to approximate it with a low-rank product $CV^\\top$. We will use the MSE of observed entries to measure the approximation error. \n",
        "\n",
        "From lecture we know that the Mean Square Error is particularly troublesome for recommender systems for the problem of folding, meaning the model cannot learn how to place the embeddings of irrelevant transactions. That is why we have to use regularization in. We will use two types of regularization:\n",
        "- Regularization of the model parameters (l2 term).\n",
        "- Add the gravity term in order to push the prediction of any pair towards zero.\n",
        "The two coefficients for regularization in the total loss function are useful hyper-parameters."
      ]
    },
    {
      "cell_type": "code",
      "execution_count": 738,
      "id": "3049cec5",
      "metadata": {
        "id": "3049cec5"
      },
      "outputs": [],
      "source": [
        "def loss_fn(sparse_transactions, C, V, lambdar, lambdag):\n",
        "    predictions = tf.reduce_sum(\n",
        "    tf.gather(C, sparse_transactions.indices[:, 0]) *\n",
        "    tf.gather(V, sparse_transactions.indices[:, 1]),\n",
        "    axis=1)\n",
        "    \n",
        "    mse = tf.losses.mean_squared_error(sparse_transactions.values, predictions)\n",
        "\n",
        "\n",
        "    ltwo = (tf.reduce_sum(C*C)/C.shape[0] + \n",
        "                            tf.reduce_sum(V*V)/V.shape[0])\n",
        "    \n",
        "    gravity =  1. / (C.shape[0]*V.shape[0]) * tf.reduce_sum(\n",
        "        tf.matmul(C, C, transpose_a=True) * tf.matmul(V, V, transpose_a=True))\n",
        "\n",
        "\n",
        "    return mse + lambdar * ltwo + lambdag * gravity\n"
      ]
    },
    {
      "cell_type": "markdown",
      "id": "78445798",
      "metadata": {
        "id": "78445798"
      },
      "source": [
        "The following function splits the data into training and test sets. "
      ]
    },
    {
      "cell_type": "code",
      "execution_count": 739,
      "id": "2525e38d",
      "metadata": {
        "id": "2525e38d"
      },
      "outputs": [],
      "source": [
        "def split_dataframe(df, holdout_fraction=0.2):\n",
        "    test = df.sample(frac=holdout_fraction, replace=False)\n",
        "    train = df[~df.index.isin(test.index)]\n",
        "    return train, test"
      ]
    },
    {
      "cell_type": "markdown",
      "id": "42890c46",
      "metadata": {
        "id": "42890c46"
      },
      "source": [
        "Wherease, this function builds sparse tensors."
      ]
    },
    {
      "cell_type": "code",
      "execution_count": 741,
      "id": "cb0b8b19",
      "metadata": {
        "id": "cb0b8b19"
      },
      "outputs": [],
      "source": [
        "def build_rating_sparse_tensor(t):\n",
        "    N = t['customer_id'].max() + 1\n",
        "    M = t['article_id'].max() + 1\n",
        "    indices = t[['customer_id', 'article_id']].values\n",
        "    values = t['transactions'].values\n",
        "    return tf.SparseTensor(\n",
        "        indices=indices,\n",
        "        values=values,\n",
        "        dense_shape=[N3, M3])"
      ]
    },
    {
      "cell_type": "markdown",
      "id": "cadd1e15",
      "metadata": {
        "id": "cadd1e15"
      },
      "source": [
        "We are now ready to effectively split the transactions dataframe into train and test and we initialize the embeddings using a normal distribution."
      ]
    },
    {
      "cell_type": "code",
      "execution_count": 742,
      "id": "51062689",
      "metadata": {
        "id": "51062689"
      },
      "outputs": [],
      "source": [
        "train_transaction, test_transaction = split_dataframe(ua_transactions_overq)\n",
        "\n",
        "A_train = build_rating_sparse_tensor(train_transaction)\n",
        "A_test = build_rating_sparse_tensor(test_transaction)\n",
        "\n",
        "C = tf.Variable(tf.random.normal(\n",
        "    [A_train.dense_shape[0], 8], stddev=.1))\n",
        "V = tf.Variable(tf.random.normal(\n",
        "    [A_train.dense_shape[1], 8], stddev=.1))"
      ]
    },
    {
      "cell_type": "code",
      "execution_count": 743,
      "id": "91856151",
      "metadata": {
        "id": "91856151"
      },
      "outputs": [],
      "source": [
        "trainable_weights = [C, V]\n",
        "#optimizer = tf.optimizers.SGD(learning_rate=1)\n",
        "optimizer = tf.optimizers.Adam(learning_rate=0.1)"
      ]
    },
    {
      "cell_type": "code",
      "execution_count": 744,
      "id": "e70f16b1",
      "metadata": {
        "colab": {
          "base_uri": "https://localhost:8080/",
          "height": 282
        },
        "id": "e70f16b1",
        "outputId": "68ac8841-7dc8-4095-f5c6-99d7656f99d4"
      },
      "outputs": [
        {
          "output_type": "execute_result",
          "data": {
            "text/plain": [
              "[<matplotlib.lines.Line2D at 0x7fd4a23a2c70>]"
            ]
          },
          "metadata": {},
          "execution_count": 744
        },
        {
          "output_type": "display_data",
          "data": {
            "text/plain": [
              "<Figure size 432x288 with 1 Axes>"
            ],
            "image/png": "[encoded data removed]"
          },
          "metadata": {}
        }
      ],
      "source": [
        "tr_losses = []\n",
        "te_losses = []\n",
        "for step in range(100):\n",
        "    with tf.GradientTape() as tape:\n",
        "        loss = loss_fn(A_train, C, V, lambdar=0.001, lambdag=0.1)\n",
        "    grads = tape.gradient(loss, trainable_weights)\n",
        "    optimizer.apply_gradients(zip(grads, trainable_weights))\n",
        "    tr_losses.append(loss)\n",
        "    te_losses.append(loss_fn(A_test, C, V, lambdar=0.0001, lambdag=0.1))\n",
        "\n",
        "plt.plot(tr_losses)\n",
        "plt.plot(te_losses) "
      ]
    },
    {
      "cell_type": "markdown",
      "id": "ce2bad2a",
      "metadata": {
        "id": "ce2bad2a"
      },
      "source": [
        "We can now measure the scores, for which we have different options of similarity measures:\n",
        "We will use the following:\n",
        "- dot product: the score of item j is $\\langle u, V_j \\rangle$.\n",
        "- cosine: the score of item j is $\\frac{\\langle u, V_j \\rangle}{\\|u\\|\\|V_j\\|}$."
      ]
    },
    {
      "cell_type": "markdown",
      "id": "a656ce29",
      "metadata": {
        "id": "a656ce29"
      },
      "source": [
        "The following function computes the scores of the candidates given a query.\n",
        "The inputs of the function are:\n",
        "- query_embedding: a vector of shape [k], representing the query embedding.\n",
        "- item_embeddings: a matrix of shape [N, k], such that row i is the embedding of item i.\n",
        "- measure: a string specifying the similarity measure to be used (dot,cosine)\n",
        "\n",
        "The function outputs the a vector of shape N, such that scores[i] is the score of item i."
      ]
    },
    {
      "cell_type": "code",
      "execution_count": 711,
      "id": "f235ec23",
      "metadata": {
        "id": "f235ec23"
      },
      "outputs": [],
      "source": [
        "def compute_scores(query_embedding, item_embeddings, measure='dot'):\n",
        "    c = query_embedding\n",
        "    V = item_embeddings\n",
        "    if measure == 'cosine':\n",
        "        V = V / np.linalg.norm(V, axis=1, keepdims=True)\n",
        "        c = c / np.linalg.norm(c)\n",
        "    scores = tf.experimental.numpy.dot(c, V.numpy().transpose())\n",
        "    return scores"
      ]
    },
    {
      "cell_type": "code",
      "execution_count": 712,
      "id": "564e27bb",
      "metadata": {
        "id": "564e27bb"
      },
      "outputs": [],
      "source": [
        "def customer_recommendations(C,V,id=0, measure='dot', exclude_rated=True, k=10):\n",
        "    scores = compute_scores(C[id], V, measure)\n",
        "    score_key = measure + 'score'\n",
        "    df = pd.DataFrame({\n",
        "        score_key: list(scores.numpy()),\n",
        "        'article_id': articles['article_id'],\n",
        "        'prod_name': articles['prod_name'],\n",
        "    })\n",
        "    if exclude_rated:       # here we remove articles that are already bought\n",
        "      bought_articles = ua_transactions[ua_transactions.customer_id == id][\"article_id\"].values\n",
        "      df = df[df.article_id.apply(lambda article_id: article_id not in bought_articles)]\n",
        "    final_result = df.sort_values([score_key], ascending=False).head(k)  \n",
        "    \n",
        "    already_bought = ua_transactions[ua_transactions['customer_id'] == id]\n",
        "    already_bought_list = list(already_bought['article_id'])\n",
        "    \n",
        "    print(f\"Recommendations for customer: {id}:\\n\")\n",
        "    print(f\"The user {id} already bought:\")\n",
        "    \n",
        "    for i in already_bought_list:\n",
        "        print(f\"\\n{product_dict[i]['Color']} {product_dict[i]['Name']} (Id: {i})\")\n",
        "    print(\"\\n\\n\")\n",
        "    \n",
        "    final_result_list = list(final_result['article_id'])\n",
        "    \n",
        "    print(f\"The more recommended {k} articles for the user are:\")\n",
        "    \n",
        "    for i in final_result_list:\n",
        "        print(f\"\\n{product_dict[i]['Color']} {product_dict[i]['Name']} (Id: {i})\")\n",
        "    \n",
        "    return "
      ]
    },
    {
      "cell_type": "code",
      "execution_count": 713,
      "id": "d60b9179",
      "metadata": {
        "colab": {
          "base_uri": "https://localhost:8080/"
        },
        "id": "d60b9179",
        "outputId": "d1c85f81-96ab-48ac-9bb4-f512b1c39684"
      },
      "outputs": [
        {
          "output_type": "stream",
          "name": "stdout",
          "text": [
            "Recommendations for customer: 0:\n",
            "\n",
            "The user 0 already bought:\n",
            "\n",
            "Blue Beverly HW Loose Mom Fit Dnm (Id: 463)\n",
            "\n",
            "Purple Jenka sweatshirt (Id: 5571)\n",
            "\n",
            "Light Purple Clara jogger (Id: 6120)\n",
            "\n",
            "Black Piper sweatshirt (Id: 6440)\n",
            "\n",
            "\n",
            "\n",
            "The more recommended 5 articles for the user are:\n",
            "\n",
            "White CS Dorotea top (Id: 2807)\n",
            "\n",
            "Black Titanic trouser (Id: 4833)\n",
            "\n",
            "Black ED Madison Skinny HW (Id: 6359)\n",
            "\n",
            "Black Solange frill skirt (Id: 2995)\n",
            "\n",
            "Dark Pink STRONG HW seamless tights (Id: 5930)\n"
          ]
        }
      ],
      "source": [
        "k = 5\n",
        "customer_recommendations(C,V, measure='dot', k=5)"
      ]
    },
    {
      "cell_type": "code",
      "execution_count": 714,
      "id": "7fd7d78b",
      "metadata": {
        "scrolled": true,
        "colab": {
          "base_uri": "https://localhost:8080/"
        },
        "id": "7fd7d78b",
        "outputId": "fc0eb3c7-0038-4808-bca4-34daf732b002"
      },
      "outputs": [
        {
          "output_type": "stream",
          "name": "stdout",
          "text": [
            "Recommendations for customer: 0:\n",
            "\n",
            "The user 0 already bought:\n",
            "\n",
            "Blue Beverly HW Loose Mom Fit Dnm (Id: 463)\n",
            "\n",
            "Purple Jenka sweatshirt (Id: 5571)\n",
            "\n",
            "Light Purple Clara jogger (Id: 6120)\n",
            "\n",
            "Black Piper sweatshirt (Id: 6440)\n",
            "\n",
            "\n",
            "\n",
            "The more recommended 5 articles for the user are:\n",
            "\n",
            "Orange Waverly hoodie (Id: 3648)\n",
            "\n",
            "Black Greta (Id: 6128)\n",
            "\n",
            "Black Elizabeth dress (Id: 5692)\n",
            "\n",
            "Blue Alina HW slim dnm Trs (Id: 5524)\n",
            "\n",
            "Light Orange Lotta tank (Id: 1493)\n"
          ]
        }
      ],
      "source": [
        "k = 5\n",
        "customer_recommendations(C,V, measure='cosine', k=5)"
      ]
    },
    {
      "cell_type": "code",
      "execution_count": 714,
      "id": "cdff20d9",
      "metadata": {
        "id": "cdff20d9"
      },
      "outputs": [],
      "source": []
    }
  ],
  "metadata": {
    "kernelspec": {
      "display_name": "Python 3 (Spyder)",
      "language": "python3",
      "name": "python3"
    },
    "language_info": {
      "codemirror_mode": {
        "name": "ipython",
        "version": 3
      },
      "file_extension": ".py",
      "mimetype": "text/x-python",
      "name": "python",
      "nbconvert_exporter": "python",
      "pygments_lexer": "ipython3",
      "version": "3.9.13"
    },
    "vscode": {
      "interpreter": {
        "hash": "aee8b7b246df8f9039afb4144a1f6fd8d2ca17a180786b69acc140d282b71a49"
      }
    },
    "colab": {
      "provenance": []
    }
  },
  "nbformat": 4,
  "nbformat_minor": 5
}