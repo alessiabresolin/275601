{
 "cells": [
  {
   "cell_type": "code",
   "execution_count": 1,
   "id": "a48157f4",
   "metadata": {},
   "outputs": [],
   "source": [
    "import numpy as np\n",
    "import pandas as pd\n",
    "import sklearn\n",
    "import matplotlib.pyplot as plt\n",
    "import seaborn as sns"
   ]
  },
  {
   "cell_type": "markdown",
   "id": "51ff0130",
   "metadata": {},
   "source": [
    "# CUSTOMERS"
   ]
  },
  {
   "cell_type": "markdown",
   "id": "d39a4ce6",
   "metadata": {},
   "source": [
    "1) First of all, we import our dataset about customers. We have the unique identifier for each customer and its age. Furthermore, we know whether he or she is subscribed to the newsletter (1 if yes, 0 if no) and if he or she is part of the special club member.\n",
    "\n",
    "We have a look to how data are structured, printing the first five items and we get a general idea of the quantity of the data, using the shape function."
   ]
  },
  {
   "cell_type": "code",
   "execution_count": 2,
   "id": "26f7c852",
   "metadata": {},
   "outputs": [
    {
     "data": {
      "text/html": [
       "<div>\n",
       "<style scoped>\n",
       "    .dataframe tbody tr th:only-of-type {\n",
       "        vertical-align: middle;\n",
       "    }\n",
       "\n",
       "    .dataframe tbody tr th {\n",
       "        vertical-align: top;\n",
       "    }\n",
       "\n",
       "    .dataframe thead th {\n",
       "        text-align: right;\n",
       "    }\n",
       "</style>\n",
       "<table border=\"1\" class=\"dataframe\">\n",
       "  <thead>\n",
       "    <tr style=\"text-align: right;\">\n",
       "      <th></th>\n",
       "      <th>customer_id</th>\n",
       "      <th>fashion_news</th>\n",
       "      <th>club_member</th>\n",
       "      <th>age</th>\n",
       "    </tr>\n",
       "  </thead>\n",
       "  <tbody>\n",
       "    <tr>\n",
       "      <th>0</th>\n",
       "      <td>0</td>\n",
       "      <td>1</td>\n",
       "      <td>1</td>\n",
       "      <td>44.0</td>\n",
       "    </tr>\n",
       "    <tr>\n",
       "      <th>1</th>\n",
       "      <td>1</td>\n",
       "      <td>1</td>\n",
       "      <td>1</td>\n",
       "      <td>33.0</td>\n",
       "    </tr>\n",
       "    <tr>\n",
       "      <th>2</th>\n",
       "      <td>2</td>\n",
       "      <td>0</td>\n",
       "      <td>0</td>\n",
       "      <td>29.0</td>\n",
       "    </tr>\n",
       "    <tr>\n",
       "      <th>3</th>\n",
       "      <td>3</td>\n",
       "      <td>0</td>\n",
       "      <td>0</td>\n",
       "      <td>21.0</td>\n",
       "    </tr>\n",
       "    <tr>\n",
       "      <th>4</th>\n",
       "      <td>4</td>\n",
       "      <td>0</td>\n",
       "      <td>0</td>\n",
       "      <td>23.0</td>\n",
       "    </tr>\n",
       "  </tbody>\n",
       "</table>\n",
       "</div>"
      ],
      "text/plain": [
       "   customer_id  fashion_news  club_member   age\n",
       "0            0             1            1  44.0\n",
       "1            1             1            1  33.0\n",
       "2            2             0            0  29.0\n",
       "3            3             0            0  21.0\n",
       "4            4             0            0  23.0"
      ]
     },
     "execution_count": 2,
     "metadata": {},
     "output_type": "execute_result"
    }
   ],
   "source": [
    "customers = pd.read_csv(\"recsys_customers.csv\")\n",
    "customers.head()"
   ]
  },
  {
   "cell_type": "code",
   "execution_count": 3,
   "id": "beb52423",
   "metadata": {},
   "outputs": [
    {
     "data": {
      "text/plain": [
       "(41253, 4)"
      ]
     },
     "execution_count": 3,
     "metadata": {},
     "output_type": "execute_result"
    }
   ],
   "source": [
    "customers.shape"
   ]
  },
  {
   "cell_type": "markdown",
   "id": "8c7d2c46",
   "metadata": {},
   "source": [
    "2) We want to find the columns that may have NaN values in order to handle them."
   ]
  },
  {
   "cell_type": "code",
   "execution_count": 4,
   "id": "f1372c2b",
   "metadata": {},
   "outputs": [
    {
     "data": {
      "text/plain": [
       "customer_id       0\n",
       "fashion_news      0\n",
       "club_member       0\n",
       "age             133\n",
       "dtype: int64"
      ]
     },
     "execution_count": 4,
     "metadata": {},
     "output_type": "execute_result"
    }
   ],
   "source": [
    "customers.isnull().sum()"
   ]
  },
  {
   "cell_type": "markdown",
   "id": "04242179",
   "metadata": {},
   "source": [
    "Out of 4 columns, only 1 column has null values, which is age. \n",
    "\n",
    "To understand better the weight of these null values on the whole set, we can calculate their weight relative to the length of the dataset."
   ]
  },
  {
   "cell_type": "code",
   "execution_count": 5,
   "id": "a8347164",
   "metadata": {},
   "outputs": [
    {
     "name": "stdout",
     "output_type": "stream",
     "text": [
      "The null percentage of age is: 0.0032240079509369014\n"
     ]
    }
   ],
   "source": [
    "null_percentage= customers['age'].isnull().sum()/ len(customers)\n",
    "print('The null percentage of age is: ' + str(null_percentage))"
   ]
  },
  {
   "cell_type": "markdown",
   "id": "9f94d805",
   "metadata": {},
   "source": [
    "The percentage of missing values is quite low, around 0.32%. \n",
    "At this point we can choose to follow 2 paths:\n",
    "- Delete all the rows that contain a null value for age.\n",
    "- We can fill the null cells with the most common values for age.\n",
    "\n",
    "We decided to proceed by substituting all NaN values with the mode of the values of age, which is 26."
   ]
  },
  {
   "cell_type": "code",
   "execution_count": 6,
   "id": "99552dd9",
   "metadata": {},
   "outputs": [
    {
     "data": {
      "text/plain": [
       "0    26.0\n",
       "Name: age, dtype: float64"
      ]
     },
     "execution_count": 6,
     "metadata": {},
     "output_type": "execute_result"
    }
   ],
   "source": [
    "customers.age.mode()"
   ]
  },
  {
   "cell_type": "code",
   "execution_count": 7,
   "id": "2607c2e9",
   "metadata": {},
   "outputs": [],
   "source": [
    "customers['age'] = customers['age'].fillna(customers['age'].mode()[0])"
   ]
  },
  {
   "cell_type": "markdown",
   "id": "691a29ce",
   "metadata": {},
   "source": [
    "3) As we want our data to be as readable and interpretable as possible, we want to convert the age type from float to integer."
   ]
  },
  {
   "cell_type": "code",
   "execution_count": 8,
   "id": "1fd41fde",
   "metadata": {},
   "outputs": [
    {
     "data": {
      "text/html": [
       "<div>\n",
       "<style scoped>\n",
       "    .dataframe tbody tr th:only-of-type {\n",
       "        vertical-align: middle;\n",
       "    }\n",
       "\n",
       "    .dataframe tbody tr th {\n",
       "        vertical-align: top;\n",
       "    }\n",
       "\n",
       "    .dataframe thead th {\n",
       "        text-align: right;\n",
       "    }\n",
       "</style>\n",
       "<table border=\"1\" class=\"dataframe\">\n",
       "  <thead>\n",
       "    <tr style=\"text-align: right;\">\n",
       "      <th></th>\n",
       "      <th>customer_id</th>\n",
       "      <th>fashion_news</th>\n",
       "      <th>club_member</th>\n",
       "      <th>age</th>\n",
       "    </tr>\n",
       "  </thead>\n",
       "  <tbody>\n",
       "    <tr>\n",
       "      <th>0</th>\n",
       "      <td>0</td>\n",
       "      <td>1</td>\n",
       "      <td>1</td>\n",
       "      <td>44</td>\n",
       "    </tr>\n",
       "    <tr>\n",
       "      <th>1</th>\n",
       "      <td>1</td>\n",
       "      <td>1</td>\n",
       "      <td>1</td>\n",
       "      <td>33</td>\n",
       "    </tr>\n",
       "    <tr>\n",
       "      <th>2</th>\n",
       "      <td>2</td>\n",
       "      <td>0</td>\n",
       "      <td>0</td>\n",
       "      <td>29</td>\n",
       "    </tr>\n",
       "    <tr>\n",
       "      <th>3</th>\n",
       "      <td>3</td>\n",
       "      <td>0</td>\n",
       "      <td>0</td>\n",
       "      <td>21</td>\n",
       "    </tr>\n",
       "    <tr>\n",
       "      <th>4</th>\n",
       "      <td>4</td>\n",
       "      <td>0</td>\n",
       "      <td>0</td>\n",
       "      <td>23</td>\n",
       "    </tr>\n",
       "  </tbody>\n",
       "</table>\n",
       "</div>"
      ],
      "text/plain": [
       "   customer_id  fashion_news  club_member  age\n",
       "0            0             1            1   44\n",
       "1            1             1            1   33\n",
       "2            2             0            0   29\n",
       "3            3             0            0   21\n",
       "4            4             0            0   23"
      ]
     },
     "execution_count": 8,
     "metadata": {},
     "output_type": "execute_result"
    }
   ],
   "source": [
    "customers[\"age\"] = customers[\"age\"].apply(lambda x: int(x))\n",
    "customers.head()"
   ]
  },
  {
   "cell_type": "markdown",
   "id": "3b7271ce",
   "metadata": {},
   "source": [
    "4) To get a better insight of our data we want to divide customers in 5 categories depending on their age. \n",
    "\n",
    "To simplify things, we calculate the maximum and minimum of the age values and then we create our \"clusters\"."
   ]
  },
  {
   "cell_type": "code",
   "execution_count": 9,
   "id": "5fd26fba",
   "metadata": {},
   "outputs": [
    {
     "name": "stdout",
     "output_type": "stream",
     "text": [
      "The minimum age recorded is: 16\n",
      "The maximum age recorded is: 91\n"
     ]
    }
   ],
   "source": [
    "print('The minimum age recorded is: ' + str(min(customers[\"age\"])))\n",
    "print('The maximum age recorded is: ' + str(max(customers[\"age\"])))"
   ]
  },
  {
   "cell_type": "markdown",
   "id": "54517436",
   "metadata": {},
   "source": [
    "What are we doing? We assign each customer to the proper age category adding a column to the initial table."
   ]
  },
  {
   "cell_type": "code",
   "execution_count": 10,
   "id": "84315a88",
   "metadata": {},
   "outputs": [
    {
     "data": {
      "text/html": [
       "<div>\n",
       "<style scoped>\n",
       "    .dataframe tbody tr th:only-of-type {\n",
       "        vertical-align: middle;\n",
       "    }\n",
       "\n",
       "    .dataframe tbody tr th {\n",
       "        vertical-align: top;\n",
       "    }\n",
       "\n",
       "    .dataframe thead th {\n",
       "        text-align: right;\n",
       "    }\n",
       "</style>\n",
       "<table border=\"1\" class=\"dataframe\">\n",
       "  <thead>\n",
       "    <tr style=\"text-align: right;\">\n",
       "      <th></th>\n",
       "      <th>customer_id</th>\n",
       "      <th>fashion_news</th>\n",
       "      <th>club_member</th>\n",
       "      <th>age</th>\n",
       "      <th>age_group</th>\n",
       "    </tr>\n",
       "  </thead>\n",
       "  <tbody>\n",
       "    <tr>\n",
       "      <th>0</th>\n",
       "      <td>0</td>\n",
       "      <td>1</td>\n",
       "      <td>1</td>\n",
       "      <td>44</td>\n",
       "      <td>30-44</td>\n",
       "    </tr>\n",
       "    <tr>\n",
       "      <th>1</th>\n",
       "      <td>1</td>\n",
       "      <td>1</td>\n",
       "      <td>1</td>\n",
       "      <td>33</td>\n",
       "      <td>30-44</td>\n",
       "    </tr>\n",
       "    <tr>\n",
       "      <th>2</th>\n",
       "      <td>2</td>\n",
       "      <td>0</td>\n",
       "      <td>0</td>\n",
       "      <td>29</td>\n",
       "      <td>15-29</td>\n",
       "    </tr>\n",
       "    <tr>\n",
       "      <th>3</th>\n",
       "      <td>3</td>\n",
       "      <td>0</td>\n",
       "      <td>0</td>\n",
       "      <td>21</td>\n",
       "      <td>15-29</td>\n",
       "    </tr>\n",
       "    <tr>\n",
       "      <th>4</th>\n",
       "      <td>4</td>\n",
       "      <td>0</td>\n",
       "      <td>0</td>\n",
       "      <td>23</td>\n",
       "      <td>15-29</td>\n",
       "    </tr>\n",
       "    <tr>\n",
       "      <th>...</th>\n",
       "      <td>...</td>\n",
       "      <td>...</td>\n",
       "      <td>...</td>\n",
       "      <td>...</td>\n",
       "      <td>...</td>\n",
       "    </tr>\n",
       "    <tr>\n",
       "      <th>41248</th>\n",
       "      <td>41248</td>\n",
       "      <td>1</td>\n",
       "      <td>1</td>\n",
       "      <td>33</td>\n",
       "      <td>30-44</td>\n",
       "    </tr>\n",
       "    <tr>\n",
       "      <th>41249</th>\n",
       "      <td>41249</td>\n",
       "      <td>0</td>\n",
       "      <td>0</td>\n",
       "      <td>25</td>\n",
       "      <td>15-29</td>\n",
       "    </tr>\n",
       "    <tr>\n",
       "      <th>41250</th>\n",
       "      <td>41250</td>\n",
       "      <td>1</td>\n",
       "      <td>1</td>\n",
       "      <td>20</td>\n",
       "      <td>15-29</td>\n",
       "    </tr>\n",
       "    <tr>\n",
       "      <th>41251</th>\n",
       "      <td>41251</td>\n",
       "      <td>1</td>\n",
       "      <td>1</td>\n",
       "      <td>29</td>\n",
       "      <td>15-29</td>\n",
       "    </tr>\n",
       "    <tr>\n",
       "      <th>41252</th>\n",
       "      <td>41252</td>\n",
       "      <td>0</td>\n",
       "      <td>0</td>\n",
       "      <td>24</td>\n",
       "      <td>15-29</td>\n",
       "    </tr>\n",
       "  </tbody>\n",
       "</table>\n",
       "<p>41253 rows × 5 columns</p>\n",
       "</div>"
      ],
      "text/plain": [
       "       customer_id  fashion_news  club_member  age age_group\n",
       "0                0             1            1   44     30-44\n",
       "1                1             1            1   33     30-44\n",
       "2                2             0            0   29     15-29\n",
       "3                3             0            0   21     15-29\n",
       "4                4             0            0   23     15-29\n",
       "...            ...           ...          ...  ...       ...\n",
       "41248        41248             1            1   33     30-44\n",
       "41249        41249             0            0   25     15-29\n",
       "41250        41250             1            1   20     15-29\n",
       "41251        41251             1            1   29     15-29\n",
       "41252        41252             0            0   24     15-29\n",
       "\n",
       "[41253 rows x 5 columns]"
      ]
     },
     "execution_count": 10,
     "metadata": {},
     "output_type": "execute_result"
    }
   ],
   "source": [
    "bins = [15, 30, 45, 60, 70, 92]\n",
    "groups = ['15-29', '30-44', '45-59','60-79', '80+']\n",
    "\n",
    "customers['age_group'] = pd.cut(customers.age, bins, labels = groups, include_lowest=True)\n",
    "customers"
   ]
  },
  {
   "cell_type": "markdown",
   "id": "03c84552",
   "metadata": {},
   "source": [
    "After that we have categorized each customer, we can start to count how many members belong to each category. We do this using the group by function. Obviously, the total number of the members in each category is equal to the length of the dataset."
   ]
  },
  {
   "cell_type": "code",
   "execution_count": 11,
   "id": "15fcc2bd",
   "metadata": {},
   "outputs": [
    {
     "data": {
      "text/plain": [
       "age_group\n",
       "15-29    20465\n",
       "30-44     9971\n",
       "45-59     9533\n",
       "60-79     1111\n",
       "80+        173\n",
       "dtype: int64"
      ]
     },
     "execution_count": 11,
     "metadata": {},
     "output_type": "execute_result"
    }
   ],
   "source": [
    "age_group_counts = customers.groupby('age_group').size()\n",
    "age_group_counts"
   ]
  },
  {
   "cell_type": "code",
   "execution_count": 12,
   "id": "53de19b2",
   "metadata": {},
   "outputs": [
    {
     "data": {
      "text/plain": [
       "\" same as doing\\nfrom collections import Counter \\nage_group_counts2 = Counter(customers['age_group'])\\nage_group_counts2 \""
      ]
     },
     "execution_count": 12,
     "metadata": {},
     "output_type": "execute_result"
    }
   ],
   "source": [
    "''' same as doing\n",
    "from collections import Counter \n",
    "age_group_counts2 = Counter(customers['age_group'])\n",
    "age_group_counts2 '''"
   ]
  },
  {
   "cell_type": "markdown",
   "id": "c33ae62e",
   "metadata": {},
   "source": [
    "5) We are know ready to plot our age groups into a barplot to see the hetereogeneity of our dataset. In fact, as we expected, there are much more younger customers with respect to older ones."
   ]
  },
  {
   "cell_type": "code",
   "execution_count": 13,
   "id": "2310f690",
   "metadata": {},
   "outputs": [
    {
     "data": {
      "text/html": [
       "<div>\n",
       "<style scoped>\n",
       "    .dataframe tbody tr th:only-of-type {\n",
       "        vertical-align: middle;\n",
       "    }\n",
       "\n",
       "    .dataframe tbody tr th {\n",
       "        vertical-align: top;\n",
       "    }\n",
       "\n",
       "    .dataframe thead th {\n",
       "        text-align: right;\n",
       "    }\n",
       "</style>\n",
       "<table border=\"1\" class=\"dataframe\">\n",
       "  <thead>\n",
       "    <tr style=\"text-align: right;\">\n",
       "      <th></th>\n",
       "      <th>Age Group</th>\n",
       "      <th>Count</th>\n",
       "    </tr>\n",
       "  </thead>\n",
       "  <tbody>\n",
       "    <tr>\n",
       "      <th>0</th>\n",
       "      <td>15-29</td>\n",
       "      <td>20465</td>\n",
       "    </tr>\n",
       "    <tr>\n",
       "      <th>1</th>\n",
       "      <td>30-44</td>\n",
       "      <td>9971</td>\n",
       "    </tr>\n",
       "    <tr>\n",
       "      <th>2</th>\n",
       "      <td>45-59</td>\n",
       "      <td>9533</td>\n",
       "    </tr>\n",
       "    <tr>\n",
       "      <th>3</th>\n",
       "      <td>60-79</td>\n",
       "      <td>1111</td>\n",
       "    </tr>\n",
       "    <tr>\n",
       "      <th>4</th>\n",
       "      <td>80+</td>\n",
       "      <td>173</td>\n",
       "    </tr>\n",
       "  </tbody>\n",
       "</table>\n",
       "</div>"
      ],
      "text/plain": [
       "  Age Group  Count\n",
       "0     15-29  20465\n",
       "1     30-44   9971\n",
       "2     45-59   9533\n",
       "3     60-79   1111\n",
       "4       80+    173"
      ]
     },
     "execution_count": 13,
     "metadata": {},
     "output_type": "execute_result"
    }
   ],
   "source": [
    "age_group_counts_df = pd.DataFrame([age_group_counts]).T.reset_index()\n",
    "age_group_counts_df.columns = ['Age Group', 'Count']\n",
    "age_group_counts_df"
   ]
  },
  {
   "cell_type": "markdown",
   "id": "6a2bd4c3",
   "metadata": {},
   "source": [
    "6) We can plot our results to better capture the age distribution of our data. In our dataset there are much more people under 60 years old with respect to people over 60.\n",
    "The percentage of people below 60 years old is 96.8%!!!"
   ]
  },
  {
   "cell_type": "code",
   "execution_count": 14,
   "id": "b8681773",
   "metadata": {},
   "outputs": [
    {
     "data": {
      "image/png": "[encoded data removed]",
      "text/plain": [
       "<Figure size 1000x500 with 1 Axes>"
      ]
     },
     "metadata": {},
     "output_type": "display_data"
    }
   ],
   "source": [
    "plt.figure(figsize=(10,5))\n",
    "sns.barplot(x='Age Group', y='Count', data=age_group_counts_df)\n",
    "plt.xticks(rotation=90)\n",
    "plt.show()"
   ]
  },
  {
   "cell_type": "code",
   "execution_count": 15,
   "id": "42ce6c90",
   "metadata": {},
   "outputs": [
    {
     "name": "stdout",
     "output_type": "stream",
     "text": [
      "The percentage of people under 60 years old is: 0.968874990909752\n"
     ]
    }
   ],
   "source": [
    "people_under_60 = age_group_counts[0]+age_group_counts[1]+age_group_counts[2]\n",
    "people_over_60 = age_group_counts[3]+age_group_counts[4]\n",
    "total_number_customers = people_under_60 + people_over_60\n",
    "print(f'The percentage of people under 60 years old is: {( people_under_60 / total_number_customers) }')"
   ]
  },
  {
   "cell_type": "markdown",
   "id": "0288e1f5",
   "metadata": {},
   "source": [
    "7) Actually, it would be better for us also to capture how many people inside each age group have agreed to be part in the member club and how many people have activated the fashion news."
   ]
  },
  {
   "cell_type": "markdown",
   "id": "2b6141e9",
   "metadata": {},
   "source": [
    "We know that both columns of 'club member' and 'fashion news' have two possible values:\n",
    "- 1 if the customer is subscribed to the club member or to fashion news\n",
    "- 0 if the customer is not subscribed"
   ]
  },
  {
   "cell_type": "markdown",
   "id": "6b355697",
   "metadata": {},
   "source": [
    "#### Club membership"
   ]
  },
  {
   "cell_type": "code",
   "execution_count": 16,
   "id": "b47b620f",
   "metadata": {},
   "outputs": [
    {
     "data": {
      "text/plain": [
       "Counter({1: 17975, 0: 23278})"
      ]
     },
     "execution_count": 16,
     "metadata": {},
     "output_type": "execute_result"
    }
   ],
   "source": [
    "from collections import Counter\n",
    "\n",
    "club_general = Counter(customers['club_member'])\n",
    "club_general"
   ]
  },
  {
   "cell_type": "markdown",
   "id": "4cefbb51",
   "metadata": {},
   "source": [
    "We create a dataframe that contains the two options (being subscribed or not being subscribed) and we count how many customers there are in each of them."
   ]
  },
  {
   "cell_type": "code",
   "execution_count": 17,
   "id": "606254ba",
   "metadata": {},
   "outputs": [
    {
     "data": {
      "text/html": [
       "<div>\n",
       "<style scoped>\n",
       "    .dataframe tbody tr th:only-of-type {\n",
       "        vertical-align: middle;\n",
       "    }\n",
       "\n",
       "    .dataframe tbody tr th {\n",
       "        vertical-align: top;\n",
       "    }\n",
       "\n",
       "    .dataframe thead th {\n",
       "        text-align: right;\n",
       "    }\n",
       "</style>\n",
       "<table border=\"1\" class=\"dataframe\">\n",
       "  <thead>\n",
       "    <tr style=\"text-align: right;\">\n",
       "      <th></th>\n",
       "      <th>Premium Club (1=yes, 0=no)</th>\n",
       "      <th>Count</th>\n",
       "    </tr>\n",
       "  </thead>\n",
       "  <tbody>\n",
       "    <tr>\n",
       "      <th>0</th>\n",
       "      <td>1</td>\n",
       "      <td>17975</td>\n",
       "    </tr>\n",
       "    <tr>\n",
       "      <th>1</th>\n",
       "      <td>0</td>\n",
       "      <td>23278</td>\n",
       "    </tr>\n",
       "  </tbody>\n",
       "</table>\n",
       "</div>"
      ],
      "text/plain": [
       "   Premium Club (1=yes, 0=no)  Count\n",
       "0                           1  17975\n",
       "1                           0  23278"
      ]
     },
     "execution_count": 17,
     "metadata": {},
     "output_type": "execute_result"
    }
   ],
   "source": [
    "club_general_df = pd.DataFrame([club_general]).T.reset_index()\n",
    "club_general_df.columns = ['Premium Club (1=yes, 0=no)', 'Count']\n",
    "club_general_df"
   ]
  },
  {
   "cell_type": "markdown",
   "id": "944a6f23",
   "metadata": {},
   "source": [
    "We plot the graph of the dataframe. However it does not tell us a lot because we do not know to which group age each customer belongs. Therefore, we might decide to create a more accurate dataframe which always categorizes customers in two classes (subscribed or not subscribed) but at the same time, clusters the clients also by age group. In this way we can capture more information."
   ]
  },
  {
   "cell_type": "code",
   "execution_count": 18,
   "id": "9ee04ce8",
   "metadata": {},
   "outputs": [
    {
     "data": {
      "image/png": "[encoded data removed]",
      "text/plain": [
       "<Figure size 1000x500 with 1 Axes>"
      ]
     },
     "metadata": {},
     "output_type": "display_data"
    }
   ],
   "source": [
    "plt.figure(figsize=(10,5))\n",
    "sns.barplot(x='Premium Club (1=yes, 0=no)', y='Count', data=club_general_df)\n",
    "plt.xticks(rotation=90)\n",
    "plt.show()"
   ]
  },
  {
   "cell_type": "code",
   "execution_count": 19,
   "id": "d40df2df",
   "metadata": {},
   "outputs": [
    {
     "data": {
      "text/html": [
       "<div>\n",
       "<style scoped>\n",
       "    .dataframe tbody tr th:only-of-type {\n",
       "        vertical-align: middle;\n",
       "    }\n",
       "\n",
       "    .dataframe tbody tr th {\n",
       "        vertical-align: top;\n",
       "    }\n",
       "\n",
       "    .dataframe thead th {\n",
       "        text-align: right;\n",
       "    }\n",
       "</style>\n",
       "<table border=\"1\" class=\"dataframe\">\n",
       "  <thead>\n",
       "    <tr style=\"text-align: right;\">\n",
       "      <th></th>\n",
       "      <th>age_group</th>\n",
       "      <th>club_member</th>\n",
       "      <th>count</th>\n",
       "    </tr>\n",
       "  </thead>\n",
       "  <tbody>\n",
       "    <tr>\n",
       "      <th>0</th>\n",
       "      <td>15-29</td>\n",
       "      <td>0</td>\n",
       "      <td>12039</td>\n",
       "    </tr>\n",
       "    <tr>\n",
       "      <th>1</th>\n",
       "      <td>15-29</td>\n",
       "      <td>1</td>\n",
       "      <td>8426</td>\n",
       "    </tr>\n",
       "    <tr>\n",
       "      <th>2</th>\n",
       "      <td>30-44</td>\n",
       "      <td>0</td>\n",
       "      <td>5764</td>\n",
       "    </tr>\n",
       "    <tr>\n",
       "      <th>3</th>\n",
       "      <td>30-44</td>\n",
       "      <td>1</td>\n",
       "      <td>4207</td>\n",
       "    </tr>\n",
       "    <tr>\n",
       "      <th>4</th>\n",
       "      <td>45-59</td>\n",
       "      <td>0</td>\n",
       "      <td>4938</td>\n",
       "    </tr>\n",
       "    <tr>\n",
       "      <th>5</th>\n",
       "      <td>45-59</td>\n",
       "      <td>1</td>\n",
       "      <td>4595</td>\n",
       "    </tr>\n",
       "    <tr>\n",
       "      <th>6</th>\n",
       "      <td>60-79</td>\n",
       "      <td>0</td>\n",
       "      <td>469</td>\n",
       "    </tr>\n",
       "    <tr>\n",
       "      <th>7</th>\n",
       "      <td>60-79</td>\n",
       "      <td>1</td>\n",
       "      <td>642</td>\n",
       "    </tr>\n",
       "    <tr>\n",
       "      <th>8</th>\n",
       "      <td>80+</td>\n",
       "      <td>0</td>\n",
       "      <td>68</td>\n",
       "    </tr>\n",
       "    <tr>\n",
       "      <th>9</th>\n",
       "      <td>80+</td>\n",
       "      <td>1</td>\n",
       "      <td>105</td>\n",
       "    </tr>\n",
       "  </tbody>\n",
       "</table>\n",
       "</div>"
      ],
      "text/plain": [
       "  age_group  club_member  count\n",
       "0     15-29            0  12039\n",
       "1     15-29            1   8426\n",
       "2     30-44            0   5764\n",
       "3     30-44            1   4207\n",
       "4     45-59            0   4938\n",
       "5     45-59            1   4595\n",
       "6     60-79            0    469\n",
       "7     60-79            1    642\n",
       "8       80+            0     68\n",
       "9       80+            1    105"
      ]
     },
     "execution_count": 19,
     "metadata": {},
     "output_type": "execute_result"
    }
   ],
   "source": [
    "club_member_df = customers.groupby(['age_group', 'club_member']).count().reset_index()\n",
    "club_member_df = club_member_df.drop(columns=['fashion_news', 'age'])\n",
    "club_member_df.columns = ['age_group', 'club_member', 'count']\n",
    "club_member_df"
   ]
  },
  {
   "cell_type": "markdown",
   "id": "d8b5c9a2",
   "metadata": {},
   "source": [
    "For instance, on average there are more people which are not subscribed to the premium club. However, most of the people who are subscribed are youngsters. For what concerns elderly people, their percentage of influence in the dataset is very small."
   ]
  },
  {
   "cell_type": "code",
   "execution_count": 20,
   "id": "5aeb83ff",
   "metadata": {},
   "outputs": [
    {
     "data": {
      "image/png": "[encoded data removed]",
      "text/plain": [
       "<Figure size 1000x500 with 1 Axes>"
      ]
     },
     "metadata": {},
     "output_type": "display_data"
    }
   ],
   "source": [
    "plt.figure(figsize=(10,5))\n",
    "sns.barplot(x='age_group', y='count', hue='club_member', data=club_member_df)\n",
    "plt.xticks(rotation=90)\n",
    "plt.show()"
   ]
  },
  {
   "cell_type": "markdown",
   "id": "405e4f66",
   "metadata": {},
   "source": [
    "#### Fashion news"
   ]
  },
  {
   "cell_type": "code",
   "execution_count": 21,
   "id": "6ff78eda",
   "metadata": {},
   "outputs": [
    {
     "data": {
      "text/html": [
       "<div>\n",
       "<style scoped>\n",
       "    .dataframe tbody tr th:only-of-type {\n",
       "        vertical-align: middle;\n",
       "    }\n",
       "\n",
       "    .dataframe tbody tr th {\n",
       "        vertical-align: top;\n",
       "    }\n",
       "\n",
       "    .dataframe thead th {\n",
       "        text-align: right;\n",
       "    }\n",
       "</style>\n",
       "<table border=\"1\" class=\"dataframe\">\n",
       "  <thead>\n",
       "    <tr style=\"text-align: right;\">\n",
       "      <th></th>\n",
       "      <th>Fashion News (1=yes, 0=no)</th>\n",
       "      <th>Count</th>\n",
       "    </tr>\n",
       "  </thead>\n",
       "  <tbody>\n",
       "    <tr>\n",
       "      <th>0</th>\n",
       "      <td>1</td>\n",
       "      <td>18213</td>\n",
       "    </tr>\n",
       "    <tr>\n",
       "      <th>1</th>\n",
       "      <td>0</td>\n",
       "      <td>23040</td>\n",
       "    </tr>\n",
       "  </tbody>\n",
       "</table>\n",
       "</div>"
      ],
      "text/plain": [
       "   Fashion News (1=yes, 0=no)  Count\n",
       "0                           1  18213\n",
       "1                           0  23040"
      ]
     },
     "execution_count": 21,
     "metadata": {},
     "output_type": "execute_result"
    }
   ],
   "source": [
    "from collections import Counter\n",
    "fashion_general = Counter(customers['fashion_news'])\n",
    "\n",
    "fashion_general_df = pd.DataFrame([fashion_general]).T.reset_index()\n",
    "fashion_general_df.columns = ['Fashion News (1=yes, 0=no)', 'Count']\n",
    "fashion_general_df"
   ]
  },
  {
   "cell_type": "code",
   "execution_count": 22,
   "id": "85a3f940",
   "metadata": {},
   "outputs": [
    {
     "data": {
      "image/png": "[encoded data removed]",
      "text/plain": [
       "<Figure size 1000x500 with 1 Axes>"
      ]
     },
     "metadata": {},
     "output_type": "display_data"
    }
   ],
   "source": [
    "plt.figure(figsize=(10,5))\n",
    "sns.barplot(x='Fashion News (1=yes, 0=no)', y='Count', data=fashion_general_df)\n",
    "plt.xticks(rotation=90)\n",
    "plt.show()"
   ]
  },
  {
   "cell_type": "code",
   "execution_count": 23,
   "id": "10dadb8c",
   "metadata": {},
   "outputs": [
    {
     "data": {
      "text/html": [
       "<div>\n",
       "<style scoped>\n",
       "    .dataframe tbody tr th:only-of-type {\n",
       "        vertical-align: middle;\n",
       "    }\n",
       "\n",
       "    .dataframe tbody tr th {\n",
       "        vertical-align: top;\n",
       "    }\n",
       "\n",
       "    .dataframe thead th {\n",
       "        text-align: right;\n",
       "    }\n",
       "</style>\n",
       "<table border=\"1\" class=\"dataframe\">\n",
       "  <thead>\n",
       "    <tr style=\"text-align: right;\">\n",
       "      <th></th>\n",
       "      <th>age_group</th>\n",
       "      <th>fashion_news</th>\n",
       "      <th>count</th>\n",
       "    </tr>\n",
       "  </thead>\n",
       "  <tbody>\n",
       "    <tr>\n",
       "      <th>0</th>\n",
       "      <td>15-29</td>\n",
       "      <td>0</td>\n",
       "      <td>11901</td>\n",
       "    </tr>\n",
       "    <tr>\n",
       "      <th>1</th>\n",
       "      <td>15-29</td>\n",
       "      <td>1</td>\n",
       "      <td>8564</td>\n",
       "    </tr>\n",
       "    <tr>\n",
       "      <th>2</th>\n",
       "      <td>30-44</td>\n",
       "      <td>0</td>\n",
       "      <td>5710</td>\n",
       "    </tr>\n",
       "    <tr>\n",
       "      <th>3</th>\n",
       "      <td>30-44</td>\n",
       "      <td>1</td>\n",
       "      <td>4261</td>\n",
       "    </tr>\n",
       "    <tr>\n",
       "      <th>4</th>\n",
       "      <td>45-59</td>\n",
       "      <td>0</td>\n",
       "      <td>4899</td>\n",
       "    </tr>\n",
       "    <tr>\n",
       "      <th>5</th>\n",
       "      <td>45-59</td>\n",
       "      <td>1</td>\n",
       "      <td>4634</td>\n",
       "    </tr>\n",
       "    <tr>\n",
       "      <th>6</th>\n",
       "      <td>60-79</td>\n",
       "      <td>0</td>\n",
       "      <td>462</td>\n",
       "    </tr>\n",
       "    <tr>\n",
       "      <th>7</th>\n",
       "      <td>60-79</td>\n",
       "      <td>1</td>\n",
       "      <td>649</td>\n",
       "    </tr>\n",
       "    <tr>\n",
       "      <th>8</th>\n",
       "      <td>80+</td>\n",
       "      <td>0</td>\n",
       "      <td>68</td>\n",
       "    </tr>\n",
       "    <tr>\n",
       "      <th>9</th>\n",
       "      <td>80+</td>\n",
       "      <td>1</td>\n",
       "      <td>105</td>\n",
       "    </tr>\n",
       "  </tbody>\n",
       "</table>\n",
       "</div>"
      ],
      "text/plain": [
       "  age_group  fashion_news  count\n",
       "0     15-29             0  11901\n",
       "1     15-29             1   8564\n",
       "2     30-44             0   5710\n",
       "3     30-44             1   4261\n",
       "4     45-59             0   4899\n",
       "5     45-59             1   4634\n",
       "6     60-79             0    462\n",
       "7     60-79             1    649\n",
       "8       80+             0     68\n",
       "9       80+             1    105"
      ]
     },
     "execution_count": 23,
     "metadata": {},
     "output_type": "execute_result"
    }
   ],
   "source": [
    "fashion_news_df = customers.groupby(['age_group', 'fashion_news']).count().reset_index()\n",
    "fashion_news_df = fashion_news_df.drop(columns=['club_member', 'age'])\n",
    "fashion_news_df.columns = ['age_group', 'fashion_news', 'count']\n",
    "fashion_news_df"
   ]
  },
  {
   "cell_type": "markdown",
   "id": "29137657",
   "metadata": {},
   "source": [
    "From the graph underneath, we can see again that yougsters are a vast majority of members connected to fashion news. However, the probability that a person over 60 is connected to fashion news is higher to not being connected with respect to younger people."
   ]
  },
  {
   "cell_type": "code",
   "execution_count": 24,
   "id": "d21fc198",
   "metadata": {},
   "outputs": [
    {
     "data": {
      "image/png": "[encoded data removed]",
      "text/plain": [
       "<Figure size 1000x500 with 1 Axes>"
      ]
     },
     "metadata": {},
     "output_type": "display_data"
    }
   ],
   "source": [
    "plt.figure(figsize=(10,5))\n",
    "sns.barplot(x='age_group', y='count', hue='fashion_news', data=fashion_news_df)\n",
    "plt.xticks(rotation=90)\n",
    "plt.show()"
   ]
  },
  {
   "cell_type": "markdown",
   "id": "b5a6af28",
   "metadata": {},
   "source": [
    "As a conclusion, what useful information can we use for our recommendation system?\n",
    "- Data of customers in the cutomers' dataset is not very homogeneous (almost 97% of the population is below 60 years old).\n",
    "- People over 60 years old have an higher probability to be subscribed to fashion news and member club with respect to people under 60 years old.\n",
    "- In general there are more people who are not into these activities."
   ]
  },
  {
   "cell_type": "markdown",
   "id": "38cd0c45",
   "metadata": {},
   "source": [
    "# ARTICLES"
   ]
  },
  {
   "cell_type": "markdown",
   "id": "8559f960",
   "metadata": {},
   "source": [
    "In the second part of our data analysis, we will study the different articles that our company sells. The final aim is to be able to understand when different articles are similiar or different and therefore, when to suggest one of them basing on the previous orders. \n",
    "Let's take a look to this dataset:"
   ]
  },
  {
   "cell_type": "code",
   "execution_count": 25,
   "id": "555910d8",
   "metadata": {},
   "outputs": [
    {
     "data": {
      "text/html": [
       "<div>\n",
       "<style scoped>\n",
       "    .dataframe tbody tr th:only-of-type {\n",
       "        vertical-align: middle;\n",
       "    }\n",
       "\n",
       "    .dataframe tbody tr th {\n",
       "        vertical-align: top;\n",
       "    }\n",
       "\n",
       "    .dataframe thead th {\n",
       "        text-align: right;\n",
       "    }\n",
       "</style>\n",
       "<table border=\"1\" class=\"dataframe\">\n",
       "  <thead>\n",
       "    <tr style=\"text-align: right;\">\n",
       "      <th></th>\n",
       "      <th>article_id</th>\n",
       "      <th>prod_name</th>\n",
       "      <th>product_type</th>\n",
       "      <th>product_type_name</th>\n",
       "      <th>product_group_name</th>\n",
       "      <th>colour_group</th>\n",
       "      <th>colour_group_name</th>\n",
       "      <th>perceived_colour_value</th>\n",
       "      <th>perceived_colour_value_name</th>\n",
       "      <th>perceived_colour_master</th>\n",
       "      <th>...</th>\n",
       "      <th>department</th>\n",
       "      <th>department_name</th>\n",
       "      <th>index</th>\n",
       "      <th>index_name</th>\n",
       "      <th>index_group</th>\n",
       "      <th>index_group_name</th>\n",
       "      <th>section</th>\n",
       "      <th>section_name</th>\n",
       "      <th>garment_group</th>\n",
       "      <th>garment_group_name</th>\n",
       "    </tr>\n",
       "  </thead>\n",
       "  <tbody>\n",
       "    <tr>\n",
       "      <th>0</th>\n",
       "      <td>0</td>\n",
       "      <td>20 den 1p Stockings</td>\n",
       "      <td>304</td>\n",
       "      <td>Underwear Tights</td>\n",
       "      <td>Socks &amp; Tights</td>\n",
       "      <td>9</td>\n",
       "      <td>Black</td>\n",
       "      <td>4</td>\n",
       "      <td>Dark</td>\n",
       "      <td>5</td>\n",
       "      <td>...</td>\n",
       "      <td>3608</td>\n",
       "      <td>Tights basic</td>\n",
       "      <td>B</td>\n",
       "      <td>Lingeries/Tights</td>\n",
       "      <td>1</td>\n",
       "      <td>Ladieswear</td>\n",
       "      <td>62</td>\n",
       "      <td>Womens Nightwear, Socks &amp; Tigh</td>\n",
       "      <td>1021</td>\n",
       "      <td>Socks and Tights</td>\n",
       "    </tr>\n",
       "    <tr>\n",
       "      <th>1</th>\n",
       "      <td>1</td>\n",
       "      <td>Shape Up 30 den 1p Tights</td>\n",
       "      <td>273</td>\n",
       "      <td>Leggings/Tights</td>\n",
       "      <td>Garment Lower body</td>\n",
       "      <td>9</td>\n",
       "      <td>Black</td>\n",
       "      <td>4</td>\n",
       "      <td>Dark</td>\n",
       "      <td>5</td>\n",
       "      <td>...</td>\n",
       "      <td>3608</td>\n",
       "      <td>Tights basic</td>\n",
       "      <td>B</td>\n",
       "      <td>Lingeries/Tights</td>\n",
       "      <td>1</td>\n",
       "      <td>Ladieswear</td>\n",
       "      <td>62</td>\n",
       "      <td>Womens Nightwear, Socks &amp; Tigh</td>\n",
       "      <td>1021</td>\n",
       "      <td>Socks and Tights</td>\n",
       "    </tr>\n",
       "    <tr>\n",
       "      <th>2</th>\n",
       "      <td>2</td>\n",
       "      <td>Support 40 den 1p Tights</td>\n",
       "      <td>304</td>\n",
       "      <td>Underwear Tights</td>\n",
       "      <td>Socks &amp; Tights</td>\n",
       "      <td>9</td>\n",
       "      <td>Black</td>\n",
       "      <td>4</td>\n",
       "      <td>Dark</td>\n",
       "      <td>5</td>\n",
       "      <td>...</td>\n",
       "      <td>3608</td>\n",
       "      <td>Tights basic</td>\n",
       "      <td>B</td>\n",
       "      <td>Lingeries/Tights</td>\n",
       "      <td>1</td>\n",
       "      <td>Ladieswear</td>\n",
       "      <td>62</td>\n",
       "      <td>Womens Nightwear, Socks &amp; Tigh</td>\n",
       "      <td>1021</td>\n",
       "      <td>Socks and Tights</td>\n",
       "    </tr>\n",
       "    <tr>\n",
       "      <th>3</th>\n",
       "      <td>3</td>\n",
       "      <td>200 den 1p Tights</td>\n",
       "      <td>304</td>\n",
       "      <td>Underwear Tights</td>\n",
       "      <td>Socks &amp; Tights</td>\n",
       "      <td>9</td>\n",
       "      <td>Black</td>\n",
       "      <td>4</td>\n",
       "      <td>Dark</td>\n",
       "      <td>5</td>\n",
       "      <td>...</td>\n",
       "      <td>3608</td>\n",
       "      <td>Tights basic</td>\n",
       "      <td>B</td>\n",
       "      <td>Lingeries/Tights</td>\n",
       "      <td>1</td>\n",
       "      <td>Ladieswear</td>\n",
       "      <td>62</td>\n",
       "      <td>Womens Nightwear, Socks &amp; Tigh</td>\n",
       "      <td>1021</td>\n",
       "      <td>Socks and Tights</td>\n",
       "    </tr>\n",
       "    <tr>\n",
       "      <th>4</th>\n",
       "      <td>4</td>\n",
       "      <td>Control Top 50 den 1p Tights</td>\n",
       "      <td>273</td>\n",
       "      <td>Leggings/Tights</td>\n",
       "      <td>Garment Lower body</td>\n",
       "      <td>9</td>\n",
       "      <td>Black</td>\n",
       "      <td>4</td>\n",
       "      <td>Dark</td>\n",
       "      <td>5</td>\n",
       "      <td>...</td>\n",
       "      <td>3608</td>\n",
       "      <td>Tights basic</td>\n",
       "      <td>B</td>\n",
       "      <td>Lingeries/Tights</td>\n",
       "      <td>1</td>\n",
       "      <td>Ladieswear</td>\n",
       "      <td>62</td>\n",
       "      <td>Womens Nightwear, Socks &amp; Tigh</td>\n",
       "      <td>1021</td>\n",
       "      <td>Socks and Tights</td>\n",
       "    </tr>\n",
       "    <tr>\n",
       "      <th>...</th>\n",
       "      <td>...</td>\n",
       "      <td>...</td>\n",
       "      <td>...</td>\n",
       "      <td>...</td>\n",
       "      <td>...</td>\n",
       "      <td>...</td>\n",
       "      <td>...</td>\n",
       "      <td>...</td>\n",
       "      <td>...</td>\n",
       "      <td>...</td>\n",
       "      <td>...</td>\n",
       "      <td>...</td>\n",
       "      <td>...</td>\n",
       "      <td>...</td>\n",
       "      <td>...</td>\n",
       "      <td>...</td>\n",
       "      <td>...</td>\n",
       "      <td>...</td>\n",
       "      <td>...</td>\n",
       "      <td>...</td>\n",
       "      <td>...</td>\n",
       "    </tr>\n",
       "    <tr>\n",
       "      <th>6531</th>\n",
       "      <td>6531</td>\n",
       "      <td>Virgo sweater fast buy</td>\n",
       "      <td>252</td>\n",
       "      <td>Sweater</td>\n",
       "      <td>Garment Upper body</td>\n",
       "      <td>9</td>\n",
       "      <td>Black</td>\n",
       "      <td>4</td>\n",
       "      <td>Dark</td>\n",
       "      <td>5</td>\n",
       "      <td>...</td>\n",
       "      <td>1640</td>\n",
       "      <td>Tops Fancy Jersey</td>\n",
       "      <td>D</td>\n",
       "      <td>Divided</td>\n",
       "      <td>2</td>\n",
       "      <td>Divided</td>\n",
       "      <td>53</td>\n",
       "      <td>Divided Collection</td>\n",
       "      <td>1005</td>\n",
       "      <td>Jersey Fancy</td>\n",
       "    </tr>\n",
       "    <tr>\n",
       "      <th>6532</th>\n",
       "      <td>6532</td>\n",
       "      <td>Virgo sweater fast buy</td>\n",
       "      <td>252</td>\n",
       "      <td>Sweater</td>\n",
       "      <td>Garment Upper body</td>\n",
       "      <td>52</td>\n",
       "      <td>Pink</td>\n",
       "      <td>1</td>\n",
       "      <td>Dusty Light</td>\n",
       "      <td>4</td>\n",
       "      <td>...</td>\n",
       "      <td>1640</td>\n",
       "      <td>Tops Fancy Jersey</td>\n",
       "      <td>D</td>\n",
       "      <td>Divided</td>\n",
       "      <td>2</td>\n",
       "      <td>Divided</td>\n",
       "      <td>53</td>\n",
       "      <td>Divided Collection</td>\n",
       "      <td>1005</td>\n",
       "      <td>Jersey Fancy</td>\n",
       "    </tr>\n",
       "    <tr>\n",
       "      <th>6533</th>\n",
       "      <td>6533</td>\n",
       "      <td>Heavy plain overknee tights 1p</td>\n",
       "      <td>304</td>\n",
       "      <td>Underwear Tights</td>\n",
       "      <td>Socks &amp; Tights</td>\n",
       "      <td>9</td>\n",
       "      <td>Black</td>\n",
       "      <td>4</td>\n",
       "      <td>Dark</td>\n",
       "      <td>5</td>\n",
       "      <td>...</td>\n",
       "      <td>3608</td>\n",
       "      <td>Tights basic</td>\n",
       "      <td>B</td>\n",
       "      <td>Lingeries/Tights</td>\n",
       "      <td>1</td>\n",
       "      <td>Ladieswear</td>\n",
       "      <td>62</td>\n",
       "      <td>Womens Nightwear, Socks &amp; Tigh</td>\n",
       "      <td>1021</td>\n",
       "      <td>Socks and Tights</td>\n",
       "    </tr>\n",
       "    <tr>\n",
       "      <th>6534</th>\n",
       "      <td>6534</td>\n",
       "      <td>SPORT Malaga tank</td>\n",
       "      <td>253</td>\n",
       "      <td>Vest top</td>\n",
       "      <td>Garment Upper body</td>\n",
       "      <td>9</td>\n",
       "      <td>Black</td>\n",
       "      <td>4</td>\n",
       "      <td>Dark</td>\n",
       "      <td>5</td>\n",
       "      <td>...</td>\n",
       "      <td>1919</td>\n",
       "      <td>Jersey</td>\n",
       "      <td>A</td>\n",
       "      <td>Ladieswear</td>\n",
       "      <td>1</td>\n",
       "      <td>Ladieswear</td>\n",
       "      <td>2</td>\n",
       "      <td>H&amp;M+</td>\n",
       "      <td>1005</td>\n",
       "      <td>Jersey Fancy</td>\n",
       "    </tr>\n",
       "    <tr>\n",
       "      <th>6535</th>\n",
       "      <td>6535</td>\n",
       "      <td>Cartwheel dress</td>\n",
       "      <td>265</td>\n",
       "      <td>Dress</td>\n",
       "      <td>Garment Full body</td>\n",
       "      <td>9</td>\n",
       "      <td>Black</td>\n",
       "      <td>4</td>\n",
       "      <td>Dark</td>\n",
       "      <td>5</td>\n",
       "      <td>...</td>\n",
       "      <td>1641</td>\n",
       "      <td>Jersey</td>\n",
       "      <td>A</td>\n",
       "      <td>Ladieswear</td>\n",
       "      <td>1</td>\n",
       "      <td>Ladieswear</td>\n",
       "      <td>18</td>\n",
       "      <td>Womens Trend</td>\n",
       "      <td>1005</td>\n",
       "      <td>Jersey Fancy</td>\n",
       "    </tr>\n",
       "  </tbody>\n",
       "</table>\n",
       "<p>6536 rows × 21 columns</p>\n",
       "</div>"
      ],
      "text/plain": [
       "      article_id                       prod_name  product_type  \\\n",
       "0              0             20 den 1p Stockings           304   \n",
       "1              1       Shape Up 30 den 1p Tights           273   \n",
       "2              2        Support 40 den 1p Tights           304   \n",
       "3              3               200 den 1p Tights           304   \n",
       "4              4    Control Top 50 den 1p Tights           273   \n",
       "...          ...                             ...           ...   \n",
       "6531        6531          Virgo sweater fast buy           252   \n",
       "6532        6532          Virgo sweater fast buy           252   \n",
       "6533        6533  Heavy plain overknee tights 1p           304   \n",
       "6534        6534               SPORT Malaga tank           253   \n",
       "6535        6535                 Cartwheel dress           265   \n",
       "\n",
       "     product_type_name  product_group_name  colour_group colour_group_name  \\\n",
       "0     Underwear Tights      Socks & Tights             9             Black   \n",
       "1      Leggings/Tights  Garment Lower body             9             Black   \n",
       "2     Underwear Tights      Socks & Tights             9             Black   \n",
       "3     Underwear Tights      Socks & Tights             9             Black   \n",
       "4      Leggings/Tights  Garment Lower body             9             Black   \n",
       "...                ...                 ...           ...               ...   \n",
       "6531           Sweater  Garment Upper body             9             Black   \n",
       "6532           Sweater  Garment Upper body            52              Pink   \n",
       "6533  Underwear Tights      Socks & Tights             9             Black   \n",
       "6534          Vest top  Garment Upper body             9             Black   \n",
       "6535             Dress   Garment Full body             9             Black   \n",
       "\n",
       "      perceived_colour_value perceived_colour_value_name  \\\n",
       "0                          4                        Dark   \n",
       "1                          4                        Dark   \n",
       "2                          4                        Dark   \n",
       "3                          4                        Dark   \n",
       "4                          4                        Dark   \n",
       "...                      ...                         ...   \n",
       "6531                       4                        Dark   \n",
       "6532                       1                 Dusty Light   \n",
       "6533                       4                        Dark   \n",
       "6534                       4                        Dark   \n",
       "6535                       4                        Dark   \n",
       "\n",
       "      perceived_colour_master  ... department    department_name index  \\\n",
       "0                           5  ...       3608       Tights basic     B   \n",
       "1                           5  ...       3608       Tights basic     B   \n",
       "2                           5  ...       3608       Tights basic     B   \n",
       "3                           5  ...       3608       Tights basic     B   \n",
       "4                           5  ...       3608       Tights basic     B   \n",
       "...                       ...  ...        ...                ...   ...   \n",
       "6531                        5  ...       1640  Tops Fancy Jersey     D   \n",
       "6532                        4  ...       1640  Tops Fancy Jersey     D   \n",
       "6533                        5  ...       3608       Tights basic     B   \n",
       "6534                        5  ...       1919             Jersey     A   \n",
       "6535                        5  ...       1641             Jersey     A   \n",
       "\n",
       "            index_name index_group  index_group_name section  \\\n",
       "0     Lingeries/Tights           1        Ladieswear      62   \n",
       "1     Lingeries/Tights           1        Ladieswear      62   \n",
       "2     Lingeries/Tights           1        Ladieswear      62   \n",
       "3     Lingeries/Tights           1        Ladieswear      62   \n",
       "4     Lingeries/Tights           1        Ladieswear      62   \n",
       "...                ...         ...               ...     ...   \n",
       "6531           Divided           2           Divided      53   \n",
       "6532           Divided           2           Divided      53   \n",
       "6533  Lingeries/Tights           1        Ladieswear      62   \n",
       "6534        Ladieswear           1        Ladieswear       2   \n",
       "6535        Ladieswear           1        Ladieswear      18   \n",
       "\n",
       "                        section_name garment_group  garment_group_name  \n",
       "0     Womens Nightwear, Socks & Tigh          1021    Socks and Tights  \n",
       "1     Womens Nightwear, Socks & Tigh          1021    Socks and Tights  \n",
       "2     Womens Nightwear, Socks & Tigh          1021    Socks and Tights  \n",
       "3     Womens Nightwear, Socks & Tigh          1021    Socks and Tights  \n",
       "4     Womens Nightwear, Socks & Tigh          1021    Socks and Tights  \n",
       "...                              ...           ...                 ...  \n",
       "6531              Divided Collection          1005        Jersey Fancy  \n",
       "6532              Divided Collection          1005        Jersey Fancy  \n",
       "6533  Womens Nightwear, Socks & Tigh          1021    Socks and Tights  \n",
       "6534                            H&M+          1005        Jersey Fancy  \n",
       "6535                    Womens Trend          1005        Jersey Fancy  \n",
       "\n",
       "[6536 rows x 21 columns]"
      ]
     },
     "execution_count": 25,
     "metadata": {},
     "output_type": "execute_result"
    }
   ],
   "source": [
    "articles = pd.read_csv(\"recsys_articles.csv\")\n",
    "articles"
   ]
  },
  {
   "cell_type": "markdown",
   "id": "3b99fe28",
   "metadata": {},
   "source": [
    "As we can easily see, this dataset has a more complex structure than the one analyzed before, but we can for sure ignore some columns.\n",
    "Each category is represented by two columns and for this reason, we can take only one and discard the other.\n",
    "For example, each product has the variable 'product_type' containing its ID code and the variable 'product_type_name' that is the full name of the product.\n",
    "Therefore, we can choose some variables to consider and someother to ignore."
   ]
  },
  {
   "cell_type": "markdown",
   "id": "37012445",
   "metadata": {},
   "source": [
    "1) As we did for customers, we want to check how many values are null. Luckily, this time we have zero null values."
   ]
  },
  {
   "cell_type": "code",
   "execution_count": 26,
   "id": "654b8f6f",
   "metadata": {},
   "outputs": [
    {
     "data": {
      "text/plain": [
       "article_id                      0\n",
       "prod_name                       0\n",
       "product_type                    0\n",
       "product_type_name               0\n",
       "product_group_name              0\n",
       "colour_group                    0\n",
       "colour_group_name               0\n",
       "perceived_colour_value          0\n",
       "perceived_colour_value_name     0\n",
       "perceived_colour_master         0\n",
       "perceived_colour_master_name    0\n",
       "department                      0\n",
       "department_name                 0\n",
       "index                           0\n",
       "index_name                      0\n",
       "index_group                     0\n",
       "index_group_name                0\n",
       "section                         0\n",
       "section_name                    0\n",
       "garment_group                   0\n",
       "garment_group_name              0\n",
       "dtype: int64"
      ]
     },
     "execution_count": 26,
     "metadata": {},
     "output_type": "execute_result"
    }
   ],
   "source": [
    "articles.isnull().sum()"
   ]
  },
  {
   "cell_type": "markdown",
   "id": "cc1c4a28",
   "metadata": {},
   "source": [
    "2) Now we can group our articles in different ways, starting from the division in categories."
   ]
  },
  {
   "cell_type": "markdown",
   "id": "45b87a36",
   "metadata": {},
   "source": [
    "#### Categories"
   ]
  },
  {
   "cell_type": "markdown",
   "id": "7adaf23d",
   "metadata": {},
   "source": [
    "We want to see how our products are partitioned according to their category. We analyze how these categories are structured and we find the number of articles for each of them."
   ]
  },
  {
   "cell_type": "markdown",
   "id": "ac4ee28b",
   "metadata": {},
   "source": [
    "From the dataframe, we see that the product type with more articles is 'Trousers', with exactly 972 models."
   ]
  },
  {
   "cell_type": "code",
   "execution_count": 27,
   "id": "17456715",
   "metadata": {},
   "outputs": [
    {
     "data": {
      "text/html": [
       "<div>\n",
       "<style scoped>\n",
       "    .dataframe tbody tr th:only-of-type {\n",
       "        vertical-align: middle;\n",
       "    }\n",
       "\n",
       "    .dataframe tbody tr th {\n",
       "        vertical-align: top;\n",
       "    }\n",
       "\n",
       "    .dataframe thead th {\n",
       "        text-align: right;\n",
       "    }\n",
       "</style>\n",
       "<table border=\"1\" class=\"dataframe\">\n",
       "  <thead>\n",
       "    <tr style=\"text-align: right;\">\n",
       "      <th></th>\n",
       "      <th>Type</th>\n",
       "      <th>Count</th>\n",
       "    </tr>\n",
       "  </thead>\n",
       "  <tbody>\n",
       "    <tr>\n",
       "      <th>18</th>\n",
       "      <td>Trousers</td>\n",
       "      <td>972</td>\n",
       "    </tr>\n",
       "    <tr>\n",
       "      <th>3</th>\n",
       "      <td>Sweater</td>\n",
       "      <td>635</td>\n",
       "    </tr>\n",
       "    <tr>\n",
       "      <th>11</th>\n",
       "      <td>Dress</td>\n",
       "      <td>578</td>\n",
       "    </tr>\n",
       "    <tr>\n",
       "      <th>21</th>\n",
       "      <td>Top</td>\n",
       "      <td>422</td>\n",
       "    </tr>\n",
       "    <tr>\n",
       "      <th>17</th>\n",
       "      <td>T-shirt</td>\n",
       "      <td>382</td>\n",
       "    </tr>\n",
       "    <tr>\n",
       "      <th>...</th>\n",
       "      <td>...</td>\n",
       "      <td>...</td>\n",
       "    </tr>\n",
       "    <tr>\n",
       "      <th>30</th>\n",
       "      <td>Braces</td>\n",
       "      <td>1</td>\n",
       "    </tr>\n",
       "    <tr>\n",
       "      <th>78</th>\n",
       "      <td>Hairband</td>\n",
       "      <td>1</td>\n",
       "    </tr>\n",
       "    <tr>\n",
       "      <th>79</th>\n",
       "      <td>Flat shoes</td>\n",
       "      <td>1</td>\n",
       "    </tr>\n",
       "    <tr>\n",
       "      <th>31</th>\n",
       "      <td>Nipple covers</td>\n",
       "      <td>1</td>\n",
       "    </tr>\n",
       "    <tr>\n",
       "      <th>33</th>\n",
       "      <td>Bra extender</td>\n",
       "      <td>1</td>\n",
       "    </tr>\n",
       "  </tbody>\n",
       "</table>\n",
       "<p>82 rows × 2 columns</p>\n",
       "</div>"
      ],
      "text/plain": [
       "             Type  Count\n",
       "18       Trousers    972\n",
       "3         Sweater    635\n",
       "11          Dress    578\n",
       "21            Top    422\n",
       "17        T-shirt    382\n",
       "..            ...    ...\n",
       "30         Braces      1\n",
       "78       Hairband      1\n",
       "79     Flat shoes      1\n",
       "31  Nipple covers      1\n",
       "33   Bra extender      1\n",
       "\n",
       "[82 rows x 2 columns]"
      ]
     },
     "execution_count": 27,
     "metadata": {},
     "output_type": "execute_result"
    }
   ],
   "source": [
    "type_article_count = Counter(articles['product_type_name'])\n",
    "type_article_count_df = pd.DataFrame([type_article_count]).T.reset_index()\n",
    "type_article_count_df.columns = ['Type', 'Count']\n",
    "type_article_count_df.sort_values(by='Count', ascending=False) #We sort the dataframe in order to see the biggest types without any code"
   ]
  },
  {
   "cell_type": "markdown",
   "id": "6ef73fff",
   "metadata": {},
   "source": [
    "Let's see a visual representation:"
   ]
  },
  {
   "cell_type": "markdown",
   "id": "abf7a37a",
   "metadata": {},
   "source": [
    "The plot underneath is useful, but also too caothic (82 categories are too many). A great solution is to regroup our categories (types) in some larger categories (groups)."
   ]
  },
  {
   "cell_type": "code",
   "execution_count": 28,
   "id": "b5459e1d",
   "metadata": {
    "scrolled": true
   },
   "outputs": [
    {
     "data": {
      "image/png": "[encoded data removed]",
      "text/plain": [
       "<Figure size 2000x500 with 1 Axes>"
      ]
     },
     "metadata": {},
     "output_type": "display_data"
    }
   ],
   "source": [
    "plt.figure(figsize=(20,5))\n",
    "sns.barplot(x='Type', y='Count', data=type_article_count_df)\n",
    "plt.xticks(rotation=90)\n",
    "plt.show()"
   ]
  },
  {
   "cell_type": "code",
   "execution_count": 29,
   "id": "626e6165",
   "metadata": {},
   "outputs": [
    {
     "data": {
      "text/html": [
       "<div>\n",
       "<style scoped>\n",
       "    .dataframe tbody tr th:only-of-type {\n",
       "        vertical-align: middle;\n",
       "    }\n",
       "\n",
       "    .dataframe tbody tr th {\n",
       "        vertical-align: top;\n",
       "    }\n",
       "\n",
       "    .dataframe thead th {\n",
       "        text-align: right;\n",
       "    }\n",
       "</style>\n",
       "<table border=\"1\" class=\"dataframe\">\n",
       "  <thead>\n",
       "    <tr style=\"text-align: right;\">\n",
       "      <th></th>\n",
       "      <th>Group</th>\n",
       "      <th>Count</th>\n",
       "    </tr>\n",
       "  </thead>\n",
       "  <tbody>\n",
       "    <tr>\n",
       "      <th>3</th>\n",
       "      <td>Garment Upper body</td>\n",
       "      <td>2799</td>\n",
       "    </tr>\n",
       "    <tr>\n",
       "      <th>1</th>\n",
       "      <td>Garment Lower body</td>\n",
       "      <td>1428</td>\n",
       "    </tr>\n",
       "    <tr>\n",
       "      <th>7</th>\n",
       "      <td>Garment Full body</td>\n",
       "      <td>632</td>\n",
       "    </tr>\n",
       "    <tr>\n",
       "      <th>4</th>\n",
       "      <td>Underwear</td>\n",
       "      <td>547</td>\n",
       "    </tr>\n",
       "    <tr>\n",
       "      <th>6</th>\n",
       "      <td>Accessories</td>\n",
       "      <td>378</td>\n",
       "    </tr>\n",
       "    <tr>\n",
       "      <th>0</th>\n",
       "      <td>Socks &amp; Tights</td>\n",
       "      <td>245</td>\n",
       "    </tr>\n",
       "    <tr>\n",
       "      <th>9</th>\n",
       "      <td>Swimwear</td>\n",
       "      <td>233</td>\n",
       "    </tr>\n",
       "    <tr>\n",
       "      <th>8</th>\n",
       "      <td>Shoes</td>\n",
       "      <td>135</td>\n",
       "    </tr>\n",
       "    <tr>\n",
       "      <th>5</th>\n",
       "      <td>Unknown</td>\n",
       "      <td>67</td>\n",
       "    </tr>\n",
       "    <tr>\n",
       "      <th>10</th>\n",
       "      <td>Nightwear</td>\n",
       "      <td>60</td>\n",
       "    </tr>\n",
       "    <tr>\n",
       "      <th>2</th>\n",
       "      <td>Items</td>\n",
       "      <td>10</td>\n",
       "    </tr>\n",
       "    <tr>\n",
       "      <th>11</th>\n",
       "      <td>Bags</td>\n",
       "      <td>2</td>\n",
       "    </tr>\n",
       "  </tbody>\n",
       "</table>\n",
       "</div>"
      ],
      "text/plain": [
       "                 Group  Count\n",
       "3   Garment Upper body   2799\n",
       "1   Garment Lower body   1428\n",
       "7    Garment Full body    632\n",
       "4            Underwear    547\n",
       "6          Accessories    378\n",
       "0       Socks & Tights    245\n",
       "9             Swimwear    233\n",
       "8                Shoes    135\n",
       "5              Unknown     67\n",
       "10           Nightwear     60\n",
       "2                Items     10\n",
       "11                Bags      2"
      ]
     },
     "execution_count": 29,
     "metadata": {},
     "output_type": "execute_result"
    }
   ],
   "source": [
    "group_article_count = Counter(articles['product_group_name'])\n",
    "group_article_count_df = pd.DataFrame([group_article_count]).T.reset_index()\n",
    "group_article_count_df.columns = ['Group', 'Count']\n",
    "group_article_count_df.sort_values(by='Count', ascending=False)"
   ]
  },
  {
   "cell_type": "markdown",
   "id": "363a825b",
   "metadata": {},
   "source": [
    "This time, we directly see all the classification for groups, where the winner is Garment Upper body, with 2799 different articles."
   ]
  },
  {
   "cell_type": "markdown",
   "id": "6d2f0433",
   "metadata": {},
   "source": [
    "Once more, we plot our results:"
   ]
  },
  {
   "cell_type": "code",
   "execution_count": 30,
   "id": "7d57aac5",
   "metadata": {},
   "outputs": [
    {
     "data": {
      "image/png": "[encoded data removed]",
      "text/plain": [
       "<Figure size 1000x500 with 1 Axes>"
      ]
     },
     "metadata": {},
     "output_type": "display_data"
    }
   ],
   "source": [
    "plt.figure(figsize=(10,5))\n",
    "sns.barplot(x='Group', y='Count', data=group_article_count_df)\n",
    "plt.xticks(rotation=90)\n",
    "plt.show()"
   ]
  },
  {
   "cell_type": "markdown",
   "id": "9332bbfb",
   "metadata": {},
   "source": [
    "Here we have a simpler plot where we can immediately see all the categories. In this way, the data is more interpretable and even more useful for our aims."
   ]
  },
  {
   "cell_type": "markdown",
   "id": "63989d43",
   "metadata": {},
   "source": [
    "However, from this last plot, we can see that not all the articles belong to a group. We want to identify them:"
   ]
  },
  {
   "cell_type": "code",
   "execution_count": 31,
   "id": "061b4c1c",
   "metadata": {},
   "outputs": [],
   "source": [
    "unknowns = articles.loc[articles['product_group_name'] == 'Unknown']"
   ]
  },
  {
   "cell_type": "markdown",
   "id": "b1e415ae",
   "metadata": {},
   "source": [
    "It may be intresting for our intrests understand which departments has more unknown items."
   ]
  },
  {
   "cell_type": "code",
   "execution_count": 32,
   "id": "8440ee60",
   "metadata": {},
   "outputs": [
    {
     "data": {
      "text/html": [
       "<div>\n",
       "<style scoped>\n",
       "    .dataframe tbody tr th:only-of-type {\n",
       "        vertical-align: middle;\n",
       "    }\n",
       "\n",
       "    .dataframe tbody tr th {\n",
       "        vertical-align: top;\n",
       "    }\n",
       "\n",
       "    .dataframe thead th {\n",
       "        text-align: right;\n",
       "    }\n",
       "</style>\n",
       "<table border=\"1\" class=\"dataframe\">\n",
       "  <thead>\n",
       "    <tr style=\"text-align: right;\">\n",
       "      <th></th>\n",
       "      <th>Department</th>\n",
       "      <th>Unknown products founded</th>\n",
       "    </tr>\n",
       "  </thead>\n",
       "  <tbody>\n",
       "    <tr>\n",
       "      <th>1</th>\n",
       "      <td>Clean Lingerie</td>\n",
       "      <td>16</td>\n",
       "    </tr>\n",
       "    <tr>\n",
       "      <th>4</th>\n",
       "      <td>Expressive Lingerie</td>\n",
       "      <td>11</td>\n",
       "    </tr>\n",
       "    <tr>\n",
       "      <th>7</th>\n",
       "      <td>Denim Trousers</td>\n",
       "      <td>8</td>\n",
       "    </tr>\n",
       "    <tr>\n",
       "      <th>3</th>\n",
       "      <td>Jersey Basic</td>\n",
       "      <td>4</td>\n",
       "    </tr>\n",
       "    <tr>\n",
       "      <th>0</th>\n",
       "      <td>Tights basic</td>\n",
       "      <td>3</td>\n",
       "    </tr>\n",
       "    <tr>\n",
       "      <th>2</th>\n",
       "      <td>Casual Lingerie</td>\n",
       "      <td>3</td>\n",
       "    </tr>\n",
       "    <tr>\n",
       "      <th>5</th>\n",
       "      <td>Knitwear</td>\n",
       "      <td>3</td>\n",
       "    </tr>\n",
       "    <tr>\n",
       "      <th>18</th>\n",
       "      <td>Trousers</td>\n",
       "      <td>3</td>\n",
       "    </tr>\n",
       "    <tr>\n",
       "      <th>17</th>\n",
       "      <td>Trouser</td>\n",
       "      <td>2</td>\n",
       "    </tr>\n",
       "    <tr>\n",
       "      <th>13</th>\n",
       "      <td>Ladies Sport Woven</td>\n",
       "      <td>2</td>\n",
       "    </tr>\n",
       "    <tr>\n",
       "      <th>10</th>\n",
       "      <td>Ladies Sport Bras</td>\n",
       "      <td>2</td>\n",
       "    </tr>\n",
       "    <tr>\n",
       "      <th>8</th>\n",
       "      <td>Ladies Sport Bottoms</td>\n",
       "      <td>2</td>\n",
       "    </tr>\n",
       "    <tr>\n",
       "      <th>11</th>\n",
       "      <td>Other items</td>\n",
       "      <td>1</td>\n",
       "    </tr>\n",
       "    <tr>\n",
       "      <th>12</th>\n",
       "      <td>Socks Bin</td>\n",
       "      <td>1</td>\n",
       "    </tr>\n",
       "    <tr>\n",
       "      <th>9</th>\n",
       "      <td>Denim Other Garments</td>\n",
       "      <td>1</td>\n",
       "    </tr>\n",
       "    <tr>\n",
       "      <th>14</th>\n",
       "      <td>Woven Tops</td>\n",
       "      <td>1</td>\n",
       "    </tr>\n",
       "    <tr>\n",
       "      <th>15</th>\n",
       "      <td>Suit</td>\n",
       "      <td>1</td>\n",
       "    </tr>\n",
       "    <tr>\n",
       "      <th>16</th>\n",
       "      <td>Dresses</td>\n",
       "      <td>1</td>\n",
       "    </tr>\n",
       "    <tr>\n",
       "      <th>6</th>\n",
       "      <td>Trouser S&amp;T</td>\n",
       "      <td>1</td>\n",
       "    </tr>\n",
       "    <tr>\n",
       "      <th>19</th>\n",
       "      <td>Blouse</td>\n",
       "      <td>1</td>\n",
       "    </tr>\n",
       "  </tbody>\n",
       "</table>\n",
       "</div>"
      ],
      "text/plain": [
       "              Department  Unknown products founded\n",
       "1         Clean Lingerie                        16\n",
       "4    Expressive Lingerie                        11\n",
       "7         Denim Trousers                         8\n",
       "3           Jersey Basic                         4\n",
       "0           Tights basic                         3\n",
       "2        Casual Lingerie                         3\n",
       "5               Knitwear                         3\n",
       "18              Trousers                         3\n",
       "17               Trouser                         2\n",
       "13    Ladies Sport Woven                         2\n",
       "10     Ladies Sport Bras                         2\n",
       "8   Ladies Sport Bottoms                         2\n",
       "11           Other items                         1\n",
       "12             Socks Bin                         1\n",
       "9   Denim Other Garments                         1\n",
       "14            Woven Tops                         1\n",
       "15                  Suit                         1\n",
       "16               Dresses                         1\n",
       "6            Trouser S&T                         1\n",
       "19                Blouse                         1"
      ]
     },
     "execution_count": 32,
     "metadata": {},
     "output_type": "execute_result"
    }
   ],
   "source": [
    "department_count = Counter(unknowns['department_name'])\n",
    "department_count_df = pd.DataFrame([department_count]).T.reset_index()\n",
    "department_count_df.columns = ['Department', 'Unknown products founded']\n",
    "department_count_df.sort_values(by='Unknown products founded', ascending=False)"
   ]
  },
  {
   "cell_type": "code",
   "execution_count": 33,
   "id": "5cfff2cb",
   "metadata": {},
   "outputs": [
    {
     "data": {
      "image/png": "[encoded data removed]",
      "text/plain": [
       "<Figure size 1000x500 with 1 Axes>"
      ]
     },
     "metadata": {},
     "output_type": "display_data"
    }
   ],
   "source": [
    "plt.figure(figsize=(10,5))\n",
    "sns.barplot(x='Department', y='Unknown products founded', data=department_count_df)\n",
    "plt.xticks(rotation=90)\n",
    "plt.show()"
   ]
  },
  {
   "cell_type": "markdown",
   "id": "ee712470",
   "metadata": {},
   "source": [
    "Clean Lingerie's department has the biggest number of unknown items. "
   ]
  },
  {
   "cell_type": "markdown",
   "id": "ede61340",
   "metadata": {},
   "source": [
    "# TRANSACTIONS"
   ]
  },
  {
   "cell_type": "code",
   "execution_count": 34,
   "id": "49a7b9a7",
   "metadata": {},
   "outputs": [
    {
     "data": {
      "text/html": [
       "<div>\n",
       "<style scoped>\n",
       "    .dataframe tbody tr th:only-of-type {\n",
       "        vertical-align: middle;\n",
       "    }\n",
       "\n",
       "    .dataframe tbody tr th {\n",
       "        vertical-align: top;\n",
       "    }\n",
       "\n",
       "    .dataframe thead th {\n",
       "        text-align: right;\n",
       "    }\n",
       "</style>\n",
       "<table border=\"1\" class=\"dataframe\">\n",
       "  <thead>\n",
       "    <tr style=\"text-align: right;\">\n",
       "      <th></th>\n",
       "      <th>t_dat</th>\n",
       "      <th>customer_id</th>\n",
       "      <th>article_id</th>\n",
       "    </tr>\n",
       "  </thead>\n",
       "  <tbody>\n",
       "    <tr>\n",
       "      <th>0</th>\n",
       "      <td>2020-09-02</td>\n",
       "      <td>7</td>\n",
       "      <td>599</td>\n",
       "    </tr>\n",
       "    <tr>\n",
       "      <th>1</th>\n",
       "      <td>2020-09-02</td>\n",
       "      <td>7</td>\n",
       "      <td>2600</td>\n",
       "    </tr>\n",
       "    <tr>\n",
       "      <th>2</th>\n",
       "      <td>2020-09-02</td>\n",
       "      <td>7</td>\n",
       "      <td>2063</td>\n",
       "    </tr>\n",
       "    <tr>\n",
       "      <th>3</th>\n",
       "      <td>2020-09-02</td>\n",
       "      <td>7</td>\n",
       "      <td>5188</td>\n",
       "    </tr>\n",
       "    <tr>\n",
       "      <th>4</th>\n",
       "      <td>2020-09-02</td>\n",
       "      <td>17</td>\n",
       "      <td>5111</td>\n",
       "    </tr>\n",
       "  </tbody>\n",
       "</table>\n",
       "</div>"
      ],
      "text/plain": [
       "        t_dat  customer_id  article_id\n",
       "0  2020-09-02            7         599\n",
       "1  2020-09-02            7        2600\n",
       "2  2020-09-02            7        2063\n",
       "3  2020-09-02            7        5188\n",
       "4  2020-09-02           17        5111"
      ]
     },
     "execution_count": 34,
     "metadata": {},
     "output_type": "execute_result"
    }
   ],
   "source": [
    "transactions = pd.read_csv(\"recsys_transactions.csv\")\n",
    "transactions.head()"
   ]
  },
  {
   "cell_type": "markdown",
   "id": "df288cd4",
   "metadata": {},
   "source": [
    "The last dataset we are going to study is \"recsys_transactions.csv\". The information about transactions that is recorded in the table is: the date of purchase, the customer id and the product id. The same customer can purchase more articles.\n",
    "\n",
    "To be in no doubt, we check if there are Null values that might interfere with our analysis."
   ]
  },
  {
   "cell_type": "code",
   "execution_count": 35,
   "id": "d060c5a9",
   "metadata": {},
   "outputs": [
    {
     "data": {
      "text/plain": [
       "t_dat          0\n",
       "customer_id    0\n",
       "article_id     0\n",
       "dtype: int64"
      ]
     },
     "execution_count": 35,
     "metadata": {},
     "output_type": "execute_result"
    }
   ],
   "source": [
    "transactions.isnull().sum()"
   ]
  },
  {
   "cell_type": "markdown",
   "id": "721a5095",
   "metadata": {},
   "source": [
    "This result was not hard to predict.\n",
    "Indeed, looking to this dataset, we observe that it is based on a relationship between the other 2 datasets. As a consequence, all the rows are composed by the IDs of an article and the IDs of a costumer.\n",
    "Without one of these 2 values, the row will give us zero relevant information, being useless to process it."
   ]
  },
  {
   "cell_type": "markdown",
   "id": "d96e9498",
   "metadata": {},
   "source": [
    "#### Number of transactions per customer"
   ]
  },
  {
   "cell_type": "markdown",
   "id": "02e00b26",
   "metadata": {},
   "source": [
    "We would like to see how many purchases has done each customer. We create a dataframe with 2 columns: on one side the customer ID and on the other the number of purchases each customer has made."
   ]
  },
  {
   "cell_type": "code",
   "execution_count": 36,
   "id": "bd0dd382",
   "metadata": {},
   "outputs": [],
   "source": [
    "from collections import Counter\n",
    "customer_transactions_count = Counter(transactions['customer_id'])\n",
    "#transactions.groupby('customer_id').size()\n",
    "#outputs a long dictionary with key the id of the customer and value the number of purchases he or she has made"
   ]
  },
  {
   "cell_type": "code",
   "execution_count": 37,
   "id": "48961270",
   "metadata": {
    "scrolled": true
   },
   "outputs": [
    {
     "data": {
      "text/html": [
       "<div>\n",
       "<style scoped>\n",
       "    .dataframe tbody tr th:only-of-type {\n",
       "        vertical-align: middle;\n",
       "    }\n",
       "\n",
       "    .dataframe tbody tr th {\n",
       "        vertical-align: top;\n",
       "    }\n",
       "\n",
       "    .dataframe thead th {\n",
       "        text-align: right;\n",
       "    }\n",
       "</style>\n",
       "<table border=\"1\" class=\"dataframe\">\n",
       "  <thead>\n",
       "    <tr style=\"text-align: right;\">\n",
       "      <th></th>\n",
       "      <th>Customer ID</th>\n",
       "      <th>Number of Transactions</th>\n",
       "    </tr>\n",
       "  </thead>\n",
       "  <tbody>\n",
       "    <tr>\n",
       "      <th>38291</th>\n",
       "      <td>9197</td>\n",
       "      <td>104</td>\n",
       "    </tr>\n",
       "    <tr>\n",
       "      <th>35275</th>\n",
       "      <td>36953</td>\n",
       "      <td>95</td>\n",
       "    </tr>\n",
       "    <tr>\n",
       "      <th>4445</th>\n",
       "      <td>16472</td>\n",
       "      <td>92</td>\n",
       "    </tr>\n",
       "    <tr>\n",
       "      <th>27086</th>\n",
       "      <td>13753</td>\n",
       "      <td>88</td>\n",
       "    </tr>\n",
       "    <tr>\n",
       "      <th>5953</th>\n",
       "      <td>33914</td>\n",
       "      <td>85</td>\n",
       "    </tr>\n",
       "    <tr>\n",
       "      <th>...</th>\n",
       "      <td>...</td>\n",
       "      <td>...</td>\n",
       "    </tr>\n",
       "    <tr>\n",
       "      <th>31161</th>\n",
       "      <td>24874</td>\n",
       "      <td>1</td>\n",
       "    </tr>\n",
       "    <tr>\n",
       "      <th>4048</th>\n",
       "      <td>11884</td>\n",
       "      <td>1</td>\n",
       "    </tr>\n",
       "    <tr>\n",
       "      <th>12285</th>\n",
       "      <td>36144</td>\n",
       "      <td>1</td>\n",
       "    </tr>\n",
       "    <tr>\n",
       "      <th>12292</th>\n",
       "      <td>36223</td>\n",
       "      <td>1</td>\n",
       "    </tr>\n",
       "    <tr>\n",
       "      <th>40624</th>\n",
       "      <td>15652</td>\n",
       "      <td>1</td>\n",
       "    </tr>\n",
       "  </tbody>\n",
       "</table>\n",
       "<p>41253 rows × 2 columns</p>\n",
       "</div>"
      ],
      "text/plain": [
       "       Customer ID  Number of Transactions\n",
       "38291         9197                     104\n",
       "35275        36953                      95\n",
       "4445         16472                      92\n",
       "27086        13753                      88\n",
       "5953         33914                      85\n",
       "...            ...                     ...\n",
       "31161        24874                       1\n",
       "4048         11884                       1\n",
       "12285        36144                       1\n",
       "12292        36223                       1\n",
       "40624        15652                       1\n",
       "\n",
       "[41253 rows x 2 columns]"
      ]
     },
     "execution_count": 37,
     "metadata": {},
     "output_type": "execute_result"
    }
   ],
   "source": [
    "customer_transactions_count_df = pd.DataFrame([customer_transactions_count]).T.reset_index()\n",
    "customer_transactions_count_df.columns = ['Customer ID', 'Number of Transactions']\n",
    "#customer_transactions_count_df= customer_transactions_count_df.sort_values(by='Customer ID', ascending=True).reset_index()\n",
    "customer_transactions_count_df.sort_values(by='Number of Transactions', ascending=False)"
   ]
  },
  {
   "cell_type": "markdown",
   "id": "17f531a0",
   "metadata": {},
   "source": [
    "The customer who has ultimated the highest amount of purchases is the user '9197' with exactly 104 transactions. Sorting in descending order, we are able to see also a ranking based on transactions for users."
   ]
  },
  {
   "cell_type": "markdown",
   "id": "051dd0cb",
   "metadata": {},
   "source": [
    "#### Number of customers that has completed each transaction"
   ]
  },
  {
   "cell_type": "markdown",
   "id": "b5418e93",
   "metadata": {},
   "source": [
    "It is also interesting to see everything on the other way around, so how many times each item has been bought by customers."
   ]
  },
  {
   "cell_type": "code",
   "execution_count": 38,
   "id": "21fc53fd",
   "metadata": {},
   "outputs": [],
   "source": [
    "article_transactions_count = Counter(transactions['article_id'])"
   ]
  },
  {
   "cell_type": "code",
   "execution_count": 39,
   "id": "530c5a8a",
   "metadata": {},
   "outputs": [
    {
     "data": {
      "text/html": [
       "<div>\n",
       "<style scoped>\n",
       "    .dataframe tbody tr th:only-of-type {\n",
       "        vertical-align: middle;\n",
       "    }\n",
       "\n",
       "    .dataframe tbody tr th {\n",
       "        vertical-align: top;\n",
       "    }\n",
       "\n",
       "    .dataframe thead th {\n",
       "        text-align: right;\n",
       "    }\n",
       "</style>\n",
       "<table border=\"1\" class=\"dataframe\">\n",
       "  <thead>\n",
       "    <tr style=\"text-align: right;\">\n",
       "      <th></th>\n",
       "      <th>Article ID</th>\n",
       "      <th>Number of Transactions</th>\n",
       "    </tr>\n",
       "  </thead>\n",
       "  <tbody>\n",
       "    <tr>\n",
       "      <th>48</th>\n",
       "      <td>1419</td>\n",
       "      <td>1045</td>\n",
       "    </tr>\n",
       "    <tr>\n",
       "      <th>927</th>\n",
       "      <td>168</td>\n",
       "      <td>896</td>\n",
       "    </tr>\n",
       "    <tr>\n",
       "      <th>63</th>\n",
       "      <td>5831</td>\n",
       "      <td>889</td>\n",
       "    </tr>\n",
       "    <tr>\n",
       "      <th>1359</th>\n",
       "      <td>6166</td>\n",
       "      <td>858</td>\n",
       "    </tr>\n",
       "    <tr>\n",
       "      <th>318</th>\n",
       "      <td>1429</td>\n",
       "      <td>815</td>\n",
       "    </tr>\n",
       "    <tr>\n",
       "      <th>...</th>\n",
       "      <td>...</td>\n",
       "      <td>...</td>\n",
       "    </tr>\n",
       "    <tr>\n",
       "      <th>2651</th>\n",
       "      <td>1692</td>\n",
       "      <td>11</td>\n",
       "    </tr>\n",
       "    <tr>\n",
       "      <th>4160</th>\n",
       "      <td>5324</td>\n",
       "      <td>11</td>\n",
       "    </tr>\n",
       "    <tr>\n",
       "      <th>2689</th>\n",
       "      <td>2536</td>\n",
       "      <td>11</td>\n",
       "    </tr>\n",
       "    <tr>\n",
       "      <th>2692</th>\n",
       "      <td>2625</td>\n",
       "      <td>11</td>\n",
       "    </tr>\n",
       "    <tr>\n",
       "      <th>4223</th>\n",
       "      <td>1935</td>\n",
       "      <td>11</td>\n",
       "    </tr>\n",
       "  </tbody>\n",
       "</table>\n",
       "<p>6536 rows × 2 columns</p>\n",
       "</div>"
      ],
      "text/plain": [
       "      Article ID  Number of Transactions\n",
       "48          1419                    1045\n",
       "927          168                     896\n",
       "63          5831                     889\n",
       "1359        6166                     858\n",
       "318         1429                     815\n",
       "...          ...                     ...\n",
       "2651        1692                      11\n",
       "4160        5324                      11\n",
       "2689        2536                      11\n",
       "2692        2625                      11\n",
       "4223        1935                      11\n",
       "\n",
       "[6536 rows x 2 columns]"
      ]
     },
     "execution_count": 39,
     "metadata": {},
     "output_type": "execute_result"
    }
   ],
   "source": [
    "article_transactions_count_df = pd.DataFrame([article_transactions_count]).T.reset_index()\n",
    "article_transactions_count_df.columns = ['Article ID', 'Number of Transactions']\n",
    "article_transactions_count_df.sort_values(by='Number of Transactions', ascending=False)"
   ]
  },
  {
   "cell_type": "markdown",
   "id": "bbc254f5",
   "metadata": {},
   "source": [
    "Again, just to be sure, we check that there is no product that has never been bought."
   ]
  },
  {
   "cell_type": "code",
   "execution_count": 40,
   "id": "8c130854",
   "metadata": {},
   "outputs": [
    {
     "data": {
      "text/html": [
       "<div>\n",
       "<style scoped>\n",
       "    .dataframe tbody tr th:only-of-type {\n",
       "        vertical-align: middle;\n",
       "    }\n",
       "\n",
       "    .dataframe tbody tr th {\n",
       "        vertical-align: top;\n",
       "    }\n",
       "\n",
       "    .dataframe thead th {\n",
       "        text-align: right;\n",
       "    }\n",
       "</style>\n",
       "<table border=\"1\" class=\"dataframe\">\n",
       "  <thead>\n",
       "    <tr style=\"text-align: right;\">\n",
       "      <th></th>\n",
       "      <th>Article ID</th>\n",
       "      <th>Number of Transactions</th>\n",
       "    </tr>\n",
       "  </thead>\n",
       "  <tbody>\n",
       "  </tbody>\n",
       "</table>\n",
       "</div>"
      ],
      "text/plain": [
       "Empty DataFrame\n",
       "Columns: [Article ID, Number of Transactions]\n",
       "Index: []"
      ]
     },
     "execution_count": 40,
     "metadata": {},
     "output_type": "execute_result"
    }
   ],
   "source": [
    "article_transactions_count_df[article_transactions_count_df['Number of Transactions'] == '0']"
   ]
  },
  {
   "cell_type": "markdown",
   "id": "f8453ace",
   "metadata": {},
   "source": [
    "Same as before, we sort the values to see the most requested articles.\n",
    "This time, we can access to a wider range of information than the case we studied before.\n",
    "This happens because for customers we cannot access to all the information we would need to make a more in-dept analysis because most of the information is sensitive data. for products we can see more information useful to market strategies.\n",
    "So, let'see what is this 'id 1419':"
   ]
  },
  {
   "cell_type": "code",
   "execution_count": 41,
   "id": "767b7243",
   "metadata": {
    "scrolled": true
   },
   "outputs": [
    {
     "data": {
      "text/html": [
       "<div>\n",
       "<style scoped>\n",
       "    .dataframe tbody tr th:only-of-type {\n",
       "        vertical-align: middle;\n",
       "    }\n",
       "\n",
       "    .dataframe tbody tr th {\n",
       "        vertical-align: top;\n",
       "    }\n",
       "\n",
       "    .dataframe thead th {\n",
       "        text-align: right;\n",
       "    }\n",
       "</style>\n",
       "<table border=\"1\" class=\"dataframe\">\n",
       "  <thead>\n",
       "    <tr style=\"text-align: right;\">\n",
       "      <th></th>\n",
       "      <th>article_id</th>\n",
       "      <th>prod_name</th>\n",
       "      <th>product_type</th>\n",
       "      <th>product_type_name</th>\n",
       "      <th>product_group_name</th>\n",
       "      <th>colour_group</th>\n",
       "      <th>colour_group_name</th>\n",
       "      <th>perceived_colour_value</th>\n",
       "      <th>perceived_colour_value_name</th>\n",
       "      <th>perceived_colour_master</th>\n",
       "      <th>...</th>\n",
       "      <th>department</th>\n",
       "      <th>department_name</th>\n",
       "      <th>index</th>\n",
       "      <th>index_name</th>\n",
       "      <th>index_group</th>\n",
       "      <th>index_group_name</th>\n",
       "      <th>section</th>\n",
       "      <th>section_name</th>\n",
       "      <th>garment_group</th>\n",
       "      <th>garment_group_name</th>\n",
       "    </tr>\n",
       "  </thead>\n",
       "  <tbody>\n",
       "    <tr>\n",
       "      <th>1419</th>\n",
       "      <td>1419</td>\n",
       "      <td>Pluto RW slacks (1)</td>\n",
       "      <td>272</td>\n",
       "      <td>Trousers</td>\n",
       "      <td>Garment Lower body</td>\n",
       "      <td>9</td>\n",
       "      <td>Black</td>\n",
       "      <td>4</td>\n",
       "      <td>Dark</td>\n",
       "      <td>5</td>\n",
       "      <td>...</td>\n",
       "      <td>1722</td>\n",
       "      <td>Trouser</td>\n",
       "      <td>A</td>\n",
       "      <td>Ladieswear</td>\n",
       "      <td>1</td>\n",
       "      <td>Ladieswear</td>\n",
       "      <td>15</td>\n",
       "      <td>Womens Everyday Collection</td>\n",
       "      <td>1009</td>\n",
       "      <td>Trousers</td>\n",
       "    </tr>\n",
       "  </tbody>\n",
       "</table>\n",
       "<p>1 rows × 21 columns</p>\n",
       "</div>"
      ],
      "text/plain": [
       "      article_id            prod_name  product_type product_type_name  \\\n",
       "1419        1419  Pluto RW slacks (1)           272          Trousers   \n",
       "\n",
       "      product_group_name  colour_group colour_group_name  \\\n",
       "1419  Garment Lower body             9             Black   \n",
       "\n",
       "      perceived_colour_value perceived_colour_value_name  \\\n",
       "1419                       4                        Dark   \n",
       "\n",
       "      perceived_colour_master  ... department  department_name index  \\\n",
       "1419                        5  ...       1722          Trouser     A   \n",
       "\n",
       "      index_name index_group  index_group_name section  \\\n",
       "1419  Ladieswear           1        Ladieswear      15   \n",
       "\n",
       "                    section_name garment_group  garment_group_name  \n",
       "1419  Womens Everyday Collection          1009            Trousers  \n",
       "\n",
       "[1 rows x 21 columns]"
      ]
     },
     "execution_count": 41,
     "metadata": {},
     "output_type": "execute_result"
    }
   ],
   "source": [
    "articles.loc[articles['article_id'] == 1419]"
   ]
  },
  {
   "cell_type": "markdown",
   "id": "d7bc4610",
   "metadata": {},
   "source": [
    "This row gives us a lot of information, maybe too much.\n",
    "In fact, in our opinion, is better to focus on category in spite of single products, because we can have a more accurate analysis basing on a bigger radius of articles, avoiding in this way some outliers."
   ]
  },
  {
   "cell_type": "code",
   "execution_count": 42,
   "id": "2ac88e8d",
   "metadata": {},
   "outputs": [],
   "source": [
    "article_type_dict = {}\n",
    "article_group_dict = {}\n",
    "\n",
    "for i,row in articles.iterrows():\n",
    "    article_type_dict[row['article_id']] = row['product_type_name']\n",
    "    article_group_dict[row['article_id']] = row['product_group_name']"
   ]
  },
  {
   "cell_type": "code",
   "execution_count": 43,
   "id": "1d818952",
   "metadata": {},
   "outputs": [
    {
     "data": {
      "text/html": [
       "<div>\n",
       "<style scoped>\n",
       "    .dataframe tbody tr th:only-of-type {\n",
       "        vertical-align: middle;\n",
       "    }\n",
       "\n",
       "    .dataframe tbody tr th {\n",
       "        vertical-align: top;\n",
       "    }\n",
       "\n",
       "    .dataframe thead th {\n",
       "        text-align: right;\n",
       "    }\n",
       "</style>\n",
       "<table border=\"1\" class=\"dataframe\">\n",
       "  <thead>\n",
       "    <tr style=\"text-align: right;\">\n",
       "      <th></th>\n",
       "      <th>Type of products</th>\n",
       "      <th>Number of Transactions</th>\n",
       "    </tr>\n",
       "  </thead>\n",
       "  <tbody>\n",
       "    <tr>\n",
       "      <th>5</th>\n",
       "      <td>Trousers</td>\n",
       "      <td>65295</td>\n",
       "    </tr>\n",
       "    <tr>\n",
       "      <th>11</th>\n",
       "      <td>Sweater</td>\n",
       "      <td>49602</td>\n",
       "    </tr>\n",
       "    <tr>\n",
       "      <th>2</th>\n",
       "      <td>Top</td>\n",
       "      <td>28308</td>\n",
       "    </tr>\n",
       "    <tr>\n",
       "      <th>3</th>\n",
       "      <td>Dress</td>\n",
       "      <td>26333</td>\n",
       "    </tr>\n",
       "    <tr>\n",
       "      <th>23</th>\n",
       "      <td>T-shirt</td>\n",
       "      <td>21010</td>\n",
       "    </tr>\n",
       "    <tr>\n",
       "      <th>...</th>\n",
       "      <td>...</td>\n",
       "      <td>...</td>\n",
       "    </tr>\n",
       "    <tr>\n",
       "      <th>69</th>\n",
       "      <td>Swimwear set</td>\n",
       "      <td>16</td>\n",
       "    </tr>\n",
       "    <tr>\n",
       "      <th>71</th>\n",
       "      <td>Braces</td>\n",
       "      <td>15</td>\n",
       "    </tr>\n",
       "    <tr>\n",
       "      <th>75</th>\n",
       "      <td>Flip flop</td>\n",
       "      <td>14</td>\n",
       "    </tr>\n",
       "    <tr>\n",
       "      <th>78</th>\n",
       "      <td>Heels</td>\n",
       "      <td>13</td>\n",
       "    </tr>\n",
       "    <tr>\n",
       "      <th>70</th>\n",
       "      <td>Hairband</td>\n",
       "      <td>13</td>\n",
       "    </tr>\n",
       "  </tbody>\n",
       "</table>\n",
       "<p>82 rows × 2 columns</p>\n",
       "</div>"
      ],
      "text/plain": [
       "   Type of products  Number of Transactions\n",
       "5          Trousers                   65295\n",
       "11          Sweater                   49602\n",
       "2               Top                   28308\n",
       "3             Dress                   26333\n",
       "23          T-shirt                   21010\n",
       "..              ...                     ...\n",
       "69     Swimwear set                      16\n",
       "71           Braces                      15\n",
       "75        Flip flop                      14\n",
       "78            Heels                      13\n",
       "70         Hairband                      13\n",
       "\n",
       "[82 rows x 2 columns]"
      ]
     },
     "execution_count": 43,
     "metadata": {},
     "output_type": "execute_result"
    }
   ],
   "source": [
    "type_transactions = {}\n",
    "for i,row in transactions.iterrows():\n",
    "    if article_type_dict[row['article_id']] in type_transactions.keys():\n",
    "        type_transactions[article_type_dict[row['article_id']]] += 1\n",
    "    else:\n",
    "        type_transactions[article_type_dict[row['article_id']]] = 1\n",
    "        \n",
    "type_transactions_df = pd.DataFrame({'Type of products':list(type_transactions.keys()),'Number of Transactions':list(type_transactions.values())})\n",
    "type_transactions_df = type_transactions_df.sort_values(by='Number of Transactions', ascending = False)\n",
    "type_transactions_df"
   ]
  },
  {
   "cell_type": "markdown",
   "id": "a49460c7",
   "metadata": {},
   "source": [
    "Thanks to this frame we can see that the most sold type of product is 'Trousers', with a huge gap from the second one. This is probably caused by the fact that trousers is also the type of product with more different articles inside."
   ]
  },
  {
   "cell_type": "code",
   "execution_count": 44,
   "id": "96964aaa",
   "metadata": {},
   "outputs": [
    {
     "data": {
      "image/png": "[encoded data removed]",
      "text/plain": [
       "<Figure size 1200x500 with 1 Axes>"
      ]
     },
     "metadata": {},
     "output_type": "display_data"
    }
   ],
   "source": [
    "plt.figure(figsize=(12,5))\n",
    "sns.barplot(x='Type of products', y='Number of Transactions', data=type_transactions_df)\n",
    "plt.xticks(rotation=90)\n",
    "plt.show()"
   ]
  },
  {
   "cell_type": "markdown",
   "id": "58dc4663",
   "metadata": {},
   "source": [
    "Now let's do the same analysis but, this time, focusing on the group of articles."
   ]
  },
  {
   "cell_type": "code",
   "execution_count": 45,
   "id": "ba9ae96a",
   "metadata": {},
   "outputs": [
    {
     "data": {
      "text/html": [
       "<div>\n",
       "<style scoped>\n",
       "    .dataframe tbody tr th:only-of-type {\n",
       "        vertical-align: middle;\n",
       "    }\n",
       "\n",
       "    .dataframe tbody tr th {\n",
       "        vertical-align: top;\n",
       "    }\n",
       "\n",
       "    .dataframe thead th {\n",
       "        text-align: right;\n",
       "    }\n",
       "</style>\n",
       "<table border=\"1\" class=\"dataframe\">\n",
       "  <thead>\n",
       "    <tr style=\"text-align: right;\">\n",
       "      <th></th>\n",
       "      <th>Group of products</th>\n",
       "      <th>Number of Transactions</th>\n",
       "    </tr>\n",
       "  </thead>\n",
       "  <tbody>\n",
       "    <tr>\n",
       "      <th>1</th>\n",
       "      <td>Garment Upper body</td>\n",
       "      <td>182576</td>\n",
       "    </tr>\n",
       "    <tr>\n",
       "      <th>3</th>\n",
       "      <td>Garment Lower body</td>\n",
       "      <td>91015</td>\n",
       "    </tr>\n",
       "    <tr>\n",
       "      <th>2</th>\n",
       "      <td>Garment Full body</td>\n",
       "      <td>27687</td>\n",
       "    </tr>\n",
       "    <tr>\n",
       "      <th>0</th>\n",
       "      <td>Underwear</td>\n",
       "      <td>26365</td>\n",
       "    </tr>\n",
       "    <tr>\n",
       "      <th>4</th>\n",
       "      <td>Accessories</td>\n",
       "      <td>11335</td>\n",
       "    </tr>\n",
       "    <tr>\n",
       "      <th>7</th>\n",
       "      <td>Socks &amp; Tights</td>\n",
       "      <td>8701</td>\n",
       "    </tr>\n",
       "    <tr>\n",
       "      <th>8</th>\n",
       "      <td>Unknown</td>\n",
       "      <td>5847</td>\n",
       "    </tr>\n",
       "    <tr>\n",
       "      <th>6</th>\n",
       "      <td>Swimwear</td>\n",
       "      <td>5686</td>\n",
       "    </tr>\n",
       "    <tr>\n",
       "      <th>5</th>\n",
       "      <td>Shoes</td>\n",
       "      <td>4977</td>\n",
       "    </tr>\n",
       "    <tr>\n",
       "      <th>9</th>\n",
       "      <td>Nightwear</td>\n",
       "      <td>4623</td>\n",
       "    </tr>\n",
       "    <tr>\n",
       "      <th>10</th>\n",
       "      <td>Items</td>\n",
       "      <td>207</td>\n",
       "    </tr>\n",
       "    <tr>\n",
       "      <th>11</th>\n",
       "      <td>Bags</td>\n",
       "      <td>94</td>\n",
       "    </tr>\n",
       "  </tbody>\n",
       "</table>\n",
       "</div>"
      ],
      "text/plain": [
       "     Group of products  Number of Transactions\n",
       "1   Garment Upper body                  182576\n",
       "3   Garment Lower body                   91015\n",
       "2    Garment Full body                   27687\n",
       "0            Underwear                   26365\n",
       "4          Accessories                   11335\n",
       "7       Socks & Tights                    8701\n",
       "8              Unknown                    5847\n",
       "6             Swimwear                    5686\n",
       "5                Shoes                    4977\n",
       "9            Nightwear                    4623\n",
       "10               Items                     207\n",
       "11                Bags                      94"
      ]
     },
     "execution_count": 45,
     "metadata": {},
     "output_type": "execute_result"
    }
   ],
   "source": [
    "group_transactions = {}\n",
    "for i,row in transactions.iterrows():\n",
    "    if article_group_dict[row['article_id']] in group_transactions.keys():\n",
    "        group_transactions[article_group_dict[row['article_id']]] += 1\n",
    "    else:\n",
    "        group_transactions[article_group_dict[row['article_id']]] = 1\n",
    "        \n",
    "group_transactions_df = pd.DataFrame({'Group of products':list(group_transactions.keys()),'Number of Transactions':list(group_transactions.values())})\n",
    "group_transactions_df.sort_values(by='Number of Transactions', ascending = False)"
   ]
  },
  {
   "cell_type": "markdown",
   "id": "583a8284",
   "metadata": {},
   "source": [
    "And one more time, we got the expexted result, since 'Garment Upper body' is the most populate group.\n",
    "In this case, the distance between the top group and the others is incredibly huge (It is the double of the second ranked group)."
   ]
  },
  {
   "cell_type": "code",
   "execution_count": 46,
   "id": "9f1656fe",
   "metadata": {},
   "outputs": [
    {
     "data": {
      "image/png": "[encoded data removed]",
      "text/plain": [
       "<Figure size 1000x500 with 1 Axes>"
      ]
     },
     "metadata": {},
     "output_type": "display_data"
    }
   ],
   "source": [
    "plt.figure(figsize=(10,5))\n",
    "sns.barplot(x='Group of products', y='Number of Transactions', data=group_transactions_df)\n",
    "plt.xticks(rotation=90)\n",
    "plt.show()"
   ]
  },
  {
   "cell_type": "markdown",
   "id": "06dee61a",
   "metadata": {},
   "source": [
    "We can also see which is the day with the most number of transactions:"
   ]
  },
  {
   "cell_type": "code",
   "execution_count": 47,
   "id": "3e023606",
   "metadata": {},
   "outputs": [
    {
     "data": {
      "text/html": [
       "<div>\n",
       "<style scoped>\n",
       "    .dataframe tbody tr th:only-of-type {\n",
       "        vertical-align: middle;\n",
       "    }\n",
       "\n",
       "    .dataframe tbody tr th {\n",
       "        vertical-align: top;\n",
       "    }\n",
       "\n",
       "    .dataframe thead th {\n",
       "        text-align: right;\n",
       "    }\n",
       "</style>\n",
       "<table border=\"1\" class=\"dataframe\">\n",
       "  <thead>\n",
       "    <tr style=\"text-align: right;\">\n",
       "      <th></th>\n",
       "      <th>Day</th>\n",
       "      <th>Count</th>\n",
       "    </tr>\n",
       "  </thead>\n",
       "  <tbody>\n",
       "    <tr>\n",
       "      <th>11</th>\n",
       "      <td>2020-09-13</td>\n",
       "      <td>21209</td>\n",
       "    </tr>\n",
       "    <tr>\n",
       "      <th>7</th>\n",
       "      <td>2020-09-09</td>\n",
       "      <td>21155</td>\n",
       "    </tr>\n",
       "    <tr>\n",
       "      <th>15</th>\n",
       "      <td>2020-09-17</td>\n",
       "      <td>20458</td>\n",
       "    </tr>\n",
       "    <tr>\n",
       "      <th>8</th>\n",
       "      <td>2020-09-10</td>\n",
       "      <td>19531</td>\n",
       "    </tr>\n",
       "    <tr>\n",
       "      <th>5</th>\n",
       "      <td>2020-09-07</td>\n",
       "      <td>19473</td>\n",
       "    </tr>\n",
       "    <tr>\n",
       "      <th>16</th>\n",
       "      <td>2020-09-18</td>\n",
       "      <td>19129</td>\n",
       "    </tr>\n",
       "    <tr>\n",
       "      <th>3</th>\n",
       "      <td>2020-09-05</td>\n",
       "      <td>18990</td>\n",
       "    </tr>\n",
       "    <tr>\n",
       "      <th>10</th>\n",
       "      <td>2020-09-12</td>\n",
       "      <td>18926</td>\n",
       "    </tr>\n",
       "    <tr>\n",
       "      <th>1</th>\n",
       "      <td>2020-09-03</td>\n",
       "      <td>18557</td>\n",
       "    </tr>\n",
       "    <tr>\n",
       "      <th>6</th>\n",
       "      <td>2020-09-08</td>\n",
       "      <td>18535</td>\n",
       "    </tr>\n",
       "    <tr>\n",
       "      <th>9</th>\n",
       "      <td>2020-09-11</td>\n",
       "      <td>18141</td>\n",
       "    </tr>\n",
       "    <tr>\n",
       "      <th>17</th>\n",
       "      <td>2020-09-19</td>\n",
       "      <td>17125</td>\n",
       "    </tr>\n",
       "    <tr>\n",
       "      <th>4</th>\n",
       "      <td>2020-09-06</td>\n",
       "      <td>16859</td>\n",
       "    </tr>\n",
       "    <tr>\n",
       "      <th>2</th>\n",
       "      <td>2020-09-04</td>\n",
       "      <td>16736</td>\n",
       "    </tr>\n",
       "    <tr>\n",
       "      <th>18</th>\n",
       "      <td>2020-09-20</td>\n",
       "      <td>16110</td>\n",
       "    </tr>\n",
       "    <tr>\n",
       "      <th>19</th>\n",
       "      <td>2020-09-21</td>\n",
       "      <td>16067</td>\n",
       "    </tr>\n",
       "    <tr>\n",
       "      <th>20</th>\n",
       "      <td>2020-09-22</td>\n",
       "      <td>15872</td>\n",
       "    </tr>\n",
       "    <tr>\n",
       "      <th>12</th>\n",
       "      <td>2020-09-14</td>\n",
       "      <td>15660</td>\n",
       "    </tr>\n",
       "    <tr>\n",
       "      <th>0</th>\n",
       "      <td>2020-09-02</td>\n",
       "      <td>13947</td>\n",
       "    </tr>\n",
       "    <tr>\n",
       "      <th>14</th>\n",
       "      <td>2020-09-16</td>\n",
       "      <td>13388</td>\n",
       "    </tr>\n",
       "    <tr>\n",
       "      <th>13</th>\n",
       "      <td>2020-09-15</td>\n",
       "      <td>13245</td>\n",
       "    </tr>\n",
       "  </tbody>\n",
       "</table>\n",
       "</div>"
      ],
      "text/plain": [
       "           Day  Count\n",
       "11  2020-09-13  21209\n",
       "7   2020-09-09  21155\n",
       "15  2020-09-17  20458\n",
       "8   2020-09-10  19531\n",
       "5   2020-09-07  19473\n",
       "16  2020-09-18  19129\n",
       "3   2020-09-05  18990\n",
       "10  2020-09-12  18926\n",
       "1   2020-09-03  18557\n",
       "6   2020-09-08  18535\n",
       "9   2020-09-11  18141\n",
       "17  2020-09-19  17125\n",
       "4   2020-09-06  16859\n",
       "2   2020-09-04  16736\n",
       "18  2020-09-20  16110\n",
       "19  2020-09-21  16067\n",
       "20  2020-09-22  15872\n",
       "12  2020-09-14  15660\n",
       "0   2020-09-02  13947\n",
       "14  2020-09-16  13388\n",
       "13  2020-09-15  13245"
      ]
     },
     "execution_count": 47,
     "metadata": {},
     "output_type": "execute_result"
    }
   ],
   "source": [
    "day_count = Counter(transactions['t_dat'])\n",
    "day_count_df = pd.DataFrame([day_count]).T.reset_index()\n",
    "day_count_df.columns = ['Day', 'Count']\n",
    "day_count_df.sort_values(by='Count', ascending=False)"
   ]
  },
  {
   "cell_type": "markdown",
   "id": "4b0344b1",
   "metadata": {},
   "source": [
    "Now we know that the day with the biggest number of transactions is the 13th of september, which was a sunday."
   ]
  },
  {
   "cell_type": "code",
   "execution_count": null,
   "id": "29e96005",
   "metadata": {},
   "outputs": [],
   "source": []
  }
 ],
 "metadata": {
  "kernelspec": {
   "display_name": "Python 3 (Spyder)",
   "language": "python3",
   "name": "python3"
  },
  "language_info": {
   "codemirror_mode": {
    "name": "ipython",
    "version": 3
   },
   "file_extension": ".py",
   "mimetype": "text/x-python",
   "name": "python",
   "nbconvert_exporter": "python",
   "pygments_lexer": "ipython3",
   "version": "3.10.5"
  },
  "vscode": {
   "interpreter": {
    "hash": "aee8b7b246df8f9039afb4144a1f6fd8d2ca17a180786b69acc140d282b71a49"
   }
  }
 },
 "nbformat": 4,
 "nbformat_minor": 5
}
