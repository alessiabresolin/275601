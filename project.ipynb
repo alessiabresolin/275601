{
 "cells": [
  {
   "cell_type": "code",
   "execution_count": 4,
   "id": "a4482f8f",
   "metadata": {},
   "outputs": [],
   "source": [
    "import numpy as np\n",
    "import pandas as pd\n",
    "import sklearn\n",
    "import matplotlib.pyplot as plt\n",
    "import seaborn as sns"
   ]
  },
  {
   "cell_type": "markdown",
   "id": "bff0c880",
   "metadata": {},
   "source": [
    "# CUSTOMERS"
   ]
  },
  {
   "cell_type": "markdown",
   "id": "c5b5969f",
   "metadata": {},
   "source": [
    "1) First of all, we import our dataset about customers. We have the unique identifier for each customer and its age. Furthermore, we know whether he or she is subscribed to the newsletter (1 if yes, 0 if no) and if he or she is part of the special club member.\n",
    "\n",
    "We have a look to how data are structured, printing the first five items and we get a general idea of the quantity of the data, using the shape function."
   ]
  },
  {
   "cell_type": "code",
   "execution_count": 5,
   "id": "a402c1e0",
   "metadata": {},
   "outputs": [
    {
     "data": {
      "text/html": [
       "<div>\n",
       "<style scoped>\n",
       "    .dataframe tbody tr th:only-of-type {\n",
       "        vertical-align: middle;\n",
       "    }\n",
       "\n",
       "    .dataframe tbody tr th {\n",
       "        vertical-align: top;\n",
       "    }\n",
       "\n",
       "    .dataframe thead th {\n",
       "        text-align: right;\n",
       "    }\n",
       "</style>\n",
       "<table border=\"1\" class=\"dataframe\">\n",
       "  <thead>\n",
       "    <tr style=\"text-align: right;\">\n",
       "      <th></th>\n",
       "      <th>customer_id</th>\n",
       "      <th>fashion_news</th>\n",
       "      <th>club_member</th>\n",
       "      <th>age</th>\n",
       "    </tr>\n",
       "  </thead>\n",
       "  <tbody>\n",
       "    <tr>\n",
       "      <th>0</th>\n",
       "      <td>0</td>\n",
       "      <td>1</td>\n",
       "      <td>1</td>\n",
       "      <td>44.0</td>\n",
       "    </tr>\n",
       "    <tr>\n",
       "      <th>1</th>\n",
       "      <td>1</td>\n",
       "      <td>1</td>\n",
       "      <td>1</td>\n",
       "      <td>33.0</td>\n",
       "    </tr>\n",
       "    <tr>\n",
       "      <th>2</th>\n",
       "      <td>2</td>\n",
       "      <td>0</td>\n",
       "      <td>0</td>\n",
       "      <td>29.0</td>\n",
       "    </tr>\n",
       "    <tr>\n",
       "      <th>3</th>\n",
       "      <td>3</td>\n",
       "      <td>0</td>\n",
       "      <td>0</td>\n",
       "      <td>21.0</td>\n",
       "    </tr>\n",
       "    <tr>\n",
       "      <th>4</th>\n",
       "      <td>4</td>\n",
       "      <td>0</td>\n",
       "      <td>0</td>\n",
       "      <td>23.0</td>\n",
       "    </tr>\n",
       "  </tbody>\n",
       "</table>\n",
       "</div>"
      ],
      "text/plain": [
       "   customer_id  fashion_news  club_member   age\n",
       "0            0             1            1  44.0\n",
       "1            1             1            1  33.0\n",
       "2            2             0            0  29.0\n",
       "3            3             0            0  21.0\n",
       "4            4             0            0  23.0"
      ]
     },
     "execution_count": 5,
     "metadata": {},
     "output_type": "execute_result"
    }
   ],
   "source": [
    "customers = pd.read_csv(\"recsys_customers.csv\")\n",
    "customers.head()"
   ]
  },
  {
   "cell_type": "code",
   "execution_count": 6,
   "id": "799fc64c",
   "metadata": {},
   "outputs": [
    {
     "data": {
      "text/plain": [
       "(41253, 4)"
      ]
     },
     "execution_count": 6,
     "metadata": {},
     "output_type": "execute_result"
    }
   ],
   "source": [
    "customers.shape"
   ]
  },
  {
   "cell_type": "markdown",
   "id": "c395b43c",
   "metadata": {},
   "source": [
    "2) We want to find the columns that may have NaN values in order to handle them."
   ]
  },
  {
   "cell_type": "code",
   "execution_count": 7,
   "id": "80de5740",
   "metadata": {},
   "outputs": [
    {
     "data": {
      "text/plain": [
       "customer_id       0\n",
       "fashion_news      0\n",
       "club_member       0\n",
       "age             133\n",
       "dtype: int64"
      ]
     },
     "execution_count": 7,
     "metadata": {},
     "output_type": "execute_result"
    }
   ],
   "source": [
    "customers.isnull().sum()"
   ]
  },
  {
   "cell_type": "markdown",
   "id": "bd242203",
   "metadata": {},
   "source": [
    "Out of 4 columns, only 1 column has null values, which is age. \n",
    "\n",
    "To understand better the weight of these null values on the whole set, we can calculate their weight relative to the lenght of the dataset."
   ]
  },
  {
   "cell_type": "code",
   "execution_count": 8,
   "id": "d0a6419c",
   "metadata": {},
   "outputs": [
    {
     "name": "stdout",
     "output_type": "stream",
     "text": [
      "The null percentage of age is: 0.0032240079509369014\n"
     ]
    }
   ],
   "source": [
    "null_percentage= customers['age'].isnull().sum()/ len(customers)\n",
    "print('The null percentage of age is: ' + str(null_percentage))"
   ]
  },
  {
   "cell_type": "markdown",
   "id": "b5f5e527",
   "metadata": {},
   "source": [
    "The percentage of missing values is quite low, around 0.32%. \n",
    "At this point we can choose to follow 2 paths:\n",
    "- Delete all the rows that contain a null value for age.\n",
    "- We can fill the null cells with the most common values for age.\n",
    "\n",
    "For the second case, we obtain the mode, which is 26, and we insert it in place of the missing values."
   ]
  },
  {
   "cell_type": "code",
   "execution_count": 9,
   "id": "4f292bba",
   "metadata": {},
   "outputs": [
    {
     "data": {
      "text/plain": [
       "0    26.0\n",
       "Name: age, dtype: float64"
      ]
     },
     "execution_count": 9,
     "metadata": {},
     "output_type": "execute_result"
    }
   ],
   "source": [
    "customers.age.mode()"
   ]
  },
  {
   "cell_type": "code",
   "execution_count": 10,
   "id": "d4f9edeb",
   "metadata": {},
   "outputs": [],
   "source": [
    "customers['age'] = customers['age'].fillna(customers['age'].mode()[0])"
   ]
  },
  {
   "cell_type": "markdown",
   "id": "c0001235",
   "metadata": {},
   "source": [
    "3) As we want our data to be as readable and interpretable as possible, we want to convert the age type from float to integer."
   ]
  },
  {
   "cell_type": "code",
   "execution_count": 11,
   "id": "ce70801d",
   "metadata": {},
   "outputs": [
    {
     "data": {
      "text/html": [
       "<div>\n",
       "<style scoped>\n",
       "    .dataframe tbody tr th:only-of-type {\n",
       "        vertical-align: middle;\n",
       "    }\n",
       "\n",
       "    .dataframe tbody tr th {\n",
       "        vertical-align: top;\n",
       "    }\n",
       "\n",
       "    .dataframe thead th {\n",
       "        text-align: right;\n",
       "    }\n",
       "</style>\n",
       "<table border=\"1\" class=\"dataframe\">\n",
       "  <thead>\n",
       "    <tr style=\"text-align: right;\">\n",
       "      <th></th>\n",
       "      <th>customer_id</th>\n",
       "      <th>fashion_news</th>\n",
       "      <th>club_member</th>\n",
       "      <th>age</th>\n",
       "    </tr>\n",
       "  </thead>\n",
       "  <tbody>\n",
       "    <tr>\n",
       "      <th>0</th>\n",
       "      <td>0</td>\n",
       "      <td>1</td>\n",
       "      <td>1</td>\n",
       "      <td>44</td>\n",
       "    </tr>\n",
       "    <tr>\n",
       "      <th>1</th>\n",
       "      <td>1</td>\n",
       "      <td>1</td>\n",
       "      <td>1</td>\n",
       "      <td>33</td>\n",
       "    </tr>\n",
       "    <tr>\n",
       "      <th>2</th>\n",
       "      <td>2</td>\n",
       "      <td>0</td>\n",
       "      <td>0</td>\n",
       "      <td>29</td>\n",
       "    </tr>\n",
       "    <tr>\n",
       "      <th>3</th>\n",
       "      <td>3</td>\n",
       "      <td>0</td>\n",
       "      <td>0</td>\n",
       "      <td>21</td>\n",
       "    </tr>\n",
       "    <tr>\n",
       "      <th>4</th>\n",
       "      <td>4</td>\n",
       "      <td>0</td>\n",
       "      <td>0</td>\n",
       "      <td>23</td>\n",
       "    </tr>\n",
       "  </tbody>\n",
       "</table>\n",
       "</div>"
      ],
      "text/plain": [
       "   customer_id  fashion_news  club_member  age\n",
       "0            0             1            1   44\n",
       "1            1             1            1   33\n",
       "2            2             0            0   29\n",
       "3            3             0            0   21\n",
       "4            4             0            0   23"
      ]
     },
     "execution_count": 11,
     "metadata": {},
     "output_type": "execute_result"
    }
   ],
   "source": [
    "customers[\"age\"] = customers[\"age\"].apply(lambda x: int(x))\n",
    "customers.head()"
   ]
  },
  {
   "cell_type": "markdown",
   "id": "5c8c7dfc",
   "metadata": {},
   "source": [
    "4) A value we also want to calculate to get a better insight of our data is to divide members by 5 cathegories depending on their age. \n",
    "\n",
    "To simplify things, we calculate the maximum and minimum of the age values and then we create our \"clusters\"."
   ]
  },
  {
   "cell_type": "code",
   "execution_count": 12,
   "id": "2b2b76ef",
   "metadata": {},
   "outputs": [
    {
     "name": "stdout",
     "output_type": "stream",
     "text": [
      "The minimal age recorded is: 16\n",
      "The maximal age recorded is: 91\n"
     ]
    }
   ],
   "source": [
    "print('The minimal age recorded is: ' + str(min(customers[\"age\"])))\n",
    "print('The maximal age recorded is: ' + str(max(customers[\"age\"])))\n"
   ]
  },
  {
   "cell_type": "markdown",
   "id": "9bf089eb",
   "metadata": {},
   "source": [
    "What are we doing? We assign each customer to the proper age cathegory adding a column to the initial table."
   ]
  },
  {
   "cell_type": "code",
   "execution_count": 13,
   "id": "46760f32",
   "metadata": {},
   "outputs": [
    {
     "data": {
      "text/html": [
       "<div>\n",
       "<style scoped>\n",
       "    .dataframe tbody tr th:only-of-type {\n",
       "        vertical-align: middle;\n",
       "    }\n",
       "\n",
       "    .dataframe tbody tr th {\n",
       "        vertical-align: top;\n",
       "    }\n",
       "\n",
       "    .dataframe thead th {\n",
       "        text-align: right;\n",
       "    }\n",
       "</style>\n",
       "<table border=\"1\" class=\"dataframe\">\n",
       "  <thead>\n",
       "    <tr style=\"text-align: right;\">\n",
       "      <th></th>\n",
       "      <th>customer_id</th>\n",
       "      <th>fashion_news</th>\n",
       "      <th>club_member</th>\n",
       "      <th>age</th>\n",
       "      <th>age_group</th>\n",
       "    </tr>\n",
       "  </thead>\n",
       "  <tbody>\n",
       "    <tr>\n",
       "      <th>0</th>\n",
       "      <td>0</td>\n",
       "      <td>1</td>\n",
       "      <td>1</td>\n",
       "      <td>44</td>\n",
       "      <td>30-44</td>\n",
       "    </tr>\n",
       "    <tr>\n",
       "      <th>1</th>\n",
       "      <td>1</td>\n",
       "      <td>1</td>\n",
       "      <td>1</td>\n",
       "      <td>33</td>\n",
       "      <td>30-44</td>\n",
       "    </tr>\n",
       "    <tr>\n",
       "      <th>2</th>\n",
       "      <td>2</td>\n",
       "      <td>0</td>\n",
       "      <td>0</td>\n",
       "      <td>29</td>\n",
       "      <td>15-29</td>\n",
       "    </tr>\n",
       "    <tr>\n",
       "      <th>3</th>\n",
       "      <td>3</td>\n",
       "      <td>0</td>\n",
       "      <td>0</td>\n",
       "      <td>21</td>\n",
       "      <td>15-29</td>\n",
       "    </tr>\n",
       "    <tr>\n",
       "      <th>4</th>\n",
       "      <td>4</td>\n",
       "      <td>0</td>\n",
       "      <td>0</td>\n",
       "      <td>23</td>\n",
       "      <td>15-29</td>\n",
       "    </tr>\n",
       "    <tr>\n",
       "      <th>...</th>\n",
       "      <td>...</td>\n",
       "      <td>...</td>\n",
       "      <td>...</td>\n",
       "      <td>...</td>\n",
       "      <td>...</td>\n",
       "    </tr>\n",
       "    <tr>\n",
       "      <th>41248</th>\n",
       "      <td>41248</td>\n",
       "      <td>1</td>\n",
       "      <td>1</td>\n",
       "      <td>33</td>\n",
       "      <td>30-44</td>\n",
       "    </tr>\n",
       "    <tr>\n",
       "      <th>41249</th>\n",
       "      <td>41249</td>\n",
       "      <td>0</td>\n",
       "      <td>0</td>\n",
       "      <td>25</td>\n",
       "      <td>15-29</td>\n",
       "    </tr>\n",
       "    <tr>\n",
       "      <th>41250</th>\n",
       "      <td>41250</td>\n",
       "      <td>1</td>\n",
       "      <td>1</td>\n",
       "      <td>20</td>\n",
       "      <td>15-29</td>\n",
       "    </tr>\n",
       "    <tr>\n",
       "      <th>41251</th>\n",
       "      <td>41251</td>\n",
       "      <td>1</td>\n",
       "      <td>1</td>\n",
       "      <td>29</td>\n",
       "      <td>15-29</td>\n",
       "    </tr>\n",
       "    <tr>\n",
       "      <th>41252</th>\n",
       "      <td>41252</td>\n",
       "      <td>0</td>\n",
       "      <td>0</td>\n",
       "      <td>24</td>\n",
       "      <td>15-29</td>\n",
       "    </tr>\n",
       "  </tbody>\n",
       "</table>\n",
       "<p>41253 rows × 5 columns</p>\n",
       "</div>"
      ],
      "text/plain": [
       "       customer_id  fashion_news  club_member  age age_group\n",
       "0                0             1            1   44     30-44\n",
       "1                1             1            1   33     30-44\n",
       "2                2             0            0   29     15-29\n",
       "3                3             0            0   21     15-29\n",
       "4                4             0            0   23     15-29\n",
       "...            ...           ...          ...  ...       ...\n",
       "41248        41248             1            1   33     30-44\n",
       "41249        41249             0            0   25     15-29\n",
       "41250        41250             1            1   20     15-29\n",
       "41251        41251             1            1   29     15-29\n",
       "41252        41252             0            0   24     15-29\n",
       "\n",
       "[41253 rows x 5 columns]"
      ]
     },
     "execution_count": 13,
     "metadata": {},
     "output_type": "execute_result"
    }
   ],
   "source": [
    "bins = [15, 30, 45, 60, 70, 92]\n",
    "groups = ['15-29', '30-44', '45-59','60-79', '80+']\n",
    "\n",
    "customers['age_group'] = pd.cut(customers.age, bins, labels = groups, include_lowest=True)\n",
    "customers"
   ]
  },
  {
   "cell_type": "markdown",
   "id": "1019ff62",
   "metadata": {},
   "source": [
    "After we have cathegorized each customer, we can start to count how many members belong to each cathegory. We do this using the group by function. Obviously the total of the members in each cathegory is equal tot he length of the dataset."
   ]
  },
  {
   "cell_type": "code",
   "execution_count": 14,
   "id": "cb834cc1",
   "metadata": {},
   "outputs": [
    {
     "data": {
      "text/plain": [
       "age_group\n",
       "15-29    20465\n",
       "30-44     9971\n",
       "45-59     9533\n",
       "60-79     1111\n",
       "80+        173\n",
       "dtype: int64"
      ]
     },
     "execution_count": 14,
     "metadata": {},
     "output_type": "execute_result"
    }
   ],
   "source": [
    "age_group_counts = customers.groupby('age_group').size()\n",
    "age_group_counts"
   ]
  },
  {
   "cell_type": "code",
   "execution_count": 15,
   "id": "9cc1942d",
   "metadata": {},
   "outputs": [],
   "source": [
    "#QUELLO CHE HA FATTO IL PROF --> VIENE LA STESSA COSA\n",
    "#age_group_counts = Counter(customers['age_group'])\n",
    "#age_group_counts"
   ]
  },
  {
   "cell_type": "markdown",
   "id": "d2138cfa",
   "metadata": {},
   "source": [
    "5) We are know ready to plot our age groups into a barplot to see the hetereogeneity of our dataset. In fact, as we expected, there are much more younger customers."
   ]
  },
  {
   "cell_type": "code",
   "execution_count": 16,
   "id": "0c98089a",
   "metadata": {},
   "outputs": [
    {
     "data": {
      "text/html": [
       "<div>\n",
       "<style scoped>\n",
       "    .dataframe tbody tr th:only-of-type {\n",
       "        vertical-align: middle;\n",
       "    }\n",
       "\n",
       "    .dataframe tbody tr th {\n",
       "        vertical-align: top;\n",
       "    }\n",
       "\n",
       "    .dataframe thead th {\n",
       "        text-align: right;\n",
       "    }\n",
       "</style>\n",
       "<table border=\"1\" class=\"dataframe\">\n",
       "  <thead>\n",
       "    <tr style=\"text-align: right;\">\n",
       "      <th></th>\n",
       "      <th>Age Group</th>\n",
       "      <th>Count</th>\n",
       "    </tr>\n",
       "  </thead>\n",
       "  <tbody>\n",
       "    <tr>\n",
       "      <th>0</th>\n",
       "      <td>15-29</td>\n",
       "      <td>20465</td>\n",
       "    </tr>\n",
       "    <tr>\n",
       "      <th>1</th>\n",
       "      <td>30-44</td>\n",
       "      <td>9971</td>\n",
       "    </tr>\n",
       "    <tr>\n",
       "      <th>2</th>\n",
       "      <td>45-59</td>\n",
       "      <td>9533</td>\n",
       "    </tr>\n",
       "    <tr>\n",
       "      <th>3</th>\n",
       "      <td>60-79</td>\n",
       "      <td>1111</td>\n",
       "    </tr>\n",
       "    <tr>\n",
       "      <th>4</th>\n",
       "      <td>80+</td>\n",
       "      <td>173</td>\n",
       "    </tr>\n",
       "  </tbody>\n",
       "</table>\n",
       "</div>"
      ],
      "text/plain": [
       "  Age Group  Count\n",
       "0     15-29  20465\n",
       "1     30-44   9971\n",
       "2     45-59   9533\n",
       "3     60-79   1111\n",
       "4       80+    173"
      ]
     },
     "execution_count": 16,
     "metadata": {},
     "output_type": "execute_result"
    }
   ],
   "source": [
    "age_group_counts_df = pd.DataFrame([age_group_counts]).T.reset_index()\n",
    "age_group_counts_df.columns = ['Age Group', 'Count']\n",
    "age_group_counts_df"
   ]
  },
  {
   "cell_type": "code",
   "execution_count": 17,
   "id": "bdff8b3c",
   "metadata": {},
   "outputs": [
    {
     "data": {
      "image/png": "[encoded data removed]",
      "text/plain": [
       "<Figure size 1000x500 with 1 Axes>"
      ]
     },
     "metadata": {},
     "output_type": "display_data"
    }
   ],
   "source": [
    "plt.figure(figsize=(10,5))\n",
    "sns.barplot(x='Age Group', y='Count', data=age_group_counts_df)\n",
    "plt.xticks(rotation=90)\n",
    "plt.show()"
   ]
  },
  {
   "cell_type": "markdown",
   "id": "59bde3a8",
   "metadata": {},
   "source": [
    "Actually, it would be better for us also to capture how many people inside each age group have agreed to be part in the member club and how many people have activated the fashion news.\n",
    "\n",
    "Firstly, looking at the subscription to the club member, we count how many people have agreed to it."
   ]
  },
  {
   "cell_type": "code",
   "execution_count": 18,
   "id": "070c7156",
   "metadata": {},
   "outputs": [
    {
     "data": {
      "text/plain": [
       "Counter({1: 17975, 0: 23278})"
      ]
     },
     "execution_count": 18,
     "metadata": {},
     "output_type": "execute_result"
    }
   ],
   "source": [
    "from collections import Counter\n",
    "\n",
    "club_general = Counter(customers['club_member'])\n",
    "club_general"
   ]
  },
  {
   "cell_type": "code",
   "execution_count": 19,
   "id": "73ae540c",
   "metadata": {},
   "outputs": [],
   "source": [
    "#We create a dataframe that contains the two options (being subscribed or not being subscribed)\n",
    "#and we count all the values for each of them."
   ]
  },
  {
   "cell_type": "code",
   "execution_count": 20,
   "id": "e61054ad",
   "metadata": {},
   "outputs": [
    {
     "data": {
      "text/html": [
       "<div>\n",
       "<style scoped>\n",
       "    .dataframe tbody tr th:only-of-type {\n",
       "        vertical-align: middle;\n",
       "    }\n",
       "\n",
       "    .dataframe tbody tr th {\n",
       "        vertical-align: top;\n",
       "    }\n",
       "\n",
       "    .dataframe thead th {\n",
       "        text-align: right;\n",
       "    }\n",
       "</style>\n",
       "<table border=\"1\" class=\"dataframe\">\n",
       "  <thead>\n",
       "    <tr style=\"text-align: right;\">\n",
       "      <th></th>\n",
       "      <th>Premium Club (1=yes, 0=no)</th>\n",
       "      <th>Count</th>\n",
       "    </tr>\n",
       "  </thead>\n",
       "  <tbody>\n",
       "    <tr>\n",
       "      <th>0</th>\n",
       "      <td>1</td>\n",
       "      <td>17975</td>\n",
       "    </tr>\n",
       "    <tr>\n",
       "      <th>1</th>\n",
       "      <td>0</td>\n",
       "      <td>23278</td>\n",
       "    </tr>\n",
       "  </tbody>\n",
       "</table>\n",
       "</div>"
      ],
      "text/plain": [
       "   Premium Club (1=yes, 0=no)  Count\n",
       "0                           1  17975\n",
       "1                           0  23278"
      ]
     },
     "execution_count": 20,
     "metadata": {},
     "output_type": "execute_result"
    }
   ],
   "source": [
    "club_general_df = pd.DataFrame([club_general]).T.reset_index()\n",
    "club_general_df.columns = ['Premium Club (1=yes, 0=no)', 'Count']\n",
    "club_general_df"
   ]
  },
  {
   "cell_type": "code",
   "execution_count": 21,
   "id": "7c0c2551",
   "metadata": {},
   "outputs": [
    {
     "data": {
      "image/png": "[encoded data removed]",
      "text/plain": [
       "<Figure size 1000x500 with 1 Axes>"
      ]
     },
     "metadata": {},
     "output_type": "display_data"
    }
   ],
   "source": [
    "plt.figure(figsize=(10,5))\n",
    "sns.barplot(x='Premium Club (1=yes, 0=no)', y='Count', data=club_general_df)\n",
    "plt.xticks(rotation=90)\n",
    "plt.show()"
   ]
  },
  {
   "cell_type": "code",
   "execution_count": 22,
   "id": "1c1c10ad",
   "metadata": {},
   "outputs": [],
   "source": [
    "#We plot the graph of the dataframe but actually this does not tell us a lot because we\n",
    "#do not know to which group age each customer belongs. \n",
    "#Therefore, we might decide to create a more accurate dataframe which always categorizes\n",
    "#customers in two classes (subscribed or not subscribed) but at the same time, divides \n",
    "#the clients also by age group. In this way we can capture more information. For instance\n",
    "#on average there are more people which are not subscribed to the premium club. However, most \n",
    "#of the people who are subscribed are youngsters. For what concerns elderly people, their \n",
    "#percentage of influence in the dataset is very small."
   ]
  },
  {
   "cell_type": "code",
   "execution_count": 23,
   "id": "b3f6ae91",
   "metadata": {},
   "outputs": [
    {
     "data": {
      "text/html": [
       "<div>\n",
       "<style scoped>\n",
       "    .dataframe tbody tr th:only-of-type {\n",
       "        vertical-align: middle;\n",
       "    }\n",
       "\n",
       "    .dataframe tbody tr th {\n",
       "        vertical-align: top;\n",
       "    }\n",
       "\n",
       "    .dataframe thead th {\n",
       "        text-align: right;\n",
       "    }\n",
       "</style>\n",
       "<table border=\"1\" class=\"dataframe\">\n",
       "  <thead>\n",
       "    <tr style=\"text-align: right;\">\n",
       "      <th></th>\n",
       "      <th>age_group</th>\n",
       "      <th>club_member</th>\n",
       "      <th>count</th>\n",
       "    </tr>\n",
       "  </thead>\n",
       "  <tbody>\n",
       "    <tr>\n",
       "      <th>0</th>\n",
       "      <td>15-29</td>\n",
       "      <td>0</td>\n",
       "      <td>12039</td>\n",
       "    </tr>\n",
       "    <tr>\n",
       "      <th>1</th>\n",
       "      <td>15-29</td>\n",
       "      <td>1</td>\n",
       "      <td>8426</td>\n",
       "    </tr>\n",
       "    <tr>\n",
       "      <th>2</th>\n",
       "      <td>30-44</td>\n",
       "      <td>0</td>\n",
       "      <td>5764</td>\n",
       "    </tr>\n",
       "    <tr>\n",
       "      <th>3</th>\n",
       "      <td>30-44</td>\n",
       "      <td>1</td>\n",
       "      <td>4207</td>\n",
       "    </tr>\n",
       "    <tr>\n",
       "      <th>4</th>\n",
       "      <td>45-59</td>\n",
       "      <td>0</td>\n",
       "      <td>4938</td>\n",
       "    </tr>\n",
       "    <tr>\n",
       "      <th>5</th>\n",
       "      <td>45-59</td>\n",
       "      <td>1</td>\n",
       "      <td>4595</td>\n",
       "    </tr>\n",
       "    <tr>\n",
       "      <th>6</th>\n",
       "      <td>60-79</td>\n",
       "      <td>0</td>\n",
       "      <td>469</td>\n",
       "    </tr>\n",
       "    <tr>\n",
       "      <th>7</th>\n",
       "      <td>60-79</td>\n",
       "      <td>1</td>\n",
       "      <td>642</td>\n",
       "    </tr>\n",
       "    <tr>\n",
       "      <th>8</th>\n",
       "      <td>80+</td>\n",
       "      <td>0</td>\n",
       "      <td>68</td>\n",
       "    </tr>\n",
       "    <tr>\n",
       "      <th>9</th>\n",
       "      <td>80+</td>\n",
       "      <td>1</td>\n",
       "      <td>105</td>\n",
       "    </tr>\n",
       "  </tbody>\n",
       "</table>\n",
       "</div>"
      ],
      "text/plain": [
       "  age_group  club_member  count\n",
       "0     15-29            0  12039\n",
       "1     15-29            1   8426\n",
       "2     30-44            0   5764\n",
       "3     30-44            1   4207\n",
       "4     45-59            0   4938\n",
       "5     45-59            1   4595\n",
       "6     60-79            0    469\n",
       "7     60-79            1    642\n",
       "8       80+            0     68\n",
       "9       80+            1    105"
      ]
     },
     "execution_count": 23,
     "metadata": {},
     "output_type": "execute_result"
    }
   ],
   "source": [
    "club_member_df = customers.groupby(['age_group', 'club_member']).count().reset_index()\n",
    "club_member_df = club_member_df.drop(columns=['fashion_news', 'age'])\n",
    "club_member_df.columns = ['age_group', 'club_member', 'count']\n",
    "club_member_df"
   ]
  },
  {
   "cell_type": "code",
   "execution_count": 24,
   "id": "0670878e",
   "metadata": {},
   "outputs": [
    {
     "data": {
      "image/png": "[encoded data removed]",
      "text/plain": [
       "<Figure size 1000x500 with 1 Axes>"
      ]
     },
     "metadata": {},
     "output_type": "display_data"
    }
   ],
   "source": [
    "plt.figure(figsize=(10,5))\n",
    "sns.barplot(x='age_group', y='count', hue='club_member', data=club_member_df)\n",
    "plt.xticks(rotation=90)\n",
    "plt.show()"
   ]
  },
  {
   "cell_type": "code",
   "execution_count": 25,
   "id": "486a122d",
   "metadata": {},
   "outputs": [],
   "source": [
    "#We can do the same for the subscription to fashion news."
   ]
  },
  {
   "cell_type": "code",
   "execution_count": 26,
   "id": "9c60f5a5",
   "metadata": {},
   "outputs": [
    {
     "data": {
      "text/html": [
       "<div>\n",
       "<style scoped>\n",
       "    .dataframe tbody tr th:only-of-type {\n",
       "        vertical-align: middle;\n",
       "    }\n",
       "\n",
       "    .dataframe tbody tr th {\n",
       "        vertical-align: top;\n",
       "    }\n",
       "\n",
       "    .dataframe thead th {\n",
       "        text-align: right;\n",
       "    }\n",
       "</style>\n",
       "<table border=\"1\" class=\"dataframe\">\n",
       "  <thead>\n",
       "    <tr style=\"text-align: right;\">\n",
       "      <th></th>\n",
       "      <th>Fashion News (1=yes, 0=no)</th>\n",
       "      <th>Count</th>\n",
       "    </tr>\n",
       "  </thead>\n",
       "  <tbody>\n",
       "    <tr>\n",
       "      <th>0</th>\n",
       "      <td>1</td>\n",
       "      <td>18213</td>\n",
       "    </tr>\n",
       "    <tr>\n",
       "      <th>1</th>\n",
       "      <td>0</td>\n",
       "      <td>23040</td>\n",
       "    </tr>\n",
       "  </tbody>\n",
       "</table>\n",
       "</div>"
      ],
      "text/plain": [
       "   Fashion News (1=yes, 0=no)  Count\n",
       "0                           1  18213\n",
       "1                           0  23040"
      ]
     },
     "execution_count": 26,
     "metadata": {},
     "output_type": "execute_result"
    }
   ],
   "source": [
    "from collections import Counter\n",
    "fashion_general = Counter(customers['fashion_news'])\n",
    "\n",
    "fashion_general_df = pd.DataFrame([fashion_general]).T.reset_index()\n",
    "fashion_general_df.columns = ['Fashion News (1=yes, 0=no)', 'Count']\n",
    "fashion_general_df"
   ]
  },
  {
   "cell_type": "code",
   "execution_count": 27,
   "id": "2e57faca",
   "metadata": {},
   "outputs": [
    {
     "data": {
      "text/html": [
       "<div>\n",
       "<style scoped>\n",
       "    .dataframe tbody tr th:only-of-type {\n",
       "        vertical-align: middle;\n",
       "    }\n",
       "\n",
       "    .dataframe tbody tr th {\n",
       "        vertical-align: top;\n",
       "    }\n",
       "\n",
       "    .dataframe thead th {\n",
       "        text-align: right;\n",
       "    }\n",
       "</style>\n",
       "<table border=\"1\" class=\"dataframe\">\n",
       "  <thead>\n",
       "    <tr style=\"text-align: right;\">\n",
       "      <th></th>\n",
       "      <th>age_group</th>\n",
       "      <th>fashion_news</th>\n",
       "      <th>count</th>\n",
       "    </tr>\n",
       "  </thead>\n",
       "  <tbody>\n",
       "    <tr>\n",
       "      <th>0</th>\n",
       "      <td>15-29</td>\n",
       "      <td>0</td>\n",
       "      <td>11901</td>\n",
       "    </tr>\n",
       "    <tr>\n",
       "      <th>1</th>\n",
       "      <td>15-29</td>\n",
       "      <td>1</td>\n",
       "      <td>8564</td>\n",
       "    </tr>\n",
       "    <tr>\n",
       "      <th>2</th>\n",
       "      <td>30-44</td>\n",
       "      <td>0</td>\n",
       "      <td>5710</td>\n",
       "    </tr>\n",
       "    <tr>\n",
       "      <th>3</th>\n",
       "      <td>30-44</td>\n",
       "      <td>1</td>\n",
       "      <td>4261</td>\n",
       "    </tr>\n",
       "    <tr>\n",
       "      <th>4</th>\n",
       "      <td>45-59</td>\n",
       "      <td>0</td>\n",
       "      <td>4899</td>\n",
       "    </tr>\n",
       "    <tr>\n",
       "      <th>5</th>\n",
       "      <td>45-59</td>\n",
       "      <td>1</td>\n",
       "      <td>4634</td>\n",
       "    </tr>\n",
       "    <tr>\n",
       "      <th>6</th>\n",
       "      <td>60-79</td>\n",
       "      <td>0</td>\n",
       "      <td>462</td>\n",
       "    </tr>\n",
       "    <tr>\n",
       "      <th>7</th>\n",
       "      <td>60-79</td>\n",
       "      <td>1</td>\n",
       "      <td>649</td>\n",
       "    </tr>\n",
       "    <tr>\n",
       "      <th>8</th>\n",
       "      <td>80+</td>\n",
       "      <td>0</td>\n",
       "      <td>68</td>\n",
       "    </tr>\n",
       "    <tr>\n",
       "      <th>9</th>\n",
       "      <td>80+</td>\n",
       "      <td>1</td>\n",
       "      <td>105</td>\n",
       "    </tr>\n",
       "  </tbody>\n",
       "</table>\n",
       "</div>"
      ],
      "text/plain": [
       "  age_group  fashion_news  count\n",
       "0     15-29             0  11901\n",
       "1     15-29             1   8564\n",
       "2     30-44             0   5710\n",
       "3     30-44             1   4261\n",
       "4     45-59             0   4899\n",
       "5     45-59             1   4634\n",
       "6     60-79             0    462\n",
       "7     60-79             1    649\n",
       "8       80+             0     68\n",
       "9       80+             1    105"
      ]
     },
     "execution_count": 27,
     "metadata": {},
     "output_type": "execute_result"
    }
   ],
   "source": [
    "fashion_news_df = customers.groupby(['age_group', 'fashion_news']).count().reset_index()\n",
    "fashion_news_df = fashion_news_df.drop(columns=['club_member', 'age'])\n",
    "fashion_news_df.columns = ['age_group', 'fashion_news', 'count']\n",
    "fashion_news_df"
   ]
  },
  {
   "cell_type": "code",
   "execution_count": 28,
   "id": "08d445fa",
   "metadata": {},
   "outputs": [
    {
     "data": {
      "image/png": "[encoded data removed]",
      "text/plain": [
       "<Figure size 1000x500 with 1 Axes>"
      ]
     },
     "metadata": {},
     "output_type": "display_data"
    }
   ],
   "source": [
    "plt.figure(figsize=(10,5))\n",
    "sns.barplot(x='age_group', y='count', hue='fashion_news', data=fashion_news_df)\n",
    "plt.xticks(rotation=90)\n",
    "plt.show()"
   ]
  },
  {
   "cell_type": "code",
   "execution_count": 29,
   "id": "d09dd949",
   "metadata": {},
   "outputs": [],
   "source": [
    "# What can we easily capture from this graphs? People younger than 60 years old\n",
    "#are much more into both subscribing to fashion news and getting in the member club.\n",
    "#However, in general there are still more people which are not into these activities."
   ]
  },
  {
   "cell_type": "markdown",
   "id": "38092804",
   "metadata": {},
   "source": [
    "# ARTICLES"
   ]
  },
  {
   "cell_type": "markdown",
   "id": "252083a9",
   "metadata": {},
   "source": [
    "2) In the second part of our data analysis, we will study the different articles that our company sell, in order to understand when different articles are similiar or different and so when suggest one of them basing on the previous ordered. \n",
    "Let's take a look to this dataset:"
   ]
  },
  {
   "cell_type": "code",
   "execution_count": 30,
   "id": "d2433e30",
   "metadata": {},
   "outputs": [
    {
     "data": {
      "text/html": [
       "<div>\n",
       "<style scoped>\n",
       "    .dataframe tbody tr th:only-of-type {\n",
       "        vertical-align: middle;\n",
       "    }\n",
       "\n",
       "    .dataframe tbody tr th {\n",
       "        vertical-align: top;\n",
       "    }\n",
       "\n",
       "    .dataframe thead th {\n",
       "        text-align: right;\n",
       "    }\n",
       "</style>\n",
       "<table border=\"1\" class=\"dataframe\">\n",
       "  <thead>\n",
       "    <tr style=\"text-align: right;\">\n",
       "      <th></th>\n",
       "      <th>article_id</th>\n",
       "      <th>prod_name</th>\n",
       "      <th>product_type</th>\n",
       "      <th>product_type_name</th>\n",
       "      <th>product_group_name</th>\n",
       "      <th>colour_group</th>\n",
       "      <th>colour_group_name</th>\n",
       "      <th>perceived_colour_value</th>\n",
       "      <th>perceived_colour_value_name</th>\n",
       "      <th>perceived_colour_master</th>\n",
       "      <th>...</th>\n",
       "      <th>department</th>\n",
       "      <th>department_name</th>\n",
       "      <th>index</th>\n",
       "      <th>index_name</th>\n",
       "      <th>index_group</th>\n",
       "      <th>index_group_name</th>\n",
       "      <th>section</th>\n",
       "      <th>section_name</th>\n",
       "      <th>garment_group</th>\n",
       "      <th>garment_group_name</th>\n",
       "    </tr>\n",
       "  </thead>\n",
       "  <tbody>\n",
       "    <tr>\n",
       "      <th>0</th>\n",
       "      <td>0</td>\n",
       "      <td>20 den 1p Stockings</td>\n",
       "      <td>304</td>\n",
       "      <td>Underwear Tights</td>\n",
       "      <td>Socks &amp; Tights</td>\n",
       "      <td>9</td>\n",
       "      <td>Black</td>\n",
       "      <td>4</td>\n",
       "      <td>Dark</td>\n",
       "      <td>5</td>\n",
       "      <td>...</td>\n",
       "      <td>3608</td>\n",
       "      <td>Tights basic</td>\n",
       "      <td>B</td>\n",
       "      <td>Lingeries/Tights</td>\n",
       "      <td>1</td>\n",
       "      <td>Ladieswear</td>\n",
       "      <td>62</td>\n",
       "      <td>Womens Nightwear, Socks &amp; Tigh</td>\n",
       "      <td>1021</td>\n",
       "      <td>Socks and Tights</td>\n",
       "    </tr>\n",
       "    <tr>\n",
       "      <th>1</th>\n",
       "      <td>1</td>\n",
       "      <td>Shape Up 30 den 1p Tights</td>\n",
       "      <td>273</td>\n",
       "      <td>Leggings/Tights</td>\n",
       "      <td>Garment Lower body</td>\n",
       "      <td>9</td>\n",
       "      <td>Black</td>\n",
       "      <td>4</td>\n",
       "      <td>Dark</td>\n",
       "      <td>5</td>\n",
       "      <td>...</td>\n",
       "      <td>3608</td>\n",
       "      <td>Tights basic</td>\n",
       "      <td>B</td>\n",
       "      <td>Lingeries/Tights</td>\n",
       "      <td>1</td>\n",
       "      <td>Ladieswear</td>\n",
       "      <td>62</td>\n",
       "      <td>Womens Nightwear, Socks &amp; Tigh</td>\n",
       "      <td>1021</td>\n",
       "      <td>Socks and Tights</td>\n",
       "    </tr>\n",
       "    <tr>\n",
       "      <th>2</th>\n",
       "      <td>2</td>\n",
       "      <td>Support 40 den 1p Tights</td>\n",
       "      <td>304</td>\n",
       "      <td>Underwear Tights</td>\n",
       "      <td>Socks &amp; Tights</td>\n",
       "      <td>9</td>\n",
       "      <td>Black</td>\n",
       "      <td>4</td>\n",
       "      <td>Dark</td>\n",
       "      <td>5</td>\n",
       "      <td>...</td>\n",
       "      <td>3608</td>\n",
       "      <td>Tights basic</td>\n",
       "      <td>B</td>\n",
       "      <td>Lingeries/Tights</td>\n",
       "      <td>1</td>\n",
       "      <td>Ladieswear</td>\n",
       "      <td>62</td>\n",
       "      <td>Womens Nightwear, Socks &amp; Tigh</td>\n",
       "      <td>1021</td>\n",
       "      <td>Socks and Tights</td>\n",
       "    </tr>\n",
       "    <tr>\n",
       "      <th>3</th>\n",
       "      <td>3</td>\n",
       "      <td>200 den 1p Tights</td>\n",
       "      <td>304</td>\n",
       "      <td>Underwear Tights</td>\n",
       "      <td>Socks &amp; Tights</td>\n",
       "      <td>9</td>\n",
       "      <td>Black</td>\n",
       "      <td>4</td>\n",
       "      <td>Dark</td>\n",
       "      <td>5</td>\n",
       "      <td>...</td>\n",
       "      <td>3608</td>\n",
       "      <td>Tights basic</td>\n",
       "      <td>B</td>\n",
       "      <td>Lingeries/Tights</td>\n",
       "      <td>1</td>\n",
       "      <td>Ladieswear</td>\n",
       "      <td>62</td>\n",
       "      <td>Womens Nightwear, Socks &amp; Tigh</td>\n",
       "      <td>1021</td>\n",
       "      <td>Socks and Tights</td>\n",
       "    </tr>\n",
       "    <tr>\n",
       "      <th>4</th>\n",
       "      <td>4</td>\n",
       "      <td>Control Top 50 den 1p Tights</td>\n",
       "      <td>273</td>\n",
       "      <td>Leggings/Tights</td>\n",
       "      <td>Garment Lower body</td>\n",
       "      <td>9</td>\n",
       "      <td>Black</td>\n",
       "      <td>4</td>\n",
       "      <td>Dark</td>\n",
       "      <td>5</td>\n",
       "      <td>...</td>\n",
       "      <td>3608</td>\n",
       "      <td>Tights basic</td>\n",
       "      <td>B</td>\n",
       "      <td>Lingeries/Tights</td>\n",
       "      <td>1</td>\n",
       "      <td>Ladieswear</td>\n",
       "      <td>62</td>\n",
       "      <td>Womens Nightwear, Socks &amp; Tigh</td>\n",
       "      <td>1021</td>\n",
       "      <td>Socks and Tights</td>\n",
       "    </tr>\n",
       "  </tbody>\n",
       "</table>\n",
       "<p>5 rows × 21 columns</p>\n",
       "</div>"
      ],
      "text/plain": [
       "   article_id                     prod_name  product_type product_type_name  \\\n",
       "0           0           20 den 1p Stockings           304  Underwear Tights   \n",
       "1           1     Shape Up 30 den 1p Tights           273   Leggings/Tights   \n",
       "2           2      Support 40 den 1p Tights           304  Underwear Tights   \n",
       "3           3             200 den 1p Tights           304  Underwear Tights   \n",
       "4           4  Control Top 50 den 1p Tights           273   Leggings/Tights   \n",
       "\n",
       "   product_group_name  colour_group colour_group_name  perceived_colour_value  \\\n",
       "0      Socks & Tights             9             Black                       4   \n",
       "1  Garment Lower body             9             Black                       4   \n",
       "2      Socks & Tights             9             Black                       4   \n",
       "3      Socks & Tights             9             Black                       4   \n",
       "4  Garment Lower body             9             Black                       4   \n",
       "\n",
       "  perceived_colour_value_name  perceived_colour_master  ... department  \\\n",
       "0                        Dark                        5  ...       3608   \n",
       "1                        Dark                        5  ...       3608   \n",
       "2                        Dark                        5  ...       3608   \n",
       "3                        Dark                        5  ...       3608   \n",
       "4                        Dark                        5  ...       3608   \n",
       "\n",
       "   department_name index        index_name index_group  index_group_name  \\\n",
       "0     Tights basic     B  Lingeries/Tights           1        Ladieswear   \n",
       "1     Tights basic     B  Lingeries/Tights           1        Ladieswear   \n",
       "2     Tights basic     B  Lingeries/Tights           1        Ladieswear   \n",
       "3     Tights basic     B  Lingeries/Tights           1        Ladieswear   \n",
       "4     Tights basic     B  Lingeries/Tights           1        Ladieswear   \n",
       "\n",
       "  section                    section_name garment_group  garment_group_name  \n",
       "0      62  Womens Nightwear, Socks & Tigh          1021    Socks and Tights  \n",
       "1      62  Womens Nightwear, Socks & Tigh          1021    Socks and Tights  \n",
       "2      62  Womens Nightwear, Socks & Tigh          1021    Socks and Tights  \n",
       "3      62  Womens Nightwear, Socks & Tigh          1021    Socks and Tights  \n",
       "4      62  Womens Nightwear, Socks & Tigh          1021    Socks and Tights  \n",
       "\n",
       "[5 rows x 21 columns]"
      ]
     },
     "execution_count": 30,
     "metadata": {},
     "output_type": "execute_result"
    }
   ],
   "source": [
    "articles = pd.read_csv(\"recsys_articles.csv\")\n",
    "articles.head()"
   ]
  },
  {
   "cell_type": "markdown",
   "id": "a6ad5b7b",
   "metadata": {},
   "source": [
    "As we can easily see, this dataset has a more complex structure than the one analyzed before, but we can surely ignore some columns:\n",
    "In fact, a lot of columns give us the same information of another column; this is due to the fact that each category is represented by 2 columns.\n",
    "For example, we have the variable 'product_type', that is the ID code for a category and then we have 'product_type_name', that is the full name of a category.\n",
    "Based on this, we can choose some variable to consider and someother to ignore.\n"
   ]
  },
  {
   "cell_type": "markdown",
   "id": "19846fb7",
   "metadata": {},
   "source": [
    "As we did for customers, we want to check how many values are null."
   ]
  },
  {
   "cell_type": "code",
   "execution_count": 31,
   "id": "37fd42dc",
   "metadata": {},
   "outputs": [
    {
     "data": {
      "text/plain": [
       "article_id                      0\n",
       "prod_name                       0\n",
       "product_type                    0\n",
       "product_type_name               0\n",
       "product_group_name              0\n",
       "colour_group                    0\n",
       "colour_group_name               0\n",
       "perceived_colour_value          0\n",
       "perceived_colour_value_name     0\n",
       "perceived_colour_master         0\n",
       "perceived_colour_master_name    0\n",
       "department                      0\n",
       "department_name                 0\n",
       "index                           0\n",
       "index_name                      0\n",
       "index_group                     0\n",
       "index_group_name                0\n",
       "section                         0\n",
       "section_name                    0\n",
       "garment_group                   0\n",
       "garment_group_name              0\n",
       "dtype: int64"
      ]
     },
     "execution_count": 31,
     "metadata": {},
     "output_type": "execute_result"
    }
   ],
   "source": [
    "articles.isnull().sum()"
   ]
  },
  {
   "cell_type": "markdown",
   "id": "f28487b1",
   "metadata": {},
   "source": [
    "Luckily, this time we have zero null values."
   ]
  },
  {
   "cell_type": "markdown",
   "id": "60f525ca",
   "metadata": {},
   "source": [
    "Now we can group our articles in different ways, starting from the division in categories.\n",
    "We want to see how our product are partitioned by their category, and so see how this categories are structured, finding the number of articles for each category:"
   ]
  },
  {
   "cell_type": "code",
   "execution_count": 32,
   "id": "d941ae3b",
   "metadata": {
    "scrolled": false
   },
   "outputs": [
    {
     "data": {
      "text/html": [
       "<div>\n",
       "<style scoped>\n",
       "    .dataframe tbody tr th:only-of-type {\n",
       "        vertical-align: middle;\n",
       "    }\n",
       "\n",
       "    .dataframe tbody tr th {\n",
       "        vertical-align: top;\n",
       "    }\n",
       "\n",
       "    .dataframe thead th {\n",
       "        text-align: right;\n",
       "    }\n",
       "</style>\n",
       "<table border=\"1\" class=\"dataframe\">\n",
       "  <thead>\n",
       "    <tr style=\"text-align: right;\">\n",
       "      <th></th>\n",
       "      <th>Type</th>\n",
       "      <th>Count</th>\n",
       "    </tr>\n",
       "  </thead>\n",
       "  <tbody>\n",
       "    <tr>\n",
       "      <th>18</th>\n",
       "      <td>Trousers</td>\n",
       "      <td>972</td>\n",
       "    </tr>\n",
       "    <tr>\n",
       "      <th>3</th>\n",
       "      <td>Sweater</td>\n",
       "      <td>635</td>\n",
       "    </tr>\n",
       "    <tr>\n",
       "      <th>11</th>\n",
       "      <td>Dress</td>\n",
       "      <td>578</td>\n",
       "    </tr>\n",
       "    <tr>\n",
       "      <th>21</th>\n",
       "      <td>Top</td>\n",
       "      <td>422</td>\n",
       "    </tr>\n",
       "    <tr>\n",
       "      <th>17</th>\n",
       "      <td>T-shirt</td>\n",
       "      <td>382</td>\n",
       "    </tr>\n",
       "    <tr>\n",
       "      <th>...</th>\n",
       "      <td>...</td>\n",
       "      <td>...</td>\n",
       "    </tr>\n",
       "    <tr>\n",
       "      <th>30</th>\n",
       "      <td>Braces</td>\n",
       "      <td>1</td>\n",
       "    </tr>\n",
       "    <tr>\n",
       "      <th>78</th>\n",
       "      <td>Hairband</td>\n",
       "      <td>1</td>\n",
       "    </tr>\n",
       "    <tr>\n",
       "      <th>79</th>\n",
       "      <td>Flat shoes</td>\n",
       "      <td>1</td>\n",
       "    </tr>\n",
       "    <tr>\n",
       "      <th>31</th>\n",
       "      <td>Nipple covers</td>\n",
       "      <td>1</td>\n",
       "    </tr>\n",
       "    <tr>\n",
       "      <th>33</th>\n",
       "      <td>Bra extender</td>\n",
       "      <td>1</td>\n",
       "    </tr>\n",
       "  </tbody>\n",
       "</table>\n",
       "<p>82 rows × 2 columns</p>\n",
       "</div>"
      ],
      "text/plain": [
       "             Type  Count\n",
       "18       Trousers    972\n",
       "3         Sweater    635\n",
       "11          Dress    578\n",
       "21            Top    422\n",
       "17        T-shirt    382\n",
       "..            ...    ...\n",
       "30         Braces      1\n",
       "78       Hairband      1\n",
       "79     Flat shoes      1\n",
       "31  Nipple covers      1\n",
       "33   Bra extender      1\n",
       "\n",
       "[82 rows x 2 columns]"
      ]
     },
     "execution_count": 32,
     "metadata": {},
     "output_type": "execute_result"
    }
   ],
   "source": [
    "type_article_count = Counter(articles['product_type_name'])\n",
    "type_article_count_df = pd.DataFrame([type_article_count]).T.reset_index()\n",
    "type_article_count_df.columns = ['Type', 'Count']\n",
    "type_article_count_df.sort_values(by='Count', ascending=False) #We sort the dataframe in order to see the biggest types withot any code"
   ]
  },
  {
   "cell_type": "markdown",
   "id": "c678c1a3",
   "metadata": {},
   "source": [
    "From the dataframe, we see that the type of product with more articles inside is the Trouser, with exactly 972 different ones."
   ]
  },
  {
   "cell_type": "markdown",
   "id": "321635e8",
   "metadata": {},
   "source": [
    "Let's see a visual representation:"
   ]
  },
  {
   "cell_type": "code",
   "execution_count": 33,
   "id": "9fe1207a",
   "metadata": {},
   "outputs": [
    {
     "data": {
      "image/png": "[encoded data removed]",
      "text/plain": [
       "<Figure size 1000x500 with 1 Axes>"
      ]
     },
     "metadata": {},
     "output_type": "display_data"
    }
   ],
   "source": [
    "plt.figure(figsize=(10,5))\n",
    "sns.barplot(x='Type', y='Count', data=type_article_count_df)\n",
    "plt.xticks(rotation=90)\n",
    "plt.show()"
   ]
  },
  {
   "cell_type": "markdown",
   "id": "bfc4c596",
   "metadata": {},
   "source": [
    "This plot is useful, but also to caothic (82 categories are too many) so we can regroup our categories (types) in some larger categories (group)."
   ]
  },
  {
   "cell_type": "code",
   "execution_count": 34,
   "id": "0e80c611",
   "metadata": {},
   "outputs": [
    {
     "data": {
      "text/html": [
       "<div>\n",
       "<style scoped>\n",
       "    .dataframe tbody tr th:only-of-type {\n",
       "        vertical-align: middle;\n",
       "    }\n",
       "\n",
       "    .dataframe tbody tr th {\n",
       "        vertical-align: top;\n",
       "    }\n",
       "\n",
       "    .dataframe thead th {\n",
       "        text-align: right;\n",
       "    }\n",
       "</style>\n",
       "<table border=\"1\" class=\"dataframe\">\n",
       "  <thead>\n",
       "    <tr style=\"text-align: right;\">\n",
       "      <th></th>\n",
       "      <th>Group</th>\n",
       "      <th>Count</th>\n",
       "    </tr>\n",
       "  </thead>\n",
       "  <tbody>\n",
       "    <tr>\n",
       "      <th>3</th>\n",
       "      <td>Garment Upper body</td>\n",
       "      <td>2799</td>\n",
       "    </tr>\n",
       "    <tr>\n",
       "      <th>1</th>\n",
       "      <td>Garment Lower body</td>\n",
       "      <td>1428</td>\n",
       "    </tr>\n",
       "    <tr>\n",
       "      <th>7</th>\n",
       "      <td>Garment Full body</td>\n",
       "      <td>632</td>\n",
       "    </tr>\n",
       "    <tr>\n",
       "      <th>4</th>\n",
       "      <td>Underwear</td>\n",
       "      <td>547</td>\n",
       "    </tr>\n",
       "    <tr>\n",
       "      <th>6</th>\n",
       "      <td>Accessories</td>\n",
       "      <td>378</td>\n",
       "    </tr>\n",
       "    <tr>\n",
       "      <th>0</th>\n",
       "      <td>Socks &amp; Tights</td>\n",
       "      <td>245</td>\n",
       "    </tr>\n",
       "    <tr>\n",
       "      <th>9</th>\n",
       "      <td>Swimwear</td>\n",
       "      <td>233</td>\n",
       "    </tr>\n",
       "    <tr>\n",
       "      <th>8</th>\n",
       "      <td>Shoes</td>\n",
       "      <td>135</td>\n",
       "    </tr>\n",
       "    <tr>\n",
       "      <th>5</th>\n",
       "      <td>Unknown</td>\n",
       "      <td>67</td>\n",
       "    </tr>\n",
       "    <tr>\n",
       "      <th>10</th>\n",
       "      <td>Nightwear</td>\n",
       "      <td>60</td>\n",
       "    </tr>\n",
       "    <tr>\n",
       "      <th>2</th>\n",
       "      <td>Items</td>\n",
       "      <td>10</td>\n",
       "    </tr>\n",
       "    <tr>\n",
       "      <th>11</th>\n",
       "      <td>Bags</td>\n",
       "      <td>2</td>\n",
       "    </tr>\n",
       "  </tbody>\n",
       "</table>\n",
       "</div>"
      ],
      "text/plain": [
       "                 Group  Count\n",
       "3   Garment Upper body   2799\n",
       "1   Garment Lower body   1428\n",
       "7    Garment Full body    632\n",
       "4            Underwear    547\n",
       "6          Accessories    378\n",
       "0       Socks & Tights    245\n",
       "9             Swimwear    233\n",
       "8                Shoes    135\n",
       "5              Unknown     67\n",
       "10           Nightwear     60\n",
       "2                Items     10\n",
       "11                Bags      2"
      ]
     },
     "execution_count": 34,
     "metadata": {},
     "output_type": "execute_result"
    }
   ],
   "source": [
    "group_article_count = Counter(articles['product_group_name'])\n",
    "group_article_count_df = pd.DataFrame([group_article_count]).T.reset_index()\n",
    "group_article_count_df.columns = ['Group', 'Count']\n",
    "group_article_count_df.sort_values(by='Count', ascending=False)"
   ]
  },
  {
   "cell_type": "markdown",
   "id": "363da01c",
   "metadata": {},
   "source": [
    "This time, we directly see all the classification for groups, where the winner is Garment Upper body, with 2799 different articles."
   ]
  },
  {
   "cell_type": "markdown",
   "id": "d68ba11b",
   "metadata": {},
   "source": [
    "One more time, the plot:"
   ]
  },
  {
   "cell_type": "code",
   "execution_count": 35,
   "id": "c6e63f15",
   "metadata": {},
   "outputs": [
    {
     "data": {
      "image/png": "[encoded data removed]",
      "text/plain": [
       "<Figure size 1000x500 with 1 Axes>"
      ]
     },
     "metadata": {},
     "output_type": "display_data"
    }
   ],
   "source": [
    "plt.figure(figsize=(10,5))\n",
    "sns.barplot(x='Group', y='Count', data=group_article_count_df)\n",
    "plt.xticks(rotation=90)\n",
    "plt.show()"
   ]
  },
  {
   "cell_type": "markdown",
   "id": "947f82ef",
   "metadata": {},
   "source": [
    "Now we have a more simpler plot, where we can identify the top categories just by seeing it."
   ]
  },
  {
   "cell_type": "markdown",
   "id": "1edf0ce6",
   "metadata": {},
   "source": [
    "# TRANSACTIONS"
   ]
  },
  {
   "cell_type": "code",
   "execution_count": 36,
   "id": "0f9afd39",
   "metadata": {},
   "outputs": [
    {
     "data": {
      "text/html": [
       "<div>\n",
       "<style scoped>\n",
       "    .dataframe tbody tr th:only-of-type {\n",
       "        vertical-align: middle;\n",
       "    }\n",
       "\n",
       "    .dataframe tbody tr th {\n",
       "        vertical-align: top;\n",
       "    }\n",
       "\n",
       "    .dataframe thead th {\n",
       "        text-align: right;\n",
       "    }\n",
       "</style>\n",
       "<table border=\"1\" class=\"dataframe\">\n",
       "  <thead>\n",
       "    <tr style=\"text-align: right;\">\n",
       "      <th></th>\n",
       "      <th>t_dat</th>\n",
       "      <th>customer_id</th>\n",
       "      <th>article_id</th>\n",
       "    </tr>\n",
       "  </thead>\n",
       "  <tbody>\n",
       "    <tr>\n",
       "      <th>0</th>\n",
       "      <td>2020-09-02</td>\n",
       "      <td>7</td>\n",
       "      <td>599</td>\n",
       "    </tr>\n",
       "    <tr>\n",
       "      <th>1</th>\n",
       "      <td>2020-09-02</td>\n",
       "      <td>7</td>\n",
       "      <td>2600</td>\n",
       "    </tr>\n",
       "    <tr>\n",
       "      <th>2</th>\n",
       "      <td>2020-09-02</td>\n",
       "      <td>7</td>\n",
       "      <td>2063</td>\n",
       "    </tr>\n",
       "    <tr>\n",
       "      <th>3</th>\n",
       "      <td>2020-09-02</td>\n",
       "      <td>7</td>\n",
       "      <td>5188</td>\n",
       "    </tr>\n",
       "    <tr>\n",
       "      <th>4</th>\n",
       "      <td>2020-09-02</td>\n",
       "      <td>17</td>\n",
       "      <td>5111</td>\n",
       "    </tr>\n",
       "  </tbody>\n",
       "</table>\n",
       "</div>"
      ],
      "text/plain": [
       "        t_dat  customer_id  article_id\n",
       "0  2020-09-02            7         599\n",
       "1  2020-09-02            7        2600\n",
       "2  2020-09-02            7        2063\n",
       "3  2020-09-02            7        5188\n",
       "4  2020-09-02           17        5111"
      ]
     },
     "execution_count": 36,
     "metadata": {},
     "output_type": "execute_result"
    }
   ],
   "source": [
    "transactions = pd.read_csv(\"recsys_transactions.csv\")\n",
    "transactions.head()"
   ]
  },
  {
   "cell_type": "markdown",
   "id": "00960972",
   "metadata": {},
   "source": [
    "The last dataset we are going to study is \"recsys_transactions.csv\". Its information are the date of purchase, the customer id and the product id. The same customer can purchase more articles.\n",
    "\n",
    "To be in do doubt, we check there are Null values that might interfere with our analysis."
   ]
  },
  {
   "cell_type": "code",
   "execution_count": 37,
   "id": "8d0f7611",
   "metadata": {},
   "outputs": [
    {
     "data": {
      "text/plain": [
       "t_dat          0\n",
       "customer_id    0\n",
       "article_id     0\n",
       "dtype: int64"
      ]
     },
     "execution_count": 37,
     "metadata": {},
     "output_type": "execute_result"
    }
   ],
   "source": [
    "transactions.isnull().sum()"
   ]
  },
  {
   "cell_type": "markdown",
   "id": "8b43387c",
   "metadata": {},
   "source": [
    "# INGLESE PESSIMO, DA RIVEDERE  \n",
    "\n",
    "This result was not hard to predict.\n",
    "Indeed, looking to this dataset, we observe that it is based on a relationship between the other 2 datasets so, all the rows are composed by the IDs of an article and and a costumer.\n",
    "Without one of these 2 values, the row will give us zero relevant informations and so would be unuseful to process it.\n",
    "\n"
   ]
  },
  {
   "cell_type": "markdown",
   "id": "49c15f5d",
   "metadata": {},
   "source": [
    "We would like to see how many purchases has done each customer. We create a dataframe with 2 columns: on one side the customer ID and on the other the number of purchases each customer has made."
   ]
  },
  {
   "cell_type": "code",
   "execution_count": 38,
   "id": "47d2d4ae",
   "metadata": {},
   "outputs": [],
   "source": [
    "from collections import Counter\n",
    "customer_transactions_count = Counter(transactions['customer_id'])\n",
    "#transactions.groupby('customer_id').size()\n",
    "#outputs a long dictionary with key the id of the customer and value the number of purchases he or she has made"
   ]
  },
  {
   "cell_type": "code",
   "execution_count": 39,
   "id": "1935f40c",
   "metadata": {
    "scrolled": true
   },
   "outputs": [
    {
     "data": {
      "text/html": [
       "<div>\n",
       "<style scoped>\n",
       "    .dataframe tbody tr th:only-of-type {\n",
       "        vertical-align: middle;\n",
       "    }\n",
       "\n",
       "    .dataframe tbody tr th {\n",
       "        vertical-align: top;\n",
       "    }\n",
       "\n",
       "    .dataframe thead th {\n",
       "        text-align: right;\n",
       "    }\n",
       "</style>\n",
       "<table border=\"1\" class=\"dataframe\">\n",
       "  <thead>\n",
       "    <tr style=\"text-align: right;\">\n",
       "      <th></th>\n",
       "      <th>Customer ID</th>\n",
       "      <th>Number of Transactions</th>\n",
       "    </tr>\n",
       "  </thead>\n",
       "  <tbody>\n",
       "    <tr>\n",
       "      <th>0</th>\n",
       "      <td>7</td>\n",
       "      <td>20</td>\n",
       "    </tr>\n",
       "    <tr>\n",
       "      <th>1</th>\n",
       "      <td>17</td>\n",
       "      <td>7</td>\n",
       "    </tr>\n",
       "    <tr>\n",
       "      <th>2</th>\n",
       "      <td>20</td>\n",
       "      <td>8</td>\n",
       "    </tr>\n",
       "    <tr>\n",
       "      <th>3</th>\n",
       "      <td>56</td>\n",
       "      <td>10</td>\n",
       "    </tr>\n",
       "    <tr>\n",
       "      <th>4</th>\n",
       "      <td>69</td>\n",
       "      <td>12</td>\n",
       "    </tr>\n",
       "  </tbody>\n",
       "</table>\n",
       "</div>"
      ],
      "text/plain": [
       "   Customer ID  Number of Transactions\n",
       "0            7                      20\n",
       "1           17                       7\n",
       "2           20                       8\n",
       "3           56                      10\n",
       "4           69                      12"
      ]
     },
     "execution_count": 39,
     "metadata": {},
     "output_type": "execute_result"
    }
   ],
   "source": [
    "customer_transactions_count_df = pd.DataFrame([customer_transactions_count]).T.reset_index()\n",
    "customer_transactions_count_df.columns = ['Customer ID', 'Number of Transactions']\n",
    "#customer_transactions_count_df= customer_transactions_count_df.sort_values(by='Customer ID', ascending=True).reset_index()\n",
    "customer_transactions_count_df.head()"
   ]
  },
  {
   "cell_type": "markdown",
   "id": "562c6d5b",
   "metadata": {},
   "source": [
    "The customer who has ultimated the highest amount of purchases is:"
   ]
  },
  {
   "cell_type": "code",
   "execution_count": 40,
   "id": "a18e5979",
   "metadata": {
    "scrolled": true
   },
   "outputs": [
    {
     "name": "stdout",
     "output_type": "stream",
     "text": [
      "The users with the highest amount of purchase are: [9197]\n",
      "With number of transactions: 104\n"
     ]
    }
   ],
   "source": [
    "max_user_transaction = customer_transactions_count_df['Number of Transactions'].max() #find the max number of transactions by a costumer\n",
    "user_list = []\n",
    "for i in customer_transactions_count.keys():\n",
    "    if customer_transactions_count[i] == max_user_transaction:\n",
    "        user_list.append(i)\n",
    "print(\"The users with the highest amount of purchase are: \" + str(user_list) + '\\nWith number of transactions: ' + str(max_user_transaction))"
   ]
  },
  {
   "cell_type": "markdown",
   "id": "9eb46cbe",
   "metadata": {},
   "source": [
    "We used a list to map the users because we could have found a tie (2 different users did the same number of purchase) and in order to not lose information, we pick everyone."
   ]
  },
  {
   "cell_type": "markdown",
   "id": "1f58effa",
   "metadata": {},
   "source": [
    "It is also interesting to see everything on the other way around, so how many times each item has been bought by customers."
   ]
  },
  {
   "cell_type": "code",
   "execution_count": 41,
   "id": "c632d8ad",
   "metadata": {},
   "outputs": [],
   "source": [
    "article_transactions_count = Counter(transactions['article_id'])"
   ]
  },
  {
   "cell_type": "code",
   "execution_count": 42,
   "id": "c189de65",
   "metadata": {},
   "outputs": [
    {
     "data": {
      "text/html": [
       "<div>\n",
       "<style scoped>\n",
       "    .dataframe tbody tr th:only-of-type {\n",
       "        vertical-align: middle;\n",
       "    }\n",
       "\n",
       "    .dataframe tbody tr th {\n",
       "        vertical-align: top;\n",
       "    }\n",
       "\n",
       "    .dataframe thead th {\n",
       "        text-align: right;\n",
       "    }\n",
       "</style>\n",
       "<table border=\"1\" class=\"dataframe\">\n",
       "  <thead>\n",
       "    <tr style=\"text-align: right;\">\n",
       "      <th></th>\n",
       "      <th>Article ID</th>\n",
       "      <th>Number of Transactions</th>\n",
       "    </tr>\n",
       "  </thead>\n",
       "  <tbody>\n",
       "    <tr>\n",
       "      <th>0</th>\n",
       "      <td>599</td>\n",
       "      <td>147</td>\n",
       "    </tr>\n",
       "    <tr>\n",
       "      <th>1</th>\n",
       "      <td>2600</td>\n",
       "      <td>56</td>\n",
       "    </tr>\n",
       "    <tr>\n",
       "      <th>2</th>\n",
       "      <td>2063</td>\n",
       "      <td>407</td>\n",
       "    </tr>\n",
       "    <tr>\n",
       "      <th>3</th>\n",
       "      <td>5188</td>\n",
       "      <td>59</td>\n",
       "    </tr>\n",
       "    <tr>\n",
       "      <th>4</th>\n",
       "      <td>5111</td>\n",
       "      <td>272</td>\n",
       "    </tr>\n",
       "  </tbody>\n",
       "</table>\n",
       "</div>"
      ],
      "text/plain": [
       "   Article ID  Number of Transactions\n",
       "0         599                     147\n",
       "1        2600                      56\n",
       "2        2063                     407\n",
       "3        5188                      59\n",
       "4        5111                     272"
      ]
     },
     "execution_count": 42,
     "metadata": {},
     "output_type": "execute_result"
    }
   ],
   "source": [
    "article_transactions_count_df = pd.DataFrame([article_transactions_count]).T.reset_index()\n",
    "article_transactions_count_df.columns = ['Article ID', 'Number of Transactions']\n",
    "article_transactions_count_df.head()"
   ]
  },
  {
   "cell_type": "markdown",
   "id": "960ce6f5",
   "metadata": {},
   "source": [
    "Again, just to be sure, we check that there is no product thta has never been bought."
   ]
  },
  {
   "cell_type": "code",
   "execution_count": 43,
   "id": "66a248d6",
   "metadata": {},
   "outputs": [
    {
     "data": {
      "text/html": [
       "<div>\n",
       "<style scoped>\n",
       "    .dataframe tbody tr th:only-of-type {\n",
       "        vertical-align: middle;\n",
       "    }\n",
       "\n",
       "    .dataframe tbody tr th {\n",
       "        vertical-align: top;\n",
       "    }\n",
       "\n",
       "    .dataframe thead th {\n",
       "        text-align: right;\n",
       "    }\n",
       "</style>\n",
       "<table border=\"1\" class=\"dataframe\">\n",
       "  <thead>\n",
       "    <tr style=\"text-align: right;\">\n",
       "      <th></th>\n",
       "      <th>Article ID</th>\n",
       "      <th>Number of Transactions</th>\n",
       "    </tr>\n",
       "  </thead>\n",
       "  <tbody>\n",
       "  </tbody>\n",
       "</table>\n",
       "</div>"
      ],
      "text/plain": [
       "Empty DataFrame\n",
       "Columns: [Article ID, Number of Transactions]\n",
       "Index: []"
      ]
     },
     "execution_count": 43,
     "metadata": {},
     "output_type": "execute_result"
    }
   ],
   "source": [
    "article_transactions_count_df[article_transactions_count_df['Number of Transactions'] == '0']"
   ]
  },
  {
   "cell_type": "code",
   "execution_count": 84,
   "id": "de9c572f",
   "metadata": {},
   "outputs": [
    {
     "name": "stdout",
     "output_type": "stream",
     "text": [
      "The users with the highest amount of purchase are: [1419]\n",
      "With number of transactions: 1045\n"
     ]
    }
   ],
   "source": [
    "max_article_transaction =article_transactions_count_df['Number of Transactions'].max() #find the max number of transactions by a costumer\n",
    "article_list = []\n",
    "for i in article_transactions_count.keys():\n",
    "    if article_transactions_count[i] == max_article_transaction:\n",
    "        article_list.append(i)\n",
    "print(\"The users with the highest amount of purchase are: \" + str(article_list) + '\\nWith number of transactions: ' + str(max_article_transaction))"
   ]
  },
  {
   "cell_type": "markdown",
   "id": "53b99d4a",
   "metadata": {},
   "source": [
    "Same as before, we used a list to see the most wanted articles.\n",
    "This time, we can access to more information than the case studied before.\n",
    "In fact, while for the customers we can access to a restricted range of information (lot of them are sensitive data) for products we can see more information useful to market strategies.\n",
    "So, let'see what is this id 1419:"
   ]
  },
  {
   "cell_type": "code",
   "execution_count": 45,
   "id": "f8914dff",
   "metadata": {},
   "outputs": [
    {
     "data": {
      "text/html": [
       "<div>\n",
       "<style scoped>\n",
       "    .dataframe tbody tr th:only-of-type {\n",
       "        vertical-align: middle;\n",
       "    }\n",
       "\n",
       "    .dataframe tbody tr th {\n",
       "        vertical-align: top;\n",
       "    }\n",
       "\n",
       "    .dataframe thead th {\n",
       "        text-align: right;\n",
       "    }\n",
       "</style>\n",
       "<table border=\"1\" class=\"dataframe\">\n",
       "  <thead>\n",
       "    <tr style=\"text-align: right;\">\n",
       "      <th></th>\n",
       "      <th>article_id</th>\n",
       "      <th>prod_name</th>\n",
       "      <th>product_type</th>\n",
       "      <th>product_type_name</th>\n",
       "      <th>product_group_name</th>\n",
       "      <th>colour_group</th>\n",
       "      <th>colour_group_name</th>\n",
       "      <th>perceived_colour_value</th>\n",
       "      <th>perceived_colour_value_name</th>\n",
       "      <th>perceived_colour_master</th>\n",
       "      <th>...</th>\n",
       "      <th>department</th>\n",
       "      <th>department_name</th>\n",
       "      <th>index</th>\n",
       "      <th>index_name</th>\n",
       "      <th>index_group</th>\n",
       "      <th>index_group_name</th>\n",
       "      <th>section</th>\n",
       "      <th>section_name</th>\n",
       "      <th>garment_group</th>\n",
       "      <th>garment_group_name</th>\n",
       "    </tr>\n",
       "  </thead>\n",
       "  <tbody>\n",
       "    <tr>\n",
       "      <th>1419</th>\n",
       "      <td>1419</td>\n",
       "      <td>Pluto RW slacks (1)</td>\n",
       "      <td>272</td>\n",
       "      <td>Trousers</td>\n",
       "      <td>Garment Lower body</td>\n",
       "      <td>9</td>\n",
       "      <td>Black</td>\n",
       "      <td>4</td>\n",
       "      <td>Dark</td>\n",
       "      <td>5</td>\n",
       "      <td>...</td>\n",
       "      <td>1722</td>\n",
       "      <td>Trouser</td>\n",
       "      <td>A</td>\n",
       "      <td>Ladieswear</td>\n",
       "      <td>1</td>\n",
       "      <td>Ladieswear</td>\n",
       "      <td>15</td>\n",
       "      <td>Womens Everyday Collection</td>\n",
       "      <td>1009</td>\n",
       "      <td>Trousers</td>\n",
       "    </tr>\n",
       "  </tbody>\n",
       "</table>\n",
       "<p>1 rows × 21 columns</p>\n",
       "</div>"
      ],
      "text/plain": [
       "      article_id            prod_name  product_type product_type_name  \\\n",
       "1419        1419  Pluto RW slacks (1)           272          Trousers   \n",
       "\n",
       "      product_group_name  colour_group colour_group_name  \\\n",
       "1419  Garment Lower body             9             Black   \n",
       "\n",
       "      perceived_colour_value perceived_colour_value_name  \\\n",
       "1419                       4                        Dark   \n",
       "\n",
       "      perceived_colour_master  ... department  department_name index  \\\n",
       "1419                        5  ...       1722          Trouser     A   \n",
       "\n",
       "      index_name index_group  index_group_name section  \\\n",
       "1419  Ladieswear           1        Ladieswear      15   \n",
       "\n",
       "                    section_name garment_group  garment_group_name  \n",
       "1419  Womens Everyday Collection          1009            Trousers  \n",
       "\n",
       "[1 rows x 21 columns]"
      ]
     },
     "execution_count": 45,
     "metadata": {},
     "output_type": "execute_result"
    }
   ],
   "source": [
    "articles.loc[articles['article_id'] == 1419]"
   ]
  },
  {
   "cell_type": "markdown",
   "id": "cd5aa0f4",
   "metadata": {},
   "source": [
    "This row gives us a lot of information, maybe too many.\n",
    "In fact, in our opinion, is better to focus on category in spite of single products, because we can have a more accurate analysis basing on a bigger radius of articles, avoiding in this way some outliers."
   ]
  },
  {
   "cell_type": "code",
   "execution_count": 107,
   "id": "f4ad1e3e",
   "metadata": {},
   "outputs": [
    {
     "name": "stdout",
     "output_type": "stream",
     "text": [
      "     Type of product  Number of Transactions\n",
      "0   Underwear Tights                      61\n",
      "1    Leggings/Tights                     150\n",
      "2           Umbrella                       2\n",
      "3            Sweater                     635\n",
      "4                Bra                     280\n",
      "..               ...                     ...\n",
      "77        Other shoe                       2\n",
      "78          Hairband                       1\n",
      "79        Flat shoes                       1\n",
      "80          Dog wear                       4\n",
      "81          Bracelet                       2\n",
      "\n",
      "[82 rows x 2 columns]\n"
     ]
    }
   ],
   "source": [
    "counttype = Counter(articles['product_type_name'])\n",
    "dftypeproducts = pd.DataFrame({'Type of product':list(counttype.keys()),'Number of Transactions':list(counttype.values())})\n",
    "print (dftypeproducts)"
   ]
  },
  {
   "cell_type": "code",
   "execution_count": 108,
   "id": "1fdf2e61",
   "metadata": {},
   "outputs": [
    {
     "name": "stdout",
     "output_type": "stream",
     "text": [
      "[('Trousers', 972)]\n"
     ]
    }
   ],
   "source": [
    "max_type_transaction = dftypeproducts['Number of Transactions'].max()\n",
    "types_list = []\n",
    "for i in counttype.keys():\n",
    "    if counttype[i] == max_type_transaction:\n",
    "        types_list.append((i,counttype[i]))\n",
    "print (types_list)"
   ]
  },
  {
   "cell_type": "code",
   "execution_count": 112,
   "id": "4a12d8e9",
   "metadata": {},
   "outputs": [
    {
     "data": {
      "image/png": "[encoded data removed]",
      "text/plain": [
       "<Figure size 1200x500 with 1 Axes>"
      ]
     },
     "metadata": {},
     "output_type": "display_data"
    }
   ],
   "source": [
    "plt.figure(figsize=(12,5))\n",
    "sns.barplot(x='Type of product', y='Number of Transactions', data=dftypeproducts)\n",
    "plt.xticks(rotation=90)\n",
    "plt.show()"
   ]
  },
  {
   "cell_type": "code",
   "execution_count": 99,
   "id": "f6411e80",
   "metadata": {},
   "outputs": [
    {
     "name": "stdout",
     "output_type": "stream",
     "text": [
      "              Category  Number of Transactions\n",
      "0       Socks & Tights                     245\n",
      "1   Garment Lower body                    1428\n",
      "2                Items                      10\n",
      "3   Garment Upper body                    2799\n",
      "4            Underwear                     547\n",
      "5              Unknown                      67\n",
      "6          Accessories                     378\n",
      "7    Garment Full body                     632\n",
      "8                Shoes                     135\n",
      "9             Swimwear                     233\n",
      "10           Nightwear                      60\n",
      "11                Bags                       2\n"
     ]
    }
   ],
   "source": [
    "#Creare un dataframe transaction che ha al posto di article_id l'id della categoria che va preso dal file article\n",
    "countcategories = Counter(articles['product_group_name'])\n",
    "dfcategories = pd.DataFrame({'Category':list(countcategories.keys()),'Number of Transactions':list(countcategories.values())})\n",
    "print (dfcategories)"
   ]
  },
  {
   "cell_type": "code",
   "execution_count": 97,
   "id": "97b3ddc9",
   "metadata": {},
   "outputs": [
    {
     "name": "stdout",
     "output_type": "stream",
     "text": [
      "[('Garment Upper body', 2799)]\n"
     ]
    }
   ],
   "source": [
    "max_category_transaction = dfcategories['Number of Transactions'].max()\n",
    "category_list = []\n",
    "for i in countcategories.keys():\n",
    "    if countcategories[i] == max_category_transaction:\n",
    "        category_list.append((i,countcategories[i]))\n",
    "print (category_list)"
   ]
  },
  {
   "cell_type": "code",
   "execution_count": 113,
   "id": "ff13c304",
   "metadata": {},
   "outputs": [
    {
     "data": {
      "image/png": "[encoded data removed]",
      "text/plain": [
       "<Figure size 1000x500 with 1 Axes>"
      ]
     },
     "metadata": {},
     "output_type": "display_data"
    }
   ],
   "source": [
    "plt.figure(figsize=(10,5))\n",
    "sns.barplot(x='Category', y='Number of Transactions', data=dfcategories)\n",
    "plt.xticks(rotation=90)\n",
    "plt.show()"
   ]
  },
  {
   "cell_type": "code",
   "execution_count": null,
   "id": "44e78765",
   "metadata": {},
   "outputs": [],
   "source": []
  },
  {
   "cell_type": "code",
   "execution_count": null,
   "id": "dbc7becc",
   "metadata": {},
   "outputs": [],
   "source": []
  },
  {
   "cell_type": "code",
   "execution_count": null,
   "id": "303a3497",
   "metadata": {},
   "outputs": [],
   "source": []
  }
 ],
 "metadata": {
  "kernelspec": {
   "display_name": "Python 3.10.5 64-bit",
   "language": "python",
   "name": "python3"
  },
  "language_info": {
   "codemirror_mode": {
    "name": "ipython",
    "version": 3
   },
   "file_extension": ".py",
   "mimetype": "text/x-python",
   "name": "python",
   "nbconvert_exporter": "python",
   "pygments_lexer": "ipython3",
   "version": "3.10.5"
  },
  "vscode": {
   "interpreter": {
    "hash": "aee8b7b246df8f9039afb4144a1f6fd8d2ca17a180786b69acc140d282b71a49"
   }
  }
 },
 "nbformat": 4,
 "nbformat_minor": 5
}
