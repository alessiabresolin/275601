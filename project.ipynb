{
 "cells": [
  {
   "cell_type": "code",
   "execution_count": 2,
   "id": "55b2b005",
   "metadata": {},
   "outputs": [],
   "source": [
    "import numpy as np\n",
    "import pandas as pd\n",
    "import sklearn\n",
    "import matplotlib.pyplot as plt\n",
    "import seaborn as sns"
   ]
  },
  {
   "cell_type": "markdown",
   "id": "09da336f",
   "metadata": {},
   "source": [
    "# CUSTOMERS"
   ]
  },
  {
   "cell_type": "markdown",
   "id": "1c00a57b",
   "metadata": {},
   "source": [
    "1) First of all, we import our dataset about customers. We have the unique identifier for each customer and its age. Furthermore, we know whether he or she is subscribed to the newsletter (1 if yes, 0 if no) and if he or she is part of the special club member.\n",
    "\n",
    "We have a look to how data are structured, printing the first five items and we get a general idea of the quantity of the data, using the shape function."
   ]
  },
  {
   "cell_type": "code",
   "execution_count": 3,
   "id": "5cf3db6d",
   "metadata": {},
   "outputs": [
    {
     "data": {
      "text/html": [
       "<div>\n",
       "<style scoped>\n",
       "    .dataframe tbody tr th:only-of-type {\n",
       "        vertical-align: middle;\n",
       "    }\n",
       "\n",
       "    .dataframe tbody tr th {\n",
       "        vertical-align: top;\n",
       "    }\n",
       "\n",
       "    .dataframe thead th {\n",
       "        text-align: right;\n",
       "    }\n",
       "</style>\n",
       "<table border=\"1\" class=\"dataframe\">\n",
       "  <thead>\n",
       "    <tr style=\"text-align: right;\">\n",
       "      <th></th>\n",
       "      <th>customer_id</th>\n",
       "      <th>fashion_news</th>\n",
       "      <th>club_member</th>\n",
       "      <th>age</th>\n",
       "    </tr>\n",
       "  </thead>\n",
       "  <tbody>\n",
       "    <tr>\n",
       "      <th>0</th>\n",
       "      <td>0</td>\n",
       "      <td>1</td>\n",
       "      <td>1</td>\n",
       "      <td>44.0</td>\n",
       "    </tr>\n",
       "    <tr>\n",
       "      <th>1</th>\n",
       "      <td>1</td>\n",
       "      <td>1</td>\n",
       "      <td>1</td>\n",
       "      <td>33.0</td>\n",
       "    </tr>\n",
       "    <tr>\n",
       "      <th>2</th>\n",
       "      <td>2</td>\n",
       "      <td>0</td>\n",
       "      <td>0</td>\n",
       "      <td>29.0</td>\n",
       "    </tr>\n",
       "    <tr>\n",
       "      <th>3</th>\n",
       "      <td>3</td>\n",
       "      <td>0</td>\n",
       "      <td>0</td>\n",
       "      <td>21.0</td>\n",
       "    </tr>\n",
       "    <tr>\n",
       "      <th>4</th>\n",
       "      <td>4</td>\n",
       "      <td>0</td>\n",
       "      <td>0</td>\n",
       "      <td>23.0</td>\n",
       "    </tr>\n",
       "  </tbody>\n",
       "</table>\n",
       "</div>"
      ],
      "text/plain": [
       "   customer_id  fashion_news  club_member   age\n",
       "0            0             1            1  44.0\n",
       "1            1             1            1  33.0\n",
       "2            2             0            0  29.0\n",
       "3            3             0            0  21.0\n",
       "4            4             0            0  23.0"
      ]
     },
     "execution_count": 3,
     "metadata": {},
     "output_type": "execute_result"
    }
   ],
   "source": [
    "customers = pd.read_csv(\"recsys_customers.csv\")\n",
    "customers.head()"
   ]
  },
  {
   "cell_type": "code",
   "execution_count": 4,
   "id": "66316210",
   "metadata": {},
   "outputs": [
    {
     "data": {
      "text/plain": [
       "(41253, 4)"
      ]
     },
     "execution_count": 4,
     "metadata": {},
     "output_type": "execute_result"
    }
   ],
   "source": [
    "customers.shape"
   ]
  },
  {
   "cell_type": "markdown",
   "id": "c22374f0",
   "metadata": {},
   "source": [
    "2) We want to find the columns that may have NaN values in order to handle them."
   ]
  },
  {
   "cell_type": "code",
   "execution_count": 5,
   "id": "353cb8d1",
   "metadata": {},
   "outputs": [
    {
     "data": {
      "text/plain": [
       "customer_id       0\n",
       "fashion_news      0\n",
       "club_member       0\n",
       "age             133\n",
       "dtype: int64"
      ]
     },
     "execution_count": 5,
     "metadata": {},
     "output_type": "execute_result"
    }
   ],
   "source": [
    "customers.isnull().sum()"
   ]
  },
  {
   "cell_type": "markdown",
   "id": "3e7af2e6",
   "metadata": {},
   "source": [
    "Out of 4 columns, only 1 column has null values, which is age. \n",
    "\n",
    "To understand better the weight of these null values on the whole set, we can calculate their weight relative to the length of the dataset."
   ]
  },
  {
   "cell_type": "code",
   "execution_count": 6,
   "id": "4469c25a",
   "metadata": {},
   "outputs": [
    {
     "name": "stdout",
     "output_type": "stream",
     "text": [
      "The null percentage of age is: 0.0032240079509369014\n"
     ]
    }
   ],
   "source": [
    "null_percentage= customers['age'].isnull().sum()/ len(customers)\n",
    "print('The null percentage of age is: ' + str(null_percentage))"
   ]
  },
  {
   "cell_type": "markdown",
   "id": "fc9250ca",
   "metadata": {},
   "source": [
    "The percentage of missing values is quite low, around 0.32%. \n",
    "At this point we can choose to follow 2 paths:\n",
    "- Delete all the rows that contain a null value for age.\n",
    "- We can fill the null cells with the most common values for age.\n",
    "\n",
    "We decided to proceed by substituting all NaN values with the mode of the values of age, which is 26."
   ]
  },
  {
   "cell_type": "code",
   "execution_count": 7,
   "id": "1b205818",
   "metadata": {},
   "outputs": [
    {
     "data": {
      "text/plain": [
       "0    26.0\n",
       "Name: age, dtype: float64"
      ]
     },
     "execution_count": 7,
     "metadata": {},
     "output_type": "execute_result"
    }
   ],
   "source": [
    "customers.age.mode()"
   ]
  },
  {
   "cell_type": "code",
   "execution_count": 8,
   "id": "a23e691a",
   "metadata": {},
   "outputs": [],
   "source": [
    "customers['age'] = customers['age'].fillna(customers['age'].mode()[0])"
   ]
  },
  {
   "cell_type": "markdown",
   "id": "63b46c72",
   "metadata": {},
   "source": [
    "3) As we want our data to be as readable and interpretable as possible, we want to convert the age type from float to integer."
   ]
  },
  {
   "cell_type": "code",
   "execution_count": 9,
   "id": "3d8b6bfe",
   "metadata": {},
   "outputs": [
    {
     "data": {
      "text/html": [
       "<div>\n",
       "<style scoped>\n",
       "    .dataframe tbody tr th:only-of-type {\n",
       "        vertical-align: middle;\n",
       "    }\n",
       "\n",
       "    .dataframe tbody tr th {\n",
       "        vertical-align: top;\n",
       "    }\n",
       "\n",
       "    .dataframe thead th {\n",
       "        text-align: right;\n",
       "    }\n",
       "</style>\n",
       "<table border=\"1\" class=\"dataframe\">\n",
       "  <thead>\n",
       "    <tr style=\"text-align: right;\">\n",
       "      <th></th>\n",
       "      <th>customer_id</th>\n",
       "      <th>fashion_news</th>\n",
       "      <th>club_member</th>\n",
       "      <th>age</th>\n",
       "    </tr>\n",
       "  </thead>\n",
       "  <tbody>\n",
       "    <tr>\n",
       "      <th>0</th>\n",
       "      <td>0</td>\n",
       "      <td>1</td>\n",
       "      <td>1</td>\n",
       "      <td>44</td>\n",
       "    </tr>\n",
       "    <tr>\n",
       "      <th>1</th>\n",
       "      <td>1</td>\n",
       "      <td>1</td>\n",
       "      <td>1</td>\n",
       "      <td>33</td>\n",
       "    </tr>\n",
       "    <tr>\n",
       "      <th>2</th>\n",
       "      <td>2</td>\n",
       "      <td>0</td>\n",
       "      <td>0</td>\n",
       "      <td>29</td>\n",
       "    </tr>\n",
       "    <tr>\n",
       "      <th>3</th>\n",
       "      <td>3</td>\n",
       "      <td>0</td>\n",
       "      <td>0</td>\n",
       "      <td>21</td>\n",
       "    </tr>\n",
       "    <tr>\n",
       "      <th>4</th>\n",
       "      <td>4</td>\n",
       "      <td>0</td>\n",
       "      <td>0</td>\n",
       "      <td>23</td>\n",
       "    </tr>\n",
       "  </tbody>\n",
       "</table>\n",
       "</div>"
      ],
      "text/plain": [
       "   customer_id  fashion_news  club_member  age\n",
       "0            0             1            1   44\n",
       "1            1             1            1   33\n",
       "2            2             0            0   29\n",
       "3            3             0            0   21\n",
       "4            4             0            0   23"
      ]
     },
     "execution_count": 9,
     "metadata": {},
     "output_type": "execute_result"
    }
   ],
   "source": [
    "customers[\"age\"] = customers[\"age\"].apply(lambda x: int(x))\n",
    "customers.head()"
   ]
  },
  {
   "cell_type": "markdown",
   "id": "1348e45f",
   "metadata": {},
   "source": [
    "4) To get a better insight of our data we want to divide customers in 5 categories depending on their age. \n",
    "\n",
    "To simplify things, we calculate the maximum and minimum of the age values and then we create our \"clusters\"."
   ]
  },
  {
   "cell_type": "code",
   "execution_count": 10,
   "id": "e5cc7a47",
   "metadata": {},
   "outputs": [
    {
     "name": "stdout",
     "output_type": "stream",
     "text": [
      "The minimum age recorded is: 16\n",
      "The maximum age recorded is: 91\n"
     ]
    }
   ],
   "source": [
    "print('The minimum age recorded is: ' + str(min(customers[\"age\"])))\n",
    "print('The maximum age recorded is: ' + str(max(customers[\"age\"])))"
   ]
  },
  {
   "cell_type": "markdown",
   "id": "0f82b4c5",
   "metadata": {},
   "source": [
    "What are we doing? We assign each customer to the proper age category adding a column to the initial table."
   ]
  },
  {
   "cell_type": "code",
   "execution_count": 11,
   "id": "81ce2200",
   "metadata": {},
   "outputs": [
    {
     "data": {
      "text/html": [
       "<div>\n",
       "<style scoped>\n",
       "    .dataframe tbody tr th:only-of-type {\n",
       "        vertical-align: middle;\n",
       "    }\n",
       "\n",
       "    .dataframe tbody tr th {\n",
       "        vertical-align: top;\n",
       "    }\n",
       "\n",
       "    .dataframe thead th {\n",
       "        text-align: right;\n",
       "    }\n",
       "</style>\n",
       "<table border=\"1\" class=\"dataframe\">\n",
       "  <thead>\n",
       "    <tr style=\"text-align: right;\">\n",
       "      <th></th>\n",
       "      <th>customer_id</th>\n",
       "      <th>fashion_news</th>\n",
       "      <th>club_member</th>\n",
       "      <th>age</th>\n",
       "      <th>age_group</th>\n",
       "    </tr>\n",
       "  </thead>\n",
       "  <tbody>\n",
       "    <tr>\n",
       "      <th>0</th>\n",
       "      <td>0</td>\n",
       "      <td>1</td>\n",
       "      <td>1</td>\n",
       "      <td>44</td>\n",
       "      <td>31-50</td>\n",
       "    </tr>\n",
       "    <tr>\n",
       "      <th>1</th>\n",
       "      <td>1</td>\n",
       "      <td>1</td>\n",
       "      <td>1</td>\n",
       "      <td>33</td>\n",
       "      <td>31-50</td>\n",
       "    </tr>\n",
       "    <tr>\n",
       "      <th>2</th>\n",
       "      <td>2</td>\n",
       "      <td>0</td>\n",
       "      <td>0</td>\n",
       "      <td>29</td>\n",
       "      <td>22-30</td>\n",
       "    </tr>\n",
       "    <tr>\n",
       "      <th>3</th>\n",
       "      <td>3</td>\n",
       "      <td>0</td>\n",
       "      <td>0</td>\n",
       "      <td>21</td>\n",
       "      <td>15-21</td>\n",
       "    </tr>\n",
       "    <tr>\n",
       "      <th>4</th>\n",
       "      <td>4</td>\n",
       "      <td>0</td>\n",
       "      <td>0</td>\n",
       "      <td>23</td>\n",
       "      <td>22-30</td>\n",
       "    </tr>\n",
       "    <tr>\n",
       "      <th>...</th>\n",
       "      <td>...</td>\n",
       "      <td>...</td>\n",
       "      <td>...</td>\n",
       "      <td>...</td>\n",
       "      <td>...</td>\n",
       "    </tr>\n",
       "    <tr>\n",
       "      <th>41248</th>\n",
       "      <td>41248</td>\n",
       "      <td>1</td>\n",
       "      <td>1</td>\n",
       "      <td>33</td>\n",
       "      <td>31-50</td>\n",
       "    </tr>\n",
       "    <tr>\n",
       "      <th>41249</th>\n",
       "      <td>41249</td>\n",
       "      <td>0</td>\n",
       "      <td>0</td>\n",
       "      <td>25</td>\n",
       "      <td>22-30</td>\n",
       "    </tr>\n",
       "    <tr>\n",
       "      <th>41250</th>\n",
       "      <td>41250</td>\n",
       "      <td>1</td>\n",
       "      <td>1</td>\n",
       "      <td>20</td>\n",
       "      <td>15-21</td>\n",
       "    </tr>\n",
       "    <tr>\n",
       "      <th>41251</th>\n",
       "      <td>41251</td>\n",
       "      <td>1</td>\n",
       "      <td>1</td>\n",
       "      <td>29</td>\n",
       "      <td>22-30</td>\n",
       "    </tr>\n",
       "    <tr>\n",
       "      <th>41252</th>\n",
       "      <td>41252</td>\n",
       "      <td>0</td>\n",
       "      <td>0</td>\n",
       "      <td>24</td>\n",
       "      <td>22-30</td>\n",
       "    </tr>\n",
       "  </tbody>\n",
       "</table>\n",
       "<p>41253 rows × 5 columns</p>\n",
       "</div>"
      ],
      "text/plain": [
       "       customer_id  fashion_news  club_member  age age_group\n",
       "0                0             1            1   44     31-50\n",
       "1                1             1            1   33     31-50\n",
       "2                2             0            0   29     22-30\n",
       "3                3             0            0   21     15-21\n",
       "4                4             0            0   23     22-30\n",
       "...            ...           ...          ...  ...       ...\n",
       "41248        41248             1            1   33     31-50\n",
       "41249        41249             0            0   25     22-30\n",
       "41250        41250             1            1   20     15-21\n",
       "41251        41251             1            1   29     22-30\n",
       "41252        41252             0            0   24     22-30\n",
       "\n",
       "[41253 rows x 5 columns]"
      ]
     },
     "execution_count": 11,
     "metadata": {},
     "output_type": "execute_result"
    }
   ],
   "source": [
    "bins = [15, 22, 31, 51, 70, 92]\n",
    "groups = ['15-21', '22-30', '31-50','51-69', '70+']\n",
    "\n",
    "customers['age_group'] = pd.cut(customers.age, bins, labels = groups, include_lowest=True)\n",
    "customers"
   ]
  },
  {
   "cell_type": "markdown",
   "id": "492de089",
   "metadata": {},
   "source": [
    "After that we have categorized each customer, we can start to count how many members belong to each category. We do this using the group by function. Obviously, the total number of the members in each category is equal to the length of the dataset."
   ]
  },
  {
   "cell_type": "code",
   "execution_count": 12,
   "id": "a47ad5bd",
   "metadata": {},
   "outputs": [
    {
     "data": {
      "text/plain": [
       "age_group\n",
       "15-21     4906\n",
       "22-30    16964\n",
       "31-50    13288\n",
       "51-69     5922\n",
       "70+        173\n",
       "dtype: int64"
      ]
     },
     "execution_count": 12,
     "metadata": {},
     "output_type": "execute_result"
    }
   ],
   "source": [
    "age_group_counts = customers.groupby('age_group').size()\n",
    "age_group_counts"
   ]
  },
  {
   "cell_type": "code",
   "execution_count": 13,
   "id": "6c0fc019",
   "metadata": {},
   "outputs": [
    {
     "data": {
      "text/plain": [
       "\" same as doing\\nfrom collections import Counter \\nage_group_counts2 = Counter(customers['age_group'])\\nage_group_counts2 \""
      ]
     },
     "execution_count": 13,
     "metadata": {},
     "output_type": "execute_result"
    }
   ],
   "source": [
    "''' same as doing\n",
    "from collections import Counter \n",
    "age_group_counts2 = Counter(customers['age_group'])\n",
    "age_group_counts2 '''"
   ]
  },
  {
   "cell_type": "markdown",
   "id": "7e73337f",
   "metadata": {},
   "source": [
    "5) We are know ready to plot our age groups into a barplot to see the hetereogeneity of our dataset. In fact, as we expected, there are much more younger customers with respect to older ones."
   ]
  },
  {
   "cell_type": "code",
   "execution_count": 14,
   "id": "0bc38d60",
   "metadata": {},
   "outputs": [
    {
     "data": {
      "text/html": [
       "<div>\n",
       "<style scoped>\n",
       "    .dataframe tbody tr th:only-of-type {\n",
       "        vertical-align: middle;\n",
       "    }\n",
       "\n",
       "    .dataframe tbody tr th {\n",
       "        vertical-align: top;\n",
       "    }\n",
       "\n",
       "    .dataframe thead th {\n",
       "        text-align: right;\n",
       "    }\n",
       "</style>\n",
       "<table border=\"1\" class=\"dataframe\">\n",
       "  <thead>\n",
       "    <tr style=\"text-align: right;\">\n",
       "      <th></th>\n",
       "      <th>Age Group</th>\n",
       "      <th>Count</th>\n",
       "    </tr>\n",
       "  </thead>\n",
       "  <tbody>\n",
       "    <tr>\n",
       "      <th>0</th>\n",
       "      <td>15-21</td>\n",
       "      <td>4906</td>\n",
       "    </tr>\n",
       "    <tr>\n",
       "      <th>1</th>\n",
       "      <td>22-30</td>\n",
       "      <td>16964</td>\n",
       "    </tr>\n",
       "    <tr>\n",
       "      <th>2</th>\n",
       "      <td>31-50</td>\n",
       "      <td>13288</td>\n",
       "    </tr>\n",
       "    <tr>\n",
       "      <th>3</th>\n",
       "      <td>51-69</td>\n",
       "      <td>5922</td>\n",
       "    </tr>\n",
       "    <tr>\n",
       "      <th>4</th>\n",
       "      <td>70+</td>\n",
       "      <td>173</td>\n",
       "    </tr>\n",
       "  </tbody>\n",
       "</table>\n",
       "</div>"
      ],
      "text/plain": [
       "  Age Group  Count\n",
       "0     15-21   4906\n",
       "1     22-30  16964\n",
       "2     31-50  13288\n",
       "3     51-69   5922\n",
       "4       70+    173"
      ]
     },
     "execution_count": 14,
     "metadata": {},
     "output_type": "execute_result"
    }
   ],
   "source": [
    "age_group_counts_df = pd.DataFrame([age_group_counts]).T.reset_index()\n",
    "age_group_counts_df.columns = ['Age Group', 'Count']\n",
    "age_group_counts_df"
   ]
  },
  {
   "cell_type": "markdown",
   "id": "365acf3b",
   "metadata": {},
   "source": [
    "6) We can plot our results to better capture the age distribution of our data. In our dataset there are much more people under 50 years old with respect to people over 50.\n",
    "The percentage of people below 50 years old is 85.2%!!!"
   ]
  },
  {
   "cell_type": "code",
   "execution_count": 15,
   "id": "1ef8dda8",
   "metadata": {},
   "outputs": [
    {
     "data": {
      "image/png": "[encoded data removed]",
      "text/plain": [
       "<Figure size 1000x500 with 1 Axes>"
      ]
     },
     "metadata": {},
     "output_type": "display_data"
    }
   ],
   "source": [
    "plt.figure(figsize=(10,5))\n",
    "sns.barplot(x='Age Group', y='Count', data=age_group_counts_df)\n",
    "plt.xticks(rotation=90)\n",
    "plt.show()"
   ]
  },
  {
   "cell_type": "code",
   "execution_count": 16,
   "id": "cacd3a43",
   "metadata": {},
   "outputs": [
    {
     "name": "stdout",
     "output_type": "stream",
     "text": [
      "The percentage of people under 50 years old is: 0.852253169466463\n"
     ]
    }
   ],
   "source": [
    "people_under_50 = age_group_counts[0]+age_group_counts[1]+age_group_counts[2]\n",
    "people_over_50 = age_group_counts[3]+age_group_counts[4]\n",
    "total_number_customers = people_under_50 + people_over_50\n",
    "print(f'The percentage of people under 50 years old is: {( people_under_50 / total_number_customers) }')"
   ]
  },
  {
   "cell_type": "markdown",
   "id": "e042555c",
   "metadata": {},
   "source": [
    "7) Actually, it would be better for us also to capture how many people inside each age group have agreed to be part in the member club and how many people have activated the fashion news."
   ]
  },
  {
   "cell_type": "markdown",
   "id": "69e714c5",
   "metadata": {},
   "source": [
    "We know that both columns of 'club member' and 'fashion news' have two possible values:\n",
    "- 1 if the customer is subscribed to the club member or to fashion news\n",
    "- 0 if the customer is not subscribed"
   ]
  },
  {
   "cell_type": "markdown",
   "id": "7bfc64ab",
   "metadata": {},
   "source": [
    "#### Club membership"
   ]
  },
  {
   "cell_type": "code",
   "execution_count": 17,
   "id": "69562bbc",
   "metadata": {},
   "outputs": [
    {
     "data": {
      "text/plain": [
       "Counter({1: 17975, 0: 23278})"
      ]
     },
     "execution_count": 17,
     "metadata": {},
     "output_type": "execute_result"
    }
   ],
   "source": [
    "from collections import Counter\n",
    "\n",
    "club_general = Counter(customers['club_member'])\n",
    "club_general"
   ]
  },
  {
   "cell_type": "markdown",
   "id": "96af46a3",
   "metadata": {},
   "source": [
    "We create a dataframe that contains the two options (being subscribed or not being subscribed) and we count how many customers there are in each of them."
   ]
  },
  {
   "cell_type": "code",
   "execution_count": 18,
   "id": "d82570a1",
   "metadata": {},
   "outputs": [
    {
     "data": {
      "text/html": [
       "<div>\n",
       "<style scoped>\n",
       "    .dataframe tbody tr th:only-of-type {\n",
       "        vertical-align: middle;\n",
       "    }\n",
       "\n",
       "    .dataframe tbody tr th {\n",
       "        vertical-align: top;\n",
       "    }\n",
       "\n",
       "    .dataframe thead th {\n",
       "        text-align: right;\n",
       "    }\n",
       "</style>\n",
       "<table border=\"1\" class=\"dataframe\">\n",
       "  <thead>\n",
       "    <tr style=\"text-align: right;\">\n",
       "      <th></th>\n",
       "      <th>Premium Club (1=yes, 0=no)</th>\n",
       "      <th>Count</th>\n",
       "    </tr>\n",
       "  </thead>\n",
       "  <tbody>\n",
       "    <tr>\n",
       "      <th>0</th>\n",
       "      <td>1</td>\n",
       "      <td>17975</td>\n",
       "    </tr>\n",
       "    <tr>\n",
       "      <th>1</th>\n",
       "      <td>0</td>\n",
       "      <td>23278</td>\n",
       "    </tr>\n",
       "  </tbody>\n",
       "</table>\n",
       "</div>"
      ],
      "text/plain": [
       "   Premium Club (1=yes, 0=no)  Count\n",
       "0                           1  17975\n",
       "1                           0  23278"
      ]
     },
     "execution_count": 18,
     "metadata": {},
     "output_type": "execute_result"
    }
   ],
   "source": [
    "club_general_df = pd.DataFrame([club_general]).T.reset_index()\n",
    "club_general_df.columns = ['Premium Club (1=yes, 0=no)', 'Count']\n",
    "club_general_df"
   ]
  },
  {
   "cell_type": "markdown",
   "id": "fd7e660b",
   "metadata": {},
   "source": [
    "We plot the graph of the dataframe. However it does not tell us a lot because we do not know to which group age each customer belongs. Therefore, we might decide to create a more accurate dataframe which always categorizes customers in two classes (subscribed or not subscribed) but at the same time, clusters the clients also by age group. In this way we can capture more information."
   ]
  },
  {
   "cell_type": "code",
   "execution_count": 19,
   "id": "2330cbc9",
   "metadata": {},
   "outputs": [
    {
     "data": {
      "image/png": "[encoded data removed]",
      "text/plain": [
       "<Figure size 1000x500 with 1 Axes>"
      ]
     },
     "metadata": {},
     "output_type": "display_data"
    }
   ],
   "source": [
    "plt.figure(figsize=(10,5))\n",
    "sns.barplot(x='Premium Club (1=yes, 0=no)', y='Count', data=club_general_df)\n",
    "plt.xticks(rotation=90)\n",
    "plt.show()"
   ]
  },
  {
   "cell_type": "code",
   "execution_count": 20,
   "id": "9e880698",
   "metadata": {},
   "outputs": [
    {
     "data": {
      "text/html": [
       "<div>\n",
       "<style scoped>\n",
       "    .dataframe tbody tr th:only-of-type {\n",
       "        vertical-align: middle;\n",
       "    }\n",
       "\n",
       "    .dataframe tbody tr th {\n",
       "        vertical-align: top;\n",
       "    }\n",
       "\n",
       "    .dataframe thead th {\n",
       "        text-align: right;\n",
       "    }\n",
       "</style>\n",
       "<table border=\"1\" class=\"dataframe\">\n",
       "  <thead>\n",
       "    <tr style=\"text-align: right;\">\n",
       "      <th></th>\n",
       "      <th>age_group</th>\n",
       "      <th>club_member</th>\n",
       "      <th>count</th>\n",
       "    </tr>\n",
       "  </thead>\n",
       "  <tbody>\n",
       "    <tr>\n",
       "      <th>0</th>\n",
       "      <td>15-21</td>\n",
       "      <td>0</td>\n",
       "      <td>2479</td>\n",
       "    </tr>\n",
       "    <tr>\n",
       "      <th>1</th>\n",
       "      <td>15-21</td>\n",
       "      <td>1</td>\n",
       "      <td>2427</td>\n",
       "    </tr>\n",
       "    <tr>\n",
       "      <th>2</th>\n",
       "      <td>22-30</td>\n",
       "      <td>0</td>\n",
       "      <td>10441</td>\n",
       "    </tr>\n",
       "    <tr>\n",
       "      <th>3</th>\n",
       "      <td>22-30</td>\n",
       "      <td>1</td>\n",
       "      <td>6523</td>\n",
       "    </tr>\n",
       "    <tr>\n",
       "      <th>4</th>\n",
       "      <td>31-50</td>\n",
       "      <td>0</td>\n",
       "      <td>7414</td>\n",
       "    </tr>\n",
       "    <tr>\n",
       "      <th>5</th>\n",
       "      <td>31-50</td>\n",
       "      <td>1</td>\n",
       "      <td>5874</td>\n",
       "    </tr>\n",
       "    <tr>\n",
       "      <th>6</th>\n",
       "      <td>51-69</td>\n",
       "      <td>0</td>\n",
       "      <td>2876</td>\n",
       "    </tr>\n",
       "    <tr>\n",
       "      <th>7</th>\n",
       "      <td>51-69</td>\n",
       "      <td>1</td>\n",
       "      <td>3046</td>\n",
       "    </tr>\n",
       "    <tr>\n",
       "      <th>8</th>\n",
       "      <td>70+</td>\n",
       "      <td>0</td>\n",
       "      <td>68</td>\n",
       "    </tr>\n",
       "    <tr>\n",
       "      <th>9</th>\n",
       "      <td>70+</td>\n",
       "      <td>1</td>\n",
       "      <td>105</td>\n",
       "    </tr>\n",
       "  </tbody>\n",
       "</table>\n",
       "</div>"
      ],
      "text/plain": [
       "  age_group  club_member  count\n",
       "0     15-21            0   2479\n",
       "1     15-21            1   2427\n",
       "2     22-30            0  10441\n",
       "3     22-30            1   6523\n",
       "4     31-50            0   7414\n",
       "5     31-50            1   5874\n",
       "6     51-69            0   2876\n",
       "7     51-69            1   3046\n",
       "8       70+            0     68\n",
       "9       70+            1    105"
      ]
     },
     "execution_count": 20,
     "metadata": {},
     "output_type": "execute_result"
    }
   ],
   "source": [
    "club_member_df = customers.groupby(['age_group', 'club_member']).count().reset_index()\n",
    "club_member_df = club_member_df.drop(columns=['fashion_news', 'age'])\n",
    "club_member_df.columns = ['age_group', 'club_member', 'count']\n",
    "club_member_df"
   ]
  },
  {
   "cell_type": "markdown",
   "id": "92953190",
   "metadata": {},
   "source": [
    "For instance, on average there are more people which are not subscribed to the premium club. However, most of the people who are subscribed are youngsters. For what concerns elderly people, their percentage of influence in the dataset is very small."
   ]
  },
  {
   "cell_type": "code",
   "execution_count": 21,
   "id": "bde4d195",
   "metadata": {},
   "outputs": [
    {
     "data": {
      "image/png": "[encoded data removed]",
      "text/plain": [
       "<Figure size 1000x500 with 1 Axes>"
      ]
     },
     "metadata": {},
     "output_type": "display_data"
    }
   ],
   "source": [
    "plt.figure(figsize=(10,5))\n",
    "sns.barplot(x='age_group', y='count', hue='club_member', data=club_member_df)\n",
    "plt.xticks(rotation=90)\n",
    "plt.show()"
   ]
  },
  {
   "cell_type": "markdown",
   "id": "60c1eec2",
   "metadata": {},
   "source": [
    "#### Fashion news"
   ]
  },
  {
   "cell_type": "code",
   "execution_count": 22,
   "id": "6ff9a9b5",
   "metadata": {},
   "outputs": [
    {
     "data": {
      "text/html": [
       "<div>\n",
       "<style scoped>\n",
       "    .dataframe tbody tr th:only-of-type {\n",
       "        vertical-align: middle;\n",
       "    }\n",
       "\n",
       "    .dataframe tbody tr th {\n",
       "        vertical-align: top;\n",
       "    }\n",
       "\n",
       "    .dataframe thead th {\n",
       "        text-align: right;\n",
       "    }\n",
       "</style>\n",
       "<table border=\"1\" class=\"dataframe\">\n",
       "  <thead>\n",
       "    <tr style=\"text-align: right;\">\n",
       "      <th></th>\n",
       "      <th>Fashion News (1=yes, 0=no)</th>\n",
       "      <th>Count</th>\n",
       "    </tr>\n",
       "  </thead>\n",
       "  <tbody>\n",
       "    <tr>\n",
       "      <th>0</th>\n",
       "      <td>1</td>\n",
       "      <td>18213</td>\n",
       "    </tr>\n",
       "    <tr>\n",
       "      <th>1</th>\n",
       "      <td>0</td>\n",
       "      <td>23040</td>\n",
       "    </tr>\n",
       "  </tbody>\n",
       "</table>\n",
       "</div>"
      ],
      "text/plain": [
       "   Fashion News (1=yes, 0=no)  Count\n",
       "0                           1  18213\n",
       "1                           0  23040"
      ]
     },
     "execution_count": 22,
     "metadata": {},
     "output_type": "execute_result"
    }
   ],
   "source": [
    "from collections import Counter\n",
    "fashion_general = Counter(customers['fashion_news'])\n",
    "\n",
    "fashion_general_df = pd.DataFrame([fashion_general]).T.reset_index()\n",
    "fashion_general_df.columns = ['Fashion News (1=yes, 0=no)', 'Count']\n",
    "fashion_general_df"
   ]
  },
  {
   "cell_type": "code",
   "execution_count": 23,
   "id": "08f8da82",
   "metadata": {},
   "outputs": [
    {
     "data": {
      "image/png": "[encoded data removed]",
      "text/plain": [
       "<Figure size 1000x500 with 1 Axes>"
      ]
     },
     "metadata": {},
     "output_type": "display_data"
    }
   ],
   "source": [
    "plt.figure(figsize=(10,5))\n",
    "sns.barplot(x='Fashion News (1=yes, 0=no)', y='Count', data=fashion_general_df)\n",
    "plt.xticks(rotation=90)\n",
    "plt.show()"
   ]
  },
  {
   "cell_type": "code",
   "execution_count": 24,
   "id": "fed84e2e",
   "metadata": {},
   "outputs": [
    {
     "data": {
      "text/html": [
       "<div>\n",
       "<style scoped>\n",
       "    .dataframe tbody tr th:only-of-type {\n",
       "        vertical-align: middle;\n",
       "    }\n",
       "\n",
       "    .dataframe tbody tr th {\n",
       "        vertical-align: top;\n",
       "    }\n",
       "\n",
       "    .dataframe thead th {\n",
       "        text-align: right;\n",
       "    }\n",
       "</style>\n",
       "<table border=\"1\" class=\"dataframe\">\n",
       "  <thead>\n",
       "    <tr style=\"text-align: right;\">\n",
       "      <th></th>\n",
       "      <th>age_group</th>\n",
       "      <th>fashion_news</th>\n",
       "      <th>count</th>\n",
       "    </tr>\n",
       "  </thead>\n",
       "  <tbody>\n",
       "    <tr>\n",
       "      <th>0</th>\n",
       "      <td>15-21</td>\n",
       "      <td>0</td>\n",
       "      <td>2420</td>\n",
       "    </tr>\n",
       "    <tr>\n",
       "      <th>1</th>\n",
       "      <td>15-21</td>\n",
       "      <td>1</td>\n",
       "      <td>2486</td>\n",
       "    </tr>\n",
       "    <tr>\n",
       "      <th>2</th>\n",
       "      <td>22-30</td>\n",
       "      <td>0</td>\n",
       "      <td>10351</td>\n",
       "    </tr>\n",
       "    <tr>\n",
       "      <th>3</th>\n",
       "      <td>22-30</td>\n",
       "      <td>1</td>\n",
       "      <td>6613</td>\n",
       "    </tr>\n",
       "    <tr>\n",
       "      <th>4</th>\n",
       "      <td>31-50</td>\n",
       "      <td>0</td>\n",
       "      <td>7354</td>\n",
       "    </tr>\n",
       "    <tr>\n",
       "      <th>5</th>\n",
       "      <td>31-50</td>\n",
       "      <td>1</td>\n",
       "      <td>5934</td>\n",
       "    </tr>\n",
       "    <tr>\n",
       "      <th>6</th>\n",
       "      <td>51-69</td>\n",
       "      <td>0</td>\n",
       "      <td>2847</td>\n",
       "    </tr>\n",
       "    <tr>\n",
       "      <th>7</th>\n",
       "      <td>51-69</td>\n",
       "      <td>1</td>\n",
       "      <td>3075</td>\n",
       "    </tr>\n",
       "    <tr>\n",
       "      <th>8</th>\n",
       "      <td>70+</td>\n",
       "      <td>0</td>\n",
       "      <td>68</td>\n",
       "    </tr>\n",
       "    <tr>\n",
       "      <th>9</th>\n",
       "      <td>70+</td>\n",
       "      <td>1</td>\n",
       "      <td>105</td>\n",
       "    </tr>\n",
       "  </tbody>\n",
       "</table>\n",
       "</div>"
      ],
      "text/plain": [
       "  age_group  fashion_news  count\n",
       "0     15-21             0   2420\n",
       "1     15-21             1   2486\n",
       "2     22-30             0  10351\n",
       "3     22-30             1   6613\n",
       "4     31-50             0   7354\n",
       "5     31-50             1   5934\n",
       "6     51-69             0   2847\n",
       "7     51-69             1   3075\n",
       "8       70+             0     68\n",
       "9       70+             1    105"
      ]
     },
     "execution_count": 24,
     "metadata": {},
     "output_type": "execute_result"
    }
   ],
   "source": [
    "fashion_news_df = customers.groupby(['age_group', 'fashion_news']).count().reset_index()\n",
    "fashion_news_df = fashion_news_df.drop(columns=['club_member', 'age'])\n",
    "fashion_news_df.columns = ['age_group', 'fashion_news', 'count']\n",
    "fashion_news_df"
   ]
  },
  {
   "cell_type": "markdown",
   "id": "07413340",
   "metadata": {},
   "source": [
    "From the graph underneath, we can see again that yougsters are a vast majority of members connected to fashion news. However, the probability that a person over 60 is connected to fashion news is higher to not being connected with respect to younger people."
   ]
  },
  {
   "cell_type": "code",
   "execution_count": 25,
   "id": "f45ff258",
   "metadata": {},
   "outputs": [
    {
     "data": {
      "image/png": "[encoded data removed]",
      "text/plain": [
       "<Figure size 1000x500 with 1 Axes>"
      ]
     },
     "metadata": {},
     "output_type": "display_data"
    }
   ],
   "source": [
    "plt.figure(figsize=(10,5))\n",
    "sns.barplot(x='age_group', y='count', hue='fashion_news', data=fashion_news_df)\n",
    "plt.xticks(rotation=90)\n",
    "plt.show()"
   ]
  },
  {
   "cell_type": "markdown",
   "id": "986f0b92",
   "metadata": {},
   "source": [
    "As a conclusion, what useful information can we use for our recommendation system?\n",
    "- Data of customers in the cutomers' dataset is not very homogeneous (85% of the population is below 50 years old).\n",
    "- People over 50 years old have an higher probability to be subscribed to fashion news and member club with respect to people under 50 years old.\n",
    "- In general there are more people who are not into these activities."
   ]
  },
  {
   "cell_type": "markdown",
   "id": "49736f92",
   "metadata": {},
   "source": [
    "# ARTICLES"
   ]
  },
  {
   "cell_type": "markdown",
   "id": "b7f29cab",
   "metadata": {},
   "source": [
    "In the second part of our data analysis, we will study the different articles that our company sells. The final aim is to be able to understand when different articles are similiar or different and therefore, when to suggest one of them basing on the previous orders. \n",
    "Let's take a look to this dataset:"
   ]
  },
  {
   "cell_type": "code",
   "execution_count": 26,
   "id": "355bf592",
   "metadata": {},
   "outputs": [
    {
     "data": {
      "text/plain": [
       "0          0\n",
       "1          1\n",
       "2          2\n",
       "3          3\n",
       "4          4\n",
       "        ... \n",
       "6531    6531\n",
       "6532    6532\n",
       "6533    6533\n",
       "6534    6534\n",
       "6535    6535\n",
       "Name: article_id, Length: 6536, dtype: int64"
      ]
     },
     "execution_count": 26,
     "metadata": {},
     "output_type": "execute_result"
    }
   ],
   "source": [
    "articles = pd.read_csv(\"recsys_articles.csv\")\n",
    "articles['article_id']\n"
   ]
  },
  {
   "cell_type": "markdown",
   "id": "58bf0e57",
   "metadata": {},
   "source": [
    "As we can easily see, this dataset has a more complex structure than the one analyzed before, but we can for sure ignore some columns.\n",
    "Each category is represented by two columns and for this reason, we can take only one and discard the other.\n",
    "For example, each product has the variable 'product_type' containing its ID code and the variable 'product_type_name' that is the full name of the product.\n",
    "Therefore, we can choose some variables to consider and someother to ignore."
   ]
  },
  {
   "cell_type": "markdown",
   "id": "0eb6b3b5",
   "metadata": {},
   "source": [
    "1) As we did for customers, we want to check how many values are null. Luckily, this time we have zero null values."
   ]
  },
  {
   "cell_type": "code",
   "execution_count": 27,
   "id": "6510dde4",
   "metadata": {},
   "outputs": [
    {
     "data": {
      "text/plain": [
       "article_id                      0\n",
       "prod_name                       0\n",
       "product_type                    0\n",
       "product_type_name               0\n",
       "product_group_name              0\n",
       "colour_group                    0\n",
       "colour_group_name               0\n",
       "perceived_colour_value          0\n",
       "perceived_colour_value_name     0\n",
       "perceived_colour_master         0\n",
       "perceived_colour_master_name    0\n",
       "department                      0\n",
       "department_name                 0\n",
       "index                           0\n",
       "index_name                      0\n",
       "index_group                     0\n",
       "index_group_name                0\n",
       "section                         0\n",
       "section_name                    0\n",
       "garment_group                   0\n",
       "garment_group_name              0\n",
       "dtype: int64"
      ]
     },
     "execution_count": 27,
     "metadata": {},
     "output_type": "execute_result"
    }
   ],
   "source": [
    "articles.isnull().sum()"
   ]
  },
  {
   "cell_type": "markdown",
   "id": "45a01e04",
   "metadata": {},
   "source": [
    "2) Now we can group our articles in different ways, starting from the division in categories."
   ]
  },
  {
   "cell_type": "markdown",
   "id": "5fb9043c",
   "metadata": {},
   "source": [
    "#### CATEGORIES"
   ]
  },
  {
   "cell_type": "markdown",
   "id": "3f2dfcc1",
   "metadata": {},
   "source": [
    "We want to see how our products are partitioned according to their category. We analyze how these categories are structured and we find the number of articles for each of them."
   ]
  },
  {
   "cell_type": "markdown",
   "id": "50eac16d",
   "metadata": {},
   "source": [
    "From the dataframe, we see that the product type with more articles is 'Trousers', with exactly 972 models."
   ]
  },
  {
   "cell_type": "code",
   "execution_count": 28,
   "id": "c9f5ca01",
   "metadata": {},
   "outputs": [],
   "source": [
    "type_article_count = Counter(articles['product_type_name'])\n",
    "type_article_count_df = pd.DataFrame([type_article_count]).T.reset_index()\n",
    "type_article_count_df.columns = ['Type', 'Count']\n",
    "type_article_count_df = type_article_count_df.sort_values(by='Count', ascending=False) #We sort the dataframe in order to see the biggest types without any code"
   ]
  },
  {
   "cell_type": "markdown",
   "id": "679f14b8",
   "metadata": {},
   "source": [
    "Let's see a visual representation:"
   ]
  },
  {
   "cell_type": "code",
   "execution_count": 29,
   "id": "005df4f9",
   "metadata": {
    "scrolled": true
   },
   "outputs": [
    {
     "data": {
      "image/png": "[encoded data removed]",
      "text/plain": [
       "<Figure size 2000x1500 with 1 Axes>"
      ]
     },
     "metadata": {},
     "output_type": "display_data"
    }
   ],
   "source": [
    "plt.figure(figsize=(20,15))\n",
    "sns.barplot(x='Type', y='Count', data=type_article_count_df)\n",
    "plt.xticks(rotation=90)\n",
    "plt.show()"
   ]
  },
  {
   "cell_type": "markdown",
   "id": "4c410ea8",
   "metadata": {},
   "source": [
    "The plot underneath is useful, but also too caothic (82 categories are too many). A great solution is to regroup our categories (types) in some larger categories, represented by groups."
   ]
  },
  {
   "cell_type": "markdown",
   "id": "806604e4",
   "metadata": {},
   "source": [
    "#### GROUPS"
   ]
  },
  {
   "cell_type": "code",
   "execution_count": 30,
   "id": "5f8bc89d",
   "metadata": {},
   "outputs": [
    {
     "data": {
      "text/html": [
       "<div>\n",
       "<style scoped>\n",
       "    .dataframe tbody tr th:only-of-type {\n",
       "        vertical-align: middle;\n",
       "    }\n",
       "\n",
       "    .dataframe tbody tr th {\n",
       "        vertical-align: top;\n",
       "    }\n",
       "\n",
       "    .dataframe thead th {\n",
       "        text-align: right;\n",
       "    }\n",
       "</style>\n",
       "<table border=\"1\" class=\"dataframe\">\n",
       "  <thead>\n",
       "    <tr style=\"text-align: right;\">\n",
       "      <th></th>\n",
       "      <th>Group</th>\n",
       "      <th>Count</th>\n",
       "    </tr>\n",
       "  </thead>\n",
       "  <tbody>\n",
       "    <tr>\n",
       "      <th>3</th>\n",
       "      <td>Garment Upper body</td>\n",
       "      <td>2799</td>\n",
       "    </tr>\n",
       "    <tr>\n",
       "      <th>1</th>\n",
       "      <td>Garment Lower body</td>\n",
       "      <td>1428</td>\n",
       "    </tr>\n",
       "    <tr>\n",
       "      <th>7</th>\n",
       "      <td>Garment Full body</td>\n",
       "      <td>632</td>\n",
       "    </tr>\n",
       "    <tr>\n",
       "      <th>4</th>\n",
       "      <td>Underwear</td>\n",
       "      <td>547</td>\n",
       "    </tr>\n",
       "    <tr>\n",
       "      <th>6</th>\n",
       "      <td>Accessories</td>\n",
       "      <td>378</td>\n",
       "    </tr>\n",
       "    <tr>\n",
       "      <th>0</th>\n",
       "      <td>Socks &amp; Tights</td>\n",
       "      <td>245</td>\n",
       "    </tr>\n",
       "    <tr>\n",
       "      <th>9</th>\n",
       "      <td>Swimwear</td>\n",
       "      <td>233</td>\n",
       "    </tr>\n",
       "    <tr>\n",
       "      <th>8</th>\n",
       "      <td>Shoes</td>\n",
       "      <td>135</td>\n",
       "    </tr>\n",
       "    <tr>\n",
       "      <th>5</th>\n",
       "      <td>Unknown</td>\n",
       "      <td>67</td>\n",
       "    </tr>\n",
       "    <tr>\n",
       "      <th>10</th>\n",
       "      <td>Nightwear</td>\n",
       "      <td>60</td>\n",
       "    </tr>\n",
       "    <tr>\n",
       "      <th>2</th>\n",
       "      <td>Items</td>\n",
       "      <td>10</td>\n",
       "    </tr>\n",
       "    <tr>\n",
       "      <th>11</th>\n",
       "      <td>Bags</td>\n",
       "      <td>2</td>\n",
       "    </tr>\n",
       "  </tbody>\n",
       "</table>\n",
       "</div>"
      ],
      "text/plain": [
       "                 Group  Count\n",
       "3   Garment Upper body   2799\n",
       "1   Garment Lower body   1428\n",
       "7    Garment Full body    632\n",
       "4            Underwear    547\n",
       "6          Accessories    378\n",
       "0       Socks & Tights    245\n",
       "9             Swimwear    233\n",
       "8                Shoes    135\n",
       "5              Unknown     67\n",
       "10           Nightwear     60\n",
       "2                Items     10\n",
       "11                Bags      2"
      ]
     },
     "execution_count": 30,
     "metadata": {},
     "output_type": "execute_result"
    }
   ],
   "source": [
    "group_article_count = Counter(articles['product_group_name'])\n",
    "group_article_count_df = pd.DataFrame([group_article_count]).T.reset_index()\n",
    "group_article_count_df.columns = ['Group', 'Count']\n",
    "group_article_count_df = group_article_count_df.sort_values(by='Count', ascending=False)\n",
    "group_article_count_df"
   ]
  },
  {
   "cell_type": "markdown",
   "id": "c0661864",
   "metadata": {},
   "source": [
    "This time, we directly see all the classification for groups, where the winner is Garment Upper body, with 2799 different articles. Here we have a simpler plot where we can immediately see all the categories. In this way, the data is more interpretable and even more useful for our aims. Once more, we plot our results:"
   ]
  },
  {
   "cell_type": "code",
   "execution_count": 31,
   "id": "caf2a576",
   "metadata": {},
   "outputs": [
    {
     "data": {
      "image/png": "[encoded data removed]",
      "text/plain": [
       "<Figure size 1000x500 with 1 Axes>"
      ]
     },
     "metadata": {},
     "output_type": "display_data"
    }
   ],
   "source": [
    "plt.figure(figsize=(10,5))\n",
    "sns.barplot(x='Group', y='Count', data=group_article_count_df)\n",
    "plt.xticks(rotation=90)\n",
    "plt.show()"
   ]
  },
  {
   "cell_type": "code",
   "execution_count": 32,
   "id": "a2eca740",
   "metadata": {},
   "outputs": [],
   "source": [
    "type_article_count = Counter(articles['product_type_name'])\n",
    "type_article_count_df = pd.DataFrame([type_article_count]).T.reset_index()\n",
    "type_article_count_df.columns = ['Type', 'Count']\n",
    "type_article_count_df = type_article_count_df.sort_values(by='Count', ascending=False)\n",
    "#type_article_count_df\n",
    "#82 rows"
   ]
  },
  {
   "cell_type": "code",
   "execution_count": 33,
   "id": "f7fb2ab2",
   "metadata": {},
   "outputs": [],
   "source": [
    "group_article_count = Counter(articles['product_group_name'])\n",
    "group_article_count_df = pd.DataFrame([group_article_count]).T.reset_index()\n",
    "group_article_count_df.columns = ['Group', 'Count']\n",
    "group_article_count_df = group_article_count_df.sort_values(by='Count', ascending=False)\n",
    "#group_article_count_df\n",
    "#12 rows"
   ]
  },
  {
   "cell_type": "code",
   "execution_count": 34,
   "id": "4d631338",
   "metadata": {},
   "outputs": [],
   "source": [
    "department_count = Counter(articles['department_name'])\n",
    "department_count_df = pd.DataFrame([department_count]).T.reset_index()\n",
    "department_count_df.columns = ['Department', 'Count']\n",
    "department_count_df = department_count_df.sort_values(by='Count', ascending=False)\n",
    "#182 rows"
   ]
  },
  {
   "cell_type": "code",
   "execution_count": 35,
   "id": "94710f91",
   "metadata": {},
   "outputs": [],
   "source": [
    "index_group = Counter(articles['index_group_name'])\n",
    "index_group_df = pd.DataFrame([index_group]).T.reset_index()\n",
    "index_group_df.columns = ['Index Group', 'Count']\n",
    "index_group_df = index_group_df.sort_values(by='Count', ascending=False)\n",
    "#5 rows"
   ]
  },
  {
   "cell_type": "code",
   "execution_count": 36,
   "id": "f4e8d024",
   "metadata": {},
   "outputs": [],
   "source": [
    "section_count = Counter(articles['section_name'])\n",
    "section_count_df = pd.DataFrame([section_count]).T.reset_index()\n",
    "section_count_df.columns = ['Section', 'Count']\n",
    "section_count_df = section_count_df.sort_values(by='Count', ascending=False)\n",
    "#section_count_df\n",
    "#43 rows"
   ]
  },
  {
   "cell_type": "code",
   "execution_count": 37,
   "id": "ff6a8562",
   "metadata": {},
   "outputs": [],
   "source": [
    "garment_group = Counter(articles['garment_group'])\n",
    "garment_group_df = pd.DataFrame([garment_group]).T.reset_index()\n",
    "garment_group_df.columns = ['Garment Group', 'Count']\n",
    "garment_group_df = garment_group_df.sort_values(by='Count', ascending=False)\n",
    "#21 rows"
   ]
  },
  {
   "cell_type": "markdown",
   "id": "1aa1a617",
   "metadata": {},
   "source": [
    "#### UNKNOWN GROUPS"
   ]
  },
  {
   "cell_type": "markdown",
   "id": "3da6d8be",
   "metadata": {},
   "source": [
    "Unfortunately, from this last plot, we can see that not all the articles belong to a group. We want to identify them:"
   ]
  },
  {
   "cell_type": "code",
   "execution_count": 38,
   "id": "c0df4896",
   "metadata": {},
   "outputs": [],
   "source": [
    "unknowns = articles.loc[articles['product_group_name'] == 'Unknown']"
   ]
  },
  {
   "cell_type": "markdown",
   "id": "e3adf32e",
   "metadata": {},
   "source": [
    "It may be interesting to understand which departments have more unknown items."
   ]
  },
  {
   "cell_type": "code",
   "execution_count": 39,
   "id": "436905e7",
   "metadata": {},
   "outputs": [],
   "source": [
    "department_count = Counter(unknowns['department_name'])\n",
    "department_count_df = pd.DataFrame([department_count]).T.reset_index()\n",
    "department_count_df.columns = ['Department', 'Unknown products found']\n",
    "department_count_df = department_count_df.sort_values(by='Unknown products found', ascending=False)"
   ]
  },
  {
   "cell_type": "code",
   "execution_count": 40,
   "id": "bf44ad49",
   "metadata": {},
   "outputs": [
    {
     "data": {
      "image/png": "[encoded data removed]",
      "text/plain": [
       "<Figure size 1000x500 with 1 Axes>"
      ]
     },
     "metadata": {},
     "output_type": "display_data"
    }
   ],
   "source": [
    "plt.figure(figsize=(10,5))\n",
    "sns.barplot(x='Department', y='Unknown products found', data=department_count_df)\n",
    "plt.xticks(rotation=90)\n",
    "plt.show()"
   ]
  },
  {
   "cell_type": "markdown",
   "id": "3a896224",
   "metadata": {},
   "source": [
    "Clean Lingerie's department has the biggest number of unknown items. "
   ]
  },
  {
   "cell_type": "markdown",
   "id": "475e0b88",
   "metadata": {},
   "source": [
    "#### COLOURS"
   ]
  },
  {
   "cell_type": "markdown",
   "id": "49b4a193",
   "metadata": {},
   "source": [
    "To evaluate the colour of the articles there are several measures: colour_group, perceived_colour_value and perceived_colour_master. For our analysis we are going to consider just the perceived_colour_master because it is a good compromise between making a model having too large scale and doing overfitting. In fact, perceived_colour_value has not enough values (only 7) and colour_group has too many of them making the model too precise."
   ]
  },
  {
   "cell_type": "code",
   "execution_count": 41,
   "id": "4105bae3",
   "metadata": {},
   "outputs": [
    {
     "data": {
      "text/html": [
       "<div>\n",
       "<style scoped>\n",
       "    .dataframe tbody tr th:only-of-type {\n",
       "        vertical-align: middle;\n",
       "    }\n",
       "\n",
       "    .dataframe tbody tr th {\n",
       "        vertical-align: top;\n",
       "    }\n",
       "\n",
       "    .dataframe thead th {\n",
       "        text-align: right;\n",
       "    }\n",
       "</style>\n",
       "<table border=\"1\" class=\"dataframe\">\n",
       "  <thead>\n",
       "    <tr style=\"text-align: right;\">\n",
       "      <th></th>\n",
       "      <th>Colour</th>\n",
       "      <th>Count</th>\n",
       "    </tr>\n",
       "  </thead>\n",
       "  <tbody>\n",
       "    <tr>\n",
       "      <th>3</th>\n",
       "      <td>Beige</td>\n",
       "      <td>547</td>\n",
       "    </tr>\n",
       "    <tr>\n",
       "      <th>0</th>\n",
       "      <td>Black</td>\n",
       "      <td>2134</td>\n",
       "    </tr>\n",
       "    <tr>\n",
       "      <th>1</th>\n",
       "      <td>Blue</td>\n",
       "      <td>726</td>\n",
       "    </tr>\n",
       "    <tr>\n",
       "      <th>5</th>\n",
       "      <td>Brown</td>\n",
       "      <td>156</td>\n",
       "    </tr>\n",
       "    <tr>\n",
       "      <th>13</th>\n",
       "      <td>Green</td>\n",
       "      <td>176</td>\n",
       "    </tr>\n",
       "    <tr>\n",
       "      <th>2</th>\n",
       "      <td>Grey</td>\n",
       "      <td>526</td>\n",
       "    </tr>\n",
       "    <tr>\n",
       "      <th>7</th>\n",
       "      <td>Khaki green</td>\n",
       "      <td>218</td>\n",
       "    </tr>\n",
       "    <tr>\n",
       "      <th>10</th>\n",
       "      <td>Lilac Purple</td>\n",
       "      <td>108</td>\n",
       "    </tr>\n",
       "    <tr>\n",
       "      <th>9</th>\n",
       "      <td>Metal</td>\n",
       "      <td>116</td>\n",
       "    </tr>\n",
       "    <tr>\n",
       "      <th>6</th>\n",
       "      <td>Mole</td>\n",
       "      <td>177</td>\n",
       "    </tr>\n",
       "    <tr>\n",
       "      <th>14</th>\n",
       "      <td>Orange</td>\n",
       "      <td>163</td>\n",
       "    </tr>\n",
       "    <tr>\n",
       "      <th>12</th>\n",
       "      <td>Pink</td>\n",
       "      <td>368</td>\n",
       "    </tr>\n",
       "    <tr>\n",
       "      <th>8</th>\n",
       "      <td>Red</td>\n",
       "      <td>125</td>\n",
       "    </tr>\n",
       "    <tr>\n",
       "      <th>15</th>\n",
       "      <td>Turquoise</td>\n",
       "      <td>48</td>\n",
       "    </tr>\n",
       "    <tr>\n",
       "      <th>4</th>\n",
       "      <td>White</td>\n",
       "      <td>807</td>\n",
       "    </tr>\n",
       "    <tr>\n",
       "      <th>11</th>\n",
       "      <td>Yellow</td>\n",
       "      <td>76</td>\n",
       "    </tr>\n",
       "  </tbody>\n",
       "</table>\n",
       "</div>"
      ],
      "text/plain": [
       "          Colour  Count\n",
       "3          Beige    547\n",
       "0          Black   2134\n",
       "1           Blue    726\n",
       "5          Brown    156\n",
       "13         Green    176\n",
       "2           Grey    526\n",
       "7    Khaki green    218\n",
       "10  Lilac Purple    108\n",
       "9          Metal    116\n",
       "6           Mole    177\n",
       "14        Orange    163\n",
       "12          Pink    368\n",
       "8            Red    125\n",
       "15     Turquoise     48\n",
       "4          White    807\n",
       "11        Yellow     76"
      ]
     },
     "execution_count": 41,
     "metadata": {},
     "output_type": "execute_result"
    }
   ],
   "source": [
    "from collections import Counter\n",
    "article_colour = Counter(articles['perceived_colour_master_name'])\n",
    "del article_colour['Unknown']\n",
    "del article_colour['undefined']\n",
    "\n",
    "article_colour_df = pd.DataFrame([article_colour]).T.reset_index()\n",
    "article_colour_df.columns = ['Colour', 'Count']\n",
    "article_colour_df = article_colour_df.sort_values(by='Colour')\n",
    "article_colour_df"
   ]
  },
  {
   "cell_type": "code",
   "execution_count": 42,
   "id": "57fe3739",
   "metadata": {},
   "outputs": [],
   "source": [
    "from collections import Counter\n",
    "article_colour2 = Counter(articles['colour_group'])\n",
    "\n",
    "article_colour2_df = pd.DataFrame([article_colour2]).T.reset_index()\n",
    "article_colour2_df.columns = ['Colour', 'Count']\n",
    "article_colour2_df = article_colour2_df.sort_values(by='Colour')"
   ]
  },
  {
   "cell_type": "code",
   "execution_count": 43,
   "id": "e7e75c64",
   "metadata": {},
   "outputs": [],
   "source": [
    "from collections import Counter\n",
    "article_colour3 = Counter(articles['perceived_colour_value'])\n",
    "\n",
    "article_colour3_df = pd.DataFrame([article_colour3]).T.reset_index()\n",
    "article_colour3_df.columns = ['Colour', 'Count']\n",
    "article_colour3_df = article_colour3_df.sort_values(by='Colour')"
   ]
  },
  {
   "cell_type": "code",
   "execution_count": 44,
   "id": "5fffdb8a",
   "metadata": {},
   "outputs": [
    {
     "data": {
      "text/plain": [
       "0          0\n",
       "1          1\n",
       "2          2\n",
       "3          3\n",
       "4          4\n",
       "        ... \n",
       "6531    6531\n",
       "6532    6532\n",
       "6533    6533\n",
       "6534    6534\n",
       "6535    6535\n",
       "Name: article_id, Length: 6536, dtype: int64"
      ]
     },
     "execution_count": 44,
     "metadata": {},
     "output_type": "execute_result"
    }
   ],
   "source": [
    "articles['article_id']"
   ]
  },
  {
   "cell_type": "markdown",
   "id": "4199f415",
   "metadata": {},
   "source": [
    "# TRANSACTIONS"
   ]
  },
  {
   "cell_type": "code",
   "execution_count": 45,
   "id": "91627289",
   "metadata": {},
   "outputs": [
    {
     "data": {
      "text/html": [
       "<div>\n",
       "<style scoped>\n",
       "    .dataframe tbody tr th:only-of-type {\n",
       "        vertical-align: middle;\n",
       "    }\n",
       "\n",
       "    .dataframe tbody tr th {\n",
       "        vertical-align: top;\n",
       "    }\n",
       "\n",
       "    .dataframe thead th {\n",
       "        text-align: right;\n",
       "    }\n",
       "</style>\n",
       "<table border=\"1\" class=\"dataframe\">\n",
       "  <thead>\n",
       "    <tr style=\"text-align: right;\">\n",
       "      <th></th>\n",
       "      <th>t_dat</th>\n",
       "      <th>customer_id</th>\n",
       "      <th>article_id</th>\n",
       "    </tr>\n",
       "  </thead>\n",
       "  <tbody>\n",
       "    <tr>\n",
       "      <th>0</th>\n",
       "      <td>2020-09-02</td>\n",
       "      <td>7</td>\n",
       "      <td>599</td>\n",
       "    </tr>\n",
       "    <tr>\n",
       "      <th>1</th>\n",
       "      <td>2020-09-02</td>\n",
       "      <td>7</td>\n",
       "      <td>2600</td>\n",
       "    </tr>\n",
       "    <tr>\n",
       "      <th>2</th>\n",
       "      <td>2020-09-02</td>\n",
       "      <td>7</td>\n",
       "      <td>2063</td>\n",
       "    </tr>\n",
       "    <tr>\n",
       "      <th>3</th>\n",
       "      <td>2020-09-02</td>\n",
       "      <td>7</td>\n",
       "      <td>5188</td>\n",
       "    </tr>\n",
       "    <tr>\n",
       "      <th>4</th>\n",
       "      <td>2020-09-02</td>\n",
       "      <td>17</td>\n",
       "      <td>5111</td>\n",
       "    </tr>\n",
       "    <tr>\n",
       "      <th>...</th>\n",
       "      <td>...</td>\n",
       "      <td>...</td>\n",
       "      <td>...</td>\n",
       "    </tr>\n",
       "    <tr>\n",
       "      <th>369108</th>\n",
       "      <td>2020-09-22</td>\n",
       "      <td>41231</td>\n",
       "      <td>3300</td>\n",
       "    </tr>\n",
       "    <tr>\n",
       "      <th>369109</th>\n",
       "      <td>2020-09-22</td>\n",
       "      <td>41242</td>\n",
       "      <td>6325</td>\n",
       "    </tr>\n",
       "    <tr>\n",
       "      <th>369110</th>\n",
       "      <td>2020-09-22</td>\n",
       "      <td>41242</td>\n",
       "      <td>4643</td>\n",
       "    </tr>\n",
       "    <tr>\n",
       "      <th>369111</th>\n",
       "      <td>2020-09-22</td>\n",
       "      <td>41244</td>\n",
       "      <td>2840</td>\n",
       "    </tr>\n",
       "    <tr>\n",
       "      <th>369112</th>\n",
       "      <td>2020-09-22</td>\n",
       "      <td>41251</td>\n",
       "      <td>4978</td>\n",
       "    </tr>\n",
       "  </tbody>\n",
       "</table>\n",
       "<p>369113 rows × 3 columns</p>\n",
       "</div>"
      ],
      "text/plain": [
       "             t_dat  customer_id  article_id\n",
       "0       2020-09-02            7         599\n",
       "1       2020-09-02            7        2600\n",
       "2       2020-09-02            7        2063\n",
       "3       2020-09-02            7        5188\n",
       "4       2020-09-02           17        5111\n",
       "...            ...          ...         ...\n",
       "369108  2020-09-22        41231        3300\n",
       "369109  2020-09-22        41242        6325\n",
       "369110  2020-09-22        41242        4643\n",
       "369111  2020-09-22        41244        2840\n",
       "369112  2020-09-22        41251        4978\n",
       "\n",
       "[369113 rows x 3 columns]"
      ]
     },
     "execution_count": 45,
     "metadata": {},
     "output_type": "execute_result"
    }
   ],
   "source": [
    "transactions = pd.read_csv(\"recsys_transactions.csv\")\n",
    "transactions"
   ]
  },
  {
   "cell_type": "markdown",
   "id": "0ef5febc",
   "metadata": {},
   "source": [
    "The last dataset we are going to study is \"recsys_transactions.csv\". The information about transactions that is recorded in the table is: the date of purchase, the customer id and the product id. The same customer can purchase more articles. Let's get a more detailed understanding of the dataset."
   ]
  },
  {
   "cell_type": "code",
   "execution_count": 46,
   "id": "e09ded26",
   "metadata": {},
   "outputs": [
    {
     "name": "stdout",
     "output_type": "stream",
     "text": [
      "The number of transactions is: 369113\n",
      "The number of unique articles is: 6536\n",
      "The number of unique customers is: 41253\n",
      "The average number of transactions per user is: 8.95\n",
      "The average number of transactions per article is: 56.47\n"
     ]
    }
   ],
   "source": [
    "n_transactions = len(transactions)\n",
    "n_articles = transactions['article_id'].nunique()\n",
    "n_customers = transactions['customer_id'].nunique()\n",
    "\n",
    "print(f\"The number of transactions is: {n_transactions}\")\n",
    "print(f\"The number of unique articles is: {n_articles}\")\n",
    "print(f\"The number of unique customers is: {n_customers}\")\n",
    "print(f\"The average number of transactions per user is: {round(n_transactions/n_customers, 2)}\")\n",
    "print(f\"The average number of transactions per article is: {round(n_transactions/n_articles, 2)}\")"
   ]
  },
  {
   "cell_type": "markdown",
   "id": "5ca9e59b",
   "metadata": {},
   "source": [
    "To be in no doubt, we check if there are Null values that might interfere with our analysis."
   ]
  },
  {
   "cell_type": "code",
   "execution_count": 47,
   "id": "391eec48",
   "metadata": {},
   "outputs": [
    {
     "data": {
      "text/plain": [
       "t_dat          0\n",
       "customer_id    0\n",
       "article_id     0\n",
       "dtype: int64"
      ]
     },
     "execution_count": 47,
     "metadata": {},
     "output_type": "execute_result"
    }
   ],
   "source": [
    "transactions.isnull().sum()"
   ]
  },
  {
   "cell_type": "markdown",
   "id": "588f2485",
   "metadata": {},
   "source": [
    "This result was not hard to predict.\n",
    "Indeed, looking to this dataset, we observe that it is based on a relationship between the other 2 datasets. As a consequence, all the rows are composed by the IDs of an article and the IDs of a costumer.\n",
    "Without one of these 2 values, the row will give us zero relevant information, being useless to process it."
   ]
  },
  {
   "cell_type": "markdown",
   "id": "665ff85c",
   "metadata": {},
   "source": [
    "We can also see which is the day with the most number of transactions. \n",
    "The day with the biggest number of transactions is the 13th of september 2020, which was a Sunday."
   ]
  },
  {
   "cell_type": "code",
   "execution_count": 48,
   "id": "1e9fd8b0",
   "metadata": {},
   "outputs": [
    {
     "data": {
      "text/html": [
       "<div>\n",
       "<style scoped>\n",
       "    .dataframe tbody tr th:only-of-type {\n",
       "        vertical-align: middle;\n",
       "    }\n",
       "\n",
       "    .dataframe tbody tr th {\n",
       "        vertical-align: top;\n",
       "    }\n",
       "\n",
       "    .dataframe thead th {\n",
       "        text-align: right;\n",
       "    }\n",
       "</style>\n",
       "<table border=\"1\" class=\"dataframe\">\n",
       "  <thead>\n",
       "    <tr style=\"text-align: right;\">\n",
       "      <th></th>\n",
       "      <th>Day</th>\n",
       "      <th>Count</th>\n",
       "    </tr>\n",
       "  </thead>\n",
       "  <tbody>\n",
       "    <tr>\n",
       "      <th>11</th>\n",
       "      <td>2020-09-13</td>\n",
       "      <td>21209</td>\n",
       "    </tr>\n",
       "    <tr>\n",
       "      <th>7</th>\n",
       "      <td>2020-09-09</td>\n",
       "      <td>21155</td>\n",
       "    </tr>\n",
       "    <tr>\n",
       "      <th>15</th>\n",
       "      <td>2020-09-17</td>\n",
       "      <td>20458</td>\n",
       "    </tr>\n",
       "    <tr>\n",
       "      <th>8</th>\n",
       "      <td>2020-09-10</td>\n",
       "      <td>19531</td>\n",
       "    </tr>\n",
       "    <tr>\n",
       "      <th>5</th>\n",
       "      <td>2020-09-07</td>\n",
       "      <td>19473</td>\n",
       "    </tr>\n",
       "    <tr>\n",
       "      <th>16</th>\n",
       "      <td>2020-09-18</td>\n",
       "      <td>19129</td>\n",
       "    </tr>\n",
       "    <tr>\n",
       "      <th>3</th>\n",
       "      <td>2020-09-05</td>\n",
       "      <td>18990</td>\n",
       "    </tr>\n",
       "    <tr>\n",
       "      <th>10</th>\n",
       "      <td>2020-09-12</td>\n",
       "      <td>18926</td>\n",
       "    </tr>\n",
       "    <tr>\n",
       "      <th>1</th>\n",
       "      <td>2020-09-03</td>\n",
       "      <td>18557</td>\n",
       "    </tr>\n",
       "    <tr>\n",
       "      <th>6</th>\n",
       "      <td>2020-09-08</td>\n",
       "      <td>18535</td>\n",
       "    </tr>\n",
       "    <tr>\n",
       "      <th>9</th>\n",
       "      <td>2020-09-11</td>\n",
       "      <td>18141</td>\n",
       "    </tr>\n",
       "    <tr>\n",
       "      <th>17</th>\n",
       "      <td>2020-09-19</td>\n",
       "      <td>17125</td>\n",
       "    </tr>\n",
       "    <tr>\n",
       "      <th>4</th>\n",
       "      <td>2020-09-06</td>\n",
       "      <td>16859</td>\n",
       "    </tr>\n",
       "    <tr>\n",
       "      <th>2</th>\n",
       "      <td>2020-09-04</td>\n",
       "      <td>16736</td>\n",
       "    </tr>\n",
       "    <tr>\n",
       "      <th>18</th>\n",
       "      <td>2020-09-20</td>\n",
       "      <td>16110</td>\n",
       "    </tr>\n",
       "    <tr>\n",
       "      <th>19</th>\n",
       "      <td>2020-09-21</td>\n",
       "      <td>16067</td>\n",
       "    </tr>\n",
       "    <tr>\n",
       "      <th>20</th>\n",
       "      <td>2020-09-22</td>\n",
       "      <td>15872</td>\n",
       "    </tr>\n",
       "    <tr>\n",
       "      <th>12</th>\n",
       "      <td>2020-09-14</td>\n",
       "      <td>15660</td>\n",
       "    </tr>\n",
       "    <tr>\n",
       "      <th>0</th>\n",
       "      <td>2020-09-02</td>\n",
       "      <td>13947</td>\n",
       "    </tr>\n",
       "    <tr>\n",
       "      <th>14</th>\n",
       "      <td>2020-09-16</td>\n",
       "      <td>13388</td>\n",
       "    </tr>\n",
       "    <tr>\n",
       "      <th>13</th>\n",
       "      <td>2020-09-15</td>\n",
       "      <td>13245</td>\n",
       "    </tr>\n",
       "  </tbody>\n",
       "</table>\n",
       "</div>"
      ],
      "text/plain": [
       "           Day  Count\n",
       "11  2020-09-13  21209\n",
       "7   2020-09-09  21155\n",
       "15  2020-09-17  20458\n",
       "8   2020-09-10  19531\n",
       "5   2020-09-07  19473\n",
       "16  2020-09-18  19129\n",
       "3   2020-09-05  18990\n",
       "10  2020-09-12  18926\n",
       "1   2020-09-03  18557\n",
       "6   2020-09-08  18535\n",
       "9   2020-09-11  18141\n",
       "17  2020-09-19  17125\n",
       "4   2020-09-06  16859\n",
       "2   2020-09-04  16736\n",
       "18  2020-09-20  16110\n",
       "19  2020-09-21  16067\n",
       "20  2020-09-22  15872\n",
       "12  2020-09-14  15660\n",
       "0   2020-09-02  13947\n",
       "14  2020-09-16  13388\n",
       "13  2020-09-15  13245"
      ]
     },
     "execution_count": 48,
     "metadata": {},
     "output_type": "execute_result"
    }
   ],
   "source": [
    "day_count = Counter(transactions['t_dat'])\n",
    "day_count_df = pd.DataFrame([day_count]).T.reset_index()\n",
    "day_count_df.columns = ['Day', 'Count']\n",
    "day_count_df = day_count_df.sort_values(by='Count', ascending=False)\n",
    "day_count_df"
   ]
  },
  {
   "cell_type": "markdown",
   "id": "7b67150d",
   "metadata": {},
   "source": [
    "We plot the result to have a more handsome representation of our data."
   ]
  },
  {
   "cell_type": "code",
   "execution_count": 49,
   "id": "53bbe200",
   "metadata": {},
   "outputs": [
    {
     "data": {
      "image/png": "[encoded data removed]",
      "text/plain": [
       "<Figure size 5000x500 with 1 Axes>"
      ]
     },
     "metadata": {},
     "output_type": "display_data"
    }
   ],
   "source": [
    "sns.set_style(\"whitegrid\")\n",
    "plt.figure(figsize=(50,5))\n",
    "plt.subplot(1,3,1)\n",
    "plt.xticks(rotation=45)\n",
    "ax = sns.countplot(x=\"t_dat\", data=transactions, palette=\"inferno\")\n",
    "plt.title(\"Distribution of transactions\");"
   ]
  },
  {
   "cell_type": "markdown",
   "id": "0decc002",
   "metadata": {},
   "source": [
    "#### Number of transactions per customer"
   ]
  },
  {
   "cell_type": "markdown",
   "id": "46721148",
   "metadata": {},
   "source": [
    "We would like to see how many purchases has done each customer. We create a dataframe with 2 columns: on one side the customer ID and on the other the number of purchases each customer has made."
   ]
  },
  {
   "cell_type": "code",
   "execution_count": 50,
   "id": "2ae9e4fa",
   "metadata": {},
   "outputs": [],
   "source": [
    "from collections import Counter\n",
    "customer_transactions_count = Counter(transactions['customer_id'])\n",
    "#transactions.groupby('customer_id').size()\n",
    "#outputs a long dictionary with key the id of the customer and value the number of purchases he or she has made"
   ]
  },
  {
   "cell_type": "code",
   "execution_count": 51,
   "id": "a7465829",
   "metadata": {
    "scrolled": true
   },
   "outputs": [
    {
     "data": {
      "text/html": [
       "<div>\n",
       "<style scoped>\n",
       "    .dataframe tbody tr th:only-of-type {\n",
       "        vertical-align: middle;\n",
       "    }\n",
       "\n",
       "    .dataframe tbody tr th {\n",
       "        vertical-align: top;\n",
       "    }\n",
       "\n",
       "    .dataframe thead th {\n",
       "        text-align: right;\n",
       "    }\n",
       "</style>\n",
       "<table border=\"1\" class=\"dataframe\">\n",
       "  <thead>\n",
       "    <tr style=\"text-align: right;\">\n",
       "      <th></th>\n",
       "      <th>index</th>\n",
       "      <th>Customer ID</th>\n",
       "      <th>Number of Transactions</th>\n",
       "    </tr>\n",
       "  </thead>\n",
       "  <tbody>\n",
       "    <tr>\n",
       "      <th>0</th>\n",
       "      <td>38291</td>\n",
       "      <td>9197</td>\n",
       "      <td>104</td>\n",
       "    </tr>\n",
       "    <tr>\n",
       "      <th>1</th>\n",
       "      <td>35275</td>\n",
       "      <td>36953</td>\n",
       "      <td>95</td>\n",
       "    </tr>\n",
       "    <tr>\n",
       "      <th>2</th>\n",
       "      <td>4445</td>\n",
       "      <td>16472</td>\n",
       "      <td>92</td>\n",
       "    </tr>\n",
       "    <tr>\n",
       "      <th>3</th>\n",
       "      <td>27086</td>\n",
       "      <td>13753</td>\n",
       "      <td>88</td>\n",
       "    </tr>\n",
       "    <tr>\n",
       "      <th>4</th>\n",
       "      <td>5953</td>\n",
       "      <td>33914</td>\n",
       "      <td>85</td>\n",
       "    </tr>\n",
       "    <tr>\n",
       "      <th>...</th>\n",
       "      <td>...</td>\n",
       "      <td>...</td>\n",
       "      <td>...</td>\n",
       "    </tr>\n",
       "    <tr>\n",
       "      <th>41248</th>\n",
       "      <td>31161</td>\n",
       "      <td>24874</td>\n",
       "      <td>1</td>\n",
       "    </tr>\n",
       "    <tr>\n",
       "      <th>41249</th>\n",
       "      <td>4048</td>\n",
       "      <td>11884</td>\n",
       "      <td>1</td>\n",
       "    </tr>\n",
       "    <tr>\n",
       "      <th>41250</th>\n",
       "      <td>12285</td>\n",
       "      <td>36144</td>\n",
       "      <td>1</td>\n",
       "    </tr>\n",
       "    <tr>\n",
       "      <th>41251</th>\n",
       "      <td>12292</td>\n",
       "      <td>36223</td>\n",
       "      <td>1</td>\n",
       "    </tr>\n",
       "    <tr>\n",
       "      <th>41252</th>\n",
       "      <td>40624</td>\n",
       "      <td>15652</td>\n",
       "      <td>1</td>\n",
       "    </tr>\n",
       "  </tbody>\n",
       "</table>\n",
       "<p>41253 rows × 3 columns</p>\n",
       "</div>"
      ],
      "text/plain": [
       "       index  Customer ID  Number of Transactions\n",
       "0      38291         9197                     104\n",
       "1      35275        36953                      95\n",
       "2       4445        16472                      92\n",
       "3      27086        13753                      88\n",
       "4       5953        33914                      85\n",
       "...      ...          ...                     ...\n",
       "41248  31161        24874                       1\n",
       "41249   4048        11884                       1\n",
       "41250  12285        36144                       1\n",
       "41251  12292        36223                       1\n",
       "41252  40624        15652                       1\n",
       "\n",
       "[41253 rows x 3 columns]"
      ]
     },
     "execution_count": 51,
     "metadata": {},
     "output_type": "execute_result"
    }
   ],
   "source": [
    "customer_transactions_count_df = pd.DataFrame([customer_transactions_count]).T.reset_index()\n",
    "customer_transactions_count_df.columns = ['Customer ID', 'Number of Transactions']\n",
    "customer_transactions_count_df.sort_values(by='Number of Transactions', ascending=False).reset_index()\n",
    "\n",
    "#customer_transactions_count_df.sort_values(by='Number of Transactions', ascending=False)"
   ]
  },
  {
   "cell_type": "markdown",
   "id": "c57015ab",
   "metadata": {},
   "source": [
    "The customer who has ultimated the highest amount of purchases is the user '9197' with exactly 104 transactions. Sorting in descending order, we are able to see also a ranking based on transactions for users."
   ]
  },
  {
   "cell_type": "markdown",
   "id": "7f1bcc34",
   "metadata": {},
   "source": [
    "Since we are going to reccommend some items in order to users similiarities, we have to catch all of them.\n",
    "A thing we surely know about people, is that the more you buy, the more you're going to buy.\n",
    "So we can regroup customers  by the number of transactions, in order to take into account the tendency of buy new products."
   ]
  },
  {
   "cell_type": "code",
   "execution_count": 52,
   "id": "a8fe7699",
   "metadata": {},
   "outputs": [
    {
     "data": {
      "text/html": [
       "<div>\n",
       "<style scoped>\n",
       "    .dataframe tbody tr th:only-of-type {\n",
       "        vertical-align: middle;\n",
       "    }\n",
       "\n",
       "    .dataframe tbody tr th {\n",
       "        vertical-align: top;\n",
       "    }\n",
       "\n",
       "    .dataframe thead th {\n",
       "        text-align: right;\n",
       "    }\n",
       "</style>\n",
       "<table border=\"1\" class=\"dataframe\">\n",
       "  <thead>\n",
       "    <tr style=\"text-align: right;\">\n",
       "      <th></th>\n",
       "      <th>Customer ID</th>\n",
       "      <th>Number of Transactions</th>\n",
       "    </tr>\n",
       "  </thead>\n",
       "  <tbody>\n",
       "    <tr>\n",
       "      <th>2448</th>\n",
       "      <td>33158</td>\n",
       "      <td>1</td>\n",
       "    </tr>\n",
       "    <tr>\n",
       "      <th>3920</th>\n",
       "      <td>10456</td>\n",
       "      <td>1</td>\n",
       "    </tr>\n",
       "    <tr>\n",
       "      <th>26501</th>\n",
       "      <td>1722</td>\n",
       "      <td>1</td>\n",
       "    </tr>\n",
       "    <tr>\n",
       "      <th>10779</th>\n",
       "      <td>15921</td>\n",
       "      <td>1</td>\n",
       "    </tr>\n",
       "    <tr>\n",
       "      <th>40235</th>\n",
       "      <td>41124</td>\n",
       "      <td>1</td>\n",
       "    </tr>\n",
       "    <tr>\n",
       "      <th>...</th>\n",
       "      <td>...</td>\n",
       "      <td>...</td>\n",
       "    </tr>\n",
       "    <tr>\n",
       "      <th>5953</th>\n",
       "      <td>33914</td>\n",
       "      <td>85</td>\n",
       "    </tr>\n",
       "    <tr>\n",
       "      <th>27086</th>\n",
       "      <td>13753</td>\n",
       "      <td>88</td>\n",
       "    </tr>\n",
       "    <tr>\n",
       "      <th>4445</th>\n",
       "      <td>16472</td>\n",
       "      <td>92</td>\n",
       "    </tr>\n",
       "    <tr>\n",
       "      <th>35275</th>\n",
       "      <td>36953</td>\n",
       "      <td>95</td>\n",
       "    </tr>\n",
       "    <tr>\n",
       "      <th>38291</th>\n",
       "      <td>9197</td>\n",
       "      <td>104</td>\n",
       "    </tr>\n",
       "  </tbody>\n",
       "</table>\n",
       "<p>41253 rows × 2 columns</p>\n",
       "</div>"
      ],
      "text/plain": [
       "       Customer ID  Number of Transactions\n",
       "2448         33158                       1\n",
       "3920         10456                       1\n",
       "26501         1722                       1\n",
       "10779        15921                       1\n",
       "40235        41124                       1\n",
       "...            ...                     ...\n",
       "5953         33914                      85\n",
       "27086        13753                      88\n",
       "4445         16472                      92\n",
       "35275        36953                      95\n",
       "38291         9197                     104\n",
       "\n",
       "[41253 rows x 2 columns]"
      ]
     },
     "execution_count": 52,
     "metadata": {},
     "output_type": "execute_result"
    }
   ],
   "source": [
    "customer_transactions_count_df.sort_values(by='Number of Transactions', ascending=True)"
   ]
  },
  {
   "cell_type": "code",
   "execution_count": 53,
   "id": "9c52926d",
   "metadata": {},
   "outputs": [
    {
     "data": {
      "text/html": [
       "<div>\n",
       "<style scoped>\n",
       "    .dataframe tbody tr th:only-of-type {\n",
       "        vertical-align: middle;\n",
       "    }\n",
       "\n",
       "    .dataframe tbody tr th {\n",
       "        vertical-align: top;\n",
       "    }\n",
       "\n",
       "    .dataframe thead th {\n",
       "        text-align: right;\n",
       "    }\n",
       "</style>\n",
       "<table border=\"1\" class=\"dataframe\">\n",
       "  <thead>\n",
       "    <tr style=\"text-align: right;\">\n",
       "      <th></th>\n",
       "      <th>customer_id</th>\n",
       "      <th>Number of transactions</th>\n",
       "      <th>transaction_group</th>\n",
       "    </tr>\n",
       "  </thead>\n",
       "  <tbody>\n",
       "    <tr>\n",
       "      <th>0</th>\n",
       "      <td>0</td>\n",
       "      <td>20</td>\n",
       "      <td>11-20</td>\n",
       "    </tr>\n",
       "    <tr>\n",
       "      <th>1</th>\n",
       "      <td>1</td>\n",
       "      <td>7</td>\n",
       "      <td>4-6</td>\n",
       "    </tr>\n",
       "    <tr>\n",
       "      <th>2</th>\n",
       "      <td>2</td>\n",
       "      <td>8</td>\n",
       "      <td>7-10</td>\n",
       "    </tr>\n",
       "    <tr>\n",
       "      <th>3</th>\n",
       "      <td>3</td>\n",
       "      <td>10</td>\n",
       "      <td>7-10</td>\n",
       "    </tr>\n",
       "    <tr>\n",
       "      <th>4</th>\n",
       "      <td>4</td>\n",
       "      <td>12</td>\n",
       "      <td>11-20</td>\n",
       "    </tr>\n",
       "    <tr>\n",
       "      <th>...</th>\n",
       "      <td>...</td>\n",
       "      <td>...</td>\n",
       "      <td>...</td>\n",
       "    </tr>\n",
       "    <tr>\n",
       "      <th>41248</th>\n",
       "      <td>41248</td>\n",
       "      <td>6</td>\n",
       "      <td>4-6</td>\n",
       "    </tr>\n",
       "    <tr>\n",
       "      <th>41249</th>\n",
       "      <td>41249</td>\n",
       "      <td>6</td>\n",
       "      <td>4-6</td>\n",
       "    </tr>\n",
       "    <tr>\n",
       "      <th>41250</th>\n",
       "      <td>41250</td>\n",
       "      <td>6</td>\n",
       "      <td>4-6</td>\n",
       "    </tr>\n",
       "    <tr>\n",
       "      <th>41251</th>\n",
       "      <td>41251</td>\n",
       "      <td>8</td>\n",
       "      <td>7-10</td>\n",
       "    </tr>\n",
       "    <tr>\n",
       "      <th>41252</th>\n",
       "      <td>41252</td>\n",
       "      <td>2</td>\n",
       "      <td>1-3</td>\n",
       "    </tr>\n",
       "  </tbody>\n",
       "</table>\n",
       "<p>41253 rows × 3 columns</p>\n",
       "</div>"
      ],
      "text/plain": [
       "       customer_id  Number of transactions transaction_group\n",
       "0                0                      20             11-20\n",
       "1                1                       7               4-6\n",
       "2                2                       8              7-10\n",
       "3                3                      10              7-10\n",
       "4                4                      12             11-20\n",
       "...            ...                     ...               ...\n",
       "41248        41248                       6               4-6\n",
       "41249        41249                       6               4-6\n",
       "41250        41250                       6               4-6\n",
       "41251        41251                       8              7-10\n",
       "41252        41252                       2               1-3\n",
       "\n",
       "[41253 rows x 3 columns]"
      ]
     },
     "execution_count": 53,
     "metadata": {},
     "output_type": "execute_result"
    }
   ],
   "source": [
    "bins = [0, 4, 7, 11, 21, 31, 105]\n",
    "groups = ['1-3','4-6','7-10','11-20', '21-30', '30+']\n",
    "customers['Number of transactions'] = customer_transactions_count_df['Number of Transactions']\n",
    "customers['transaction_group'] = pd.cut(customers['Number of transactions'], bins, labels = groups, include_lowest=True)\n",
    "customers.drop(columns=['club_member', 'age', 'fashion_news', 'age_group'])"
   ]
  },
  {
   "cell_type": "markdown",
   "id": "1a1b5a9a",
   "metadata": {},
   "source": [
    "We can create a dataframe with these results in order to plot them."
   ]
  },
  {
   "cell_type": "code",
   "execution_count": 54,
   "id": "35f8d379",
   "metadata": {},
   "outputs": [
    {
     "data": {
      "text/plain": [
       "transaction_group\n",
       "1-3       3214\n",
       "4-6      17935\n",
       "7-10     12016\n",
       "11-20     6792\n",
       "21-30      959\n",
       "30+        337\n",
       "dtype: int64"
      ]
     },
     "execution_count": 54,
     "metadata": {},
     "output_type": "execute_result"
    }
   ],
   "source": [
    "trans_group_counts = customers.groupby('transaction_group').size()\n",
    "trans_group_counts"
   ]
  },
  {
   "cell_type": "code",
   "execution_count": 55,
   "id": "3d2621d7",
   "metadata": {},
   "outputs": [
    {
     "data": {
      "text/html": [
       "<div>\n",
       "<style scoped>\n",
       "    .dataframe tbody tr th:only-of-type {\n",
       "        vertical-align: middle;\n",
       "    }\n",
       "\n",
       "    .dataframe tbody tr th {\n",
       "        vertical-align: top;\n",
       "    }\n",
       "\n",
       "    .dataframe thead th {\n",
       "        text-align: right;\n",
       "    }\n",
       "</style>\n",
       "<table border=\"1\" class=\"dataframe\">\n",
       "  <thead>\n",
       "    <tr style=\"text-align: right;\">\n",
       "      <th></th>\n",
       "      <th>Transaction Group</th>\n",
       "      <th>Number of customers</th>\n",
       "    </tr>\n",
       "  </thead>\n",
       "  <tbody>\n",
       "    <tr>\n",
       "      <th>0</th>\n",
       "      <td>1-3</td>\n",
       "      <td>3214</td>\n",
       "    </tr>\n",
       "    <tr>\n",
       "      <th>1</th>\n",
       "      <td>4-6</td>\n",
       "      <td>17935</td>\n",
       "    </tr>\n",
       "    <tr>\n",
       "      <th>2</th>\n",
       "      <td>7-10</td>\n",
       "      <td>12016</td>\n",
       "    </tr>\n",
       "    <tr>\n",
       "      <th>3</th>\n",
       "      <td>11-20</td>\n",
       "      <td>6792</td>\n",
       "    </tr>\n",
       "    <tr>\n",
       "      <th>4</th>\n",
       "      <td>21-30</td>\n",
       "      <td>959</td>\n",
       "    </tr>\n",
       "    <tr>\n",
       "      <th>5</th>\n",
       "      <td>30+</td>\n",
       "      <td>337</td>\n",
       "    </tr>\n",
       "  </tbody>\n",
       "</table>\n",
       "</div>"
      ],
      "text/plain": [
       "  Transaction Group  Number of customers\n",
       "0               1-3                 3214\n",
       "1               4-6                17935\n",
       "2              7-10                12016\n",
       "3             11-20                 6792\n",
       "4             21-30                  959\n",
       "5               30+                  337"
      ]
     },
     "execution_count": 55,
     "metadata": {},
     "output_type": "execute_result"
    }
   ],
   "source": [
    "trans_group_counts_df = pd.DataFrame([trans_group_counts]).T.reset_index()\n",
    "trans_group_counts_df.columns = ['Transaction Group', 'Number of customers']\n",
    "trans_group_counts_df"
   ]
  },
  {
   "cell_type": "code",
   "execution_count": 56,
   "id": "54fd60f8",
   "metadata": {},
   "outputs": [
    {
     "data": {
      "image/png": "[encoded data removed]",
      "text/plain": [
       "<Figure size 1000x500 with 1 Axes>"
      ]
     },
     "metadata": {},
     "output_type": "display_data"
    }
   ],
   "source": [
    "plt.figure(figsize=(10,5))\n",
    "sns.barplot(x='Transaction Group', y='Number of customers', data=trans_group_counts_df)\n",
    "plt.xticks(rotation=90)\n",
    "plt.show()"
   ]
  },
  {
   "cell_type": "markdown",
   "id": "04a549e2",
   "metadata": {},
   "source": [
    "#### Number of customers that has bought each product"
   ]
  },
  {
   "cell_type": "markdown",
   "id": "dca4bb1f",
   "metadata": {},
   "source": [
    "It is also interesting to see everything on the other way around, so how many times each item has been bought by customers."
   ]
  },
  {
   "cell_type": "code",
   "execution_count": 57,
   "id": "c7090eb0",
   "metadata": {},
   "outputs": [],
   "source": [
    "article_transactions_count = Counter(transactions['article_id'])"
   ]
  },
  {
   "cell_type": "code",
   "execution_count": 58,
   "id": "0acb7ac0",
   "metadata": {},
   "outputs": [
    {
     "data": {
      "text/html": [
       "<div>\n",
       "<style scoped>\n",
       "    .dataframe tbody tr th:only-of-type {\n",
       "        vertical-align: middle;\n",
       "    }\n",
       "\n",
       "    .dataframe tbody tr th {\n",
       "        vertical-align: top;\n",
       "    }\n",
       "\n",
       "    .dataframe thead th {\n",
       "        text-align: right;\n",
       "    }\n",
       "</style>\n",
       "<table border=\"1\" class=\"dataframe\">\n",
       "  <thead>\n",
       "    <tr style=\"text-align: right;\">\n",
       "      <th></th>\n",
       "      <th>Article ID</th>\n",
       "      <th>Number of Transactions</th>\n",
       "    </tr>\n",
       "  </thead>\n",
       "  <tbody>\n",
       "    <tr>\n",
       "      <th>5577</th>\n",
       "      <td>5250</td>\n",
       "      <td>11</td>\n",
       "    </tr>\n",
       "    <tr>\n",
       "      <th>5532</th>\n",
       "      <td>12</td>\n",
       "      <td>11</td>\n",
       "    </tr>\n",
       "    <tr>\n",
       "      <th>4393</th>\n",
       "      <td>479</td>\n",
       "      <td>11</td>\n",
       "    </tr>\n",
       "    <tr>\n",
       "      <th>3285</th>\n",
       "      <td>3814</td>\n",
       "      <td>11</td>\n",
       "    </tr>\n",
       "    <tr>\n",
       "      <th>4388</th>\n",
       "      <td>4474</td>\n",
       "      <td>11</td>\n",
       "    </tr>\n",
       "    <tr>\n",
       "      <th>...</th>\n",
       "      <td>...</td>\n",
       "      <td>...</td>\n",
       "    </tr>\n",
       "    <tr>\n",
       "      <th>318</th>\n",
       "      <td>1429</td>\n",
       "      <td>815</td>\n",
       "    </tr>\n",
       "    <tr>\n",
       "      <th>1359</th>\n",
       "      <td>6166</td>\n",
       "      <td>858</td>\n",
       "    </tr>\n",
       "    <tr>\n",
       "      <th>63</th>\n",
       "      <td>5831</td>\n",
       "      <td>889</td>\n",
       "    </tr>\n",
       "    <tr>\n",
       "      <th>927</th>\n",
       "      <td>168</td>\n",
       "      <td>896</td>\n",
       "    </tr>\n",
       "    <tr>\n",
       "      <th>48</th>\n",
       "      <td>1419</td>\n",
       "      <td>1045</td>\n",
       "    </tr>\n",
       "  </tbody>\n",
       "</table>\n",
       "<p>6536 rows × 2 columns</p>\n",
       "</div>"
      ],
      "text/plain": [
       "      Article ID  Number of Transactions\n",
       "5577        5250                      11\n",
       "5532          12                      11\n",
       "4393         479                      11\n",
       "3285        3814                      11\n",
       "4388        4474                      11\n",
       "...          ...                     ...\n",
       "318         1429                     815\n",
       "1359        6166                     858\n",
       "63          5831                     889\n",
       "927          168                     896\n",
       "48          1419                    1045\n",
       "\n",
       "[6536 rows x 2 columns]"
      ]
     },
     "execution_count": 58,
     "metadata": {},
     "output_type": "execute_result"
    }
   ],
   "source": [
    "article_transactions_count_df = pd.DataFrame([article_transactions_count]).T.reset_index()\n",
    "article_transactions_count_df.columns = ['Article ID', 'Number of Transactions']\n",
    "article_transactions_count_df.sort_values(by='Number of Transactions', ascending=True)"
   ]
  },
  {
   "cell_type": "markdown",
   "id": "029b170d",
   "metadata": {},
   "source": [
    "#### ANALYSIS"
   ]
  },
  {
   "cell_type": "markdown",
   "id": "48b712f6",
   "metadata": {},
   "source": [
    "From the above dataframe we are able to get which is the most requested article.\n",
    "By looking for its id in the articles dataset, we can access to a wider range of information with respect to the case we studied before.\n",
    "This happens because for customers we cannot access to all the information we would need to make a more in-dept analysis because most of the information is sensitive data. Whereas, for products we can see more information useful for market strategies.\n",
    "So, let'see what is this 'id 1419':"
   ]
  },
  {
   "cell_type": "code",
   "execution_count": 59,
   "id": "1bab382a",
   "metadata": {
    "scrolled": true
   },
   "outputs": [
    {
     "data": {
      "text/html": [
       "<div>\n",
       "<style scoped>\n",
       "    .dataframe tbody tr th:only-of-type {\n",
       "        vertical-align: middle;\n",
       "    }\n",
       "\n",
       "    .dataframe tbody tr th {\n",
       "        vertical-align: top;\n",
       "    }\n",
       "\n",
       "    .dataframe thead th {\n",
       "        text-align: right;\n",
       "    }\n",
       "</style>\n",
       "<table border=\"1\" class=\"dataframe\">\n",
       "  <thead>\n",
       "    <tr style=\"text-align: right;\">\n",
       "      <th></th>\n",
       "      <th>article_id</th>\n",
       "      <th>prod_name</th>\n",
       "      <th>product_type</th>\n",
       "      <th>product_type_name</th>\n",
       "      <th>product_group_name</th>\n",
       "      <th>colour_group</th>\n",
       "      <th>colour_group_name</th>\n",
       "      <th>perceived_colour_value</th>\n",
       "      <th>perceived_colour_value_name</th>\n",
       "      <th>perceived_colour_master</th>\n",
       "      <th>...</th>\n",
       "      <th>department</th>\n",
       "      <th>department_name</th>\n",
       "      <th>index</th>\n",
       "      <th>index_name</th>\n",
       "      <th>index_group</th>\n",
       "      <th>index_group_name</th>\n",
       "      <th>section</th>\n",
       "      <th>section_name</th>\n",
       "      <th>garment_group</th>\n",
       "      <th>garment_group_name</th>\n",
       "    </tr>\n",
       "  </thead>\n",
       "  <tbody>\n",
       "    <tr>\n",
       "      <th>1419</th>\n",
       "      <td>1419</td>\n",
       "      <td>Pluto RW slacks (1)</td>\n",
       "      <td>272</td>\n",
       "      <td>Trousers</td>\n",
       "      <td>Garment Lower body</td>\n",
       "      <td>9</td>\n",
       "      <td>Black</td>\n",
       "      <td>4</td>\n",
       "      <td>Dark</td>\n",
       "      <td>5</td>\n",
       "      <td>...</td>\n",
       "      <td>1722</td>\n",
       "      <td>Trouser</td>\n",
       "      <td>A</td>\n",
       "      <td>Ladieswear</td>\n",
       "      <td>1</td>\n",
       "      <td>Ladieswear</td>\n",
       "      <td>15</td>\n",
       "      <td>Womens Everyday Collection</td>\n",
       "      <td>1009</td>\n",
       "      <td>Trousers</td>\n",
       "    </tr>\n",
       "  </tbody>\n",
       "</table>\n",
       "<p>1 rows × 21 columns</p>\n",
       "</div>"
      ],
      "text/plain": [
       "      article_id            prod_name  product_type product_type_name  \\\n",
       "1419        1419  Pluto RW slacks (1)           272          Trousers   \n",
       "\n",
       "      product_group_name  colour_group colour_group_name  \\\n",
       "1419  Garment Lower body             9             Black   \n",
       "\n",
       "      perceived_colour_value perceived_colour_value_name  \\\n",
       "1419                       4                        Dark   \n",
       "\n",
       "      perceived_colour_master  ... department  department_name index  \\\n",
       "1419                        5  ...       1722          Trouser     A   \n",
       "\n",
       "      index_name index_group  index_group_name section  \\\n",
       "1419  Ladieswear           1        Ladieswear      15   \n",
       "\n",
       "                    section_name garment_group  garment_group_name  \n",
       "1419  Womens Everyday Collection          1009            Trousers  \n",
       "\n",
       "[1 rows x 21 columns]"
      ]
     },
     "execution_count": 59,
     "metadata": {},
     "output_type": "execute_result"
    }
   ],
   "source": [
    "articles.loc[articles['article_id'] == 1419]"
   ]
  },
  {
   "cell_type": "markdown",
   "id": "86945596",
   "metadata": {},
   "source": [
    "This row gives us a lot of information, maybe too much.\n",
    "In fact, in our opinion, is better to focus on category in spite of single products, because we can have a more accurate analysis basing on a bigger radius of articles, avoiding in this way some outliers."
   ]
  },
  {
   "cell_type": "code",
   "execution_count": 60,
   "id": "88c51f10",
   "metadata": {},
   "outputs": [],
   "source": [
    "article_type_dict = {}\n",
    "article_group_dict = {}\n",
    "\n",
    "for i,row in articles.iterrows():\n",
    "    article_type_dict[row['article_id']] = row['product_type_name']\n",
    "    article_group_dict[row['article_id']] = row['product_group_name']"
   ]
  },
  {
   "cell_type": "code",
   "execution_count": 61,
   "id": "065b9ef7",
   "metadata": {},
   "outputs": [
    {
     "data": {
      "text/html": [
       "<div>\n",
       "<style scoped>\n",
       "    .dataframe tbody tr th:only-of-type {\n",
       "        vertical-align: middle;\n",
       "    }\n",
       "\n",
       "    .dataframe tbody tr th {\n",
       "        vertical-align: top;\n",
       "    }\n",
       "\n",
       "    .dataframe thead th {\n",
       "        text-align: right;\n",
       "    }\n",
       "</style>\n",
       "<table border=\"1\" class=\"dataframe\">\n",
       "  <thead>\n",
       "    <tr style=\"text-align: right;\">\n",
       "      <th></th>\n",
       "      <th>Type of products</th>\n",
       "      <th>Number of Transactions</th>\n",
       "    </tr>\n",
       "  </thead>\n",
       "  <tbody>\n",
       "    <tr>\n",
       "      <th>5</th>\n",
       "      <td>Trousers</td>\n",
       "      <td>65295</td>\n",
       "    </tr>\n",
       "    <tr>\n",
       "      <th>11</th>\n",
       "      <td>Sweater</td>\n",
       "      <td>49602</td>\n",
       "    </tr>\n",
       "    <tr>\n",
       "      <th>2</th>\n",
       "      <td>Top</td>\n",
       "      <td>28308</td>\n",
       "    </tr>\n",
       "    <tr>\n",
       "      <th>3</th>\n",
       "      <td>Dress</td>\n",
       "      <td>26333</td>\n",
       "    </tr>\n",
       "    <tr>\n",
       "      <th>23</th>\n",
       "      <td>T-shirt</td>\n",
       "      <td>21010</td>\n",
       "    </tr>\n",
       "    <tr>\n",
       "      <th>...</th>\n",
       "      <td>...</td>\n",
       "      <td>...</td>\n",
       "    </tr>\n",
       "    <tr>\n",
       "      <th>69</th>\n",
       "      <td>Swimwear set</td>\n",
       "      <td>16</td>\n",
       "    </tr>\n",
       "    <tr>\n",
       "      <th>71</th>\n",
       "      <td>Braces</td>\n",
       "      <td>15</td>\n",
       "    </tr>\n",
       "    <tr>\n",
       "      <th>75</th>\n",
       "      <td>Flip flop</td>\n",
       "      <td>14</td>\n",
       "    </tr>\n",
       "    <tr>\n",
       "      <th>78</th>\n",
       "      <td>Heels</td>\n",
       "      <td>13</td>\n",
       "    </tr>\n",
       "    <tr>\n",
       "      <th>70</th>\n",
       "      <td>Hairband</td>\n",
       "      <td>13</td>\n",
       "    </tr>\n",
       "  </tbody>\n",
       "</table>\n",
       "<p>82 rows × 2 columns</p>\n",
       "</div>"
      ],
      "text/plain": [
       "   Type of products  Number of Transactions\n",
       "5          Trousers                   65295\n",
       "11          Sweater                   49602\n",
       "2               Top                   28308\n",
       "3             Dress                   26333\n",
       "23          T-shirt                   21010\n",
       "..              ...                     ...\n",
       "69     Swimwear set                      16\n",
       "71           Braces                      15\n",
       "75        Flip flop                      14\n",
       "78            Heels                      13\n",
       "70         Hairband                      13\n",
       "\n",
       "[82 rows x 2 columns]"
      ]
     },
     "execution_count": 61,
     "metadata": {},
     "output_type": "execute_result"
    }
   ],
   "source": [
    "type_transactions = {}\n",
    "for i,row in transactions.iterrows():\n",
    "    if article_type_dict[row['article_id']] in type_transactions.keys():\n",
    "        type_transactions[article_type_dict[row['article_id']]] += 1\n",
    "    else:\n",
    "        type_transactions[article_type_dict[row['article_id']]] = 1\n",
    "        \n",
    "type_transactions_df = pd.DataFrame({'Type of products':list(type_transactions.keys()),'Number of Transactions':list(type_transactions.values())})\n",
    "type_transactions_df = type_transactions_df.sort_values(by='Number of Transactions', ascending = False)\n",
    "type_transactions_df"
   ]
  },
  {
   "cell_type": "markdown",
   "id": "e1e3313b",
   "metadata": {},
   "source": [
    "Thanks to this frame we can see that the most sold type of product is 'Trousers', with a huge gap from the second one. This is probably caused by the fact that trousers is also the type of product with more different articles inside."
   ]
  },
  {
   "cell_type": "code",
   "execution_count": 62,
   "id": "c4b42870",
   "metadata": {},
   "outputs": [
    {
     "data": {
      "image/png": "[encoded data removed]",
      "text/plain": [
       "<Figure size 1200x500 with 1 Axes>"
      ]
     },
     "metadata": {},
     "output_type": "display_data"
    }
   ],
   "source": [
    "plt.figure(figsize=(12,5))\n",
    "sns.barplot(x='Type of products', y='Number of Transactions', data=type_transactions_df)\n",
    "plt.xticks(rotation=90)\n",
    "plt.show()"
   ]
  },
  {
   "cell_type": "markdown",
   "id": "ddbb877a",
   "metadata": {},
   "source": [
    "Now let's do the same analysis but, this time, focusing on the group of articles."
   ]
  },
  {
   "cell_type": "code",
   "execution_count": 63,
   "id": "65bf77b9",
   "metadata": {},
   "outputs": [
    {
     "data": {
      "text/html": [
       "<div>\n",
       "<style scoped>\n",
       "    .dataframe tbody tr th:only-of-type {\n",
       "        vertical-align: middle;\n",
       "    }\n",
       "\n",
       "    .dataframe tbody tr th {\n",
       "        vertical-align: top;\n",
       "    }\n",
       "\n",
       "    .dataframe thead th {\n",
       "        text-align: right;\n",
       "    }\n",
       "</style>\n",
       "<table border=\"1\" class=\"dataframe\">\n",
       "  <thead>\n",
       "    <tr style=\"text-align: right;\">\n",
       "      <th></th>\n",
       "      <th>Group of products</th>\n",
       "      <th>Number of Transactions</th>\n",
       "    </tr>\n",
       "  </thead>\n",
       "  <tbody>\n",
       "    <tr>\n",
       "      <th>1</th>\n",
       "      <td>Garment Upper body</td>\n",
       "      <td>182576</td>\n",
       "    </tr>\n",
       "    <tr>\n",
       "      <th>3</th>\n",
       "      <td>Garment Lower body</td>\n",
       "      <td>91015</td>\n",
       "    </tr>\n",
       "    <tr>\n",
       "      <th>2</th>\n",
       "      <td>Garment Full body</td>\n",
       "      <td>27687</td>\n",
       "    </tr>\n",
       "    <tr>\n",
       "      <th>0</th>\n",
       "      <td>Underwear</td>\n",
       "      <td>26365</td>\n",
       "    </tr>\n",
       "    <tr>\n",
       "      <th>4</th>\n",
       "      <td>Accessories</td>\n",
       "      <td>11335</td>\n",
       "    </tr>\n",
       "    <tr>\n",
       "      <th>7</th>\n",
       "      <td>Socks &amp; Tights</td>\n",
       "      <td>8701</td>\n",
       "    </tr>\n",
       "    <tr>\n",
       "      <th>8</th>\n",
       "      <td>Unknown</td>\n",
       "      <td>5847</td>\n",
       "    </tr>\n",
       "    <tr>\n",
       "      <th>6</th>\n",
       "      <td>Swimwear</td>\n",
       "      <td>5686</td>\n",
       "    </tr>\n",
       "    <tr>\n",
       "      <th>5</th>\n",
       "      <td>Shoes</td>\n",
       "      <td>4977</td>\n",
       "    </tr>\n",
       "    <tr>\n",
       "      <th>9</th>\n",
       "      <td>Nightwear</td>\n",
       "      <td>4623</td>\n",
       "    </tr>\n",
       "    <tr>\n",
       "      <th>10</th>\n",
       "      <td>Items</td>\n",
       "      <td>207</td>\n",
       "    </tr>\n",
       "    <tr>\n",
       "      <th>11</th>\n",
       "      <td>Bags</td>\n",
       "      <td>94</td>\n",
       "    </tr>\n",
       "  </tbody>\n",
       "</table>\n",
       "</div>"
      ],
      "text/plain": [
       "     Group of products  Number of Transactions\n",
       "1   Garment Upper body                  182576\n",
       "3   Garment Lower body                   91015\n",
       "2    Garment Full body                   27687\n",
       "0            Underwear                   26365\n",
       "4          Accessories                   11335\n",
       "7       Socks & Tights                    8701\n",
       "8              Unknown                    5847\n",
       "6             Swimwear                    5686\n",
       "5                Shoes                    4977\n",
       "9            Nightwear                    4623\n",
       "10               Items                     207\n",
       "11                Bags                      94"
      ]
     },
     "execution_count": 63,
     "metadata": {},
     "output_type": "execute_result"
    }
   ],
   "source": [
    "group_transactions = {}\n",
    "for i,row in transactions.iterrows():\n",
    "    if article_group_dict[row['article_id']] in group_transactions.keys():\n",
    "        group_transactions[article_group_dict[row['article_id']]] += 1\n",
    "    else:\n",
    "        group_transactions[article_group_dict[row['article_id']]] = 1\n",
    "        \n",
    "group_transactions_df = pd.DataFrame({'Group of products':list(group_transactions.keys()),'Number of Transactions':list(group_transactions.values())})\n",
    "group_transactions_df.sort_values(by='Number of Transactions', ascending = False)"
   ]
  },
  {
   "cell_type": "markdown",
   "id": "c86c8a2f",
   "metadata": {},
   "source": [
    "And one more time, we got the expexted result, since 'Garment Upper body' is the most populate group.\n",
    "In this case, the distance between the top group and the others is incredibly huge (It is the double of the second ranked group)."
   ]
  },
  {
   "cell_type": "code",
   "execution_count": 64,
   "id": "d3a2c246",
   "metadata": {},
   "outputs": [
    {
     "data": {
      "image/png": "[encoded data removed]",
      "text/plain": [
       "<Figure size 1000x500 with 1 Axes>"
      ]
     },
     "metadata": {},
     "output_type": "display_data"
    }
   ],
   "source": [
    "plt.figure(figsize=(10,5))\n",
    "sns.barplot(x='Group of products', y='Number of Transactions', data=group_transactions_df)\n",
    "plt.xticks(rotation=90)\n",
    "plt.show()"
   ]
  },
  {
   "cell_type": "markdown",
   "id": "3a7292f3",
   "metadata": {},
   "source": []
  },
  {
   "cell_type": "markdown",
   "id": "ecc665f1",
   "metadata": {},
   "source": [
    "# CONTENT-BASED FILTERING RECOMMENDER"
   ]
  },
  {
   "cell_type": "markdown",
   "id": "2a05464f",
   "metadata": {},
   "source": [
    "We can now start to build the content-based filtering recommender. We begin by setting up our dataset in such a way that rows represent all the articles and columns represent the features we are interested in.\n",
    "\n",
    "1) First, we create a table whose columns are all the values present in the column 'perceived_colour_master_name' and the rows are all the articles. The values inside the table are '1' if the cloth in the corresponding row has the colour of the respective column, else it has a '0'."
   ]
  },
  {
   "cell_type": "code",
   "execution_count": 65,
   "id": "6aa9f4f3",
   "metadata": {},
   "outputs": [
    {
     "data": {
      "text/html": [
       "<div>\n",
       "<style scoped>\n",
       "    .dataframe tbody tr th:only-of-type {\n",
       "        vertical-align: middle;\n",
       "    }\n",
       "\n",
       "    .dataframe tbody tr th {\n",
       "        vertical-align: top;\n",
       "    }\n",
       "\n",
       "    .dataframe thead th {\n",
       "        text-align: right;\n",
       "    }\n",
       "</style>\n",
       "<table border=\"1\" class=\"dataframe\">\n",
       "  <thead>\n",
       "    <tr style=\"text-align: right;\">\n",
       "      <th></th>\n",
       "      <th>Black</th>\n",
       "      <th>Blue</th>\n",
       "      <th>Grey</th>\n",
       "      <th>Beige</th>\n",
       "      <th>White</th>\n",
       "      <th>Brown</th>\n",
       "      <th>Mole</th>\n",
       "      <th>Khaki green</th>\n",
       "      <th>Red</th>\n",
       "      <th>Metal</th>\n",
       "      <th>Lilac Purple</th>\n",
       "      <th>Yellow</th>\n",
       "      <th>Pink</th>\n",
       "      <th>Green</th>\n",
       "      <th>Orange</th>\n",
       "      <th>Turquoise</th>\n",
       "    </tr>\n",
       "  </thead>\n",
       "  <tbody>\n",
       "    <tr>\n",
       "      <th>0</th>\n",
       "      <td>1</td>\n",
       "      <td>0</td>\n",
       "      <td>0</td>\n",
       "      <td>0</td>\n",
       "      <td>0</td>\n",
       "      <td>0</td>\n",
       "      <td>0</td>\n",
       "      <td>0</td>\n",
       "      <td>0</td>\n",
       "      <td>0</td>\n",
       "      <td>0</td>\n",
       "      <td>0</td>\n",
       "      <td>0</td>\n",
       "      <td>0</td>\n",
       "      <td>0</td>\n",
       "      <td>0</td>\n",
       "    </tr>\n",
       "    <tr>\n",
       "      <th>1</th>\n",
       "      <td>1</td>\n",
       "      <td>0</td>\n",
       "      <td>0</td>\n",
       "      <td>0</td>\n",
       "      <td>0</td>\n",
       "      <td>0</td>\n",
       "      <td>0</td>\n",
       "      <td>0</td>\n",
       "      <td>0</td>\n",
       "      <td>0</td>\n",
       "      <td>0</td>\n",
       "      <td>0</td>\n",
       "      <td>0</td>\n",
       "      <td>0</td>\n",
       "      <td>0</td>\n",
       "      <td>0</td>\n",
       "    </tr>\n",
       "    <tr>\n",
       "      <th>2</th>\n",
       "      <td>1</td>\n",
       "      <td>0</td>\n",
       "      <td>0</td>\n",
       "      <td>0</td>\n",
       "      <td>0</td>\n",
       "      <td>0</td>\n",
       "      <td>0</td>\n",
       "      <td>0</td>\n",
       "      <td>0</td>\n",
       "      <td>0</td>\n",
       "      <td>0</td>\n",
       "      <td>0</td>\n",
       "      <td>0</td>\n",
       "      <td>0</td>\n",
       "      <td>0</td>\n",
       "      <td>0</td>\n",
       "    </tr>\n",
       "    <tr>\n",
       "      <th>3</th>\n",
       "      <td>1</td>\n",
       "      <td>0</td>\n",
       "      <td>0</td>\n",
       "      <td>0</td>\n",
       "      <td>0</td>\n",
       "      <td>0</td>\n",
       "      <td>0</td>\n",
       "      <td>0</td>\n",
       "      <td>0</td>\n",
       "      <td>0</td>\n",
       "      <td>0</td>\n",
       "      <td>0</td>\n",
       "      <td>0</td>\n",
       "      <td>0</td>\n",
       "      <td>0</td>\n",
       "      <td>0</td>\n",
       "    </tr>\n",
       "    <tr>\n",
       "      <th>4</th>\n",
       "      <td>1</td>\n",
       "      <td>0</td>\n",
       "      <td>0</td>\n",
       "      <td>0</td>\n",
       "      <td>0</td>\n",
       "      <td>0</td>\n",
       "      <td>0</td>\n",
       "      <td>0</td>\n",
       "      <td>0</td>\n",
       "      <td>0</td>\n",
       "      <td>0</td>\n",
       "      <td>0</td>\n",
       "      <td>0</td>\n",
       "      <td>0</td>\n",
       "      <td>0</td>\n",
       "      <td>0</td>\n",
       "    </tr>\n",
       "    <tr>\n",
       "      <th>...</th>\n",
       "      <td>...</td>\n",
       "      <td>...</td>\n",
       "      <td>...</td>\n",
       "      <td>...</td>\n",
       "      <td>...</td>\n",
       "      <td>...</td>\n",
       "      <td>...</td>\n",
       "      <td>...</td>\n",
       "      <td>...</td>\n",
       "      <td>...</td>\n",
       "      <td>...</td>\n",
       "      <td>...</td>\n",
       "      <td>...</td>\n",
       "      <td>...</td>\n",
       "      <td>...</td>\n",
       "      <td>...</td>\n",
       "    </tr>\n",
       "    <tr>\n",
       "      <th>6531</th>\n",
       "      <td>1</td>\n",
       "      <td>0</td>\n",
       "      <td>0</td>\n",
       "      <td>0</td>\n",
       "      <td>0</td>\n",
       "      <td>0</td>\n",
       "      <td>0</td>\n",
       "      <td>0</td>\n",
       "      <td>0</td>\n",
       "      <td>0</td>\n",
       "      <td>0</td>\n",
       "      <td>0</td>\n",
       "      <td>0</td>\n",
       "      <td>0</td>\n",
       "      <td>0</td>\n",
       "      <td>0</td>\n",
       "    </tr>\n",
       "    <tr>\n",
       "      <th>6532</th>\n",
       "      <td>0</td>\n",
       "      <td>0</td>\n",
       "      <td>0</td>\n",
       "      <td>0</td>\n",
       "      <td>0</td>\n",
       "      <td>0</td>\n",
       "      <td>0</td>\n",
       "      <td>0</td>\n",
       "      <td>0</td>\n",
       "      <td>0</td>\n",
       "      <td>0</td>\n",
       "      <td>0</td>\n",
       "      <td>1</td>\n",
       "      <td>0</td>\n",
       "      <td>0</td>\n",
       "      <td>0</td>\n",
       "    </tr>\n",
       "    <tr>\n",
       "      <th>6533</th>\n",
       "      <td>1</td>\n",
       "      <td>0</td>\n",
       "      <td>0</td>\n",
       "      <td>0</td>\n",
       "      <td>0</td>\n",
       "      <td>0</td>\n",
       "      <td>0</td>\n",
       "      <td>0</td>\n",
       "      <td>0</td>\n",
       "      <td>0</td>\n",
       "      <td>0</td>\n",
       "      <td>0</td>\n",
       "      <td>0</td>\n",
       "      <td>0</td>\n",
       "      <td>0</td>\n",
       "      <td>0</td>\n",
       "    </tr>\n",
       "    <tr>\n",
       "      <th>6534</th>\n",
       "      <td>1</td>\n",
       "      <td>0</td>\n",
       "      <td>0</td>\n",
       "      <td>0</td>\n",
       "      <td>0</td>\n",
       "      <td>0</td>\n",
       "      <td>0</td>\n",
       "      <td>0</td>\n",
       "      <td>0</td>\n",
       "      <td>0</td>\n",
       "      <td>0</td>\n",
       "      <td>0</td>\n",
       "      <td>0</td>\n",
       "      <td>0</td>\n",
       "      <td>0</td>\n",
       "      <td>0</td>\n",
       "    </tr>\n",
       "    <tr>\n",
       "      <th>6535</th>\n",
       "      <td>1</td>\n",
       "      <td>0</td>\n",
       "      <td>0</td>\n",
       "      <td>0</td>\n",
       "      <td>0</td>\n",
       "      <td>0</td>\n",
       "      <td>0</td>\n",
       "      <td>0</td>\n",
       "      <td>0</td>\n",
       "      <td>0</td>\n",
       "      <td>0</td>\n",
       "      <td>0</td>\n",
       "      <td>0</td>\n",
       "      <td>0</td>\n",
       "      <td>0</td>\n",
       "      <td>0</td>\n",
       "    </tr>\n",
       "  </tbody>\n",
       "</table>\n",
       "<p>6536 rows × 16 columns</p>\n",
       "</div>"
      ],
      "text/plain": [
       "      Black  Blue  Grey  Beige  White  Brown  Mole  Khaki green  Red  Metal  \\\n",
       "0         1     0     0      0      0      0     0            0    0      0   \n",
       "1         1     0     0      0      0      0     0            0    0      0   \n",
       "2         1     0     0      0      0      0     0            0    0      0   \n",
       "3         1     0     0      0      0      0     0            0    0      0   \n",
       "4         1     0     0      0      0      0     0            0    0      0   \n",
       "...     ...   ...   ...    ...    ...    ...   ...          ...  ...    ...   \n",
       "6531      1     0     0      0      0      0     0            0    0      0   \n",
       "6532      0     0     0      0      0      0     0            0    0      0   \n",
       "6533      1     0     0      0      0      0     0            0    0      0   \n",
       "6534      1     0     0      0      0      0     0            0    0      0   \n",
       "6535      1     0     0      0      0      0     0            0    0      0   \n",
       "\n",
       "      Lilac Purple  Yellow  Pink  Green  Orange  Turquoise  \n",
       "0                0       0     0      0       0          0  \n",
       "1                0       0     0      0       0          0  \n",
       "2                0       0     0      0       0          0  \n",
       "3                0       0     0      0       0          0  \n",
       "4                0       0     0      0       0          0  \n",
       "...            ...     ...   ...    ...     ...        ...  \n",
       "6531             0       0     0      0       0          0  \n",
       "6532             0       0     1      0       0          0  \n",
       "6533             0       0     0      0       0          0  \n",
       "6534             0       0     0      0       0          0  \n",
       "6535             0       0     0      0       0          0  \n",
       "\n",
       "[6536 rows x 16 columns]"
      ]
     },
     "execution_count": 65,
     "metadata": {},
     "output_type": "execute_result"
    }
   ],
   "source": [
    "#create a one hot encoding\n",
    "colours = list(article_colour.keys())\n",
    "for c in colours:\n",
    "    articles[c] = articles['perceived_colour_master_name'].transform(lambda x: int(c in x))\n",
    "articles[colours]"
   ]
  },
  {
   "cell_type": "markdown",
   "id": "dbb5b941",
   "metadata": {},
   "source": [
    "We do the same for 'section name' and 'product_type_name'."
   ]
  },
  {
   "cell_type": "code",
   "execution_count": 66,
   "id": "f45b8f8d",
   "metadata": {},
   "outputs": [
    {
     "data": {
      "text/html": [
       "<div>\n",
       "<style scoped>\n",
       "    .dataframe tbody tr th:only-of-type {\n",
       "        vertical-align: middle;\n",
       "    }\n",
       "\n",
       "    .dataframe tbody tr th {\n",
       "        vertical-align: top;\n",
       "    }\n",
       "\n",
       "    .dataframe thead th {\n",
       "        text-align: right;\n",
       "    }\n",
       "</style>\n",
       "<table border=\"1\" class=\"dataframe\">\n",
       "  <thead>\n",
       "    <tr style=\"text-align: right;\">\n",
       "      <th></th>\n",
       "      <th>Womens Nightwear, Socks &amp; Tigh</th>\n",
       "      <th>Womens Small accessories</th>\n",
       "      <th>Men H&amp;M Sport</th>\n",
       "      <th>Womens Lingerie</th>\n",
       "      <th>Womens Everyday Basics</th>\n",
       "      <th>Womens Big accessories</th>\n",
       "      <th>Divided Basics</th>\n",
       "      <th>Girls Underwear &amp; Basics</th>\n",
       "      <th>H&amp;M+</th>\n",
       "      <th>Mama</th>\n",
       "      <th>...</th>\n",
       "      <th>Denim Men</th>\n",
       "      <th>Divided Asia keys</th>\n",
       "      <th>Divided Projects</th>\n",
       "      <th>Divided Accessories</th>\n",
       "      <th>Kids Girl</th>\n",
       "      <th>Young Girl</th>\n",
       "      <th>Baby Boy</th>\n",
       "      <th>Divided Complements Other</th>\n",
       "      <th>Kids Sports</th>\n",
       "      <th>Baby Girl</th>\n",
       "    </tr>\n",
       "  </thead>\n",
       "  <tbody>\n",
       "    <tr>\n",
       "      <th>0</th>\n",
       "      <td>1</td>\n",
       "      <td>0</td>\n",
       "      <td>0</td>\n",
       "      <td>0</td>\n",
       "      <td>0</td>\n",
       "      <td>0</td>\n",
       "      <td>0</td>\n",
       "      <td>0</td>\n",
       "      <td>0</td>\n",
       "      <td>0</td>\n",
       "      <td>...</td>\n",
       "      <td>0</td>\n",
       "      <td>0</td>\n",
       "      <td>0</td>\n",
       "      <td>0</td>\n",
       "      <td>0</td>\n",
       "      <td>0</td>\n",
       "      <td>0</td>\n",
       "      <td>0</td>\n",
       "      <td>0</td>\n",
       "      <td>0</td>\n",
       "    </tr>\n",
       "    <tr>\n",
       "      <th>1</th>\n",
       "      <td>1</td>\n",
       "      <td>0</td>\n",
       "      <td>0</td>\n",
       "      <td>0</td>\n",
       "      <td>0</td>\n",
       "      <td>0</td>\n",
       "      <td>0</td>\n",
       "      <td>0</td>\n",
       "      <td>0</td>\n",
       "      <td>0</td>\n",
       "      <td>...</td>\n",
       "      <td>0</td>\n",
       "      <td>0</td>\n",
       "      <td>0</td>\n",
       "      <td>0</td>\n",
       "      <td>0</td>\n",
       "      <td>0</td>\n",
       "      <td>0</td>\n",
       "      <td>0</td>\n",
       "      <td>0</td>\n",
       "      <td>0</td>\n",
       "    </tr>\n",
       "    <tr>\n",
       "      <th>2</th>\n",
       "      <td>1</td>\n",
       "      <td>0</td>\n",
       "      <td>0</td>\n",
       "      <td>0</td>\n",
       "      <td>0</td>\n",
       "      <td>0</td>\n",
       "      <td>0</td>\n",
       "      <td>0</td>\n",
       "      <td>0</td>\n",
       "      <td>0</td>\n",
       "      <td>...</td>\n",
       "      <td>0</td>\n",
       "      <td>0</td>\n",
       "      <td>0</td>\n",
       "      <td>0</td>\n",
       "      <td>0</td>\n",
       "      <td>0</td>\n",
       "      <td>0</td>\n",
       "      <td>0</td>\n",
       "      <td>0</td>\n",
       "      <td>0</td>\n",
       "    </tr>\n",
       "    <tr>\n",
       "      <th>3</th>\n",
       "      <td>1</td>\n",
       "      <td>0</td>\n",
       "      <td>0</td>\n",
       "      <td>0</td>\n",
       "      <td>0</td>\n",
       "      <td>0</td>\n",
       "      <td>0</td>\n",
       "      <td>0</td>\n",
       "      <td>0</td>\n",
       "      <td>0</td>\n",
       "      <td>...</td>\n",
       "      <td>0</td>\n",
       "      <td>0</td>\n",
       "      <td>0</td>\n",
       "      <td>0</td>\n",
       "      <td>0</td>\n",
       "      <td>0</td>\n",
       "      <td>0</td>\n",
       "      <td>0</td>\n",
       "      <td>0</td>\n",
       "      <td>0</td>\n",
       "    </tr>\n",
       "    <tr>\n",
       "      <th>4</th>\n",
       "      <td>1</td>\n",
       "      <td>0</td>\n",
       "      <td>0</td>\n",
       "      <td>0</td>\n",
       "      <td>0</td>\n",
       "      <td>0</td>\n",
       "      <td>0</td>\n",
       "      <td>0</td>\n",
       "      <td>0</td>\n",
       "      <td>0</td>\n",
       "      <td>...</td>\n",
       "      <td>0</td>\n",
       "      <td>0</td>\n",
       "      <td>0</td>\n",
       "      <td>0</td>\n",
       "      <td>0</td>\n",
       "      <td>0</td>\n",
       "      <td>0</td>\n",
       "      <td>0</td>\n",
       "      <td>0</td>\n",
       "      <td>0</td>\n",
       "    </tr>\n",
       "    <tr>\n",
       "      <th>...</th>\n",
       "      <td>...</td>\n",
       "      <td>...</td>\n",
       "      <td>...</td>\n",
       "      <td>...</td>\n",
       "      <td>...</td>\n",
       "      <td>...</td>\n",
       "      <td>...</td>\n",
       "      <td>...</td>\n",
       "      <td>...</td>\n",
       "      <td>...</td>\n",
       "      <td>...</td>\n",
       "      <td>...</td>\n",
       "      <td>...</td>\n",
       "      <td>...</td>\n",
       "      <td>...</td>\n",
       "      <td>...</td>\n",
       "      <td>...</td>\n",
       "      <td>...</td>\n",
       "      <td>...</td>\n",
       "      <td>...</td>\n",
       "      <td>...</td>\n",
       "    </tr>\n",
       "    <tr>\n",
       "      <th>6531</th>\n",
       "      <td>0</td>\n",
       "      <td>0</td>\n",
       "      <td>0</td>\n",
       "      <td>0</td>\n",
       "      <td>0</td>\n",
       "      <td>0</td>\n",
       "      <td>0</td>\n",
       "      <td>0</td>\n",
       "      <td>0</td>\n",
       "      <td>0</td>\n",
       "      <td>...</td>\n",
       "      <td>0</td>\n",
       "      <td>0</td>\n",
       "      <td>0</td>\n",
       "      <td>0</td>\n",
       "      <td>0</td>\n",
       "      <td>0</td>\n",
       "      <td>0</td>\n",
       "      <td>0</td>\n",
       "      <td>0</td>\n",
       "      <td>0</td>\n",
       "    </tr>\n",
       "    <tr>\n",
       "      <th>6532</th>\n",
       "      <td>0</td>\n",
       "      <td>0</td>\n",
       "      <td>0</td>\n",
       "      <td>0</td>\n",
       "      <td>0</td>\n",
       "      <td>0</td>\n",
       "      <td>0</td>\n",
       "      <td>0</td>\n",
       "      <td>0</td>\n",
       "      <td>0</td>\n",
       "      <td>...</td>\n",
       "      <td>0</td>\n",
       "      <td>0</td>\n",
       "      <td>0</td>\n",
       "      <td>0</td>\n",
       "      <td>0</td>\n",
       "      <td>0</td>\n",
       "      <td>0</td>\n",
       "      <td>0</td>\n",
       "      <td>0</td>\n",
       "      <td>0</td>\n",
       "    </tr>\n",
       "    <tr>\n",
       "      <th>6533</th>\n",
       "      <td>1</td>\n",
       "      <td>0</td>\n",
       "      <td>0</td>\n",
       "      <td>0</td>\n",
       "      <td>0</td>\n",
       "      <td>0</td>\n",
       "      <td>0</td>\n",
       "      <td>0</td>\n",
       "      <td>0</td>\n",
       "      <td>0</td>\n",
       "      <td>...</td>\n",
       "      <td>0</td>\n",
       "      <td>0</td>\n",
       "      <td>0</td>\n",
       "      <td>0</td>\n",
       "      <td>0</td>\n",
       "      <td>0</td>\n",
       "      <td>0</td>\n",
       "      <td>0</td>\n",
       "      <td>0</td>\n",
       "      <td>0</td>\n",
       "    </tr>\n",
       "    <tr>\n",
       "      <th>6534</th>\n",
       "      <td>0</td>\n",
       "      <td>0</td>\n",
       "      <td>0</td>\n",
       "      <td>0</td>\n",
       "      <td>0</td>\n",
       "      <td>0</td>\n",
       "      <td>0</td>\n",
       "      <td>0</td>\n",
       "      <td>1</td>\n",
       "      <td>0</td>\n",
       "      <td>...</td>\n",
       "      <td>0</td>\n",
       "      <td>0</td>\n",
       "      <td>0</td>\n",
       "      <td>0</td>\n",
       "      <td>0</td>\n",
       "      <td>0</td>\n",
       "      <td>0</td>\n",
       "      <td>0</td>\n",
       "      <td>0</td>\n",
       "      <td>0</td>\n",
       "    </tr>\n",
       "    <tr>\n",
       "      <th>6535</th>\n",
       "      <td>0</td>\n",
       "      <td>0</td>\n",
       "      <td>0</td>\n",
       "      <td>0</td>\n",
       "      <td>0</td>\n",
       "      <td>0</td>\n",
       "      <td>0</td>\n",
       "      <td>0</td>\n",
       "      <td>0</td>\n",
       "      <td>0</td>\n",
       "      <td>...</td>\n",
       "      <td>0</td>\n",
       "      <td>0</td>\n",
       "      <td>0</td>\n",
       "      <td>0</td>\n",
       "      <td>0</td>\n",
       "      <td>0</td>\n",
       "      <td>0</td>\n",
       "      <td>0</td>\n",
       "      <td>0</td>\n",
       "      <td>0</td>\n",
       "    </tr>\n",
       "  </tbody>\n",
       "</table>\n",
       "<p>6536 rows × 43 columns</p>\n",
       "</div>"
      ],
      "text/plain": [
       "      Womens Nightwear, Socks & Tigh  Womens Small accessories  Men H&M Sport  \\\n",
       "0                                  1                         0              0   \n",
       "1                                  1                         0              0   \n",
       "2                                  1                         0              0   \n",
       "3                                  1                         0              0   \n",
       "4                                  1                         0              0   \n",
       "...                              ...                       ...            ...   \n",
       "6531                               0                         0              0   \n",
       "6532                               0                         0              0   \n",
       "6533                               1                         0              0   \n",
       "6534                               0                         0              0   \n",
       "6535                               0                         0              0   \n",
       "\n",
       "      Womens Lingerie  Womens Everyday Basics  Womens Big accessories  \\\n",
       "0                   0                       0                       0   \n",
       "1                   0                       0                       0   \n",
       "2                   0                       0                       0   \n",
       "3                   0                       0                       0   \n",
       "4                   0                       0                       0   \n",
       "...               ...                     ...                     ...   \n",
       "6531                0                       0                       0   \n",
       "6532                0                       0                       0   \n",
       "6533                0                       0                       0   \n",
       "6534                0                       0                       0   \n",
       "6535                0                       0                       0   \n",
       "\n",
       "      Divided Basics  Girls Underwear & Basics  H&M+  Mama  ...  Denim Men  \\\n",
       "0                  0                         0     0     0  ...          0   \n",
       "1                  0                         0     0     0  ...          0   \n",
       "2                  0                         0     0     0  ...          0   \n",
       "3                  0                         0     0     0  ...          0   \n",
       "4                  0                         0     0     0  ...          0   \n",
       "...              ...                       ...   ...   ...  ...        ...   \n",
       "6531               0                         0     0     0  ...          0   \n",
       "6532               0                         0     0     0  ...          0   \n",
       "6533               0                         0     0     0  ...          0   \n",
       "6534               0                         0     1     0  ...          0   \n",
       "6535               0                         0     0     0  ...          0   \n",
       "\n",
       "      Divided Asia keys  Divided Projects  Divided Accessories  Kids Girl  \\\n",
       "0                     0                 0                    0          0   \n",
       "1                     0                 0                    0          0   \n",
       "2                     0                 0                    0          0   \n",
       "3                     0                 0                    0          0   \n",
       "4                     0                 0                    0          0   \n",
       "...                 ...               ...                  ...        ...   \n",
       "6531                  0                 0                    0          0   \n",
       "6532                  0                 0                    0          0   \n",
       "6533                  0                 0                    0          0   \n",
       "6534                  0                 0                    0          0   \n",
       "6535                  0                 0                    0          0   \n",
       "\n",
       "      Young Girl  Baby Boy  Divided Complements Other  Kids Sports  Baby Girl  \n",
       "0              0         0                          0            0          0  \n",
       "1              0         0                          0            0          0  \n",
       "2              0         0                          0            0          0  \n",
       "3              0         0                          0            0          0  \n",
       "4              0         0                          0            0          0  \n",
       "...          ...       ...                        ...          ...        ...  \n",
       "6531           0         0                          0            0          0  \n",
       "6532           0         0                          0            0          0  \n",
       "6533           0         0                          0            0          0  \n",
       "6534           0         0                          0            0          0  \n",
       "6535           0         0                          0            0          0  \n",
       "\n",
       "[6536 rows x 43 columns]"
      ]
     },
     "execution_count": 66,
     "metadata": {},
     "output_type": "execute_result"
    }
   ],
   "source": [
    "section_count = Counter(articles['section_name'])\n",
    "sections = list(section_count.keys())\n",
    "for s in sections:\n",
    "    articles[s] = articles['section_name'].transform(lambda x: int(s in x))\n",
    "articles[sections]"
   ]
  },
  {
   "cell_type": "code",
   "execution_count": 67,
   "id": "f1a2105d",
   "metadata": {},
   "outputs": [
    {
     "data": {
      "text/html": [
       "<div>\n",
       "<style scoped>\n",
       "    .dataframe tbody tr th:only-of-type {\n",
       "        vertical-align: middle;\n",
       "    }\n",
       "\n",
       "    .dataframe tbody tr th {\n",
       "        vertical-align: top;\n",
       "    }\n",
       "\n",
       "    .dataframe thead th {\n",
       "        text-align: right;\n",
       "    }\n",
       "</style>\n",
       "<table border=\"1\" class=\"dataframe\">\n",
       "  <thead>\n",
       "    <tr style=\"text-align: right;\">\n",
       "      <th></th>\n",
       "      <th>Underwear Tights</th>\n",
       "      <th>Leggings/Tights</th>\n",
       "      <th>Umbrella</th>\n",
       "      <th>Sweater</th>\n",
       "      <th>Bra</th>\n",
       "      <th>Socks</th>\n",
       "      <th>Unknown</th>\n",
       "      <th>Belt</th>\n",
       "      <th>Hair clip</th>\n",
       "      <th>Hair string</th>\n",
       "      <th>...</th>\n",
       "      <th>Wallet</th>\n",
       "      <th>Sandals</th>\n",
       "      <th>Garment Set</th>\n",
       "      <th>Outdoor Waistcoat</th>\n",
       "      <th>Heels</th>\n",
       "      <th>Other shoe</th>\n",
       "      <th>Hairband</th>\n",
       "      <th>Flat shoes</th>\n",
       "      <th>Dog wear</th>\n",
       "      <th>Bracelet</th>\n",
       "    </tr>\n",
       "  </thead>\n",
       "  <tbody>\n",
       "    <tr>\n",
       "      <th>0</th>\n",
       "      <td>1</td>\n",
       "      <td>0</td>\n",
       "      <td>0</td>\n",
       "      <td>0</td>\n",
       "      <td>0</td>\n",
       "      <td>0</td>\n",
       "      <td>0</td>\n",
       "      <td>0</td>\n",
       "      <td>0</td>\n",
       "      <td>0</td>\n",
       "      <td>...</td>\n",
       "      <td>0</td>\n",
       "      <td>0</td>\n",
       "      <td>0</td>\n",
       "      <td>0</td>\n",
       "      <td>0</td>\n",
       "      <td>0</td>\n",
       "      <td>0</td>\n",
       "      <td>0</td>\n",
       "      <td>0</td>\n",
       "      <td>0</td>\n",
       "    </tr>\n",
       "    <tr>\n",
       "      <th>1</th>\n",
       "      <td>0</td>\n",
       "      <td>1</td>\n",
       "      <td>0</td>\n",
       "      <td>0</td>\n",
       "      <td>0</td>\n",
       "      <td>0</td>\n",
       "      <td>0</td>\n",
       "      <td>0</td>\n",
       "      <td>0</td>\n",
       "      <td>0</td>\n",
       "      <td>...</td>\n",
       "      <td>0</td>\n",
       "      <td>0</td>\n",
       "      <td>0</td>\n",
       "      <td>0</td>\n",
       "      <td>0</td>\n",
       "      <td>0</td>\n",
       "      <td>0</td>\n",
       "      <td>0</td>\n",
       "      <td>0</td>\n",
       "      <td>0</td>\n",
       "    </tr>\n",
       "    <tr>\n",
       "      <th>2</th>\n",
       "      <td>1</td>\n",
       "      <td>0</td>\n",
       "      <td>0</td>\n",
       "      <td>0</td>\n",
       "      <td>0</td>\n",
       "      <td>0</td>\n",
       "      <td>0</td>\n",
       "      <td>0</td>\n",
       "      <td>0</td>\n",
       "      <td>0</td>\n",
       "      <td>...</td>\n",
       "      <td>0</td>\n",
       "      <td>0</td>\n",
       "      <td>0</td>\n",
       "      <td>0</td>\n",
       "      <td>0</td>\n",
       "      <td>0</td>\n",
       "      <td>0</td>\n",
       "      <td>0</td>\n",
       "      <td>0</td>\n",
       "      <td>0</td>\n",
       "    </tr>\n",
       "    <tr>\n",
       "      <th>3</th>\n",
       "      <td>1</td>\n",
       "      <td>0</td>\n",
       "      <td>0</td>\n",
       "      <td>0</td>\n",
       "      <td>0</td>\n",
       "      <td>0</td>\n",
       "      <td>0</td>\n",
       "      <td>0</td>\n",
       "      <td>0</td>\n",
       "      <td>0</td>\n",
       "      <td>...</td>\n",
       "      <td>0</td>\n",
       "      <td>0</td>\n",
       "      <td>0</td>\n",
       "      <td>0</td>\n",
       "      <td>0</td>\n",
       "      <td>0</td>\n",
       "      <td>0</td>\n",
       "      <td>0</td>\n",
       "      <td>0</td>\n",
       "      <td>0</td>\n",
       "    </tr>\n",
       "    <tr>\n",
       "      <th>4</th>\n",
       "      <td>0</td>\n",
       "      <td>1</td>\n",
       "      <td>0</td>\n",
       "      <td>0</td>\n",
       "      <td>0</td>\n",
       "      <td>0</td>\n",
       "      <td>0</td>\n",
       "      <td>0</td>\n",
       "      <td>0</td>\n",
       "      <td>0</td>\n",
       "      <td>...</td>\n",
       "      <td>0</td>\n",
       "      <td>0</td>\n",
       "      <td>0</td>\n",
       "      <td>0</td>\n",
       "      <td>0</td>\n",
       "      <td>0</td>\n",
       "      <td>0</td>\n",
       "      <td>0</td>\n",
       "      <td>0</td>\n",
       "      <td>0</td>\n",
       "    </tr>\n",
       "    <tr>\n",
       "      <th>...</th>\n",
       "      <td>...</td>\n",
       "      <td>...</td>\n",
       "      <td>...</td>\n",
       "      <td>...</td>\n",
       "      <td>...</td>\n",
       "      <td>...</td>\n",
       "      <td>...</td>\n",
       "      <td>...</td>\n",
       "      <td>...</td>\n",
       "      <td>...</td>\n",
       "      <td>...</td>\n",
       "      <td>...</td>\n",
       "      <td>...</td>\n",
       "      <td>...</td>\n",
       "      <td>...</td>\n",
       "      <td>...</td>\n",
       "      <td>...</td>\n",
       "      <td>...</td>\n",
       "      <td>...</td>\n",
       "      <td>...</td>\n",
       "      <td>...</td>\n",
       "    </tr>\n",
       "    <tr>\n",
       "      <th>6531</th>\n",
       "      <td>0</td>\n",
       "      <td>0</td>\n",
       "      <td>0</td>\n",
       "      <td>1</td>\n",
       "      <td>0</td>\n",
       "      <td>0</td>\n",
       "      <td>0</td>\n",
       "      <td>0</td>\n",
       "      <td>0</td>\n",
       "      <td>0</td>\n",
       "      <td>...</td>\n",
       "      <td>0</td>\n",
       "      <td>0</td>\n",
       "      <td>0</td>\n",
       "      <td>0</td>\n",
       "      <td>0</td>\n",
       "      <td>0</td>\n",
       "      <td>0</td>\n",
       "      <td>0</td>\n",
       "      <td>0</td>\n",
       "      <td>0</td>\n",
       "    </tr>\n",
       "    <tr>\n",
       "      <th>6532</th>\n",
       "      <td>0</td>\n",
       "      <td>0</td>\n",
       "      <td>0</td>\n",
       "      <td>1</td>\n",
       "      <td>0</td>\n",
       "      <td>0</td>\n",
       "      <td>0</td>\n",
       "      <td>0</td>\n",
       "      <td>0</td>\n",
       "      <td>0</td>\n",
       "      <td>...</td>\n",
       "      <td>0</td>\n",
       "      <td>0</td>\n",
       "      <td>0</td>\n",
       "      <td>0</td>\n",
       "      <td>0</td>\n",
       "      <td>0</td>\n",
       "      <td>0</td>\n",
       "      <td>0</td>\n",
       "      <td>0</td>\n",
       "      <td>0</td>\n",
       "    </tr>\n",
       "    <tr>\n",
       "      <th>6533</th>\n",
       "      <td>1</td>\n",
       "      <td>0</td>\n",
       "      <td>0</td>\n",
       "      <td>0</td>\n",
       "      <td>0</td>\n",
       "      <td>0</td>\n",
       "      <td>0</td>\n",
       "      <td>0</td>\n",
       "      <td>0</td>\n",
       "      <td>0</td>\n",
       "      <td>...</td>\n",
       "      <td>0</td>\n",
       "      <td>0</td>\n",
       "      <td>0</td>\n",
       "      <td>0</td>\n",
       "      <td>0</td>\n",
       "      <td>0</td>\n",
       "      <td>0</td>\n",
       "      <td>0</td>\n",
       "      <td>0</td>\n",
       "      <td>0</td>\n",
       "    </tr>\n",
       "    <tr>\n",
       "      <th>6534</th>\n",
       "      <td>0</td>\n",
       "      <td>0</td>\n",
       "      <td>0</td>\n",
       "      <td>0</td>\n",
       "      <td>0</td>\n",
       "      <td>0</td>\n",
       "      <td>0</td>\n",
       "      <td>0</td>\n",
       "      <td>0</td>\n",
       "      <td>0</td>\n",
       "      <td>...</td>\n",
       "      <td>0</td>\n",
       "      <td>0</td>\n",
       "      <td>0</td>\n",
       "      <td>0</td>\n",
       "      <td>0</td>\n",
       "      <td>0</td>\n",
       "      <td>0</td>\n",
       "      <td>0</td>\n",
       "      <td>0</td>\n",
       "      <td>0</td>\n",
       "    </tr>\n",
       "    <tr>\n",
       "      <th>6535</th>\n",
       "      <td>0</td>\n",
       "      <td>0</td>\n",
       "      <td>0</td>\n",
       "      <td>0</td>\n",
       "      <td>0</td>\n",
       "      <td>0</td>\n",
       "      <td>0</td>\n",
       "      <td>0</td>\n",
       "      <td>0</td>\n",
       "      <td>0</td>\n",
       "      <td>...</td>\n",
       "      <td>0</td>\n",
       "      <td>0</td>\n",
       "      <td>0</td>\n",
       "      <td>0</td>\n",
       "      <td>0</td>\n",
       "      <td>0</td>\n",
       "      <td>0</td>\n",
       "      <td>0</td>\n",
       "      <td>0</td>\n",
       "      <td>0</td>\n",
       "    </tr>\n",
       "  </tbody>\n",
       "</table>\n",
       "<p>6536 rows × 82 columns</p>\n",
       "</div>"
      ],
      "text/plain": [
       "      Underwear Tights  Leggings/Tights  Umbrella  Sweater  Bra  Socks  \\\n",
       "0                    1                0         0        0    0      0   \n",
       "1                    0                1         0        0    0      0   \n",
       "2                    1                0         0        0    0      0   \n",
       "3                    1                0         0        0    0      0   \n",
       "4                    0                1         0        0    0      0   \n",
       "...                ...              ...       ...      ...  ...    ...   \n",
       "6531                 0                0         0        1    0      0   \n",
       "6532                 0                0         0        1    0      0   \n",
       "6533                 1                0         0        0    0      0   \n",
       "6534                 0                0         0        0    0      0   \n",
       "6535                 0                0         0        0    0      0   \n",
       "\n",
       "      Unknown  Belt  Hair clip  Hair string  ...  Wallet  Sandals  \\\n",
       "0           0     0          0            0  ...       0        0   \n",
       "1           0     0          0            0  ...       0        0   \n",
       "2           0     0          0            0  ...       0        0   \n",
       "3           0     0          0            0  ...       0        0   \n",
       "4           0     0          0            0  ...       0        0   \n",
       "...       ...   ...        ...          ...  ...     ...      ...   \n",
       "6531        0     0          0            0  ...       0        0   \n",
       "6532        0     0          0            0  ...       0        0   \n",
       "6533        0     0          0            0  ...       0        0   \n",
       "6534        0     0          0            0  ...       0        0   \n",
       "6535        0     0          0            0  ...       0        0   \n",
       "\n",
       "      Garment Set  Outdoor Waistcoat  Heels  Other shoe  Hairband  Flat shoes  \\\n",
       "0               0                  0      0           0         0           0   \n",
       "1               0                  0      0           0         0           0   \n",
       "2               0                  0      0           0         0           0   \n",
       "3               0                  0      0           0         0           0   \n",
       "4               0                  0      0           0         0           0   \n",
       "...           ...                ...    ...         ...       ...         ...   \n",
       "6531            0                  0      0           0         0           0   \n",
       "6532            0                  0      0           0         0           0   \n",
       "6533            0                  0      0           0         0           0   \n",
       "6534            0                  0      0           0         0           0   \n",
       "6535            0                  0      0           0         0           0   \n",
       "\n",
       "      Dog wear  Bracelet  \n",
       "0            0         0  \n",
       "1            0         0  \n",
       "2            0         0  \n",
       "3            0         0  \n",
       "4            0         0  \n",
       "...        ...       ...  \n",
       "6531         0         0  \n",
       "6532         0         0  \n",
       "6533         0         0  \n",
       "6534         0         0  \n",
       "6535         0         0  \n",
       "\n",
       "[6536 rows x 82 columns]"
      ]
     },
     "execution_count": 67,
     "metadata": {},
     "output_type": "execute_result"
    }
   ],
   "source": [
    "type_article_count = Counter(articles['product_type_name'])\n",
    "types = list(type_article_count.keys())\n",
    "for t in types:\n",
    "    articles[t] = articles['product_type_name'].transform(lambda x: int(t in x))\n",
    "articles[types]"
   ]
  },
  {
   "cell_type": "markdown",
   "id": "7026a1b6",
   "metadata": {},
   "source": [
    "In the following passage, we merge all the information into a unique dataframe."
   ]
  },
  {
   "cell_type": "code",
   "execution_count": 68,
   "id": "cbbb6877",
   "metadata": {},
   "outputs": [
    {
     "data": {
      "text/html": [
       "<div>\n",
       "<style scoped>\n",
       "    .dataframe tbody tr th:only-of-type {\n",
       "        vertical-align: middle;\n",
       "    }\n",
       "\n",
       "    .dataframe tbody tr th {\n",
       "        vertical-align: top;\n",
       "    }\n",
       "\n",
       "    .dataframe thead th {\n",
       "        text-align: right;\n",
       "    }\n",
       "</style>\n",
       "<table border=\"1\" class=\"dataframe\">\n",
       "  <thead>\n",
       "    <tr style=\"text-align: right;\">\n",
       "      <th></th>\n",
       "      <th>Black</th>\n",
       "      <th>Blue</th>\n",
       "      <th>Grey</th>\n",
       "      <th>Beige</th>\n",
       "      <th>White</th>\n",
       "      <th>Brown</th>\n",
       "      <th>Mole</th>\n",
       "      <th>Khaki green</th>\n",
       "      <th>Red</th>\n",
       "      <th>Metal</th>\n",
       "      <th>...</th>\n",
       "      <th>Wallet</th>\n",
       "      <th>Sandals</th>\n",
       "      <th>Garment Set</th>\n",
       "      <th>Outdoor Waistcoat</th>\n",
       "      <th>Heels</th>\n",
       "      <th>Other shoe</th>\n",
       "      <th>Hairband</th>\n",
       "      <th>Flat shoes</th>\n",
       "      <th>Dog wear</th>\n",
       "      <th>Bracelet</th>\n",
       "    </tr>\n",
       "  </thead>\n",
       "  <tbody>\n",
       "    <tr>\n",
       "      <th>0</th>\n",
       "      <td>1</td>\n",
       "      <td>0</td>\n",
       "      <td>0</td>\n",
       "      <td>0</td>\n",
       "      <td>0</td>\n",
       "      <td>0</td>\n",
       "      <td>0</td>\n",
       "      <td>0</td>\n",
       "      <td>0</td>\n",
       "      <td>0</td>\n",
       "      <td>...</td>\n",
       "      <td>0</td>\n",
       "      <td>0</td>\n",
       "      <td>0</td>\n",
       "      <td>0</td>\n",
       "      <td>0</td>\n",
       "      <td>0</td>\n",
       "      <td>0</td>\n",
       "      <td>0</td>\n",
       "      <td>0</td>\n",
       "      <td>0</td>\n",
       "    </tr>\n",
       "    <tr>\n",
       "      <th>1</th>\n",
       "      <td>1</td>\n",
       "      <td>0</td>\n",
       "      <td>0</td>\n",
       "      <td>0</td>\n",
       "      <td>0</td>\n",
       "      <td>0</td>\n",
       "      <td>0</td>\n",
       "      <td>0</td>\n",
       "      <td>0</td>\n",
       "      <td>0</td>\n",
       "      <td>...</td>\n",
       "      <td>0</td>\n",
       "      <td>0</td>\n",
       "      <td>0</td>\n",
       "      <td>0</td>\n",
       "      <td>0</td>\n",
       "      <td>0</td>\n",
       "      <td>0</td>\n",
       "      <td>0</td>\n",
       "      <td>0</td>\n",
       "      <td>0</td>\n",
       "    </tr>\n",
       "    <tr>\n",
       "      <th>2</th>\n",
       "      <td>1</td>\n",
       "      <td>0</td>\n",
       "      <td>0</td>\n",
       "      <td>0</td>\n",
       "      <td>0</td>\n",
       "      <td>0</td>\n",
       "      <td>0</td>\n",
       "      <td>0</td>\n",
       "      <td>0</td>\n",
       "      <td>0</td>\n",
       "      <td>...</td>\n",
       "      <td>0</td>\n",
       "      <td>0</td>\n",
       "      <td>0</td>\n",
       "      <td>0</td>\n",
       "      <td>0</td>\n",
       "      <td>0</td>\n",
       "      <td>0</td>\n",
       "      <td>0</td>\n",
       "      <td>0</td>\n",
       "      <td>0</td>\n",
       "    </tr>\n",
       "    <tr>\n",
       "      <th>3</th>\n",
       "      <td>1</td>\n",
       "      <td>0</td>\n",
       "      <td>0</td>\n",
       "      <td>0</td>\n",
       "      <td>0</td>\n",
       "      <td>0</td>\n",
       "      <td>0</td>\n",
       "      <td>0</td>\n",
       "      <td>0</td>\n",
       "      <td>0</td>\n",
       "      <td>...</td>\n",
       "      <td>0</td>\n",
       "      <td>0</td>\n",
       "      <td>0</td>\n",
       "      <td>0</td>\n",
       "      <td>0</td>\n",
       "      <td>0</td>\n",
       "      <td>0</td>\n",
       "      <td>0</td>\n",
       "      <td>0</td>\n",
       "      <td>0</td>\n",
       "    </tr>\n",
       "    <tr>\n",
       "      <th>4</th>\n",
       "      <td>1</td>\n",
       "      <td>0</td>\n",
       "      <td>0</td>\n",
       "      <td>0</td>\n",
       "      <td>0</td>\n",
       "      <td>0</td>\n",
       "      <td>0</td>\n",
       "      <td>0</td>\n",
       "      <td>0</td>\n",
       "      <td>0</td>\n",
       "      <td>...</td>\n",
       "      <td>0</td>\n",
       "      <td>0</td>\n",
       "      <td>0</td>\n",
       "      <td>0</td>\n",
       "      <td>0</td>\n",
       "      <td>0</td>\n",
       "      <td>0</td>\n",
       "      <td>0</td>\n",
       "      <td>0</td>\n",
       "      <td>0</td>\n",
       "    </tr>\n",
       "  </tbody>\n",
       "</table>\n",
       "<p>5 rows × 141 columns</p>\n",
       "</div>"
      ],
      "text/plain": [
       "   Black  Blue  Grey  Beige  White  Brown  Mole  Khaki green  Red  Metal  ...  \\\n",
       "0      1     0     0      0      0      0     0            0    0      0  ...   \n",
       "1      1     0     0      0      0      0     0            0    0      0  ...   \n",
       "2      1     0     0      0      0      0     0            0    0      0  ...   \n",
       "3      1     0     0      0      0      0     0            0    0      0  ...   \n",
       "4      1     0     0      0      0      0     0            0    0      0  ...   \n",
       "\n",
       "   Wallet  Sandals  Garment Set  Outdoor Waistcoat  Heels  Other shoe  \\\n",
       "0       0        0            0                  0      0           0   \n",
       "1       0        0            0                  0      0           0   \n",
       "2       0        0            0                  0      0           0   \n",
       "3       0        0            0                  0      0           0   \n",
       "4       0        0            0                  0      0           0   \n",
       "\n",
       "   Hairband  Flat shoes  Dog wear  Bracelet  \n",
       "0         0           0         0         0  \n",
       "1         0           0         0         0  \n",
       "2         0           0         0         0  \n",
       "3         0           0         0         0  \n",
       "4         0           0         0         0  \n",
       "\n",
       "[5 rows x 141 columns]"
      ]
     },
     "execution_count": 68,
     "metadata": {},
     "output_type": "execute_result"
    }
   ],
   "source": [
    "article_features = pd.concat([articles[colours], articles[sections], articles[types]], axis=1)\n",
    "article_features.head()"
   ]
  },
  {
   "cell_type": "markdown",
   "id": "20898bb6",
   "metadata": {},
   "source": [
    "2) In order to make the collaborative reccomender system, we can use the cosine similarity, which is a similarity metric.\n",
    "\n",
    "To give a very quick explanation of the functionality of cosine similarity, it simply looks at the cosine angle between two vectors and the smaller it is, the higher the degree of similarity will be.\n",
    "The cosine similarity matrix has shape 6536 x 6536, which correspond to the total number of articles.\n",
    "\n",
    "With the cosine similarity matrix we are able to identify the articles that are more similar to the article of interest."
   ]
  },
  {
   "cell_type": "code",
   "execution_count": 69,
   "id": "80201bfe",
   "metadata": {},
   "outputs": [
    {
     "name": "stdout",
     "output_type": "stream",
     "text": [
      "Dimensions of our movie features cosine similarity matrix: (6536, 6536)\n"
     ]
    }
   ],
   "source": [
    "from sklearn.metrics.pairwise import cosine_similarity\n",
    "cosine_sim = cosine_similarity(article_features, article_features)\n",
    "print(f\"Dimensions of our movie features cosine similarity matrix: {cosine_sim.shape}\")"
   ]
  },
  {
   "cell_type": "markdown",
   "id": "1feb0cbe",
   "metadata": {},
   "source": [
    "3) Since we need to have some informations of the product we reccommend, the id of the product is not enough, so we need to create a dictionary that will map for each id the name of the article (in order to be more clear)."
   ]
  },
  {
   "cell_type": "code",
   "execution_count": 70,
   "id": "eafcc6f6",
   "metadata": {},
   "outputs": [],
   "source": [
    "product_dict = {}\n",
    "for i,row in articles.iterrows():\n",
    "    product_dict[row['article_id']] = {'Name': row['prod_name'], 'Color': row['colour_group_name']}"
   ]
  },
  {
   "cell_type": "markdown",
   "id": "f372cb51",
   "metadata": {},
   "source": [
    "4) The following function that retrieves the 10 most similar articles to the one that we give as input. The input is the article ID, which is unique.\n",
    "The function takes the row of the similarity matrix associated to the article ID and we sort the elements in decreasing order. Finally we can take just the items we are interested into."
   ]
  },
  {
   "cell_type": "code",
   "execution_count": 71,
   "id": "d4ac5791",
   "metadata": {},
   "outputs": [],
   "source": [
    "def get_content_based_recommendations(prod_id, n=10):\n",
    "    id = articles[articles['article_id'] == prod_id].index\n",
    "    sim_scores = np.argsort(cosine_sim[id])[0] #returns ID sorted by the values\n",
    "    sim_scores_out = list(sim_scores[::-1][1:n+1])\n",
    "\n",
    "    if prod_id in sim_scores_out:\n",
    "        sim_scores_out = list(sim_scores[::-1][1:n+2])\n",
    "        sim_scores_out.remove(prod_id)\n",
    "         #flip the output to get the IDs in descending order\n",
    "    \n",
    "    print(f\"Recommendations for {product_dict[prod_id]['Color']} {product_dict[prod_id]['Name']} (Id: {prod_id}):\\n\")\n",
    "    for i in sim_scores_out:\n",
    "        print(f\"\\n{product_dict[i]['Color']} {product_dict[i]['Name']} (Id: {i})\")\n",
    "    "
   ]
  },
  {
   "cell_type": "code",
   "execution_count": 72,
   "id": "e83cd139",
   "metadata": {},
   "outputs": [
    {
     "name": "stdout",
     "output_type": "stream",
     "text": [
      "Recommendations for White 3p Sneaker Socks (Id: 20):\n",
      "\n",
      "\n",
      "White Quickdry 5p shaftless (Id: 703)\n",
      "\n",
      "White Short 5p Socks(1) (Id: 4673)\n",
      "\n",
      "White 7p Basic Shaftless (Id: 116)\n",
      "\n",
      "White 1p Fun Socks (Id: 2243)\n",
      "\n",
      "White 1p Short Socks (Id: 2251)\n",
      "\n",
      "White 1p Short Socks (Id: 2252)\n",
      "\n",
      "White Mini Trainer 5p Socks (Id: 661)\n",
      "\n",
      "White Sportsneaker 3p socks (Id: 69)\n",
      "\n",
      "White 1p Shaftless (Id: 4135)\n",
      "\n",
      "White 1p lurex socks (Id: 6506)\n"
     ]
    }
   ],
   "source": [
    "prod_name = 20\n",
    "get_content_based_recommendations(prod_name,10)"
   ]
  },
  {
   "cell_type": "markdown",
   "id": "ea9227fe",
   "metadata": {},
   "source": [
    "We have noticed that there is the possibility for the input product to appear in the list of suggested articles. We have decided to solve this issue in this way:"
   ]
  },
  {
   "cell_type": "code",
   "execution_count": 73,
   "id": "8117a039",
   "metadata": {},
   "outputs": [
    {
     "name": "stdout",
     "output_type": "stream",
     "text": [
      "Recommendations for Beige Box 4p Kneehighs (Id: 15):\n",
      "\n",
      "\n",
      "Beige Support 20 den 1p tights (Id: 158)\n",
      "\n",
      "Beige Control Top 15 den 1p Tights (Id: 190)\n",
      "\n",
      "Beige Bare legs Support (Id: 104)\n",
      "\n",
      "Beige Mama Support 30 den 1p Tights (Id: 113)\n",
      "\n",
      "Beige 20 den 2p Tights (Id: 51)\n",
      "\n",
      "Black Geo flower 1p tights (Id: 3384)\n",
      "\n",
      "Black High waist 100den 1p (Id: 1988)\n",
      "\n",
      "Black Julie Seam At Back 1p tights (Id: 763)\n",
      "\n",
      "Beige LW (J) VERONIKA Consc Trs (Id: 5735)\n",
      "\n",
      "Black Mama 40 Den 2p Tights Consciou (Id: 5629)\n"
     ]
    }
   ],
   "source": [
    "prod_name = 15\n",
    "get_content_based_recommendations(prod_name,10)"
   ]
  },
  {
   "cell_type": "markdown",
   "id": "e72ad04b",
   "metadata": {},
   "source": [
    "# USER-BASED FILTERING RECOMMENDER"
   ]
  },
  {
   "cell_type": "markdown",
   "id": "484a0f87",
   "metadata": {},
   "source": [
    "The second recommender we're going to use is the user-based.\n",
    "An important feature in markets is the users similiarity, that can lead us to suggest articles basing on possible links between users.\n",
    "\n",
    "1) Here we create a new dataframe where we have all the purchases made by each customers."
   ]
  },
  {
   "cell_type": "code",
   "execution_count": 74,
   "id": "7baa18b8",
   "metadata": {},
   "outputs": [
    {
     "data": {
      "text/html": [
       "<div>\n",
       "<style scoped>\n",
       "    .dataframe tbody tr th:only-of-type {\n",
       "        vertical-align: middle;\n",
       "    }\n",
       "\n",
       "    .dataframe tbody tr th {\n",
       "        vertical-align: top;\n",
       "    }\n",
       "\n",
       "    .dataframe thead th {\n",
       "        text-align: right;\n",
       "    }\n",
       "</style>\n",
       "<table border=\"1\" class=\"dataframe\">\n",
       "  <thead>\n",
       "    <tr style=\"text-align: right;\">\n",
       "      <th></th>\n",
       "      <th>customer_id</th>\n",
       "      <th>article_id</th>\n",
       "      <th>transactions</th>\n",
       "    </tr>\n",
       "  </thead>\n",
       "  <tbody>\n",
       "    <tr>\n",
       "      <th>0</th>\n",
       "      <td>0</td>\n",
       "      <td>463</td>\n",
       "      <td>1</td>\n",
       "    </tr>\n",
       "    <tr>\n",
       "      <th>1</th>\n",
       "      <td>0</td>\n",
       "      <td>5571</td>\n",
       "      <td>1</td>\n",
       "    </tr>\n",
       "    <tr>\n",
       "      <th>2</th>\n",
       "      <td>0</td>\n",
       "      <td>6120</td>\n",
       "      <td>1</td>\n",
       "    </tr>\n",
       "    <tr>\n",
       "      <th>3</th>\n",
       "      <td>0</td>\n",
       "      <td>6440</td>\n",
       "      <td>1</td>\n",
       "    </tr>\n",
       "    <tr>\n",
       "      <th>4</th>\n",
       "      <td>1</td>\n",
       "      <td>617</td>\n",
       "      <td>1</td>\n",
       "    </tr>\n",
       "    <tr>\n",
       "      <th>...</th>\n",
       "      <td>...</td>\n",
       "      <td>...</td>\n",
       "      <td>...</td>\n",
       "    </tr>\n",
       "    <tr>\n",
       "      <th>306632</th>\n",
       "      <td>41252</td>\n",
       "      <td>350</td>\n",
       "      <td>1</td>\n",
       "    </tr>\n",
       "    <tr>\n",
       "      <th>306633</th>\n",
       "      <td>41252</td>\n",
       "      <td>1184</td>\n",
       "      <td>1</td>\n",
       "    </tr>\n",
       "    <tr>\n",
       "      <th>306634</th>\n",
       "      <td>41252</td>\n",
       "      <td>1340</td>\n",
       "      <td>1</td>\n",
       "    </tr>\n",
       "    <tr>\n",
       "      <th>306635</th>\n",
       "      <td>41252</td>\n",
       "      <td>1974</td>\n",
       "      <td>1</td>\n",
       "    </tr>\n",
       "    <tr>\n",
       "      <th>306636</th>\n",
       "      <td>41252</td>\n",
       "      <td>2166</td>\n",
       "      <td>1</td>\n",
       "    </tr>\n",
       "  </tbody>\n",
       "</table>\n",
       "<p>306637 rows × 3 columns</p>\n",
       "</div>"
      ],
      "text/plain": [
       "        customer_id  article_id  transactions\n",
       "0                 0         463             1\n",
       "1                 0        5571             1\n",
       "2                 0        6120             1\n",
       "3                 0        6440             1\n",
       "4                 1         617             1\n",
       "...             ...         ...           ...\n",
       "306632        41252         350             1\n",
       "306633        41252        1184             1\n",
       "306634        41252        1340             1\n",
       "306635        41252        1974             1\n",
       "306636        41252        2166             1\n",
       "\n",
       "[306637 rows x 3 columns]"
      ]
     },
     "execution_count": 74,
     "metadata": {},
     "output_type": "execute_result"
    }
   ],
   "source": [
    "ua_transactions = transactions.groupby(['customer_id', 'article_id']).count().reset_index()\n",
    "ua_transactions.columns = ['customer_id', 'article_id', 'transactions']\n",
    "ua_transactions"
   ]
  },
  {
   "cell_type": "markdown",
   "id": "61878d8b",
   "metadata": {},
   "source": [
    "2) Now we are going to build an 'utility' matrix with customer_id as column index and article_id as row index.\n",
    "\n",
    "The values inside the 'utility' matrix represent how many times a specific customer bought a specific article.\n",
    "This matrix will have many unobserved entries because each user purchases only a limited amount of products."
   ]
  },
  {
   "cell_type": "code",
   "execution_count": 75,
   "id": "89b84afb",
   "metadata": {},
   "outputs": [],
   "source": [
    "N = ua_transactions['customer_id'].nunique()\n",
    "M = ua_transactions['article_id'].nunique()"
   ]
  },
  {
   "cell_type": "markdown",
   "id": "3f32eef7",
   "metadata": {},
   "source": [
    "In the following code, we use dictionaries in order to map each row and column of the utility matrix to its correspondent article ID. For instance, article mapper maps the article ID to its index and article_inv_mapper does the same in the other way around."
   ]
  },
  {
   "cell_type": "code",
   "execution_count": 76,
   "id": "4cf9637e",
   "metadata": {},
   "outputs": [],
   "source": [
    "article_mapper = dict(zip(np.unique(ua_transactions[\"article_id\"]), list(range(M))))\n",
    "article_inv_mapper = dict(zip(list(range(M)), np.unique(ua_transactions[\"article_id\"])))\n",
    "\n",
    "article_index = [article_mapper[i] for i in ua_transactions['article_id']]"
   ]
  },
  {
   "cell_type": "markdown",
   "id": "b17dc7df",
   "metadata": {},
   "source": [
    "The function we will use is: 'crs_matrix', which stands for compressed row storage."
   ]
  },
  {
   "cell_type": "code",
   "execution_count": 77,
   "id": "7e255dee",
   "metadata": {},
   "outputs": [],
   "source": [
    "from scipy.sparse import csr_matrix\n",
    "\n",
    "X = csr_matrix((ua_transactions[\"transactions\"], (article_index, ua_transactions['article_id'])), shape=(M, N))"
   ]
  },
  {
   "cell_type": "markdown",
   "id": "ecfae3f1",
   "metadata": {},
   "source": [
    "3) In order to check the integrity of our matrix, we have to compute the sparsity.\n",
    "We know that user-item matrices are usually sparse."
   ]
  },
  {
   "cell_type": "code",
   "execution_count": 78,
   "id": "e2365a7e",
   "metadata": {},
   "outputs": [
    {
     "name": "stdout",
     "output_type": "stream",
     "text": [
      "Matrix sparsity: 0.0024%\n"
     ]
    }
   ],
   "source": [
    "sparsity = X.count_nonzero()/(X.shape[0]*X.shape[1])\n",
    "print(f\"Matrix sparsity: {round(sparsity*100,4)}%\")"
   ]
  },
  {
   "cell_type": "markdown",
   "id": "fc740291",
   "metadata": {},
   "source": [
    "The value of sparsity of our matrix is very low, but this result was expected. Usually, it is good for the value of the percentage to be not lower than 0.5%.\n",
    "\n",
    "4) To try to increase the sparsity of our matrix and in order to improve our model, we are going to ignore all the customers that have bought a low amount of articles. This is beacuse the columns of these customers will have many zero elements. \n",
    "Furthermore, another reason for this fact, is that people who buy less articles are not incentivated to buy more products. "
   ]
  },
  {
   "cell_type": "code",
   "execution_count": 79,
   "id": "e0aa4293",
   "metadata": {},
   "outputs": [],
   "source": [
    "new_customer_transactions_count_df = customer_transactions_count_df[customer_transactions_count_df['Number of Transactions'] > 11]"
   ]
  },
  {
   "cell_type": "code",
   "execution_count": 80,
   "id": "350ee565",
   "metadata": {
    "scrolled": true
   },
   "outputs": [
    {
     "data": {
      "text/html": [
       "<div>\n",
       "<style scoped>\n",
       "    .dataframe tbody tr th:only-of-type {\n",
       "        vertical-align: middle;\n",
       "    }\n",
       "\n",
       "    .dataframe tbody tr th {\n",
       "        vertical-align: top;\n",
       "    }\n",
       "\n",
       "    .dataframe thead th {\n",
       "        text-align: right;\n",
       "    }\n",
       "</style>\n",
       "<table border=\"1\" class=\"dataframe\">\n",
       "  <thead>\n",
       "    <tr style=\"text-align: right;\">\n",
       "      <th></th>\n",
       "      <th>Customer ID</th>\n",
       "      <th>Number of Transactions</th>\n",
       "    </tr>\n",
       "  </thead>\n",
       "  <tbody>\n",
       "    <tr>\n",
       "      <th>18574</th>\n",
       "      <td>16682</td>\n",
       "      <td>12</td>\n",
       "    </tr>\n",
       "    <tr>\n",
       "      <th>30677</th>\n",
       "      <td>10935</td>\n",
       "      <td>12</td>\n",
       "    </tr>\n",
       "    <tr>\n",
       "      <th>10611</th>\n",
       "      <td>13660</td>\n",
       "      <td>12</td>\n",
       "    </tr>\n",
       "    <tr>\n",
       "      <th>30653</th>\n",
       "      <td>10124</td>\n",
       "      <td>12</td>\n",
       "    </tr>\n",
       "    <tr>\n",
       "      <th>10623</th>\n",
       "      <td>13805</td>\n",
       "      <td>12</td>\n",
       "    </tr>\n",
       "    <tr>\n",
       "      <th>...</th>\n",
       "      <td>...</td>\n",
       "      <td>...</td>\n",
       "    </tr>\n",
       "    <tr>\n",
       "      <th>5953</th>\n",
       "      <td>33914</td>\n",
       "      <td>85</td>\n",
       "    </tr>\n",
       "    <tr>\n",
       "      <th>27086</th>\n",
       "      <td>13753</td>\n",
       "      <td>88</td>\n",
       "    </tr>\n",
       "    <tr>\n",
       "      <th>4445</th>\n",
       "      <td>16472</td>\n",
       "      <td>92</td>\n",
       "    </tr>\n",
       "    <tr>\n",
       "      <th>35275</th>\n",
       "      <td>36953</td>\n",
       "      <td>95</td>\n",
       "    </tr>\n",
       "    <tr>\n",
       "      <th>38291</th>\n",
       "      <td>9197</td>\n",
       "      <td>104</td>\n",
       "    </tr>\n",
       "  </tbody>\n",
       "</table>\n",
       "<p>8088 rows × 2 columns</p>\n",
       "</div>"
      ],
      "text/plain": [
       "       Customer ID  Number of Transactions\n",
       "18574        16682                      12\n",
       "30677        10935                      12\n",
       "10611        13660                      12\n",
       "30653        10124                      12\n",
       "10623        13805                      12\n",
       "...            ...                     ...\n",
       "5953         33914                      85\n",
       "27086        13753                      88\n",
       "4445         16472                      92\n",
       "35275        36953                      95\n",
       "38291         9197                     104\n",
       "\n",
       "[8088 rows x 2 columns]"
      ]
     },
     "execution_count": 80,
     "metadata": {},
     "output_type": "execute_result"
    }
   ],
   "source": [
    "new_customer_transactions_count_df.sort_values(by='Number of Transactions', ascending = True)"
   ]
  },
  {
   "cell_type": "code",
   "execution_count": 81,
   "id": "a38a44d4",
   "metadata": {},
   "outputs": [],
   "source": [
    "M2 = ua_transactions['article_id'].nunique()\n",
    "N2 = new_customer_transactions_count_df['Customer ID'].nunique()"
   ]
  },
  {
   "cell_type": "code",
   "execution_count": 82,
   "id": "9019eccd",
   "metadata": {},
   "outputs": [],
   "source": [
    "X2 = csr_matrix((ua_transactions[\"transactions\"], (article_index, ua_transactions['article_id'])), shape=(M2, N2))"
   ]
  },
  {
   "cell_type": "code",
   "execution_count": 83,
   "id": "3e707ae1",
   "metadata": {},
   "outputs": [
    {
     "name": "stdout",
     "output_type": "stream",
     "text": [
      "Matrix sparsity: 0.0124%\n"
     ]
    }
   ],
   "source": [
    "sparsity2 = X2.count_nonzero()/(X2.shape[0]*X2.shape[1])\n",
    "print(f\"Matrix sparsity: {round(sparsity2*100,4)}%\")"
   ]
  },
  {
   "cell_type": "markdown",
   "id": "34040e6b",
   "metadata": {},
   "source": [
    "The latter value is the best we can achieve. We have decided to stop to reduce our matrix because reducing it more would lead to a biased recommendation system. We are aware of the fact that this is not the best algorithm in our case because the matrix is really too sparse. We discard all the customers that have the number of transactions higher than 11. Increasing this number would lead to a too small dataset."
   ]
  },
  {
   "cell_type": "markdown",
   "id": "bf2ea92b",
   "metadata": {},
   "source": [
    "5) Now we can start building our reccommender algorithm. We use KNN algorithm.\n",
    "We are working in a M-dimensional space where M represents the number of movies in our X matrix.\n",
    "We use KNN to build our reccomendation system."
   ]
  },
  {
   "cell_type": "markdown",
   "id": "6e9af57c",
   "metadata": {},
   "source": [
    "The function finds the k-nearest neighbours for a given article id and returns a list of k similar article ID's.\n",
    "- The input is the article_id of the article of interest;\n",
    "- X is the user-item utility matrix we have built above;\n",
    "- k is the number of similar movies to be retrieved;\n",
    "- metric is the distance metric for kNN calculations (in our case is cosine similarity)."
   ]
  },
  {
   "cell_type": "code",
   "execution_count": 84,
   "id": "3b36bfe9",
   "metadata": {},
   "outputs": [],
   "source": [
    "from sklearn.neighbors import NearestNeighbors\n",
    "\n",
    "def find_similar_articles(article_id, X, k, metric='cosine'):\n",
    "    neighbour_ids = []\n",
    "    article_ind = article_mapper[article_id]\n",
    "    article_vec = X[article_ind]\n",
    "    kNN = NearestNeighbors(n_neighbors=k+1, algorithm=\"brute\", metric=metric)\n",
    "    kNN.fit(X)\n",
    "    neighbour = kNN.kneighbors(article_vec, return_distance=False)[0]\n",
    "    neighbour_ids = [article_inv_mapper[n] for n in neighbour[1:]]\n",
    "\n",
    "    return neighbour_ids"
   ]
  },
  {
   "cell_type": "code",
   "execution_count": 85,
   "id": "be16ca50",
   "metadata": {},
   "outputs": [
    {
     "name": "stdout",
     "output_type": "stream",
     "text": [
      "Since you bought 'Black 20 den 1p Stockings' (Id: 0), the products that you could like are:\n",
      "\n",
      "Light Pink Sesame dress (Id: 4360)\n",
      "\n",
      "Yellow Miffi cross (Id: 4362)\n",
      "\n",
      "Dark Blue Botkyrka tank (Id: 4357)\n",
      "\n",
      "Light Beige Botkyrka tank (Id: 4358)\n",
      "\n",
      "White Botkyrka tank (Id: 4359)\n",
      "\n",
      "Light Beige Dress set LS (Id: 4355)\n",
      "\n",
      "Light Beige Tomte cross bag (Id: 4365)\n",
      "\n",
      "Black Tomte cross bag (Id: 4364)\n",
      "\n",
      "Black Miffi cross (Id: 4361)\n",
      "\n",
      "Black Mallorca straw cross (Id: 4363)\n",
      "\n"
     ]
    }
   ],
   "source": [
    "article_name = dict(zip(articles['article_id'], articles['prod_name']))\n",
    "\n",
    "article_id = 0\n",
    "\n",
    "similar_ids = find_similar_articles(article_id, X, 10, metric='cosine')\n",
    "\n",
    "\n",
    "prod_name = product_dict[article_id]\n",
    "\n",
    "print(f\"Since you bought '{product_dict[article_id]['Color']} {product_dict[article_id]['Name']}' (Id: {article_id}), the products that you could like are:\\n\")\n",
    "for i in similar_ids:\n",
    "    print(f\"{product_dict[i]['Color']} {product_dict[i]['Name']} (Id: {i})\\n\")\n",
    "          "
   ]
  },
  {
   "cell_type": "markdown",
   "id": "4f6be6f0",
   "metadata": {},
   "source": [
    "# NEURAL NETWORK"
   ]
  },
  {
   "cell_type": "markdown",
   "id": "c74ca53e",
   "metadata": {},
   "source": [
    "To build a further user-recommendation system, we decided to avail ourselves of neural networks and matrix factorization. "
   ]
  },
  {
   "cell_type": "markdown",
   "id": "d3e48f0b",
   "metadata": {},
   "source": [
    "What is matrix factorization? This method aims at factorizing the transaction matrix $A$ into the product of a customer embedding matrix $C$ and article embedding matrix $V$, such that $A \\approx CV^\\top$ with\n",
    "$C = \\begin{bmatrix} c_{1} \\\\  \\vdots \\\\ c_{N} \\end{bmatrix}$ and\n",
    "$V = \\begin{bmatrix} v_{1} \\\\  \\vdots \\\\ v_{M} \\end{bmatrix}$.\n",
    "\n",
    "Here\n",
    "- $N$ is the number of customers,\n",
    "- $M$ is the number of articles,\n",
    "- $A_{ij}$ is the transaction in which $j$th article is bought by the $i$th customer,\n",
    "- each row $C_i$ is a $d$-dimensional vector (embedding) representing customer $i$,\n",
    "- each row $V_j$ is a $d$-dimensional vector (embedding) representing article $j$,\n",
    "- the prediction of the model for the $(i, j)$ pair is the dot product $\\langle C_i, V_j \\rangle$."
   ]
  },
  {
   "cell_type": "code",
   "execution_count": 91,
   "id": "be370b2f",
   "metadata": {},
   "outputs": [],
   "source": [
    "import tensorflow as tf\n",
    "\n",
    "N = ua_transactions['customer_id'].nunique()\n",
    "M = ua_transactions['article_id'].nunique()\n",
    "\n",
    "customer_mapper = dict(zip(np.unique(ua_transactions[\"customer_id\"]), list(range(N))))\n",
    "article_mapper = dict(zip(np.unique(ua_transactions[\"article_id\"]), list(range(M))))\n",
    "\n",
    "ua_transactions['customer_id'] = ua_transactions['customer_id'].map(customer_mapper).astype(int)\n",
    "ua_transactions['article_id'] = ua_transactions['article_id'].map(article_mapper).astype(int)\n",
    "articles['article_id'] = articles['article_id'].map(article_mapper).astype(int)\n",
    "indices = ua_transactions[['customer_id', 'article_id']].values\n",
    "values = ua_transactions['transactions'].values\n",
    "\n",
    "A = tf.SparseTensor(\n",
    "        indices=indices,\n",
    "        values=values,\n",
    "        dense_shape=[N, M])"
   ]
  },
  {
   "cell_type": "markdown",
   "id": "a47568e0",
   "metadata": {},
   "source": [
    "### LOSS FUNCTION"
   ]
  },
  {
   "cell_type": "markdown",
   "id": "a152e0a2",
   "metadata": {},
   "source": [
    "The loss function takes as input:\n",
    "- sparse_transactions: SparseTensor transaction matrix of dense_shape [N, M]\n",
    "- C user_embeddings: dense Tensor C of shape [N, k] where k is the embedding dimension, such that C_i is the embedding of user i.\n",
    "- V movie_embeddings: dense Tensor V of shape [M, k] where k is the embedding dimension, such that V_j is the embedding of movie j.\n",
    "- lambdar: regularization coefficient for l2 term.\n",
    "- lambdag: regularization coefficient for gravity term.\n",
    "    \n",
    "The loss fucntion outputs:\n",
    "- A scalar Tensor representing the MSE between the true transactions and the model's predictions plus the regularization."
   ]
  },
  {
   "cell_type": "markdown",
   "id": "5f736977",
   "metadata": {},
   "source": [
    "The model does not exaclty match the transaction matrix $A$, but we need to approximate it with a low-rank product $CV^\\top$. We will use the MSE of observed entries to measure the approximation error. \n",
    "\n",
    "From lecture we know that the Mean Square Error is particularly troublesome for recommender systems for the problem of folding, meaning the model cannot learn how to place the embeddings of irrelevant transactions. That is why we have to use regularization in. We will use two types of regularization:\n",
    "- Regularization of the model parameters (l2 term).\n",
    "- Add the gravity term in order to push the prediction of any pair towards zero.\n",
    "The two coefficients for regularization in the total loss function are useful hyper-parameters."
   ]
  },
  {
   "cell_type": "code",
   "execution_count": 92,
   "id": "11b732ce",
   "metadata": {},
   "outputs": [],
   "source": [
    "def loss_fn(sparse_transactions, C, V, lambdar, lambdag):\n",
    "    predictions = tf.reduce_sum(\n",
    "    tf.gather(C, sparse_transactions.indices[:, 0]) *\n",
    "    tf.gather(C, sparse_transactions.indices[:, 1]),\n",
    "    axis=1)\n",
    "    \n",
    "    mse = tf.losses.mean_squared_error(sparse_transactions.values, predictions)\n",
    "\n",
    "\n",
    "    ltwo = (tf.reduce_sum(C*C)/C.shape[0] + \n",
    "                            tf.reduce_sum(V*V)/V.shape[0])\n",
    "    \n",
    "    gravity =  1. / (C.shape[0]*V.shape[0]) * tf.reduce_sum(\n",
    "        tf.matmul(C, C, transpose_a=True) * tf.matmul(V, V, transpose_a=True))\n",
    "\n",
    "\n",
    "    return mse + lambdar * ltwo + lambdag * gravity\n"
   ]
  },
  {
   "cell_type": "markdown",
   "id": "e32aa203",
   "metadata": {},
   "source": [
    "The following function splits the data into training and test sets. "
   ]
  },
  {
   "cell_type": "code",
   "execution_count": 93,
   "id": "19843704",
   "metadata": {},
   "outputs": [],
   "source": [
    "def split_dataframe(df, holdout_fraction=0.1):\n",
    "    \"\"\"Splits a DataFrame into training and test sets.\n",
    "    Args:\n",
    "    df: a dataframe.\n",
    "    holdout_fraction: fraction of dataframe rows to use in the test set.\n",
    "    Returns:\n",
    "    train: dataframe for training\n",
    "    test: dataframe for testing\n",
    "    \"\"\"\n",
    "    test = df.sample(frac=holdout_fraction, replace=False)\n",
    "    train = df[~df.index.isin(test.index)]\n",
    "    return train, test"
   ]
  },
  {
   "cell_type": "markdown",
   "id": "de6d0551",
   "metadata": {},
   "source": [
    "Wherease, this function builds sparse tensors."
   ]
  },
  {
   "cell_type": "code",
   "execution_count": 94,
   "id": "53bb154b",
   "metadata": {},
   "outputs": [],
   "source": [
    "def build_rating_sparse_tensor(transactions):\n",
    "    N = ua_transactions['customer_id'].max() + 1\n",
    "    M = ua_transactions['article_id'].max() + 1\n",
    "    indices = ua_transactions[['customer_id', 'article_id']].values\n",
    "    values = ua_transactions['transactions'].values\n",
    "    return tf.SparseTensor(\n",
    "        indices=indices,\n",
    "        values=values,\n",
    "        dense_shape=[N, M])"
   ]
  },
  {
   "cell_type": "markdown",
   "id": "ec6657eb",
   "metadata": {},
   "source": [
    "We are now ready to effectively split the transactions dataframe into train and test and we initialize the embeddings using a normal distribution."
   ]
  },
  {
   "cell_type": "code",
   "execution_count": 95,
   "id": "c6e32030",
   "metadata": {},
   "outputs": [],
   "source": [
    "train_transaction, test_transaction = split_dataframe(ua_transactions)\n",
    "\n",
    "A_train = build_rating_sparse_tensor(train_transaction)\n",
    "A_test = build_rating_sparse_tensor(test_transaction)\n",
    "\n",
    "C = tf.Variable(tf.random.normal(\n",
    "    [A_train.dense_shape[0], 8], stddev=.1))\n",
    "V = tf.Variable(tf.random.normal(\n",
    "    [A_train.dense_shape[1], 8], stddev=.1))"
   ]
  },
  {
   "cell_type": "code",
   "execution_count": 97,
   "id": "b9bc6fee",
   "metadata": {},
   "outputs": [],
   "source": [
    "trainable_weights = [C, V]\n",
    "\n",
    "optimizer = tf.optimizers.Adam(learning_rate=0.1)"
   ]
  },
  {
   "cell_type": "code",
   "execution_count": 98,
   "id": "717252dd",
   "metadata": {},
   "outputs": [
    {
     "data": {
      "text/plain": [
       "[<matplotlib.lines.Line2D at 0x7f941110dfd0>]"
      ]
     },
     "execution_count": 98,
     "metadata": {},
     "output_type": "execute_result"
    },
    {
     "data": {
      "image/png": "[encoded data removed]",
      "text/plain": [
       "<Figure size 640x480 with 1 Axes>"
      ]
     },
     "metadata": {},
     "output_type": "display_data"
    }
   ],
   "source": [
    "tr_losses = []\n",
    "te_losses = []\n",
    "for step in range(100):\n",
    "    with tf.GradientTape() as tape:\n",
    "        loss = loss_fn(A_train, C, V, lambdar=0.001, lambdag=0.1)\n",
    "    grads = tape.gradient(loss, trainable_weights)\n",
    "    optimizer.apply_gradients(zip(grads, trainable_weights))\n",
    "    tr_losses.append(loss)\n",
    "    te_losses.append(loss_fn(A_test, C, V, lambdar=0.0001, lambdag=0.1))\n",
    "\n",
    "plt.plot(tr_losses)\n",
    "plt.plot(te_losses) "
   ]
  },
  {
   "cell_type": "markdown",
   "id": "debdf6b3",
   "metadata": {},
   "source": [
    "We can now measure the scores, for which we have different options of similarity measures:\n",
    "We will use the following:\n",
    "- dot product: the score of item j is $\\langle c, V_j \\rangle$.\n",
    "- cosine: the score of item j is $\\frac{\\langle c, V_j \\rangle}{\\|c\\|\\|V_j\\|}$."
   ]
  },
  {
   "cell_type": "markdown",
   "id": "827d2284",
   "metadata": {},
   "source": [
    "The following function computes the scores of the candidates given a query.\n",
    "The inputs of the function are:\n",
    "- query_embedding: a vector of shape [k], representing the query embedding.\n",
    "- item_embeddings: a matrix of shape [N, k], such that row i is the embedding of item i.\n",
    "- measure: a string specifying the similarity measure to be used (dot,cosine)\n",
    "\n",
    "The function outputs the a vector of shape N, such that scores[i] is the score of item i."
   ]
  },
  {
   "cell_type": "code",
   "execution_count": 105,
   "id": "967e8838",
   "metadata": {},
   "outputs": [],
   "source": [
    "def compute_scores(query_embedding, item_embeddings, measure='dot'):\n",
    "    c = query_embedding\n",
    "    V = item_embeddings\n",
    "    if measure == 'cosine':\n",
    "        V = V / np.linalg.norm(V, axis=1, keepdims=True)\n",
    "        c = c / np.linalg.norm(c)\n",
    "    scores = tf.experimental.numpy.dot(c, V.numpy().transpose())\n",
    "    return scores"
   ]
  },
  {
   "cell_type": "code",
   "execution_count": 108,
   "id": "cf4eb59c",
   "metadata": {},
   "outputs": [],
   "source": [
    "def customer_recommendations(C,V,id, measure='dot', exclude_rated=True, k=10):\n",
    "    scores = compute_scores(C[id], V, measure)\n",
    "    score_key = measure + 'score'\n",
    "    df = pd.DataFrame({\n",
    "        score_key: list(scores.numpy()),\n",
    "        'article_id': articles['article_id'],\n",
    "        'prod_name': articles['prod_name'],\n",
    "    })\n",
    "    if exclude_rated:       # here we remove articles that are already bought\n",
    "      bought_articles = ua_transactions[ua_transactions.customer_id == id][\"article_id\"].values\n",
    "      df = df[df.article_id.apply(lambda article_id: article_id not in bought_articles)]\n",
    "    final_result = df.sort_values([score_key], ascending=False).head(k)  \n",
    "    \n",
    "    already_bought = ua_transactions[ua_transactions['customer_id'] == id]\n",
    "    already_bought_list = list(already_bought['article_id'])\n",
    "    \n",
    "    print(f\"Recommendations for customer: {id}:\\n\")\n",
    "    print(f\"The user {id} already bought:\")\n",
    "    \n",
    "    for i in already_bought_list:\n",
    "        print(f\"\\n{product_dict[i]['Color']} {product_dict[i]['Name']} (Id: {i})\")\n",
    "    print(\"\\n\\n\")\n",
    "    \n",
    "    final_result_list = list(final_result['article_id'])\n",
    "    \n",
    "    print(f\"The more recommended {k} articles for the user are:\")\n",
    "    \n",
    "    for i in final_result_list:\n",
    "        print(f\"\\n{product_dict[i]['Color']} {product_dict[i]['Name']} (Id: {i})\")\n",
    "    \n",
    "    return "
   ]
  },
  {
   "cell_type": "code",
   "execution_count": 110,
   "id": "7c91ce6d",
   "metadata": {},
   "outputs": [
    {
     "name": "stdout",
     "output_type": "stream",
     "text": [
      "Recommendations for customer: 3:\n",
      "\n",
      "The user 3 already bought:\n",
      "\n",
      "Off White Sky HW jogger (Id: 1540)\n",
      "\n",
      "Blue Sky HW jogger (Id: 1542)\n",
      "\n",
      "Blue Therese tee (Id: 2209)\n",
      "\n",
      "Grey Ellen 3p thong (Id: 2543)\n",
      "\n",
      "Black Uma Softbra Rib Mia Conscious (Id: 5192)\n",
      "\n",
      "White Uma Softbra Rib Mia Conscious (Id: 5194)\n",
      "\n",
      "Black Minami (Id: 5235)\n",
      "\n",
      "\n",
      "\n",
      "The more recommended 5 articles for the user are:\n",
      "\n",
      "Beige Roxy Blouse. (Id: 6266)\n",
      "\n",
      "White Thistle wrap lace playsuit (Id: 4968)\n",
      "\n",
      "Black STARK FUR COAT (Id: 4069)\n",
      "\n",
      "Off White Ben zip hoodie (Id: 2706)\n",
      "\n",
      "Dark Green Penny Wide Culotte (Id: 1319)\n"
     ]
    }
   ],
   "source": [
    "k = 5\n",
    "customer_recommendations(C,V,3,measure='dot', k=5)"
   ]
  },
  {
   "cell_type": "code",
   "execution_count": 115,
   "id": "4d0fee7d",
   "metadata": {
    "scrolled": true
   },
   "outputs": [
    {
     "name": "stdout",
     "output_type": "stream",
     "text": [
      "Recommendations for customer: 0:\n",
      "\n",
      "The user 0 already bought:\n",
      "\n",
      "Blue Beverly HW Loose Mom Fit Dnm (Id: 463)\n",
      "\n",
      "Purple Jenka sweatshirt (Id: 5571)\n",
      "\n",
      "Light Purple Clara jogger (Id: 6120)\n",
      "\n",
      "Black Piper sweatshirt (Id: 6440)\n",
      "\n",
      "\n",
      "\n",
      "The more recommended 10 articles for the user are:\n",
      "\n",
      "White Kanta RW Slacks (Id: 1641)\n",
      "\n",
      "Black Doris new (Id: 5371)\n",
      "\n",
      "Dark Blue ESSENTIAL LOVA LINEN (Id: 2603)\n",
      "\n",
      "Black Jenka sweatshirt (Id: 5569)\n",
      "\n",
      "Dark Blue Burcu Styling Scarf (Id: 1720)\n",
      "\n",
      "Light Blue Jade HW Skinny Denim TRS (Id: 1007)\n",
      "\n",
      "Light Pink Gale Blouse (Id: 3720)\n",
      "\n",
      "Light Grey Regina SL Rib set (J) (Id: 6175)\n",
      "\n",
      "White Elie (Id: 4014)\n",
      "\n",
      "White Minja 2.0 (Id: 3622)\n"
     ]
    }
   ],
   "source": [
    "k = 5\n",
    "customer_recommendations(C,V,0, measure='cosine', k=10)"
   ]
  },
  {
   "cell_type": "code",
   "execution_count": null,
   "id": "9835ed0e",
   "metadata": {},
   "outputs": [],
   "source": []
  }
 ],
 "metadata": {
  "kernelspec": {
   "display_name": "Python 3 (ipykernel)",
   "language": "python",
   "name": "python3"
  },
  "language_info": {
   "codemirror_mode": {
    "name": "ipython",
    "version": 3
   },
   "file_extension": ".py",
   "mimetype": "text/x-python",
   "name": "python",
   "nbconvert_exporter": "python",
   "pygments_lexer": "ipython3",
   "version": "3.9.12"
  },
  "vscode": {
   "interpreter": {
    "hash": "aee8b7b246df8f9039afb4144a1f6fd8d2ca17a180786b69acc140d282b71a49"
   }
  }
 },
 "nbformat": 4,
 "nbformat_minor": 5
}
