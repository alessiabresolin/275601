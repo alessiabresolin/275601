{
 "cells": [
  {
   "cell_type": "code",
   "execution_count": 5,
   "id": "e51694df",
   "metadata": {},
   "outputs": [],
   "source": [
    "import numpy as np\n",
    "import pandas as pd\n",
    "import sklearn\n",
    "import matplotlib.pyplot as plt\n",
    "import seaborn as sns"
   ]
  },
  {
   "cell_type": "markdown",
   "id": "3014e6ec",
   "metadata": {},
   "source": [
    "# CUSTOMERS"
   ]
  },
  {
   "cell_type": "markdown",
   "id": "893b32cb",
   "metadata": {},
   "source": [
    "1) First of all, we import our dataset about customers. We have the unique identifier for each customer and its age. Furthermore, we know whether he or she is subscribed to the newsletter (1 if yes, 0 if no) and if he or she is part of the special club member.\n",
    "\n",
    "We have a look to how data are structured, printing the first five items and we get a general idea of the quantity of the data, using the shape function."
   ]
  },
  {
   "cell_type": "code",
   "execution_count": 6,
   "id": "757a902a",
   "metadata": {},
   "outputs": [
    {
     "data": {
      "text/html": [
       "<div>\n",
       "<style scoped>\n",
       "    .dataframe tbody tr th:only-of-type {\n",
       "        vertical-align: middle;\n",
       "    }\n",
       "\n",
       "    .dataframe tbody tr th {\n",
       "        vertical-align: top;\n",
       "    }\n",
       "\n",
       "    .dataframe thead th {\n",
       "        text-align: right;\n",
       "    }\n",
       "</style>\n",
       "<table border=\"1\" class=\"dataframe\">\n",
       "  <thead>\n",
       "    <tr style=\"text-align: right;\">\n",
       "      <th></th>\n",
       "      <th>customer_id</th>\n",
       "      <th>fashion_news</th>\n",
       "      <th>club_member</th>\n",
       "      <th>age</th>\n",
       "    </tr>\n",
       "  </thead>\n",
       "  <tbody>\n",
       "    <tr>\n",
       "      <th>0</th>\n",
       "      <td>0</td>\n",
       "      <td>1</td>\n",
       "      <td>1</td>\n",
       "      <td>44.0</td>\n",
       "    </tr>\n",
       "    <tr>\n",
       "      <th>1</th>\n",
       "      <td>1</td>\n",
       "      <td>1</td>\n",
       "      <td>1</td>\n",
       "      <td>33.0</td>\n",
       "    </tr>\n",
       "    <tr>\n",
       "      <th>2</th>\n",
       "      <td>2</td>\n",
       "      <td>0</td>\n",
       "      <td>0</td>\n",
       "      <td>29.0</td>\n",
       "    </tr>\n",
       "    <tr>\n",
       "      <th>3</th>\n",
       "      <td>3</td>\n",
       "      <td>0</td>\n",
       "      <td>0</td>\n",
       "      <td>21.0</td>\n",
       "    </tr>\n",
       "    <tr>\n",
       "      <th>4</th>\n",
       "      <td>4</td>\n",
       "      <td>0</td>\n",
       "      <td>0</td>\n",
       "      <td>23.0</td>\n",
       "    </tr>\n",
       "  </tbody>\n",
       "</table>\n",
       "</div>"
      ],
      "text/plain": [
       "   customer_id  fashion_news  club_member   age\n",
       "0            0             1            1  44.0\n",
       "1            1             1            1  33.0\n",
       "2            2             0            0  29.0\n",
       "3            3             0            0  21.0\n",
       "4            4             0            0  23.0"
      ]
     },
     "execution_count": 6,
     "metadata": {},
     "output_type": "execute_result"
    }
   ],
   "source": [
    "customers = pd.read_csv(\"recsys_customers.csv\")\n",
    "customers.head()"
   ]
  },
  {
   "cell_type": "code",
   "execution_count": 7,
   "id": "0ca60979",
   "metadata": {},
   "outputs": [
    {
     "data": {
      "text/plain": [
       "(41253, 4)"
      ]
     },
     "execution_count": 7,
     "metadata": {},
     "output_type": "execute_result"
    }
   ],
   "source": [
    "customers.shape"
   ]
  },
  {
   "cell_type": "markdown",
   "id": "d592752b",
   "metadata": {},
   "source": [
    "2) We want to find the columns that may have NaN values in order to handle them."
   ]
  },
  {
   "cell_type": "code",
   "execution_count": 8,
   "id": "3aec8d83",
   "metadata": {},
   "outputs": [
    {
     "data": {
      "text/plain": [
       "customer_id       0\n",
       "fashion_news      0\n",
       "club_member       0\n",
       "age             133\n",
       "dtype: int64"
      ]
     },
     "execution_count": 8,
     "metadata": {},
     "output_type": "execute_result"
    }
   ],
   "source": [
    "customers.isnull().sum()"
   ]
  },
  {
   "cell_type": "markdown",
   "id": "e0e5a817",
   "metadata": {},
   "source": [
    "Out of 4 columns, only 1 column has null values, which is age. \n",
    "\n",
    "To understand better the weight of these null values on the whole set, we can calculate their weight relative to the length of the dataset."
   ]
  },
  {
   "cell_type": "code",
   "execution_count": 9,
   "id": "5bdcf5e6",
   "metadata": {},
   "outputs": [
    {
     "name": "stdout",
     "output_type": "stream",
     "text": [
      "The null percentage of age is: 0.0032240079509369014\n"
     ]
    }
   ],
   "source": [
    "null_percentage= customers['age'].isnull().sum()/ len(customers)\n",
    "print('The null percentage of age is: ' + str(null_percentage))"
   ]
  },
  {
   "cell_type": "markdown",
   "id": "e3f5a068",
   "metadata": {},
   "source": [
    "The percentage of missing values is quite low, around 0.32%. \n",
    "At this point we can choose to follow 2 paths:\n",
    "- Delete all the rows that contain a null value for age.\n",
    "- We can fill the null cells with the most common values for age.\n",
    "\n",
    "We decided to proceed by substituting all NaN values with the mode of the values of age, which is 26."
   ]
  },
  {
   "cell_type": "code",
   "execution_count": 10,
   "id": "7890e025",
   "metadata": {},
   "outputs": [
    {
     "data": {
      "text/plain": [
       "0    26.0\n",
       "Name: age, dtype: float64"
      ]
     },
     "execution_count": 10,
     "metadata": {},
     "output_type": "execute_result"
    }
   ],
   "source": [
    "customers.age.mode()"
   ]
  },
  {
   "cell_type": "code",
   "execution_count": 11,
   "id": "11587902",
   "metadata": {},
   "outputs": [],
   "source": [
    "customers['age'] = customers['age'].fillna(customers['age'].mode()[0])"
   ]
  },
  {
   "cell_type": "markdown",
   "id": "5e580bc2",
   "metadata": {},
   "source": [
    "3) As we want our data to be as readable and interpretable as possible, we want to convert the age type from float to integer."
   ]
  },
  {
   "cell_type": "code",
   "execution_count": 12,
   "id": "da97dbde",
   "metadata": {},
   "outputs": [
    {
     "data": {
      "text/html": [
       "<div>\n",
       "<style scoped>\n",
       "    .dataframe tbody tr th:only-of-type {\n",
       "        vertical-align: middle;\n",
       "    }\n",
       "\n",
       "    .dataframe tbody tr th {\n",
       "        vertical-align: top;\n",
       "    }\n",
       "\n",
       "    .dataframe thead th {\n",
       "        text-align: right;\n",
       "    }\n",
       "</style>\n",
       "<table border=\"1\" class=\"dataframe\">\n",
       "  <thead>\n",
       "    <tr style=\"text-align: right;\">\n",
       "      <th></th>\n",
       "      <th>customer_id</th>\n",
       "      <th>fashion_news</th>\n",
       "      <th>club_member</th>\n",
       "      <th>age</th>\n",
       "    </tr>\n",
       "  </thead>\n",
       "  <tbody>\n",
       "    <tr>\n",
       "      <th>0</th>\n",
       "      <td>0</td>\n",
       "      <td>1</td>\n",
       "      <td>1</td>\n",
       "      <td>44</td>\n",
       "    </tr>\n",
       "    <tr>\n",
       "      <th>1</th>\n",
       "      <td>1</td>\n",
       "      <td>1</td>\n",
       "      <td>1</td>\n",
       "      <td>33</td>\n",
       "    </tr>\n",
       "    <tr>\n",
       "      <th>2</th>\n",
       "      <td>2</td>\n",
       "      <td>0</td>\n",
       "      <td>0</td>\n",
       "      <td>29</td>\n",
       "    </tr>\n",
       "    <tr>\n",
       "      <th>3</th>\n",
       "      <td>3</td>\n",
       "      <td>0</td>\n",
       "      <td>0</td>\n",
       "      <td>21</td>\n",
       "    </tr>\n",
       "    <tr>\n",
       "      <th>4</th>\n",
       "      <td>4</td>\n",
       "      <td>0</td>\n",
       "      <td>0</td>\n",
       "      <td>23</td>\n",
       "    </tr>\n",
       "  </tbody>\n",
       "</table>\n",
       "</div>"
      ],
      "text/plain": [
       "   customer_id  fashion_news  club_member  age\n",
       "0            0             1            1   44\n",
       "1            1             1            1   33\n",
       "2            2             0            0   29\n",
       "3            3             0            0   21\n",
       "4            4             0            0   23"
      ]
     },
     "execution_count": 12,
     "metadata": {},
     "output_type": "execute_result"
    }
   ],
   "source": [
    "customers[\"age\"] = customers[\"age\"].apply(lambda x: int(x))\n",
    "customers.head()"
   ]
  },
  {
   "cell_type": "markdown",
   "id": "ad47dd32",
   "metadata": {},
   "source": [
    "4) To get a better insight of our data we want to divide customers in 5 categories depending on their age. \n",
    "\n",
    "To simplify things, we calculate the maximum and minimum of the age values and then we create our \"clusters\"."
   ]
  },
  {
   "cell_type": "code",
   "execution_count": 53,
   "id": "3564e8b0",
   "metadata": {},
   "outputs": [
    {
     "name": "stdout",
     "output_type": "stream",
     "text": [
      "The minimum age recorded is: 16\n",
      "The maximum age recorded is: 91\n"
     ]
    }
   ],
   "source": [
    "print('The minimum age recorded is: ' + str(min(customers[\"age\"])))\n",
    "print('The maximum age recorded is: ' + str(max(customers[\"age\"])))"
   ]
  },
  {
   "cell_type": "markdown",
   "id": "32655b14",
   "metadata": {},
   "source": [
    "What are we doing? We assign each customer to the proper age category adding a column to the initial table."
   ]
  },
  {
   "cell_type": "code",
   "execution_count": 14,
   "id": "4388c2b4",
   "metadata": {},
   "outputs": [
    {
     "data": {
      "text/html": [
       "<div>\n",
       "<style scoped>\n",
       "    .dataframe tbody tr th:only-of-type {\n",
       "        vertical-align: middle;\n",
       "    }\n",
       "\n",
       "    .dataframe tbody tr th {\n",
       "        vertical-align: top;\n",
       "    }\n",
       "\n",
       "    .dataframe thead th {\n",
       "        text-align: right;\n",
       "    }\n",
       "</style>\n",
       "<table border=\"1\" class=\"dataframe\">\n",
       "  <thead>\n",
       "    <tr style=\"text-align: right;\">\n",
       "      <th></th>\n",
       "      <th>customer_id</th>\n",
       "      <th>fashion_news</th>\n",
       "      <th>club_member</th>\n",
       "      <th>age</th>\n",
       "      <th>age_group</th>\n",
       "    </tr>\n",
       "  </thead>\n",
       "  <tbody>\n",
       "    <tr>\n",
       "      <th>0</th>\n",
       "      <td>0</td>\n",
       "      <td>1</td>\n",
       "      <td>1</td>\n",
       "      <td>44</td>\n",
       "      <td>30-44</td>\n",
       "    </tr>\n",
       "    <tr>\n",
       "      <th>1</th>\n",
       "      <td>1</td>\n",
       "      <td>1</td>\n",
       "      <td>1</td>\n",
       "      <td>33</td>\n",
       "      <td>30-44</td>\n",
       "    </tr>\n",
       "    <tr>\n",
       "      <th>2</th>\n",
       "      <td>2</td>\n",
       "      <td>0</td>\n",
       "      <td>0</td>\n",
       "      <td>29</td>\n",
       "      <td>15-29</td>\n",
       "    </tr>\n",
       "    <tr>\n",
       "      <th>3</th>\n",
       "      <td>3</td>\n",
       "      <td>0</td>\n",
       "      <td>0</td>\n",
       "      <td>21</td>\n",
       "      <td>15-29</td>\n",
       "    </tr>\n",
       "    <tr>\n",
       "      <th>4</th>\n",
       "      <td>4</td>\n",
       "      <td>0</td>\n",
       "      <td>0</td>\n",
       "      <td>23</td>\n",
       "      <td>15-29</td>\n",
       "    </tr>\n",
       "    <tr>\n",
       "      <th>...</th>\n",
       "      <td>...</td>\n",
       "      <td>...</td>\n",
       "      <td>...</td>\n",
       "      <td>...</td>\n",
       "      <td>...</td>\n",
       "    </tr>\n",
       "    <tr>\n",
       "      <th>41248</th>\n",
       "      <td>41248</td>\n",
       "      <td>1</td>\n",
       "      <td>1</td>\n",
       "      <td>33</td>\n",
       "      <td>30-44</td>\n",
       "    </tr>\n",
       "    <tr>\n",
       "      <th>41249</th>\n",
       "      <td>41249</td>\n",
       "      <td>0</td>\n",
       "      <td>0</td>\n",
       "      <td>25</td>\n",
       "      <td>15-29</td>\n",
       "    </tr>\n",
       "    <tr>\n",
       "      <th>41250</th>\n",
       "      <td>41250</td>\n",
       "      <td>1</td>\n",
       "      <td>1</td>\n",
       "      <td>20</td>\n",
       "      <td>15-29</td>\n",
       "    </tr>\n",
       "    <tr>\n",
       "      <th>41251</th>\n",
       "      <td>41251</td>\n",
       "      <td>1</td>\n",
       "      <td>1</td>\n",
       "      <td>29</td>\n",
       "      <td>15-29</td>\n",
       "    </tr>\n",
       "    <tr>\n",
       "      <th>41252</th>\n",
       "      <td>41252</td>\n",
       "      <td>0</td>\n",
       "      <td>0</td>\n",
       "      <td>24</td>\n",
       "      <td>15-29</td>\n",
       "    </tr>\n",
       "  </tbody>\n",
       "</table>\n",
       "<p>41253 rows × 5 columns</p>\n",
       "</div>"
      ],
      "text/plain": [
       "       customer_id  fashion_news  club_member  age age_group\n",
       "0                0             1            1   44     30-44\n",
       "1                1             1            1   33     30-44\n",
       "2                2             0            0   29     15-29\n",
       "3                3             0            0   21     15-29\n",
       "4                4             0            0   23     15-29\n",
       "...            ...           ...          ...  ...       ...\n",
       "41248        41248             1            1   33     30-44\n",
       "41249        41249             0            0   25     15-29\n",
       "41250        41250             1            1   20     15-29\n",
       "41251        41251             1            1   29     15-29\n",
       "41252        41252             0            0   24     15-29\n",
       "\n",
       "[41253 rows x 5 columns]"
      ]
     },
     "execution_count": 14,
     "metadata": {},
     "output_type": "execute_result"
    }
   ],
   "source": [
    "bins = [15, 30, 45, 60, 70, 92]\n",
    "groups = ['15-29', '30-44', '45-59','60-79', '80+']\n",
    "\n",
    "customers['age_group'] = pd.cut(customers.age, bins, labels = groups, include_lowest=True)\n",
    "customers"
   ]
  },
  {
   "cell_type": "markdown",
   "id": "cad94496",
   "metadata": {},
   "source": [
    "After that we have categorized each customer, we can start to count how many members belong to each category. We do this using the group by function. Obviously, the total number of the members in each category is equal to the length of the dataset."
   ]
  },
  {
   "cell_type": "code",
   "execution_count": 15,
   "id": "52b9829b",
   "metadata": {},
   "outputs": [
    {
     "data": {
      "text/plain": [
       "age_group\n",
       "15-29    20465\n",
       "30-44     9971\n",
       "45-59     9533\n",
       "60-79     1111\n",
       "80+        173\n",
       "dtype: int64"
      ]
     },
     "execution_count": 15,
     "metadata": {},
     "output_type": "execute_result"
    }
   ],
   "source": [
    "age_group_counts = customers.groupby('age_group').size()\n",
    "age_group_counts"
   ]
  },
  {
   "cell_type": "code",
   "execution_count": 54,
   "id": "9496322b",
   "metadata": {},
   "outputs": [
    {
     "data": {
      "text/plain": [
       "\" same as doing\\nfrom collections import Counter \\nage_group_counts2 = Counter(customers['age_group'])\\nage_group_counts2 \""
      ]
     },
     "execution_count": 54,
     "metadata": {},
     "output_type": "execute_result"
    }
   ],
   "source": [
    "''' same as doing\n",
    "from collections import Counter \n",
    "age_group_counts2 = Counter(customers['age_group'])\n",
    "age_group_counts2 '''"
   ]
  },
  {
   "cell_type": "markdown",
   "id": "34fc8130",
   "metadata": {},
   "source": [
    "5) We are know ready to plot our age groups into a barplot to see the hetereogeneity of our dataset. In fact, as we expected, there are much more younger customers with respect to older ones."
   ]
  },
  {
   "cell_type": "code",
   "execution_count": 17,
   "id": "952c2fbe",
   "metadata": {},
   "outputs": [
    {
     "data": {
      "text/html": [
       "<div>\n",
       "<style scoped>\n",
       "    .dataframe tbody tr th:only-of-type {\n",
       "        vertical-align: middle;\n",
       "    }\n",
       "\n",
       "    .dataframe tbody tr th {\n",
       "        vertical-align: top;\n",
       "    }\n",
       "\n",
       "    .dataframe thead th {\n",
       "        text-align: right;\n",
       "    }\n",
       "</style>\n",
       "<table border=\"1\" class=\"dataframe\">\n",
       "  <thead>\n",
       "    <tr style=\"text-align: right;\">\n",
       "      <th></th>\n",
       "      <th>Age Group</th>\n",
       "      <th>Count</th>\n",
       "    </tr>\n",
       "  </thead>\n",
       "  <tbody>\n",
       "    <tr>\n",
       "      <th>0</th>\n",
       "      <td>15-29</td>\n",
       "      <td>20465</td>\n",
       "    </tr>\n",
       "    <tr>\n",
       "      <th>1</th>\n",
       "      <td>30-44</td>\n",
       "      <td>9971</td>\n",
       "    </tr>\n",
       "    <tr>\n",
       "      <th>2</th>\n",
       "      <td>45-59</td>\n",
       "      <td>9533</td>\n",
       "    </tr>\n",
       "    <tr>\n",
       "      <th>3</th>\n",
       "      <td>60-79</td>\n",
       "      <td>1111</td>\n",
       "    </tr>\n",
       "    <tr>\n",
       "      <th>4</th>\n",
       "      <td>80+</td>\n",
       "      <td>173</td>\n",
       "    </tr>\n",
       "  </tbody>\n",
       "</table>\n",
       "</div>"
      ],
      "text/plain": [
       "  Age Group  Count\n",
       "0     15-29  20465\n",
       "1     30-44   9971\n",
       "2     45-59   9533\n",
       "3     60-79   1111\n",
       "4       80+    173"
      ]
     },
     "execution_count": 17,
     "metadata": {},
     "output_type": "execute_result"
    }
   ],
   "source": [
    "age_group_counts_df = pd.DataFrame([age_group_counts]).T.reset_index()\n",
    "age_group_counts_df.columns = ['Age Group', 'Count']\n",
    "age_group_counts_df"
   ]
  },
  {
   "cell_type": "markdown",
   "id": "9324aff0",
   "metadata": {},
   "source": [
    "6) We can plot our results to better capture the age distribution of our data. In our dataset there are much more people under 60 years old with respect to people over 60.\n",
    "The percentage of people below 60 years old is 96.8%!!!"
   ]
  },
  {
   "cell_type": "code",
   "execution_count": 18,
   "id": "fbf04f84",
   "metadata": {},
   "outputs": [
    {
     "data": {
      "image/png": "[encoded data removed]",
      "text/plain": [
       "<Figure size 720x360 with 1 Axes>"
      ]
     },
     "metadata": {},
     "output_type": "display_data"
    }
   ],
   "source": [
    "plt.figure(figsize=(10,5))\n",
    "sns.barplot(x='Age Group', y='Count', data=age_group_counts_df)\n",
    "plt.xticks(rotation=90)\n",
    "plt.show()"
   ]
  },
  {
   "cell_type": "code",
   "execution_count": 55,
   "id": "cfdaf78d",
   "metadata": {},
   "outputs": [
    {
     "name": "stdout",
     "output_type": "stream",
     "text": [
      "The percentage of people under 60 years old is: 0.968874990909752\n"
     ]
    }
   ],
   "source": [
    "people_under_60 = age_group_counts[0]+age_group_counts[1]+age_group_counts[2]\n",
    "people_over_60 = age_group_counts[3]+age_group_counts[4]\n",
    "total_number_customers = people_under_60 + people_over_60\n",
    "print(f'The percentage of people under 60 years old is: {( people_under_60 / total_number_customers) }')"
   ]
  },
  {
   "cell_type": "markdown",
   "id": "8c51bf1b",
   "metadata": {},
   "source": [
    "7) Actually, it would be better for us also to capture how many people inside each age group have agreed to be part in the member club and how many people have activated the fashion news."
   ]
  },
  {
   "cell_type": "markdown",
   "id": "f1f96c7d",
   "metadata": {},
   "source": [
    "We know that both columns of 'club member' and 'fashion news' have two possible values:\n",
    "- 1 if the customer is subscribed to the club member or to fashion news\n",
    "- 0 if the customer is not subscribed"
   ]
  },
  {
   "cell_type": "markdown",
   "id": "76e6747e",
   "metadata": {},
   "source": [
    "#### Club membership"
   ]
  },
  {
   "cell_type": "code",
   "execution_count": 19,
   "id": "8e82fa32",
   "metadata": {},
   "outputs": [
    {
     "data": {
      "text/plain": [
       "Counter({1: 17975, 0: 23278})"
      ]
     },
     "execution_count": 19,
     "metadata": {},
     "output_type": "execute_result"
    }
   ],
   "source": [
    "from collections import Counter\n",
    "\n",
    "club_general = Counter(customers['club_member'])\n",
    "club_general"
   ]
  },
  {
   "cell_type": "markdown",
   "id": "9f145f40",
   "metadata": {},
   "source": [
    "We create a dataframe that contains the two options (being subscribed or not being subscribed) and we count how many customers there are in each of them."
   ]
  },
  {
   "cell_type": "code",
   "execution_count": 56,
   "id": "03116312",
   "metadata": {},
   "outputs": [
    {
     "data": {
      "text/html": [
       "<div>\n",
       "<style scoped>\n",
       "    .dataframe tbody tr th:only-of-type {\n",
       "        vertical-align: middle;\n",
       "    }\n",
       "\n",
       "    .dataframe tbody tr th {\n",
       "        vertical-align: top;\n",
       "    }\n",
       "\n",
       "    .dataframe thead th {\n",
       "        text-align: right;\n",
       "    }\n",
       "</style>\n",
       "<table border=\"1\" class=\"dataframe\">\n",
       "  <thead>\n",
       "    <tr style=\"text-align: right;\">\n",
       "      <th></th>\n",
       "      <th>Premium Club (1=yes, 0=no)</th>\n",
       "      <th>Count</th>\n",
       "    </tr>\n",
       "  </thead>\n",
       "  <tbody>\n",
       "    <tr>\n",
       "      <th>0</th>\n",
       "      <td>1</td>\n",
       "      <td>17975</td>\n",
       "    </tr>\n",
       "    <tr>\n",
       "      <th>1</th>\n",
       "      <td>0</td>\n",
       "      <td>23278</td>\n",
       "    </tr>\n",
       "  </tbody>\n",
       "</table>\n",
       "</div>"
      ],
      "text/plain": [
       "   Premium Club (1=yes, 0=no)  Count\n",
       "0                           1  17975\n",
       "1                           0  23278"
      ]
     },
     "execution_count": 56,
     "metadata": {},
     "output_type": "execute_result"
    }
   ],
   "source": [
    "club_general_df = pd.DataFrame([club_general]).T.reset_index()\n",
    "club_general_df.columns = ['Premium Club (1=yes, 0=no)', 'Count']\n",
    "club_general_df"
   ]
  },
  {
   "cell_type": "markdown",
   "id": "cde94760",
   "metadata": {},
   "source": [
    "We plot the graph of the dataframe. However it does not tell us a lot because we do not know to which group age each customer belongs. Therefore, we might decide to create a more accurate dataframe which always categorizes customers in two classes (subscribed or not subscribed) but at the same time, clusters the clients also by age group. In this way we can capture more information."
   ]
  },
  {
   "cell_type": "code",
   "execution_count": 22,
   "id": "bf1c61de",
   "metadata": {},
   "outputs": [
    {
     "data": {
      "image/png": "[encoded data removed]",
      "text/plain": [
       "<Figure size 720x360 with 1 Axes>"
      ]
     },
     "metadata": {},
     "output_type": "display_data"
    }
   ],
   "source": [
    "plt.figure(figsize=(10,5))\n",
    "sns.barplot(x='Premium Club (1=yes, 0=no)', y='Count', data=club_general_df)\n",
    "plt.xticks(rotation=90)\n",
    "plt.show()"
   ]
  },
  {
   "cell_type": "code",
   "execution_count": 24,
   "id": "7043251a",
   "metadata": {},
   "outputs": [
    {
     "data": {
      "text/html": [
       "<div>\n",
       "<style scoped>\n",
       "    .dataframe tbody tr th:only-of-type {\n",
       "        vertical-align: middle;\n",
       "    }\n",
       "\n",
       "    .dataframe tbody tr th {\n",
       "        vertical-align: top;\n",
       "    }\n",
       "\n",
       "    .dataframe thead th {\n",
       "        text-align: right;\n",
       "    }\n",
       "</style>\n",
       "<table border=\"1\" class=\"dataframe\">\n",
       "  <thead>\n",
       "    <tr style=\"text-align: right;\">\n",
       "      <th></th>\n",
       "      <th>age_group</th>\n",
       "      <th>club_member</th>\n",
       "      <th>count</th>\n",
       "    </tr>\n",
       "  </thead>\n",
       "  <tbody>\n",
       "    <tr>\n",
       "      <th>0</th>\n",
       "      <td>15-29</td>\n",
       "      <td>0</td>\n",
       "      <td>12039</td>\n",
       "    </tr>\n",
       "    <tr>\n",
       "      <th>1</th>\n",
       "      <td>15-29</td>\n",
       "      <td>1</td>\n",
       "      <td>8426</td>\n",
       "    </tr>\n",
       "    <tr>\n",
       "      <th>2</th>\n",
       "      <td>30-44</td>\n",
       "      <td>0</td>\n",
       "      <td>5764</td>\n",
       "    </tr>\n",
       "    <tr>\n",
       "      <th>3</th>\n",
       "      <td>30-44</td>\n",
       "      <td>1</td>\n",
       "      <td>4207</td>\n",
       "    </tr>\n",
       "    <tr>\n",
       "      <th>4</th>\n",
       "      <td>45-59</td>\n",
       "      <td>0</td>\n",
       "      <td>4938</td>\n",
       "    </tr>\n",
       "    <tr>\n",
       "      <th>5</th>\n",
       "      <td>45-59</td>\n",
       "      <td>1</td>\n",
       "      <td>4595</td>\n",
       "    </tr>\n",
       "    <tr>\n",
       "      <th>6</th>\n",
       "      <td>60-79</td>\n",
       "      <td>0</td>\n",
       "      <td>469</td>\n",
       "    </tr>\n",
       "    <tr>\n",
       "      <th>7</th>\n",
       "      <td>60-79</td>\n",
       "      <td>1</td>\n",
       "      <td>642</td>\n",
       "    </tr>\n",
       "    <tr>\n",
       "      <th>8</th>\n",
       "      <td>80+</td>\n",
       "      <td>0</td>\n",
       "      <td>68</td>\n",
       "    </tr>\n",
       "    <tr>\n",
       "      <th>9</th>\n",
       "      <td>80+</td>\n",
       "      <td>1</td>\n",
       "      <td>105</td>\n",
       "    </tr>\n",
       "  </tbody>\n",
       "</table>\n",
       "</div>"
      ],
      "text/plain": [
       "  age_group  club_member  count\n",
       "0     15-29            0  12039\n",
       "1     15-29            1   8426\n",
       "2     30-44            0   5764\n",
       "3     30-44            1   4207\n",
       "4     45-59            0   4938\n",
       "5     45-59            1   4595\n",
       "6     60-79            0    469\n",
       "7     60-79            1    642\n",
       "8       80+            0     68\n",
       "9       80+            1    105"
      ]
     },
     "execution_count": 24,
     "metadata": {},
     "output_type": "execute_result"
    }
   ],
   "source": [
    "club_member_df = customers.groupby(['age_group', 'club_member']).count().reset_index()\n",
    "club_member_df = club_member_df.drop(columns=['fashion_news', 'age'])\n",
    "club_member_df.columns = ['age_group', 'club_member', 'count']\n",
    "club_member_df"
   ]
  },
  {
   "cell_type": "markdown",
   "id": "03cead59",
   "metadata": {},
   "source": [
    "For instance, on average there are more people which are not subscribed to the premium club. However, most of the people who are subscribed are youngsters. For what concerns elderly people, their percentage of influence in the dataset is very small."
   ]
  },
  {
   "cell_type": "code",
   "execution_count": 25,
   "id": "afc37087",
   "metadata": {},
   "outputs": [
    {
     "data": {
      "image/png": "[encoded data removed]",
      "text/plain": [
       "<Figure size 720x360 with 1 Axes>"
      ]
     },
     "metadata": {},
     "output_type": "display_data"
    }
   ],
   "source": [
    "plt.figure(figsize=(10,5))\n",
    "sns.barplot(x='age_group', y='count', hue='club_member', data=club_member_df)\n",
    "plt.xticks(rotation=90)\n",
    "plt.show()"
   ]
  },
  {
   "cell_type": "markdown",
   "id": "b733af43",
   "metadata": {},
   "source": [
    "#### Fashion news"
   ]
  },
  {
   "cell_type": "code",
   "execution_count": 27,
   "id": "6a552791",
   "metadata": {},
   "outputs": [
    {
     "data": {
      "text/html": [
       "<div>\n",
       "<style scoped>\n",
       "    .dataframe tbody tr th:only-of-type {\n",
       "        vertical-align: middle;\n",
       "    }\n",
       "\n",
       "    .dataframe tbody tr th {\n",
       "        vertical-align: top;\n",
       "    }\n",
       "\n",
       "    .dataframe thead th {\n",
       "        text-align: right;\n",
       "    }\n",
       "</style>\n",
       "<table border=\"1\" class=\"dataframe\">\n",
       "  <thead>\n",
       "    <tr style=\"text-align: right;\">\n",
       "      <th></th>\n",
       "      <th>Fashion News (1=yes, 0=no)</th>\n",
       "      <th>Count</th>\n",
       "    </tr>\n",
       "  </thead>\n",
       "  <tbody>\n",
       "    <tr>\n",
       "      <th>0</th>\n",
       "      <td>1</td>\n",
       "      <td>18213</td>\n",
       "    </tr>\n",
       "    <tr>\n",
       "      <th>1</th>\n",
       "      <td>0</td>\n",
       "      <td>23040</td>\n",
       "    </tr>\n",
       "  </tbody>\n",
       "</table>\n",
       "</div>"
      ],
      "text/plain": [
       "   Fashion News (1=yes, 0=no)  Count\n",
       "0                           1  18213\n",
       "1                           0  23040"
      ]
     },
     "execution_count": 27,
     "metadata": {},
     "output_type": "execute_result"
    }
   ],
   "source": [
    "from collections import Counter\n",
    "fashion_general = Counter(customers['fashion_news'])\n",
    "\n",
    "fashion_general_df = pd.DataFrame([fashion_general]).T.reset_index()\n",
    "fashion_general_df.columns = ['Fashion News (1=yes, 0=no)', 'Count']\n",
    "fashion_general_df"
   ]
  },
  {
   "cell_type": "code",
   "execution_count": 57,
   "id": "d616da4f",
   "metadata": {},
   "outputs": [
    {
     "data": {
      "image/png": "[encoded data removed]",
      "text/plain": [
       "<Figure size 720x360 with 1 Axes>"
      ]
     },
     "metadata": {},
     "output_type": "display_data"
    }
   ],
   "source": [
    "plt.figure(figsize=(10,5))\n",
    "sns.barplot(x='Fashion News (1=yes, 0=no)', y='Count', data=fashion_general_df)\n",
    "plt.xticks(rotation=90)\n",
    "plt.show()"
   ]
  },
  {
   "cell_type": "code",
   "execution_count": 28,
   "id": "df63582b",
   "metadata": {},
   "outputs": [
    {
     "data": {
      "text/html": [
       "<div>\n",
       "<style scoped>\n",
       "    .dataframe tbody tr th:only-of-type {\n",
       "        vertical-align: middle;\n",
       "    }\n",
       "\n",
       "    .dataframe tbody tr th {\n",
       "        vertical-align: top;\n",
       "    }\n",
       "\n",
       "    .dataframe thead th {\n",
       "        text-align: right;\n",
       "    }\n",
       "</style>\n",
       "<table border=\"1\" class=\"dataframe\">\n",
       "  <thead>\n",
       "    <tr style=\"text-align: right;\">\n",
       "      <th></th>\n",
       "      <th>age_group</th>\n",
       "      <th>fashion_news</th>\n",
       "      <th>count</th>\n",
       "    </tr>\n",
       "  </thead>\n",
       "  <tbody>\n",
       "    <tr>\n",
       "      <th>0</th>\n",
       "      <td>15-29</td>\n",
       "      <td>0</td>\n",
       "      <td>11901</td>\n",
       "    </tr>\n",
       "    <tr>\n",
       "      <th>1</th>\n",
       "      <td>15-29</td>\n",
       "      <td>1</td>\n",
       "      <td>8564</td>\n",
       "    </tr>\n",
       "    <tr>\n",
       "      <th>2</th>\n",
       "      <td>30-44</td>\n",
       "      <td>0</td>\n",
       "      <td>5710</td>\n",
       "    </tr>\n",
       "    <tr>\n",
       "      <th>3</th>\n",
       "      <td>30-44</td>\n",
       "      <td>1</td>\n",
       "      <td>4261</td>\n",
       "    </tr>\n",
       "    <tr>\n",
       "      <th>4</th>\n",
       "      <td>45-59</td>\n",
       "      <td>0</td>\n",
       "      <td>4899</td>\n",
       "    </tr>\n",
       "    <tr>\n",
       "      <th>5</th>\n",
       "      <td>45-59</td>\n",
       "      <td>1</td>\n",
       "      <td>4634</td>\n",
       "    </tr>\n",
       "    <tr>\n",
       "      <th>6</th>\n",
       "      <td>60-79</td>\n",
       "      <td>0</td>\n",
       "      <td>462</td>\n",
       "    </tr>\n",
       "    <tr>\n",
       "      <th>7</th>\n",
       "      <td>60-79</td>\n",
       "      <td>1</td>\n",
       "      <td>649</td>\n",
       "    </tr>\n",
       "    <tr>\n",
       "      <th>8</th>\n",
       "      <td>80+</td>\n",
       "      <td>0</td>\n",
       "      <td>68</td>\n",
       "    </tr>\n",
       "    <tr>\n",
       "      <th>9</th>\n",
       "      <td>80+</td>\n",
       "      <td>1</td>\n",
       "      <td>105</td>\n",
       "    </tr>\n",
       "  </tbody>\n",
       "</table>\n",
       "</div>"
      ],
      "text/plain": [
       "  age_group  fashion_news  count\n",
       "0     15-29             0  11901\n",
       "1     15-29             1   8564\n",
       "2     30-44             0   5710\n",
       "3     30-44             1   4261\n",
       "4     45-59             0   4899\n",
       "5     45-59             1   4634\n",
       "6     60-79             0    462\n",
       "7     60-79             1    649\n",
       "8       80+             0     68\n",
       "9       80+             1    105"
      ]
     },
     "execution_count": 28,
     "metadata": {},
     "output_type": "execute_result"
    }
   ],
   "source": [
    "fashion_news_df = customers.groupby(['age_group', 'fashion_news']).count().reset_index()\n",
    "fashion_news_df = fashion_news_df.drop(columns=['club_member', 'age'])\n",
    "fashion_news_df.columns = ['age_group', 'fashion_news', 'count']\n",
    "fashion_news_df"
   ]
  },
  {
   "cell_type": "markdown",
   "id": "aceaf907",
   "metadata": {},
   "source": [
    "From the graph underneath, we can see again that yougsters are a vast majority of members connected to fashion news. However, the probability that a person over 60 is connected to fashion news is higher to not being connected with respect to younger people."
   ]
  },
  {
   "cell_type": "code",
   "execution_count": 29,
   "id": "9dd750b4",
   "metadata": {},
   "outputs": [
    {
     "data": {
      "image/png": "[encoded data removed]",
      "text/plain": [
       "<Figure size 720x360 with 1 Axes>"
      ]
     },
     "metadata": {},
     "output_type": "display_data"
    }
   ],
   "source": [
    "plt.figure(figsize=(10,5))\n",
    "sns.barplot(x='age_group', y='count', hue='fashion_news', data=fashion_news_df)\n",
    "plt.xticks(rotation=90)\n",
    "plt.show()"
   ]
  },
  {
   "cell_type": "markdown",
   "id": "d387efda",
   "metadata": {},
   "source": [
    "As a conclusion, what useful information can we use for our recommendation system?\n",
    "- Data of customers in the cutomers' dataset is not very homogeneous (almost 97% of the population is below 60 years old).\n",
    "- People over 60 years old have an higher probability to be subscribed to fashion news and member club with respect to people under 60 years old.\n",
    "- In general there are more people who are not into these activities."
   ]
  },
  {
   "cell_type": "markdown",
   "id": "543f223d",
   "metadata": {},
   "source": [
    "# ARTICLES"
   ]
  },
  {
   "cell_type": "markdown",
   "id": "6bce0f59",
   "metadata": {},
   "source": [
    "In the second part of our data analysis, we will study the different articles that our company sells. The final aim is to be able to understand when different articles are similiar or different and therefore, when to suggest one of them basing on the previous orders. \n",
    "Let's take a look to this dataset:"
   ]
  },
  {
   "cell_type": "code",
   "execution_count": 31,
   "id": "09687fb8",
   "metadata": {},
   "outputs": [
    {
     "data": {
      "text/html": [
       "<div>\n",
       "<style scoped>\n",
       "    .dataframe tbody tr th:only-of-type {\n",
       "        vertical-align: middle;\n",
       "    }\n",
       "\n",
       "    .dataframe tbody tr th {\n",
       "        vertical-align: top;\n",
       "    }\n",
       "\n",
       "    .dataframe thead th {\n",
       "        text-align: right;\n",
       "    }\n",
       "</style>\n",
       "<table border=\"1\" class=\"dataframe\">\n",
       "  <thead>\n",
       "    <tr style=\"text-align: right;\">\n",
       "      <th></th>\n",
       "      <th>article_id</th>\n",
       "      <th>prod_name</th>\n",
       "      <th>product_type</th>\n",
       "      <th>product_type_name</th>\n",
       "      <th>product_group_name</th>\n",
       "      <th>colour_group</th>\n",
       "      <th>colour_group_name</th>\n",
       "      <th>perceived_colour_value</th>\n",
       "      <th>perceived_colour_value_name</th>\n",
       "      <th>perceived_colour_master</th>\n",
       "      <th>perceived_colour_master_name</th>\n",
       "      <th>department</th>\n",
       "      <th>department_name</th>\n",
       "      <th>index</th>\n",
       "      <th>index_name</th>\n",
       "      <th>index_group</th>\n",
       "      <th>index_group_name</th>\n",
       "      <th>section</th>\n",
       "      <th>section_name</th>\n",
       "      <th>garment_group</th>\n",
       "      <th>garment_group_name</th>\n",
       "    </tr>\n",
       "  </thead>\n",
       "  <tbody>\n",
       "    <tr>\n",
       "      <th>0</th>\n",
       "      <td>0</td>\n",
       "      <td>20 den 1p Stockings</td>\n",
       "      <td>304</td>\n",
       "      <td>Underwear Tights</td>\n",
       "      <td>Socks &amp; Tights</td>\n",
       "      <td>9</td>\n",
       "      <td>Black</td>\n",
       "      <td>4</td>\n",
       "      <td>Dark</td>\n",
       "      <td>5</td>\n",
       "      <td>Black</td>\n",
       "      <td>3608</td>\n",
       "      <td>Tights basic</td>\n",
       "      <td>B</td>\n",
       "      <td>Lingeries/Tights</td>\n",
       "      <td>1</td>\n",
       "      <td>Ladieswear</td>\n",
       "      <td>62</td>\n",
       "      <td>Womens Nightwear, Socks &amp; Tigh</td>\n",
       "      <td>1021</td>\n",
       "      <td>Socks and Tights</td>\n",
       "    </tr>\n",
       "    <tr>\n",
       "      <th>1</th>\n",
       "      <td>1</td>\n",
       "      <td>Shape Up 30 den 1p Tights</td>\n",
       "      <td>273</td>\n",
       "      <td>Leggings/Tights</td>\n",
       "      <td>Garment Lower body</td>\n",
       "      <td>9</td>\n",
       "      <td>Black</td>\n",
       "      <td>4</td>\n",
       "      <td>Dark</td>\n",
       "      <td>5</td>\n",
       "      <td>Black</td>\n",
       "      <td>3608</td>\n",
       "      <td>Tights basic</td>\n",
       "      <td>B</td>\n",
       "      <td>Lingeries/Tights</td>\n",
       "      <td>1</td>\n",
       "      <td>Ladieswear</td>\n",
       "      <td>62</td>\n",
       "      <td>Womens Nightwear, Socks &amp; Tigh</td>\n",
       "      <td>1021</td>\n",
       "      <td>Socks and Tights</td>\n",
       "    </tr>\n",
       "    <tr>\n",
       "      <th>2</th>\n",
       "      <td>2</td>\n",
       "      <td>Support 40 den 1p Tights</td>\n",
       "      <td>304</td>\n",
       "      <td>Underwear Tights</td>\n",
       "      <td>Socks &amp; Tights</td>\n",
       "      <td>9</td>\n",
       "      <td>Black</td>\n",
       "      <td>4</td>\n",
       "      <td>Dark</td>\n",
       "      <td>5</td>\n",
       "      <td>Black</td>\n",
       "      <td>3608</td>\n",
       "      <td>Tights basic</td>\n",
       "      <td>B</td>\n",
       "      <td>Lingeries/Tights</td>\n",
       "      <td>1</td>\n",
       "      <td>Ladieswear</td>\n",
       "      <td>62</td>\n",
       "      <td>Womens Nightwear, Socks &amp; Tigh</td>\n",
       "      <td>1021</td>\n",
       "      <td>Socks and Tights</td>\n",
       "    </tr>\n",
       "    <tr>\n",
       "      <th>3</th>\n",
       "      <td>3</td>\n",
       "      <td>200 den 1p Tights</td>\n",
       "      <td>304</td>\n",
       "      <td>Underwear Tights</td>\n",
       "      <td>Socks &amp; Tights</td>\n",
       "      <td>9</td>\n",
       "      <td>Black</td>\n",
       "      <td>4</td>\n",
       "      <td>Dark</td>\n",
       "      <td>5</td>\n",
       "      <td>Black</td>\n",
       "      <td>3608</td>\n",
       "      <td>Tights basic</td>\n",
       "      <td>B</td>\n",
       "      <td>Lingeries/Tights</td>\n",
       "      <td>1</td>\n",
       "      <td>Ladieswear</td>\n",
       "      <td>62</td>\n",
       "      <td>Womens Nightwear, Socks &amp; Tigh</td>\n",
       "      <td>1021</td>\n",
       "      <td>Socks and Tights</td>\n",
       "    </tr>\n",
       "    <tr>\n",
       "      <th>4</th>\n",
       "      <td>4</td>\n",
       "      <td>Control Top 50 den 1p Tights</td>\n",
       "      <td>273</td>\n",
       "      <td>Leggings/Tights</td>\n",
       "      <td>Garment Lower body</td>\n",
       "      <td>9</td>\n",
       "      <td>Black</td>\n",
       "      <td>4</td>\n",
       "      <td>Dark</td>\n",
       "      <td>5</td>\n",
       "      <td>Black</td>\n",
       "      <td>3608</td>\n",
       "      <td>Tights basic</td>\n",
       "      <td>B</td>\n",
       "      <td>Lingeries/Tights</td>\n",
       "      <td>1</td>\n",
       "      <td>Ladieswear</td>\n",
       "      <td>62</td>\n",
       "      <td>Womens Nightwear, Socks &amp; Tigh</td>\n",
       "      <td>1021</td>\n",
       "      <td>Socks and Tights</td>\n",
       "    </tr>\n",
       "  </tbody>\n",
       "</table>\n",
       "</div>"
      ],
      "text/plain": [
       "   article_id                     prod_name  ...  garment_group garment_group_name\n",
       "0           0           20 den 1p Stockings  ...           1021   Socks and Tights\n",
       "1           1     Shape Up 30 den 1p Tights  ...           1021   Socks and Tights\n",
       "2           2      Support 40 den 1p Tights  ...           1021   Socks and Tights\n",
       "3           3             200 den 1p Tights  ...           1021   Socks and Tights\n",
       "4           4  Control Top 50 den 1p Tights  ...           1021   Socks and Tights\n",
       "\n",
       "[5 rows x 21 columns]"
      ]
     },
     "execution_count": 31,
     "metadata": {},
     "output_type": "execute_result"
    }
   ],
   "source": [
    "articles = pd.read_csv(\"recsys_articles.csv\")\n",
    "articles.head()"
   ]
  },
  {
   "cell_type": "markdown",
   "id": "59050575",
   "metadata": {},
   "source": [
    "As we can easily see, this dataset has a more complex structure than the one analyzed before, but we can for sure ignore some columns.\n",
    "Each category is represented by two columns and for this reason, we can take only one and discard the other.\n",
    "For example, each product has the variable 'product_type' containing its ID code and the variable 'product_type_name' that is the full name of the product.\n",
    "Therefore, we can choose some variables to consider and someother to ignore."
   ]
  },
  {
   "cell_type": "markdown",
   "id": "faa61b89",
   "metadata": {},
   "source": [
    "1) As we did for customers, we want to check how many values are null. Luckily, this time we have zero null values."
   ]
  },
  {
   "cell_type": "code",
   "execution_count": 32,
   "id": "e0c83056",
   "metadata": {},
   "outputs": [
    {
     "data": {
      "text/plain": [
       "article_id                      0\n",
       "prod_name                       0\n",
       "product_type                    0\n",
       "product_type_name               0\n",
       "product_group_name              0\n",
       "colour_group                    0\n",
       "colour_group_name               0\n",
       "perceived_colour_value          0\n",
       "perceived_colour_value_name     0\n",
       "perceived_colour_master         0\n",
       "perceived_colour_master_name    0\n",
       "department                      0\n",
       "department_name                 0\n",
       "index                           0\n",
       "index_name                      0\n",
       "index_group                     0\n",
       "index_group_name                0\n",
       "section                         0\n",
       "section_name                    0\n",
       "garment_group                   0\n",
       "garment_group_name              0\n",
       "dtype: int64"
      ]
     },
     "execution_count": 32,
     "metadata": {},
     "output_type": "execute_result"
    }
   ],
   "source": [
    "articles.isnull().sum()"
   ]
  },
  {
   "cell_type": "markdown",
   "id": "603d0efc",
   "metadata": {},
   "source": [
    "2) Now we can group our articles in different ways, starting from the division in categories."
   ]
  },
  {
   "cell_type": "markdown",
   "id": "885a9f67",
   "metadata": {},
   "source": [
    "#### Categories"
   ]
  },
  {
   "cell_type": "markdown",
   "id": "1347a463",
   "metadata": {},
   "source": [
    "We want to see how our products are partitioned accoridng to their category. We analyze how these categories are structured and we find the number of articles for each of them."
   ]
  },
  {
   "cell_type": "markdown",
   "id": "54a7e708",
   "metadata": {},
   "source": [
    "From the dataframe, we see that the product type with more articles is 'Trousers', with exactly 972 different models."
   ]
  },
  {
   "cell_type": "code",
   "execution_count": 33,
   "id": "0112bb74",
   "metadata": {},
   "outputs": [
    {
     "data": {
      "text/html": [
       "<div>\n",
       "<style scoped>\n",
       "    .dataframe tbody tr th:only-of-type {\n",
       "        vertical-align: middle;\n",
       "    }\n",
       "\n",
       "    .dataframe tbody tr th {\n",
       "        vertical-align: top;\n",
       "    }\n",
       "\n",
       "    .dataframe thead th {\n",
       "        text-align: right;\n",
       "    }\n",
       "</style>\n",
       "<table border=\"1\" class=\"dataframe\">\n",
       "  <thead>\n",
       "    <tr style=\"text-align: right;\">\n",
       "      <th></th>\n",
       "      <th>Type</th>\n",
       "      <th>Count</th>\n",
       "    </tr>\n",
       "  </thead>\n",
       "  <tbody>\n",
       "    <tr>\n",
       "      <th>18</th>\n",
       "      <td>Trousers</td>\n",
       "      <td>972</td>\n",
       "    </tr>\n",
       "    <tr>\n",
       "      <th>3</th>\n",
       "      <td>Sweater</td>\n",
       "      <td>635</td>\n",
       "    </tr>\n",
       "    <tr>\n",
       "      <th>11</th>\n",
       "      <td>Dress</td>\n",
       "      <td>578</td>\n",
       "    </tr>\n",
       "    <tr>\n",
       "      <th>21</th>\n",
       "      <td>Top</td>\n",
       "      <td>422</td>\n",
       "    </tr>\n",
       "    <tr>\n",
       "      <th>17</th>\n",
       "      <td>T-shirt</td>\n",
       "      <td>382</td>\n",
       "    </tr>\n",
       "    <tr>\n",
       "      <th>...</th>\n",
       "      <td>...</td>\n",
       "      <td>...</td>\n",
       "    </tr>\n",
       "    <tr>\n",
       "      <th>30</th>\n",
       "      <td>Braces</td>\n",
       "      <td>1</td>\n",
       "    </tr>\n",
       "    <tr>\n",
       "      <th>78</th>\n",
       "      <td>Hairband</td>\n",
       "      <td>1</td>\n",
       "    </tr>\n",
       "    <tr>\n",
       "      <th>79</th>\n",
       "      <td>Flat shoes</td>\n",
       "      <td>1</td>\n",
       "    </tr>\n",
       "    <tr>\n",
       "      <th>31</th>\n",
       "      <td>Nipple covers</td>\n",
       "      <td>1</td>\n",
       "    </tr>\n",
       "    <tr>\n",
       "      <th>33</th>\n",
       "      <td>Bra extender</td>\n",
       "      <td>1</td>\n",
       "    </tr>\n",
       "  </tbody>\n",
       "</table>\n",
       "<p>82 rows × 2 columns</p>\n",
       "</div>"
      ],
      "text/plain": [
       "             Type  Count\n",
       "18       Trousers    972\n",
       "3         Sweater    635\n",
       "11          Dress    578\n",
       "21            Top    422\n",
       "17        T-shirt    382\n",
       "..            ...    ...\n",
       "30         Braces      1\n",
       "78       Hairband      1\n",
       "79     Flat shoes      1\n",
       "31  Nipple covers      1\n",
       "33   Bra extender      1\n",
       "\n",
       "[82 rows x 2 columns]"
      ]
     },
     "execution_count": 33,
     "metadata": {},
     "output_type": "execute_result"
    }
   ],
   "source": [
    "type_article_count = Counter(articles['product_type_name'])\n",
    "type_article_count_df = pd.DataFrame([type_article_count]).T.reset_index()\n",
    "type_article_count_df.columns = ['Type', 'Count']\n",
    "type_article_count_df.sort_values(by='Count', ascending=False) #We sort the dataframe in order to see the biggest types withot any code"
   ]
  },
  {
   "cell_type": "markdown",
   "id": "1567a15e",
   "metadata": {},
   "source": [
    "Let's see a visual representation:"
   ]
  },
  {
   "cell_type": "markdown",
   "id": "3bdc3bbe",
   "metadata": {},
   "source": [
    "The plot underneath is useful, but also too caothic (82 categories are too many). A great solution is to regroup our categories (types) in some larger categories (groups)."
   ]
  },
  {
   "cell_type": "code",
   "execution_count": 34,
   "id": "3b5709a6",
   "metadata": {},
   "outputs": [
    {
     "data": {
      "image/png": "[encoded data removed]",
      "text/plain": [
       "<Figure size 720x360 with 1 Axes>"
      ]
     },
     "metadata": {},
     "output_type": "display_data"
    }
   ],
   "source": [
    "plt.figure(figsize=(10,5))\n",
    "sns.barplot(x='Type', y='Count', data=type_article_count_df)\n",
    "plt.xticks(rotation=90)\n",
    "plt.show()"
   ]
  },
  {
   "cell_type": "markdown",
   "id": "0dae99c6",
   "metadata": {},
   "source": [
    "This plot is useful, but also to caothic (82 categories are too many) so we can regroup our categories (types) in some larger categories (group)."
   ]
  },
  {
   "cell_type": "code",
   "execution_count": 35,
   "id": "c06866d1",
   "metadata": {},
   "outputs": [
    {
     "data": {
      "text/html": [
       "<div>\n",
       "<style scoped>\n",
       "    .dataframe tbody tr th:only-of-type {\n",
       "        vertical-align: middle;\n",
       "    }\n",
       "\n",
       "    .dataframe tbody tr th {\n",
       "        vertical-align: top;\n",
       "    }\n",
       "\n",
       "    .dataframe thead th {\n",
       "        text-align: right;\n",
       "    }\n",
       "</style>\n",
       "<table border=\"1\" class=\"dataframe\">\n",
       "  <thead>\n",
       "    <tr style=\"text-align: right;\">\n",
       "      <th></th>\n",
       "      <th>Group</th>\n",
       "      <th>Count</th>\n",
       "    </tr>\n",
       "  </thead>\n",
       "  <tbody>\n",
       "    <tr>\n",
       "      <th>3</th>\n",
       "      <td>Garment Upper body</td>\n",
       "      <td>2799</td>\n",
       "    </tr>\n",
       "    <tr>\n",
       "      <th>1</th>\n",
       "      <td>Garment Lower body</td>\n",
       "      <td>1428</td>\n",
       "    </tr>\n",
       "    <tr>\n",
       "      <th>7</th>\n",
       "      <td>Garment Full body</td>\n",
       "      <td>632</td>\n",
       "    </tr>\n",
       "    <tr>\n",
       "      <th>4</th>\n",
       "      <td>Underwear</td>\n",
       "      <td>547</td>\n",
       "    </tr>\n",
       "    <tr>\n",
       "      <th>6</th>\n",
       "      <td>Accessories</td>\n",
       "      <td>378</td>\n",
       "    </tr>\n",
       "    <tr>\n",
       "      <th>0</th>\n",
       "      <td>Socks &amp; Tights</td>\n",
       "      <td>245</td>\n",
       "    </tr>\n",
       "    <tr>\n",
       "      <th>9</th>\n",
       "      <td>Swimwear</td>\n",
       "      <td>233</td>\n",
       "    </tr>\n",
       "    <tr>\n",
       "      <th>8</th>\n",
       "      <td>Shoes</td>\n",
       "      <td>135</td>\n",
       "    </tr>\n",
       "    <tr>\n",
       "      <th>5</th>\n",
       "      <td>Unknown</td>\n",
       "      <td>67</td>\n",
       "    </tr>\n",
       "    <tr>\n",
       "      <th>10</th>\n",
       "      <td>Nightwear</td>\n",
       "      <td>60</td>\n",
       "    </tr>\n",
       "    <tr>\n",
       "      <th>2</th>\n",
       "      <td>Items</td>\n",
       "      <td>10</td>\n",
       "    </tr>\n",
       "    <tr>\n",
       "      <th>11</th>\n",
       "      <td>Bags</td>\n",
       "      <td>2</td>\n",
       "    </tr>\n",
       "  </tbody>\n",
       "</table>\n",
       "</div>"
      ],
      "text/plain": [
       "                 Group  Count\n",
       "3   Garment Upper body   2799\n",
       "1   Garment Lower body   1428\n",
       "7    Garment Full body    632\n",
       "4            Underwear    547\n",
       "6          Accessories    378\n",
       "0       Socks & Tights    245\n",
       "9             Swimwear    233\n",
       "8                Shoes    135\n",
       "5              Unknown     67\n",
       "10           Nightwear     60\n",
       "2                Items     10\n",
       "11                Bags      2"
      ]
     },
     "execution_count": 35,
     "metadata": {},
     "output_type": "execute_result"
    }
   ],
   "source": [
    "group_article_count = Counter(articles['product_group_name'])\n",
    "group_article_count_df = pd.DataFrame([group_article_count]).T.reset_index()\n",
    "group_article_count_df.columns = ['Group', 'Count']\n",
    "group_article_count_df.sort_values(by='Count', ascending=False)"
   ]
  },
  {
   "cell_type": "markdown",
   "id": "40ffb8f7",
   "metadata": {},
   "source": [
    "This time, we directly see all the classification for groups, where the winner is Garment Upper body, with 2799 different articles."
   ]
  },
  {
   "cell_type": "markdown",
   "id": "7681a5e5",
   "metadata": {},
   "source": [
    "One more time, the plot:"
   ]
  },
  {
   "cell_type": "code",
   "execution_count": 36,
   "id": "d719a0bc",
   "metadata": {},
   "outputs": [
    {
     "data": {
      "image/png": "[encoded data removed]",
      "text/plain": [
       "<Figure size 720x360 with 1 Axes>"
      ]
     },
     "metadata": {},
     "output_type": "display_data"
    }
   ],
   "source": [
    "plt.figure(figsize=(10,5))\n",
    "sns.barplot(x='Group', y='Count', data=group_article_count_df)\n",
    "plt.xticks(rotation=90)\n",
    "plt.show()"
   ]
  },
  {
   "cell_type": "markdown",
   "id": "b581ff11",
   "metadata": {},
   "source": [
    "Now we have a more simpler plot, where we can identify the top categories just by seeing it."
   ]
  },
  {
   "cell_type": "markdown",
   "id": "c2efe707",
   "metadata": {},
   "source": [
    "# TRANSACTIONS"
   ]
  },
  {
   "cell_type": "code",
   "execution_count": 37,
   "id": "8100d18e",
   "metadata": {},
   "outputs": [
    {
     "data": {
      "text/html": [
       "<div>\n",
       "<style scoped>\n",
       "    .dataframe tbody tr th:only-of-type {\n",
       "        vertical-align: middle;\n",
       "    }\n",
       "\n",
       "    .dataframe tbody tr th {\n",
       "        vertical-align: top;\n",
       "    }\n",
       "\n",
       "    .dataframe thead th {\n",
       "        text-align: right;\n",
       "    }\n",
       "</style>\n",
       "<table border=\"1\" class=\"dataframe\">\n",
       "  <thead>\n",
       "    <tr style=\"text-align: right;\">\n",
       "      <th></th>\n",
       "      <th>t_dat</th>\n",
       "      <th>customer_id</th>\n",
       "      <th>article_id</th>\n",
       "    </tr>\n",
       "  </thead>\n",
       "  <tbody>\n",
       "    <tr>\n",
       "      <th>0</th>\n",
       "      <td>2020-09-02</td>\n",
       "      <td>7</td>\n",
       "      <td>599</td>\n",
       "    </tr>\n",
       "    <tr>\n",
       "      <th>1</th>\n",
       "      <td>2020-09-02</td>\n",
       "      <td>7</td>\n",
       "      <td>2600</td>\n",
       "    </tr>\n",
       "    <tr>\n",
       "      <th>2</th>\n",
       "      <td>2020-09-02</td>\n",
       "      <td>7</td>\n",
       "      <td>2063</td>\n",
       "    </tr>\n",
       "    <tr>\n",
       "      <th>3</th>\n",
       "      <td>2020-09-02</td>\n",
       "      <td>7</td>\n",
       "      <td>5188</td>\n",
       "    </tr>\n",
       "    <tr>\n",
       "      <th>4</th>\n",
       "      <td>2020-09-02</td>\n",
       "      <td>17</td>\n",
       "      <td>5111</td>\n",
       "    </tr>\n",
       "  </tbody>\n",
       "</table>\n",
       "</div>"
      ],
      "text/plain": [
       "        t_dat  customer_id  article_id\n",
       "0  2020-09-02            7         599\n",
       "1  2020-09-02            7        2600\n",
       "2  2020-09-02            7        2063\n",
       "3  2020-09-02            7        5188\n",
       "4  2020-09-02           17        5111"
      ]
     },
     "execution_count": 37,
     "metadata": {},
     "output_type": "execute_result"
    }
   ],
   "source": [
    "transactions = pd.read_csv(\"recsys_transactions.csv\")\n",
    "transactions.head()"
   ]
  },
  {
   "cell_type": "markdown",
   "id": "f975f700",
   "metadata": {},
   "source": [
    "The last dataset we are going to study is \"recsys_transactions.csv\". Its information are the date of purchase, the customer id and the product id. The same customer can purchase more articles.\n",
    "\n",
    "To be in do doubt, we check there are Null values that might interfere with our analysis."
   ]
  },
  {
   "cell_type": "code",
   "execution_count": 38,
   "id": "b468b374",
   "metadata": {},
   "outputs": [
    {
     "data": {
      "text/plain": [
       "t_dat          0\n",
       "customer_id    0\n",
       "article_id     0\n",
       "dtype: int64"
      ]
     },
     "execution_count": 38,
     "metadata": {},
     "output_type": "execute_result"
    }
   ],
   "source": [
    "transactions.isnull().sum()"
   ]
  },
  {
   "cell_type": "markdown",
   "id": "1baf694e",
   "metadata": {},
   "source": [
    "# INGLESE PESSIMO, DA RIVEDERE  \n",
    "\n",
    "This result was not hard to predict.\n",
    "Indeed, looking to this dataset, we observe that it is based on a relationship between the other 2 datasets so, all the rows are composed by the IDs of an article and and a costumer.\n",
    "Without one of these 2 values, the row will give us zero relevant informations and so would be unuseful to process it.\n",
    "\n"
   ]
  },
  {
   "cell_type": "markdown",
   "id": "de0c97f3",
   "metadata": {},
   "source": [
    "We would like to see how many purchases has done each customer. We create a dataframe with 2 columns: on one side the customer ID and on the other the number of purchases each customer has made."
   ]
  },
  {
   "cell_type": "code",
   "execution_count": 39,
   "id": "a100afc2",
   "metadata": {},
   "outputs": [],
   "source": [
    "from collections import Counter\n",
    "customer_transactions_count = Counter(transactions['customer_id'])\n",
    "#transactions.groupby('customer_id').size()\n",
    "#outputs a long dictionary with key the id of the customer and value the number of purchases he or she has made"
   ]
  },
  {
   "cell_type": "code",
   "execution_count": 40,
   "id": "c3a49fcc",
   "metadata": {
    "scrolled": true
   },
   "outputs": [
    {
     "data": {
      "text/html": [
       "<div>\n",
       "<style scoped>\n",
       "    .dataframe tbody tr th:only-of-type {\n",
       "        vertical-align: middle;\n",
       "    }\n",
       "\n",
       "    .dataframe tbody tr th {\n",
       "        vertical-align: top;\n",
       "    }\n",
       "\n",
       "    .dataframe thead th {\n",
       "        text-align: right;\n",
       "    }\n",
       "</style>\n",
       "<table border=\"1\" class=\"dataframe\">\n",
       "  <thead>\n",
       "    <tr style=\"text-align: right;\">\n",
       "      <th></th>\n",
       "      <th>Customer ID</th>\n",
       "      <th>Number of Transactions</th>\n",
       "    </tr>\n",
       "  </thead>\n",
       "  <tbody>\n",
       "    <tr>\n",
       "      <th>0</th>\n",
       "      <td>7</td>\n",
       "      <td>20</td>\n",
       "    </tr>\n",
       "    <tr>\n",
       "      <th>1</th>\n",
       "      <td>17</td>\n",
       "      <td>7</td>\n",
       "    </tr>\n",
       "    <tr>\n",
       "      <th>2</th>\n",
       "      <td>20</td>\n",
       "      <td>8</td>\n",
       "    </tr>\n",
       "    <tr>\n",
       "      <th>3</th>\n",
       "      <td>56</td>\n",
       "      <td>10</td>\n",
       "    </tr>\n",
       "    <tr>\n",
       "      <th>4</th>\n",
       "      <td>69</td>\n",
       "      <td>12</td>\n",
       "    </tr>\n",
       "  </tbody>\n",
       "</table>\n",
       "</div>"
      ],
      "text/plain": [
       "   Customer ID  Number of Transactions\n",
       "0            7                      20\n",
       "1           17                       7\n",
       "2           20                       8\n",
       "3           56                      10\n",
       "4           69                      12"
      ]
     },
     "execution_count": 40,
     "metadata": {},
     "output_type": "execute_result"
    }
   ],
   "source": [
    "customer_transactions_count_df = pd.DataFrame([customer_transactions_count]).T.reset_index()\n",
    "customer_transactions_count_df.columns = ['Customer ID', 'Number of Transactions']\n",
    "#customer_transactions_count_df= customer_transactions_count_df.sort_values(by='Customer ID', ascending=True).reset_index()\n",
    "customer_transactions_count_df.head()"
   ]
  },
  {
   "cell_type": "markdown",
   "id": "a82d1f7a",
   "metadata": {},
   "source": [
    "The customer who has ultimated the highest amount of purchases is:"
   ]
  },
  {
   "cell_type": "code",
   "execution_count": 41,
   "id": "16e15a8b",
   "metadata": {
    "scrolled": true
   },
   "outputs": [
    {
     "name": "stdout",
     "output_type": "stream",
     "text": [
      "The users with the highest amount of purchase are: [9197]\n",
      "With number of transactions: 104\n"
     ]
    }
   ],
   "source": [
    "max_user_transaction = customer_transactions_count_df['Number of Transactions'].max() #find the max number of transactions by a costumer\n",
    "user_list = []\n",
    "for i in customer_transactions_count.keys():\n",
    "    if customer_transactions_count[i] == max_user_transaction:\n",
    "        user_list.append(i)\n",
    "print(\"The users with the highest amount of purchase are: \" + str(user_list) + '\\nWith number of transactions: ' + str(max_user_transaction))"
   ]
  },
  {
   "cell_type": "markdown",
   "id": "a9e98d5f",
   "metadata": {},
   "source": [
    "We used a list to map the users because we could have found a tie (2 different users did the same number of purchase) and in order to not lose information, we pick everyone."
   ]
  },
  {
   "cell_type": "markdown",
   "id": "ff414d47",
   "metadata": {},
   "source": [
    "It is also interesting to see everything on the other way around, so how many times each item has been bought by customers."
   ]
  },
  {
   "cell_type": "code",
   "execution_count": 42,
   "id": "f292de7b",
   "metadata": {},
   "outputs": [],
   "source": [
    "article_transactions_count = Counter(transactions['article_id'])"
   ]
  },
  {
   "cell_type": "code",
   "execution_count": 43,
   "id": "e69e9418",
   "metadata": {},
   "outputs": [
    {
     "data": {
      "text/html": [
       "<div>\n",
       "<style scoped>\n",
       "    .dataframe tbody tr th:only-of-type {\n",
       "        vertical-align: middle;\n",
       "    }\n",
       "\n",
       "    .dataframe tbody tr th {\n",
       "        vertical-align: top;\n",
       "    }\n",
       "\n",
       "    .dataframe thead th {\n",
       "        text-align: right;\n",
       "    }\n",
       "</style>\n",
       "<table border=\"1\" class=\"dataframe\">\n",
       "  <thead>\n",
       "    <tr style=\"text-align: right;\">\n",
       "      <th></th>\n",
       "      <th>Article ID</th>\n",
       "      <th>Number of Transactions</th>\n",
       "    </tr>\n",
       "  </thead>\n",
       "  <tbody>\n",
       "    <tr>\n",
       "      <th>0</th>\n",
       "      <td>599</td>\n",
       "      <td>147</td>\n",
       "    </tr>\n",
       "    <tr>\n",
       "      <th>1</th>\n",
       "      <td>2600</td>\n",
       "      <td>56</td>\n",
       "    </tr>\n",
       "    <tr>\n",
       "      <th>2</th>\n",
       "      <td>2063</td>\n",
       "      <td>407</td>\n",
       "    </tr>\n",
       "    <tr>\n",
       "      <th>3</th>\n",
       "      <td>5188</td>\n",
       "      <td>59</td>\n",
       "    </tr>\n",
       "    <tr>\n",
       "      <th>4</th>\n",
       "      <td>5111</td>\n",
       "      <td>272</td>\n",
       "    </tr>\n",
       "  </tbody>\n",
       "</table>\n",
       "</div>"
      ],
      "text/plain": [
       "   Article ID  Number of Transactions\n",
       "0         599                     147\n",
       "1        2600                      56\n",
       "2        2063                     407\n",
       "3        5188                      59\n",
       "4        5111                     272"
      ]
     },
     "execution_count": 43,
     "metadata": {},
     "output_type": "execute_result"
    }
   ],
   "source": [
    "article_transactions_count_df = pd.DataFrame([article_transactions_count]).T.reset_index()\n",
    "article_transactions_count_df.columns = ['Article ID', 'Number of Transactions']\n",
    "article_transactions_count_df.head()"
   ]
  },
  {
   "cell_type": "markdown",
   "id": "aada502c",
   "metadata": {},
   "source": [
    "Again, just to be sure, we check that there is no product thta has never been bought."
   ]
  },
  {
   "cell_type": "code",
   "execution_count": 44,
   "id": "ba3ea69b",
   "metadata": {},
   "outputs": [
    {
     "data": {
      "text/html": [
       "<div>\n",
       "<style scoped>\n",
       "    .dataframe tbody tr th:only-of-type {\n",
       "        vertical-align: middle;\n",
       "    }\n",
       "\n",
       "    .dataframe tbody tr th {\n",
       "        vertical-align: top;\n",
       "    }\n",
       "\n",
       "    .dataframe thead th {\n",
       "        text-align: right;\n",
       "    }\n",
       "</style>\n",
       "<table border=\"1\" class=\"dataframe\">\n",
       "  <thead>\n",
       "    <tr style=\"text-align: right;\">\n",
       "      <th></th>\n",
       "      <th>Article ID</th>\n",
       "      <th>Number of Transactions</th>\n",
       "    </tr>\n",
       "  </thead>\n",
       "  <tbody>\n",
       "  </tbody>\n",
       "</table>\n",
       "</div>"
      ],
      "text/plain": [
       "Empty DataFrame\n",
       "Columns: [Article ID, Number of Transactions]\n",
       "Index: []"
      ]
     },
     "execution_count": 44,
     "metadata": {},
     "output_type": "execute_result"
    }
   ],
   "source": [
    "article_transactions_count_df[article_transactions_count_df['Number of Transactions'] == '0']"
   ]
  },
  {
   "cell_type": "code",
   "execution_count": 45,
   "id": "c9ada3a3",
   "metadata": {},
   "outputs": [
    {
     "name": "stdout",
     "output_type": "stream",
     "text": [
      "The users with the highest amount of purchase are: [1419]\n",
      "With number of transactions: 1045\n"
     ]
    }
   ],
   "source": [
    "max_article_transaction =article_transactions_count_df['Number of Transactions'].max() #find the max number of transactions by a costumer\n",
    "article_list = []\n",
    "for i in article_transactions_count.keys():\n",
    "    if article_transactions_count[i] == max_article_transaction:\n",
    "        article_list.append(i)\n",
    "print(\"The users with the highest amount of purchase are: \" + str(article_list) + '\\nWith number of transactions: ' + str(max_article_transaction))"
   ]
  },
  {
   "cell_type": "markdown",
   "id": "b719518b",
   "metadata": {},
   "source": [
    "Same as before, we used a list to see the most wanted articles.\n",
    "This time, we can access to more information than the case studied before.\n",
    "In fact, while for the customers we can access to a restricted range of information (lot of them are sensitive data) for products we can see more information useful to market strategies.\n",
    "So, let'see what is this id 1419:"
   ]
  },
  {
   "cell_type": "code",
   "execution_count": 46,
   "id": "1e16b9c1",
   "metadata": {},
   "outputs": [
    {
     "data": {
      "text/html": [
       "<div>\n",
       "<style scoped>\n",
       "    .dataframe tbody tr th:only-of-type {\n",
       "        vertical-align: middle;\n",
       "    }\n",
       "\n",
       "    .dataframe tbody tr th {\n",
       "        vertical-align: top;\n",
       "    }\n",
       "\n",
       "    .dataframe thead th {\n",
       "        text-align: right;\n",
       "    }\n",
       "</style>\n",
       "<table border=\"1\" class=\"dataframe\">\n",
       "  <thead>\n",
       "    <tr style=\"text-align: right;\">\n",
       "      <th></th>\n",
       "      <th>article_id</th>\n",
       "      <th>prod_name</th>\n",
       "      <th>product_type</th>\n",
       "      <th>product_type_name</th>\n",
       "      <th>product_group_name</th>\n",
       "      <th>colour_group</th>\n",
       "      <th>colour_group_name</th>\n",
       "      <th>perceived_colour_value</th>\n",
       "      <th>perceived_colour_value_name</th>\n",
       "      <th>perceived_colour_master</th>\n",
       "      <th>perceived_colour_master_name</th>\n",
       "      <th>department</th>\n",
       "      <th>department_name</th>\n",
       "      <th>index</th>\n",
       "      <th>index_name</th>\n",
       "      <th>index_group</th>\n",
       "      <th>index_group_name</th>\n",
       "      <th>section</th>\n",
       "      <th>section_name</th>\n",
       "      <th>garment_group</th>\n",
       "      <th>garment_group_name</th>\n",
       "    </tr>\n",
       "  </thead>\n",
       "  <tbody>\n",
       "    <tr>\n",
       "      <th>1419</th>\n",
       "      <td>1419</td>\n",
       "      <td>Pluto RW slacks (1)</td>\n",
       "      <td>272</td>\n",
       "      <td>Trousers</td>\n",
       "      <td>Garment Lower body</td>\n",
       "      <td>9</td>\n",
       "      <td>Black</td>\n",
       "      <td>4</td>\n",
       "      <td>Dark</td>\n",
       "      <td>5</td>\n",
       "      <td>Black</td>\n",
       "      <td>1722</td>\n",
       "      <td>Trouser</td>\n",
       "      <td>A</td>\n",
       "      <td>Ladieswear</td>\n",
       "      <td>1</td>\n",
       "      <td>Ladieswear</td>\n",
       "      <td>15</td>\n",
       "      <td>Womens Everyday Collection</td>\n",
       "      <td>1009</td>\n",
       "      <td>Trousers</td>\n",
       "    </tr>\n",
       "  </tbody>\n",
       "</table>\n",
       "</div>"
      ],
      "text/plain": [
       "      article_id            prod_name  ...  garment_group garment_group_name\n",
       "1419        1419  Pluto RW slacks (1)  ...           1009           Trousers\n",
       "\n",
       "[1 rows x 21 columns]"
      ]
     },
     "execution_count": 46,
     "metadata": {},
     "output_type": "execute_result"
    }
   ],
   "source": [
    "articles.loc[articles['article_id'] == 1419]"
   ]
  },
  {
   "cell_type": "markdown",
   "id": "6d162d69",
   "metadata": {},
   "source": [
    "This row gives us a lot of information, maybe too many.\n",
    "In fact, in our opinion, is better to focus on category in spite of single products, because we can have a more accurate analysis basing on a bigger radius of articles, avoiding in this way some outliers."
   ]
  },
  {
   "cell_type": "code",
   "execution_count": 47,
   "id": "abde08f4",
   "metadata": {},
   "outputs": [
    {
     "name": "stdout",
     "output_type": "stream",
     "text": [
      "     Type of product  Number of Transactions\n",
      "0   Underwear Tights                      61\n",
      "1    Leggings/Tights                     150\n",
      "2           Umbrella                       2\n",
      "3            Sweater                     635\n",
      "4                Bra                     280\n",
      "..               ...                     ...\n",
      "77        Other shoe                       2\n",
      "78          Hairband                       1\n",
      "79        Flat shoes                       1\n",
      "80          Dog wear                       4\n",
      "81          Bracelet                       2\n",
      "\n",
      "[82 rows x 2 columns]\n"
     ]
    }
   ],
   "source": [
    "counttype = Counter(articles['product_type_name'])\n",
    "dftypeproducts = pd.DataFrame({'Type of product':list(counttype.keys()),'Number of Transactions':list(counttype.values())})\n",
    "print (dftypeproducts)"
   ]
  },
  {
   "cell_type": "code",
   "execution_count": 48,
   "id": "e6831492",
   "metadata": {},
   "outputs": [
    {
     "name": "stdout",
     "output_type": "stream",
     "text": [
      "[('Trousers', 972)]\n"
     ]
    }
   ],
   "source": [
    "max_type_transaction = dftypeproducts['Number of Transactions'].max()\n",
    "types_list = []\n",
    "for i in counttype.keys():\n",
    "    if counttype[i] == max_type_transaction:\n",
    "        types_list.append((i,counttype[i]))\n",
    "print (types_list)"
   ]
  },
  {
   "cell_type": "code",
   "execution_count": 49,
   "id": "54bf4f9b",
   "metadata": {},
   "outputs": [
    {
     "data": {
      "image/png": "[encoded data removed]",
      "text/plain": [
       "<Figure size 864x360 with 1 Axes>"
      ]
     },
     "metadata": {},
     "output_type": "display_data"
    }
   ],
   "source": [
    "plt.figure(figsize=(12,5))\n",
    "sns.barplot(x='Type of product', y='Number of Transactions', data=dftypeproducts)\n",
    "plt.xticks(rotation=90)\n",
    "plt.show()"
   ]
  },
  {
   "cell_type": "code",
   "execution_count": 50,
   "id": "f1a9eee3",
   "metadata": {},
   "outputs": [
    {
     "name": "stdout",
     "output_type": "stream",
     "text": [
      "              Category  Number of Transactions\n",
      "0       Socks & Tights                     245\n",
      "1   Garment Lower body                    1428\n",
      "2                Items                      10\n",
      "3   Garment Upper body                    2799\n",
      "4            Underwear                     547\n",
      "5              Unknown                      67\n",
      "6          Accessories                     378\n",
      "7    Garment Full body                     632\n",
      "8                Shoes                     135\n",
      "9             Swimwear                     233\n",
      "10           Nightwear                      60\n",
      "11                Bags                       2\n"
     ]
    }
   ],
   "source": [
    "#Creare un dataframe transaction che ha al posto di article_id l'id della categoria che va preso dal file article\n",
    "countcategories = Counter(articles['product_group_name'])\n",
    "dfcategories = pd.DataFrame({'Category':list(countcategories.keys()),'Number of Transactions':list(countcategories.values())})\n",
    "print (dfcategories)"
   ]
  },
  {
   "cell_type": "code",
   "execution_count": 51,
   "id": "a2ab32c0",
   "metadata": {},
   "outputs": [
    {
     "name": "stdout",
     "output_type": "stream",
     "text": [
      "[('Garment Upper body', 2799)]\n"
     ]
    }
   ],
   "source": [
    "max_category_transaction = dfcategories['Number of Transactions'].max()\n",
    "category_list = []\n",
    "for i in countcategories.keys():\n",
    "    if countcategories[i] == max_category_transaction:\n",
    "        category_list.append((i,countcategories[i]))\n",
    "print (category_list)"
   ]
  },
  {
   "cell_type": "code",
   "execution_count": 52,
   "id": "e32be9f3",
   "metadata": {},
   "outputs": [
    {
     "data": {
      "image/png": "[encoded data removed]",
      "text/plain": [
       "<Figure size 720x360 with 1 Axes>"
      ]
     },
     "metadata": {},
     "output_type": "display_data"
    }
   ],
   "source": [
    "plt.figure(figsize=(10,5))\n",
    "sns.barplot(x='Category', y='Number of Transactions', data=dfcategories)\n",
    "plt.xticks(rotation=90)\n",
    "plt.show()"
   ]
  },
  {
   "cell_type": "code",
   "execution_count": null,
   "id": "23cc1553",
   "metadata": {},
   "outputs": [],
   "source": []
  },
  {
   "cell_type": "code",
   "execution_count": null,
   "id": "2beb295d",
   "metadata": {},
   "outputs": [],
   "source": []
  },
  {
   "cell_type": "code",
   "execution_count": null,
   "id": "e9294d17",
   "metadata": {},
   "outputs": [],
   "source": []
  }
 ],
 "metadata": {
  "kernelspec": {
   "display_name": "Python 3 (Spyder)",
   "language": "python3",
   "name": "python3"
  },
  "language_info": {
   "codemirror_mode": {
    "name": "ipython",
    "version": 3
   },
   "file_extension": ".py",
   "mimetype": "text/x-python",
   "name": "python",
   "nbconvert_exporter": "python",
   "pygments_lexer": "ipython3",
   "version": "3.8.8"
  },
  "vscode": {
   "interpreter": {
    "hash": "aee8b7b246df8f9039afb4144a1f6fd8d2ca17a180786b69acc140d282b71a49"
   }
  }
 },
 "nbformat": 4,
 "nbformat_minor": 5
}
